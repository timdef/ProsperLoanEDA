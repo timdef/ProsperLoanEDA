{
 "cells": [
  {
   "cell_type": "markdown",
   "metadata": {},
   "source": [
    "# Exploration Outline / Guide\n",
    "\n",
    "## Univariate Exploration\n",
    "\n",
    "+ Read Data  \n",
    "+ Load Libraries  \n",
    "+ Dimension and Structure  \n",
    "+ Are Listing Keys Unique? Surprisingly No  \n",
    "  + TODO: Find way to clean listing keys.  Multiple Prosper Scores (should also verify programmatically)  \n",
    "+ Summary of df  \n",
    "+ Term  \n",
    "+ LoanStatus  \n",
    "  + TODO: move correcting the factors of LoanStatus to data cleaning area?  \n",
    "  + Plot distribution of LoanStatus 'Past Due'\n",
    "  + Examine 'Canceled' Loans\n",
    "  + Add LoanStatus.Simple and Plot it\n",
    "+ Borrower APR\n",
    "+ Borrower Rate\n",
    "+ Estimated Effective Yield\n",
    "\n",
    "  \n",
    "\n",
    "Other todo's:  \n",
    "correct dataframe names"
   ]
  }
 ],
 "metadata": {
  "kernelspec": {
   "display_name": "R",
   "language": "R",
   "name": "ir"
  },
  "language_info": {
   "codemirror_mode": "r",
   "file_extension": ".r",
   "mimetype": "text/x-r-source",
   "name": "R",
   "pygments_lexer": "r",
   "version": "3.3.2"
  }
 },
 "nbformat": 4,
 "nbformat_minor": 2
}
