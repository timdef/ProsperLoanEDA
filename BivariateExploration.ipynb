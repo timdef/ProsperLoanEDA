{
 "cells": [
  {
   "cell_type": "code",
   "execution_count": 6,
   "metadata": {
    "collapsed": false,
    "deletable": true,
    "editable": true
   },
   "outputs": [
    {
     "data": {
      "text/html": [
       "'C:/Users/Tim/Documents/DAND/Prosper Loan Project/data'"
      ],
      "text/latex": [
       "'C:/Users/Tim/Documents/DAND/Prosper Loan Project/data'"
      ],
      "text/markdown": [
       "'C:/Users/Tim/Documents/DAND/Prosper Loan Project/data'"
      ],
      "text/plain": [
       "[1] \"C:/Users/Tim/Documents/DAND/Prosper Loan Project/data\""
      ]
     },
     "metadata": {},
     "output_type": "display_data"
    },
    {
     "data": {
      "text/html": [
       "'prosperLoanData.csv'"
      ],
      "text/latex": [
       "'prosperLoanData.csv'"
      ],
      "text/markdown": [
       "'prosperLoanData.csv'"
      ],
      "text/plain": [
       "[1] \"prosperLoanData.csv\""
      ]
     },
     "metadata": {},
     "output_type": "display_data"
    }
   ],
   "source": [
    "setwd('data')\n",
    "getwd()\n",
    "list.files()"
   ]
  },
  {
   "cell_type": "code",
   "execution_count": 21,
   "metadata": {
    "collapsed": false,
    "deletable": true,
    "editable": true
   },
   "outputs": [],
   "source": [
    "df <- read.csv('prosperLoanData.csv')"
   ]
  },
  {
   "cell_type": "code",
   "execution_count": 8,
   "metadata": {
    "collapsed": false,
    "deletable": true,
    "editable": true
   },
   "outputs": [
    {
     "name": "stderr",
     "output_type": "stream",
     "text": [
      "\n",
      "Attaching package: 'dplyr'\n",
      "\n",
      "The following objects are masked from 'package:plyr':\n",
      "\n",
      "    arrange, count, desc, failwith, id, mutate, rename, summarise,\n",
      "    summarize\n",
      "\n",
      "The following objects are masked from 'package:stats':\n",
      "\n",
      "    filter, lag\n",
      "\n",
      "The following objects are masked from 'package:base':\n",
      "\n",
      "    intersect, setdiff, setequal, union\n",
      "\n"
     ]
    }
   ],
   "source": [
    "library(plyr)\n",
    "library(ggplot2)\n",
    "library(dplyr)\n",
    "library(stringr)"
   ]
  },
  {
   "cell_type": "markdown",
   "metadata": {
    "deletable": true,
    "editable": true
   },
   "source": [
    "## Frequency of Term by Income Range"
   ]
  },
  {
   "cell_type": "code",
   "execution_count": null,
   "metadata": {
    "collapsed": false,
    "deletable": true,
    "editable": true
   },
   "outputs": [],
   "source": [
    "df$IncomeRange <- factor(df$IncomeRange, levels = c(\"$0\", \"$1-24,999\", \"$25,000-49,999\", \"$50,000-74,999\", \n",
    "                                                            \"$100,000+\", \"Not displayed\", \"Not employed\"))"
   ]
  },
  {
   "cell_type": "code",
   "execution_count": null,
   "metadata": {
    "collapsed": false,
    "deletable": true,
    "editable": true
   },
   "outputs": [],
   "source": [
    "#Freqency of Term by Income Range\n",
    "df %>%\n",
    "group_by(Term, IncomeRange) %>%\n",
    "summarise(num_loans = n()) %>%\n",
    "head"
   ]
  },
  {
   "cell_type": "code",
   "execution_count": null,
   "metadata": {
    "collapsed": false,
    "deletable": true,
    "editable": true
   },
   "outputs": [],
   "source": [
    "df %>%\n",
    "filter(!IncomeRange %in% c('Not displayed', 'Not employed')) %>%\n",
    "filter(!is.na(IncomeRange)) %>%\n",
    "group_by(Term, IncomeRange) %>%\n",
    "summarise(num_loans = n()) %>%\n",
    "mutate(frequency = num_loans / sum(num_loans) * 100) "
   ]
  },
  {
   "cell_type": "code",
   "execution_count": null,
   "metadata": {
    "collapsed": false,
    "deletable": true,
    "editable": true
   },
   "outputs": [],
   "source": [
    "df %>%\n",
    "filter(!IncomeRange %in% c('Not displayed', 'Not employed')) %>%\n",
    "filter(!is.na(IncomeRange)) %>%\n",
    "group_by(IncomeRange, Term) %>%\n",
    "summarise(num_loans = n()) %>%\n",
    "mutate(frequency = num_loans / sum(num_loans) * 100) %>%\n",
    "ggplot(aes(x=Term, y=frequency,fill=IncomeRange)) + geom_bar(stat=\"identity\", position=\"dodge\")"
   ]
  },
  {
   "cell_type": "markdown",
   "metadata": {
    "deletable": true,
    "editable": true
   },
   "source": [
    "This is interesting. In the shortest term 1-year loans the higher the Income Range the higher the portion of loans made in that income range.  \n",
    "Also interesting to note is that there were no 1-year loans made to people who are in the 0% income range.  \n",
    "For the middle term 3 year loans the opposite is true, and then in the 5 year term a similar pattern to the 1 yr loans reemerges.  "
   ]
  },
  {
   "cell_type": "markdown",
   "metadata": {
    "deletable": true,
    "editable": true
   },
   "source": [
    "## Proportion per Term by Loan Status"
   ]
  },
  {
   "cell_type": "code",
   "execution_count": null,
   "metadata": {
    "collapsed": false,
    "deletable": true,
    "editable": true
   },
   "outputs": [],
   "source": [
    "df %>%\n",
    "filter(!LoanStatus == 'Cancelled') %>%\n",
    "group_by(LoanStatus, Term) %>%\n",
    "summarise(number_loans = n()) %>%\n",
    "mutate(frequency = number_loans / sum(number_loans)) %>%\n",
    "ggplot(aes(x=Term, y=frequency)) + geom_bar(stat=\"Identity\") + facet_wrap(~LoanStatus)"
   ]
  },
  {
   "cell_type": "markdown",
   "metadata": {
    "deletable": true,
    "editable": true
   },
   "source": [
    "## BorrowerApr by Term"
   ]
  },
  {
   "cell_type": "code",
   "execution_count": null,
   "metadata": {
    "collapsed": false,
    "deletable": true,
    "editable": true
   },
   "outputs": [],
   "source": [
    "ggplot(df, aes(x=Term,y=BorrowerAPR, group=Term)) + geom_boxplot()"
   ]
  },
  {
   "cell_type": "markdown",
   "metadata": {
    "deletable": true,
    "editable": true
   },
   "source": [
    "## Estimated Effective Yield by Term"
   ]
  },
  {
   "cell_type": "code",
   "execution_count": null,
   "metadata": {
    "collapsed": false,
    "deletable": true,
    "editable": true
   },
   "outputs": [],
   "source": [
    "ggplot(df, aes(x=Term,y=EstimatedEffectiveYield,group=Term)) + geom_boxplot()"
   ]
  },
  {
   "cell_type": "markdown",
   "metadata": {
    "deletable": true,
    "editable": true
   },
   "source": [
    "## Original Loan Amount by Term"
   ]
  },
  {
   "cell_type": "code",
   "execution_count": null,
   "metadata": {
    "collapsed": false,
    "deletable": true,
    "editable": true
   },
   "outputs": [],
   "source": [
    "ggplot(df, aes(x=Term,y=LoanOriginalAmount,group=Term)) + geom_boxplot()"
   ]
  },
  {
   "cell_type": "markdown",
   "metadata": {
    "deletable": true,
    "editable": true
   },
   "source": [
    "## Borrower APR by Loan Status"
   ]
  },
  {
   "cell_type": "code",
   "execution_count": null,
   "metadata": {
    "collapsed": false,
    "deletable": true,
    "editable": true
   },
   "outputs": [],
   "source": [
    "ggplot(df, aes(x=LoanStatus,y=BorrowerAPR,group=LoanStatus)) + geom_boxplot() +\n",
    "theme(axis.text.x = element_text(angle = 45, hjust = 1))"
   ]
  },
  {
   "cell_type": "markdown",
   "metadata": {
    "deletable": true,
    "editable": true
   },
   "source": [
    "Completed and Current loans tend to have a lower APR than loans that are Past Due or that Defaulted."
   ]
  },
  {
   "cell_type": "code",
   "execution_count": null,
   "metadata": {
    "collapsed": false,
    "deletable": true,
    "editable": true
   },
   "outputs": [],
   "source": [
    "#may be able to delete mutate once combined\n",
    "#df %>%\n",
    "#mutate(simple.LoanStatus = ifelse(str_detect(LoanStatus, \"Past\"), 'Past Due', as.character(LoanStatus))) \n",
    "#ggplot(aes(x=simple.LoanStatus, y=ProsperScore)) + geom_jitter(alpha=.1) +\n",
    "#theme(axis.text.x = element_text(angle = 45, hjust = 1))\n",
    "#looks like Prosperscore is a good predictor\n",
    "#Does this work? Prosper Score is a number, but it's discrete. \n",
    "#Two nominal variables, one ordered. Results that not interesting, query keeps crashing"
   ]
  },
  {
   "cell_type": "markdown",
   "metadata": {
    "deletable": true,
    "editable": true
   },
   "source": [
    "## Listing Category and Loan Status"
   ]
  },
  {
   "cell_type": "code",
   "execution_count": null,
   "metadata": {
    "collapsed": true,
    "deletable": true,
    "editable": true
   },
   "outputs": [],
   "source": [
    "#can delete when combine\n",
    "#simplify listing category\n",
    "listingToCharacter <- function(numeric.category){\n",
    "    listing.categories = c(\"Not Available\", \"Debt Consolidation\", \"Home Improvement\", \"Business\",\n",
    "                       \"Personal Loan\", \"Student Use\", \"Auto\", \"Other\", \"Baby&Adoption\",\"Boat\",\n",
    "                       \"Cosmetic Procedure\", \"Engagement Ring\", \"Green Loans\", \"Household Expenses\",\n",
    "                       \"Large Purchases\", \"Medical/Dental\", \"Motorcycle\", \"RV\", \"Taxes\", \"Vacation\",\n",
    "                       \"Wedding Loans\")\n",
    "    return(listing.categories[numeric.category + 1]) \n",
    "}"
   ]
  },
  {
   "cell_type": "code",
   "execution_count": null,
   "metadata": {
    "collapsed": false,
    "deletable": true,
    "editable": true
   },
   "outputs": [],
   "source": [
    "#can delete when combine\n",
    "df$ListingCategory <- listingToCharacter(df$ListingCategory..numeric)"
   ]
  },
  {
   "cell_type": "code",
   "execution_count": null,
   "metadata": {
    "collapsed": false,
    "deletable": true,
    "editable": true
   },
   "outputs": [],
   "source": [
    "#can delete when combine\n",
    "#simplify loan status\n",
    "df$LoanStatus <- factor(df$LoanStatus, levels = c('Cancelled',\n",
    "                                                          'Defaulted',\n",
    "                                                          'Chargedoff',\n",
    "                                                          'Completed',\n",
    "                                                          'Current',\n",
    "                                                          'FinalPaymentInProgress',\n",
    "                                                          'Past Due (1-15 days)',\n",
    "                                                          'Past Due (16-30 days)',\n",
    "                                                          'Past Due (31-60 days)',\n",
    "                                                          'Past Due (61-90 days)',\n",
    "                                                          'Past Due (91-120 days)',\n",
    "                                                          'Past Due (>120 days)'\n",
    "                                                         ))\n",
    "levels(df$LoanStatus)"
   ]
  },
  {
   "cell_type": "code",
   "execution_count": null,
   "metadata": {
    "collapsed": false,
    "deletable": true,
    "editable": true
   },
   "outputs": [],
   "source": [
    "#create \n",
    "#df$simple.LoanStatus <- \n",
    "#df %>% \n",
    "#mutate(simple.LoanStatus = ifelse(str_detect(LoanStatus, \"Past\"), 'Past Due', as.character(LoanStatus))) #%>%\n",
    "#select(simple.LoanStatus)\n",
    "df$LoanStatus"
   ]
  },
  {
   "cell_type": "code",
   "execution_count": null,
   "metadata": {
    "collapsed": false,
    "deletable": true,
    "editable": true
   },
   "outputs": [],
   "source": [
    "#Are there listing Categories that are more likely to default/go past due/etc?\n",
    "#need to group Loan Statuses, take frequency\n",
    "df %>% \n",
    "select(ListingCategory, simple.LoanStatus) %>%\n",
    "filter(simple.LoanStatus != 'Cancelled') %>%\n",
    "group_by(ListingCategory, simple.LoanStatus) %>% \n",
    "summarise(rows = n()) %>%\n",
    "mutate(frequency = rows / sum(rows)) %>%\n",
    "ggplot(aes(x=simple.LoanStatus, y=frequency)) + geom_bar(stat=\"Identity\") + facet_wrap(~ListingCategory)"
   ]
  },
  {
   "cell_type": "markdown",
   "metadata": {
    "deletable": true,
    "editable": true
   },
   "source": [
    "So there is a lot we can't see in these charts, but mostly checking for distribution here. There are a couple we could check out as abberant, and we can make these charts clearer by reducing the number of loan statuses.  \n",
    "Iteratively reworked this trellis to be more readable.\n",
    "<p>Definitely this is a place to zoom in. 3, 12, etc."
   ]
  },
  {
   "cell_type": "code",
   "execution_count": null,
   "metadata": {
    "collapsed": false,
    "deletable": true,
    "editable": true
   },
   "outputs": [],
   "source": [
    "#####Loan Status  vs IncomeRange / filter with IncomeVerifiable\n",
    "#IncomeVerifiable not a true bool?\n",
    "#graph after fixing Loan Stuats levels\n",
    "df %>%\n",
    "filter(IncomeVerifiable == 'True') %>%\n",
    "group_by(IncomeRange, LoanStatus) %>%\n",
    "summarise(rows = n()) %>%\n",
    "mutate(frequency = rows / sum(rows))\n"
   ]
  },
  {
   "cell_type": "code",
   "execution_count": null,
   "metadata": {
    "collapsed": false,
    "deletable": true,
    "editable": true
   },
   "outputs": [],
   "source": [
    "#Borrower APR vs Credit Score Range(s)\n",
    "#This could perhaps be improved by creating a new Credit Score Variable\n",
    "ggplot(df, aes(BorrowerAPR, CreditScoreRangeUpper)) + geom_jitter(alpha = 1/20)"
   ]
  },
  {
   "cell_type": "markdown",
   "metadata": {
    "deletable": true,
    "editable": true
   },
   "source": [
    "This is some of what we would expect to see. The higher your Credit Score the lower your APR. <p>But the thing that jumps out is the strange cluster of loans that are hovering right above 0% Apr. Let's take a look at those.\n",
    "Also, see that line at .3? wonder if there is legal or psycological at work here."
   ]
  },
  {
   "cell_type": "code",
   "execution_count": null,
   "metadata": {
    "collapsed": false,
    "deletable": true,
    "editable": true
   },
   "outputs": [],
   "source": [
    "df %>%\n",
    "filter(CreditScoreRangeUpper < 250) %>%\n",
    "select(contains('Credit')) "
   ]
  },
  {
   "cell_type": "markdown",
   "metadata": {
    "deletable": true,
    "editable": true
   },
   "source": [
    "Looks like there is something that causes some people with no credit to be listed with a Lower Credit Score Range of 0 and an Upper of 19. It's interesting to me that loans can be made to these types of users. Might be worth exploring this population further."
   ]
  },
  {
   "cell_type": "code",
   "execution_count": null,
   "metadata": {
    "collapsed": false,
    "deletable": true,
    "editable": true
   },
   "outputs": [],
   "source": [
    "#Borrower APR vs Listing Category\n",
    "df %>%\n",
    "ggplot(aes(y=BorrowerAPR, x=ListingCategory..numeric., group=ListingCategory..numeric.)) + geom_boxplot()\n",
    "#arrange by mean"
   ]
  },
  {
   "cell_type": "markdown",
   "metadata": {
    "deletable": true,
    "editable": true
   },
   "source": [
    "Could do a t-test here to see if one category gets differnt APR than others. How does that account for other factors?"
   ]
  },
  {
   "cell_type": "code",
   "execution_count": null,
   "metadata": {
    "collapsed": false,
    "deletable": true,
    "editable": true
   },
   "outputs": [],
   "source": [
    "#Borrower APR vs Occupation\n",
    "#Probably linked to what those occupations make. \n",
    "#Let's try something different and bar plot the means\n",
    "df %>%\n",
    "group_by(Occupation) %>%\n",
    "summarise(average_apr = mean(BorrowerAPR)) %>%\n",
    "ggplot(aes(x=reorder(Occupation,desc(average_apr)), y=average_apr)) + geom_bar(stat = \"Identity\")\n",
    "#Need to re ararnge and work Income in there are a third variable"
   ]
  },
  {
   "cell_type": "code",
   "execution_count": null,
   "metadata": {
    "collapsed": false,
    "deletable": true,
    "editable": true
   },
   "outputs": [],
   "source": [
    "#Borrower APR vs Employment Duration \n",
    "#could probably do a t-test here too\n",
    "#Not available has the lowest average apr?\n",
    "#should probably be looking with boxplots\n",
    "df %>%\n",
    "group_by(EmploymentStatus) %>%\n",
    "summarise(average_apr =  mean(BorrowerAPR)) %>%\n",
    "ggplot(aes(x=reorder(EmploymentStatus, desc(average_apr)), y=average_apr)) + geom_bar(stat=\"Identity\")"
   ]
  },
  {
   "cell_type": "code",
   "execution_count": null,
   "metadata": {
    "collapsed": false,
    "deletable": true,
    "editable": true
   },
   "outputs": [],
   "source": [
    "#If employed, does the length of your employment effect borrower apr?\n",
    "#Normal with spikes? Is there a way to check how normal a distribution is?\n",
    "\n",
    "df %>%\n",
    "filter(EmploymentStatus %in% c('Self-employed','Employed','Full-time','Part-time')) %>%\n",
    "ggplot(aes(x=EmploymentStatusDuration, y=BorrowerAPR, alpha=1/100)) + geom_point()"
   ]
  },
  {
   "cell_type": "code",
   "execution_count": null,
   "metadata": {
    "collapsed": false,
    "deletable": true,
    "editable": true
   },
   "outputs": [],
   "source": [
    "#Prosper Score ----\n",
    "#ProseperScore vs Borrower State\n",
    "df %>%\n",
    "filter(!is.na(ProsperScore)) %>%\n",
    "group_by(BorrowerState) %>%\n",
    "summarise(avg_prosperscore = mean(ProsperScore)) %>%\n",
    "ggplot(aes(x=reorder(BorrowerState, avg_prosperscore),y=avg_prosperscore)) + \n",
    "geom_bar(stat=\"Identity\")"
   ]
  },
  {
   "cell_type": "code",
   "execution_count": null,
   "metadata": {
    "collapsed": false,
    "deletable": true,
    "editable": true
   },
   "outputs": [],
   "source": [
    "#Prosper Score vs Borrower APR\n",
    "df %>%\n",
    "ggplot(aes(x=ProsperScore, y=BorrowerAPR, group=ProsperScore)) + geom_boxplot()"
   ]
  },
  {
   "cell_type": "markdown",
   "metadata": {
    "deletable": true,
    "editable": true
   },
   "source": [
    "Fiarly linear, but you can see that the ProsperScore isn't the total predictor in APR"
   ]
  },
  {
   "cell_type": "code",
   "execution_count": null,
   "metadata": {
    "collapsed": false,
    "deletable": true,
    "editable": true
   },
   "outputs": [],
   "source": [
    "#Average ProsperScore vs Occupation\n",
    "#Would expect this to be very similiar to BorrowerAPR vs Occupation, maybe can lose?\n",
    "df %>%\n",
    "ggplot(aes(y=ProsperScore, x=Occupation, group=Occupation)) + geom_boxplot()"
   ]
  },
  {
   "cell_type": "code",
   "execution_count": 20,
   "metadata": {
    "collapsed": false
   },
   "outputs": [
    {
     "data": {
      "text/html": [
       "<table>\n",
       "<thead><tr><th scope=col>EmploymentStatus.simple</th><th scope=col>n()</th></tr></thead>\n",
       "<tbody>\n",
       "\t<tr><td>Employed    </td><td>99811       </td></tr>\n",
       "\t<tr><td>Not employed</td><td>  835       </td></tr>\n",
       "\t<tr><td>Part-time   </td><td> 1088       </td></tr>\n",
       "\t<tr><td>Retired     </td><td>  795       </td></tr>\n",
       "</tbody>\n",
       "</table>\n"
      ],
      "text/latex": [
       "\\begin{tabular}{r|ll}\n",
       " EmploymentStatus.simple & n()\\\\\n",
       "\\hline\n",
       "\t Employed     & 99811       \\\\\n",
       "\t Not employed &   835       \\\\\n",
       "\t Part-time    &  1088       \\\\\n",
       "\t Retired      &   795       \\\\\n",
       "\\end{tabular}\n"
      ],
      "text/markdown": [
       "\n",
       "EmploymentStatus.simple | n() | \n",
       "|---|---|---|---|\n",
       "| Employed     | 99811        | \n",
       "| Not employed |   835        | \n",
       "| Part-time    |  1088        | \n",
       "| Retired      |   795        | \n",
       "\n",
       "\n"
      ],
      "text/plain": [
       "  EmploymentStatus.simple n()  \n",
       "1 Employed                99811\n",
       "2 Not employed              835\n",
       "3 Part-time                1088\n",
       "4 Retired                   795"
      ]
     },
     "metadata": {},
     "output_type": "display_data"
    }
   ],
   "source": [
    "#group employment status type\n",
    "employed <- c('Self-employed', 'Employed', 'Full-time')\n",
    "not_answered <- c('Not available', 'Other')\n",
    "df %>%\n",
    "filter(!EmploymentStatus == \"\" ) %>%\n",
    "filter(!EmploymentStatus %in% not_answered) %>%\n",
    "mutate(EmploymentStatus.simple = ifelse(EmploymentStatus %in% employed, \"Employed\", as.character(EmploymentStatus))) %>%\n",
    "group_by(EmploymentStatus.simple) %>%\n",
    "summarise(n())"
   ]
  },
  {
   "cell_type": "code",
   "execution_count": null,
   "metadata": {
    "collapsed": true,
    "deletable": true,
    "editable": true
   },
   "outputs": [],
   "source": [
    "#ProsperScore vs Credit Range\n"
   ]
  },
  {
   "cell_type": "code",
   "execution_count": null,
   "metadata": {
    "collapsed": false,
    "deletable": true,
    "editable": true
   },
   "outputs": [],
   "source": [
    "#Listing Category ----\n",
    "#Listing Category vs Borrower State\n",
    "df %>%\n",
    "group_by(BorrowerState, ListingCategory..numeric.) %>%\n",
    "summarise(count = n()) %>%\n",
    "filter(count == max(count))\n"
   ]
  },
  {
   "cell_type": "code",
   "execution_count": null,
   "metadata": {
    "collapsed": false,
    "deletable": true,
    "editable": true
   },
   "outputs": [],
   "source": [
    "#Listing Category --\n",
    "#Occupation\n",
    "df %>%\n",
    "group_by(Occupation, ListingCategory..numeric.) %>%\n",
    "summarise(count = n()) %>%\n",
    "filter(count == max(count)) %>%\n",
    "filter(ListingCategory..numeric. != 1)"
   ]
  },
  {
   "cell_type": "code",
   "execution_count": null,
   "metadata": {
    "collapsed": true,
    "deletable": true,
    "editable": true
   },
   "outputs": [],
   "source": [
    "#Listing Category vs Employment Status\n",
    "#Basically, employed vs unemployed vs retired\n",
    "#Will do this after grouping Employment Status. "
   ]
  },
  {
   "cell_type": "code",
   "execution_count": null,
   "metadata": {
    "collapsed": false,
    "deletable": true,
    "editable": true
   },
   "outputs": [],
   "source": [
    "#Listing Category vs Credit Score\n",
    "#Do people with low credit scores list for something in particular?\n",
    "df %>%\n",
    "select(CreditScoreRangeUpper, ListingCategory..numeric.) %>%\n",
    "filter(CreditScoreRangeUpper > 250) %>%\n",
    "mutate(bin = ntile(CreditScoreRangeUpper, 5)) %>%\n",
    "group_by(bin, ListingCategory..numeric.) %>%\n",
    "summarise(count = n(),\n",
    "          minCredit = min(CreditScoreRangeUpper),\n",
    "         maxCredit = max(CreditScoreRangeUpper)) %>%\n",
    "filter(count == max(count)) "
   ]
  },
  {
   "cell_type": "code",
   "execution_count": null,
   "metadata": {
    "collapsed": false,
    "deletable": true,
    "editable": true
   },
   "outputs": [],
   "source": [
    "#--Borrower State\n",
    "#Occupation\n",
    "df %>% \n",
    "select(BorrowerState, Occupation) %>%\n",
    "filter(BorrowerState != \"\") %>%\n",
    "group_by(BorrowerState, Occupation) %>%\n",
    "summarise(count = n()) %>%\n",
    "filter(Occupation != \"Other\" & Occupation !=\"Professional\") %>%\n",
    "filter(count == max(count))\n"
   ]
  },
  {
   "cell_type": "code",
   "execution_count": null,
   "metadata": {
    "collapsed": false,
    "deletable": true,
    "editable": true
   },
   "outputs": [],
   "source": [
    "#Borrower State Income Range (most common)\n",
    "df %>%\n",
    "select(BorrowerState, IncomeRange) %>%\n",
    "group_by(BorrowerState, IncomeRange) %>%\n",
    "summarise(count = n()) %>%\n",
    "filter(count == max(count))"
   ]
  }
 ],
 "metadata": {
  "anaconda-cloud": {},
  "kernelspec": {
   "display_name": "R",
   "language": "R",
   "name": "ir"
  },
  "language_info": {
   "codemirror_mode": "r",
   "file_extension": ".r",
   "mimetype": "text/x-r-source",
   "name": "R",
   "pygments_lexer": "r",
   "version": "3.3.2"
  }
 },
 "nbformat": 4,
 "nbformat_minor": 2
}
