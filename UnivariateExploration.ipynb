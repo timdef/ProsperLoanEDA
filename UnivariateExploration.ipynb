{
 "cells": [
  {
   "cell_type": "code",
   "execution_count": 4,
   "metadata": {
    "collapsed": false,
    "deletable": true,
    "editable": true
   },
   "outputs": [
    {
     "data": {
      "text/html": [
       "'prosperLoanData.csv'"
      ],
      "text/latex": [
       "'prosperLoanData.csv'"
      ],
      "text/markdown": [
       "'prosperLoanData.csv'"
      ],
      "text/plain": [
       "[1] \"prosperLoanData.csv\""
      ]
     },
     "metadata": {},
     "output_type": "display_data"
    }
   ],
   "source": [
    "setwd('data')\n",
    "list.files()"
   ]
  },
  {
   "cell_type": "code",
   "execution_count": 2,
   "metadata": {
    "collapsed": true,
    "deletable": true,
    "editable": true
   },
   "outputs": [],
   "source": [
    "#read data\n",
    "datadf <- read.csv('prosperLoanData.csv')"
   ]
  },
  {
   "cell_type": "code",
   "execution_count": 3,
   "metadata": {
    "collapsed": false,
    "deletable": true,
    "editable": true
   },
   "outputs": [
    {
     "name": "stderr",
     "output_type": "stream",
     "text": [
      "\n",
      "Attaching package: 'dplyr'\n",
      "\n",
      "The following objects are masked from 'package:plyr':\n",
      "\n",
      "    arrange, count, desc, failwith, id, mutate, rename, summarise,\n",
      "    summarize\n",
      "\n",
      "The following objects are masked from 'package:stats':\n",
      "\n",
      "    filter, lag\n",
      "\n",
      "The following objects are masked from 'package:base':\n",
      "\n",
      "    intersect, setdiff, setequal, union\n",
      "\n"
     ]
    }
   ],
   "source": [
    "library(plyr)\n",
    "library(ggplot2)\n",
    "library(dplyr)\n",
    "library(stringr)"
   ]
  },
  {
   "cell_type": "code",
   "execution_count": 4,
   "metadata": {
    "collapsed": false,
    "deletable": true,
    "editable": true
   },
   "outputs": [
    {
     "data": {
      "text/html": [
       "<ol class=list-inline>\n",
       "\t<li>113937</li>\n",
       "\t<li>81</li>\n",
       "</ol>\n"
      ],
      "text/latex": [
       "\\begin{enumerate*}\n",
       "\\item 113937\n",
       "\\item 81\n",
       "\\end{enumerate*}\n"
      ],
      "text/markdown": [
       "1. 113937\n",
       "2. 81\n",
       "\n",
       "\n"
      ],
      "text/plain": [
       "[1] 113937     81"
      ]
     },
     "metadata": {},
     "output_type": "display_data"
    },
    {
     "name": "stdout",
     "output_type": "stream",
     "text": [
      "'data.frame':\t113937 obs. of  81 variables:\n",
      " $ ListingKey                         : Factor w/ 113066 levels \"00003546482094282EF90E5\",..: 7180 7193 6647 6669 6686 6689 6699 6706 6687 6687 ...\n",
      " $ ListingNumber                      : int  193129 1209647 81716 658116 909464 1074836 750899 768193 1023355 1023355 ...\n",
      " $ ListingCreationDate                : Factor w/ 113064 levels \"2005-11-09 20:44:28.847000000\",..: 14184 111894 6429 64760 85967 100310 72556 74019 97834 97834 ...\n",
      " $ CreditGrade                        : Factor w/ 9 levels \"\",\"A\",\"AA\",\"B\",..: 5 1 8 1 1 1 1 1 1 1 ...\n",
      " $ Term                               : int  36 36 36 36 36 60 36 36 36 36 ...\n",
      " $ LoanStatus                         : Factor w/ 12 levels \"Cancelled\",\"Chargedoff\",..: 3 4 3 4 4 4 4 4 4 4 ...\n",
      " $ ClosedDate                         : Factor w/ 2803 levels \"\",\"2005-11-25 00:00:00\",..: 1138 1 1263 1 1 1 1 1 1 1 ...\n",
      " $ BorrowerAPR                        : num  0.165 0.12 0.283 0.125 0.246 ...\n",
      " $ BorrowerRate                       : num  0.158 0.092 0.275 0.0974 0.2085 ...\n",
      " $ LenderYield                        : num  0.138 0.082 0.24 0.0874 0.1985 ...\n",
      " $ EstimatedEffectiveYield            : num  NA 0.0796 NA 0.0849 0.1832 ...\n",
      " $ EstimatedLoss                      : num  NA 0.0249 NA 0.0249 0.0925 ...\n",
      " $ EstimatedReturn                    : num  NA 0.0547 NA 0.06 0.0907 ...\n",
      " $ ProsperRating..numeric.            : int  NA 6 NA 6 3 5 2 4 7 7 ...\n",
      " $ ProsperRating..Alpha.              : Factor w/ 8 levels \"\",\"A\",\"AA\",\"B\",..: 1 2 1 2 6 4 7 5 3 3 ...\n",
      " $ ProsperScore                       : num  NA 7 NA 9 4 10 2 4 9 11 ...\n",
      " $ ListingCategory..numeric.          : int  0 2 0 16 2 1 1 2 7 7 ...\n",
      " $ BorrowerState                      : Factor w/ 52 levels \"\",\"AK\",\"AL\",\"AR\",..: 7 7 12 12 25 34 18 6 16 16 ...\n",
      " $ Occupation                         : Factor w/ 68 levels \"\",\"Accountant/CPA\",..: 37 43 37 52 21 43 50 29 24 24 ...\n",
      " $ EmploymentStatus                   : Factor w/ 9 levels \"\",\"Employed\",..: 9 2 4 2 2 2 2 2 2 2 ...\n",
      " $ EmploymentStatusDuration           : int  2 44 NA 113 44 82 172 103 269 269 ...\n",
      " $ IsBorrowerHomeowner                : Factor w/ 2 levels \"False\",\"True\": 2 1 1 2 2 2 1 1 2 2 ...\n",
      " $ CurrentlyInGroup                   : Factor w/ 2 levels \"False\",\"True\": 2 1 2 1 1 1 1 1 1 1 ...\n",
      " $ GroupKey                           : Factor w/ 707 levels \"\",\"00343376901312423168731\",..: 1 1 335 1 1 1 1 1 1 1 ...\n",
      " $ DateCreditPulled                   : Factor w/ 112992 levels \"2005-11-09 00:30:04.487000000\",..: 14347 111883 6446 64724 85857 100382 72500 73937 97888 97888 ...\n",
      " $ CreditScoreRangeLower              : int  640 680 480 800 680 740 680 700 820 820 ...\n",
      " $ CreditScoreRangeUpper              : int  659 699 499 819 699 759 699 719 839 839 ...\n",
      " $ FirstRecordedCreditLine            : Factor w/ 11586 levels \"\",\"1947-08-24 00:00:00\",..: 8639 6617 8927 2247 9498 497 8265 7685 5543 5543 ...\n",
      " $ CurrentCreditLines                 : int  5 14 NA 5 19 21 10 6 17 17 ...\n",
      " $ OpenCreditLines                    : int  4 14 NA 5 19 17 7 6 16 16 ...\n",
      " $ TotalCreditLinespast7years         : int  12 29 3 29 49 49 20 10 32 32 ...\n",
      " $ OpenRevolvingAccounts              : int  1 13 0 7 6 13 6 5 12 12 ...\n",
      " $ OpenRevolvingMonthlyPayment        : num  24 389 0 115 220 1410 214 101 219 219 ...\n",
      " $ InquiriesLast6Months               : int  3 3 0 0 1 0 0 3 1 1 ...\n",
      " $ TotalInquiries                     : num  3 5 1 1 9 2 0 16 6 6 ...\n",
      " $ CurrentDelinquencies               : int  2 0 1 4 0 0 0 0 0 0 ...\n",
      " $ AmountDelinquent                   : num  472 0 NA 10056 0 ...\n",
      " $ DelinquenciesLast7Years            : int  4 0 0 14 0 0 0 0 0 0 ...\n",
      " $ PublicRecordsLast10Years           : int  0 1 0 0 0 0 0 1 0 0 ...\n",
      " $ PublicRecordsLast12Months          : int  0 0 NA 0 0 0 0 0 0 0 ...\n",
      " $ RevolvingCreditBalance             : num  0 3989 NA 1444 6193 ...\n",
      " $ BankcardUtilization                : num  0 0.21 NA 0.04 0.81 0.39 0.72 0.13 0.11 0.11 ...\n",
      " $ AvailableBankcardCredit            : num  1500 10266 NA 30754 695 ...\n",
      " $ TotalTrades                        : num  11 29 NA 26 39 47 16 10 29 29 ...\n",
      " $ TradesNeverDelinquent..percentage. : num  0.81 1 NA 0.76 0.95 1 0.68 0.8 1 1 ...\n",
      " $ TradesOpenedLast6Months            : num  0 2 NA 0 2 0 0 0 1 1 ...\n",
      " $ DebtToIncomeRatio                  : num  0.17 0.18 0.06 0.15 0.26 0.36 0.27 0.24 0.25 0.25 ...\n",
      " $ IncomeRange                        : Factor w/ 8 levels \"$0\",\"$1-24,999\",..: 4 5 7 4 3 3 4 4 4 4 ...\n",
      " $ IncomeVerifiable                   : Factor w/ 2 levels \"False\",\"True\": 2 2 2 2 2 2 2 2 2 2 ...\n",
      " $ StatedMonthlyIncome                : num  3083 6125 2083 2875 9583 ...\n",
      " $ LoanKey                            : Factor w/ 113066 levels \"00003683605746079487FF7\",..: 100337 69837 46303 70776 71387 86505 91250 5425 908 908 ...\n",
      " $ TotalProsperLoans                  : int  NA NA NA NA 1 NA NA NA NA NA ...\n",
      " $ TotalProsperPaymentsBilled         : int  NA NA NA NA 11 NA NA NA NA NA ...\n",
      " $ OnTimeProsperPayments              : int  NA NA NA NA 11 NA NA NA NA NA ...\n",
      " $ ProsperPaymentsLessThanOneMonthLate: int  NA NA NA NA 0 NA NA NA NA NA ...\n",
      " $ ProsperPaymentsOneMonthPlusLate    : int  NA NA NA NA 0 NA NA NA NA NA ...\n",
      " $ ProsperPrincipalBorrowed           : num  NA NA NA NA 11000 NA NA NA NA NA ...\n",
      " $ ProsperPrincipalOutstanding        : num  NA NA NA NA 9948 ...\n",
      " $ ScorexChangeAtTimeOfListing        : int  NA NA NA NA NA NA NA NA NA NA ...\n",
      " $ LoanCurrentDaysDelinquent          : int  0 0 0 0 0 0 0 0 0 0 ...\n",
      " $ LoanFirstDefaultedCycleNumber      : int  NA NA NA NA NA NA NA NA NA NA ...\n",
      " $ LoanMonthsSinceOrigination         : int  78 0 86 16 6 3 11 10 3 3 ...\n",
      " $ LoanNumber                         : int  19141 134815 6466 77296 102670 123257 88353 90051 121268 121268 ...\n",
      " $ LoanOriginalAmount                 : int  9425 10000 3001 10000 15000 15000 3000 10000 10000 10000 ...\n",
      " $ LoanOriginationDate                : Factor w/ 1873 levels \"2005-11-15 00:00:00\",..: 426 1866 260 1535 1757 1821 1649 1666 1813 1813 ...\n",
      " $ LoanOriginationQuarter             : Factor w/ 33 levels \"Q1 2006\",\"Q1 2007\",..: 18 8 2 32 24 33 16 16 33 33 ...\n",
      " $ MemberKey                          : Factor w/ 90831 levels \"00003397697413387CAF966\",..: 11071 10302 33781 54939 19465 48037 60448 40951 26129 26129 ...\n",
      " $ MonthlyLoanPayment                 : num  330 319 123 321 564 ...\n",
      " $ LP_CustomerPayments                : num  11396 0 4187 5143 2820 ...\n",
      " $ LP_CustomerPrincipalPayments       : num  9425 0 3001 4091 1563 ...\n",
      " $ LP_InterestandFees                 : num  1971 0 1186 1052 1257 ...\n",
      " $ LP_ServiceFees                     : num  -133.2 0 -24.2 -108 -60.3 ...\n",
      " $ LP_CollectionFees                  : num  0 0 0 0 0 0 0 0 0 0 ...\n",
      " $ LP_GrossPrincipalLoss              : num  0 0 0 0 0 0 0 0 0 0 ...\n",
      " $ LP_NetPrincipalLoss                : num  0 0 0 0 0 0 0 0 0 0 ...\n",
      " $ LP_NonPrincipalRecoverypayments    : num  0 0 0 0 0 0 0 0 0 0 ...\n",
      " $ PercentFunded                      : num  1 1 1 1 1 1 1 1 1 1 ...\n",
      " $ Recommendations                    : int  0 0 0 0 0 0 0 0 0 0 ...\n",
      " $ InvestmentFromFriendsCount         : int  0 0 0 0 0 0 0 0 0 0 ...\n",
      " $ InvestmentFromFriendsAmount        : num  0 0 0 0 0 0 0 0 0 0 ...\n",
      " $ Investors                          : int  258 1 41 158 20 1 1 1 1 1 ...\n"
     ]
    }
   ],
   "source": [
    "dim(datadf)\n",
    "str(datadf)"
   ]
  },
  {
   "cell_type": "code",
   "execution_count": 7,
   "metadata": {
    "collapsed": false,
    "deletable": true,
    "editable": true
   },
   "outputs": [
    {
     "data": {
      "text/plain": [
       "                   ListingKey     ListingNumber    \n",
       " 17A93590655669644DB4C06:     6   Min.   :      4  \n",
       " 349D3587495831350F0F648:     4   1st Qu.: 400919  \n",
       " 47C1359638497431975670B:     4   Median : 600554  \n",
       " 8474358854651984137201C:     4   Mean   : 627886  \n",
       " DE8535960513435199406CE:     4   3rd Qu.: 892634  \n",
       " 04C13599434217079754AEE:     3   Max.   :1255725  \n",
       " (Other)                :113912                    \n",
       "                    ListingCreationDate  CreditGrade         Term      \n",
       " 2013-10-02 17:20:16.550000000:     6          :84984   Min.   :12.00  \n",
       " 2013-08-28 20:31:41.107000000:     4   C      : 5649   1st Qu.:36.00  \n",
       " 2013-09-08 09:27:44.853000000:     4   D      : 5153   Median :36.00  \n",
       " 2013-12-06 05:43:13.830000000:     4   B      : 4389   Mean   :40.83  \n",
       " 2013-12-06 11:44:58.283000000:     4   AA     : 3509   3rd Qu.:36.00  \n",
       " 2013-08-21 07:25:22.360000000:     3   HR     : 3508   Max.   :60.00  \n",
       " (Other)                      :113912   (Other): 6745                  \n",
       "                 LoanStatus                  ClosedDate     BorrowerAPR     \n",
       " Current              :56576                      :58848   Min.   :0.00653  \n",
       " Completed            :38074   2014-03-04 00:00:00:  105   1st Qu.:0.15629  \n",
       " Chargedoff           :11992   2014-02-19 00:00:00:  100   Median :0.20976  \n",
       " Defaulted            : 5018   2014-02-11 00:00:00:   92   Mean   :0.21883  \n",
       " Past Due (1-15 days) :  806   2012-10-30 00:00:00:   81   3rd Qu.:0.28381  \n",
       " Past Due (31-60 days):  363   2013-02-26 00:00:00:   78   Max.   :0.51229  \n",
       " (Other)              : 1108   (Other)            :54633   NA's   :25       \n",
       "  BorrowerRate     LenderYield      EstimatedEffectiveYield EstimatedLoss  \n",
       " Min.   :0.0000   Min.   :-0.0100   Min.   :-0.183          Min.   :0.005  \n",
       " 1st Qu.:0.1340   1st Qu.: 0.1242   1st Qu.: 0.116          1st Qu.:0.042  \n",
       " Median :0.1840   Median : 0.1730   Median : 0.162          Median :0.072  \n",
       " Mean   :0.1928   Mean   : 0.1827   Mean   : 0.169          Mean   :0.080  \n",
       " 3rd Qu.:0.2500   3rd Qu.: 0.2400   3rd Qu.: 0.224          3rd Qu.:0.112  \n",
       " Max.   :0.4975   Max.   : 0.4925   Max.   : 0.320          Max.   :0.366  \n",
       "                                    NA's   :29084           NA's   :29084  \n",
       " EstimatedReturn  ProsperRating..numeric. ProsperRating..Alpha.  ProsperScore  \n",
       " Min.   :-0.183   Min.   :1.000                  :29084         Min.   : 1.00  \n",
       " 1st Qu.: 0.074   1st Qu.:3.000           C      :18345         1st Qu.: 4.00  \n",
       " Median : 0.092   Median :4.000           B      :15581         Median : 6.00  \n",
       " Mean   : 0.096   Mean   :4.072           A      :14551         Mean   : 5.95  \n",
       " 3rd Qu.: 0.117   3rd Qu.:5.000           D      :14274         3rd Qu.: 8.00  \n",
       " Max.   : 0.284   Max.   :7.000           E      : 9795         Max.   :11.00  \n",
       " NA's   :29084    NA's   :29084           (Other):12307         NA's   :29084  \n",
       " ListingCategory..numeric. BorrowerState                      Occupation   \n",
       " Min.   : 0.000            CA     :14717   Other                   :28617  \n",
       " 1st Qu.: 1.000            TX     : 6842   Professional            :13628  \n",
       " Median : 1.000            NY     : 6729   Computer Programmer     : 4478  \n",
       " Mean   : 2.774            FL     : 6720   Executive               : 4311  \n",
       " 3rd Qu.: 3.000            IL     : 5921   Teacher                 : 3759  \n",
       " Max.   :20.000                   : 5515   Administrative Assistant: 3688  \n",
       "                           (Other):67493   (Other)                 :55456  \n",
       "      EmploymentStatus EmploymentStatusDuration IsBorrowerHomeowner\n",
       " Employed     :67322   Min.   :  0.00           False:56459        \n",
       " Full-time    :26355   1st Qu.: 26.00           True :57478        \n",
       " Self-employed: 6134   Median : 67.00                              \n",
       " Not available: 5347   Mean   : 96.07                              \n",
       " Other        : 3806   3rd Qu.:137.00                              \n",
       "              : 2255   Max.   :755.00                              \n",
       " (Other)      : 2718   NA's   :7625                                \n",
       " CurrentlyInGroup                    GroupKey                 DateCreditPulled \n",
       " False:101218                            :100596   2013-12-23 09:38:12:     6  \n",
       " True : 12719     783C3371218786870A73D20:  1140   2013-11-21 09:09:41:     4  \n",
       "                  3D4D3366260257624AB272D:   916   2013-12-06 05:43:16:     4  \n",
       "                  6A3B336601725506917317E:   698   2014-01-14 20:17:49:     4  \n",
       "                  FEF83377364176536637E50:   611   2014-02-09 12:14:41:     4  \n",
       "                  C9643379247860156A00EC0:   342   2013-09-27 22:04:54:     3  \n",
       "                  (Other)                :  9634   (Other)            :113912  \n",
       " CreditScoreRangeLower CreditScoreRangeUpper        FirstRecordedCreditLine\n",
       " Min.   :  0.0         Min.   : 19.0                            :   697    \n",
       " 1st Qu.:660.0         1st Qu.:679.0         1993-12-01 00:00:00:   185    \n",
       " Median :680.0         Median :699.0         1994-11-01 00:00:00:   178    \n",
       " Mean   :685.6         Mean   :704.6         1995-11-01 00:00:00:   168    \n",
       " 3rd Qu.:720.0         3rd Qu.:739.0         1990-04-01 00:00:00:   161    \n",
       " Max.   :880.0         Max.   :899.0         1995-03-01 00:00:00:   159    \n",
       " NA's   :591           NA's   :591           (Other)            :112389    \n",
       " CurrentCreditLines OpenCreditLines TotalCreditLinespast7years\n",
       " Min.   : 0.00      Min.   : 0.00   Min.   :  2.00            \n",
       " 1st Qu.: 7.00      1st Qu.: 6.00   1st Qu.: 17.00            \n",
       " Median :10.00      Median : 9.00   Median : 25.00            \n",
       " Mean   :10.32      Mean   : 9.26   Mean   : 26.75            \n",
       " 3rd Qu.:13.00      3rd Qu.:12.00   3rd Qu.: 35.00            \n",
       " Max.   :59.00      Max.   :54.00   Max.   :136.00            \n",
       " NA's   :7604       NA's   :7604    NA's   :697               \n",
       " OpenRevolvingAccounts OpenRevolvingMonthlyPayment InquiriesLast6Months\n",
       " Min.   : 0.00         Min.   :    0.0             Min.   :  0.000     \n",
       " 1st Qu.: 4.00         1st Qu.:  114.0             1st Qu.:  0.000     \n",
       " Median : 6.00         Median :  271.0             Median :  1.000     \n",
       " Mean   : 6.97         Mean   :  398.3             Mean   :  1.435     \n",
       " 3rd Qu.: 9.00         3rd Qu.:  525.0             3rd Qu.:  2.000     \n",
       " Max.   :51.00         Max.   :14985.0             Max.   :105.000     \n",
       "                                                   NA's   :697         \n",
       " TotalInquiries    CurrentDelinquencies AmountDelinquent  \n",
       " Min.   :  0.000   Min.   : 0.0000      Min.   :     0.0  \n",
       " 1st Qu.:  2.000   1st Qu.: 0.0000      1st Qu.:     0.0  \n",
       " Median :  4.000   Median : 0.0000      Median :     0.0  \n",
       " Mean   :  5.584   Mean   : 0.5921      Mean   :   984.5  \n",
       " 3rd Qu.:  7.000   3rd Qu.: 0.0000      3rd Qu.:     0.0  \n",
       " Max.   :379.000   Max.   :83.0000      Max.   :463881.0  \n",
       " NA's   :1159      NA's   :697          NA's   :7622      \n",
       " DelinquenciesLast7Years PublicRecordsLast10Years PublicRecordsLast12Months\n",
       " Min.   : 0.000          Min.   : 0.0000          Min.   : 0.000           \n",
       " 1st Qu.: 0.000          1st Qu.: 0.0000          1st Qu.: 0.000           \n",
       " Median : 0.000          Median : 0.0000          Median : 0.000           \n",
       " Mean   : 4.155          Mean   : 0.3126          Mean   : 0.015           \n",
       " 3rd Qu.: 3.000          3rd Qu.: 0.0000          3rd Qu.: 0.000           \n",
       " Max.   :99.000          Max.   :38.0000          Max.   :20.000           \n",
       " NA's   :990             NA's   :697              NA's   :7604             \n",
       " RevolvingCreditBalance BankcardUtilization AvailableBankcardCredit\n",
       " Min.   :      0        Min.   :0.000       Min.   :     0         \n",
       " 1st Qu.:   3121        1st Qu.:0.310       1st Qu.:   880         \n",
       " Median :   8549        Median :0.600       Median :  4100         \n",
       " Mean   :  17599        Mean   :0.561       Mean   : 11210         \n",
       " 3rd Qu.:  19521        3rd Qu.:0.840       3rd Qu.: 13180         \n",
       " Max.   :1435667        Max.   :5.950       Max.   :646285         \n",
       " NA's   :7604           NA's   :7604        NA's   :7544           \n",
       "  TotalTrades     TradesNeverDelinquent..percentage. TradesOpenedLast6Months\n",
       " Min.   :  0.00   Min.   :0.000                      Min.   : 0.000         \n",
       " 1st Qu.: 15.00   1st Qu.:0.820                      1st Qu.: 0.000         \n",
       " Median : 22.00   Median :0.940                      Median : 0.000         \n",
       " Mean   : 23.23   Mean   :0.886                      Mean   : 0.802         \n",
       " 3rd Qu.: 30.00   3rd Qu.:1.000                      3rd Qu.: 1.000         \n",
       " Max.   :126.00   Max.   :1.000                      Max.   :20.000         \n",
       " NA's   :7544     NA's   :7544                       NA's   :7544           \n",
       " DebtToIncomeRatio         IncomeRange    IncomeVerifiable StatedMonthlyIncome\n",
       " Min.   : 0.000    $25,000-49,999:32192   False:  8669     Min.   :      0    \n",
       " 1st Qu.: 0.140    $50,000-74,999:31050   True :105268     1st Qu.:   3200    \n",
       " Median : 0.220    $100,000+     :17337                    Median :   4667    \n",
       " Mean   : 0.276    $75,000-99,999:16916                    Mean   :   5608    \n",
       " 3rd Qu.: 0.320    Not displayed : 7741                    3rd Qu.:   6825    \n",
       " Max.   :10.010    $1-24,999     : 7274                    Max.   :1750003    \n",
       " NA's   :8554      (Other)       : 1427                                       \n",
       "                    LoanKey       TotalProsperLoans TotalProsperPaymentsBilled\n",
       " CB1B37030986463208432A1:     6   Min.   :0.00      Min.   :  0.00            \n",
       " 2DEE3698211017519D7333F:     4   1st Qu.:1.00      1st Qu.:  9.00            \n",
       " 9F4B37043517554537C364C:     4   Median :1.00      Median : 16.00            \n",
       " D895370150591392337ED6D:     4   Mean   :1.42      Mean   : 22.93            \n",
       " E6FB37073953690388BC56D:     4   3rd Qu.:2.00      3rd Qu.: 33.00            \n",
       " 0D8F37036734373301ED419:     3   Max.   :8.00      Max.   :141.00            \n",
       " (Other)                :113912   NA's   :91852     NA's   :91852             \n",
       " OnTimeProsperPayments ProsperPaymentsLessThanOneMonthLate\n",
       " Min.   :  0.00        Min.   : 0.00                      \n",
       " 1st Qu.:  9.00        1st Qu.: 0.00                      \n",
       " Median : 15.00        Median : 0.00                      \n",
       " Mean   : 22.27        Mean   : 0.61                      \n",
       " 3rd Qu.: 32.00        3rd Qu.: 0.00                      \n",
       " Max.   :141.00        Max.   :42.00                      \n",
       " NA's   :91852         NA's   :91852                      \n",
       " ProsperPaymentsOneMonthPlusLate ProsperPrincipalBorrowed\n",
       " Min.   : 0.00                   Min.   :    0           \n",
       " 1st Qu.: 0.00                   1st Qu.: 3500           \n",
       " Median : 0.00                   Median : 6000           \n",
       " Mean   : 0.05                   Mean   : 8472           \n",
       " 3rd Qu.: 0.00                   3rd Qu.:11000           \n",
       " Max.   :21.00                   Max.   :72499           \n",
       " NA's   :91852                   NA's   :91852           \n",
       " ProsperPrincipalOutstanding ScorexChangeAtTimeOfListing\n",
       " Min.   :    0               Min.   :-209.00            \n",
       " 1st Qu.:    0               1st Qu.: -35.00            \n",
       " Median : 1627               Median :  -3.00            \n",
       " Mean   : 2930               Mean   :  -3.22            \n",
       " 3rd Qu.: 4127               3rd Qu.:  25.00            \n",
       " Max.   :23451               Max.   : 286.00            \n",
       " NA's   :91852               NA's   :95009              \n",
       " LoanCurrentDaysDelinquent LoanFirstDefaultedCycleNumber\n",
       " Min.   :   0.0            Min.   : 0.00                \n",
       " 1st Qu.:   0.0            1st Qu.: 9.00                \n",
       " Median :   0.0            Median :14.00                \n",
       " Mean   : 152.8            Mean   :16.27                \n",
       " 3rd Qu.:   0.0            3rd Qu.:22.00                \n",
       " Max.   :2704.0            Max.   :44.00                \n",
       "                           NA's   :96985                \n",
       " LoanMonthsSinceOrigination   LoanNumber     LoanOriginalAmount\n",
       " Min.   :  0.0              Min.   :     1   Min.   : 1000     \n",
       " 1st Qu.:  6.0              1st Qu.: 37332   1st Qu.: 4000     \n",
       " Median : 21.0              Median : 68599   Median : 6500     \n",
       " Mean   : 31.9              Mean   : 69444   Mean   : 8337     \n",
       " 3rd Qu.: 65.0              3rd Qu.:101901   3rd Qu.:12000     \n",
       " Max.   :100.0              Max.   :136486   Max.   :35000     \n",
       "                                                               \n",
       "          LoanOriginationDate LoanOriginationQuarter\n",
       " 2014-01-22 00:00:00:   491   Q4 2013:14450         \n",
       " 2013-11-13 00:00:00:   490   Q1 2014:12172         \n",
       " 2014-02-19 00:00:00:   439   Q3 2013: 9180         \n",
       " 2013-10-16 00:00:00:   434   Q2 2013: 7099         \n",
       " 2014-01-28 00:00:00:   339   Q3 2012: 5632         \n",
       " 2013-09-24 00:00:00:   316   Q2 2012: 5061         \n",
       " (Other)            :111428   (Other):60343         \n",
       "                   MemberKey      MonthlyLoanPayment LP_CustomerPayments\n",
       " 63CA34120866140639431C9:     9   Min.   :   0.0     Min.   :   -2.35   \n",
       " 16083364744933457E57FB9:     8   1st Qu.: 131.6     1st Qu.: 1005.76   \n",
       " 3A2F3380477699707C81385:     8   Median : 217.7     Median : 2583.83   \n",
       " 4D9C3403302047712AD0CDD:     8   Mean   : 272.5     Mean   : 4183.08   \n",
       " 739C338135235294782AE75:     8   3rd Qu.: 371.6     3rd Qu.: 5548.40   \n",
       " 7E1733653050264822FAA3D:     8   Max.   :2251.5     Max.   :40702.39   \n",
       " (Other)                :113888                                         \n",
       " LP_CustomerPrincipalPayments LP_InterestandFees LP_ServiceFees   \n",
       " Min.   :    0.0              Min.   :   -2.35   Min.   :-664.87  \n",
       " 1st Qu.:  500.9              1st Qu.:  274.87   1st Qu.: -73.18  \n",
       " Median : 1587.5              Median :  700.84   Median : -34.44  \n",
       " Mean   : 3105.5              Mean   : 1077.54   Mean   : -54.73  \n",
       " 3rd Qu.: 4000.0              3rd Qu.: 1458.54   3rd Qu.: -13.92  \n",
       " Max.   :35000.0              Max.   :15617.03   Max.   :  32.06  \n",
       "                                                                  \n",
       " LP_CollectionFees  LP_GrossPrincipalLoss LP_NetPrincipalLoss\n",
       " Min.   :-9274.75   Min.   :  -94.2       Min.   : -954.5    \n",
       " 1st Qu.:    0.00   1st Qu.:    0.0       1st Qu.:    0.0    \n",
       " Median :    0.00   Median :    0.0       Median :    0.0    \n",
       " Mean   :  -14.24   Mean   :  700.4       Mean   :  681.4    \n",
       " 3rd Qu.:    0.00   3rd Qu.:    0.0       3rd Qu.:    0.0    \n",
       " Max.   :    0.00   Max.   :25000.0       Max.   :25000.0    \n",
       "                                                             \n",
       " LP_NonPrincipalRecoverypayments PercentFunded    Recommendations   \n",
       " Min.   :    0.00                Min.   :0.7000   Min.   : 0.00000  \n",
       " 1st Qu.:    0.00                1st Qu.:1.0000   1st Qu.: 0.00000  \n",
       " Median :    0.00                Median :1.0000   Median : 0.00000  \n",
       " Mean   :   25.14                Mean   :0.9986   Mean   : 0.04803  \n",
       " 3rd Qu.:    0.00                3rd Qu.:1.0000   3rd Qu.: 0.00000  \n",
       " Max.   :21117.90                Max.   :1.0125   Max.   :39.00000  \n",
       "                                                                    \n",
       " InvestmentFromFriendsCount InvestmentFromFriendsAmount   Investors      \n",
       " Min.   : 0.00000           Min.   :    0.00            Min.   :   1.00  \n",
       " 1st Qu.: 0.00000           1st Qu.:    0.00            1st Qu.:   2.00  \n",
       " Median : 0.00000           Median :    0.00            Median :  44.00  \n",
       " Mean   : 0.02346           Mean   :   16.55            Mean   :  80.48  \n",
       " 3rd Qu.: 0.00000           3rd Qu.:    0.00            3rd Qu.: 115.00  \n",
       " Max.   :33.00000           Max.   :25000.00            Max.   :1189.00  \n",
       "                                                                         "
      ]
     },
     "metadata": {},
     "output_type": "display_data"
    }
   ],
   "source": [
    "summary(datadf)"
   ]
  },
  {
   "cell_type": "markdown",
   "metadata": {
    "deletable": true,
    "editable": true
   },
   "source": [
    "All sorts of information there at a glance. Get to see ranges, maximums and counts. But it is a lot to take in at once, so let's dive into the individual variables that interst me."
   ]
  },
  {
   "cell_type": "code",
   "execution_count": 10,
   "metadata": {
    "collapsed": false,
    "deletable": true,
    "editable": true
   },
   "outputs": [
    {
     "data": {
      "text/html": [
       "<ol class=list-inline>\n",
       "\t<li>'ListingKey'</li>\n",
       "\t<li>'ListingNumber'</li>\n",
       "\t<li>'ListingCreationDate'</li>\n",
       "\t<li>'CreditGrade'</li>\n",
       "\t<li>'Term'</li>\n",
       "\t<li>'LoanStatus'</li>\n",
       "\t<li>'ClosedDate'</li>\n",
       "\t<li>'BorrowerAPR'</li>\n",
       "\t<li>'BorrowerRate'</li>\n",
       "\t<li>'LenderYield'</li>\n",
       "\t<li>'EstimatedEffectiveYield'</li>\n",
       "\t<li>'EstimatedLoss'</li>\n",
       "\t<li>'EstimatedReturn'</li>\n",
       "\t<li>'ProsperRating..numeric.'</li>\n",
       "\t<li>'ProsperRating..Alpha.'</li>\n",
       "\t<li>'ProsperScore'</li>\n",
       "\t<li>'ListingCategory..numeric.'</li>\n",
       "\t<li>'BorrowerState'</li>\n",
       "\t<li>'Occupation'</li>\n",
       "\t<li>'EmploymentStatus'</li>\n",
       "\t<li>'EmploymentStatusDuration'</li>\n",
       "\t<li>'IsBorrowerHomeowner'</li>\n",
       "\t<li>'CurrentlyInGroup'</li>\n",
       "\t<li>'GroupKey'</li>\n",
       "\t<li>'DateCreditPulled'</li>\n",
       "\t<li>'CreditScoreRangeLower'</li>\n",
       "\t<li>'CreditScoreRangeUpper'</li>\n",
       "\t<li>'FirstRecordedCreditLine'</li>\n",
       "\t<li>'CurrentCreditLines'</li>\n",
       "\t<li>'OpenCreditLines'</li>\n",
       "\t<li>'TotalCreditLinespast7years'</li>\n",
       "\t<li>'OpenRevolvingAccounts'</li>\n",
       "\t<li>'OpenRevolvingMonthlyPayment'</li>\n",
       "\t<li>'InquiriesLast6Months'</li>\n",
       "\t<li>'TotalInquiries'</li>\n",
       "\t<li>'CurrentDelinquencies'</li>\n",
       "\t<li>'AmountDelinquent'</li>\n",
       "\t<li>'DelinquenciesLast7Years'</li>\n",
       "\t<li>'PublicRecordsLast10Years'</li>\n",
       "\t<li>'PublicRecordsLast12Months'</li>\n",
       "\t<li>'RevolvingCreditBalance'</li>\n",
       "\t<li>'BankcardUtilization'</li>\n",
       "\t<li>'AvailableBankcardCredit'</li>\n",
       "\t<li>'TotalTrades'</li>\n",
       "\t<li>'TradesNeverDelinquent..percentage.'</li>\n",
       "\t<li>'TradesOpenedLast6Months'</li>\n",
       "\t<li>'DebtToIncomeRatio'</li>\n",
       "\t<li>'IncomeRange'</li>\n",
       "\t<li>'IncomeVerifiable'</li>\n",
       "\t<li>'StatedMonthlyIncome'</li>\n",
       "\t<li>'LoanKey'</li>\n",
       "\t<li>'TotalProsperLoans'</li>\n",
       "\t<li>'TotalProsperPaymentsBilled'</li>\n",
       "\t<li>'OnTimeProsperPayments'</li>\n",
       "\t<li>'ProsperPaymentsLessThanOneMonthLate'</li>\n",
       "\t<li>'ProsperPaymentsOneMonthPlusLate'</li>\n",
       "\t<li>'ProsperPrincipalBorrowed'</li>\n",
       "\t<li>'ProsperPrincipalOutstanding'</li>\n",
       "\t<li>'ScorexChangeAtTimeOfListing'</li>\n",
       "\t<li>'LoanCurrentDaysDelinquent'</li>\n",
       "\t<li>'LoanFirstDefaultedCycleNumber'</li>\n",
       "\t<li>'LoanMonthsSinceOrigination'</li>\n",
       "\t<li>'LoanNumber'</li>\n",
       "\t<li>'LoanOriginalAmount'</li>\n",
       "\t<li>'LoanOriginationDate'</li>\n",
       "\t<li>'LoanOriginationQuarter'</li>\n",
       "\t<li>'MemberKey'</li>\n",
       "\t<li>'MonthlyLoanPayment'</li>\n",
       "\t<li>'LP_CustomerPayments'</li>\n",
       "\t<li>'LP_CustomerPrincipalPayments'</li>\n",
       "\t<li>'LP_InterestandFees'</li>\n",
       "\t<li>'LP_ServiceFees'</li>\n",
       "\t<li>'LP_CollectionFees'</li>\n",
       "\t<li>'LP_GrossPrincipalLoss'</li>\n",
       "\t<li>'LP_NetPrincipalLoss'</li>\n",
       "\t<li>'LP_NonPrincipalRecoverypayments'</li>\n",
       "\t<li>'PercentFunded'</li>\n",
       "\t<li>'Recommendations'</li>\n",
       "\t<li>'InvestmentFromFriendsCount'</li>\n",
       "\t<li>'InvestmentFromFriendsAmount'</li>\n",
       "\t<li>'Investors'</li>\n",
       "</ol>\n"
      ],
      "text/latex": [
       "\\begin{enumerate*}\n",
       "\\item 'ListingKey'\n",
       "\\item 'ListingNumber'\n",
       "\\item 'ListingCreationDate'\n",
       "\\item 'CreditGrade'\n",
       "\\item 'Term'\n",
       "\\item 'LoanStatus'\n",
       "\\item 'ClosedDate'\n",
       "\\item 'BorrowerAPR'\n",
       "\\item 'BorrowerRate'\n",
       "\\item 'LenderYield'\n",
       "\\item 'EstimatedEffectiveYield'\n",
       "\\item 'EstimatedLoss'\n",
       "\\item 'EstimatedReturn'\n",
       "\\item 'ProsperRating..numeric.'\n",
       "\\item 'ProsperRating..Alpha.'\n",
       "\\item 'ProsperScore'\n",
       "\\item 'ListingCategory..numeric.'\n",
       "\\item 'BorrowerState'\n",
       "\\item 'Occupation'\n",
       "\\item 'EmploymentStatus'\n",
       "\\item 'EmploymentStatusDuration'\n",
       "\\item 'IsBorrowerHomeowner'\n",
       "\\item 'CurrentlyInGroup'\n",
       "\\item 'GroupKey'\n",
       "\\item 'DateCreditPulled'\n",
       "\\item 'CreditScoreRangeLower'\n",
       "\\item 'CreditScoreRangeUpper'\n",
       "\\item 'FirstRecordedCreditLine'\n",
       "\\item 'CurrentCreditLines'\n",
       "\\item 'OpenCreditLines'\n",
       "\\item 'TotalCreditLinespast7years'\n",
       "\\item 'OpenRevolvingAccounts'\n",
       "\\item 'OpenRevolvingMonthlyPayment'\n",
       "\\item 'InquiriesLast6Months'\n",
       "\\item 'TotalInquiries'\n",
       "\\item 'CurrentDelinquencies'\n",
       "\\item 'AmountDelinquent'\n",
       "\\item 'DelinquenciesLast7Years'\n",
       "\\item 'PublicRecordsLast10Years'\n",
       "\\item 'PublicRecordsLast12Months'\n",
       "\\item 'RevolvingCreditBalance'\n",
       "\\item 'BankcardUtilization'\n",
       "\\item 'AvailableBankcardCredit'\n",
       "\\item 'TotalTrades'\n",
       "\\item 'TradesNeverDelinquent..percentage.'\n",
       "\\item 'TradesOpenedLast6Months'\n",
       "\\item 'DebtToIncomeRatio'\n",
       "\\item 'IncomeRange'\n",
       "\\item 'IncomeVerifiable'\n",
       "\\item 'StatedMonthlyIncome'\n",
       "\\item 'LoanKey'\n",
       "\\item 'TotalProsperLoans'\n",
       "\\item 'TotalProsperPaymentsBilled'\n",
       "\\item 'OnTimeProsperPayments'\n",
       "\\item 'ProsperPaymentsLessThanOneMonthLate'\n",
       "\\item 'ProsperPaymentsOneMonthPlusLate'\n",
       "\\item 'ProsperPrincipalBorrowed'\n",
       "\\item 'ProsperPrincipalOutstanding'\n",
       "\\item 'ScorexChangeAtTimeOfListing'\n",
       "\\item 'LoanCurrentDaysDelinquent'\n",
       "\\item 'LoanFirstDefaultedCycleNumber'\n",
       "\\item 'LoanMonthsSinceOrigination'\n",
       "\\item 'LoanNumber'\n",
       "\\item 'LoanOriginalAmount'\n",
       "\\item 'LoanOriginationDate'\n",
       "\\item 'LoanOriginationQuarter'\n",
       "\\item 'MemberKey'\n",
       "\\item 'MonthlyLoanPayment'\n",
       "\\item 'LP\\_CustomerPayments'\n",
       "\\item 'LP\\_CustomerPrincipalPayments'\n",
       "\\item 'LP\\_InterestandFees'\n",
       "\\item 'LP\\_ServiceFees'\n",
       "\\item 'LP\\_CollectionFees'\n",
       "\\item 'LP\\_GrossPrincipalLoss'\n",
       "\\item 'LP\\_NetPrincipalLoss'\n",
       "\\item 'LP\\_NonPrincipalRecoverypayments'\n",
       "\\item 'PercentFunded'\n",
       "\\item 'Recommendations'\n",
       "\\item 'InvestmentFromFriendsCount'\n",
       "\\item 'InvestmentFromFriendsAmount'\n",
       "\\item 'Investors'\n",
       "\\end{enumerate*}\n"
      ],
      "text/markdown": [
       "1. 'ListingKey'\n",
       "2. 'ListingNumber'\n",
       "3. 'ListingCreationDate'\n",
       "4. 'CreditGrade'\n",
       "5. 'Term'\n",
       "6. 'LoanStatus'\n",
       "7. 'ClosedDate'\n",
       "8. 'BorrowerAPR'\n",
       "9. 'BorrowerRate'\n",
       "10. 'LenderYield'\n",
       "11. 'EstimatedEffectiveYield'\n",
       "12. 'EstimatedLoss'\n",
       "13. 'EstimatedReturn'\n",
       "14. 'ProsperRating..numeric.'\n",
       "15. 'ProsperRating..Alpha.'\n",
       "16. 'ProsperScore'\n",
       "17. 'ListingCategory..numeric.'\n",
       "18. 'BorrowerState'\n",
       "19. 'Occupation'\n",
       "20. 'EmploymentStatus'\n",
       "21. 'EmploymentStatusDuration'\n",
       "22. 'IsBorrowerHomeowner'\n",
       "23. 'CurrentlyInGroup'\n",
       "24. 'GroupKey'\n",
       "25. 'DateCreditPulled'\n",
       "26. 'CreditScoreRangeLower'\n",
       "27. 'CreditScoreRangeUpper'\n",
       "28. 'FirstRecordedCreditLine'\n",
       "29. 'CurrentCreditLines'\n",
       "30. 'OpenCreditLines'\n",
       "31. 'TotalCreditLinespast7years'\n",
       "32. 'OpenRevolvingAccounts'\n",
       "33. 'OpenRevolvingMonthlyPayment'\n",
       "34. 'InquiriesLast6Months'\n",
       "35. 'TotalInquiries'\n",
       "36. 'CurrentDelinquencies'\n",
       "37. 'AmountDelinquent'\n",
       "38. 'DelinquenciesLast7Years'\n",
       "39. 'PublicRecordsLast10Years'\n",
       "40. 'PublicRecordsLast12Months'\n",
       "41. 'RevolvingCreditBalance'\n",
       "42. 'BankcardUtilization'\n",
       "43. 'AvailableBankcardCredit'\n",
       "44. 'TotalTrades'\n",
       "45. 'TradesNeverDelinquent..percentage.'\n",
       "46. 'TradesOpenedLast6Months'\n",
       "47. 'DebtToIncomeRatio'\n",
       "48. 'IncomeRange'\n",
       "49. 'IncomeVerifiable'\n",
       "50. 'StatedMonthlyIncome'\n",
       "51. 'LoanKey'\n",
       "52. 'TotalProsperLoans'\n",
       "53. 'TotalProsperPaymentsBilled'\n",
       "54. 'OnTimeProsperPayments'\n",
       "55. 'ProsperPaymentsLessThanOneMonthLate'\n",
       "56. 'ProsperPaymentsOneMonthPlusLate'\n",
       "57. 'ProsperPrincipalBorrowed'\n",
       "58. 'ProsperPrincipalOutstanding'\n",
       "59. 'ScorexChangeAtTimeOfListing'\n",
       "60. 'LoanCurrentDaysDelinquent'\n",
       "61. 'LoanFirstDefaultedCycleNumber'\n",
       "62. 'LoanMonthsSinceOrigination'\n",
       "63. 'LoanNumber'\n",
       "64. 'LoanOriginalAmount'\n",
       "65. 'LoanOriginationDate'\n",
       "66. 'LoanOriginationQuarter'\n",
       "67. 'MemberKey'\n",
       "68. 'MonthlyLoanPayment'\n",
       "69. 'LP_CustomerPayments'\n",
       "70. 'LP_CustomerPrincipalPayments'\n",
       "71. 'LP_InterestandFees'\n",
       "72. 'LP_ServiceFees'\n",
       "73. 'LP_CollectionFees'\n",
       "74. 'LP_GrossPrincipalLoss'\n",
       "75. 'LP_NetPrincipalLoss'\n",
       "76. 'LP_NonPrincipalRecoverypayments'\n",
       "77. 'PercentFunded'\n",
       "78. 'Recommendations'\n",
       "79. 'InvestmentFromFriendsCount'\n",
       "80. 'InvestmentFromFriendsAmount'\n",
       "81. 'Investors'\n",
       "\n",
       "\n"
      ],
      "text/plain": [
       " [1] \"ListingKey\"                          \"ListingNumber\"                      \n",
       " [3] \"ListingCreationDate\"                 \"CreditGrade\"                        \n",
       " [5] \"Term\"                                \"LoanStatus\"                         \n",
       " [7] \"ClosedDate\"                          \"BorrowerAPR\"                        \n",
       " [9] \"BorrowerRate\"                        \"LenderYield\"                        \n",
       "[11] \"EstimatedEffectiveYield\"             \"EstimatedLoss\"                      \n",
       "[13] \"EstimatedReturn\"                     \"ProsperRating..numeric.\"            \n",
       "[15] \"ProsperRating..Alpha.\"               \"ProsperScore\"                       \n",
       "[17] \"ListingCategory..numeric.\"           \"BorrowerState\"                      \n",
       "[19] \"Occupation\"                          \"EmploymentStatus\"                   \n",
       "[21] \"EmploymentStatusDuration\"            \"IsBorrowerHomeowner\"                \n",
       "[23] \"CurrentlyInGroup\"                    \"GroupKey\"                           \n",
       "[25] \"DateCreditPulled\"                    \"CreditScoreRangeLower\"              \n",
       "[27] \"CreditScoreRangeUpper\"               \"FirstRecordedCreditLine\"            \n",
       "[29] \"CurrentCreditLines\"                  \"OpenCreditLines\"                    \n",
       "[31] \"TotalCreditLinespast7years\"          \"OpenRevolvingAccounts\"              \n",
       "[33] \"OpenRevolvingMonthlyPayment\"         \"InquiriesLast6Months\"               \n",
       "[35] \"TotalInquiries\"                      \"CurrentDelinquencies\"               \n",
       "[37] \"AmountDelinquent\"                    \"DelinquenciesLast7Years\"            \n",
       "[39] \"PublicRecordsLast10Years\"            \"PublicRecordsLast12Months\"          \n",
       "[41] \"RevolvingCreditBalance\"              \"BankcardUtilization\"                \n",
       "[43] \"AvailableBankcardCredit\"             \"TotalTrades\"                        \n",
       "[45] \"TradesNeverDelinquent..percentage.\"  \"TradesOpenedLast6Months\"            \n",
       "[47] \"DebtToIncomeRatio\"                   \"IncomeRange\"                        \n",
       "[49] \"IncomeVerifiable\"                    \"StatedMonthlyIncome\"                \n",
       "[51] \"LoanKey\"                             \"TotalProsperLoans\"                  \n",
       "[53] \"TotalProsperPaymentsBilled\"          \"OnTimeProsperPayments\"              \n",
       "[55] \"ProsperPaymentsLessThanOneMonthLate\" \"ProsperPaymentsOneMonthPlusLate\"    \n",
       "[57] \"ProsperPrincipalBorrowed\"            \"ProsperPrincipalOutstanding\"        \n",
       "[59] \"ScorexChangeAtTimeOfListing\"         \"LoanCurrentDaysDelinquent\"          \n",
       "[61] \"LoanFirstDefaultedCycleNumber\"       \"LoanMonthsSinceOrigination\"         \n",
       "[63] \"LoanNumber\"                          \"LoanOriginalAmount\"                 \n",
       "[65] \"LoanOriginationDate\"                 \"LoanOriginationQuarter\"             \n",
       "[67] \"MemberKey\"                           \"MonthlyLoanPayment\"                 \n",
       "[69] \"LP_CustomerPayments\"                 \"LP_CustomerPrincipalPayments\"       \n",
       "[71] \"LP_InterestandFees\"                  \"LP_ServiceFees\"                     \n",
       "[73] \"LP_CollectionFees\"                   \"LP_GrossPrincipalLoss\"              \n",
       "[75] \"LP_NetPrincipalLoss\"                 \"LP_NonPrincipalRecoverypayments\"    \n",
       "[77] \"PercentFunded\"                       \"Recommendations\"                    \n",
       "[79] \"InvestmentFromFriendsCount\"          \"InvestmentFromFriendsAmount\"        \n",
       "[81] \"Investors\"                          "
      ]
     },
     "metadata": {},
     "output_type": "display_data"
    }
   ],
   "source": [
    "names(datadf)"
   ]
  },
  {
   "cell_type": "code",
   "execution_count": 11,
   "metadata": {
    "collapsed": false,
    "deletable": true,
    "editable": true
   },
   "outputs": [
    {
     "data": {
      "text/html": [
       "<ol class=list-inline>\n",
       "\t<li>36</li>\n",
       "\t<li>36</li>\n",
       "\t<li>36</li>\n",
       "\t<li>36</li>\n",
       "\t<li>36</li>\n",
       "\t<li>60</li>\n",
       "</ol>\n"
      ],
      "text/latex": [
       "\\begin{enumerate*}\n",
       "\\item 36\n",
       "\\item 36\n",
       "\\item 36\n",
       "\\item 36\n",
       "\\item 36\n",
       "\\item 60\n",
       "\\end{enumerate*}\n"
      ],
      "text/markdown": [
       "1. 36\n",
       "2. 36\n",
       "3. 36\n",
       "4. 36\n",
       "5. 36\n",
       "6. 60\n",
       "\n",
       "\n"
      ],
      "text/plain": [
       "[1] 36 36 36 36 36 60"
      ]
     },
     "metadata": {},
     "output_type": "display_data"
    }
   ],
   "source": [
    "head(datadf$Term)"
   ]
  },
  {
   "cell_type": "code",
   "execution_count": 12,
   "metadata": {
    "collapsed": false,
    "deletable": true,
    "editable": true
   },
   "outputs": [
    {
     "data": {
      "text/plain": [
       "   Min. 1st Qu.  Median    Mean 3rd Qu.    Max. \n",
       "  12.00   36.00   36.00   40.83   36.00   60.00 "
      ]
     },
     "metadata": {},
     "output_type": "display_data"
    }
   ],
   "source": [
    "summary(datadf$Term)"
   ]
  },
  {
   "cell_type": "markdown",
   "metadata": {
    "deletable": true,
    "editable": true
   },
   "source": [
    "Seems like the minimum loan term is a year, but the arithmetic mean is 40.83, a little over 3 years."
   ]
  },
  {
   "cell_type": "code",
   "execution_count": 226,
   "metadata": {
    "collapsed": false,
    "deletable": true,
    "editable": true
   },
   "outputs": [
    {
     "data": {},
     "metadata": {},
     "output_type": "display_data"
    },
    {
     "data": {
      "image/png": "[encoded data removed]",
      "text/plain": [
       "plot without title"
      ]
     },
     "metadata": {},
     "output_type": "display_data"
    }
   ],
   "source": [
    "ggplot(datadf, aes(Term/12)) + geom_bar()\n",
    "#plotting in years"
   ]
  },
  {
   "cell_type": "markdown",
   "metadata": {
    "deletable": true,
    "editable": true
   },
   "source": [
    "Here we can see that term is discrete, and that 3 year loans far outpace 5 year loans, with 1 year loans coming in a distant third.\n",
    "Later on I will explore if term influences chargeoff. If someone has a long loan term, it seems there would be more of a chance for something to go wrong in their life, but perhaps the lower monthly payments offset that danger."
   ]
  },
  {
   "cell_type": "code",
   "execution_count": 7,
   "metadata": {
    "collapsed": false,
    "deletable": true,
    "editable": true
   },
   "outputs": [
    {
     "data": {
      "text/html": [
       "<table>\n",
       "<thead><tr><th scope=col>Term</th><th scope=col>number_per_term</th><th scope=col>percentage</th></tr></thead>\n",
       "<tbody>\n",
       "\t<tr><td>12       </td><td> 1614    </td><td> 1.416572</td></tr>\n",
       "\t<tr><td>36       </td><td>87778    </td><td>77.040821</td></tr>\n",
       "\t<tr><td>60       </td><td>24545    </td><td>21.542607</td></tr>\n",
       "</tbody>\n",
       "</table>\n"
      ],
      "text/latex": [
       "\\begin{tabular}{r|lll}\n",
       " Term & number\\_per\\_term & percentage\\\\\n",
       "\\hline\n",
       "\t 12        &  1614     &  1.416572\\\\\n",
       "\t 36        & 87778     & 77.040821\\\\\n",
       "\t 60        & 24545     & 21.542607\\\\\n",
       "\\end{tabular}\n"
      ],
      "text/markdown": [
       "\n",
       "Term | number_per_term | percentage | \n",
       "|---|---|---|\n",
       "| 12        |  1614     |  1.416572 | \n",
       "| 36        | 87778     | 77.040821 | \n",
       "| 60        | 24545     | 21.542607 | \n",
       "\n",
       "\n"
      ],
      "text/plain": [
       "  Term number_per_term percentage\n",
       "1 12    1614            1.416572 \n",
       "2 36   87778           77.040821 \n",
       "3 60   24545           21.542607 "
      ]
     },
     "metadata": {},
     "output_type": "display_data"
    }
   ],
   "source": [
    "datadf %>%\n",
    "    group_by(Term) %>%\n",
    "    summarise(number_per_term = n()) %>%\n",
    "    mutate(percentage = number_per_term / sum(number_per_term) * 100)"
   ]
  },
  {
   "cell_type": "code",
   "execution_count": 25,
   "metadata": {
    "collapsed": false,
    "deletable": true,
    "editable": true,
    "scrolled": true
   },
   "outputs": [
    {
     "data": {
      "text/html": [
       "<ol class=list-inline>\n",
       "\t<li>Completed</li>\n",
       "\t<li>Current</li>\n",
       "\t<li>Completed</li>\n",
       "\t<li>Current</li>\n",
       "\t<li>Current</li>\n",
       "\t<li>Current</li>\n",
       "</ol>\n"
      ],
      "text/latex": [
       "\\begin{enumerate*}\n",
       "\\item Completed\n",
       "\\item Current\n",
       "\\item Completed\n",
       "\\item Current\n",
       "\\item Current\n",
       "\\item Current\n",
       "\\end{enumerate*}\n"
      ],
      "text/markdown": [
       "1. Completed\n",
       "2. Current\n",
       "3. Completed\n",
       "4. Current\n",
       "5. Current\n",
       "6. Current\n",
       "\n",
       "\n"
      ],
      "text/plain": [
       "[1] Completed Current   Completed Current   Current   Current  \n",
       "12 Levels: Cancelled Chargedoff Completed Current ... Past Due (91-120 days)"
      ]
     },
     "metadata": {},
     "output_type": "display_data"
    },
    {
     "data": {
      "text/html": [
       "<dl class=dl-horizontal>\n",
       "\t<dt>Cancelled</dt>\n",
       "\t\t<dd>5</dd>\n",
       "\t<dt>Chargedoff</dt>\n",
       "\t\t<dd>11992</dd>\n",
       "\t<dt>Completed</dt>\n",
       "\t\t<dd>38074</dd>\n",
       "\t<dt>Current</dt>\n",
       "\t\t<dd>56576</dd>\n",
       "\t<dt>Defaulted</dt>\n",
       "\t\t<dd>5018</dd>\n",
       "\t<dt>FinalPaymentInProgress</dt>\n",
       "\t\t<dd>205</dd>\n",
       "\t<dt>Past Due (&gt;120 days)</dt>\n",
       "\t\t<dd>16</dd>\n",
       "\t<dt>Past Due (1-15 days)</dt>\n",
       "\t\t<dd>806</dd>\n",
       "\t<dt>Past Due (16-30 days)</dt>\n",
       "\t\t<dd>265</dd>\n",
       "\t<dt>Past Due (31-60 days)</dt>\n",
       "\t\t<dd>363</dd>\n",
       "\t<dt>Past Due (61-90 days)</dt>\n",
       "\t\t<dd>313</dd>\n",
       "\t<dt>Past Due (91-120 days)</dt>\n",
       "\t\t<dd>304</dd>\n",
       "</dl>\n"
      ],
      "text/latex": [
       "\\begin{description*}\n",
       "\\item[Cancelled] 5\n",
       "\\item[Chargedoff] 11992\n",
       "\\item[Completed] 38074\n",
       "\\item[Current] 56576\n",
       "\\item[Defaulted] 5018\n",
       "\\item[FinalPaymentInProgress] 205\n",
       "\\item[Past Due (>120 days)] 16\n",
       "\\item[Past Due (1-15 days)] 806\n",
       "\\item[Past Due (16-30 days)] 265\n",
       "\\item[Past Due (31-60 days)] 363\n",
       "\\item[Past Due (61-90 days)] 313\n",
       "\\item[Past Due (91-120 days)] 304\n",
       "\\end{description*}\n"
      ],
      "text/markdown": [
       "Cancelled\n",
       ":   5Chargedoff\n",
       ":   11992Completed\n",
       ":   38074Current\n",
       ":   56576Defaulted\n",
       ":   5018FinalPaymentInProgress\n",
       ":   205Past Due (&amp;gt;120 days)\n",
       ":   16Past Due (1-15 days)\n",
       ":   806Past Due (16-30 days)\n",
       ":   265Past Due (31-60 days)\n",
       ":   363Past Due (61-90 days)\n",
       ":   313Past Due (91-120 days)\n",
       ":   304\n",
       "\n"
      ],
      "text/plain": [
       "             Cancelled             Chargedoff              Completed \n",
       "                     5                  11992                  38074 \n",
       "               Current              Defaulted FinalPaymentInProgress \n",
       "                 56576                   5018                    205 \n",
       "  Past Due (>120 days)   Past Due (1-15 days)  Past Due (16-30 days) \n",
       "                    16                    806                    265 \n",
       " Past Due (31-60 days)  Past Due (61-90 days) Past Due (91-120 days) \n",
       "                   363                    313                    304 "
      ]
     },
     "metadata": {},
     "output_type": "display_data"
    }
   ],
   "source": [
    "summary(datadf$LoanStatus)"
   ]
  },
  {
   "cell_type": "code",
   "execution_count": 33,
   "metadata": {
    "collapsed": false,
    "deletable": true,
    "editable": true,
    "scrolled": true
   },
   "outputs": [
    {
     "data": {},
     "metadata": {},
     "output_type": "display_data"
    },
    {
     "data": {
      "image/png": "[encoded data removed]",
      "text/plain": [
       "plot without title"
      ]
     },
     "metadata": {},
     "output_type": "display_data"
    }
   ],
   "source": [
    "ggplot(datadf, aes(LoanStatus)) + geom_bar()"
   ]
  },
  {
   "cell_type": "code",
   "execution_count": 265,
   "metadata": {
    "collapsed": false,
    "deletable": true,
    "editable": true,
    "scrolled": true
   },
   "outputs": [
    {
     "data": {},
     "metadata": {},
     "output_type": "display_data"
    },
    {
     "data": {
      "image/png": "[encoded data removed]",
      "text/plain": [
       "plot without title"
      ]
     },
     "metadata": {},
     "output_type": "display_data"
    }
   ],
   "source": [
    "#plot the distribution of Past Due Loans\n",
    "on_time_loans <- c('Cancelled', 'Completed', 'Chargedoff', 'Current','Defaulted','FinalPaymentInProgress')\n",
    "\n",
    "past_due_loans <- datadf %>%\n",
    "filter(!LoanStatus %in% on_time_loans)\n",
    "ggplot(past_due_loans, aes(LoanStatus)) + geom_bar()\n",
    "\n",
    "#how do you access 'the first 5 nominal vars'\n",
    "#also plot the amounts late"
   ]
  },
  {
   "cell_type": "markdown",
   "metadata": {
    "deletable": true,
    "editable": true
   },
   "source": [
    "It seems that most loans that are past due are only 1-15 days past Due. This suggests that either these loans are recoverable, or that they will quickly default. I'm not sure if loans default or need to go through the whole 120 days. Also worth noting that some of the bins here are larger than others. "
   ]
  },
  {
   "cell_type": "code",
   "execution_count": null,
   "metadata": {
    "collapsed": true,
    "deletable": true,
    "editable": true
   },
   "outputs": [],
   "source": [
    "#set levels to fix. possible could want to do that earlier\n",
    "#levels(theTable$position) <- c(...) \n",
    "#What percentage of loans that are not Cancelled, Chargedoff or Defaulted "
   ]
  },
  {
   "cell_type": "code",
   "execution_count": 14,
   "metadata": {
    "collapsed": false,
    "deletable": true,
    "editable": true
   },
   "outputs": [
    {
     "name": "stderr",
     "output_type": "stream",
     "text": [
      "Warning message in `[<-.factor`(`*tmp*`, ri, value = \"PastDue\"):\n",
      "\"invalid factor level, NA generated\""
     ]
    },
    {
     "data": {
      "text/html": [
       "<table>\n",
       "<thead><tr><th scope=col>LoanStatus</th><th scope=col>count</th></tr></thead>\n",
       "<tbody>\n",
       "\t<tr><td>Chargedoff            </td><td>11992                 </td></tr>\n",
       "\t<tr><td>Completed             </td><td>38074                 </td></tr>\n",
       "\t<tr><td>Current               </td><td>56576                 </td></tr>\n",
       "\t<tr><td>Defaulted             </td><td>5018                  </td></tr>\n",
       "\t<tr><td>FinalPaymentInProgress</td><td>205                   </td></tr>\n",
       "\t<tr><td><span style=white-space:pre-wrap>Past Due (&gt;120 days)  </span></td><td><span style=white-space:pre-wrap>16   </span>                    </td></tr>\n",
       "\t<tr><td>Past Due (1-15 days)  </td><td>806                   </td></tr>\n",
       "\t<tr><td>Past Due (16-30 days) </td><td>265                   </td></tr>\n",
       "\t<tr><td>Past Due (31-60 days) </td><td>363                   </td></tr>\n",
       "\t<tr><td>Past Due (61-90 days) </td><td>313                   </td></tr>\n",
       "\t<tr><td>Past Due (91-120 days)</td><td>304                   </td></tr>\n",
       "\t<tr><td>NA                    </td><td>1000                  </td></tr>\n",
       "</tbody>\n",
       "</table>\n"
      ],
      "text/latex": [
       "\\begin{tabular}{r|ll}\n",
       " LoanStatus & count\\\\\n",
       "\\hline\n",
       "\t Chargedoff             & 11992                 \\\\\n",
       "\t Completed              & 38074                 \\\\\n",
       "\t Current                & 56576                 \\\\\n",
       "\t Defaulted              & 5018                  \\\\\n",
       "\t FinalPaymentInProgress & 205                   \\\\\n",
       "\t Past Due (>120 days)   & 16                    \\\\\n",
       "\t Past Due (1-15 days)   & 806                   \\\\\n",
       "\t Past Due (16-30 days)  & 265                   \\\\\n",
       "\t Past Due (31-60 days)  & 363                   \\\\\n",
       "\t Past Due (61-90 days)  & 313                   \\\\\n",
       "\t Past Due (91-120 days) & 304                   \\\\\n",
       "\t NA                     & 1000                  \\\\\n",
       "\\end{tabular}\n"
      ],
      "text/markdown": [
       "\n",
       "LoanStatus | count | \n",
       "|---|---|---|---|---|---|---|---|---|---|---|---|\n",
       "| Chargedoff             | 11992                  | \n",
       "| Completed              | 38074                  | \n",
       "| Current                | 56576                  | \n",
       "| Defaulted              | 5018                   | \n",
       "| FinalPaymentInProgress | 205                    | \n",
       "| Past Due (>120 days)   | 16                     | \n",
       "| Past Due (1-15 days)   | 806                    | \n",
       "| Past Due (16-30 days)  | 265                    | \n",
       "| Past Due (31-60 days)  | 363                    | \n",
       "| Past Due (61-90 days)  | 313                    | \n",
       "| Past Due (91-120 days) | 304                    | \n",
       "| NA                     | 1000                   | \n",
       "\n",
       "\n"
      ],
      "text/plain": [
       "   LoanStatus             count\n",
       "1  Chargedoff             11992\n",
       "2  Completed              38074\n",
       "3  Current                56576\n",
       "4  Defaulted              5018 \n",
       "5  FinalPaymentInProgress 205  \n",
       "6  Past Due (>120 days)   16   \n",
       "7  Past Due (1-15 days)   806  \n",
       "8  Past Due (16-30 days)  265  \n",
       "9  Past Due (31-60 days)  363  \n",
       "10 Past Due (61-90 days)  313  \n",
       "11 Past Due (91-120 days) 304  \n",
       "12 NA                     1000 "
      ]
     },
     "metadata": {},
     "output_type": "display_data"
    }
   ],
   "source": [
    "datadf %>%\n",
    "select(LoanStatus) %>%\n",
    "group_by(LoanStatus) %>%\n",
    "summarise(count = n()) %>%\n",
    "filter(LoanStatus != 'Cancelled') %>%\n",
    "rbind(c('PastDue', 1000))"
   ]
  },
  {
   "cell_type": "code",
   "execution_count": 17,
   "metadata": {
    "collapsed": false,
    "deletable": true,
    "editable": true
   },
   "outputs": [
    {
     "data": {},
     "metadata": {},
     "output_type": "display_data"
    },
    {
     "data": {
      "image/png": "[encoded data removed]",
      "text/plain": [
       "plot without title"
      ]
     },
     "metadata": {},
     "output_type": "display_data"
    }
   ],
   "source": [
    "######Add a new, simplified LoanStatus column called simple.LoanStatus\n",
    "datadf %>%\n",
    "mutate(simple.LoanStatus = ifelse(str_detect(LoanStatus, \"Past\"), 'Past Due', as.character(LoanStatus)))%>%\n",
    "filter(!str_detect(simple.LoanStatus, \"Final\")) %>%\n",
    "filter(simple.LoanStatus != \"Cancelled\") %>%\n",
    "ggplot(aes(simple.LoanStatus)) + geom_bar()"
   ]
  },
  {
   "cell_type": "markdown",
   "metadata": {
    "deletable": true,
    "editable": true
   },
   "source": [
    "These LoanStatus' are intersting, but a lot depends on the data. Is this a snapshot of a month, a year? If this was for all time Completed and Defaulted will eventually become a huge part of the mix as the amount of loan history outpaces loans being originated."
   ]
  },
  {
   "cell_type": "code",
   "execution_count": 35,
   "metadata": {
    "collapsed": false,
    "deletable": true,
    "editable": true
   },
   "outputs": [
    {
     "data": {
      "text/plain": [
       "   Min. 1st Qu.  Median    Mean 3rd Qu.    Max.    NA's \n",
       "0.00653 0.15630 0.20980 0.21880 0.28380 0.51230      25 "
      ]
     },
     "metadata": {},
     "output_type": "display_data"
    }
   ],
   "source": [
    "summary(datadf$BorrowerAPR)"
   ]
  },
  {
   "cell_type": "markdown",
   "metadata": {
    "deletable": true,
    "editable": true
   },
   "source": [
    "The Borrower APR is interesting to me in several ways. First off, there are people with incredible deals and terrible deals. Our minimum is .6% - that's bascically free money. I don't know anyone getting that rate outside off the Fed. On the other end there is someone paying 51% APR. Why even bother borrowing the money? In some ways that probably means that's where the line is for risk. Prosper, or their lending partners thinks there is a positive return on someone so risky you need to charge them half their money. "
   ]
  },
  {
   "cell_type": "code",
   "execution_count": 183,
   "metadata": {
    "collapsed": false,
    "deletable": true,
    "editable": true
   },
   "outputs": [
    {
     "name": "stderr",
     "output_type": "stream",
     "text": [
      "Warning message:\n",
      "\"Removed 25 rows containing non-finite values (stat_bin).\""
     ]
    },
    {
     "data": {},
     "metadata": {},
     "output_type": "display_data"
    },
    {
     "data": {
      "image/png": "[encoded data removed]",
      "text/plain": [
       "plot without title"
      ]
     },
     "metadata": {},
     "output_type": "display_data"
    }
   ],
   "source": [
    "ggplot(datadf, aes(BorrowerAPR)) + geom_histogram(bins=125)"
   ]
  },
  {
   "cell_type": "markdown",
   "metadata": {
    "deletable": true,
    "editable": true
   },
   "source": [
    "Several intersting things there. Spikes near round APR's. And a little but under .3. This histogram is a little noisy, so let's look at a density plot."
   ]
  },
  {
   "cell_type": "code",
   "execution_count": 42,
   "metadata": {
    "collapsed": false,
    "deletable": true,
    "editable": true
   },
   "outputs": [
    {
     "name": "stderr",
     "output_type": "stream",
     "text": [
      "Warning message:\n",
      "\"Removed 25 rows containing non-finite values (stat_density).\""
     ]
    },
    {
     "data": {},
     "metadata": {},
     "output_type": "display_data"
    },
    {
     "ename": "ERROR",
     "evalue": "Error in +geom_segment(x = 0.2): invalid argument to unary operator\n",
     "output_type": "error",
     "traceback": [
      "Error in +geom_segment(x = 0.2): invalid argument to unary operator\nTraceback:\n"
     ]
    },
    {
     "data": {
      "image/png": "[encoded data removed]",
      "text/plain": [
       "plot without title"
      ]
     },
     "metadata": {},
     "output_type": "display_data"
    }
   ],
   "source": [
    "ggplot(datadf, aes(BorrowerAPR)) + geom_density()\n",
    "+ geom_segment(x=.2)"
   ]
  },
  {
   "cell_type": "markdown",
   "metadata": {
    "deletable": true,
    "editable": true
   },
   "source": [
    "Add lines here for popular peaks. But it is easy to see that a large amount of loans are just shy of 20% APR."
   ]
  },
  {
   "cell_type": "code",
   "execution_count": 49,
   "metadata": {
    "collapsed": false,
    "deletable": true,
    "editable": true
   },
   "outputs": [
    {
     "data": {
      "text/plain": [
       "   Min. 1st Qu.  Median    Mean 3rd Qu.    Max. \n",
       " 0.0000  0.1340  0.1840  0.1928  0.2500  0.4975 "
      ]
     },
     "metadata": {},
     "output_type": "display_data"
    }
   ],
   "source": [
    "summary(datadf$BorrowerRate)"
   ]
  },
  {
   "cell_type": "markdown",
   "metadata": {
    "deletable": true,
    "editable": true
   },
   "source": [
    "Here we notice that the rate is NOT the same thing as the APR. Looking at the definitions document we're simply told that the APR is the Annual Percentage Rate and that the Borrow's Rate is the borrower's interest rate for the loan. Some research tells us that these are calculated by: TODO"
   ]
  },
  {
   "cell_type": "code",
   "execution_count": 50,
   "metadata": {
    "collapsed": false,
    "deletable": true,
    "editable": true
   },
   "outputs": [
    {
     "data": {
      "text/plain": [
       "   Min. 1st Qu.  Median    Mean 3rd Qu.    Max.    NA's \n",
       " -0.183   0.116   0.162   0.169   0.224   0.320   29084 "
      ]
     },
     "metadata": {},
     "output_type": "display_data"
    }
   ],
   "source": [
    "summary(datadf$EstimatedEffectiveYield)"
   ]
  },
  {
   "cell_type": "code",
   "execution_count": 185,
   "metadata": {
    "collapsed": false,
    "deletable": true,
    "editable": true
   },
   "outputs": [
    {
     "name": "stderr",
     "output_type": "stream",
     "text": [
      "Warning message:\n",
      "\"Removed 29084 rows containing non-finite values (stat_bin).\""
     ]
    },
    {
     "data": {},
     "metadata": {},
     "output_type": "display_data"
    },
    {
     "data": {
      "image/png": "[encoded data removed]",
      "text/plain": [
       "plot without title"
      ]
     },
     "metadata": {},
     "output_type": "display_data"
    }
   ],
   "source": [
    "ggplot(datadf, aes(EstimatedEffectiveYield))+geom_histogram(bins=100)\n",
    "#Why so many rows with non-finite values?"
   ]
  },
  {
   "cell_type": "markdown",
   "metadata": {
    "deletable": true,
    "editable": true
   },
   "source": [
    "You can see that this distribution mimics the distribution of APR's but moved slightly lower, with some tail to the left as well. Might be interesting to investigate what creates the negative estimated yield loans."
   ]
  },
  {
   "cell_type": "code",
   "execution_count": 52,
   "metadata": {
    "collapsed": false,
    "deletable": true,
    "editable": true
   },
   "outputs": [
    {
     "data": {
      "text/plain": [
       "   Min. 1st Qu.  Median    Mean 3rd Qu.    Max.    NA's \n",
       "   1.00    4.00    6.00    5.95    8.00   11.00   29084 "
      ]
     },
     "metadata": {},
     "output_type": "display_data"
    },
    {
     "name": "stderr",
     "output_type": "stream",
     "text": [
      "`stat_bin()` using `bins = 30`. Pick better value with `binwidth`.\n",
      "Warning message:\n",
      "\"Removed 29084 rows containing non-finite values (stat_bin).\""
     ]
    },
    {
     "data": {},
     "metadata": {},
     "output_type": "display_data"
    },
    {
     "data": {
      "image/png": "[encoded data removed]",
      "text/plain": [
       "plot without title"
      ]
     },
     "metadata": {},
     "output_type": "display_data"
    }
   ],
   "source": [
    "summary(datadf$ProsperScore)\n",
    "ggplot(datadf, aes(ProsperScore)) + geom_histogram()"
   ]
  },
  {
   "cell_type": "markdown",
   "metadata": {
    "deletable": true,
    "editable": true
   },
   "source": [
    "Here you can see that ProsperScore is discrete, and potentially bimodal? Strange clustering between 4 and 5, let's look at unique values."
   ]
  },
  {
   "cell_type": "code",
   "execution_count": 55,
   "metadata": {
    "collapsed": false,
    "deletable": true,
    "editable": true
   },
   "outputs": [
    {
     "data": {
      "text/html": [
       "<ol class=list-inline>\n",
       "\t<li>1</li>\n",
       "\t<li>2</li>\n",
       "\t<li>3</li>\n",
       "\t<li>4</li>\n",
       "\t<li>5</li>\n",
       "\t<li>6</li>\n",
       "\t<li>7</li>\n",
       "\t<li>8</li>\n",
       "\t<li>9</li>\n",
       "\t<li>10</li>\n",
       "\t<li>11</li>\n",
       "</ol>\n"
      ],
      "text/latex": [
       "\\begin{enumerate*}\n",
       "\\item 1\n",
       "\\item 2\n",
       "\\item 3\n",
       "\\item 4\n",
       "\\item 5\n",
       "\\item 6\n",
       "\\item 7\n",
       "\\item 8\n",
       "\\item 9\n",
       "\\item 10\n",
       "\\item 11\n",
       "\\end{enumerate*}\n"
      ],
      "text/markdown": [
       "1. 1\n",
       "2. 2\n",
       "3. 3\n",
       "4. 4\n",
       "5. 5\n",
       "6. 6\n",
       "7. 7\n",
       "8. 8\n",
       "9. 9\n",
       "10. 10\n",
       "11. 11\n",
       "\n",
       "\n"
      ],
      "text/plain": [
       " [1]  1  2  3  4  5  6  7  8  9 10 11"
      ]
     },
     "metadata": {},
     "output_type": "display_data"
    }
   ],
   "source": [
    "sort(unique(datadf$ProsperScore))"
   ]
  },
  {
   "cell_type": "markdown",
   "metadata": {
    "deletable": true,
    "editable": true
   },
   "source": [
    "Hmm, must be a graphing thing. 1 to 11? That's a strange scale for scoring."
   ]
  },
  {
   "cell_type": "code",
   "execution_count": 56,
   "metadata": {
    "collapsed": false,
    "deletable": true,
    "editable": true
   },
   "outputs": [
    {
     "data": {
      "text/plain": [
       "\n",
       "    1     2     3     4     5     6     7     8     9    10    11 \n",
       "  992  5766  7642 12595  9813 12278 10597 12053  6911  4750  1456 "
      ]
     },
     "metadata": {},
     "output_type": "display_data"
    }
   ],
   "source": [
    "table(datadf$ProsperScore)"
   ]
  },
  {
   "cell_type": "code",
   "execution_count": 19,
   "metadata": {
    "collapsed": false,
    "deletable": true,
    "editable": true
   },
   "outputs": [
    {
     "data": {
      "text/html": [
       "<ol class=list-inline>\n",
       "\t<li>0</li>\n",
       "\t<li>2</li>\n",
       "\t<li>16</li>\n",
       "\t<li>1</li>\n",
       "\t<li>7</li>\n",
       "\t<li>13</li>\n",
       "\t<li>6</li>\n",
       "\t<li>15</li>\n",
       "\t<li>20</li>\n",
       "\t<li>19</li>\n",
       "\t<li>3</li>\n",
       "\t<li>18</li>\n",
       "\t<li>8</li>\n",
       "\t<li>4</li>\n",
       "\t<li>11</li>\n",
       "\t<li>14</li>\n",
       "\t<li>5</li>\n",
       "\t<li>9</li>\n",
       "\t<li>17</li>\n",
       "\t<li>10</li>\n",
       "\t<li>12</li>\n",
       "</ol>\n"
      ],
      "text/latex": [
       "\\begin{enumerate*}\n",
       "\\item 0\n",
       "\\item 2\n",
       "\\item 16\n",
       "\\item 1\n",
       "\\item 7\n",
       "\\item 13\n",
       "\\item 6\n",
       "\\item 15\n",
       "\\item 20\n",
       "\\item 19\n",
       "\\item 3\n",
       "\\item 18\n",
       "\\item 8\n",
       "\\item 4\n",
       "\\item 11\n",
       "\\item 14\n",
       "\\item 5\n",
       "\\item 9\n",
       "\\item 17\n",
       "\\item 10\n",
       "\\item 12\n",
       "\\end{enumerate*}\n"
      ],
      "text/markdown": [
       "1. 0\n",
       "2. 2\n",
       "3. 16\n",
       "4. 1\n",
       "5. 7\n",
       "6. 13\n",
       "7. 6\n",
       "8. 15\n",
       "9. 20\n",
       "10. 19\n",
       "11. 3\n",
       "12. 18\n",
       "13. 8\n",
       "14. 4\n",
       "15. 11\n",
       "16. 14\n",
       "17. 5\n",
       "18. 9\n",
       "19. 17\n",
       "20. 10\n",
       "21. 12\n",
       "\n",
       "\n"
      ],
      "text/plain": [
       " [1]  0  2 16  1  7 13  6 15 20 19  3 18  8  4 11 14  5  9 17 10 12"
      ]
     },
     "metadata": {},
     "output_type": "display_data"
    },
    {
     "data": {
      "text/html": [
       "'integer'"
      ],
      "text/latex": [
       "'integer'"
      ],
      "text/markdown": [
       "'integer'"
      ],
      "text/plain": [
       "[1] \"integer\""
      ]
     },
     "metadata": {},
     "output_type": "display_data"
    }
   ],
   "source": [
    "unique(datadf$ListingCategory..numeric)\n",
    "class(datadf$ListingCategory..numeric.)"
   ]
  },
  {
   "cell_type": "markdown",
   "metadata": {
    "deletable": true,
    "editable": true
   },
   "source": [
    "The category of the listing that the borrower selected when posting their listing: 0 - Not Available, 1 - Debt Consolidation, 2 - Home Improvement, 3 - Business, 4 - Personal Loan, 5 - Student Use, 6 - Auto, 7- Other, 8 - Baby&Adoption, 9 - Boat, 10 - Cosmetic Procedure, 11 - Engagement Ring, 12 - Green Loans, 13 - Household Expenses, 14 - Large Purchases, 15 - Medical/Dental, 16 - Motorcycle, 17 - RV, 18 - Taxes, 19 - Vacation, 20 - Wedding Loans"
   ]
  },
  {
   "cell_type": "markdown",
   "metadata": {
    "deletable": true,
    "editable": true
   },
   "source": [
    "It would probably be good R programming practice to put these in a dictionary and display them tabled or in a barplot. Also important to note somehow that these are a category / factor (even though it has a numeric code)\n",
    "Todo: create a new, mutated column for non-numeric Listing Category. "
   ]
  },
  {
   "cell_type": "code",
   "execution_count": 23,
   "metadata": {
    "collapsed": false,
    "deletable": true,
    "editable": true
   },
   "outputs": [],
   "source": [
    "listingToCharacter <- function(numeric.category){\n",
    "    listing.categories = c(\"Not Available\", \"Debt Consolidation\", \"Home Improvement\", \"Business\",\n",
    "                       \"Personal Loan\", \"Student Use\", \"Auto\", \"Other\", \"Baby&Adoption\",\"Boat\",\n",
    "                       \"Cosmetic Procedure\", \"Engagement Ring\", \"Green Loans\", \"Household Expenses\",\n",
    "                       \"Large Purchases\", \"Medical/Dental\", \"Motorcycle\", \"RV\", \"Taxes\", \"Vacation\",\n",
    "                       \"Wedding Loans\")\n",
    "    return(listing.categories[numeric.category + 1]) \n",
    "}"
   ]
  },
  {
   "cell_type": "code",
   "execution_count": 11,
   "metadata": {
    "collapsed": false,
    "deletable": true,
    "editable": true
   },
   "outputs": [
    {
     "data": {
      "text/html": [
       "<ol class=list-inline>\n",
       "\t<li>0</li>\n",
       "\t<li>2</li>\n",
       "\t<li>0</li>\n",
       "\t<li>16</li>\n",
       "\t<li>2</li>\n",
       "\t<li>1</li>\n",
       "</ol>\n"
      ],
      "text/latex": [
       "\\begin{enumerate*}\n",
       "\\item 0\n",
       "\\item 2\n",
       "\\item 0\n",
       "\\item 16\n",
       "\\item 2\n",
       "\\item 1\n",
       "\\end{enumerate*}\n"
      ],
      "text/markdown": [
       "1. 0\n",
       "2. 2\n",
       "3. 0\n",
       "4. 16\n",
       "5. 2\n",
       "6. 1\n",
       "\n",
       "\n"
      ],
      "text/plain": [
       "[1]  0  2  0 16  2  1"
      ]
     },
     "metadata": {},
     "output_type": "display_data"
    },
    {
     "data": {
      "text/html": [
       "<ol class=list-inline>\n",
       "\t<li>'Not Available'</li>\n",
       "\t<li>'Home Improvement'</li>\n",
       "\t<li>'Not Available'</li>\n",
       "\t<li>'16'</li>\n",
       "\t<li>'Home Improvement'</li>\n",
       "\t<li>'Debt Consolidation'</li>\n",
       "</ol>\n"
      ],
      "text/latex": [
       "\\begin{enumerate*}\n",
       "\\item 'Not Available'\n",
       "\\item 'Home Improvement'\n",
       "\\item 'Not Available'\n",
       "\\item '16'\n",
       "\\item 'Home Improvement'\n",
       "\\item 'Debt Consolidation'\n",
       "\\end{enumerate*}\n"
      ],
      "text/markdown": [
       "1. 'Not Available'\n",
       "2. 'Home Improvement'\n",
       "3. 'Not Available'\n",
       "4. '16'\n",
       "5. 'Home Improvement'\n",
       "6. 'Debt Consolidation'\n",
       "\n",
       "\n"
      ],
      "text/plain": [
       "[1] \"Not Available\"      \"Home Improvement\"   \"Not Available\"     \n",
       "[4] \"16\"                 \"Home Improvement\"   \"Debt Consolidation\""
      ]
     },
     "metadata": {},
     "output_type": "display_data"
    }
   ],
   "source": []
  },
  {
   "cell_type": "code",
   "execution_count": null,
   "metadata": {
    "collapsed": false,
    "deletable": true,
    "editable": true
   },
   "outputs": [],
   "source": [
    "#Create a non-numeric Listing category\n",
    "#listing.category.df <- \n",
    "datadf %>%\n",
    "mutate(ListingCategory = as.character(ListingCategory..numeric.)) %>%\n",
    "case_when(ListingCategory == 0, \"Not Available\")\n",
    "\n",
    "\n",
    "#revalue(as.character(datadf$ListingCategory), c(\"0\" = \"Not Available\",\n",
    "#                           \"1\"=\"Debt Consolidation\",\n",
    "#                           \"2\"=\"Home Improvement\",\n",
    "#                           \"3\"=\"Business\"))\n",
    "#         c(4,\"Personal Loan\"),\n",
    "#         c(5,\"Student Use\"),\n",
    "#         c(6,\"Auto\"), warn_missing=FALSE) \n"
   ]
  },
  {
   "cell_type": "code",
   "execution_count": 59,
   "metadata": {
    "collapsed": false,
    "deletable": true,
    "editable": true
   },
   "outputs": [],
   "source": [
    "?case_when"
   ]
  },
  {
   "cell_type": "code",
   "execution_count": 21,
   "metadata": {
    "collapsed": false,
    "deletable": true,
    "editable": true
   },
   "outputs": [
    {
     "data": {},
     "metadata": {},
     "output_type": "display_data"
    },
    {
     "data": {
      "image/png": "[encoded data removed]",
      "text/plain": [
       "plot without title"
      ]
     },
     "metadata": {},
     "output_type": "display_data"
    }
   ],
   "source": [
    "datadf %>%\n",
    "group_by(ListingCategory..numeric.) %>%\n",
    "summarise(count = n()) %>%\n",
    "ggplot(aes(x=reorder(ListingCategory..numeric., desc(count)), y=count)) + geom_bar(stat=\"Identity\")\n",
    "#Wonder if I can just replace all of the numeric categories with thier string equivalents. Same for our exploration."
   ]
  },
  {
   "cell_type": "code",
   "execution_count": 24,
   "metadata": {
    "collapsed": false,
    "deletable": true,
    "editable": true
   },
   "outputs": [
    {
     "data": {},
     "metadata": {},
     "output_type": "display_data"
    },
    {
     "data": {
      "image/png": "[encoded data removed]",
      "text/plain": [
       "plot without title"
      ]
     },
     "metadata": {},
     "output_type": "display_data"
    }
   ],
   "source": [
    "datadf %>%\n",
    "group_by(BorrowerState) %>%\n",
    "summarise(count = n()) %>%\n",
    "ggplot(aes(x=reorder(BorrowerState, desc(count)), y=count)) + geom_bar(stat=\"Identity\")\n",
    "#choropleth here?\n",
    "#Adjusted for population."
   ]
  },
  {
   "cell_type": "markdown",
   "metadata": {
    "deletable": true,
    "editable": true
   },
   "source": [
    "Would have to weight these by population of state to see if there are real differences between them."
   ]
  },
  {
   "cell_type": "code",
   "execution_count": 29,
   "metadata": {
    "collapsed": false,
    "deletable": true,
    "editable": true
   },
   "outputs": [
    {
     "data": {
      "text/html": [
       "<table>\n",
       "<thead><tr><th scope=col>Occupation</th><th scope=col>count</th></tr></thead>\n",
       "<tbody>\n",
       "\t<tr><td>Other                            </td><td>28617                            </td></tr>\n",
       "\t<tr><td>Professional                     </td><td>13628                            </td></tr>\n",
       "\t<tr><td>Computer Programmer              </td><td> 4478                            </td></tr>\n",
       "\t<tr><td>Executive                        </td><td> 4311                            </td></tr>\n",
       "\t<tr><td>Teacher                          </td><td> 3759                            </td></tr>\n",
       "\t<tr><td>Administrative Assistant         </td><td> 3688                            </td></tr>\n",
       "\t<tr><td>Analyst                          </td><td> 3602                            </td></tr>\n",
       "\t<tr><td>Sales - Commission               </td><td> 3446                            </td></tr>\n",
       "\t<tr><td>Accountant/CPA                   </td><td> 3233                            </td></tr>\n",
       "\t<tr><td>Clerical                         </td><td> 3164                            </td></tr>\n",
       "\t<tr><td>Sales - Retail                   </td><td> 2797                            </td></tr>\n",
       "\t<tr><td>Skilled Labor                    </td><td> 2746                            </td></tr>\n",
       "\t<tr><td>Retail Management                </td><td> 2602                            </td></tr>\n",
       "\t<tr><td>Nurse (RN)                       </td><td> 2489                            </td></tr>\n",
       "\t<tr><td>Construction                     </td><td> 1790                            </td></tr>\n",
       "\t<tr><td>Truck Driver                     </td><td> 1675                            </td></tr>\n",
       "\t<tr><td>Laborer                          </td><td> 1595                            </td></tr>\n",
       "\t<tr><td>Police Officer/Correction Officer</td><td> 1578                            </td></tr>\n",
       "\t<tr><td>Civil Service                    </td><td> 1457                            </td></tr>\n",
       "\t<tr><td>Engineer - Mechanical            </td><td> 1406                            </td></tr>\n",
       "\t<tr><td>Military Enlisted                </td><td> 1272                            </td></tr>\n",
       "\t<tr><td>Food Service Management          </td><td> 1239                            </td></tr>\n",
       "\t<tr><td>Engineer - Electrical            </td><td> 1125                            </td></tr>\n",
       "\t<tr><td>Food Service                     </td><td> 1123                            </td></tr>\n",
       "\t<tr><td>Medical Technician               </td><td> 1117                            </td></tr>\n",
       "\t<tr><td>Attorney                         </td><td> 1046                            </td></tr>\n",
       "\t<tr><td>Tradesman - Mechanic             </td><td>  951                            </td></tr>\n",
       "\t<tr><td>Social Worker                    </td><td>  741                            </td></tr>\n",
       "\t<tr><td>Postal Service                   </td><td>  627                            </td></tr>\n",
       "\t<tr><td>Professor                        </td><td>  557                            </td></tr>\n",
       "\t<tr><td>...</td><td>...</td></tr>\n",
       "\t<tr><td>Scientist                         </td><td>372                               </td></tr>\n",
       "\t<tr><td>Military Officer                  </td><td>346                               </td></tr>\n",
       "\t<tr><td>Bus Driver                        </td><td>316                               </td></tr>\n",
       "\t<tr><td>Principal                         </td><td>312                               </td></tr>\n",
       "\t<tr><td>Teacher's Aide                    </td><td>276                               </td></tr>\n",
       "\t<tr><td>Pharmacist                        </td><td>257                               </td></tr>\n",
       "\t<tr><td>Student - College Graduate Student</td><td>245                               </td></tr>\n",
       "\t<tr><td>Landscaping                       </td><td>236                               </td></tr>\n",
       "\t<tr><td>Engineer - Chemical               </td><td>225                               </td></tr>\n",
       "\t<tr><td>Investor                          </td><td>214                               </td></tr>\n",
       "\t<tr><td>Architect                         </td><td>213                               </td></tr>\n",
       "\t<tr><td>Pilot - Private/Commercial        </td><td>199                               </td></tr>\n",
       "\t<tr><td>Clergy                            </td><td>196                               </td></tr>\n",
       "\t<tr><td>Student - College Senior          </td><td>188                               </td></tr>\n",
       "\t<tr><td>Car Dealer                        </td><td>180                               </td></tr>\n",
       "\t<tr><td>Chemist                           </td><td>145                               </td></tr>\n",
       "\t<tr><td>Psychologist                      </td><td>145                               </td></tr>\n",
       "\t<tr><td>Biologist                         </td><td>125                               </td></tr>\n",
       "\t<tr><td>Religious                         </td><td>124                               </td></tr>\n",
       "\t<tr><td>Flight Attendant                  </td><td>123                               </td></tr>\n",
       "\t<tr><td>Homemaker                         </td><td>120                               </td></tr>\n",
       "\t<tr><td>Tradesman - Carpenter             </td><td>120                               </td></tr>\n",
       "\t<tr><td>Student - College Junior          </td><td>112                               </td></tr>\n",
       "\t<tr><td>Tradesman - Plumber               </td><td>102                               </td></tr>\n",
       "\t<tr><td>Student - College Sophomore       </td><td> 69                               </td></tr>\n",
       "\t<tr><td>Dentist                           </td><td> 68                               </td></tr>\n",
       "\t<tr><td>Student - College Freshman        </td><td> 41                               </td></tr>\n",
       "\t<tr><td>Student - Community College       </td><td> 28                               </td></tr>\n",
       "\t<tr><td>Judge                             </td><td> 22                               </td></tr>\n",
       "\t<tr><td>Student - Technical School        </td><td> 16                               </td></tr>\n",
       "</tbody>\n",
       "</table>\n"
      ],
      "text/latex": [
       "\\begin{tabular}{r|ll}\n",
       " Occupation & count\\\\\n",
       "\\hline\n",
       "\t Other                             & 28617                            \\\\\n",
       "\t Professional                      & 13628                            \\\\\n",
       "\t Computer Programmer               &  4478                            \\\\\n",
       "\t Executive                         &  4311                            \\\\\n",
       "\t Teacher                           &  3759                            \\\\\n",
       "\t Administrative Assistant          &  3688                            \\\\\n",
       "\t Analyst                           &  3602                            \\\\\n",
       "\t Sales - Commission                &  3446                            \\\\\n",
       "\t Accountant/CPA                    &  3233                            \\\\\n",
       "\t Clerical                          &  3164                            \\\\\n",
       "\t Sales - Retail                    &  2797                            \\\\\n",
       "\t Skilled Labor                     &  2746                            \\\\\n",
       "\t Retail Management                 &  2602                            \\\\\n",
       "\t Nurse (RN)                        &  2489                            \\\\\n",
       "\t Construction                      &  1790                            \\\\\n",
       "\t Truck Driver                      &  1675                            \\\\\n",
       "\t Laborer                           &  1595                            \\\\\n",
       "\t Police Officer/Correction Officer &  1578                            \\\\\n",
       "\t Civil Service                     &  1457                            \\\\\n",
       "\t Engineer - Mechanical             &  1406                            \\\\\n",
       "\t Military Enlisted                 &  1272                            \\\\\n",
       "\t Food Service Management           &  1239                            \\\\\n",
       "\t Engineer - Electrical             &  1125                            \\\\\n",
       "\t Food Service                      &  1123                            \\\\\n",
       "\t Medical Technician                &  1117                            \\\\\n",
       "\t Attorney                          &  1046                            \\\\\n",
       "\t Tradesman - Mechanic              &   951                            \\\\\n",
       "\t Social Worker                     &   741                            \\\\\n",
       "\t Postal Service                    &   627                            \\\\\n",
       "\t Professor                         &   557                            \\\\\n",
       "\t ... & ...\\\\\n",
       "\t Scientist                          & 372                               \\\\\n",
       "\t Military Officer                   & 346                               \\\\\n",
       "\t Bus Driver                         & 316                               \\\\\n",
       "\t Principal                          & 312                               \\\\\n",
       "\t Teacher's Aide                     & 276                               \\\\\n",
       "\t Pharmacist                         & 257                               \\\\\n",
       "\t Student - College Graduate Student & 245                               \\\\\n",
       "\t Landscaping                        & 236                               \\\\\n",
       "\t Engineer - Chemical                & 225                               \\\\\n",
       "\t Investor                           & 214                               \\\\\n",
       "\t Architect                          & 213                               \\\\\n",
       "\t Pilot - Private/Commercial         & 199                               \\\\\n",
       "\t Clergy                             & 196                               \\\\\n",
       "\t Student - College Senior           & 188                               \\\\\n",
       "\t Car Dealer                         & 180                               \\\\\n",
       "\t Chemist                            & 145                               \\\\\n",
       "\t Psychologist                       & 145                               \\\\\n",
       "\t Biologist                          & 125                               \\\\\n",
       "\t Religious                          & 124                               \\\\\n",
       "\t Flight Attendant                   & 123                               \\\\\n",
       "\t Homemaker                          & 120                               \\\\\n",
       "\t Tradesman - Carpenter              & 120                               \\\\\n",
       "\t Student - College Junior           & 112                               \\\\\n",
       "\t Tradesman - Plumber                & 102                               \\\\\n",
       "\t Student - College Sophomore        &  69                               \\\\\n",
       "\t Dentist                            &  68                               \\\\\n",
       "\t Student - College Freshman         &  41                               \\\\\n",
       "\t Student - Community College        &  28                               \\\\\n",
       "\t Judge                              &  22                               \\\\\n",
       "\t Student - Technical School         &  16                               \\\\\n",
       "\\end{tabular}\n"
      ],
      "text/markdown": [
       "\n",
       "Occupation | count | \n",
       "|---|---|---|---|---|---|---|---|---|---|---|---|---|---|---|---|---|---|---|---|---|---|---|---|---|---|---|---|---|---|---|---|---|---|---|---|---|---|---|---|---|---|---|---|---|---|---|---|---|---|---|---|---|---|---|---|---|---|---|---|---|\n",
       "| Other                             | 28617                             | \n",
       "| Professional                      | 13628                             | \n",
       "| Computer Programmer               |  4478                             | \n",
       "| Executive                         |  4311                             | \n",
       "| Teacher                           |  3759                             | \n",
       "| Administrative Assistant          |  3688                             | \n",
       "| Analyst                           |  3602                             | \n",
       "| Sales - Commission                |  3446                             | \n",
       "| Accountant/CPA                    |  3233                             | \n",
       "| Clerical                          |  3164                             | \n",
       "| Sales - Retail                    |  2797                             | \n",
       "| Skilled Labor                     |  2746                             | \n",
       "| Retail Management                 |  2602                             | \n",
       "| Nurse (RN)                        |  2489                             | \n",
       "| Construction                      |  1790                             | \n",
       "| Truck Driver                      |  1675                             | \n",
       "| Laborer                           |  1595                             | \n",
       "| Police Officer/Correction Officer |  1578                             | \n",
       "| Civil Service                     |  1457                             | \n",
       "| Engineer - Mechanical             |  1406                             | \n",
       "| Military Enlisted                 |  1272                             | \n",
       "| Food Service Management           |  1239                             | \n",
       "| Engineer - Electrical             |  1125                             | \n",
       "| Food Service                      |  1123                             | \n",
       "| Medical Technician                |  1117                             | \n",
       "| Attorney                          |  1046                             | \n",
       "| Tradesman - Mechanic              |   951                             | \n",
       "| Social Worker                     |   741                             | \n",
       "| Postal Service                    |   627                             | \n",
       "| Professor                         |   557                             | \n",
       "| ... | ... | \n",
       "| Scientist                          | 372                                | \n",
       "| Military Officer                   | 346                                | \n",
       "| Bus Driver                         | 316                                | \n",
       "| Principal                          | 312                                | \n",
       "| Teacher's Aide                     | 276                                | \n",
       "| Pharmacist                         | 257                                | \n",
       "| Student - College Graduate Student | 245                                | \n",
       "| Landscaping                        | 236                                | \n",
       "| Engineer - Chemical                | 225                                | \n",
       "| Investor                           | 214                                | \n",
       "| Architect                          | 213                                | \n",
       "| Pilot - Private/Commercial         | 199                                | \n",
       "| Clergy                             | 196                                | \n",
       "| Student - College Senior           | 188                                | \n",
       "| Car Dealer                         | 180                                | \n",
       "| Chemist                            | 145                                | \n",
       "| Psychologist                       | 145                                | \n",
       "| Biologist                          | 125                                | \n",
       "| Religious                          | 124                                | \n",
       "| Flight Attendant                   | 123                                | \n",
       "| Homemaker                          | 120                                | \n",
       "| Tradesman - Carpenter              | 120                                | \n",
       "| Student - College Junior           | 112                                | \n",
       "| Tradesman - Plumber                | 102                                | \n",
       "| Student - College Sophomore        |  69                                | \n",
       "| Dentist                            |  68                                | \n",
       "| Student - College Freshman         |  41                                | \n",
       "| Student - Community College        |  28                                | \n",
       "| Judge                              |  22                                | \n",
       "| Student - Technical School         |  16                                | \n",
       "\n",
       "\n"
      ],
      "text/plain": [
       "    Occupation                         count\n",
       "1   Other                              28617\n",
       "2   Professional                       13628\n",
       "3   Computer Programmer                 4478\n",
       "4   Executive                           4311\n",
       "5   Teacher                             3759\n",
       "6   Administrative Assistant            3688\n",
       "7   Analyst                             3602\n",
       "8   Sales - Commission                  3446\n",
       "9   Accountant/CPA                      3233\n",
       "10  Clerical                            3164\n",
       "11  Sales - Retail                      2797\n",
       "12  Skilled Labor                       2746\n",
       "13  Retail Management                   2602\n",
       "14  Nurse (RN)                          2489\n",
       "15  Construction                        1790\n",
       "16  Truck Driver                        1675\n",
       "17  Laborer                             1595\n",
       "18  Police Officer/Correction Officer   1578\n",
       "19  Civil Service                       1457\n",
       "20  Engineer - Mechanical               1406\n",
       "21  Military Enlisted                   1272\n",
       "22  Food Service Management             1239\n",
       "23  Engineer - Electrical               1125\n",
       "24  Food Service                        1123\n",
       "25  Medical Technician                  1117\n",
       "26  Attorney                            1046\n",
       "27  Tradesman - Mechanic                 951\n",
       "28  Social Worker                        741\n",
       "29  Postal Service                       627\n",
       "30  Professor                            557\n",
       "... ...                                ...  \n",
       "38  Scientist                          372  \n",
       "39  Military Officer                   346  \n",
       "40  Bus Driver                         316  \n",
       "41  Principal                          312  \n",
       "42  Teacher's Aide                     276  \n",
       "43  Pharmacist                         257  \n",
       "44  Student - College Graduate Student 245  \n",
       "45  Landscaping                        236  \n",
       "46  Engineer - Chemical                225  \n",
       "47  Investor                           214  \n",
       "48  Architect                          213  \n",
       "49  Pilot - Private/Commercial         199  \n",
       "50  Clergy                             196  \n",
       "51  Student - College Senior           188  \n",
       "52  Car Dealer                         180  \n",
       "53  Chemist                            145  \n",
       "54  Psychologist                       145  \n",
       "55  Biologist                          125  \n",
       "56  Religious                          124  \n",
       "57  Flight Attendant                   123  \n",
       "58  Homemaker                          120  \n",
       "59  Tradesman - Carpenter              120  \n",
       "60  Student - College Junior           112  \n",
       "61  Tradesman - Plumber                102  \n",
       "62  Student - College Sophomore         69  \n",
       "63  Dentist                             68  \n",
       "64  Student - College Freshman          41  \n",
       "65  Student - Community College         28  \n",
       "66  Judge                               22  \n",
       "67  Student - Technical School          16  "
      ]
     },
     "metadata": {},
     "output_type": "display_data"
    }
   ],
   "source": [
    "datadf %>% \n",
    "group_by(Occupation) %>%\n",
    "filter(Occupation != \"\") %>%\n",
    "summarise(count = n()) %>%\n",
    "arrange(desc(count))"
   ]
  },
  {
   "cell_type": "markdown",
   "metadata": {
    "deletable": true,
    "editable": true
   },
   "source": [
    "Again, to see if any occupation actaully had an undue number of loans we would have to compare to the population."
   ]
  },
  {
   "cell_type": "code",
   "execution_count": 30,
   "metadata": {
    "collapsed": false,
    "deletable": true,
    "editable": true
   },
   "outputs": [
    {
     "data": {
      "text/html": [
       "<table>\n",
       "<thead><tr><th scope=col>EmploymentStatus</th><th scope=col>count</th></tr></thead>\n",
       "<tbody>\n",
       "\t<tr><td>Employed     </td><td>67322        </td></tr>\n",
       "\t<tr><td>Full-time    </td><td>26355        </td></tr>\n",
       "\t<tr><td>Self-employed</td><td> 6134        </td></tr>\n",
       "\t<tr><td>Not available</td><td> 5347        </td></tr>\n",
       "\t<tr><td>Other        </td><td> 3806        </td></tr>\n",
       "\t<tr><td>             </td><td> 2255        </td></tr>\n",
       "\t<tr><td>Part-time    </td><td> 1088        </td></tr>\n",
       "\t<tr><td>Not employed </td><td>  835        </td></tr>\n",
       "\t<tr><td>Retired      </td><td>  795        </td></tr>\n",
       "</tbody>\n",
       "</table>\n"
      ],
      "text/latex": [
       "\\begin{tabular}{r|ll}\n",
       " EmploymentStatus & count\\\\\n",
       "\\hline\n",
       "\t Employed      & 67322        \\\\\n",
       "\t Full-time     & 26355        \\\\\n",
       "\t Self-employed &  6134        \\\\\n",
       "\t Not available &  5347        \\\\\n",
       "\t Other         &  3806        \\\\\n",
       "\t               &  2255        \\\\\n",
       "\t Part-time     &  1088        \\\\\n",
       "\t Not employed  &   835        \\\\\n",
       "\t Retired       &   795        \\\\\n",
       "\\end{tabular}\n"
      ],
      "text/markdown": [
       "\n",
       "EmploymentStatus | count | \n",
       "|---|---|---|---|---|---|---|---|---|\n",
       "| Employed      | 67322         | \n",
       "| Full-time     | 26355         | \n",
       "| Self-employed |  6134         | \n",
       "| Not available |  5347         | \n",
       "| Other         |  3806         | \n",
       "|               |  2255         | \n",
       "| Part-time     |  1088         | \n",
       "| Not employed  |   835         | \n",
       "| Retired       |   795         | \n",
       "\n",
       "\n"
      ],
      "text/plain": [
       "  EmploymentStatus count\n",
       "1 Employed         67322\n",
       "2 Full-time        26355\n",
       "3 Self-employed     6134\n",
       "4 Not available     5347\n",
       "5 Other             3806\n",
       "6                   2255\n",
       "7 Part-time         1088\n",
       "8 Not employed       835\n",
       "9 Retired            795"
      ]
     },
     "metadata": {},
     "output_type": "display_data"
    }
   ],
   "source": [
    "datadf %>%\n",
    "group_by(EmploymentStatus) %>%\n",
    "summarise(count=n()) %>%\n",
    "arrange(desc(count))"
   ]
  },
  {
   "cell_type": "markdown",
   "metadata": {
    "deletable": true,
    "editable": true
   },
   "source": [
    "Oh, so many questions here. What does 1 represent? NA? Are some of these categories subsets of other categories? (ie Does 'Employed = Full-time+Part-Time+Self Employed\"? Let's try to find out."
   ]
  },
  {
   "cell_type": "code",
   "execution_count": 98,
   "metadata": {
    "collapsed": false,
    "deletable": true,
    "editable": true
   },
   "outputs": [
    {
     "data": {
      "text/plain": [
       "[1] <NA>\n",
       "9 Levels:  Employed Full-time Not available Not employed Other ... Self-employed"
      ]
     },
     "metadata": {},
     "output_type": "display_data"
    }
   ],
   "source": [
    "datadf$EmploymentStatus['Self Employed']"
   ]
  },
  {
   "cell_type": "code",
   "execution_count": 104,
   "metadata": {
    "collapsed": false,
    "deletable": true,
    "editable": true
   },
   "outputs": [
    {
     "data": {
      "text/html": [
       "<ol class=list-inline>\n",
       "\t<li>''</li>\n",
       "\t<li>'Employed'</li>\n",
       "\t<li>'Full-time'</li>\n",
       "\t<li>'Not available'</li>\n",
       "\t<li>'Not employed'</li>\n",
       "\t<li>'Other'</li>\n",
       "\t<li>'Part-time'</li>\n",
       "\t<li>'Retired'</li>\n",
       "\t<li>'Self-employed'</li>\n",
       "</ol>\n"
      ],
      "text/latex": [
       "\\begin{enumerate*}\n",
       "\\item ''\n",
       "\\item 'Employed'\n",
       "\\item 'Full-time'\n",
       "\\item 'Not available'\n",
       "\\item 'Not employed'\n",
       "\\item 'Other'\n",
       "\\item 'Part-time'\n",
       "\\item 'Retired'\n",
       "\\item 'Self-employed'\n",
       "\\end{enumerate*}\n"
      ],
      "text/markdown": [
       "1. ''\n",
       "2. 'Employed'\n",
       "3. 'Full-time'\n",
       "4. 'Not available'\n",
       "5. 'Not employed'\n",
       "6. 'Other'\n",
       "7. 'Part-time'\n",
       "8. 'Retired'\n",
       "9. 'Self-employed'\n",
       "\n",
       "\n"
      ],
      "text/plain": [
       "[1] \"\"              \"Employed\"      \"Full-time\"     \"Not available\"\n",
       "[5] \"Not employed\"  \"Other\"         \"Part-time\"     \"Retired\"      \n",
       "[9] \"Self-employed\""
      ]
     },
     "metadata": {},
     "output_type": "display_data"
    }
   ],
   "source": [
    "levels(datadf$EmploymentStatus)"
   ]
  },
  {
   "cell_type": "code",
   "execution_count": 106,
   "metadata": {
    "collapsed": false,
    "deletable": true,
    "editable": true
   },
   "outputs": [
    {
     "data": {
      "text/html": [
       "33577"
      ],
      "text/latex": [
       "33577"
      ],
      "text/markdown": [
       "33577"
      ],
      "text/plain": [
       "[1] 33577"
      ]
     },
     "metadata": {},
     "output_type": "display_data"
    }
   ],
   "source": [
    "sum(datadf$EmploymentStatus == 'Self-employed') + sum(datadf$EmploymentStatus == 'Full-time') + \n",
    "sum(datadf$EmploymentStatus == 'Part-time') "
   ]
  },
  {
   "cell_type": "markdown",
   "metadata": {
    "deletable": true,
    "editable": true
   },
   "source": [
    "Even with the addition of 'Other' and the ill defined status '1' the categories would not approach the number of employment. Not really into this categorical variable."
   ]
  },
  {
   "cell_type": "code",
   "execution_count": 110,
   "metadata": {
    "collapsed": false,
    "deletable": true,
    "editable": true
   },
   "outputs": [
    {
     "data": {
      "text/plain": [
       "   Min. 1st Qu.  Median    Mean 3rd Qu.    Max.    NA's \n",
       "   0.00   26.00   67.00   96.07  137.00  755.00    7625 "
      ]
     },
     "metadata": {},
     "output_type": "display_data"
    }
   ],
   "source": [
    "summary(datadf$EmploymentStatusDuration)"
   ]
  },
  {
   "cell_type": "code",
   "execution_count": 111,
   "metadata": {
    "collapsed": false,
    "deletable": true,
    "editable": true
   },
   "outputs": [
    {
     "name": "stderr",
     "output_type": "stream",
     "text": [
      "`stat_bin()` using `bins = 30`. Pick better value with `binwidth`.\n",
      "Warning message:\n",
      "\"Removed 7625 rows containing non-finite values (stat_bin).\""
     ]
    },
    {
     "data": {},
     "metadata": {},
     "output_type": "display_data"
    },
    {
     "data": {
      "image/png": "[encoded data removed]",
      "text/plain": [
       "plot without title"
      ]
     },
     "metadata": {},
     "output_type": "display_data"
    }
   ],
   "source": [
    "ggplot(datadf, aes(EmploymentStatusDuration)) + geom_histogram()"
   ]
  },
  {
   "cell_type": "code",
   "execution_count": 120,
   "metadata": {
    "collapsed": false,
    "deletable": true,
    "editable": true
   },
   "outputs": [
    {
     "data": {
      "text/html": [
       "62.9166666666667"
      ],
      "text/latex": [
       "62.9166666666667"
      ],
      "text/markdown": [
       "62.9166666666667"
      ],
      "text/plain": [
       "[1] 62.91667"
      ]
     },
     "metadata": {},
     "output_type": "display_data"
    }
   ],
   "source": [
    "max(datadf$EmploymentStatusDuration, na.rm=TRUE)/12"
   ]
  },
  {
   "cell_type": "markdown",
   "metadata": {
    "deletable": true,
    "editable": true
   },
   "source": [
    "Looks like someone claims to have worked somewhere for almost 63 years! I guess it's possible. Maybe they're saying the've been employed for 63 years straight."
   ]
  },
  {
   "cell_type": "code",
   "execution_count": 119,
   "metadata": {
    "collapsed": false,
    "deletable": true,
    "editable": true
   },
   "outputs": [
    {
     "data": {
      "text/html": [
       "8.00596514661249"
      ],
      "text/latex": [
       "8.00596514661249"
      ],
      "text/markdown": [
       "8.00596514661249"
      ],
      "text/plain": [
       "[1] 8.005965"
      ]
     },
     "metadata": {},
     "output_type": "display_data"
    }
   ],
   "source": [
    "mean(datadf$EmploymentStatusDuration, na.rm=TRUE)/12"
   ]
  },
  {
   "cell_type": "code",
   "execution_count": 34,
   "metadata": {
    "collapsed": false,
    "deletable": true,
    "editable": true
   },
   "outputs": [
    {
     "data": {
      "text/html": [
       "<table>\n",
       "<thead><tr><th scope=col>status.mean</th><th scope=col>status.median</th><th scope=col>status.min</th><th scope=col>status.max</th></tr></thead>\n",
       "<tbody>\n",
       "\t<tr><td>8.005965</td><td>5.583333</td><td>0       </td><td>755     </td></tr>\n",
       "</tbody>\n",
       "</table>\n"
      ],
      "text/latex": [
       "\\begin{tabular}{r|llll}\n",
       " status.mean & status.median & status.min & status.max\\\\\n",
       "\\hline\n",
       "\t 8.005965 & 5.583333 & 0        & 755     \\\\\n",
       "\\end{tabular}\n"
      ],
      "text/markdown": [
       "\n",
       "status.mean | status.median | status.min | status.max | \n",
       "|---|\n",
       "| 8.005965 | 5.583333 | 0        | 755      | \n",
       "\n",
       "\n"
      ],
      "text/plain": [
       "  status.mean status.median status.min status.max\n",
       "1 8.005965    5.583333      0          755       "
      ]
     },
     "metadata": {},
     "output_type": "display_data"
    }
   ],
   "source": [
    "summarise(datadf, status.mean = mean(EmploymentStatusDuration, na.rm=TRUE)/12,\n",
    "         status.median = median(EmploymentStatusDuration, na.rm = TRUE)/12,\n",
    "         status.min = min(EmploymentStatusDuration, na.rm = TRUE)/12,\n",
    "         status.max = max(EmploymentStatusDuration, na.rm = TRUE/12))\n",
    "#todo"
   ]
  },
  {
   "cell_type": "code",
   "execution_count": 116,
   "metadata": {
    "collapsed": false,
    "deletable": true,
    "editable": true
   },
   "outputs": [
    {
     "data": {
      "text/html": [
       "<ol class=list-inline>\n",
       "\t<li>2</li>\n",
       "\t<li>44</li>\n",
       "\t<li>NA</li>\n",
       "\t<li>113</li>\n",
       "\t<li>44</li>\n",
       "\t<li>82</li>\n",
       "</ol>\n"
      ],
      "text/latex": [
       "\\begin{enumerate*}\n",
       "\\item 2\n",
       "\\item 44\n",
       "\\item NA\n",
       "\\item 113\n",
       "\\item 44\n",
       "\\item 82\n",
       "\\end{enumerate*}\n"
      ],
      "text/markdown": [
       "1. 2\n",
       "2. 44\n",
       "3. NA\n",
       "4. 113\n",
       "5. 44\n",
       "6. 82\n",
       "\n",
       "\n"
      ],
      "text/plain": [
       "[1]   2  44  NA 113  44  82"
      ]
     },
     "metadata": {},
     "output_type": "display_data"
    }
   ],
   "source": [
    "head(datadf$EmploymentStatusDuration)"
   ]
  },
  {
   "cell_type": "markdown",
   "metadata": {
    "deletable": true,
    "editable": true
   },
   "source": [
    "Nice Distribution."
   ]
  },
  {
   "cell_type": "markdown",
   "metadata": {
    "deletable": true,
    "editable": true
   },
   "source": [
    "Credit Range Upper and Lower. I would like to know the spread within each person, and the variance of that spread. Is this te same as Mean Upper - Mean Lower?"
   ]
  },
  {
   "cell_type": "code",
   "execution_count": 122,
   "metadata": {
    "collapsed": false,
    "deletable": true,
    "editable": true
   },
   "outputs": [],
   "source": [
    "creditScoreUpper <- datadf$CreditScoreRangeUpper\n",
    "creditScoreLower <- datadf$CreditScoreRangeLower"
   ]
  },
  {
   "cell_type": "code",
   "execution_count": 124,
   "metadata": {
    "collapsed": false,
    "deletable": true,
    "editable": true
   },
   "outputs": [
    {
     "data": {
      "text/html": [
       "<ol class=list-inline>\n",
       "\t<li>659</li>\n",
       "\t<li>699</li>\n",
       "\t<li>499</li>\n",
       "\t<li>819</li>\n",
       "\t<li>699</li>\n",
       "\t<li>759</li>\n",
       "</ol>\n"
      ],
      "text/latex": [
       "\\begin{enumerate*}\n",
       "\\item 659\n",
       "\\item 699\n",
       "\\item 499\n",
       "\\item 819\n",
       "\\item 699\n",
       "\\item 759\n",
       "\\end{enumerate*}\n"
      ],
      "text/markdown": [
       "1. 659\n",
       "2. 699\n",
       "3. 499\n",
       "4. 819\n",
       "5. 699\n",
       "6. 759\n",
       "\n",
       "\n"
      ],
      "text/plain": [
       "[1] 659 699 499 819 699 759"
      ]
     },
     "metadata": {},
     "output_type": "display_data"
    }
   ],
   "source": [
    "head(creditScoreUpper)"
   ]
  },
  {
   "cell_type": "code",
   "execution_count": 134,
   "metadata": {
    "collapsed": false,
    "deletable": true,
    "editable": true
   },
   "outputs": [
    {
     "name": "stderr",
     "output_type": "stream",
     "text": [
      "Warning message:\n",
      "\"Removed 591 rows containing non-finite values (stat_bin).\""
     ]
    },
    {
     "data": {},
     "metadata": {},
     "output_type": "display_data"
    },
    {
     "data": {
      "image/png": "[encoded data removed]",
      "text/plain": [
       "plot without title"
      ]
     },
     "metadata": {},
     "output_type": "display_data"
    }
   ],
   "source": [
    "ggplot(datadf, aes(CreditScoreRangeUpper)) + geom_histogram(binwidth=5) + coord_cartesian(xlim=c(450,900))\n",
    "#Zooming in to take because Credit Score of 0 ruins scale of histogram."
   ]
  },
  {
   "cell_type": "markdown",
   "metadata": {
    "deletable": true,
    "editable": true
   },
   "source": [
    "The two bumps in credit score here remind me of the bumps in APR/Rate. I'm sure there is a correlation there - more people with the same credit score more people with the same rate. I wonder how Prosper comes up with their score, is it just Fico or something more? Also it would be interesting to see what credit score distribution looks like in the general population."
   ]
  },
  {
   "cell_type": "code",
   "execution_count": 135,
   "metadata": {
    "collapsed": false,
    "deletable": true,
    "editable": true
   },
   "outputs": [
    {
     "name": "stderr",
     "output_type": "stream",
     "text": [
      "Warning message:\n",
      "\"Removed 591 rows containing non-finite values (stat_bin).\""
     ]
    },
    {
     "data": {},
     "metadata": {},
     "output_type": "display_data"
    },
    {
     "data": {
      "image/png": "[encoded data removed]",
      "text/plain": [
       "plot without title"
      ]
     },
     "metadata": {},
     "output_type": "display_data"
    }
   ],
   "source": [
    "ggplot(datadf, aes(CreditScoreRangeLower)) + geom_histogram(binwidth=5) + coord_cartesian(xlim=c(450,900))\n",
    "#Zooming in to take because Credit Score of 0 ruins scale of histogram."
   ]
  },
  {
   "cell_type": "markdown",
   "metadata": {
    "deletable": true,
    "editable": true
   },
   "source": [
    "Would like to plot these one over another. </br>\n",
    "Are two histograms appropriate? Perhaps two density plots overlayed with low alpha\n",
    "Complete: Also need to find better binwidth."
   ]
  },
  {
   "cell_type": "code",
   "execution_count": 136,
   "metadata": {
    "collapsed": false,
    "deletable": true,
    "editable": true
   },
   "outputs": [
    {
     "data": {
      "text/plain": [
       "   Min. 1st Qu.  Median    Mean 3rd Qu.    Max. \n",
       "-0.0100  0.1242  0.1730  0.1827  0.2400  0.4925 "
      ]
     },
     "metadata": {},
     "output_type": "display_data"
    }
   ],
   "source": [
    "#Lender Yield\n",
    "summary(datadf$LenderYield)"
   ]
  },
  {
   "cell_type": "code",
   "execution_count": 140,
   "metadata": {
    "collapsed": false,
    "deletable": true,
    "editable": true
   },
   "outputs": [
    {
     "data": {},
     "metadata": {},
     "output_type": "display_data"
    },
    {
     "data": {
      "image/png": "[encoded data removed]",
      "text/plain": [
       "plot without title"
      ]
     },
     "metadata": {},
     "output_type": "display_data"
    }
   ],
   "source": [
    "ggplot(datadf, aes(LenderYield)) + geom_histogram(binwidth = .01)"
   ]
  },
  {
   "cell_type": "markdown",
   "metadata": {
    "deletable": true,
    "editable": true
   },
   "source": [
    "Density plot here? How do we best represent the spice around .3. Also, must be some pricing strategy."
   ]
  },
  {
   "cell_type": "code",
   "execution_count": 146,
   "metadata": {
    "collapsed": false,
    "deletable": true,
    "editable": true
   },
   "outputs": [
    {
     "data": {
      "text/html": [
       "<ol class=list-inline>\n",
       "\t<li>NA</li>\n",
       "\t<li>0.0796</li>\n",
       "\t<li>NA</li>\n",
       "\t<li>0.0849</li>\n",
       "\t<li>0.18316</li>\n",
       "\t<li>0.11567</li>\n",
       "</ol>\n"
      ],
      "text/latex": [
       "\\begin{enumerate*}\n",
       "\\item NA\n",
       "\\item 0.0796\n",
       "\\item NA\n",
       "\\item 0.0849\n",
       "\\item 0.18316\n",
       "\\item 0.11567\n",
       "\\end{enumerate*}\n"
      ],
      "text/markdown": [
       "1. NA\n",
       "2. 0.0796\n",
       "3. NA\n",
       "4. 0.0849\n",
       "5. 0.18316\n",
       "6. 0.11567\n",
       "\n",
       "\n"
      ],
      "text/plain": [
       "[1]      NA 0.07960      NA 0.08490 0.18316 0.11567"
      ]
     },
     "metadata": {},
     "output_type": "display_data"
    },
    {
     "data": {
      "text/plain": [
       "   Min. 1st Qu.  Median    Mean 3rd Qu.    Max.    NA's \n",
       " -0.183   0.116   0.162   0.169   0.224   0.320   29084 "
      ]
     },
     "metadata": {},
     "output_type": "display_data"
    }
   ],
   "source": [
    "head(datadf$EstimatedEffectiveYield)\n",
    "summary(datadf$EstimatedEffectiveYield)"
   ]
  },
  {
   "cell_type": "code",
   "execution_count": 148,
   "metadata": {
    "collapsed": false,
    "deletable": true,
    "editable": true
   },
   "outputs": [
    {
     "name": "stderr",
     "output_type": "stream",
     "text": [
      "Warning message:\n",
      "\"Removed 29084 rows containing non-finite values (stat_bin).\""
     ]
    },
    {
     "data": {},
     "metadata": {},
     "output_type": "display_data"
    },
    {
     "data": {
      "image/png": "[encoded data removed]",
      "text/plain": [
       "plot without title"
      ]
     },
     "metadata": {},
     "output_type": "display_data"
    }
   ],
   "source": [
    "ggplot(datadf, aes(EstimatedEffectiveYield)) + geom_histogram(bins=50)"
   ]
  },
  {
   "cell_type": "markdown",
   "metadata": {
    "deletable": true,
    "editable": true
   },
   "source": [
    "Related to Lender Yield - perhaps I could find hte adjustment between the two?"
   ]
  },
  {
   "cell_type": "code",
   "execution_count": 150,
   "metadata": {
    "collapsed": false,
    "deletable": true,
    "editable": true
   },
   "outputs": [
    {
     "data": {
      "text/html": [
       "<ol class=list-inline>\n",
       "\t<li>NA</li>\n",
       "\t<li>7</li>\n",
       "\t<li>NA</li>\n",
       "\t<li>9</li>\n",
       "\t<li>4</li>\n",
       "\t<li>10</li>\n",
       "</ol>\n"
      ],
      "text/latex": [
       "\\begin{enumerate*}\n",
       "\\item NA\n",
       "\\item 7\n",
       "\\item NA\n",
       "\\item 9\n",
       "\\item 4\n",
       "\\item 10\n",
       "\\end{enumerate*}\n"
      ],
      "text/markdown": [
       "1. NA\n",
       "2. 7\n",
       "3. NA\n",
       "4. 9\n",
       "5. 4\n",
       "6. 10\n",
       "\n",
       "\n"
      ],
      "text/plain": [
       "[1] NA  7 NA  9  4 10"
      ]
     },
     "metadata": {},
     "output_type": "display_data"
    },
    {
     "data": {
      "text/plain": [
       "   Min. 1st Qu.  Median    Mean 3rd Qu.    Max.    NA's \n",
       "   1.00    4.00    6.00    5.95    8.00   11.00   29084 "
      ]
     },
     "metadata": {},
     "output_type": "display_data"
    }
   ],
   "source": [
    "head(datadf$ProsperScore)\n",
    "summary(datadf$ProsperScore)"
   ]
  },
  {
   "cell_type": "markdown",
   "metadata": {
    "deletable": true,
    "editable": true
   },
   "source": [
    "Scale is a little strange to me, why is max 11?"
   ]
  },
  {
   "cell_type": "code",
   "execution_count": 151,
   "metadata": {
    "collapsed": false,
    "deletable": true,
    "editable": true
   },
   "outputs": [
    {
     "name": "stderr",
     "output_type": "stream",
     "text": [
      "Warning message:\n",
      "\"Removed 29084 rows containing non-finite values (stat_count).\""
     ]
    },
    {
     "data": {},
     "metadata": {},
     "output_type": "display_data"
    },
    {
     "data": {
      "image/png": "[encoded data removed]",
      "text/plain": [
       "plot without title"
      ]
     },
     "metadata": {},
     "output_type": "display_data"
    }
   ],
   "source": [
    "ggplot(datadf, aes(ProsperScore)) + geom_bar()"
   ]
  },
  {
   "cell_type": "markdown",
   "metadata": {
    "deletable": true,
    "editable": true
   },
   "source": [
    "Ah, it's really a 0-10 scale transposed one to the right. Nice distribution. Accidentally went through this one twice."
   ]
  },
  {
   "cell_type": "code",
   "execution_count": 155,
   "metadata": {
    "collapsed": false,
    "deletable": true,
    "editable": true
   },
   "outputs": [
    {
     "data": {
      "text/html": [
       "<ol class=list-inline>\n",
       "\t<li>$25,000-49,999</li>\n",
       "\t<li>$50,000-74,999</li>\n",
       "\t<li>Not displayed</li>\n",
       "\t<li>$25,000-49,999</li>\n",
       "\t<li>$100,000+</li>\n",
       "\t<li>$100,000+</li>\n",
       "</ol>\n"
      ],
      "text/latex": [
       "\\begin{enumerate*}\n",
       "\\item \\$25,000-49,999\n",
       "\\item \\$50,000-74,999\n",
       "\\item Not displayed\n",
       "\\item \\$25,000-49,999\n",
       "\\item \\$100,000+\n",
       "\\item \\$100,000+\n",
       "\\end{enumerate*}\n"
      ],
      "text/markdown": [
       "1. $25,000-49,999\n",
       "2. $50,000-74,999\n",
       "3. Not displayed\n",
       "4. $25,000-49,999\n",
       "5. $100,000+\n",
       "6. $100,000+\n",
       "\n",
       "\n"
      ],
      "text/plain": [
       "[1] $25,000-49,999 $50,000-74,999 Not displayed  $25,000-49,999 $100,000+     \n",
       "[6] $100,000+     \n",
       "8 Levels: $0 $1-24,999 $100,000+ $25,000-49,999 ... Not employed"
      ]
     },
     "metadata": {},
     "output_type": "display_data"
    },
    {
     "data": {
      "text/html": [
       "<ol class=list-inline>\n",
       "\t<li>$0</li>\n",
       "\t<li>$1-24,999</li>\n",
       "\t<li>$100,000+</li>\n",
       "\t<li>$25,000-49,999</li>\n",
       "\t<li>$50,000-74,999</li>\n",
       "\t<li>$75,000-99,999</li>\n",
       "\t<li>Not displayed</li>\n",
       "\t<li>Not employed</li>\n",
       "</ol>\n"
      ],
      "text/latex": [
       "\\begin{enumerate*}\n",
       "\\item \\$0\n",
       "\\item \\$1-24,999\n",
       "\\item \\$100,000+\n",
       "\\item \\$25,000-49,999\n",
       "\\item \\$50,000-74,999\n",
       "\\item \\$75,000-99,999\n",
       "\\item Not displayed\n",
       "\\item Not employed\n",
       "\\end{enumerate*}\n"
      ],
      "text/markdown": [
       "1. $0\n",
       "2. $1-24,999\n",
       "3. $100,000+\n",
       "4. $25,000-49,999\n",
       "5. $50,000-74,999\n",
       "6. $75,000-99,999\n",
       "7. Not displayed\n",
       "8. Not employed\n",
       "\n",
       "\n"
      ],
      "text/plain": [
       "[1] $0             $1-24,999      $100,000+      $25,000-49,999 $50,000-74,999\n",
       "[6] $75,000-99,999 Not displayed  Not employed  \n",
       "8 Levels: $0 $1-24,999 $100,000+ $25,000-49,999 ... Not employed"
      ]
     },
     "metadata": {},
     "output_type": "display_data"
    }
   ],
   "source": [
    "head(datadf$IncomeRange)\n",
    "#Ordered Data\n",
    "#Is there a way to see how many potential values contained in this column? Perhaps unique()\n",
    "sort(unique(datadf$IncomeRange))\n",
    "#Close enough for me to read."
   ]
  },
  {
   "cell_type": "code",
   "execution_count": 156,
   "metadata": {
    "collapsed": false,
    "deletable": true,
    "editable": true
   },
   "outputs": [
    {
     "data": {},
     "metadata": {},
     "output_type": "display_data"
    },
    {
     "data": {
      "image/png": "[encoded data removed]",
      "text/plain": [
       "plot without title"
      ]
     },
     "metadata": {},
     "output_type": "display_data"
    }
   ],
   "source": [
    "ggplot(datadf, aes(IncomeRange)) + geom_bar()"
   ]
  },
  {
   "cell_type": "markdown",
   "metadata": {
    "deletable": true,
    "editable": true
   },
   "source": [
    "Looks like a distribution, but actually the factors? on the right are separate. Also, cutting off after 100k+ is interesting, but gives us less to work with. Also, $0 == Not Employed."
   ]
  },
  {
   "cell_type": "code",
   "execution_count": 157,
   "metadata": {
    "collapsed": false,
    "deletable": true,
    "editable": true
   },
   "outputs": [
    {
     "data": {
      "text/html": [
       "<ol class=list-inline>\n",
       "\t<li>True</li>\n",
       "\t<li>True</li>\n",
       "\t<li>True</li>\n",
       "\t<li>True</li>\n",
       "\t<li>True</li>\n",
       "\t<li>True</li>\n",
       "</ol>\n"
      ],
      "text/latex": [
       "\\begin{enumerate*}\n",
       "\\item True\n",
       "\\item True\n",
       "\\item True\n",
       "\\item True\n",
       "\\item True\n",
       "\\item True\n",
       "\\end{enumerate*}\n"
      ],
      "text/markdown": [
       "1. True\n",
       "2. True\n",
       "3. True\n",
       "4. True\n",
       "5. True\n",
       "6. True\n",
       "\n",
       "\n"
      ],
      "text/plain": [
       "[1] True True True True True True\n",
       "Levels: False True"
      ]
     },
     "metadata": {},
     "output_type": "display_data"
    }
   ],
   "source": [
    "head(datadf$IncomeVerifiable)"
   ]
  },
  {
   "cell_type": "code",
   "execution_count": 158,
   "metadata": {
    "collapsed": false,
    "deletable": true,
    "editable": true
   },
   "outputs": [
    {
     "data": {},
     "metadata": {},
     "output_type": "display_data"
    },
    {
     "data": {
      "image/png": "[encoded data removed]",
      "text/plain": [
       "plot without title"
      ]
     },
     "metadata": {},
     "output_type": "display_data"
    }
   ],
   "source": [
    "ggplot(datadf, aes(IncomeVerifiable)) + geom_bar()"
   ]
  },
  {
   "cell_type": "markdown",
   "metadata": {
    "deletable": true,
    "editable": true
   },
   "source": [
    "I wonder what the aspects of a loan where the income isn't verified are. Will investigate."
   ]
  },
  {
   "cell_type": "code",
   "execution_count": 160,
   "metadata": {
    "collapsed": false,
    "deletable": true,
    "editable": true
   },
   "outputs": [
    {
     "data": {
      "text/html": [
       "<ol class=list-inline>\n",
       "\t<li>330.43</li>\n",
       "\t<li>318.93</li>\n",
       "\t<li>123.32</li>\n",
       "\t<li>321.45</li>\n",
       "\t<li>563.97</li>\n",
       "\t<li>342.37</li>\n",
       "</ol>\n"
      ],
      "text/latex": [
       "\\begin{enumerate*}\n",
       "\\item 330.43\n",
       "\\item 318.93\n",
       "\\item 123.32\n",
       "\\item 321.45\n",
       "\\item 563.97\n",
       "\\item 342.37\n",
       "\\end{enumerate*}\n"
      ],
      "text/markdown": [
       "1. 330.43\n",
       "2. 318.93\n",
       "3. 123.32\n",
       "4. 321.45\n",
       "5. 563.97\n",
       "6. 342.37\n",
       "\n",
       "\n"
      ],
      "text/plain": [
       "[1] 330.43 318.93 123.32 321.45 563.97 342.37"
      ]
     },
     "metadata": {},
     "output_type": "display_data"
    },
    {
     "data": {
      "text/plain": [
       "   Min. 1st Qu.  Median    Mean 3rd Qu.    Max. \n",
       "    0.0   131.6   217.7   272.5   371.6  2252.0 "
      ]
     },
     "metadata": {},
     "output_type": "display_data"
    }
   ],
   "source": [
    "head(datadf$MonthlyLoanPayment)\n",
    "summary(datadf$MonthlyLoanPayment)"
   ]
  },
  {
   "cell_type": "code",
   "execution_count": 163,
   "metadata": {
    "collapsed": false,
    "deletable": true,
    "editable": true
   },
   "outputs": [
    {
     "data": {},
     "metadata": {},
     "output_type": "display_data"
    },
    {
     "data": {
      "image/png": "[encoded data removed]",
      "text/plain": [
       "plot without title"
      ]
     },
     "metadata": {},
     "output_type": "display_data"
    }
   ],
   "source": [
    "monthlyPayment <- ggplot(datadf, aes(MonthlyLoanPayment)) + geom_histogram(bins=50)\n",
    "monthlyPayment"
   ]
  },
  {
   "cell_type": "code",
   "execution_count": 166,
   "metadata": {
    "collapsed": false,
    "deletable": true,
    "editable": true
   },
   "outputs": [
    {
     "data": {},
     "metadata": {},
     "output_type": "display_data"
    },
    {
     "data": {
      "image/png": "[encoded data removed]",
      "text/plain": [
       "plot without title"
      ]
     },
     "metadata": {},
     "output_type": "display_data"
    }
   ],
   "source": [
    "#Looks like there's a big outlier there with our max  22252. But our histogram makes it hard to see this. Let's zoom in.\n",
    "monthlyPayment + coord_cartesian(c(0,1250))"
   ]
  },
  {
   "cell_type": "markdown",
   "metadata": {
    "deletable": true,
    "editable": true
   },
   "source": [
    "After 200 there is a sharp drop off in monthly payments. There must be something here. I wonder if it's related to income or debt to income, or perhaps the amount of money people usually need. How big are these loans?"
   ]
  },
  {
   "cell_type": "code",
   "execution_count": 171,
   "metadata": {
    "collapsed": false,
    "deletable": true,
    "editable": true
   },
   "outputs": [
    {
     "data": {
      "text/html": [
       "<ol class=list-inline>\n",
       "\t<li>9425</li>\n",
       "\t<li>10000</li>\n",
       "\t<li>3001</li>\n",
       "\t<li>10000</li>\n",
       "\t<li>15000</li>\n",
       "\t<li>15000</li>\n",
       "</ol>\n"
      ],
      "text/latex": [
       "\\begin{enumerate*}\n",
       "\\item 9425\n",
       "\\item 10000\n",
       "\\item 3001\n",
       "\\item 10000\n",
       "\\item 15000\n",
       "\\item 15000\n",
       "\\end{enumerate*}\n"
      ],
      "text/markdown": [
       "1. 9425\n",
       "2. 10000\n",
       "3. 3001\n",
       "4. 10000\n",
       "5. 15000\n",
       "6. 15000\n",
       "\n",
       "\n"
      ],
      "text/plain": [
       "[1]  9425 10000  3001 10000 15000 15000"
      ]
     },
     "metadata": {},
     "output_type": "display_data"
    },
    {
     "data": {
      "text/plain": [
       "   Min. 1st Qu.  Median    Mean 3rd Qu.    Max. \n",
       "   1000    4000    6500    8337   12000   35000 "
      ]
     },
     "metadata": {},
     "output_type": "display_data"
    },
    {
     "data": {},
     "metadata": {},
     "output_type": "display_data"
    },
    {
     "data": {
      "image/png": "[encoded data removed]",
      "text/plain": [
       "plot without title"
      ]
     },
     "metadata": {},
     "output_type": "display_data"
    }
   ],
   "source": [
    "head(datadf$LoanOriginalAmount)\n",
    "summary(datadf$LoanOriginalAmount)\n",
    "ggplot(datadf, aes(LoanOriginalAmount)) + geom_histogram(bins=100)\n",
    "#how could I mike the bins seperate by 500's or 100's?"
   ]
  },
  {
   "cell_type": "code",
   "execution_count": 173,
   "metadata": {
    "collapsed": false,
    "deletable": true,
    "editable": true
   },
   "outputs": [
    {
     "data": {
      "text/html": [
       "<ol class=list-inline>\n",
       "\t<li>1</li>\n",
       "\t<li>1</li>\n",
       "\t<li>1</li>\n",
       "\t<li>1</li>\n",
       "\t<li>1</li>\n",
       "\t<li>1</li>\n",
       "</ol>\n"
      ],
      "text/latex": [
       "\\begin{enumerate*}\n",
       "\\item 1\n",
       "\\item 1\n",
       "\\item 1\n",
       "\\item 1\n",
       "\\item 1\n",
       "\\item 1\n",
       "\\end{enumerate*}\n"
      ],
      "text/markdown": [
       "1. 1\n",
       "2. 1\n",
       "3. 1\n",
       "4. 1\n",
       "5. 1\n",
       "6. 1\n",
       "\n",
       "\n"
      ],
      "text/plain": [
       "[1] 1 1 1 1 1 1"
      ]
     },
     "metadata": {},
     "output_type": "display_data"
    },
    {
     "data": {
      "text/plain": [
       "   Min. 1st Qu.  Median    Mean 3rd Qu.    Max. \n",
       " 0.7000  1.0000  1.0000  0.9986  1.0000  1.0120 "
      ]
     },
     "metadata": {},
     "output_type": "display_data"
    },
    {
     "name": "stderr",
     "output_type": "stream",
     "text": [
      "`stat_bin()` using `bins = 30`. Pick better value with `binwidth`.\n"
     ]
    },
    {
     "data": {},
     "metadata": {},
     "output_type": "display_data"
    },
    {
     "data": {
      "image/png": "[encoded data removed]",
      "text/plain": [
       "plot without title"
      ]
     },
     "metadata": {},
     "output_type": "display_data"
    }
   ],
   "source": [
    "head(datadf$PercentFunded)\n",
    "summary(datadf$PercentFunded)\n",
    "ggplot(datadf, aes(PercentFunded)) + geom_histogram()"
   ]
  },
  {
   "cell_type": "markdown",
   "metadata": {
    "deletable": true,
    "editable": true
   },
   "source": [
    "OK, so it looks like the vast percentage were 100% funded. Let's take a closer look at those that weren't.\n",
    "todo: get number of total that were funded entirely"
   ]
  },
  {
   "cell_type": "code",
   "execution_count": 174,
   "metadata": {
    "collapsed": true,
    "deletable": true,
    "editable": true
   },
   "outputs": [],
   "source": [
    "ggplot(datadf, aes(PercentFunded)) + geom_histogram() + coord_cartesian(\n",
    "#I think filter works here"
   ]
  },
  {
   "cell_type": "code",
   "execution_count": 211,
   "metadata": {
    "collapsed": false,
    "deletable": true,
    "editable": true
   },
   "outputs": [
    {
     "data": {
      "text/plain": [
       "   Min. 1st Qu.  Median    Mean 3rd Qu.    Max. \n",
       "   1.00    2.00   44.00   80.48  115.00 1189.00 "
      ]
     },
     "metadata": {},
     "output_type": "display_data"
    }
   ],
   "source": [
    "summary(datadf$Investors)"
   ]
  },
  {
   "cell_type": "markdown",
   "metadata": {
    "deletable": true,
    "editable": true
   },
   "source": [
    "Should be related to the size of the loan."
   ]
  },
  {
   "cell_type": "code",
   "execution_count": 214,
   "metadata": {
    "collapsed": false,
    "deletable": true,
    "editable": true
   },
   "outputs": [
    {
     "data": {},
     "metadata": {},
     "output_type": "display_data"
    },
    {
     "data": {
      "image/png": "[encoded data removed]",
      "text/plain": [
       "plot without title"
      ]
     },
     "metadata": {},
     "output_type": "display_data"
    }
   ],
   "source": [
    "ggplot(datadf, aes(Investors)) + geom_histogram(bins=100)"
   ]
  },
  {
   "cell_type": "markdown",
   "metadata": {
    "deletable": true,
    "editable": true
   },
   "source": [
    "Wow, in a a platform that lets you pool your risk, a lot of loansstill only have 1... Or is that 0?"
   ]
  },
  {
   "cell_type": "code",
   "execution_count": 218,
   "metadata": {
    "collapsed": false,
    "deletable": true,
    "editable": true
   },
   "outputs": [
    {
     "data": {
      "text/plain": [
       "\n",
       "    1     2     3     4     5     6     7     8     9    10 \n",
       "27814  1386   991   827   753   721   701   753   721   728 "
      ]
     },
     "metadata": {},
     "output_type": "display_data"
    }
   ],
   "source": [
    "table(datadf$Investors)[1:10]"
   ]
  },
  {
   "cell_type": "markdown",
   "metadata": {
    "deletable": true,
    "editable": true
   },
   "source": [
    "Deffinitely 1! Yikes. Can't wait to see what causes that."
   ]
  },
  {
   "cell_type": "markdown",
   "metadata": {
    "collapsed": true,
    "deletable": true,
    "editable": true
   },
   "source": [
    "1 - Term \n",
    "#####LoanStatus = Need tto group loans efffectively first\n",
    "BorrowerAPR\n",
    "Estimated Effective Yield / Yield would have had\n",
    "#####Income Range\n",
    "#####Loan Amount"
   ]
  },
  {
   "cell_type": "code",
   "execution_count": 12,
   "metadata": {
    "collapsed": false,
    "deletable": true,
    "editable": true
   },
   "outputs": [
    {
     "name": "stderr",
     "output_type": "stream",
     "text": [
      "Warning message:\n",
      "\"Removed 25 rows containing non-finite values (stat_boxplot).\""
     ]
    },
    {
     "data": {},
     "metadata": {},
     "output_type": "display_data"
    },
    {
     "data": {
      "image/png": "[encoded data removed]",
      "text/plain": [
       "plot without title"
      ]
     },
     "metadata": {},
     "output_type": "display_data"
    }
   ],
   "source": [
    "ggplot(datadf, aes(group=Term, x=Term/12, y=BorrowerAPR)) + geom_boxplot()"
   ]
  },
  {
   "cell_type": "code",
   "execution_count": 16,
   "metadata": {
    "collapsed": false,
    "deletable": true,
    "editable": true
   },
   "outputs": [
    {
     "data": {},
     "metadata": {},
     "output_type": "display_data"
    },
    {
     "data": {
      "image/png": "[encoded data removed]",
      "text/plain": [
       "plot without title"
      ]
     },
     "metadata": {},
     "output_type": "display_data"
    }
   ],
   "source": [
    "ggplot(datadf, aes(group=Term, x=Term/12, y=LenderYield)) + geom_boxplot()"
   ]
  },
  {
   "cell_type": "markdown",
   "metadata": {
    "deletable": true,
    "editable": true
   },
   "source": [
    "Well that's interesting, but in hindsight pretty obvious. Though the median(?) Borrower APR stays flat over the three terms, the expect yield increases. That makes sense though, seeing that given 2 loans of the same amount with the same APR the one with the longer term will have a higgher yield. (More payments, more time to collect interest, etc."
   ]
  },
  {
   "cell_type": "code",
   "execution_count": 18,
   "metadata": {
    "collapsed": false,
    "deletable": true,
    "editable": true
   },
   "outputs": [
    {
     "name": "stderr",
     "output_type": "stream",
     "text": [
      "Warning message:\n",
      "\"Removed 29084 rows containing non-finite values (stat_boxplot).\""
     ]
    },
    {
     "data": {},
     "metadata": {},
     "output_type": "display_data"
    },
    {
     "data": {
      "image/png": "[encoded data removed]",
      "text/plain": [
       "plot without title"
      ]
     },
     "metadata": {},
     "output_type": "display_data"
    }
   ],
   "source": [
    "#Let's look at the same thing for Estimated Effective Yield\n",
    "ggplot(datadf, aes(group=Term, x=Term/12, y=EstimatedEffectiveYield)) + geom_boxplot()"
   ]
  },
  {
   "cell_type": "markdown",
   "metadata": {
    "deletable": true,
    "editable": true
   },
   "source": [
    "The term's relationship to one another stay static, but there are a bunch of outliers with negative Estimated Effective Yield, and only in the 3 year term. Let's take a look atht those loans."
   ]
  },
  {
   "cell_type": "code",
   "execution_count": 19,
   "metadata": {
    "collapsed": true,
    "deletable": true,
    "editable": true
   },
   "outputs": [],
   "source": [
    "negativeExpectedYield <- datadf %>%\n",
    "filter(EstimatedEffectiveYield <= 0)"
   ]
  },
  {
   "cell_type": "code",
   "execution_count": 20,
   "metadata": {
    "collapsed": false,
    "deletable": true,
    "editable": true
   },
   "outputs": [
    {
     "data": {
      "text/html": [
       "<table>\n",
       "<thead><tr><th scope=col>ListingKey</th><th scope=col>ListingNumber</th><th scope=col>ListingCreationDate</th><th scope=col>CreditGrade</th><th scope=col>Term</th><th scope=col>LoanStatus</th><th scope=col>ClosedDate</th><th scope=col>BorrowerAPR</th><th scope=col>BorrowerRate</th><th scope=col>LenderYield</th><th scope=col>...</th><th scope=col>LP_ServiceFees</th><th scope=col>LP_CollectionFees</th><th scope=col>LP_GrossPrincipalLoss</th><th scope=col>LP_NetPrincipalLoss</th><th scope=col>LP_NonPrincipalRecoverypayments</th><th scope=col>PercentFunded</th><th scope=col>Recommendations</th><th scope=col>InvestmentFromFriendsCount</th><th scope=col>InvestmentFromFriendsAmount</th><th scope=col>Investors</th></tr></thead>\n",
       "<tbody>\n",
       "\t<tr><td>089C348555489823736377D      </td><td>460749                       </td><td>2010-05-30 18:37:24.953000000</td><td>                             </td><td>36                           </td><td>Chargedoff                   </td><td>2013-01-11 00:00:00          </td><td>0.24807                      </td><td>0.2100                       </td><td>0.2000                       </td><td>...                          </td><td> -15.46                      </td><td> 0.00                        </td><td> 383.08                      </td><td> 383.08                      </td><td>0                            </td><td>1                            </td><td>0                            </td><td>0                            </td><td>   0.00                      </td><td> 31                          </td></tr>\n",
       "\t<tr><td>32543499181220496DBB555      </td><td>483095                       </td><td>2010-11-05 14:46:00.163000000</td><td>                             </td><td>36                           </td><td>Completed                    </td><td>2011-04-21 00:00:00          </td><td>0.36783                      </td><td>0.3269                       </td><td>0.3169                       </td><td>...                          </td><td>  -5.91                      </td><td> 0.00                        </td><td>   0.00                      </td><td>   0.00                      </td><td>0                            </td><td>1                            </td><td>0                            </td><td>1                            </td><td>1058.77                      </td><td> 27                          </td></tr>\n",
       "\t<tr><td>4685347195009875809A70E      </td><td>440607                       </td><td>2010-01-01 14:46:53.843000000</td><td>                             </td><td>36                           </td><td>Completed                    </td><td>2011-02-28 00:00:00          </td><td>0.22491                      </td><td>0.2000                       </td><td>0.1900                       </td><td>...                          </td><td> -14.35                      </td><td> 0.00                        </td><td>   0.00                      </td><td>   0.00                      </td><td>0                            </td><td>1                            </td><td>0                            </td><td>0                            </td><td>   0.00                      </td><td> 75                          </td></tr>\n",
       "\t<tr><td>6DD034810270651087DFB9F      </td><td>452658                       </td><td>2010-04-05 09:10:40.280000000</td><td>                             </td><td>36                           </td><td>Completed                    </td><td>2011-04-29 00:00:00          </td><td>0.36336                      </td><td>0.3390                       </td><td>0.3290                       </td><td>...                          </td><td> -13.30                      </td><td> 0.00                        </td><td>   0.00                      </td><td>   0.00                      </td><td>0                            </td><td>1                            </td><td>0                            </td><td>1                            </td><td> 100.00                      </td><td> 60                          </td></tr>\n",
       "\t<tr><td>0B5C34738042854656430E6      </td><td>441714                       </td><td>2010-01-08 13:39:38.123000000</td><td>                             </td><td>36                           </td><td>Chargedoff                   </td><td>2012-01-22 00:00:00          </td><td>0.37453                      </td><td>0.3500                       </td><td>0.3400                       </td><td>...                          </td><td> -24.48                      </td><td>-5.95                        </td><td>1170.57                      </td><td>1170.57                      </td><td>0                            </td><td>1                            </td><td>0                            </td><td>0                            </td><td>   0.00                      </td><td> 24                          </td></tr>\n",
       "\t<tr><td>421F3494976253733186DF9      </td><td>477067                       </td><td>2010-09-25 12:10:55.217000000</td><td>                             </td><td>36                           </td><td>Chargedoff                   </td><td>2011-05-10 00:00:00          </td><td>0.38620                      </td><td>0.3490                       </td><td>0.3390                       </td><td>...                          </td><td> -12.44                      </td><td> 0.00                        </td><td>7256.40                      </td><td>7256.40                      </td><td>0                            </td><td>1                            </td><td>0                            </td><td>0                            </td><td>   0.00                      </td><td> 61                          </td></tr>\n",
       "\t<tr><td>9E5E3498204991686FFFDC9      </td><td>481925                       </td><td>2010-10-28 10:18:14.733000000</td><td>                             </td><td>36                           </td><td>Completed                    </td><td>2011-05-13 00:00:00          </td><td>0.34631                      </td><td>0.3100                       </td><td>0.3000                       </td><td>...                          </td><td> -31.49                      </td><td> 0.00                        </td><td>   0.00                      </td><td>   0.00                      </td><td>0                            </td><td>1                            </td><td>0                            </td><td>0                            </td><td>   0.00                      </td><td> 75                          </td></tr>\n",
       "\t<tr><td>06C634936764915582779CD      </td><td>474698                       </td><td>2010-09-07 07:57:07.080000000</td><td>                             </td><td>36                           </td><td>Chargedoff                   </td><td>2013-05-18 00:00:00          </td><td>0.37699                      </td><td>0.3400                       </td><td>0.3300                       </td><td>...                          </td><td>-123.99                      </td><td> 0.00                        </td><td>2684.45                      </td><td>2684.45                      </td><td>0                            </td><td>1                            </td><td>0                            </td><td>0                            </td><td>   0.00                      </td><td> 37                          </td></tr>\n",
       "\t<tr><td>0F393487035940130A9724B      </td><td>463090                       </td><td>2010-06-18 09:24:37.347000000</td><td>                             </td><td>36                           </td><td>Completed                    </td><td>2011-02-18 00:00:00          </td><td>0.33281                      </td><td>0.3089                       </td><td>0.2989                       </td><td>...                          </td><td> -35.39                      </td><td> 0.00                        </td><td>   0.00                      </td><td>   0.00                      </td><td>0                            </td><td>1                            </td><td>1                            </td><td>1                            </td><td>  25.00                      </td><td>169                          </td></tr>\n",
       "\t<tr><td>3AA83459022108282F14863      </td><td>416980                       </td><td>2009-07-17 13:57:20.620000000</td><td>                             </td><td>36                           </td><td>Completed                    </td><td>2012-05-23 00:00:00          </td><td>0.37453                      </td><td>0.3500                       </td><td>0.3400                       </td><td>...                          </td><td> -24.61                      </td><td> 0.00                        </td><td>   0.00                      </td><td>   0.00                      </td><td>0                            </td><td>1                            </td><td>0                            </td><td>0                            </td><td>   0.00                      </td><td>  1                          </td></tr>\n",
       "\t<tr><td>951734715607690434676F3      </td><td>439186                       </td><td>2009-12-19 16:52:50.200000000</td><td>                             </td><td>36                           </td><td>Completed                    </td><td>2012-12-31 00:00:00          </td><td>0.36438                      </td><td>0.3400                       </td><td>0.3300                       </td><td>...                          </td><td> -50.40                      </td><td> 0.00                        </td><td>   0.00                      </td><td>   0.00                      </td><td>0                            </td><td>1                            </td><td>0                            </td><td>0                            </td><td>   0.00                      </td><td> 68                          </td></tr>\n",
       "\t<tr><td>30E73477967521420B48181      </td><td>450235                       </td><td>2010-03-12 11:18:17.957000000</td><td>                             </td><td>36                           </td><td>Completed                    </td><td>2013-02-27 00:00:00          </td><td>0.20260                      </td><td>0.1805                       </td><td>0.1705                       </td><td>...                          </td><td>-117.21                      </td><td> 0.00                        </td><td>   0.00                      </td><td>   0.00                      </td><td>0                            </td><td>1                            </td><td>0                            </td><td>0                            </td><td>   0.00                      </td><td>  3                          </td></tr>\n",
       "\t<tr><td>9D9C34645778963111B6064      </td><td>427428                       </td><td>2009-10-08 10:53:36.003000000</td><td>                             </td><td>36                           </td><td>Chargedoff                   </td><td>2010-11-18 00:00:00          </td><td>0.20735                      </td><td>0.1827                       </td><td>0.1727                       </td><td>...                          </td><td>  -9.61                      </td><td> 0.00                        </td><td>1329.99                      </td><td>1312.56                      </td><td>0                            </td><td>1                            </td><td>0                            </td><td>0                            </td><td>   0.00                      </td><td>  1                          </td></tr>\n",
       "\t<tr><td>009B3495741061236C0C927      </td><td>477848                       </td><td>2010-09-30 16:29:48.017000000</td><td>                             </td><td>36                           </td><td>Completed                    </td><td>2013-10-14 00:00:00          </td><td>0.38723                      </td><td>0.3500                       </td><td>0.3400                       </td><td>...                          </td><td>-106.13                      </td><td> 0.00                        </td><td>   0.00                      </td><td>   0.00                      </td><td>0                            </td><td>1                            </td><td>0                            </td><td>0                            </td><td>   0.00                      </td><td> 80                          </td></tr>\n",
       "\t<tr><td>2F973490896224270661A5B      </td><td>468917                       </td><td>2010-07-28 11:38:29.650000000</td><td>                             </td><td>36                           </td><td>Completed                    </td><td>2012-04-07 00:00:00          </td><td>0.38109                      </td><td>0.3440                       </td><td>0.3340                       </td><td>...                          </td><td> -31.10                      </td><td> 0.00                        </td><td>   0.00                      </td><td>   0.00                      </td><td>0                            </td><td>1                            </td><td>0                            </td><td>0                            </td><td>   0.00                      </td><td> 51                          </td></tr>\n",
       "\t<tr><td>ED6334997080608798C4AAC      </td><td>483031                       </td><td>2010-11-05 11:34:27.367000000</td><td>                             </td><td>36                           </td><td>Completed                    </td><td>2011-03-29 00:00:00          </td><td>0.26822                      </td><td>0.2100                       </td><td>0.2000                       </td><td>...                          </td><td>  -2.90                      </td><td> 0.00                        </td><td>   0.00                      </td><td>   0.00                      </td><td>0                            </td><td>1                            </td><td>0                            </td><td>0                            </td><td>   0.00                      </td><td> 61                          </td></tr>\n",
       "\t<tr><td>0A493500724918931BC92AD      </td><td>485927                       </td><td>2010-11-28 10:26:41.450000000</td><td>                             </td><td>36                           </td><td>Completed                    </td><td>2013-12-07 00:00:00          </td><td>0.34631                      </td><td>0.3100                       </td><td>0.3000                       </td><td>...                          </td><td> -53.09                      </td><td> 0.00                        </td><td>   0.00                      </td><td>   0.00                      </td><td>0                            </td><td>1                            </td><td>1                            </td><td>0                            </td><td>   0.00                      </td><td> 77                          </td></tr>\n",
       "\t<tr><td>2DD734790047377761A273F      </td><td>448926                       </td><td>2010-03-05 12:00:35.537000000</td><td>                             </td><td>36                           </td><td>Completed                    </td><td>2012-07-13 00:00:00          </td><td>0.33393                      </td><td>0.3100                       </td><td>0.3000                       </td><td>...                          </td><td> -65.89                      </td><td> 0.00                        </td><td>   0.00                      </td><td>   0.00                      </td><td>0                            </td><td>1                            </td><td>0                            </td><td>0                            </td><td>   0.00                      </td><td> 90                          </td></tr>\n",
       "\t<tr><td>2D9B34605941550368990B6      </td><td>421817                       </td><td>2009-08-24 09:34:05.760000000</td><td>                             </td><td>36                           </td><td>Chargedoff                   </td><td>2013-01-02 00:00:00          </td><td>0.37453                      </td><td>0.3500                       </td><td>0.3400                       </td><td>...                          </td><td> -30.67                      </td><td> 0.00                        </td><td> 126.98                      </td><td> 126.98                      </td><td>0                            </td><td>1                            </td><td>0                            </td><td>0                            </td><td>   0.00                      </td><td> 30                          </td></tr>\n",
       "\t<tr><td>5B283501148182785E410F3      </td><td>484999                       </td><td>2010-11-18 12:03:18.170000000</td><td>                             </td><td>36                           </td><td>Completed                    </td><td>2013-11-30 00:00:00          </td><td>0.36646                      </td><td>0.3297                       </td><td>0.3197                       </td><td>...                          </td><td> -32.02                      </td><td> 0.00                        </td><td>   0.00                      </td><td>   0.00                      </td><td>0                            </td><td>1                            </td><td>0                            </td><td>0                            </td><td>   0.00                      </td><td> 51                          </td></tr>\n",
       "\t<tr><td>E66E3466420453669FA5E20      </td><td>431508                       </td><td>2009-11-02 18:51:50.857000000</td><td>                             </td><td>36                           </td><td>Chargedoff                   </td><td>2010-10-10 00:00:00          </td><td>0.37453                      </td><td>0.3500                       </td><td>0.3400                       </td><td>...                          </td><td> -13.15                      </td><td> 0.00                        </td><td>3287.79                      </td><td>3272.80                      </td><td>0                            </td><td>1                            </td><td>0                            </td><td>0                            </td><td>   0.00                      </td><td>  1                          </td></tr>\n",
       "\t<tr><td>A84234919972024700E788D      </td><td>469907                       </td><td>2010-08-03 18:26:38.910000000</td><td>                             </td><td>36                           </td><td>Completed                    </td><td>2011-12-20 00:00:00          </td><td>0.21291                      </td><td>0.1794                       </td><td>0.1694                       </td><td>...                          </td><td> -28.18                      </td><td> 0.00                        </td><td>   0.00                      </td><td>   0.00                      </td><td>0                            </td><td>1                            </td><td>1                            </td><td>2                            </td><td>1774.42                      </td><td> 53                          </td></tr>\n",
       "\t<tr><td>16ED3472868394333E87B22      </td><td>442499                       </td><td>2010-01-14 09:37:49.377000000</td><td>                             </td><td>36                           </td><td>Completed                    </td><td>2013-01-19 00:00:00          </td><td>0.11155                      </td><td>0.0906                       </td><td>0.0806                       </td><td>...                          </td><td>-162.60                      </td><td> 0.00                        </td><td>   0.00                      </td><td>   0.00                      </td><td>0                            </td><td>1                            </td><td>0                            </td><td>0                            </td><td>   0.00                      </td><td>  1                          </td></tr>\n",
       "\t<tr><td>16B23499408173940883262      </td><td>485266                       </td><td>2010-11-21 05:38:54.950000000</td><td>                             </td><td>36                           </td><td>Completed                    </td><td>2013-11-30 00:00:00          </td><td>0.38723                      </td><td>0.3500                       </td><td>0.3400                       </td><td>...                          </td><td> -46.76                      </td><td> 0.00                        </td><td>   0.00                      </td><td>   0.00                      </td><td>0                            </td><td>1                            </td><td>1                            </td><td>1                            </td><td>  25.00                      </td><td> 38                          </td></tr>\n",
       "\t<tr><td>B1E63500679848022856766      </td><td>486405                       </td><td>2010-12-01 19:11:37.317000000</td><td>                             </td><td>36                           </td><td>Completed                    </td><td>2013-04-11 00:00:00          </td><td>0.38723                      </td><td>0.3500                       </td><td>0.3400                       </td><td>...                          </td><td> -61.97                      </td><td> 0.00                        </td><td>   0.00                      </td><td>   0.00                      </td><td>0                            </td><td>1                            </td><td>0                            </td><td>0                            </td><td>   0.00                      </td><td> 33                          </td></tr>\n",
       "\t<tr><td>9A4E3492821389543047631      </td><td>473029                       </td><td>2010-08-24 19:07:26.757000000</td><td>                             </td><td>36                           </td><td>Completed                    </td><td>2011-03-22 00:00:00          </td><td>0.41355                      </td><td>0.3500                       </td><td>0.3400                       </td><td>...                          </td><td>  -5.15                      </td><td> 0.00                        </td><td>   0.00                      </td><td>   0.00                      </td><td>0                            </td><td>1                            </td><td>0                            </td><td>0                            </td><td>   0.00                      </td><td> 22                          </td></tr>\n",
       "\t<tr><td>A97F34930346098313445C1      </td><td>474439                       </td><td>2010-09-04 08:15:17.333000000</td><td>                             </td><td>36                           </td><td>Completed                    </td><td>2012-01-30 00:00:00          </td><td>0.14360                      </td><td>0.0895                       </td><td>0.0795                       </td><td>...                          </td><td>  -4.89                      </td><td> 0.00                        </td><td>   0.00                      </td><td>   0.00                      </td><td>0                            </td><td>1                            </td><td>0                            </td><td>0                            </td><td>   0.00                      </td><td> 73                          </td></tr>\n",
       "\t<tr><td>9E7A3492907493044A627C2      </td><td>471571                       </td><td>2010-08-15 13:52:55.137000000</td><td>                             </td><td>36                           </td><td>Completed                    </td><td>2013-08-24 00:00:00          </td><td>0.26302                      </td><td>0.2285                       </td><td>0.2185                       </td><td>...                          </td><td> -34.24                      </td><td> 0.00                        </td><td>   0.00                      </td><td>   0.00                      </td><td>0                            </td><td>1                            </td><td>0                            </td><td>0                            </td><td>   0.00                      </td><td>144                          </td></tr>\n",
       "\t<tr><td>BAC4350200668046339B539      </td><td>486562                       </td><td>2010-12-02 12:56:27.757000000</td><td>                             </td><td>36                           </td><td>Completed                    </td><td>2013-02-05 00:00:00          </td><td>0.41355                      </td><td>0.3500                       </td><td>0.3400                       </td><td>...                          </td><td> -16.14                      </td><td> 0.00                        </td><td>   0.00                      </td><td>   0.00                      </td><td>0                            </td><td>1                            </td><td>0                            </td><td>0                            </td><td>   0.00                      </td><td> 20                          </td></tr>\n",
       "\t<tr><td>029A3499706893097DB1393      </td><td>482554                       </td><td>2010-11-02 11:04:47.190000000</td><td>                             </td><td>36                           </td><td>Completed                    </td><td>2013-11-17 00:00:00          </td><td>0.38723                      </td><td>0.3500                       </td><td>0.3400                       </td><td>...                          </td><td> -36.28                      </td><td> 0.00                        </td><td>   0.00                      </td><td>   0.00                      </td><td>0                            </td><td>1                            </td><td>0                            </td><td>0                            </td><td>   0.00                      </td><td> 36                          </td></tr>\n",
       "\t<tr><td>...</td><td>...</td><td>...</td><td>...</td><td>...</td><td>...</td><td>...</td><td>...</td><td>...</td><td>...</td><td>   </td><td>...</td><td>...</td><td>...</td><td>...</td><td>...</td><td>...</td><td>...</td><td>...</td><td>...</td><td>...</td></tr>\n",
       "\t<tr><td>EA203466661740046532855      </td><td>432093                       </td><td>2009-11-06 14:49:19.267000000</td><td>                             </td><td>36                           </td><td>Chargedoff                   </td><td>2010-06-13 00:00:00          </td><td>0.22237                      </td><td>0.2000                       </td><td>0.1900                       </td><td>...                          </td><td>  -9.00                      </td><td>  0.00                       </td><td>4576.98                      </td><td>4576.97                      </td><td>  0                          </td><td>1                            </td><td>0                            </td><td>0                            </td><td>   0.00                      </td><td>  1                          </td></tr>\n",
       "\t<tr><td>87793468051018224ED5E2C      </td><td>432323                       </td><td>2009-11-07 17:05:14.507000000</td><td>                             </td><td>36                           </td><td>Completed                    </td><td>2012-04-06 00:00:00          </td><td>0.20504                      </td><td>0.1829                       </td><td>0.1729                       </td><td>...                          </td><td> -39.61                      </td><td>  0.00                       </td><td>   0.00                      </td><td>   0.00                      </td><td>  0                          </td><td>1                            </td><td>0                            </td><td>0                            </td><td>   0.00                      </td><td>  4                          </td></tr>\n",
       "\t<tr><td>6FC834823486444499C7547      </td><td>456105                       </td><td>2010-04-28 08:36:36.637000000</td><td>                             </td><td>36                           </td><td>Chargedoff                   </td><td>2012-05-12 00:00:00          </td><td>0.37453                      </td><td>0.3500                       </td><td>0.3400                       </td><td>...                          </td><td> -50.58                      </td><td>-77.01                       </td><td>2513.24                      </td><td>2513.24                      </td><td>136                          </td><td>1                            </td><td>0                            </td><td>0                            </td><td>   0.00                      </td><td> 38                          </td></tr>\n",
       "\t<tr><td>4937346216847197452FB8A      </td><td>423755                       </td><td>2009-09-09 15:58:48.523000000</td><td>                             </td><td>36                           </td><td>Completed                    </td><td>2012-06-05 00:00:00          </td><td>0.21223                      </td><td>0.1900                       </td><td>0.1800                       </td><td>...                          </td><td> -39.49                      </td><td>  0.00                       </td><td>   0.00                      </td><td>   0.00                      </td><td>  0                          </td><td>1                            </td><td>0                            </td><td>0                            </td><td>   0.00                      </td><td>  1                          </td></tr>\n",
       "\t<tr><td>C15F348278626944169A872      </td><td>458169                       </td><td>2010-05-13 06:49:09.163000000</td><td>                             </td><td>36                           </td><td>Completed                    </td><td>2013-05-18 00:00:00          </td><td>0.21476                      </td><td>0.1900                       </td><td>0.1800                       </td><td>...                          </td><td> -25.31                      </td><td>  0.00                       </td><td>   0.00                      </td><td>   0.00                      </td><td>  0                          </td><td>1                            </td><td>0                            </td><td>0                            </td><td>   0.00                      </td><td> 12                          </td></tr>\n",
       "\t<tr><td>789F350210398763651BA91      </td><td>485962                       </td><td>2010-11-28 19:45:12.420000000</td><td>                             </td><td>36                           </td><td>Completed                    </td><td>2013-12-13 00:00:00          </td><td>0.32005                      </td><td>0.2600                       </td><td>0.2500                       </td><td>...                          </td><td> -17.37                      </td><td>  0.00                       </td><td>   0.00                      </td><td>   0.00                      </td><td>  0                          </td><td>1                            </td><td>1                            </td><td>2                            </td><td>  55.00                      </td><td> 31                          </td></tr>\n",
       "\t<tr><td>DF90346174340002351C1F4      </td><td>422477                       </td><td>2009-08-30 07:49:07.147000000</td><td>                             </td><td>36                           </td><td>Completed                    </td><td>2012-09-09 00:00:00          </td><td>0.20695                      </td><td>0.1823                       </td><td>0.1723                       </td><td>...                          </td><td> -25.13                      </td><td>  0.00                       </td><td>   0.00                      </td><td>   0.00                      </td><td>  0                          </td><td>1                            </td><td>0                            </td><td>0                            </td><td>   0.00                      </td><td>  3                          </td></tr>\n",
       "\t<tr><td>269235009277038600A8F41      </td><td>486901                       </td><td>2010-12-06 09:50:28.423000000</td><td>                             </td><td>36                           </td><td>Completed                    </td><td>2013-01-07 00:00:00          </td><td>0.39821                      </td><td>0.3500                       </td><td>0.3400                       </td><td>...                          </td><td> -16.10                      </td><td>  0.00                       </td><td>   0.00                      </td><td>   0.00                      </td><td>  0                          </td><td>1                            </td><td>0                            </td><td>0                            </td><td>   0.00                      </td><td> 28                          </td></tr>\n",
       "\t<tr><td>A57234935967547991ACEA8      </td><td>474384                       </td><td>2010-09-03 15:50:11.600000000</td><td>                             </td><td>36                           </td><td>Chargedoff                   </td><td>2013-06-24 00:00:00          </td><td>0.38723                      </td><td>0.3500                       </td><td>0.3400                       </td><td>...                          </td><td> -39.46                      </td><td>  0.00                       </td><td> 829.70                      </td><td> 829.70                      </td><td>  0                          </td><td>1                            </td><td>0                            </td><td>0                            </td><td>   0.00                      </td><td> 42                          </td></tr>\n",
       "\t<tr><td>4B5A34808530538374A1D66      </td><td>454760                       </td><td>2010-04-17 07:44:16.297000000</td><td>                             </td><td>36                           </td><td>Completed                    </td><td>2012-02-27 00:00:00          </td><td>0.22522                      </td><td>0.2003                       </td><td>0.1903                       </td><td>...                          </td><td> -20.43                      </td><td>  0.00                       </td><td>   0.00                      </td><td>   0.00                      </td><td>  0                          </td><td>1                            </td><td>0                            </td><td>0                            </td><td>   0.00                      </td><td> 48                          </td></tr>\n",
       "\t<tr><td>DB453501219046087835C54      </td><td>486316                       </td><td>2010-11-30 18:19:18.730000000</td><td>                             </td><td>36                           </td><td>Completed                    </td><td>2011-04-22 00:00:00          </td><td>0.39153                      </td><td>0.3500                       </td><td>0.3400                       </td><td>...                          </td><td>  -5.41                      </td><td>  0.00                       </td><td>   0.00                      </td><td>   0.00                      </td><td>  0                          </td><td>1                            </td><td>0                            </td><td>0                            </td><td>   0.00                      </td><td> 29                          </td></tr>\n",
       "\t<tr><td>A91D34785676125336640F0      </td><td>450451                       </td><td>2010-03-14 20:03:02.273000000</td><td>                             </td><td>36                           </td><td>Completed                    </td><td>2011-03-25 00:00:00          </td><td>0.37443                      </td><td>0.3499                       </td><td>0.3399                       </td><td>...                          </td><td> -58.20                      </td><td>  0.00                       </td><td>   0.00                      </td><td>   0.00                      </td><td>  0                          </td><td>1                            </td><td>0                            </td><td>0                            </td><td>   0.00                      </td><td> 81                          </td></tr>\n",
       "\t<tr><td>F5D73489855329001299FF4      </td><td>469312                       </td><td>2010-07-30 08:47:21.447000000</td><td>                             </td><td>36                           </td><td>Completed                    </td><td>2013-08-11 00:00:00          </td><td>0.08999                      </td><td>0.0693                       </td><td>0.0593                       </td><td>...                          </td><td>-127.58                      </td><td>  0.00                       </td><td>   0.00                      </td><td>   0.00                      </td><td>  0                          </td><td>1                            </td><td>0                            </td><td>1                            </td><td>4000.00                      </td><td>  2                          </td></tr>\n",
       "\t<tr><td>E7A63484022509283D51CD4      </td><td>460192                       </td><td>2010-05-27 02:12:13.103000000</td><td>                             </td><td>36                           </td><td>Completed                    </td><td>2011-03-03 00:00:00          </td><td>0.37453                      </td><td>0.3500                       </td><td>0.3400                       </td><td>...                          </td><td> -44.99                      </td><td>  0.00                       </td><td>   0.00                      </td><td>   0.00                      </td><td>  0                          </td><td>1                            </td><td>0                            </td><td>0                            </td><td>   0.00                      </td><td> 43                          </td></tr>\n",
       "\t<tr><td>EA623467677786916EBA487      </td><td>430588                       </td><td>2009-10-27 13:34:06.360000000</td><td>                             </td><td>36                           </td><td>Completed                    </td><td>2012-08-31 00:00:00          </td><td>0.18133                      </td><td>0.1595                       </td><td>0.1495                       </td><td>...                          </td><td> -32.95                      </td><td>  0.00                       </td><td>   0.00                      </td><td>   0.00                      </td><td>  0                          </td><td>1                            </td><td>0                            </td><td>0                            </td><td>   0.00                      </td><td> 14                          </td></tr>\n",
       "\t<tr><td>CC393491765818171671DB7      </td><td>469869                       </td><td>2010-08-03 19:12:11.047000000</td><td>                             </td><td>36                           </td><td>Chargedoff                   </td><td>2011-11-15 00:00:00          </td><td>0.38723                      </td><td>0.3500                       </td><td>0.3400                       </td><td>...                          </td><td> -57.59                      </td><td>  0.00                       </td><td>6123.56                      </td><td>6123.56                      </td><td>  0                          </td><td>1                            </td><td>1                            </td><td>1                            </td><td>1748.66                      </td><td> 20                          </td></tr>\n",
       "\t<tr><td>B61D3495731427761944829      </td><td>477092                       </td><td>2010-09-25 12:48:31.330000000</td><td>                             </td><td>36                           </td><td>Completed                    </td><td>2013-11-19 00:00:00          </td><td>0.30031                      </td><td>0.2650                       </td><td>0.2550                       </td><td>...                          </td><td>-106.26                      </td><td>-80.31                       </td><td>   0.00                      </td><td>   0.00                      </td><td>  0                          </td><td>1                            </td><td>1                            </td><td>0                            </td><td>   0.00                      </td><td> 82                          </td></tr>\n",
       "\t<tr><td>121E34965887476537FE189      </td><td>480718                       </td><td>2010-10-20 06:31:26.270000000</td><td>                             </td><td>36                           </td><td>Completed                    </td><td>2013-07-09 00:00:00          </td><td>0.21352                      </td><td>0.1800                       </td><td>0.1700                       </td><td>...                          </td><td> -52.12                      </td><td>  0.00                       </td><td>   0.00                      </td><td>   0.00                      </td><td>  0                          </td><td>1                            </td><td>0                            </td><td>0                            </td><td>   0.00                      </td><td> 63                          </td></tr>\n",
       "\t<tr><td>B3EE3502272243880283B16      </td><td>487169                       </td><td>2010-12-08 09:07:06.530000000</td><td>                             </td><td>36                           </td><td>Completed                    </td><td>2013-02-08 00:00:00          </td><td>0.38127                      </td><td>0.3400                       </td><td>0.3300                       </td><td>...                          </td><td> -23.67                      </td><td>  0.00                       </td><td>   0.00                      </td><td>   0.00                      </td><td>  0                          </td><td>1                            </td><td>0                            </td><td>0                            </td><td>   0.00                      </td><td> 20                          </td></tr>\n",
       "\t<tr><td>73AA346937387942113D189      </td><td>433566                       </td><td>2009-11-16 08:17:56.767000000</td><td>                             </td><td>36                           </td><td>Completed                    </td><td>2010-01-11 00:00:00          </td><td>0.22237                      </td><td>0.2000                       </td><td>0.1900                       </td><td>...                          </td><td> -14.66                      </td><td>  0.00                       </td><td>   0.00                      </td><td>   0.00                      </td><td>  0                          </td><td>1                            </td><td>0                            </td><td>0                            </td><td>   0.00                      </td><td>  1                          </td></tr>\n",
       "\t<tr><td>F6E13478114370526251C1C      </td><td>450345                       </td><td>2010-03-15 06:43:55.170000000</td><td>                             </td><td>36                           </td><td>Completed                    </td><td>2010-10-15 00:00:00          </td><td>0.37453                      </td><td>0.3500                       </td><td>0.3400                       </td><td>...                          </td><td> -26.51                      </td><td>  0.00                       </td><td>   0.00                      </td><td>   0.00                      </td><td>  0                          </td><td>1                            </td><td>0                            </td><td>0                            </td><td>   0.00                      </td><td> 48                          </td></tr>\n",
       "\t<tr><td>24263477605508875B1445A      </td><td>448509                       </td><td>2010-03-02 11:44:36.243000000</td><td>                             </td><td>36                           </td><td>Completed                    </td><td>2013-01-08 00:00:00          </td><td>0.23784                      </td><td>0.2000                       </td><td>0.1900                       </td><td>...                          </td><td> -16.76                      </td><td>  0.00                       </td><td>   0.00                      </td><td>   0.00                      </td><td>  0                          </td><td>1                            </td><td>0                            </td><td>0                            </td><td>   0.00                      </td><td> 71                          </td></tr>\n",
       "\t<tr><td>E83C3488674044403859127      </td><td>467035                       </td><td>2010-07-17 05:21:48.957000000</td><td>                             </td><td>36                           </td><td>Completed                    </td><td>2013-02-14 00:00:00          </td><td>0.37453                      </td><td>0.3500                       </td><td>0.3400                       </td><td>...                          </td><td>-143.57                      </td><td>  0.00                       </td><td>   0.00                      </td><td>   0.00                      </td><td>  0                          </td><td>1                            </td><td>1                            </td><td>1                            </td><td> 200.08                      </td><td> 32                          </td></tr>\n",
       "\t<tr><td>297D347700685376134183D      </td><td>447504                       </td><td>2010-02-22 10:50:18.203000000</td><td>                             </td><td>36                           </td><td>Completed                    </td><td>2013-02-19 00:00:00          </td><td>0.20918                      </td><td>0.1845                       </td><td>0.1745                       </td><td>...                          </td><td> -25.16                      </td><td>  0.00                       </td><td>   0.00                      </td><td>   0.00                      </td><td>  0                          </td><td>1                            </td><td>0                            </td><td>0                            </td><td>   0.00                      </td><td> 21                          </td></tr>\n",
       "\t<tr><td>D99F34974391116263A9EB0      </td><td>480631                       </td><td>2010-10-19 15:51:36.043000000</td><td>                             </td><td>36                           </td><td>Completed                    </td><td>2013-11-08 00:00:00          </td><td>0.35701                      </td><td>0.3100                       </td><td>0.3000                       </td><td>...                          </td><td> -22.98                      </td><td>  0.00                       </td><td>   0.00                      </td><td>   0.00                      </td><td>  0                          </td><td>1                            </td><td>0                            </td><td>0                            </td><td>   0.00                      </td><td> 33                          </td></tr>\n",
       "\t<tr><td>CABD3496593465083DED371      </td><td>480503                       </td><td>2010-10-19 13:38:35.113000000</td><td>                             </td><td>36                           </td><td>Completed                    </td><td>2011-02-24 00:00:00          </td><td>0.17066                      </td><td>0.1157                       </td><td>0.1057                       </td><td>...                          </td><td>  -0.78                      </td><td>  0.00                       </td><td>   0.00                      </td><td>   0.00                      </td><td>  0                          </td><td>1                            </td><td>0                            </td><td>0                            </td><td>   0.00                      </td><td> 12                          </td></tr>\n",
       "\t<tr><td>F09F34610643095230CB3CC      </td><td>422675                       </td><td>2009-09-01 09:19:16.690000000</td><td>                             </td><td>36                           </td><td>Completed                    </td><td>2009-12-08 00:00:00          </td><td>0.20392                      </td><td>0.1818                       </td><td>0.1718                       </td><td>...                          </td><td>  -6.43                      </td><td>  0.00                       </td><td>   0.00                      </td><td>   0.00                      </td><td>  0                          </td><td>1                            </td><td>0                            </td><td>0                            </td><td>   0.00                      </td><td>  8                          </td></tr>\n",
       "\t<tr><td>C2493464219717831D1AE7D      </td><td>426289                       </td><td>2009-09-29 12:46:07.890000000</td><td>                             </td><td>36                           </td><td>Completed                    </td><td>2010-02-02 00:00:00          </td><td>0.37453                      </td><td>0.3500                       </td><td>0.3400                       </td><td>...                          </td><td> -17.38                      </td><td>  0.00                       </td><td>   0.00                      </td><td>   0.00                      </td><td>  0                          </td><td>1                            </td><td>0                            </td><td>0                            </td><td>   0.00                      </td><td>  1                          </td></tr>\n",
       "\t<tr><td>FFDA34977230634045B6DD9      </td><td>479483                       </td><td>2010-10-12 18:21:43.497000000</td><td>                             </td><td>36                           </td><td>Completed                    </td><td>2013-01-29 00:00:00          </td><td>0.28498                      </td><td>0.2500                       </td><td>0.2400                       </td><td>...                          </td><td> -45.52                      </td><td>  0.00                       </td><td>   0.00                      </td><td>   0.00                      </td><td>  0                          </td><td>1                            </td><td>2                            </td><td>0                            </td><td>   0.00                      </td><td>121                          </td></tr>\n",
       "\t<tr><td>C9563467992330262C23724      </td><td>433774                       </td><td>2009-11-16 19:11:53.663000000</td><td>                             </td><td>36                           </td><td>Completed                    </td><td>2010-01-12 00:00:00          </td><td>0.20504                      </td><td>0.1829                       </td><td>0.1729                       </td><td>...                          </td><td>  -4.66                      </td><td>  0.00                       </td><td>   0.00                      </td><td>   0.00                      </td><td>  0                          </td><td>1                            </td><td>0                            </td><td>0                            </td><td>   0.00                      </td><td>  1                          </td></tr>\n",
       "</tbody>\n",
       "</table>\n"
      ],
      "text/latex": [
       "\\begin{tabular}{r|lllllllllllllllllllllllllllllllllllllllllllllllllllllllllllllllllllllllllllllllll}\n",
       " ListingKey & ListingNumber & ListingCreationDate & CreditGrade & Term & LoanStatus & ClosedDate & BorrowerAPR & BorrowerRate & LenderYield & ... & LP\\_ServiceFees & LP\\_CollectionFees & LP\\_GrossPrincipalLoss & LP\\_NetPrincipalLoss & LP\\_NonPrincipalRecoverypayments & PercentFunded & Recommendations & InvestmentFromFriendsCount & InvestmentFromFriendsAmount & Investors\\\\\n",
       "\\hline\n",
       "\t 089C348555489823736377D       & 460749                        & 2010-05-30 18:37:24.953000000 &                               & 36                            & Chargedoff                    & 2013-01-11 00:00:00           & 0.24807                       & 0.2100                        & 0.2000                        & ...                           &  -15.46                       &  0.00                         &  383.08                       &  383.08                       & 0                             & 1                             & 0                             & 0                             &    0.00                       &  31                          \\\\\n",
       "\t 32543499181220496DBB555       & 483095                        & 2010-11-05 14:46:00.163000000 &                               & 36                            & Completed                     & 2011-04-21 00:00:00           & 0.36783                       & 0.3269                        & 0.3169                        & ...                           &   -5.91                       &  0.00                         &    0.00                       &    0.00                       & 0                             & 1                             & 0                             & 1                             & 1058.77                       &  27                          \\\\\n",
       "\t 4685347195009875809A70E       & 440607                        & 2010-01-01 14:46:53.843000000 &                               & 36                            & Completed                     & 2011-02-28 00:00:00           & 0.22491                       & 0.2000                        & 0.1900                        & ...                           &  -14.35                       &  0.00                         &    0.00                       &    0.00                       & 0                             & 1                             & 0                             & 0                             &    0.00                       &  75                          \\\\\n",
       "\t 6DD034810270651087DFB9F       & 452658                        & 2010-04-05 09:10:40.280000000 &                               & 36                            & Completed                     & 2011-04-29 00:00:00           & 0.36336                       & 0.3390                        & 0.3290                        & ...                           &  -13.30                       &  0.00                         &    0.00                       &    0.00                       & 0                             & 1                             & 0                             & 1                             &  100.00                       &  60                          \\\\\n",
       "\t 0B5C34738042854656430E6       & 441714                        & 2010-01-08 13:39:38.123000000 &                               & 36                            & Chargedoff                    & 2012-01-22 00:00:00           & 0.37453                       & 0.3500                        & 0.3400                        & ...                           &  -24.48                       & -5.95                         & 1170.57                       & 1170.57                       & 0                             & 1                             & 0                             & 0                             &    0.00                       &  24                          \\\\\n",
       "\t 421F3494976253733186DF9       & 477067                        & 2010-09-25 12:10:55.217000000 &                               & 36                            & Chargedoff                    & 2011-05-10 00:00:00           & 0.38620                       & 0.3490                        & 0.3390                        & ...                           &  -12.44                       &  0.00                         & 7256.40                       & 7256.40                       & 0                             & 1                             & 0                             & 0                             &    0.00                       &  61                          \\\\\n",
       "\t 9E5E3498204991686FFFDC9       & 481925                        & 2010-10-28 10:18:14.733000000 &                               & 36                            & Completed                     & 2011-05-13 00:00:00           & 0.34631                       & 0.3100                        & 0.3000                        & ...                           &  -31.49                       &  0.00                         &    0.00                       &    0.00                       & 0                             & 1                             & 0                             & 0                             &    0.00                       &  75                          \\\\\n",
       "\t 06C634936764915582779CD       & 474698                        & 2010-09-07 07:57:07.080000000 &                               & 36                            & Chargedoff                    & 2013-05-18 00:00:00           & 0.37699                       & 0.3400                        & 0.3300                        & ...                           & -123.99                       &  0.00                         & 2684.45                       & 2684.45                       & 0                             & 1                             & 0                             & 0                             &    0.00                       &  37                          \\\\\n",
       "\t 0F393487035940130A9724B       & 463090                        & 2010-06-18 09:24:37.347000000 &                               & 36                            & Completed                     & 2011-02-18 00:00:00           & 0.33281                       & 0.3089                        & 0.2989                        & ...                           &  -35.39                       &  0.00                         &    0.00                       &    0.00                       & 0                             & 1                             & 1                             & 1                             &   25.00                       & 169                          \\\\\n",
       "\t 3AA83459022108282F14863       & 416980                        & 2009-07-17 13:57:20.620000000 &                               & 36                            & Completed                     & 2012-05-23 00:00:00           & 0.37453                       & 0.3500                        & 0.3400                        & ...                           &  -24.61                       &  0.00                         &    0.00                       &    0.00                       & 0                             & 1                             & 0                             & 0                             &    0.00                       &   1                          \\\\\n",
       "\t 951734715607690434676F3       & 439186                        & 2009-12-19 16:52:50.200000000 &                               & 36                            & Completed                     & 2012-12-31 00:00:00           & 0.36438                       & 0.3400                        & 0.3300                        & ...                           &  -50.40                       &  0.00                         &    0.00                       &    0.00                       & 0                             & 1                             & 0                             & 0                             &    0.00                       &  68                          \\\\\n",
       "\t 30E73477967521420B48181       & 450235                        & 2010-03-12 11:18:17.957000000 &                               & 36                            & Completed                     & 2013-02-27 00:00:00           & 0.20260                       & 0.1805                        & 0.1705                        & ...                           & -117.21                       &  0.00                         &    0.00                       &    0.00                       & 0                             & 1                             & 0                             & 0                             &    0.00                       &   3                          \\\\\n",
       "\t 9D9C34645778963111B6064       & 427428                        & 2009-10-08 10:53:36.003000000 &                               & 36                            & Chargedoff                    & 2010-11-18 00:00:00           & 0.20735                       & 0.1827                        & 0.1727                        & ...                           &   -9.61                       &  0.00                         & 1329.99                       & 1312.56                       & 0                             & 1                             & 0                             & 0                             &    0.00                       &   1                          \\\\\n",
       "\t 009B3495741061236C0C927       & 477848                        & 2010-09-30 16:29:48.017000000 &                               & 36                            & Completed                     & 2013-10-14 00:00:00           & 0.38723                       & 0.3500                        & 0.3400                        & ...                           & -106.13                       &  0.00                         &    0.00                       &    0.00                       & 0                             & 1                             & 0                             & 0                             &    0.00                       &  80                          \\\\\n",
       "\t 2F973490896224270661A5B       & 468917                        & 2010-07-28 11:38:29.650000000 &                               & 36                            & Completed                     & 2012-04-07 00:00:00           & 0.38109                       & 0.3440                        & 0.3340                        & ...                           &  -31.10                       &  0.00                         &    0.00                       &    0.00                       & 0                             & 1                             & 0                             & 0                             &    0.00                       &  51                          \\\\\n",
       "\t ED6334997080608798C4AAC       & 483031                        & 2010-11-05 11:34:27.367000000 &                               & 36                            & Completed                     & 2011-03-29 00:00:00           & 0.26822                       & 0.2100                        & 0.2000                        & ...                           &   -2.90                       &  0.00                         &    0.00                       &    0.00                       & 0                             & 1                             & 0                             & 0                             &    0.00                       &  61                          \\\\\n",
       "\t 0A493500724918931BC92AD       & 485927                        & 2010-11-28 10:26:41.450000000 &                               & 36                            & Completed                     & 2013-12-07 00:00:00           & 0.34631                       & 0.3100                        & 0.3000                        & ...                           &  -53.09                       &  0.00                         &    0.00                       &    0.00                       & 0                             & 1                             & 1                             & 0                             &    0.00                       &  77                          \\\\\n",
       "\t 2DD734790047377761A273F       & 448926                        & 2010-03-05 12:00:35.537000000 &                               & 36                            & Completed                     & 2012-07-13 00:00:00           & 0.33393                       & 0.3100                        & 0.3000                        & ...                           &  -65.89                       &  0.00                         &    0.00                       &    0.00                       & 0                             & 1                             & 0                             & 0                             &    0.00                       &  90                          \\\\\n",
       "\t 2D9B34605941550368990B6       & 421817                        & 2009-08-24 09:34:05.760000000 &                               & 36                            & Chargedoff                    & 2013-01-02 00:00:00           & 0.37453                       & 0.3500                        & 0.3400                        & ...                           &  -30.67                       &  0.00                         &  126.98                       &  126.98                       & 0                             & 1                             & 0                             & 0                             &    0.00                       &  30                          \\\\\n",
       "\t 5B283501148182785E410F3       & 484999                        & 2010-11-18 12:03:18.170000000 &                               & 36                            & Completed                     & 2013-11-30 00:00:00           & 0.36646                       & 0.3297                        & 0.3197                        & ...                           &  -32.02                       &  0.00                         &    0.00                       &    0.00                       & 0                             & 1                             & 0                             & 0                             &    0.00                       &  51                          \\\\\n",
       "\t E66E3466420453669FA5E20       & 431508                        & 2009-11-02 18:51:50.857000000 &                               & 36                            & Chargedoff                    & 2010-10-10 00:00:00           & 0.37453                       & 0.3500                        & 0.3400                        & ...                           &  -13.15                       &  0.00                         & 3287.79                       & 3272.80                       & 0                             & 1                             & 0                             & 0                             &    0.00                       &   1                          \\\\\n",
       "\t A84234919972024700E788D       & 469907                        & 2010-08-03 18:26:38.910000000 &                               & 36                            & Completed                     & 2011-12-20 00:00:00           & 0.21291                       & 0.1794                        & 0.1694                        & ...                           &  -28.18                       &  0.00                         &    0.00                       &    0.00                       & 0                             & 1                             & 1                             & 2                             & 1774.42                       &  53                          \\\\\n",
       "\t 16ED3472868394333E87B22       & 442499                        & 2010-01-14 09:37:49.377000000 &                               & 36                            & Completed                     & 2013-01-19 00:00:00           & 0.11155                       & 0.0906                        & 0.0806                        & ...                           & -162.60                       &  0.00                         &    0.00                       &    0.00                       & 0                             & 1                             & 0                             & 0                             &    0.00                       &   1                          \\\\\n",
       "\t 16B23499408173940883262       & 485266                        & 2010-11-21 05:38:54.950000000 &                               & 36                            & Completed                     & 2013-11-30 00:00:00           & 0.38723                       & 0.3500                        & 0.3400                        & ...                           &  -46.76                       &  0.00                         &    0.00                       &    0.00                       & 0                             & 1                             & 1                             & 1                             &   25.00                       &  38                          \\\\\n",
       "\t B1E63500679848022856766       & 486405                        & 2010-12-01 19:11:37.317000000 &                               & 36                            & Completed                     & 2013-04-11 00:00:00           & 0.38723                       & 0.3500                        & 0.3400                        & ...                           &  -61.97                       &  0.00                         &    0.00                       &    0.00                       & 0                             & 1                             & 0                             & 0                             &    0.00                       &  33                          \\\\\n",
       "\t 9A4E3492821389543047631       & 473029                        & 2010-08-24 19:07:26.757000000 &                               & 36                            & Completed                     & 2011-03-22 00:00:00           & 0.41355                       & 0.3500                        & 0.3400                        & ...                           &   -5.15                       &  0.00                         &    0.00                       &    0.00                       & 0                             & 1                             & 0                             & 0                             &    0.00                       &  22                          \\\\\n",
       "\t A97F34930346098313445C1       & 474439                        & 2010-09-04 08:15:17.333000000 &                               & 36                            & Completed                     & 2012-01-30 00:00:00           & 0.14360                       & 0.0895                        & 0.0795                        & ...                           &   -4.89                       &  0.00                         &    0.00                       &    0.00                       & 0                             & 1                             & 0                             & 0                             &    0.00                       &  73                          \\\\\n",
       "\t 9E7A3492907493044A627C2       & 471571                        & 2010-08-15 13:52:55.137000000 &                               & 36                            & Completed                     & 2013-08-24 00:00:00           & 0.26302                       & 0.2285                        & 0.2185                        & ...                           &  -34.24                       &  0.00                         &    0.00                       &    0.00                       & 0                             & 1                             & 0                             & 0                             &    0.00                       & 144                          \\\\\n",
       "\t BAC4350200668046339B539       & 486562                        & 2010-12-02 12:56:27.757000000 &                               & 36                            & Completed                     & 2013-02-05 00:00:00           & 0.41355                       & 0.3500                        & 0.3400                        & ...                           &  -16.14                       &  0.00                         &    0.00                       &    0.00                       & 0                             & 1                             & 0                             & 0                             &    0.00                       &  20                          \\\\\n",
       "\t 029A3499706893097DB1393       & 482554                        & 2010-11-02 11:04:47.190000000 &                               & 36                            & Completed                     & 2013-11-17 00:00:00           & 0.38723                       & 0.3500                        & 0.3400                        & ...                           &  -36.28                       &  0.00                         &    0.00                       &    0.00                       & 0                             & 1                             & 0                             & 0                             &    0.00                       &  36                          \\\\\n",
       "\t ... & ... & ... & ... & ... & ... & ... & ... & ... & ... &     & ... & ... & ... & ... & ... & ... & ... & ... & ... & ...\\\\\n",
       "\t EA203466661740046532855       & 432093                        & 2009-11-06 14:49:19.267000000 &                               & 36                            & Chargedoff                    & 2010-06-13 00:00:00           & 0.22237                       & 0.2000                        & 0.1900                        & ...                           &   -9.00                       &   0.00                        & 4576.98                       & 4576.97                       &   0                           & 1                             & 0                             & 0                             &    0.00                       &   1                          \\\\\n",
       "\t 87793468051018224ED5E2C       & 432323                        & 2009-11-07 17:05:14.507000000 &                               & 36                            & Completed                     & 2012-04-06 00:00:00           & 0.20504                       & 0.1829                        & 0.1729                        & ...                           &  -39.61                       &   0.00                        &    0.00                       &    0.00                       &   0                           & 1                             & 0                             & 0                             &    0.00                       &   4                          \\\\\n",
       "\t 6FC834823486444499C7547       & 456105                        & 2010-04-28 08:36:36.637000000 &                               & 36                            & Chargedoff                    & 2012-05-12 00:00:00           & 0.37453                       & 0.3500                        & 0.3400                        & ...                           &  -50.58                       & -77.01                        & 2513.24                       & 2513.24                       & 136                           & 1                             & 0                             & 0                             &    0.00                       &  38                          \\\\\n",
       "\t 4937346216847197452FB8A       & 423755                        & 2009-09-09 15:58:48.523000000 &                               & 36                            & Completed                     & 2012-06-05 00:00:00           & 0.21223                       & 0.1900                        & 0.1800                        & ...                           &  -39.49                       &   0.00                        &    0.00                       &    0.00                       &   0                           & 1                             & 0                             & 0                             &    0.00                       &   1                          \\\\\n",
       "\t C15F348278626944169A872       & 458169                        & 2010-05-13 06:49:09.163000000 &                               & 36                            & Completed                     & 2013-05-18 00:00:00           & 0.21476                       & 0.1900                        & 0.1800                        & ...                           &  -25.31                       &   0.00                        &    0.00                       &    0.00                       &   0                           & 1                             & 0                             & 0                             &    0.00                       &  12                          \\\\\n",
       "\t 789F350210398763651BA91       & 485962                        & 2010-11-28 19:45:12.420000000 &                               & 36                            & Completed                     & 2013-12-13 00:00:00           & 0.32005                       & 0.2600                        & 0.2500                        & ...                           &  -17.37                       &   0.00                        &    0.00                       &    0.00                       &   0                           & 1                             & 1                             & 2                             &   55.00                       &  31                          \\\\\n",
       "\t DF90346174340002351C1F4       & 422477                        & 2009-08-30 07:49:07.147000000 &                               & 36                            & Completed                     & 2012-09-09 00:00:00           & 0.20695                       & 0.1823                        & 0.1723                        & ...                           &  -25.13                       &   0.00                        &    0.00                       &    0.00                       &   0                           & 1                             & 0                             & 0                             &    0.00                       &   3                          \\\\\n",
       "\t 269235009277038600A8F41       & 486901                        & 2010-12-06 09:50:28.423000000 &                               & 36                            & Completed                     & 2013-01-07 00:00:00           & 0.39821                       & 0.3500                        & 0.3400                        & ...                           &  -16.10                       &   0.00                        &    0.00                       &    0.00                       &   0                           & 1                             & 0                             & 0                             &    0.00                       &  28                          \\\\\n",
       "\t A57234935967547991ACEA8       & 474384                        & 2010-09-03 15:50:11.600000000 &                               & 36                            & Chargedoff                    & 2013-06-24 00:00:00           & 0.38723                       & 0.3500                        & 0.3400                        & ...                           &  -39.46                       &   0.00                        &  829.70                       &  829.70                       &   0                           & 1                             & 0                             & 0                             &    0.00                       &  42                          \\\\\n",
       "\t 4B5A34808530538374A1D66       & 454760                        & 2010-04-17 07:44:16.297000000 &                               & 36                            & Completed                     & 2012-02-27 00:00:00           & 0.22522                       & 0.2003                        & 0.1903                        & ...                           &  -20.43                       &   0.00                        &    0.00                       &    0.00                       &   0                           & 1                             & 0                             & 0                             &    0.00                       &  48                          \\\\\n",
       "\t DB453501219046087835C54       & 486316                        & 2010-11-30 18:19:18.730000000 &                               & 36                            & Completed                     & 2011-04-22 00:00:00           & 0.39153                       & 0.3500                        & 0.3400                        & ...                           &   -5.41                       &   0.00                        &    0.00                       &    0.00                       &   0                           & 1                             & 0                             & 0                             &    0.00                       &  29                          \\\\\n",
       "\t A91D34785676125336640F0       & 450451                        & 2010-03-14 20:03:02.273000000 &                               & 36                            & Completed                     & 2011-03-25 00:00:00           & 0.37443                       & 0.3499                        & 0.3399                        & ...                           &  -58.20                       &   0.00                        &    0.00                       &    0.00                       &   0                           & 1                             & 0                             & 0                             &    0.00                       &  81                          \\\\\n",
       "\t F5D73489855329001299FF4       & 469312                        & 2010-07-30 08:47:21.447000000 &                               & 36                            & Completed                     & 2013-08-11 00:00:00           & 0.08999                       & 0.0693                        & 0.0593                        & ...                           & -127.58                       &   0.00                        &    0.00                       &    0.00                       &   0                           & 1                             & 0                             & 1                             & 4000.00                       &   2                          \\\\\n",
       "\t E7A63484022509283D51CD4       & 460192                        & 2010-05-27 02:12:13.103000000 &                               & 36                            & Completed                     & 2011-03-03 00:00:00           & 0.37453                       & 0.3500                        & 0.3400                        & ...                           &  -44.99                       &   0.00                        &    0.00                       &    0.00                       &   0                           & 1                             & 0                             & 0                             &    0.00                       &  43                          \\\\\n",
       "\t EA623467677786916EBA487       & 430588                        & 2009-10-27 13:34:06.360000000 &                               & 36                            & Completed                     & 2012-08-31 00:00:00           & 0.18133                       & 0.1595                        & 0.1495                        & ...                           &  -32.95                       &   0.00                        &    0.00                       &    0.00                       &   0                           & 1                             & 0                             & 0                             &    0.00                       &  14                          \\\\\n",
       "\t CC393491765818171671DB7       & 469869                        & 2010-08-03 19:12:11.047000000 &                               & 36                            & Chargedoff                    & 2011-11-15 00:00:00           & 0.38723                       & 0.3500                        & 0.3400                        & ...                           &  -57.59                       &   0.00                        & 6123.56                       & 6123.56                       &   0                           & 1                             & 1                             & 1                             & 1748.66                       &  20                          \\\\\n",
       "\t B61D3495731427761944829       & 477092                        & 2010-09-25 12:48:31.330000000 &                               & 36                            & Completed                     & 2013-11-19 00:00:00           & 0.30031                       & 0.2650                        & 0.2550                        & ...                           & -106.26                       & -80.31                        &    0.00                       &    0.00                       &   0                           & 1                             & 1                             & 0                             &    0.00                       &  82                          \\\\\n",
       "\t 121E34965887476537FE189       & 480718                        & 2010-10-20 06:31:26.270000000 &                               & 36                            & Completed                     & 2013-07-09 00:00:00           & 0.21352                       & 0.1800                        & 0.1700                        & ...                           &  -52.12                       &   0.00                        &    0.00                       &    0.00                       &   0                           & 1                             & 0                             & 0                             &    0.00                       &  63                          \\\\\n",
       "\t B3EE3502272243880283B16       & 487169                        & 2010-12-08 09:07:06.530000000 &                               & 36                            & Completed                     & 2013-02-08 00:00:00           & 0.38127                       & 0.3400                        & 0.3300                        & ...                           &  -23.67                       &   0.00                        &    0.00                       &    0.00                       &   0                           & 1                             & 0                             & 0                             &    0.00                       &  20                          \\\\\n",
       "\t 73AA346937387942113D189       & 433566                        & 2009-11-16 08:17:56.767000000 &                               & 36                            & Completed                     & 2010-01-11 00:00:00           & 0.22237                       & 0.2000                        & 0.1900                        & ...                           &  -14.66                       &   0.00                        &    0.00                       &    0.00                       &   0                           & 1                             & 0                             & 0                             &    0.00                       &   1                          \\\\\n",
       "\t F6E13478114370526251C1C       & 450345                        & 2010-03-15 06:43:55.170000000 &                               & 36                            & Completed                     & 2010-10-15 00:00:00           & 0.37453                       & 0.3500                        & 0.3400                        & ...                           &  -26.51                       &   0.00                        &    0.00                       &    0.00                       &   0                           & 1                             & 0                             & 0                             &    0.00                       &  48                          \\\\\n",
       "\t 24263477605508875B1445A       & 448509                        & 2010-03-02 11:44:36.243000000 &                               & 36                            & Completed                     & 2013-01-08 00:00:00           & 0.23784                       & 0.2000                        & 0.1900                        & ...                           &  -16.76                       &   0.00                        &    0.00                       &    0.00                       &   0                           & 1                             & 0                             & 0                             &    0.00                       &  71                          \\\\\n",
       "\t E83C3488674044403859127       & 467035                        & 2010-07-17 05:21:48.957000000 &                               & 36                            & Completed                     & 2013-02-14 00:00:00           & 0.37453                       & 0.3500                        & 0.3400                        & ...                           & -143.57                       &   0.00                        &    0.00                       &    0.00                       &   0                           & 1                             & 1                             & 1                             &  200.08                       &  32                          \\\\\n",
       "\t 297D347700685376134183D       & 447504                        & 2010-02-22 10:50:18.203000000 &                               & 36                            & Completed                     & 2013-02-19 00:00:00           & 0.20918                       & 0.1845                        & 0.1745                        & ...                           &  -25.16                       &   0.00                        &    0.00                       &    0.00                       &   0                           & 1                             & 0                             & 0                             &    0.00                       &  21                          \\\\\n",
       "\t D99F34974391116263A9EB0       & 480631                        & 2010-10-19 15:51:36.043000000 &                               & 36                            & Completed                     & 2013-11-08 00:00:00           & 0.35701                       & 0.3100                        & 0.3000                        & ...                           &  -22.98                       &   0.00                        &    0.00                       &    0.00                       &   0                           & 1                             & 0                             & 0                             &    0.00                       &  33                          \\\\\n",
       "\t CABD3496593465083DED371       & 480503                        & 2010-10-19 13:38:35.113000000 &                               & 36                            & Completed                     & 2011-02-24 00:00:00           & 0.17066                       & 0.1157                        & 0.1057                        & ...                           &   -0.78                       &   0.00                        &    0.00                       &    0.00                       &   0                           & 1                             & 0                             & 0                             &    0.00                       &  12                          \\\\\n",
       "\t F09F34610643095230CB3CC       & 422675                        & 2009-09-01 09:19:16.690000000 &                               & 36                            & Completed                     & 2009-12-08 00:00:00           & 0.20392                       & 0.1818                        & 0.1718                        & ...                           &   -6.43                       &   0.00                        &    0.00                       &    0.00                       &   0                           & 1                             & 0                             & 0                             &    0.00                       &   8                          \\\\\n",
       "\t C2493464219717831D1AE7D       & 426289                        & 2009-09-29 12:46:07.890000000 &                               & 36                            & Completed                     & 2010-02-02 00:00:00           & 0.37453                       & 0.3500                        & 0.3400                        & ...                           &  -17.38                       &   0.00                        &    0.00                       &    0.00                       &   0                           & 1                             & 0                             & 0                             &    0.00                       &   1                          \\\\\n",
       "\t FFDA34977230634045B6DD9       & 479483                        & 2010-10-12 18:21:43.497000000 &                               & 36                            & Completed                     & 2013-01-29 00:00:00           & 0.28498                       & 0.2500                        & 0.2400                        & ...                           &  -45.52                       &   0.00                        &    0.00                       &    0.00                       &   0                           & 1                             & 2                             & 0                             &    0.00                       & 121                          \\\\\n",
       "\t C9563467992330262C23724       & 433774                        & 2009-11-16 19:11:53.663000000 &                               & 36                            & Completed                     & 2010-01-12 00:00:00           & 0.20504                       & 0.1829                        & 0.1729                        & ...                           &   -4.66                       &   0.00                        &    0.00                       &    0.00                       &   0                           & 1                             & 0                             & 0                             &    0.00                       &   1                          \\\\\n",
       "\\end{tabular}\n"
      ],
      "text/markdown": [
       "\n",
       "ListingKey | ListingNumber | ListingCreationDate | CreditGrade | Term | LoanStatus | ClosedDate | BorrowerAPR | BorrowerRate | LenderYield | ... | LP_ServiceFees | LP_CollectionFees | LP_GrossPrincipalLoss | LP_NetPrincipalLoss | LP_NonPrincipalRecoverypayments | PercentFunded | Recommendations | InvestmentFromFriendsCount | InvestmentFromFriendsAmount | Investors | \n",
       "|---|---|---|---|---|---|---|---|---|---|---|---|---|---|---|---|---|---|---|---|---|---|---|---|---|---|---|---|---|---|---|---|---|---|---|---|---|---|---|---|---|---|---|---|---|---|---|---|---|---|---|---|---|---|---|---|---|---|---|---|---|\n",
       "| 089C348555489823736377D       | 460749                        | 2010-05-30 18:37:24.953000000 |                               | 36                            | Chargedoff                    | 2013-01-11 00:00:00           | 0.24807                       | 0.2100                        | 0.2000                        | ...                           |  -15.46                       |  0.00                         |  383.08                       |  383.08                       | 0                             | 1                             | 0                             | 0                             |    0.00                       |  31                           | \n",
       "| 32543499181220496DBB555       | 483095                        | 2010-11-05 14:46:00.163000000 |                               | 36                            | Completed                     | 2011-04-21 00:00:00           | 0.36783                       | 0.3269                        | 0.3169                        | ...                           |   -5.91                       |  0.00                         |    0.00                       |    0.00                       | 0                             | 1                             | 0                             | 1                             | 1058.77                       |  27                           | \n",
       "| 4685347195009875809A70E       | 440607                        | 2010-01-01 14:46:53.843000000 |                               | 36                            | Completed                     | 2011-02-28 00:00:00           | 0.22491                       | 0.2000                        | 0.1900                        | ...                           |  -14.35                       |  0.00                         |    0.00                       |    0.00                       | 0                             | 1                             | 0                             | 0                             |    0.00                       |  75                           | \n",
       "| 6DD034810270651087DFB9F       | 452658                        | 2010-04-05 09:10:40.280000000 |                               | 36                            | Completed                     | 2011-04-29 00:00:00           | 0.36336                       | 0.3390                        | 0.3290                        | ...                           |  -13.30                       |  0.00                         |    0.00                       |    0.00                       | 0                             | 1                             | 0                             | 1                             |  100.00                       |  60                           | \n",
       "| 0B5C34738042854656430E6       | 441714                        | 2010-01-08 13:39:38.123000000 |                               | 36                            | Chargedoff                    | 2012-01-22 00:00:00           | 0.37453                       | 0.3500                        | 0.3400                        | ...                           |  -24.48                       | -5.95                         | 1170.57                       | 1170.57                       | 0                             | 1                             | 0                             | 0                             |    0.00                       |  24                           | \n",
       "| 421F3494976253733186DF9       | 477067                        | 2010-09-25 12:10:55.217000000 |                               | 36                            | Chargedoff                    | 2011-05-10 00:00:00           | 0.38620                       | 0.3490                        | 0.3390                        | ...                           |  -12.44                       |  0.00                         | 7256.40                       | 7256.40                       | 0                             | 1                             | 0                             | 0                             |    0.00                       |  61                           | \n",
       "| 9E5E3498204991686FFFDC9       | 481925                        | 2010-10-28 10:18:14.733000000 |                               | 36                            | Completed                     | 2011-05-13 00:00:00           | 0.34631                       | 0.3100                        | 0.3000                        | ...                           |  -31.49                       |  0.00                         |    0.00                       |    0.00                       | 0                             | 1                             | 0                             | 0                             |    0.00                       |  75                           | \n",
       "| 06C634936764915582779CD       | 474698                        | 2010-09-07 07:57:07.080000000 |                               | 36                            | Chargedoff                    | 2013-05-18 00:00:00           | 0.37699                       | 0.3400                        | 0.3300                        | ...                           | -123.99                       |  0.00                         | 2684.45                       | 2684.45                       | 0                             | 1                             | 0                             | 0                             |    0.00                       |  37                           | \n",
       "| 0F393487035940130A9724B       | 463090                        | 2010-06-18 09:24:37.347000000 |                               | 36                            | Completed                     | 2011-02-18 00:00:00           | 0.33281                       | 0.3089                        | 0.2989                        | ...                           |  -35.39                       |  0.00                         |    0.00                       |    0.00                       | 0                             | 1                             | 1                             | 1                             |   25.00                       | 169                           | \n",
       "| 3AA83459022108282F14863       | 416980                        | 2009-07-17 13:57:20.620000000 |                               | 36                            | Completed                     | 2012-05-23 00:00:00           | 0.37453                       | 0.3500                        | 0.3400                        | ...                           |  -24.61                       |  0.00                         |    0.00                       |    0.00                       | 0                             | 1                             | 0                             | 0                             |    0.00                       |   1                           | \n",
       "| 951734715607690434676F3       | 439186                        | 2009-12-19 16:52:50.200000000 |                               | 36                            | Completed                     | 2012-12-31 00:00:00           | 0.36438                       | 0.3400                        | 0.3300                        | ...                           |  -50.40                       |  0.00                         |    0.00                       |    0.00                       | 0                             | 1                             | 0                             | 0                             |    0.00                       |  68                           | \n",
       "| 30E73477967521420B48181       | 450235                        | 2010-03-12 11:18:17.957000000 |                               | 36                            | Completed                     | 2013-02-27 00:00:00           | 0.20260                       | 0.1805                        | 0.1705                        | ...                           | -117.21                       |  0.00                         |    0.00                       |    0.00                       | 0                             | 1                             | 0                             | 0                             |    0.00                       |   3                           | \n",
       "| 9D9C34645778963111B6064       | 427428                        | 2009-10-08 10:53:36.003000000 |                               | 36                            | Chargedoff                    | 2010-11-18 00:00:00           | 0.20735                       | 0.1827                        | 0.1727                        | ...                           |   -9.61                       |  0.00                         | 1329.99                       | 1312.56                       | 0                             | 1                             | 0                             | 0                             |    0.00                       |   1                           | \n",
       "| 009B3495741061236C0C927       | 477848                        | 2010-09-30 16:29:48.017000000 |                               | 36                            | Completed                     | 2013-10-14 00:00:00           | 0.38723                       | 0.3500                        | 0.3400                        | ...                           | -106.13                       |  0.00                         |    0.00                       |    0.00                       | 0                             | 1                             | 0                             | 0                             |    0.00                       |  80                           | \n",
       "| 2F973490896224270661A5B       | 468917                        | 2010-07-28 11:38:29.650000000 |                               | 36                            | Completed                     | 2012-04-07 00:00:00           | 0.38109                       | 0.3440                        | 0.3340                        | ...                           |  -31.10                       |  0.00                         |    0.00                       |    0.00                       | 0                             | 1                             | 0                             | 0                             |    0.00                       |  51                           | \n",
       "| ED6334997080608798C4AAC       | 483031                        | 2010-11-05 11:34:27.367000000 |                               | 36                            | Completed                     | 2011-03-29 00:00:00           | 0.26822                       | 0.2100                        | 0.2000                        | ...                           |   -2.90                       |  0.00                         |    0.00                       |    0.00                       | 0                             | 1                             | 0                             | 0                             |    0.00                       |  61                           | \n",
       "| 0A493500724918931BC92AD       | 485927                        | 2010-11-28 10:26:41.450000000 |                               | 36                            | Completed                     | 2013-12-07 00:00:00           | 0.34631                       | 0.3100                        | 0.3000                        | ...                           |  -53.09                       |  0.00                         |    0.00                       |    0.00                       | 0                             | 1                             | 1                             | 0                             |    0.00                       |  77                           | \n",
       "| 2DD734790047377761A273F       | 448926                        | 2010-03-05 12:00:35.537000000 |                               | 36                            | Completed                     | 2012-07-13 00:00:00           | 0.33393                       | 0.3100                        | 0.3000                        | ...                           |  -65.89                       |  0.00                         |    0.00                       |    0.00                       | 0                             | 1                             | 0                             | 0                             |    0.00                       |  90                           | \n",
       "| 2D9B34605941550368990B6       | 421817                        | 2009-08-24 09:34:05.760000000 |                               | 36                            | Chargedoff                    | 2013-01-02 00:00:00           | 0.37453                       | 0.3500                        | 0.3400                        | ...                           |  -30.67                       |  0.00                         |  126.98                       |  126.98                       | 0                             | 1                             | 0                             | 0                             |    0.00                       |  30                           | \n",
       "| 5B283501148182785E410F3       | 484999                        | 2010-11-18 12:03:18.170000000 |                               | 36                            | Completed                     | 2013-11-30 00:00:00           | 0.36646                       | 0.3297                        | 0.3197                        | ...                           |  -32.02                       |  0.00                         |    0.00                       |    0.00                       | 0                             | 1                             | 0                             | 0                             |    0.00                       |  51                           | \n",
       "| E66E3466420453669FA5E20       | 431508                        | 2009-11-02 18:51:50.857000000 |                               | 36                            | Chargedoff                    | 2010-10-10 00:00:00           | 0.37453                       | 0.3500                        | 0.3400                        | ...                           |  -13.15                       |  0.00                         | 3287.79                       | 3272.80                       | 0                             | 1                             | 0                             | 0                             |    0.00                       |   1                           | \n",
       "| A84234919972024700E788D       | 469907                        | 2010-08-03 18:26:38.910000000 |                               | 36                            | Completed                     | 2011-12-20 00:00:00           | 0.21291                       | 0.1794                        | 0.1694                        | ...                           |  -28.18                       |  0.00                         |    0.00                       |    0.00                       | 0                             | 1                             | 1                             | 2                             | 1774.42                       |  53                           | \n",
       "| 16ED3472868394333E87B22       | 442499                        | 2010-01-14 09:37:49.377000000 |                               | 36                            | Completed                     | 2013-01-19 00:00:00           | 0.11155                       | 0.0906                        | 0.0806                        | ...                           | -162.60                       |  0.00                         |    0.00                       |    0.00                       | 0                             | 1                             | 0                             | 0                             |    0.00                       |   1                           | \n",
       "| 16B23499408173940883262       | 485266                        | 2010-11-21 05:38:54.950000000 |                               | 36                            | Completed                     | 2013-11-30 00:00:00           | 0.38723                       | 0.3500                        | 0.3400                        | ...                           |  -46.76                       |  0.00                         |    0.00                       |    0.00                       | 0                             | 1                             | 1                             | 1                             |   25.00                       |  38                           | \n",
       "| B1E63500679848022856766       | 486405                        | 2010-12-01 19:11:37.317000000 |                               | 36                            | Completed                     | 2013-04-11 00:00:00           | 0.38723                       | 0.3500                        | 0.3400                        | ...                           |  -61.97                       |  0.00                         |    0.00                       |    0.00                       | 0                             | 1                             | 0                             | 0                             |    0.00                       |  33                           | \n",
       "| 9A4E3492821389543047631       | 473029                        | 2010-08-24 19:07:26.757000000 |                               | 36                            | Completed                     | 2011-03-22 00:00:00           | 0.41355                       | 0.3500                        | 0.3400                        | ...                           |   -5.15                       |  0.00                         |    0.00                       |    0.00                       | 0                             | 1                             | 0                             | 0                             |    0.00                       |  22                           | \n",
       "| A97F34930346098313445C1       | 474439                        | 2010-09-04 08:15:17.333000000 |                               | 36                            | Completed                     | 2012-01-30 00:00:00           | 0.14360                       | 0.0895                        | 0.0795                        | ...                           |   -4.89                       |  0.00                         |    0.00                       |    0.00                       | 0                             | 1                             | 0                             | 0                             |    0.00                       |  73                           | \n",
       "| 9E7A3492907493044A627C2       | 471571                        | 2010-08-15 13:52:55.137000000 |                               | 36                            | Completed                     | 2013-08-24 00:00:00           | 0.26302                       | 0.2285                        | 0.2185                        | ...                           |  -34.24                       |  0.00                         |    0.00                       |    0.00                       | 0                             | 1                             | 0                             | 0                             |    0.00                       | 144                           | \n",
       "| BAC4350200668046339B539       | 486562                        | 2010-12-02 12:56:27.757000000 |                               | 36                            | Completed                     | 2013-02-05 00:00:00           | 0.41355                       | 0.3500                        | 0.3400                        | ...                           |  -16.14                       |  0.00                         |    0.00                       |    0.00                       | 0                             | 1                             | 0                             | 0                             |    0.00                       |  20                           | \n",
       "| 029A3499706893097DB1393       | 482554                        | 2010-11-02 11:04:47.190000000 |                               | 36                            | Completed                     | 2013-11-17 00:00:00           | 0.38723                       | 0.3500                        | 0.3400                        | ...                           |  -36.28                       |  0.00                         |    0.00                       |    0.00                       | 0                             | 1                             | 0                             | 0                             |    0.00                       |  36                           | \n",
       "| ... | ... | ... | ... | ... | ... | ... | ... | ... | ... |     | ... | ... | ... | ... | ... | ... | ... | ... | ... | ... | \n",
       "| EA203466661740046532855       | 432093                        | 2009-11-06 14:49:19.267000000 |                               | 36                            | Chargedoff                    | 2010-06-13 00:00:00           | 0.22237                       | 0.2000                        | 0.1900                        | ...                           |   -9.00                       |   0.00                        | 4576.98                       | 4576.97                       |   0                           | 1                             | 0                             | 0                             |    0.00                       |   1                           | \n",
       "| 87793468051018224ED5E2C       | 432323                        | 2009-11-07 17:05:14.507000000 |                               | 36                            | Completed                     | 2012-04-06 00:00:00           | 0.20504                       | 0.1829                        | 0.1729                        | ...                           |  -39.61                       |   0.00                        |    0.00                       |    0.00                       |   0                           | 1                             | 0                             | 0                             |    0.00                       |   4                           | \n",
       "| 6FC834823486444499C7547       | 456105                        | 2010-04-28 08:36:36.637000000 |                               | 36                            | Chargedoff                    | 2012-05-12 00:00:00           | 0.37453                       | 0.3500                        | 0.3400                        | ...                           |  -50.58                       | -77.01                        | 2513.24                       | 2513.24                       | 136                           | 1                             | 0                             | 0                             |    0.00                       |  38                           | \n",
       "| 4937346216847197452FB8A       | 423755                        | 2009-09-09 15:58:48.523000000 |                               | 36                            | Completed                     | 2012-06-05 00:00:00           | 0.21223                       | 0.1900                        | 0.1800                        | ...                           |  -39.49                       |   0.00                        |    0.00                       |    0.00                       |   0                           | 1                             | 0                             | 0                             |    0.00                       |   1                           | \n",
       "| C15F348278626944169A872       | 458169                        | 2010-05-13 06:49:09.163000000 |                               | 36                            | Completed                     | 2013-05-18 00:00:00           | 0.21476                       | 0.1900                        | 0.1800                        | ...                           |  -25.31                       |   0.00                        |    0.00                       |    0.00                       |   0                           | 1                             | 0                             | 0                             |    0.00                       |  12                           | \n",
       "| 789F350210398763651BA91       | 485962                        | 2010-11-28 19:45:12.420000000 |                               | 36                            | Completed                     | 2013-12-13 00:00:00           | 0.32005                       | 0.2600                        | 0.2500                        | ...                           |  -17.37                       |   0.00                        |    0.00                       |    0.00                       |   0                           | 1                             | 1                             | 2                             |   55.00                       |  31                           | \n",
       "| DF90346174340002351C1F4       | 422477                        | 2009-08-30 07:49:07.147000000 |                               | 36                            | Completed                     | 2012-09-09 00:00:00           | 0.20695                       | 0.1823                        | 0.1723                        | ...                           |  -25.13                       |   0.00                        |    0.00                       |    0.00                       |   0                           | 1                             | 0                             | 0                             |    0.00                       |   3                           | \n",
       "| 269235009277038600A8F41       | 486901                        | 2010-12-06 09:50:28.423000000 |                               | 36                            | Completed                     | 2013-01-07 00:00:00           | 0.39821                       | 0.3500                        | 0.3400                        | ...                           |  -16.10                       |   0.00                        |    0.00                       |    0.00                       |   0                           | 1                             | 0                             | 0                             |    0.00                       |  28                           | \n",
       "| A57234935967547991ACEA8       | 474384                        | 2010-09-03 15:50:11.600000000 |                               | 36                            | Chargedoff                    | 2013-06-24 00:00:00           | 0.38723                       | 0.3500                        | 0.3400                        | ...                           |  -39.46                       |   0.00                        |  829.70                       |  829.70                       |   0                           | 1                             | 0                             | 0                             |    0.00                       |  42                           | \n",
       "| 4B5A34808530538374A1D66       | 454760                        | 2010-04-17 07:44:16.297000000 |                               | 36                            | Completed                     | 2012-02-27 00:00:00           | 0.22522                       | 0.2003                        | 0.1903                        | ...                           |  -20.43                       |   0.00                        |    0.00                       |    0.00                       |   0                           | 1                             | 0                             | 0                             |    0.00                       |  48                           | \n",
       "| DB453501219046087835C54       | 486316                        | 2010-11-30 18:19:18.730000000 |                               | 36                            | Completed                     | 2011-04-22 00:00:00           | 0.39153                       | 0.3500                        | 0.3400                        | ...                           |   -5.41                       |   0.00                        |    0.00                       |    0.00                       |   0                           | 1                             | 0                             | 0                             |    0.00                       |  29                           | \n",
       "| A91D34785676125336640F0       | 450451                        | 2010-03-14 20:03:02.273000000 |                               | 36                            | Completed                     | 2011-03-25 00:00:00           | 0.37443                       | 0.3499                        | 0.3399                        | ...                           |  -58.20                       |   0.00                        |    0.00                       |    0.00                       |   0                           | 1                             | 0                             | 0                             |    0.00                       |  81                           | \n",
       "| F5D73489855329001299FF4       | 469312                        | 2010-07-30 08:47:21.447000000 |                               | 36                            | Completed                     | 2013-08-11 00:00:00           | 0.08999                       | 0.0693                        | 0.0593                        | ...                           | -127.58                       |   0.00                        |    0.00                       |    0.00                       |   0                           | 1                             | 0                             | 1                             | 4000.00                       |   2                           | \n",
       "| E7A63484022509283D51CD4       | 460192                        | 2010-05-27 02:12:13.103000000 |                               | 36                            | Completed                     | 2011-03-03 00:00:00           | 0.37453                       | 0.3500                        | 0.3400                        | ...                           |  -44.99                       |   0.00                        |    0.00                       |    0.00                       |   0                           | 1                             | 0                             | 0                             |    0.00                       |  43                           | \n",
       "| EA623467677786916EBA487       | 430588                        | 2009-10-27 13:34:06.360000000 |                               | 36                            | Completed                     | 2012-08-31 00:00:00           | 0.18133                       | 0.1595                        | 0.1495                        | ...                           |  -32.95                       |   0.00                        |    0.00                       |    0.00                       |   0                           | 1                             | 0                             | 0                             |    0.00                       |  14                           | \n",
       "| CC393491765818171671DB7       | 469869                        | 2010-08-03 19:12:11.047000000 |                               | 36                            | Chargedoff                    | 2011-11-15 00:00:00           | 0.38723                       | 0.3500                        | 0.3400                        | ...                           |  -57.59                       |   0.00                        | 6123.56                       | 6123.56                       |   0                           | 1                             | 1                             | 1                             | 1748.66                       |  20                           | \n",
       "| B61D3495731427761944829       | 477092                        | 2010-09-25 12:48:31.330000000 |                               | 36                            | Completed                     | 2013-11-19 00:00:00           | 0.30031                       | 0.2650                        | 0.2550                        | ...                           | -106.26                       | -80.31                        |    0.00                       |    0.00                       |   0                           | 1                             | 1                             | 0                             |    0.00                       |  82                           | \n",
       "| 121E34965887476537FE189       | 480718                        | 2010-10-20 06:31:26.270000000 |                               | 36                            | Completed                     | 2013-07-09 00:00:00           | 0.21352                       | 0.1800                        | 0.1700                        | ...                           |  -52.12                       |   0.00                        |    0.00                       |    0.00                       |   0                           | 1                             | 0                             | 0                             |    0.00                       |  63                           | \n",
       "| B3EE3502272243880283B16       | 487169                        | 2010-12-08 09:07:06.530000000 |                               | 36                            | Completed                     | 2013-02-08 00:00:00           | 0.38127                       | 0.3400                        | 0.3300                        | ...                           |  -23.67                       |   0.00                        |    0.00                       |    0.00                       |   0                           | 1                             | 0                             | 0                             |    0.00                       |  20                           | \n",
       "| 73AA346937387942113D189       | 433566                        | 2009-11-16 08:17:56.767000000 |                               | 36                            | Completed                     | 2010-01-11 00:00:00           | 0.22237                       | 0.2000                        | 0.1900                        | ...                           |  -14.66                       |   0.00                        |    0.00                       |    0.00                       |   0                           | 1                             | 0                             | 0                             |    0.00                       |   1                           | \n",
       "| F6E13478114370526251C1C       | 450345                        | 2010-03-15 06:43:55.170000000 |                               | 36                            | Completed                     | 2010-10-15 00:00:00           | 0.37453                       | 0.3500                        | 0.3400                        | ...                           |  -26.51                       |   0.00                        |    0.00                       |    0.00                       |   0                           | 1                             | 0                             | 0                             |    0.00                       |  48                           | \n",
       "| 24263477605508875B1445A       | 448509                        | 2010-03-02 11:44:36.243000000 |                               | 36                            | Completed                     | 2013-01-08 00:00:00           | 0.23784                       | 0.2000                        | 0.1900                        | ...                           |  -16.76                       |   0.00                        |    0.00                       |    0.00                       |   0                           | 1                             | 0                             | 0                             |    0.00                       |  71                           | \n",
       "| E83C3488674044403859127       | 467035                        | 2010-07-17 05:21:48.957000000 |                               | 36                            | Completed                     | 2013-02-14 00:00:00           | 0.37453                       | 0.3500                        | 0.3400                        | ...                           | -143.57                       |   0.00                        |    0.00                       |    0.00                       |   0                           | 1                             | 1                             | 1                             |  200.08                       |  32                           | \n",
       "| 297D347700685376134183D       | 447504                        | 2010-02-22 10:50:18.203000000 |                               | 36                            | Completed                     | 2013-02-19 00:00:00           | 0.20918                       | 0.1845                        | 0.1745                        | ...                           |  -25.16                       |   0.00                        |    0.00                       |    0.00                       |   0                           | 1                             | 0                             | 0                             |    0.00                       |  21                           | \n",
       "| D99F34974391116263A9EB0       | 480631                        | 2010-10-19 15:51:36.043000000 |                               | 36                            | Completed                     | 2013-11-08 00:00:00           | 0.35701                       | 0.3100                        | 0.3000                        | ...                           |  -22.98                       |   0.00                        |    0.00                       |    0.00                       |   0                           | 1                             | 0                             | 0                             |    0.00                       |  33                           | \n",
       "| CABD3496593465083DED371       | 480503                        | 2010-10-19 13:38:35.113000000 |                               | 36                            | Completed                     | 2011-02-24 00:00:00           | 0.17066                       | 0.1157                        | 0.1057                        | ...                           |   -0.78                       |   0.00                        |    0.00                       |    0.00                       |   0                           | 1                             | 0                             | 0                             |    0.00                       |  12                           | \n",
       "| F09F34610643095230CB3CC       | 422675                        | 2009-09-01 09:19:16.690000000 |                               | 36                            | Completed                     | 2009-12-08 00:00:00           | 0.20392                       | 0.1818                        | 0.1718                        | ...                           |   -6.43                       |   0.00                        |    0.00                       |    0.00                       |   0                           | 1                             | 0                             | 0                             |    0.00                       |   8                           | \n",
       "| C2493464219717831D1AE7D       | 426289                        | 2009-09-29 12:46:07.890000000 |                               | 36                            | Completed                     | 2010-02-02 00:00:00           | 0.37453                       | 0.3500                        | 0.3400                        | ...                           |  -17.38                       |   0.00                        |    0.00                       |    0.00                       |   0                           | 1                             | 0                             | 0                             |    0.00                       |   1                           | \n",
       "| FFDA34977230634045B6DD9       | 479483                        | 2010-10-12 18:21:43.497000000 |                               | 36                            | Completed                     | 2013-01-29 00:00:00           | 0.28498                       | 0.2500                        | 0.2400                        | ...                           |  -45.52                       |   0.00                        |    0.00                       |    0.00                       |   0                           | 1                             | 2                             | 0                             |    0.00                       | 121                           | \n",
       "| C9563467992330262C23724       | 433774                        | 2009-11-16 19:11:53.663000000 |                               | 36                            | Completed                     | 2010-01-12 00:00:00           | 0.20504                       | 0.1829                        | 0.1729                        | ...                           |   -4.66                       |   0.00                        |    0.00                       |    0.00                       |   0                           | 1                             | 0                             | 0                             |    0.00                       |   1                           | \n",
       "\n",
       "\n"
      ],
      "text/plain": [
       "    ListingKey              ListingNumber ListingCreationDate          \n",
       "1   089C348555489823736377D 460749        2010-05-30 18:37:24.953000000\n",
       "2   32543499181220496DBB555 483095        2010-11-05 14:46:00.163000000\n",
       "3   4685347195009875809A70E 440607        2010-01-01 14:46:53.843000000\n",
       "4   6DD034810270651087DFB9F 452658        2010-04-05 09:10:40.280000000\n",
       "5   0B5C34738042854656430E6 441714        2010-01-08 13:39:38.123000000\n",
       "6   421F3494976253733186DF9 477067        2010-09-25 12:10:55.217000000\n",
       "7   9E5E3498204991686FFFDC9 481925        2010-10-28 10:18:14.733000000\n",
       "8   06C634936764915582779CD 474698        2010-09-07 07:57:07.080000000\n",
       "9   0F393487035940130A9724B 463090        2010-06-18 09:24:37.347000000\n",
       "10  3AA83459022108282F14863 416980        2009-07-17 13:57:20.620000000\n",
       "11  951734715607690434676F3 439186        2009-12-19 16:52:50.200000000\n",
       "12  30E73477967521420B48181 450235        2010-03-12 11:18:17.957000000\n",
       "13  9D9C34645778963111B6064 427428        2009-10-08 10:53:36.003000000\n",
       "14  009B3495741061236C0C927 477848        2010-09-30 16:29:48.017000000\n",
       "15  2F973490896224270661A5B 468917        2010-07-28 11:38:29.650000000\n",
       "16  ED6334997080608798C4AAC 483031        2010-11-05 11:34:27.367000000\n",
       "17  0A493500724918931BC92AD 485927        2010-11-28 10:26:41.450000000\n",
       "18  2DD734790047377761A273F 448926        2010-03-05 12:00:35.537000000\n",
       "19  2D9B34605941550368990B6 421817        2009-08-24 09:34:05.760000000\n",
       "20  5B283501148182785E410F3 484999        2010-11-18 12:03:18.170000000\n",
       "21  E66E3466420453669FA5E20 431508        2009-11-02 18:51:50.857000000\n",
       "22  A84234919972024700E788D 469907        2010-08-03 18:26:38.910000000\n",
       "23  16ED3472868394333E87B22 442499        2010-01-14 09:37:49.377000000\n",
       "24  16B23499408173940883262 485266        2010-11-21 05:38:54.950000000\n",
       "25  B1E63500679848022856766 486405        2010-12-01 19:11:37.317000000\n",
       "26  9A4E3492821389543047631 473029        2010-08-24 19:07:26.757000000\n",
       "27  A97F34930346098313445C1 474439        2010-09-04 08:15:17.333000000\n",
       "28  9E7A3492907493044A627C2 471571        2010-08-15 13:52:55.137000000\n",
       "29  BAC4350200668046339B539 486562        2010-12-02 12:56:27.757000000\n",
       "30  029A3499706893097DB1393 482554        2010-11-02 11:04:47.190000000\n",
       "... ...                     ...           ...                          \n",
       "162 EA203466661740046532855 432093        2009-11-06 14:49:19.267000000\n",
       "163 87793468051018224ED5E2C 432323        2009-11-07 17:05:14.507000000\n",
       "164 6FC834823486444499C7547 456105        2010-04-28 08:36:36.637000000\n",
       "165 4937346216847197452FB8A 423755        2009-09-09 15:58:48.523000000\n",
       "166 C15F348278626944169A872 458169        2010-05-13 06:49:09.163000000\n",
       "167 789F350210398763651BA91 485962        2010-11-28 19:45:12.420000000\n",
       "168 DF90346174340002351C1F4 422477        2009-08-30 07:49:07.147000000\n",
       "169 269235009277038600A8F41 486901        2010-12-06 09:50:28.423000000\n",
       "170 A57234935967547991ACEA8 474384        2010-09-03 15:50:11.600000000\n",
       "171 4B5A34808530538374A1D66 454760        2010-04-17 07:44:16.297000000\n",
       "172 DB453501219046087835C54 486316        2010-11-30 18:19:18.730000000\n",
       "173 A91D34785676125336640F0 450451        2010-03-14 20:03:02.273000000\n",
       "174 F5D73489855329001299FF4 469312        2010-07-30 08:47:21.447000000\n",
       "175 E7A63484022509283D51CD4 460192        2010-05-27 02:12:13.103000000\n",
       "176 EA623467677786916EBA487 430588        2009-10-27 13:34:06.360000000\n",
       "177 CC393491765818171671DB7 469869        2010-08-03 19:12:11.047000000\n",
       "178 B61D3495731427761944829 477092        2010-09-25 12:48:31.330000000\n",
       "179 121E34965887476537FE189 480718        2010-10-20 06:31:26.270000000\n",
       "180 B3EE3502272243880283B16 487169        2010-12-08 09:07:06.530000000\n",
       "181 73AA346937387942113D189 433566        2009-11-16 08:17:56.767000000\n",
       "182 F6E13478114370526251C1C 450345        2010-03-15 06:43:55.170000000\n",
       "183 24263477605508875B1445A 448509        2010-03-02 11:44:36.243000000\n",
       "184 E83C3488674044403859127 467035        2010-07-17 05:21:48.957000000\n",
       "185 297D347700685376134183D 447504        2010-02-22 10:50:18.203000000\n",
       "186 D99F34974391116263A9EB0 480631        2010-10-19 15:51:36.043000000\n",
       "187 CABD3496593465083DED371 480503        2010-10-19 13:38:35.113000000\n",
       "188 F09F34610643095230CB3CC 422675        2009-09-01 09:19:16.690000000\n",
       "189 C2493464219717831D1AE7D 426289        2009-09-29 12:46:07.890000000\n",
       "190 FFDA34977230634045B6DD9 479483        2010-10-12 18:21:43.497000000\n",
       "191 C9563467992330262C23724 433774        2009-11-16 19:11:53.663000000\n",
       "    CreditGrade Term LoanStatus ClosedDate          BorrowerAPR BorrowerRate\n",
       "1               36   Chargedoff 2013-01-11 00:00:00 0.24807     0.2100      \n",
       "2               36   Completed  2011-04-21 00:00:00 0.36783     0.3269      \n",
       "3               36   Completed  2011-02-28 00:00:00 0.22491     0.2000      \n",
       "4               36   Completed  2011-04-29 00:00:00 0.36336     0.3390      \n",
       "5               36   Chargedoff 2012-01-22 00:00:00 0.37453     0.3500      \n",
       "6               36   Chargedoff 2011-05-10 00:00:00 0.38620     0.3490      \n",
       "7               36   Completed  2011-05-13 00:00:00 0.34631     0.3100      \n",
       "8               36   Chargedoff 2013-05-18 00:00:00 0.37699     0.3400      \n",
       "9               36   Completed  2011-02-18 00:00:00 0.33281     0.3089      \n",
       "10              36   Completed  2012-05-23 00:00:00 0.37453     0.3500      \n",
       "11              36   Completed  2012-12-31 00:00:00 0.36438     0.3400      \n",
       "12              36   Completed  2013-02-27 00:00:00 0.20260     0.1805      \n",
       "13              36   Chargedoff 2010-11-18 00:00:00 0.20735     0.1827      \n",
       "14              36   Completed  2013-10-14 00:00:00 0.38723     0.3500      \n",
       "15              36   Completed  2012-04-07 00:00:00 0.38109     0.3440      \n",
       "16              36   Completed  2011-03-29 00:00:00 0.26822     0.2100      \n",
       "17              36   Completed  2013-12-07 00:00:00 0.34631     0.3100      \n",
       "18              36   Completed  2012-07-13 00:00:00 0.33393     0.3100      \n",
       "19              36   Chargedoff 2013-01-02 00:00:00 0.37453     0.3500      \n",
       "20              36   Completed  2013-11-30 00:00:00 0.36646     0.3297      \n",
       "21              36   Chargedoff 2010-10-10 00:00:00 0.37453     0.3500      \n",
       "22              36   Completed  2011-12-20 00:00:00 0.21291     0.1794      \n",
       "23              36   Completed  2013-01-19 00:00:00 0.11155     0.0906      \n",
       "24              36   Completed  2013-11-30 00:00:00 0.38723     0.3500      \n",
       "25              36   Completed  2013-04-11 00:00:00 0.38723     0.3500      \n",
       "26              36   Completed  2011-03-22 00:00:00 0.41355     0.3500      \n",
       "27              36   Completed  2012-01-30 00:00:00 0.14360     0.0895      \n",
       "28              36   Completed  2013-08-24 00:00:00 0.26302     0.2285      \n",
       "29              36   Completed  2013-02-05 00:00:00 0.41355     0.3500      \n",
       "30              36   Completed  2013-11-17 00:00:00 0.38723     0.3500      \n",
       "... ...         ...  ...        ...                 ...         ...         \n",
       "162             36   Chargedoff 2010-06-13 00:00:00 0.22237     0.2000      \n",
       "163             36   Completed  2012-04-06 00:00:00 0.20504     0.1829      \n",
       "164             36   Chargedoff 2012-05-12 00:00:00 0.37453     0.3500      \n",
       "165             36   Completed  2012-06-05 00:00:00 0.21223     0.1900      \n",
       "166             36   Completed  2013-05-18 00:00:00 0.21476     0.1900      \n",
       "167             36   Completed  2013-12-13 00:00:00 0.32005     0.2600      \n",
       "168             36   Completed  2012-09-09 00:00:00 0.20695     0.1823      \n",
       "169             36   Completed  2013-01-07 00:00:00 0.39821     0.3500      \n",
       "170             36   Chargedoff 2013-06-24 00:00:00 0.38723     0.3500      \n",
       "171             36   Completed  2012-02-27 00:00:00 0.22522     0.2003      \n",
       "172             36   Completed  2011-04-22 00:00:00 0.39153     0.3500      \n",
       "173             36   Completed  2011-03-25 00:00:00 0.37443     0.3499      \n",
       "174             36   Completed  2013-08-11 00:00:00 0.08999     0.0693      \n",
       "175             36   Completed  2011-03-03 00:00:00 0.37453     0.3500      \n",
       "176             36   Completed  2012-08-31 00:00:00 0.18133     0.1595      \n",
       "177             36   Chargedoff 2011-11-15 00:00:00 0.38723     0.3500      \n",
       "178             36   Completed  2013-11-19 00:00:00 0.30031     0.2650      \n",
       "179             36   Completed  2013-07-09 00:00:00 0.21352     0.1800      \n",
       "180             36   Completed  2013-02-08 00:00:00 0.38127     0.3400      \n",
       "181             36   Completed  2010-01-11 00:00:00 0.22237     0.2000      \n",
       "182             36   Completed  2010-10-15 00:00:00 0.37453     0.3500      \n",
       "183             36   Completed  2013-01-08 00:00:00 0.23784     0.2000      \n",
       "184             36   Completed  2013-02-14 00:00:00 0.37453     0.3500      \n",
       "185             36   Completed  2013-02-19 00:00:00 0.20918     0.1845      \n",
       "186             36   Completed  2013-11-08 00:00:00 0.35701     0.3100      \n",
       "187             36   Completed  2011-02-24 00:00:00 0.17066     0.1157      \n",
       "188             36   Completed  2009-12-08 00:00:00 0.20392     0.1818      \n",
       "189             36   Completed  2010-02-02 00:00:00 0.37453     0.3500      \n",
       "190             36   Completed  2013-01-29 00:00:00 0.28498     0.2500      \n",
       "191             36   Completed  2010-01-12 00:00:00 0.20504     0.1829      \n",
       "    LenderYield ... LP_ServiceFees LP_CollectionFees LP_GrossPrincipalLoss\n",
       "1   0.2000      ...  -15.46         0.00              383.08              \n",
       "2   0.3169      ...   -5.91         0.00                0.00              \n",
       "3   0.1900      ...  -14.35         0.00                0.00              \n",
       "4   0.3290      ...  -13.30         0.00                0.00              \n",
       "5   0.3400      ...  -24.48        -5.95             1170.57              \n",
       "6   0.3390      ...  -12.44         0.00             7256.40              \n",
       "7   0.3000      ...  -31.49         0.00                0.00              \n",
       "8   0.3300      ... -123.99         0.00             2684.45              \n",
       "9   0.2989      ...  -35.39         0.00                0.00              \n",
       "10  0.3400      ...  -24.61         0.00                0.00              \n",
       "11  0.3300      ...  -50.40         0.00                0.00              \n",
       "12  0.1705      ... -117.21         0.00                0.00              \n",
       "13  0.1727      ...   -9.61         0.00             1329.99              \n",
       "14  0.3400      ... -106.13         0.00                0.00              \n",
       "15  0.3340      ...  -31.10         0.00                0.00              \n",
       "16  0.2000      ...   -2.90         0.00                0.00              \n",
       "17  0.3000      ...  -53.09         0.00                0.00              \n",
       "18  0.3000      ...  -65.89         0.00                0.00              \n",
       "19  0.3400      ...  -30.67         0.00              126.98              \n",
       "20  0.3197      ...  -32.02         0.00                0.00              \n",
       "21  0.3400      ...  -13.15         0.00             3287.79              \n",
       "22  0.1694      ...  -28.18         0.00                0.00              \n",
       "23  0.0806      ... -162.60         0.00                0.00              \n",
       "24  0.3400      ...  -46.76         0.00                0.00              \n",
       "25  0.3400      ...  -61.97         0.00                0.00              \n",
       "26  0.3400      ...   -5.15         0.00                0.00              \n",
       "27  0.0795      ...   -4.89         0.00                0.00              \n",
       "28  0.2185      ...  -34.24         0.00                0.00              \n",
       "29  0.3400      ...  -16.14         0.00                0.00              \n",
       "30  0.3400      ...  -36.28         0.00                0.00              \n",
       "... ...             ...            ...               ...                  \n",
       "162 0.1900      ...   -9.00          0.00            4576.98              \n",
       "163 0.1729      ...  -39.61          0.00               0.00              \n",
       "164 0.3400      ...  -50.58        -77.01            2513.24              \n",
       "165 0.1800      ...  -39.49          0.00               0.00              \n",
       "166 0.1800      ...  -25.31          0.00               0.00              \n",
       "167 0.2500      ...  -17.37          0.00               0.00              \n",
       "168 0.1723      ...  -25.13          0.00               0.00              \n",
       "169 0.3400      ...  -16.10          0.00               0.00              \n",
       "170 0.3400      ...  -39.46          0.00             829.70              \n",
       "171 0.1903      ...  -20.43          0.00               0.00              \n",
       "172 0.3400      ...   -5.41          0.00               0.00              \n",
       "173 0.3399      ...  -58.20          0.00               0.00              \n",
       "174 0.0593      ... -127.58          0.00               0.00              \n",
       "175 0.3400      ...  -44.99          0.00               0.00              \n",
       "176 0.1495      ...  -32.95          0.00               0.00              \n",
       "177 0.3400      ...  -57.59          0.00            6123.56              \n",
       "178 0.2550      ... -106.26        -80.31               0.00              \n",
       "179 0.1700      ...  -52.12          0.00               0.00              \n",
       "180 0.3300      ...  -23.67          0.00               0.00              \n",
       "181 0.1900      ...  -14.66          0.00               0.00              \n",
       "182 0.3400      ...  -26.51          0.00               0.00              \n",
       "183 0.1900      ...  -16.76          0.00               0.00              \n",
       "184 0.3400      ... -143.57          0.00               0.00              \n",
       "185 0.1745      ...  -25.16          0.00               0.00              \n",
       "186 0.3000      ...  -22.98          0.00               0.00              \n",
       "187 0.1057      ...   -0.78          0.00               0.00              \n",
       "188 0.1718      ...   -6.43          0.00               0.00              \n",
       "189 0.3400      ...  -17.38          0.00               0.00              \n",
       "190 0.2400      ...  -45.52          0.00               0.00              \n",
       "191 0.1729      ...   -4.66          0.00               0.00              \n",
       "    LP_NetPrincipalLoss LP_NonPrincipalRecoverypayments PercentFunded\n",
       "1    383.08             0                               1            \n",
       "2      0.00             0                               1            \n",
       "3      0.00             0                               1            \n",
       "4      0.00             0                               1            \n",
       "5   1170.57             0                               1            \n",
       "6   7256.40             0                               1            \n",
       "7      0.00             0                               1            \n",
       "8   2684.45             0                               1            \n",
       "9      0.00             0                               1            \n",
       "10     0.00             0                               1            \n",
       "11     0.00             0                               1            \n",
       "12     0.00             0                               1            \n",
       "13  1312.56             0                               1            \n",
       "14     0.00             0                               1            \n",
       "15     0.00             0                               1            \n",
       "16     0.00             0                               1            \n",
       "17     0.00             0                               1            \n",
       "18     0.00             0                               1            \n",
       "19   126.98             0                               1            \n",
       "20     0.00             0                               1            \n",
       "21  3272.80             0                               1            \n",
       "22     0.00             0                               1            \n",
       "23     0.00             0                               1            \n",
       "24     0.00             0                               1            \n",
       "25     0.00             0                               1            \n",
       "26     0.00             0                               1            \n",
       "27     0.00             0                               1            \n",
       "28     0.00             0                               1            \n",
       "29     0.00             0                               1            \n",
       "30     0.00             0                               1            \n",
       "... ...                 ...                             ...          \n",
       "162 4576.97               0                             1            \n",
       "163    0.00               0                             1            \n",
       "164 2513.24             136                             1            \n",
       "165    0.00               0                             1            \n",
       "166    0.00               0                             1            \n",
       "167    0.00               0                             1            \n",
       "168    0.00               0                             1            \n",
       "169    0.00               0                             1            \n",
       "170  829.70               0                             1            \n",
       "171    0.00               0                             1            \n",
       "172    0.00               0                             1            \n",
       "173    0.00               0                             1            \n",
       "174    0.00               0                             1            \n",
       "175    0.00               0                             1            \n",
       "176    0.00               0                             1            \n",
       "177 6123.56               0                             1            \n",
       "178    0.00               0                             1            \n",
       "179    0.00               0                             1            \n",
       "180    0.00               0                             1            \n",
       "181    0.00               0                             1            \n",
       "182    0.00               0                             1            \n",
       "183    0.00               0                             1            \n",
       "184    0.00               0                             1            \n",
       "185    0.00               0                             1            \n",
       "186    0.00               0                             1            \n",
       "187    0.00               0                             1            \n",
       "188    0.00               0                             1            \n",
       "189    0.00               0                             1            \n",
       "190    0.00               0                             1            \n",
       "191    0.00               0                             1            \n",
       "    Recommendations InvestmentFromFriendsCount InvestmentFromFriendsAmount\n",
       "1   0               0                             0.00                    \n",
       "2   0               1                          1058.77                    \n",
       "3   0               0                             0.00                    \n",
       "4   0               1                           100.00                    \n",
       "5   0               0                             0.00                    \n",
       "6   0               0                             0.00                    \n",
       "7   0               0                             0.00                    \n",
       "8   0               0                             0.00                    \n",
       "9   1               1                            25.00                    \n",
       "10  0               0                             0.00                    \n",
       "11  0               0                             0.00                    \n",
       "12  0               0                             0.00                    \n",
       "13  0               0                             0.00                    \n",
       "14  0               0                             0.00                    \n",
       "15  0               0                             0.00                    \n",
       "16  0               0                             0.00                    \n",
       "17  1               0                             0.00                    \n",
       "18  0               0                             0.00                    \n",
       "19  0               0                             0.00                    \n",
       "20  0               0                             0.00                    \n",
       "21  0               0                             0.00                    \n",
       "22  1               2                          1774.42                    \n",
       "23  0               0                             0.00                    \n",
       "24  1               1                            25.00                    \n",
       "25  0               0                             0.00                    \n",
       "26  0               0                             0.00                    \n",
       "27  0               0                             0.00                    \n",
       "28  0               0                             0.00                    \n",
       "29  0               0                             0.00                    \n",
       "30  0               0                             0.00                    \n",
       "... ...             ...                        ...                        \n",
       "162 0               0                             0.00                    \n",
       "163 0               0                             0.00                    \n",
       "164 0               0                             0.00                    \n",
       "165 0               0                             0.00                    \n",
       "166 0               0                             0.00                    \n",
       "167 1               2                            55.00                    \n",
       "168 0               0                             0.00                    \n",
       "169 0               0                             0.00                    \n",
       "170 0               0                             0.00                    \n",
       "171 0               0                             0.00                    \n",
       "172 0               0                             0.00                    \n",
       "173 0               0                             0.00                    \n",
       "174 0               1                          4000.00                    \n",
       "175 0               0                             0.00                    \n",
       "176 0               0                             0.00                    \n",
       "177 1               1                          1748.66                    \n",
       "178 1               0                             0.00                    \n",
       "179 0               0                             0.00                    \n",
       "180 0               0                             0.00                    \n",
       "181 0               0                             0.00                    \n",
       "182 0               0                             0.00                    \n",
       "183 0               0                             0.00                    \n",
       "184 1               1                           200.08                    \n",
       "185 0               0                             0.00                    \n",
       "186 0               0                             0.00                    \n",
       "187 0               0                             0.00                    \n",
       "188 0               0                             0.00                    \n",
       "189 0               0                             0.00                    \n",
       "190 2               0                             0.00                    \n",
       "191 0               0                             0.00                    \n",
       "    Investors\n",
       "1    31      \n",
       "2    27      \n",
       "3    75      \n",
       "4    60      \n",
       "5    24      \n",
       "6    61      \n",
       "7    75      \n",
       "8    37      \n",
       "9   169      \n",
       "10    1      \n",
       "11   68      \n",
       "12    3      \n",
       "13    1      \n",
       "14   80      \n",
       "15   51      \n",
       "16   61      \n",
       "17   77      \n",
       "18   90      \n",
       "19   30      \n",
       "20   51      \n",
       "21    1      \n",
       "22   53      \n",
       "23    1      \n",
       "24   38      \n",
       "25   33      \n",
       "26   22      \n",
       "27   73      \n",
       "28  144      \n",
       "29   20      \n",
       "30   36      \n",
       "... ...      \n",
       "162   1      \n",
       "163   4      \n",
       "164  38      \n",
       "165   1      \n",
       "166  12      \n",
       "167  31      \n",
       "168   3      \n",
       "169  28      \n",
       "170  42      \n",
       "171  48      \n",
       "172  29      \n",
       "173  81      \n",
       "174   2      \n",
       "175  43      \n",
       "176  14      \n",
       "177  20      \n",
       "178  82      \n",
       "179  63      \n",
       "180  20      \n",
       "181   1      \n",
       "182  48      \n",
       "183  71      \n",
       "184  32      \n",
       "185  21      \n",
       "186  33      \n",
       "187  12      \n",
       "188   8      \n",
       "189   1      \n",
       "190 121      \n",
       "191   1      "
      ]
     },
     "metadata": {},
     "output_type": "display_data"
    }
   ],
   "source": [
    "negativeExpectedYield"
   ]
  },
  {
   "cell_type": "markdown",
   "metadata": {
    "deletable": true,
    "editable": true
   },
   "source": [
    "The first thing that jumps out is that they are all either completed or Charged off. Perhaps the completed ones were paid early, and with fees their yield bacome negative? Chargedoff Loans the lender is losting out on , period - by why do they seem so prevalent in the middle term?"
   ]
  },
  {
   "cell_type": "code",
   "execution_count": 23,
   "metadata": {
    "collapsed": false,
    "deletable": true,
    "editable": true
   },
   "outputs": [
    {
     "data": {
      "text/plain": [
       "                   ListingKey  ListingNumber   \n",
       " 009B3495741061236C0C927:  1   Min.   :416595  \n",
       " 02283482060850607BC27FE:  1   1st Qu.:433135  \n",
       " 02933496318097934A683F4:  1   Median :456357  \n",
       " 029A3499706893097DB1393:  1   Mean   :455962  \n",
       " 038535015703591930CD2E0:  1   3rd Qu.:477670  \n",
       " 03AA34675425410661C8213:  1   Max.   :487169  \n",
       " (Other)                :185                   \n",
       "                    ListingCreationDate  CreditGrade       Term   \n",
       " 2009-07-14 21:09:50.017000000:  1             :191   Min.   :36  \n",
       " 2009-07-17 13:57:20.620000000:  1      A      :  0   1st Qu.:36  \n",
       " 2009-07-23 16:16:18.167000000:  1      AA     :  0   Median :36  \n",
       " 2009-07-31 15:25:54.323000000:  1      B      :  0   Mean   :36  \n",
       " 2009-07-31 15:41:11.917000000:  1      C      :  0   3rd Qu.:36  \n",
       " 2009-08-04 12:24:33.823000000:  1      D      :  0   Max.   :36  \n",
       " (Other)                      :185      (Other):  0               \n",
       "                  LoanStatus                ClosedDate   BorrowerAPR     \n",
       " Completed             :147   2013-05-18 00:00:00:  3   Min.   :0.08999  \n",
       " Chargedoff            : 42   2010-02-03 00:00:00:  2   1st Qu.:0.21266  \n",
       " Defaulted             :  2   2010-10-15 00:00:00:  2   Median :0.28902  \n",
       " Cancelled             :  0   2011-03-01 00:00:00:  2   Mean   :0.29316  \n",
       " Current               :  0   2011-04-14 00:00:00:  2   3rd Qu.:0.37453  \n",
       " FinalPaymentInProgress:  0   2011-04-28 00:00:00:  2   Max.   :0.41355  \n",
       " (Other)               :  0   (Other)            :178                    \n",
       "  BorrowerRate     LenderYield     EstimatedEffectiveYield EstimatedLoss   \n",
       " Min.   :0.0693   Min.   :0.0593   Min.   :-0.18270        Min.   :0.0595  \n",
       " 1st Qu.:0.1829   1st Qu.:0.1729   1st Qu.:-0.06315        1st Qu.:0.1900  \n",
       " Median :0.2500   Median :0.2400   Median :-0.03390        Median :0.3450  \n",
       " Mean   :0.2602   Mean   :0.2502   Mean   :-0.04777        Mean   :0.2836  \n",
       " 3rd Qu.:0.3500   3rd Qu.:0.3400   3rd Qu.:-0.01770        3rd Qu.:0.3660  \n",
       " Max.   :0.3500   Max.   :0.3400   Max.   : 0.00000        Max.   :0.3660  \n",
       "                                                                           \n",
       " EstimatedReturn    ProsperRating..numeric. ProsperRating..Alpha.\n",
       " Min.   :-0.18270   Min.   :1.000           HR     :178          \n",
       " 1st Qu.:-0.06315   1st Qu.:1.000           E      :  7          \n",
       " Median :-0.03390   Median :1.000           C      :  3          \n",
       " Mean   :-0.04777   Mean   :1.126           D      :  2          \n",
       " 3rd Qu.:-0.01770   3rd Qu.:1.000           B      :  1          \n",
       " Max.   : 0.00000   Max.   :5.000                  :  0          \n",
       "                                            (Other):  0          \n",
       "  ProsperScore   ListingCategory..numeric. BorrowerState\n",
       " Min.   :1.000   Min.   :1.000             CA     :33   \n",
       " 1st Qu.:1.000   1st Qu.:1.000             MI     :15   \n",
       " Median :1.000   Median :2.000             FL     :13   \n",
       " Mean   :2.455   Mean   :3.246             GA     :13   \n",
       " 3rd Qu.:4.000   3rd Qu.:6.000             CO     : 9   \n",
       " Max.   :9.000   Max.   :7.000             TX     : 9   \n",
       "                                           (Other):99   \n",
       "                    Occupation      EmploymentStatus EmploymentStatusDuration\n",
       " Other                   :50   Full-time    :108     Min.   :  0.00          \n",
       " Professional            :23   Employed     : 33     1st Qu.: 26.50          \n",
       " Military Enlisted       :14   Self-employed: 33     Median : 68.00          \n",
       " Teacher                 :10   Retired      :  8     Mean   : 84.57          \n",
       " Sales - Retail          : 7   Not employed :  5     3rd Qu.:123.50          \n",
       " Administrative Assistant: 6   Part-time    :  4     Max.   :303.00          \n",
       " (Other)                 :81   (Other)      :  0                             \n",
       " IsBorrowerHomeowner CurrentlyInGroup                    GroupKey  \n",
       " False: 91           False:143                               :143  \n",
       " True :100           True : 48        3D4D3366260257624AB272D:  7  \n",
       "                                      52EA3425051368132B80C96:  6  \n",
       "                                      C48E3419578591276DB6752:  4  \n",
       "                                      C95834619831959805D1458:  4  \n",
       "                                      87AF336457453170468EEA4:  3  \n",
       "                                      (Other)                : 24  \n",
       "            DateCreditPulled CreditScoreRangeLower CreditScoreRangeUpper\n",
       " 2009-07-14 07:40:03:  1     Min.   :600.0         Min.   :619.0        \n",
       " 2009-07-17 13:41:18:  1     1st Qu.:620.0         1st Qu.:639.0        \n",
       " 2009-07-19 06:49:16:  1     Median :640.0         Median :659.0        \n",
       " 2009-07-25 07:32:17:  1     Mean   :657.3         Mean   :676.3        \n",
       " 2009-07-30 15:01:34:  1     3rd Qu.:680.0         3rd Qu.:699.0        \n",
       " 2009-07-31 15:40:14:  1     Max.   :820.0         Max.   :839.0        \n",
       " (Other)            :185                                                \n",
       "        FirstRecordedCreditLine CurrentCreditLines OpenCreditLines \n",
       " 1988-03-01 00:00:00:  3        Min.   : 0.000     Min.   : 0.000  \n",
       " 1982-06-08 00:00:00:  2        1st Qu.: 5.000     1st Qu.: 4.000  \n",
       " 1985-04-01 00:00:00:  2        Median : 9.000     Median : 7.000  \n",
       " 1991-11-01 00:00:00:  2        Mean   : 9.335     Mean   : 7.958  \n",
       " 1992-02-01 00:00:00:  2        3rd Qu.:12.500     3rd Qu.:11.000  \n",
       " 1993-05-18 00:00:00:  2        Max.   :34.000     Max.   :30.000  \n",
       " (Other)            :178                                           \n",
       " TotalCreditLinespast7years OpenRevolvingAccounts OpenRevolvingMonthlyPayment\n",
       " Min.   : 3.00              Min.   : 0.000        Min.   :   0               \n",
       " 1st Qu.:16.50              1st Qu.: 2.000        1st Qu.:  40               \n",
       " Median :27.00              Median : 4.000        Median : 132               \n",
       " Mean   :29.17              Mean   : 5.147        Mean   : 248               \n",
       " 3rd Qu.:40.50              3rd Qu.: 7.000        3rd Qu.: 337               \n",
       " Max.   :81.00              Max.   :23.000        Max.   :2483               \n",
       "                                                                             \n",
       " InquiriesLast6Months TotalInquiries   CurrentDelinquencies AmountDelinquent  \n",
       " Min.   : 0.000       Min.   : 0.000   Min.   : 0.000       Min.   :     0.0  \n",
       " 1st Qu.: 1.000       1st Qu.: 4.000   1st Qu.: 0.000       1st Qu.:     0.0  \n",
       " Median : 2.000       Median : 8.000   Median : 0.000       Median :     0.0  \n",
       " Mean   : 3.052       Mean   : 9.895   Mean   : 1.298       Mean   :  1878.3  \n",
       " 3rd Qu.: 4.000       3rd Qu.:14.000   3rd Qu.: 1.000       3rd Qu.:   409.5  \n",
       " Max.   :17.000       Max.   :46.000   Max.   :17.000       Max.   :101497.0  \n",
       "                                                                              \n",
       " DelinquenciesLast7Years PublicRecordsLast10Years PublicRecordsLast12Months\n",
       " Min.   : 0.000          Min.   :0.0000           Min.   :0.00000          \n",
       " 1st Qu.: 0.000          1st Qu.:0.0000           1st Qu.:0.00000          \n",
       " Median : 0.000          Median :0.0000           Median :0.00000          \n",
       " Mean   : 5.319          Mean   :0.3613           Mean   :0.02618          \n",
       " 3rd Qu.: 6.000          3rd Qu.:1.0000           3rd Qu.:0.00000          \n",
       " Max.   :99.000          Max.   :4.0000           Max.   :1.00000          \n",
       "                                                                           \n",
       " RevolvingCreditBalance BankcardUtilization AvailableBankcardCredit\n",
       " Min.   :     0.0       Min.   :0.0000      Min.   :    0.0        \n",
       " 1st Qu.:   743.5       1st Qu.:0.0950      1st Qu.:   11.5        \n",
       " Median :  4021.0       Median :0.7800      Median :  251.0        \n",
       " Mean   :  9098.4       Mean   :0.5939      Mean   : 2403.0        \n",
       " 3rd Qu.: 10771.5       3rd Qu.:0.9450      3rd Qu.: 1664.5        \n",
       " Max.   :131711.0       Max.   :1.2500      Max.   :36522.0        \n",
       "                                                                   \n",
       "  TotalTrades    TradesNeverDelinquent..percentage. TradesOpenedLast6Months\n",
       " Min.   : 1.00   Min.   :0.2000                     Min.   : 0.00          \n",
       " 1st Qu.:13.00   1st Qu.:0.7350                     1st Qu.: 0.00          \n",
       " Median :22.00   Median :0.8600                     Median : 1.00          \n",
       " Mean   :23.83   Mean   :0.8338                     Mean   : 1.22          \n",
       " 3rd Qu.:33.00   3rd Qu.:1.0000                     3rd Qu.: 2.00          \n",
       " Max.   :73.00   Max.   :1.0000                     Max.   :10.00          \n",
       "                                                                           \n",
       " DebtToIncomeRatio         IncomeRange IncomeVerifiable StatedMonthlyIncome\n",
       " Min.   :0.0200    $25,000-49,999:68   False: 55        Min.   :    0      \n",
       " 1st Qu.:0.1875    $50,000-74,999:56   True :136        1st Qu.: 2583      \n",
       " Median :0.2700    $1-24,999     :21                    Median : 4167      \n",
       " Mean   :0.3147    $100,000+     :20                    Mean   : 4719      \n",
       " 3rd Qu.:0.3600    $75,000-99,999:20                    3rd Qu.: 5833      \n",
       " Max.   :2.2000    Not employed  : 5                    Max.   :33333      \n",
       " NA's   :55        (Other)       : 1                                       \n",
       "                    LoanKey    TotalProsperLoans TotalProsperPaymentsBilled\n",
       " 079C3578185442353B42558:  1   Min.   :1.000     Min.   : 1.00             \n",
       " 096C3600123993142C20218:  1   1st Qu.:1.000     1st Qu.:16.00             \n",
       " 0AF1360230099663244AB4D:  1   Median :1.000     Median :25.50             \n",
       " 0B8D35733283763066B9CA1:  1   Mean   :1.384     Mean   :29.09             \n",
       " 0C9B35732006798939C6189:  1   3rd Qu.:2.000     3rd Qu.:36.00             \n",
       " 0D143601765446499C3D8B3:  1   Max.   :4.000     Max.   :76.00             \n",
       " (Other)                :185   NA's   :53        NA's   :53                \n",
       " OnTimeProsperPayments ProsperPaymentsLessThanOneMonthLate\n",
       " Min.   : 1.0          Min.   :0.0000                     \n",
       " 1st Qu.:16.0          1st Qu.:0.0000                     \n",
       " Median :24.5          Median :0.0000                     \n",
       " Mean   :28.7          Mean   :0.3768                     \n",
       " 3rd Qu.:35.0          3rd Qu.:0.0000                     \n",
       " Max.   :76.0          Max.   :6.0000                     \n",
       " NA's   :53            NA's   :53                         \n",
       " ProsperPaymentsOneMonthPlusLate ProsperPrincipalBorrowed\n",
       " Min.   :0.00000                 Min.   : 1000           \n",
       " 1st Qu.:0.00000                 1st Qu.: 2000           \n",
       " Median :0.00000                 Median : 3500           \n",
       " Mean   :0.00725                 Mean   : 5895           \n",
       " 3rd Qu.:0.00000                 3rd Qu.: 7750           \n",
       " Max.   :1.00000                 Max.   :35000           \n",
       " NA's   :53                      NA's   :53              \n",
       " ProsperPrincipalOutstanding ScorexChangeAtTimeOfListing\n",
       " Min.   :   0.00             Min.   :-143.00            \n",
       " 1st Qu.:   0.01             1st Qu.:  -9.00            \n",
       " Median : 676.78             Median :  19.00            \n",
       " Mean   :1104.62             Mean   :  25.49            \n",
       " 3rd Qu.:1570.40             3rd Qu.:  60.50            \n",
       " Max.   :8198.38             Max.   : 241.00            \n",
       " NA's   :53                  NA's   :53                 \n",
       " LoanCurrentDaysDelinquent LoanFirstDefaultedCycleNumber\n",
       " Min.   :   0.0            Min.   : 1.00                \n",
       " 1st Qu.:   0.0            1st Qu.: 8.75                \n",
       " Median :   0.0            Median :16.50                \n",
       " Mean   : 206.1            Mean   :17.86                \n",
       " 3rd Qu.:   0.0            3rd Qu.:24.00                \n",
       " Max.   :1540.0            Max.   :40.00                \n",
       "                           NA's   :147                  \n",
       " LoanMonthsSinceOrigination   LoanNumber    LoanOriginalAmount\n",
       " Min.   :39.00              Min.   :38061   Min.   : 1000     \n",
       " 1st Qu.:41.00              1st Qu.:39653   1st Qu.: 1500     \n",
       " Median :46.00              Median :42534   Median : 2375     \n",
       " Mean   :46.06              Mean   :42427   Mean   : 3359     \n",
       " 3rd Qu.:52.00              3rd Qu.:44793   3rd Qu.: 4000     \n",
       " Max.   :56.00              Max.   :46098   Max.   :15000     \n",
       "                                                              \n",
       "          LoanOriginationDate LoanOriginationQuarter\n",
       " 2010-10-13 00:00:00:  5      Q4 2010:62            \n",
       " 2009-11-10 00:00:00:  4      Q4 2009:39            \n",
       " 2009-11-18 00:00:00:  3      Q3 2010:25            \n",
       " 2009-11-30 00:00:00:  3      Q2 2010:24            \n",
       " 2010-07-29 00:00:00:  3      Q1 2010:21            \n",
       " 2010-11-12 00:00:00:  3      Q3 2009:20            \n",
       " (Other)            :170      (Other): 0            \n",
       "                   MemberKey   MonthlyLoanPayment LP_CustomerPayments\n",
       " 1ACE3369930823000F335D1:  2   Min.   :  0.00     Min.   :    0      \n",
       " 233833917424416802837ED:  2   1st Qu.: 54.68     1st Qu.: 1445      \n",
       " 02193381466293394735726:  1   Median : 90.61     Median : 2527      \n",
       " 0303343173529627211CD29:  1   Mean   :135.06     Mean   : 3647      \n",
       " 0465336599513925256A8CC:  1   3rd Qu.:174.04     3rd Qu.: 4766      \n",
       " 0470339919173724675477C:  1   Max.   :678.37     Max.   :21302      \n",
       " (Other)                :183                                         \n",
       " LP_CustomerPrincipalPayments LP_InterestandFees LP_ServiceFees   \n",
       " Min.   :    0                Min.   :   0.0     Min.   :-235.52  \n",
       " 1st Qu.: 1000                1st Qu.: 311.8     1st Qu.: -44.66  \n",
       " Median : 1600                Median : 563.7     Median : -24.48  \n",
       " Mean   : 2681                Mean   : 965.4     Mean   : -34.86  \n",
       " 3rd Qu.: 3500                3rd Qu.:1275.6     3rd Qu.: -13.22  \n",
       " Max.   :13000                Max.   :8302.4     Max.   :   0.00  \n",
       "                                                                  \n",
       " LP_CollectionFees LP_GrossPrincipalLoss LP_NetPrincipalLoss\n",
       " Min.   :-793.04   Min.   :    0.0       Min.   :    0.0    \n",
       " 1st Qu.:   0.00   1st Qu.:    0.0       1st Qu.:    0.0    \n",
       " Median :   0.00   Median :    0.0       Median :    0.0    \n",
       " Mean   : -14.68   Mean   :  675.2       Mean   :  666.4    \n",
       " 3rd Qu.:   0.00   3rd Qu.:    0.0       3rd Qu.:    0.0    \n",
       " Max.   :   0.00   Max.   :14579.6       Max.   :14579.6    \n",
       "                                                            \n",
       " LP_NonPrincipalRecoverypayments PercentFunded Recommendations \n",
       " Min.   :   0.00                 Min.   :1     Min.   :0.0000  \n",
       " 1st Qu.:   0.00                 1st Qu.:1     1st Qu.:0.0000  \n",
       " Median :   0.00                 Median :1     Median :0.0000  \n",
       " Mean   :  22.72                 Mean   :1     Mean   :0.2461  \n",
       " 3rd Qu.:   0.00                 3rd Qu.:1     3rd Qu.:0.0000  \n",
       " Max.   :2443.00                 Max.   :1     Max.   :4.0000  \n",
       "                                                               \n",
       " InvestmentFromFriendsCount InvestmentFromFriendsAmount   Investors     \n",
       " Min.   :0.000              Min.   :   0.0              Min.   :  1.00  \n",
       " 1st Qu.:0.000              1st Qu.:   0.0              1st Qu.: 12.00  \n",
       " Median :0.000              Median :   0.0              Median : 33.00  \n",
       " Mean   :0.199              Mean   : 221.3              Mean   : 40.92  \n",
       " 3rd Qu.:0.000              3rd Qu.:   0.0              3rd Qu.: 61.00  \n",
       " Max.   :3.000              Max.   :7000.0              Max.   :169.00  \n",
       "                                                                        "
      ]
     },
     "metadata": {},
     "output_type": "display_data"
    }
   ],
   "source": [
    "summary(negativeExpectedYield)"
   ]
  },
  {
   "cell_type": "markdown",
   "metadata": {
    "deletable": true,
    "editable": true
   },
   "source": [
    "147 Completed, 42 Charged off in this subset. Definitely want to take a closer look at the completed.\n",
    "Median borrower APR: .28902\n",
    "Todo: Difference between Rate and APR\n",
    "EstimatedLoss : would also be good to look at. Median .345\n",
    "Can look at their prosperScores. \n",
    "Occpation: 'Other' is way out in front. Is this due to a high portion of the pop nbnot having one of the listed jobs?\n",
    "Credit is confusing here because this group also contains complete, likely paid off early loans.\n",
    "WOnder if I could find 'the most ridiculous loan issued?\n",
    "Income Range of Charged off Loans. \n",
    "Income Verified?\n",
    "Propser Principal Borrowed - didnt even know about this variable.\n",
    "ProsperPrincipal Outstanding\n",
    "LoanFirstDefaultedCycleNumber\n",
    "LoanMonthsSinceOrigination\n",
    "Loan Original Amount - how is this different from ProsperPrincipalBorrowed?\n",
    "LPCustomerPrincipalPayments"
   ]
  },
  {
   "cell_type": "code",
   "execution_count": 32,
   "metadata": {
    "collapsed": false,
    "deletable": true,
    "editable": true
   },
   "outputs": [
    {
     "data": {
      "text/html": [
       "<dl class=dl-horizontal>\n",
       "\t<dt>$0</dt>\n",
       "\t\t<dd>621</dd>\n",
       "\t<dt>$1-24,999</dt>\n",
       "\t\t<dd>7274</dd>\n",
       "\t<dt>$100,000+</dt>\n",
       "\t\t<dd>17337</dd>\n",
       "\t<dt>$25,000-49,999</dt>\n",
       "\t\t<dd>32192</dd>\n",
       "\t<dt>$50,000-74,999</dt>\n",
       "\t\t<dd>31050</dd>\n",
       "\t<dt>$75,000-99,999</dt>\n",
       "\t\t<dd>16916</dd>\n",
       "\t<dt>Not displayed</dt>\n",
       "\t\t<dd>7741</dd>\n",
       "\t<dt>Not employed</dt>\n",
       "\t\t<dd>806</dd>\n",
       "</dl>\n"
      ],
      "text/latex": [
       "\\begin{description*}\n",
       "\\item[\\textbackslash{}\\$0] 621\n",
       "\\item[\\textbackslash{}\\$1-24,999] 7274\n",
       "\\item[\\textbackslash{}\\$100,000+] 17337\n",
       "\\item[\\textbackslash{}\\$25,000-49,999] 32192\n",
       "\\item[\\textbackslash{}\\$50,000-74,999] 31050\n",
       "\\item[\\textbackslash{}\\$75,000-99,999] 16916\n",
       "\\item[Not displayed] 7741\n",
       "\\item[Not employed] 806\n",
       "\\end{description*}\n"
      ],
      "text/markdown": [
       "$0\n",
       ":   621$1-24,999\n",
       ":   7274$100,000+\n",
       ":   17337$25,000-49,999\n",
       ":   32192$50,000-74,999\n",
       ":   31050$75,000-99,999\n",
       ":   16916Not displayed\n",
       ":   7741Not employed\n",
       ":   806\n",
       "\n"
      ],
      "text/plain": [
       "            $0      $1-24,999      $100,000+ $25,000-49,999 $50,000-74,999 \n",
       "           621           7274          17337          32192          31050 \n",
       "$75,000-99,999  Not displayed   Not employed \n",
       "         16916           7741            806 "
      ]
     },
     "metadata": {},
     "output_type": "display_data"
    }
   ],
   "source": [
    "#The question is: does a person's income affect the term of the loan they take out.\n",
    "#put all the names of the income groups in a vector\n",
    "summary(datadf$IncomeRange) #to check names"
   ]
  },
  {
   "cell_type": "code",
   "execution_count": 66,
   "metadata": {
    "collapsed": false,
    "deletable": true,
    "editable": true
   },
   "outputs": [
    {
     "data": {
      "text/html": [
       "<ol class=list-inline>\n",
       "\t<li>'$0'</li>\n",
       "\t<li>'$1-24,999'</li>\n",
       "\t<li>'$25,000-49,999'</li>\n",
       "\t<li>'$50,000-74,999'</li>\n",
       "\t<li>'$100,000+'</li>\n",
       "\t<li>'Not displayed'</li>\n",
       "\t<li>'Not employed'</li>\n",
       "</ol>\n"
      ],
      "text/latex": [
       "\\begin{enumerate*}\n",
       "\\item '\\$0'\n",
       "\\item '\\$1-24,999'\n",
       "\\item '\\$25,000-49,999'\n",
       "\\item '\\$50,000-74,999'\n",
       "\\item '\\$100,000+'\n",
       "\\item 'Not displayed'\n",
       "\\item 'Not employed'\n",
       "\\end{enumerate*}\n"
      ],
      "text/markdown": [
       "1. '$0'\n",
       "2. '$1-24,999'\n",
       "3. '$25,000-49,999'\n",
       "4. '$50,000-74,999'\n",
       "5. '$100,000+'\n",
       "6. 'Not displayed'\n",
       "7. 'Not employed'\n",
       "\n",
       "\n"
      ],
      "text/plain": [
       "[1] \"$0\"             \"$1-24,999\"      \"$25,000-49,999\" \"$50,000-74,999\"\n",
       "[5] \"$100,000+\"      \"Not displayed\"  \"Not employed\"  "
      ]
     },
     "metadata": {},
     "output_type": "display_data"
    }
   ],
   "source": [
    "levels(datadf$IncomeRange)"
   ]
  },
  {
   "cell_type": "code",
   "execution_count": 65,
   "metadata": {
    "collapsed": true,
    "deletable": true,
    "editable": true
   },
   "outputs": [],
   "source": [
    "datadf$IncomeRange <- factor(datadf$IncomeRange, levels = c(\"$0\", \"$1-24,999\", \"$25,000-49,999\", \"$50,000-74,999\", \n",
    "                                                            \"$100,000+\", \"Not displayed\", \"Not employed\"))"
   ]
  },
  {
   "cell_type": "code",
   "execution_count": 67,
   "metadata": {
    "collapsed": false,
    "deletable": true,
    "editable": true
   },
   "outputs": [
    {
     "data": {
      "text/html": [
       "<ol class=list-inline>\n",
       "\t<li>113937</li>\n",
       "\t<li>81</li>\n",
       "</ol>\n"
      ],
      "text/latex": [
       "\\begin{enumerate*}\n",
       "\\item 113937\n",
       "\\item 81\n",
       "\\end{enumerate*}\n"
      ],
      "text/markdown": [
       "1. 113937\n",
       "2. 81\n",
       "\n",
       "\n"
      ],
      "text/plain": [
       "[1] 113937     81"
      ]
     },
     "metadata": {},
     "output_type": "display_data"
    },
    {
     "data": {
      "text/html": [
       "<ol class=list-inline>\n",
       "\t<li>105390</li>\n",
       "\t<li>81</li>\n",
       "</ol>\n"
      ],
      "text/latex": [
       "\\begin{enumerate*}\n",
       "\\item 105390\n",
       "\\item 81\n",
       "\\end{enumerate*}\n"
      ],
      "text/markdown": [
       "1. 105390\n",
       "2. 81\n",
       "\n",
       "\n"
      ],
      "text/plain": [
       "[1] 105390     81"
      ]
     },
     "metadata": {},
     "output_type": "display_data"
    }
   ],
   "source": [
    "dim(datadf)\n",
    "with_income_info <- datadf %>%\n",
    "filter(!IncomeRange %in% c('Not displayed','Not employed'))\n",
    "dim(with_income_info)"
   ]
  },
  {
   "cell_type": "code",
   "execution_count": null,
   "metadata": {
    "collapsed": true,
    "deletable": true,
    "editable": true
   },
   "outputs": [],
   "source": [
    "#makes sense to use percentage here, or comparing apples to oranges.\n",
    "#So that is Count of Income Using that Term / Count of People with that Income\n",
    "income_facet <- ggplot(with_income_info, aes(Income Range)) + geom_bar()"
   ]
  },
  {
   "cell_type": "code",
   "execution_count": 74,
   "metadata": {
    "collapsed": false,
    "deletable": true,
    "editable": true
   },
   "outputs": [
    {
     "name": "stderr",
     "output_type": "stream",
     "text": [
      "Warning message:\n",
      "\"position_dodge requires non-overlapping x intervals\""
     ]
    },
    {
     "data": {},
     "metadata": {},
     "output_type": "display_data"
    },
    {
     "data": {
      "image/png": "[encoded data removed]",
      "text/plain": [
       "plot without title"
      ]
     },
     "metadata": {},
     "output_type": "display_data"
    }
   ],
   "source": [
    "ggplot(with_income_info, aes(Term, fill=IncomeRange)) + geom_bar(position=\"dodge\") "
   ]
  },
  {
   "cell_type": "code",
   "execution_count": null,
   "metadata": {
    "collapsed": true,
    "deletable": true,
    "editable": true
   },
   "outputs": [],
   "source": []
  },
  {
   "cell_type": "code",
   "execution_count": 53,
   "metadata": {
    "collapsed": false,
    "deletable": true,
    "editable": true
   },
   "outputs": [
    {
     "name": "stderr",
     "output_type": "stream",
     "text": [
      "Don't know how to automatically pick scale for object of type grouped_df/tbl_df/tbl/data.frame. Defaulting to continuous.\n"
     ]
    },
    {
     "data": {},
     "metadata": {},
     "output_type": "display_data"
    },
    {
     "data": {
      "image/png": "[encoded data removed]",
      "text/plain": [
       "plot without title"
      ]
     },
     "metadata": {},
     "output_type": "display_data"
    }
   ],
   "source": [
    "#plotting term count grouped by incomerange, income range with term \n",
    "p <- with_income_info %>% group_by(IncomeRange) %>% count(Term) %>% arrange(IncomeRange, Term)\n",
    "ggplot(p, aes(Term))+geom_bar()\n",
    "#this deffinitely creates the right table - need to figure out how to plot it\n",
    "#might have to add 12 mo term to 0\n",
    "#OK - so doesn't like trying to plot 'objects of type grouped'. can i ungroup them or r\n",
    "#coerce them into being something else/"
   ]
  },
  {
   "cell_type": "code",
   "execution_count": 63,
   "metadata": {
    "collapsed": false,
    "deletable": true,
    "editable": true,
    "scrolled": true
   },
   "outputs": [
    {
     "data": {},
     "metadata": {},
     "output_type": "display_data"
    },
    {
     "data": {
      "image/png": "[encoded data removed]",
      "text/plain": [
       "plot without title"
      ]
     },
     "metadata": {},
     "output_type": "display_data"
    }
   ],
   "source": [
    "ggplot(with_income_info, aes(Term)) + geom_bar() + facet_wrap(~IncomeRange)"
   ]
  },
  {
   "cell_type": "markdown",
   "metadata": {
    "deletable": true,
    "editable": true
   },
   "source": [
    "#these graphs are still deficient because they're absolute, not perncentage /density"
   ]
  },
  {
   "cell_type": "code",
   "execution_count": 21,
   "metadata": {
    "collapsed": false,
    "deletable": true,
    "editable": true
   },
   "outputs": [
    {
     "ename": "ERROR",
     "evalue": "Error in filter_impl(.data, dots): filter condition does not evaluate to a logical vector. \n",
     "output_type": "error",
     "traceback": [
      "Error in filter_impl(.data, dots): filter condition does not evaluate to a logical vector. \nTraceback:\n",
      "1. datadf %>% filter(IncomeRange)",
      "2. withVisible(eval(quote(`_fseq`(`_lhs`)), env, env))",
      "3. eval(quote(`_fseq`(`_lhs`)), env, env)",
      "4. eval(expr, envir, enclos)",
      "5. `_fseq`(`_lhs`)",
      "6. freduce(value, `_function_list`)",
      "7. withVisible(function_list[[k]](value))",
      "8. function_list[[k]](value)",
      "9. filter(., IncomeRange)",
      "10. filter_(.data, .dots = lazyeval::lazy_dots(...))",
      "11. filter_.data.frame(.data, .dots = lazyeval::lazy_dots(...))",
      "12. as.data.frame(filter_(tbl_df(.data), .dots = dots))",
      "13. filter_(tbl_df(.data), .dots = dots)",
      "14. filter_.tbl_df(tbl_df(.data), .dots = dots)",
      "15. filter_impl(.data, dots)"
     ]
    }
   ],
   "source": [
    "#for each income bucket, what percentage of loans are whic term\n",
    "datadf %>%\n",
    "filter(IncomeRange )\n",
    "group_by(IncomeRange, Term) %>%\n",
    "summarise(number_of_loans = n()) %>%\n",
    "mutate(freq = number_of_loans / sum(number_of_loans)) \n"
   ]
  },
  {
   "cell_type": "code",
   "execution_count": 12,
   "metadata": {
    "collapsed": false,
    "deletable": true,
    "editable": true
   },
   "outputs": [
    {
     "data": {
      "text/html": [
       "<table>\n",
       "<thead><tr><th scope=col>Term</th><th scope=col>percentage_term</th></tr></thead>\n",
       "<tbody>\n",
       "\t<tr><td>12   </td><td> 1614</td></tr>\n",
       "\t<tr><td>36   </td><td>87778</td></tr>\n",
       "\t<tr><td>60   </td><td>24545</td></tr>\n",
       "</tbody>\n",
       "</table>\n"
      ],
      "text/latex": [
       "\\begin{tabular}{r|ll}\n",
       " Term & percentage\\_term\\\\\n",
       "\\hline\n",
       "\t 12    &  1614\\\\\n",
       "\t 36    & 87778\\\\\n",
       "\t 60    & 24545\\\\\n",
       "\\end{tabular}\n"
      ],
      "text/markdown": [
       "\n",
       "Term | percentage_term | \n",
       "|---|---|---|\n",
       "| 12    |  1614 | \n",
       "| 36    | 87778 | \n",
       "| 60    | 24545 | \n",
       "\n",
       "\n"
      ],
      "text/plain": [
       "  Term percentage_term\n",
       "1 12    1614          \n",
       "2 36   87778          \n",
       "3 60   24545          "
      ]
     },
     "metadata": {},
     "output_type": "display_data"
    }
   ],
   "source": [
    "#for each income bucket, what percentage of loans are whic term\n",
    "datadf %>%\n",
    "select(ListingKey, Term, IncomeRange) %>%\n",
    "group_by(IncomeRange) %>%\n",
    "mutate(number_of_loans = n()) %>%\n",
    "group_by(Term) %>%\n",
    "summarize(percentage_term = n())"
   ]
  }
 ],
 "metadata": {
  "kernelspec": {
   "display_name": "R",
   "language": "R",
   "name": "ir"
  },
  "language_info": {
   "codemirror_mode": "r",
   "file_extension": ".r",
   "mimetype": "text/x-r-source",
   "name": "R",
   "pygments_lexer": "r",
   "version": "3.3.2"
  }
 },
 "nbformat": 4,
 "nbformat_minor": 2
}
