{
 "cells": [
  {
   "cell_type": "code",
   "execution_count": 4,
   "metadata": {
    "collapsed": false,
    "deletable": true,
    "editable": true
   },
   "outputs": [
    {
     "ename": "ERROR",
     "evalue": "Error in setwd(\"data\"): cannot change working directory\n",
     "output_type": "error",
     "traceback": [
      "Error in setwd(\"data\"): cannot change working directory\nTraceback:\n",
      "1. setwd(\"data\")"
     ]
    }
   ],
   "source": [
    "setwd('data')\n",
    "list.files()"
   ]
  },
  {
   "cell_type": "code",
   "execution_count": 5,
   "metadata": {
    "collapsed": false
   },
   "outputs": [],
   "source": [
    "# Read data\n",
    "loans <- read.csv('prosperLoanData.csv')"
   ]
  },
  {
   "cell_type": "code",
   "execution_count": 6,
   "metadata": {
    "collapsed": false,
    "deletable": true,
    "editable": true
   },
   "outputs": [],
   "source": [
    "# Load Libraries\n",
    "library(plyr)\n",
    "library(ggplot2)\n",
    "library(dplyr)\n",
    "library(stringr)"
   ]
  },
  {
   "cell_type": "markdown",
   "metadata": {},
   "source": [
    "## Univariate Exploration"
   ]
  },
  {
   "cell_type": "code",
   "execution_count": 4,
   "metadata": {
    "collapsed": false,
    "deletable": true,
    "editable": true
   },
   "outputs": [
    {
     "data": {
      "text/html": [
       "<ol class=list-inline>\n",
       "\t<li>113937</li>\n",
       "\t<li>81</li>\n",
       "</ol>\n"
      ],
      "text/latex": [
       "\\begin{enumerate*}\n",
       "\\item 113937\n",
       "\\item 81\n",
       "\\end{enumerate*}\n"
      ],
      "text/markdown": [
       "1. 113937\n",
       "2. 81\n",
       "\n",
       "\n"
      ],
      "text/plain": [
       "[1] 113937     81"
      ]
     },
     "metadata": {},
     "output_type": "display_data"
    },
    {
     "name": "stdout",
     "output_type": "stream",
     "text": [
      "'data.frame':\t113937 obs. of  81 variables:\n",
      " $ ListingKey                         : Factor w/ 113066 levels \"00003546482094282EF90E5\",..: 7180 7193 6647 6669 6686 6689 6699 6706 6687 6687 ...\n",
      " $ ListingNumber                      : int  193129 1209647 81716 658116 909464 1074836 750899 768193 1023355 1023355 ...\n",
      " $ ListingCreationDate                : Factor w/ 113064 levels \"2005-11-09 20:44:28.847000000\",..: 14184 111894 6429 64760 85967 100310 72556 74019 97834 97834 ...\n",
      " $ CreditGrade                        : Factor w/ 9 levels \"\",\"A\",\"AA\",\"B\",..: 5 1 8 1 1 1 1 1 1 1 ...\n",
      " $ Term                               : int  36 36 36 36 36 60 36 36 36 36 ...\n",
      " $ LoanStatus                         : Factor w/ 12 levels \"Cancelled\",\"Chargedoff\",..: 3 4 3 4 4 4 4 4 4 4 ...\n",
      " $ ClosedDate                         : Factor w/ 2803 levels \"\",\"2005-11-25 00:00:00\",..: 1138 1 1263 1 1 1 1 1 1 1 ...\n",
      " $ BorrowerAPR                        : num  0.165 0.12 0.283 0.125 0.246 ...\n",
      " $ BorrowerRate                       : num  0.158 0.092 0.275 0.0974 0.2085 ...\n",
      " $ LenderYield                        : num  0.138 0.082 0.24 0.0874 0.1985 ...\n",
      " $ EstimatedEffectiveYield            : num  NA 0.0796 NA 0.0849 0.1832 ...\n",
      " $ EstimatedLoss                      : num  NA 0.0249 NA 0.0249 0.0925 ...\n",
      " $ EstimatedReturn                    : num  NA 0.0547 NA 0.06 0.0907 ...\n",
      " $ ProsperRating..numeric.            : int  NA 6 NA 6 3 5 2 4 7 7 ...\n",
      " $ ProsperRating..Alpha.              : Factor w/ 8 levels \"\",\"A\",\"AA\",\"B\",..: 1 2 1 2 6 4 7 5 3 3 ...\n",
      " $ ProsperScore                       : num  NA 7 NA 9 4 10 2 4 9 11 ...\n",
      " $ ListingCategory..numeric.          : int  0 2 0 16 2 1 1 2 7 7 ...\n",
      " $ BorrowerState                      : Factor w/ 52 levels \"\",\"AK\",\"AL\",\"AR\",..: 7 7 12 12 25 34 18 6 16 16 ...\n",
      " $ Occupation                         : Factor w/ 68 levels \"\",\"Accountant/CPA\",..: 37 43 37 52 21 43 50 29 24 24 ...\n",
      " $ EmploymentStatus                   : Factor w/ 9 levels \"\",\"Employed\",..: 9 2 4 2 2 2 2 2 2 2 ...\n",
      " $ EmploymentStatusDuration           : int  2 44 NA 113 44 82 172 103 269 269 ...\n",
      " $ IsBorrowerHomeowner                : Factor w/ 2 levels \"False\",\"True\": 2 1 1 2 2 2 1 1 2 2 ...\n",
      " $ CurrentlyInGroup                   : Factor w/ 2 levels \"False\",\"True\": 2 1 2 1 1 1 1 1 1 1 ...\n",
      " $ GroupKey                           : Factor w/ 707 levels \"\",\"00343376901312423168731\",..: 1 1 335 1 1 1 1 1 1 1 ...\n",
      " $ DateCreditPulled                   : Factor w/ 112992 levels \"2005-11-09 00:30:04.487000000\",..: 14347 111883 6446 64724 85857 100382 72500 73937 97888 97888 ...\n",
      " $ CreditScoreRangeLower              : int  640 680 480 800 680 740 680 700 820 820 ...\n",
      " $ CreditScoreRangeUpper              : int  659 699 499 819 699 759 699 719 839 839 ...\n",
      " $ FirstRecordedCreditLine            : Factor w/ 11586 levels \"\",\"1947-08-24 00:00:00\",..: 8639 6617 8927 2247 9498 497 8265 7685 5543 5543 ...\n",
      " $ CurrentCreditLines                 : int  5 14 NA 5 19 21 10 6 17 17 ...\n",
      " $ OpenCreditLines                    : int  4 14 NA 5 19 17 7 6 16 16 ...\n",
      " $ TotalCreditLinespast7years         : int  12 29 3 29 49 49 20 10 32 32 ...\n",
      " $ OpenRevolvingAccounts              : int  1 13 0 7 6 13 6 5 12 12 ...\n",
      " $ OpenRevolvingMonthlyPayment        : num  24 389 0 115 220 1410 214 101 219 219 ...\n",
      " $ InquiriesLast6Months               : int  3 3 0 0 1 0 0 3 1 1 ...\n",
      " $ TotalInquiries                     : num  3 5 1 1 9 2 0 16 6 6 ...\n",
      " $ CurrentDelinquencies               : int  2 0 1 4 0 0 0 0 0 0 ...\n",
      " $ AmountDelinquent                   : num  472 0 NA 10056 0 ...\n",
      " $ DelinquenciesLast7Years            : int  4 0 0 14 0 0 0 0 0 0 ...\n",
      " $ PublicRecordsLast10Years           : int  0 1 0 0 0 0 0 1 0 0 ...\n",
      " $ PublicRecordsLast12Months          : int  0 0 NA 0 0 0 0 0 0 0 ...\n",
      " $ RevolvingCreditBalance             : num  0 3989 NA 1444 6193 ...\n",
      " $ BankcardUtilization                : num  0 0.21 NA 0.04 0.81 0.39 0.72 0.13 0.11 0.11 ...\n",
      " $ AvailableBankcardCredit            : num  1500 10266 NA 30754 695 ...\n",
      " $ TotalTrades                        : num  11 29 NA 26 39 47 16 10 29 29 ...\n",
      " $ TradesNeverDelinquent..percentage. : num  0.81 1 NA 0.76 0.95 1 0.68 0.8 1 1 ...\n",
      " $ TradesOpenedLast6Months            : num  0 2 NA 0 2 0 0 0 1 1 ...\n",
      " $ DebtToIncomeRatio                  : num  0.17 0.18 0.06 0.15 0.26 0.36 0.27 0.24 0.25 0.25 ...\n",
      " $ IncomeRange                        : Factor w/ 8 levels \"$0\",\"$1-24,999\",..: 4 5 7 4 3 3 4 4 4 4 ...\n",
      " $ IncomeVerifiable                   : Factor w/ 2 levels \"False\",\"True\": 2 2 2 2 2 2 2 2 2 2 ...\n",
      " $ StatedMonthlyIncome                : num  3083 6125 2083 2875 9583 ...\n",
      " $ LoanKey                            : Factor w/ 113066 levels \"00003683605746079487FF7\",..: 100337 69837 46303 70776 71387 86505 91250 5425 908 908 ...\n",
      " $ TotalProsperLoans                  : int  NA NA NA NA 1 NA NA NA NA NA ...\n",
      " $ TotalProsperPaymentsBilled         : int  NA NA NA NA 11 NA NA NA NA NA ...\n",
      " $ OnTimeProsperPayments              : int  NA NA NA NA 11 NA NA NA NA NA ...\n",
      " $ ProsperPaymentsLessThanOneMonthLate: int  NA NA NA NA 0 NA NA NA NA NA ...\n",
      " $ ProsperPaymentsOneMonthPlusLate    : int  NA NA NA NA 0 NA NA NA NA NA ...\n",
      " $ ProsperPrincipalBorrowed           : num  NA NA NA NA 11000 NA NA NA NA NA ...\n",
      " $ ProsperPrincipalOutstanding        : num  NA NA NA NA 9948 ...\n",
      " $ ScorexChangeAtTimeOfListing        : int  NA NA NA NA NA NA NA NA NA NA ...\n",
      " $ LoanCurrentDaysDelinquent          : int  0 0 0 0 0 0 0 0 0 0 ...\n",
      " $ LoanFirstDefaultedCycleNumber      : int  NA NA NA NA NA NA NA NA NA NA ...\n",
      " $ LoanMonthsSinceOrigination         : int  78 0 86 16 6 3 11 10 3 3 ...\n",
      " $ LoanNumber                         : int  19141 134815 6466 77296 102670 123257 88353 90051 121268 121268 ...\n",
      " $ LoanOriginalAmount                 : int  9425 10000 3001 10000 15000 15000 3000 10000 10000 10000 ...\n",
      " $ LoanOriginationDate                : Factor w/ 1873 levels \"2005-11-15 00:00:00\",..: 426 1866 260 1535 1757 1821 1649 1666 1813 1813 ...\n",
      " $ LoanOriginationQuarter             : Factor w/ 33 levels \"Q1 2006\",\"Q1 2007\",..: 18 8 2 32 24 33 16 16 33 33 ...\n",
      " $ MemberKey                          : Factor w/ 90831 levels \"00003397697413387CAF966\",..: 11071 10302 33781 54939 19465 48037 60448 40951 26129 26129 ...\n",
      " $ MonthlyLoanPayment                 : num  330 319 123 321 564 ...\n",
      " $ LP_CustomerPayments                : num  11396 0 4187 5143 2820 ...\n",
      " $ LP_CustomerPrincipalPayments       : num  9425 0 3001 4091 1563 ...\n",
      " $ LP_InterestandFees                 : num  1971 0 1186 1052 1257 ...\n",
      " $ LP_ServiceFees                     : num  -133.2 0 -24.2 -108 -60.3 ...\n",
      " $ LP_CollectionFees                  : num  0 0 0 0 0 0 0 0 0 0 ...\n",
      " $ LP_GrossPrincipalLoss              : num  0 0 0 0 0 0 0 0 0 0 ...\n",
      " $ LP_NetPrincipalLoss                : num  0 0 0 0 0 0 0 0 0 0 ...\n",
      " $ LP_NonPrincipalRecoverypayments    : num  0 0 0 0 0 0 0 0 0 0 ...\n",
      " $ PercentFunded                      : num  1 1 1 1 1 1 1 1 1 1 ...\n",
      " $ Recommendations                    : int  0 0 0 0 0 0 0 0 0 0 ...\n",
      " $ InvestmentFromFriendsCount         : int  0 0 0 0 0 0 0 0 0 0 ...\n",
      " $ InvestmentFromFriendsAmount        : num  0 0 0 0 0 0 0 0 0 0 ...\n",
      " $ Investors                          : int  258 1 41 158 20 1 1 1 1 1 ...\n"
     ]
    }
   ],
   "source": [
    "dim(loans)\n",
    "str(loans)"
   ]
  },
  {
   "cell_type": "markdown",
   "metadata": {
    "deletable": true,
    "editable": true
   },
   "source": [
    "Taking a peak at the data it's easy to see that this dataset has many (81) variables. I used this list to create a shorter set of variables of interest to explore. There are 113,937 observations (which makes it worrisome that the variable loan key is a factor with only 113066 levels). Let's explore that first after seeing a summary of the dataset."
   ]
  },
  {
   "cell_type": "code",
   "execution_count": 23,
   "metadata": {
    "collapsed": false,
    "deletable": true,
    "editable": true
   },
   "outputs": [
    {
     "data": {
      "text/plain": [
       "                   ListingKey     ListingNumber    \n",
       " 17A93590655669644DB4C06:     6   Min.   :      4  \n",
       " 349D3587495831350F0F648:     4   1st Qu.: 400919  \n",
       " 47C1359638497431975670B:     4   Median : 600554  \n",
       " 8474358854651984137201C:     4   Mean   : 627886  \n",
       " DE8535960513435199406CE:     4   3rd Qu.: 892634  \n",
       " 04C13599434217079754AEE:     3   Max.   :1255725  \n",
       " (Other)                :113912                    \n",
       "                    ListingCreationDate  CreditGrade         Term      \n",
       " 2013-10-02 17:20:16.550000000:     6          :84984   Min.   :12.00  \n",
       " 2013-08-28 20:31:41.107000000:     4   C      : 5649   1st Qu.:36.00  \n",
       " 2013-09-08 09:27:44.853000000:     4   D      : 5153   Median :36.00  \n",
       " 2013-12-06 05:43:13.830000000:     4   B      : 4389   Mean   :40.83  \n",
       " 2013-12-06 11:44:58.283000000:     4   AA     : 3509   3rd Qu.:36.00  \n",
       " 2013-08-21 07:25:22.360000000:     3   HR     : 3508   Max.   :60.00  \n",
       " (Other)                      :113912   (Other): 6745                  \n",
       "                 LoanStatus                  ClosedDate     BorrowerAPR     \n",
       " Current              :56576                      :58848   Min.   :0.00653  \n",
       " Completed            :38074   2014-03-04 00:00:00:  105   1st Qu.:0.15629  \n",
       " Chargedoff           :11992   2014-02-19 00:00:00:  100   Median :0.20976  \n",
       " Defaulted            : 5018   2014-02-11 00:00:00:   92   Mean   :0.21883  \n",
       " Past Due (1-15 days) :  806   2012-10-30 00:00:00:   81   3rd Qu.:0.28381  \n",
       " Past Due (31-60 days):  363   2013-02-26 00:00:00:   78   Max.   :0.51229  \n",
       " (Other)              : 1108   (Other)            :54633   NA's   :25       \n",
       "  BorrowerRate     LenderYield      EstimatedEffectiveYield EstimatedLoss  \n",
       " Min.   :0.0000   Min.   :-0.0100   Min.   :-0.183          Min.   :0.005  \n",
       " 1st Qu.:0.1340   1st Qu.: 0.1242   1st Qu.: 0.116          1st Qu.:0.042  \n",
       " Median :0.1840   Median : 0.1730   Median : 0.162          Median :0.072  \n",
       " Mean   :0.1928   Mean   : 0.1827   Mean   : 0.169          Mean   :0.080  \n",
       " 3rd Qu.:0.2500   3rd Qu.: 0.2400   3rd Qu.: 0.224          3rd Qu.:0.112  \n",
       " Max.   :0.4975   Max.   : 0.4925   Max.   : 0.320          Max.   :0.366  \n",
       "                                    NA's   :29084           NA's   :29084  \n",
       " EstimatedReturn  ProsperRating..numeric. ProsperRating..Alpha.  ProsperScore  \n",
       " Min.   :-0.183   Min.   :1.000                  :29084         Min.   : 1.00  \n",
       " 1st Qu.: 0.074   1st Qu.:3.000           C      :18345         1st Qu.: 4.00  \n",
       " Median : 0.092   Median :4.000           B      :15581         Median : 6.00  \n",
       " Mean   : 0.096   Mean   :4.072           A      :14551         Mean   : 5.95  \n",
       " 3rd Qu.: 0.117   3rd Qu.:5.000           D      :14274         3rd Qu.: 8.00  \n",
       " Max.   : 0.284   Max.   :7.000           E      : 9795         Max.   :11.00  \n",
       " NA's   :29084    NA's   :29084           (Other):12307         NA's   :29084  \n",
       " ListingCategory..numeric. BorrowerState                      Occupation   \n",
       " Min.   : 0.000            CA     :14717   Other                   :28617  \n",
       " 1st Qu.: 1.000            TX     : 6842   Professional            :13628  \n",
       " Median : 1.000            NY     : 6729   Computer Programmer     : 4478  \n",
       " Mean   : 2.774            FL     : 6720   Executive               : 4311  \n",
       " 3rd Qu.: 3.000            IL     : 5921   Teacher                 : 3759  \n",
       " Max.   :20.000                   : 5515   Administrative Assistant: 3688  \n",
       "                           (Other):67493   (Other)                 :55456  \n",
       "      EmploymentStatus EmploymentStatusDuration IsBorrowerHomeowner\n",
       " Employed     :67322   Min.   :  0.00           False:56459        \n",
       " Full-time    :26355   1st Qu.: 26.00           True :57478        \n",
       " Self-employed: 6134   Median : 67.00                              \n",
       " Not available: 5347   Mean   : 96.07                              \n",
       " Other        : 3806   3rd Qu.:137.00                              \n",
       "              : 2255   Max.   :755.00                              \n",
       " (Other)      : 2718   NA's   :7625                                \n",
       " CurrentlyInGroup                    GroupKey                 DateCreditPulled \n",
       " False:101218                            :100596   2013-12-23 09:38:12:     6  \n",
       " True : 12719     783C3371218786870A73D20:  1140   2013-11-21 09:09:41:     4  \n",
       "                  3D4D3366260257624AB272D:   916   2013-12-06 05:43:16:     4  \n",
       "                  6A3B336601725506917317E:   698   2014-01-14 20:17:49:     4  \n",
       "                  FEF83377364176536637E50:   611   2014-02-09 12:14:41:     4  \n",
       "                  C9643379247860156A00EC0:   342   2013-09-27 22:04:54:     3  \n",
       "                  (Other)                :  9634   (Other)            :113912  \n",
       " CreditScoreRangeLower CreditScoreRangeUpper        FirstRecordedCreditLine\n",
       " Min.   :  0.0         Min.   : 19.0                            :   697    \n",
       " 1st Qu.:660.0         1st Qu.:679.0         1993-12-01 00:00:00:   185    \n",
       " Median :680.0         Median :699.0         1994-11-01 00:00:00:   178    \n",
       " Mean   :685.6         Mean   :704.6         1995-11-01 00:00:00:   168    \n",
       " 3rd Qu.:720.0         3rd Qu.:739.0         1990-04-01 00:00:00:   161    \n",
       " Max.   :880.0         Max.   :899.0         1995-03-01 00:00:00:   159    \n",
       " NA's   :591           NA's   :591           (Other)            :112389    \n",
       " CurrentCreditLines OpenCreditLines TotalCreditLinespast7years\n",
       " Min.   : 0.00      Min.   : 0.00   Min.   :  2.00            \n",
       " 1st Qu.: 7.00      1st Qu.: 6.00   1st Qu.: 17.00            \n",
       " Median :10.00      Median : 9.00   Median : 25.00            \n",
       " Mean   :10.32      Mean   : 9.26   Mean   : 26.75            \n",
       " 3rd Qu.:13.00      3rd Qu.:12.00   3rd Qu.: 35.00            \n",
       " Max.   :59.00      Max.   :54.00   Max.   :136.00            \n",
       " NA's   :7604       NA's   :7604    NA's   :697               \n",
       " OpenRevolvingAccounts OpenRevolvingMonthlyPayment InquiriesLast6Months\n",
       " Min.   : 0.00         Min.   :    0.0             Min.   :  0.000     \n",
       " 1st Qu.: 4.00         1st Qu.:  114.0             1st Qu.:  0.000     \n",
       " Median : 6.00         Median :  271.0             Median :  1.000     \n",
       " Mean   : 6.97         Mean   :  398.3             Mean   :  1.435     \n",
       " 3rd Qu.: 9.00         3rd Qu.:  525.0             3rd Qu.:  2.000     \n",
       " Max.   :51.00         Max.   :14985.0             Max.   :105.000     \n",
       "                                                   NA's   :697         \n",
       " TotalInquiries    CurrentDelinquencies AmountDelinquent  \n",
       " Min.   :  0.000   Min.   : 0.0000      Min.   :     0.0  \n",
       " 1st Qu.:  2.000   1st Qu.: 0.0000      1st Qu.:     0.0  \n",
       " Median :  4.000   Median : 0.0000      Median :     0.0  \n",
       " Mean   :  5.584   Mean   : 0.5921      Mean   :   984.5  \n",
       " 3rd Qu.:  7.000   3rd Qu.: 0.0000      3rd Qu.:     0.0  \n",
       " Max.   :379.000   Max.   :83.0000      Max.   :463881.0  \n",
       " NA's   :1159      NA's   :697          NA's   :7622      \n",
       " DelinquenciesLast7Years PublicRecordsLast10Years PublicRecordsLast12Months\n",
       " Min.   : 0.000          Min.   : 0.0000          Min.   : 0.000           \n",
       " 1st Qu.: 0.000          1st Qu.: 0.0000          1st Qu.: 0.000           \n",
       " Median : 0.000          Median : 0.0000          Median : 0.000           \n",
       " Mean   : 4.155          Mean   : 0.3126          Mean   : 0.015           \n",
       " 3rd Qu.: 3.000          3rd Qu.: 0.0000          3rd Qu.: 0.000           \n",
       " Max.   :99.000          Max.   :38.0000          Max.   :20.000           \n",
       " NA's   :990             NA's   :697              NA's   :7604             \n",
       " RevolvingCreditBalance BankcardUtilization AvailableBankcardCredit\n",
       " Min.   :      0        Min.   :0.000       Min.   :     0         \n",
       " 1st Qu.:   3121        1st Qu.:0.310       1st Qu.:   880         \n",
       " Median :   8549        Median :0.600       Median :  4100         \n",
       " Mean   :  17599        Mean   :0.561       Mean   : 11210         \n",
       " 3rd Qu.:  19521        3rd Qu.:0.840       3rd Qu.: 13180         \n",
       " Max.   :1435667        Max.   :5.950       Max.   :646285         \n",
       " NA's   :7604           NA's   :7604        NA's   :7544           \n",
       "  TotalTrades     TradesNeverDelinquent..percentage. TradesOpenedLast6Months\n",
       " Min.   :  0.00   Min.   :0.000                      Min.   : 0.000         \n",
       " 1st Qu.: 15.00   1st Qu.:0.820                      1st Qu.: 0.000         \n",
       " Median : 22.00   Median :0.940                      Median : 0.000         \n",
       " Mean   : 23.23   Mean   :0.886                      Mean   : 0.802         \n",
       " 3rd Qu.: 30.00   3rd Qu.:1.000                      3rd Qu.: 1.000         \n",
       " Max.   :126.00   Max.   :1.000                      Max.   :20.000         \n",
       " NA's   :7544     NA's   :7544                       NA's   :7544           \n",
       " DebtToIncomeRatio         IncomeRange    IncomeVerifiable StatedMonthlyIncome\n",
       " Min.   : 0.000    $25,000-49,999:32192   False:  8669     Min.   :      0    \n",
       " 1st Qu.: 0.140    $50,000-74,999:31050   True :105268     1st Qu.:   3200    \n",
       " Median : 0.220    $100,000+     :17337                    Median :   4667    \n",
       " Mean   : 0.276    $75,000-99,999:16916                    Mean   :   5608    \n",
       " 3rd Qu.: 0.320    Not displayed : 7741                    3rd Qu.:   6825    \n",
       " Max.   :10.010    $1-24,999     : 7274                    Max.   :1750003    \n",
       " NA's   :8554      (Other)       : 1427                                       \n",
       "                    LoanKey       TotalProsperLoans TotalProsperPaymentsBilled\n",
       " CB1B37030986463208432A1:     6   Min.   :0.00      Min.   :  0.00            \n",
       " 2DEE3698211017519D7333F:     4   1st Qu.:1.00      1st Qu.:  9.00            \n",
       " 9F4B37043517554537C364C:     4   Median :1.00      Median : 16.00            \n",
       " D895370150591392337ED6D:     4   Mean   :1.42      Mean   : 22.93            \n",
       " E6FB37073953690388BC56D:     4   3rd Qu.:2.00      3rd Qu.: 33.00            \n",
       " 0D8F37036734373301ED419:     3   Max.   :8.00      Max.   :141.00            \n",
       " (Other)                :113912   NA's   :91852     NA's   :91852             \n",
       " OnTimeProsperPayments ProsperPaymentsLessThanOneMonthLate\n",
       " Min.   :  0.00        Min.   : 0.00                      \n",
       " 1st Qu.:  9.00        1st Qu.: 0.00                      \n",
       " Median : 15.00        Median : 0.00                      \n",
       " Mean   : 22.27        Mean   : 0.61                      \n",
       " 3rd Qu.: 32.00        3rd Qu.: 0.00                      \n",
       " Max.   :141.00        Max.   :42.00                      \n",
       " NA's   :91852         NA's   :91852                      \n",
       " ProsperPaymentsOneMonthPlusLate ProsperPrincipalBorrowed\n",
       " Min.   : 0.00                   Min.   :    0           \n",
       " 1st Qu.: 0.00                   1st Qu.: 3500           \n",
       " Median : 0.00                   Median : 6000           \n",
       " Mean   : 0.05                   Mean   : 8472           \n",
       " 3rd Qu.: 0.00                   3rd Qu.:11000           \n",
       " Max.   :21.00                   Max.   :72499           \n",
       " NA's   :91852                   NA's   :91852           \n",
       " ProsperPrincipalOutstanding ScorexChangeAtTimeOfListing\n",
       " Min.   :    0               Min.   :-209.00            \n",
       " 1st Qu.:    0               1st Qu.: -35.00            \n",
       " Median : 1627               Median :  -3.00            \n",
       " Mean   : 2930               Mean   :  -3.22            \n",
       " 3rd Qu.: 4127               3rd Qu.:  25.00            \n",
       " Max.   :23451               Max.   : 286.00            \n",
       " NA's   :91852               NA's   :95009              \n",
       " LoanCurrentDaysDelinquent LoanFirstDefaultedCycleNumber\n",
       " Min.   :   0.0            Min.   : 0.00                \n",
       " 1st Qu.:   0.0            1st Qu.: 9.00                \n",
       " Median :   0.0            Median :14.00                \n",
       " Mean   : 152.8            Mean   :16.27                \n",
       " 3rd Qu.:   0.0            3rd Qu.:22.00                \n",
       " Max.   :2704.0            Max.   :44.00                \n",
       "                           NA's   :96985                \n",
       " LoanMonthsSinceOrigination   LoanNumber     LoanOriginalAmount\n",
       " Min.   :  0.0              Min.   :     1   Min.   : 1000     \n",
       " 1st Qu.:  6.0              1st Qu.: 37332   1st Qu.: 4000     \n",
       " Median : 21.0              Median : 68599   Median : 6500     \n",
       " Mean   : 31.9              Mean   : 69444   Mean   : 8337     \n",
       " 3rd Qu.: 65.0              3rd Qu.:101901   3rd Qu.:12000     \n",
       " Max.   :100.0              Max.   :136486   Max.   :35000     \n",
       "                                                               \n",
       "          LoanOriginationDate LoanOriginationQuarter\n",
       " 2014-01-22 00:00:00:   491   Q4 2013:14450         \n",
       " 2013-11-13 00:00:00:   490   Q1 2014:12172         \n",
       " 2014-02-19 00:00:00:   439   Q3 2013: 9180         \n",
       " 2013-10-16 00:00:00:   434   Q2 2013: 7099         \n",
       " 2014-01-28 00:00:00:   339   Q3 2012: 5632         \n",
       " 2013-09-24 00:00:00:   316   Q2 2012: 5061         \n",
       " (Other)            :111428   (Other):60343         \n",
       "                   MemberKey      MonthlyLoanPayment LP_CustomerPayments\n",
       " 63CA34120866140639431C9:     9   Min.   :   0.0     Min.   :   -2.35   \n",
       " 16083364744933457E57FB9:     8   1st Qu.: 131.6     1st Qu.: 1005.76   \n",
       " 3A2F3380477699707C81385:     8   Median : 217.7     Median : 2583.83   \n",
       " 4D9C3403302047712AD0CDD:     8   Mean   : 272.5     Mean   : 4183.08   \n",
       " 739C338135235294782AE75:     8   3rd Qu.: 371.6     3rd Qu.: 5548.40   \n",
       " 7E1733653050264822FAA3D:     8   Max.   :2251.5     Max.   :40702.39   \n",
       " (Other)                :113888                                         \n",
       " LP_CustomerPrincipalPayments LP_InterestandFees LP_ServiceFees   \n",
       " Min.   :    0.0              Min.   :   -2.35   Min.   :-664.87  \n",
       " 1st Qu.:  500.9              1st Qu.:  274.87   1st Qu.: -73.18  \n",
       " Median : 1587.5              Median :  700.84   Median : -34.44  \n",
       " Mean   : 3105.5              Mean   : 1077.54   Mean   : -54.73  \n",
       " 3rd Qu.: 4000.0              3rd Qu.: 1458.54   3rd Qu.: -13.92  \n",
       " Max.   :35000.0              Max.   :15617.03   Max.   :  32.06  \n",
       "                                                                  \n",
       " LP_CollectionFees  LP_GrossPrincipalLoss LP_NetPrincipalLoss\n",
       " Min.   :-9274.75   Min.   :  -94.2       Min.   : -954.5    \n",
       " 1st Qu.:    0.00   1st Qu.:    0.0       1st Qu.:    0.0    \n",
       " Median :    0.00   Median :    0.0       Median :    0.0    \n",
       " Mean   :  -14.24   Mean   :  700.4       Mean   :  681.4    \n",
       " 3rd Qu.:    0.00   3rd Qu.:    0.0       3rd Qu.:    0.0    \n",
       " Max.   :    0.00   Max.   :25000.0       Max.   :25000.0    \n",
       "                                                             \n",
       " LP_NonPrincipalRecoverypayments PercentFunded    Recommendations   \n",
       " Min.   :    0.00                Min.   :0.7000   Min.   : 0.00000  \n",
       " 1st Qu.:    0.00                1st Qu.:1.0000   1st Qu.: 0.00000  \n",
       " Median :    0.00                Median :1.0000   Median : 0.00000  \n",
       " Mean   :   25.14                Mean   :0.9986   Mean   : 0.04803  \n",
       " 3rd Qu.:    0.00                3rd Qu.:1.0000   3rd Qu.: 0.00000  \n",
       " Max.   :21117.90                Max.   :1.0125   Max.   :39.00000  \n",
       "                                                                    \n",
       " InvestmentFromFriendsCount InvestmentFromFriendsAmount   Investors      \n",
       " Min.   : 0.00000           Min.   :    0.00            Min.   :   1.00  \n",
       " 1st Qu.: 0.00000           1st Qu.:    0.00            1st Qu.:   2.00  \n",
       " Median : 0.00000           Median :    0.00            Median :  44.00  \n",
       " Mean   : 0.02346           Mean   :   16.55            Mean   :  80.48  \n",
       " 3rd Qu.: 0.00000           3rd Qu.:    0.00            3rd Qu.: 115.00  \n",
       " Max.   :33.00000           Max.   :25000.00            Max.   :1189.00  \n",
       "                                                                         "
      ]
     },
     "metadata": {},
     "output_type": "display_data"
    }
   ],
   "source": [
    "summary(loans)"
   ]
  },
  {
   "cell_type": "markdown",
   "metadata": {
    "deletable": true,
    "editable": true
   },
   "source": [
    "All sorts of information there at a glance. Get to see ranges, maximums and counts. But it is a lot to take in at once, so let's dive into the individual variables I singled out interesting."
   ]
  },
  {
   "cell_type": "markdown",
   "metadata": {},
   "source": [
    "## Listing Key"
   ]
  },
  {
   "cell_type": "code",
   "execution_count": 4,
   "metadata": {
    "collapsed": false,
    "deletable": true,
    "editable": true
   },
   "outputs": [
    {
     "data": {
      "text/html": [
       "113937"
      ],
      "text/latex": [
       "113937"
      ],
      "text/markdown": [
       "113937"
      ],
      "text/plain": [
       "[1] 113937"
      ]
     },
     "metadata": {},
     "output_type": "display_data"
    },
    {
     "data": {
      "text/html": [
       "113066"
      ],
      "text/latex": [
       "113066"
      ],
      "text/markdown": [
       "113066"
      ],
      "text/plain": [
       "[1] 113066"
      ]
     },
     "metadata": {},
     "output_type": "display_data"
    }
   ],
   "source": [
    "length(loans$ListingKey)\n",
    "length(unique(loans$ListingKey))"
   ]
  },
  {
   "cell_type": "markdown",
   "metadata": {},
   "source": [
    "Here I wanted to see if the listing keys, which are supposed to be unique identifiers really were unique. It seems like a lot of them arnt'."
   ]
  },
  {
   "cell_type": "code",
   "execution_count": 5,
   "metadata": {
    "collapsed": false,
    "deletable": true,
    "editable": true
   },
   "outputs": [
    {
     "data": {
      "text/html": [
       "<table>\n",
       "<thead><tr><th scope=col>listing_key_appears</th><th scope=col>count</th></tr></thead>\n",
       "<tbody>\n",
       "\t<tr><td>1     </td><td>112239</td></tr>\n",
       "\t<tr><td>2     </td><td>   790</td></tr>\n",
       "\t<tr><td>3     </td><td>    32</td></tr>\n",
       "\t<tr><td>4     </td><td>     4</td></tr>\n",
       "\t<tr><td>6     </td><td>     1</td></tr>\n",
       "</tbody>\n",
       "</table>\n"
      ],
      "text/latex": [
       "\\begin{tabular}{r|ll}\n",
       " listing\\_key\\_appears & count\\\\\n",
       "\\hline\n",
       "\t 1      & 112239\\\\\n",
       "\t 2      &    790\\\\\n",
       "\t 3      &     32\\\\\n",
       "\t 4      &      4\\\\\n",
       "\t 6      &      1\\\\\n",
       "\\end{tabular}\n"
      ],
      "text/markdown": [
       "\n",
       "listing_key_appears | count | \n",
       "|---|---|---|---|---|\n",
       "| 1      | 112239 | \n",
       "| 2      |    790 | \n",
       "| 3      |     32 | \n",
       "| 4      |      4 | \n",
       "| 6      |      1 | \n",
       "\n",
       "\n"
      ],
      "text/plain": [
       "  listing_key_appears count \n",
       "1 1                   112239\n",
       "2 2                      790\n",
       "3 3                       32\n",
       "4 4                        4\n",
       "5 6                        1"
      ]
     },
     "metadata": {},
     "output_type": "display_data"
    }
   ],
   "source": [
    "loans %>%\n",
    "select(ListingKey) %>%\n",
    "group_by(ListingKey) %>%\n",
    "summarise(listing_key_appears = n()) %>%\n",
    "group_by(listing_key_appears) %>%\n",
    "summarise(count = n())"
   ]
  },
  {
   "cell_type": "markdown",
   "metadata": {
    "deletable": true,
    "editable": true
   },
   "source": [
    "So we can see that many of the keys appear multiple times, with one loan appearing a whopping six times. Let's see that loan."
   ]
  },
  {
   "cell_type": "code",
   "execution_count": 9,
   "metadata": {
    "collapsed": false,
    "deletable": true,
    "editable": true
   },
   "outputs": [
    {
     "data": {
      "text/html": [
       "<table>\n",
       "<thead><tr><th scope=col>ListingKey</th><th scope=col>ListingNumber</th><th scope=col>ListingCreationDate</th><th scope=col>CreditGrade</th><th scope=col>Term</th><th scope=col>LoanStatus</th><th scope=col>ClosedDate</th><th scope=col>BorrowerAPR</th><th scope=col>BorrowerRate</th><th scope=col>LenderYield</th><th scope=col>...</th><th scope=col>LP_ServiceFees</th><th scope=col>LP_CollectionFees</th><th scope=col>LP_GrossPrincipalLoss</th><th scope=col>LP_NetPrincipalLoss</th><th scope=col>LP_NonPrincipalRecoverypayments</th><th scope=col>PercentFunded</th><th scope=col>Recommendations</th><th scope=col>InvestmentFromFriendsCount</th><th scope=col>InvestmentFromFriendsAmount</th><th scope=col>Investors</th></tr></thead>\n",
       "<tbody>\n",
       "\t<tr><td>17A93590655669644DB4C06      </td><td>951186                       </td><td>2013-10-02 17:20:16.550000000</td><td>                             </td><td>60                           </td><td>Current                      </td><td>                             </td><td>0.16662                      </td><td>0.1435                       </td><td>0.1335                       </td><td>...                          </td><td>-8.49                        </td><td>0                            </td><td>0                            </td><td>0                            </td><td>0                            </td><td>1                            </td><td>0                            </td><td>0                            </td><td>0                            </td><td>96                           </td></tr>\n",
       "\t<tr><td>17A93590655669644DB4C06      </td><td>951186                       </td><td>2013-10-02 17:20:16.550000000</td><td>                             </td><td>60                           </td><td>Current                      </td><td>                             </td><td>0.16662                      </td><td>0.1435                       </td><td>0.1335                       </td><td>...                          </td><td>-8.49                        </td><td>0                            </td><td>0                            </td><td>0                            </td><td>0                            </td><td>1                            </td><td>0                            </td><td>0                            </td><td>0                            </td><td>96                           </td></tr>\n",
       "\t<tr><td>17A93590655669644DB4C06      </td><td>951186                       </td><td>2013-10-02 17:20:16.550000000</td><td>                             </td><td>60                           </td><td>Current                      </td><td>                             </td><td>0.16662                      </td><td>0.1435                       </td><td>0.1335                       </td><td>...                          </td><td>-8.49                        </td><td>0                            </td><td>0                            </td><td>0                            </td><td>0                            </td><td>1                            </td><td>0                            </td><td>0                            </td><td>0                            </td><td>96                           </td></tr>\n",
       "\t<tr><td>17A93590655669644DB4C06      </td><td>951186                       </td><td>2013-10-02 17:20:16.550000000</td><td>                             </td><td>60                           </td><td>Current                      </td><td>                             </td><td>0.16662                      </td><td>0.1435                       </td><td>0.1335                       </td><td>...                          </td><td>-8.49                        </td><td>0                            </td><td>0                            </td><td>0                            </td><td>0                            </td><td>1                            </td><td>0                            </td><td>0                            </td><td>0                            </td><td>96                           </td></tr>\n",
       "\t<tr><td>17A93590655669644DB4C06      </td><td>951186                       </td><td>2013-10-02 17:20:16.550000000</td><td>                             </td><td>60                           </td><td>Current                      </td><td>                             </td><td>0.16662                      </td><td>0.1435                       </td><td>0.1335                       </td><td>...                          </td><td>-8.49                        </td><td>0                            </td><td>0                            </td><td>0                            </td><td>0                            </td><td>1                            </td><td>0                            </td><td>0                            </td><td>0                            </td><td>96                           </td></tr>\n",
       "\t<tr><td>17A93590655669644DB4C06      </td><td>951186                       </td><td>2013-10-02 17:20:16.550000000</td><td>                             </td><td>60                           </td><td>Current                      </td><td>                             </td><td>0.16662                      </td><td>0.1435                       </td><td>0.1335                       </td><td>...                          </td><td>-8.49                        </td><td>0                            </td><td>0                            </td><td>0                            </td><td>0                            </td><td>1                            </td><td>0                            </td><td>0                            </td><td>0                            </td><td>96                           </td></tr>\n",
       "</tbody>\n",
       "</table>\n"
      ],
      "text/latex": [
       "\\begin{tabular}{r|lllllllllllllllllllllllllllllllllllllllllllllllllllllllllllllllllllllllllllllllll}\n",
       " ListingKey & ListingNumber & ListingCreationDate & CreditGrade & Term & LoanStatus & ClosedDate & BorrowerAPR & BorrowerRate & LenderYield & ... & LP\\_ServiceFees & LP\\_CollectionFees & LP\\_GrossPrincipalLoss & LP\\_NetPrincipalLoss & LP\\_NonPrincipalRecoverypayments & PercentFunded & Recommendations & InvestmentFromFriendsCount & InvestmentFromFriendsAmount & Investors\\\\\n",
       "\\hline\n",
       "\t 17A93590655669644DB4C06       & 951186                        & 2013-10-02 17:20:16.550000000 &                               & 60                            & Current                       &                               & 0.16662                       & 0.1435                        & 0.1335                        & ...                           & -8.49                         & 0                             & 0                             & 0                             & 0                             & 1                             & 0                             & 0                             & 0                             & 96                           \\\\\n",
       "\t 17A93590655669644DB4C06       & 951186                        & 2013-10-02 17:20:16.550000000 &                               & 60                            & Current                       &                               & 0.16662                       & 0.1435                        & 0.1335                        & ...                           & -8.49                         & 0                             & 0                             & 0                             & 0                             & 1                             & 0                             & 0                             & 0                             & 96                           \\\\\n",
       "\t 17A93590655669644DB4C06       & 951186                        & 2013-10-02 17:20:16.550000000 &                               & 60                            & Current                       &                               & 0.16662                       & 0.1435                        & 0.1335                        & ...                           & -8.49                         & 0                             & 0                             & 0                             & 0                             & 1                             & 0                             & 0                             & 0                             & 96                           \\\\\n",
       "\t 17A93590655669644DB4C06       & 951186                        & 2013-10-02 17:20:16.550000000 &                               & 60                            & Current                       &                               & 0.16662                       & 0.1435                        & 0.1335                        & ...                           & -8.49                         & 0                             & 0                             & 0                             & 0                             & 1                             & 0                             & 0                             & 0                             & 96                           \\\\\n",
       "\t 17A93590655669644DB4C06       & 951186                        & 2013-10-02 17:20:16.550000000 &                               & 60                            & Current                       &                               & 0.16662                       & 0.1435                        & 0.1335                        & ...                           & -8.49                         & 0                             & 0                             & 0                             & 0                             & 1                             & 0                             & 0                             & 0                             & 96                           \\\\\n",
       "\t 17A93590655669644DB4C06       & 951186                        & 2013-10-02 17:20:16.550000000 &                               & 60                            & Current                       &                               & 0.16662                       & 0.1435                        & 0.1335                        & ...                           & -8.49                         & 0                             & 0                             & 0                             & 0                             & 1                             & 0                             & 0                             & 0                             & 96                           \\\\\n",
       "\\end{tabular}\n"
      ],
      "text/markdown": [
       "\n",
       "ListingKey | ListingNumber | ListingCreationDate | CreditGrade | Term | LoanStatus | ClosedDate | BorrowerAPR | BorrowerRate | LenderYield | ... | LP_ServiceFees | LP_CollectionFees | LP_GrossPrincipalLoss | LP_NetPrincipalLoss | LP_NonPrincipalRecoverypayments | PercentFunded | Recommendations | InvestmentFromFriendsCount | InvestmentFromFriendsAmount | Investors | \n",
       "|---|---|---|---|---|---|\n",
       "| 17A93590655669644DB4C06       | 951186                        | 2013-10-02 17:20:16.550000000 |                               | 60                            | Current                       |                               | 0.16662                       | 0.1435                        | 0.1335                        | ...                           | -8.49                         | 0                             | 0                             | 0                             | 0                             | 1                             | 0                             | 0                             | 0                             | 96                            | \n",
       "| 17A93590655669644DB4C06       | 951186                        | 2013-10-02 17:20:16.550000000 |                               | 60                            | Current                       |                               | 0.16662                       | 0.1435                        | 0.1335                        | ...                           | -8.49                         | 0                             | 0                             | 0                             | 0                             | 1                             | 0                             | 0                             | 0                             | 96                            | \n",
       "| 17A93590655669644DB4C06       | 951186                        | 2013-10-02 17:20:16.550000000 |                               | 60                            | Current                       |                               | 0.16662                       | 0.1435                        | 0.1335                        | ...                           | -8.49                         | 0                             | 0                             | 0                             | 0                             | 1                             | 0                             | 0                             | 0                             | 96                            | \n",
       "| 17A93590655669644DB4C06       | 951186                        | 2013-10-02 17:20:16.550000000 |                               | 60                            | Current                       |                               | 0.16662                       | 0.1435                        | 0.1335                        | ...                           | -8.49                         | 0                             | 0                             | 0                             | 0                             | 1                             | 0                             | 0                             | 0                             | 96                            | \n",
       "| 17A93590655669644DB4C06       | 951186                        | 2013-10-02 17:20:16.550000000 |                               | 60                            | Current                       |                               | 0.16662                       | 0.1435                        | 0.1335                        | ...                           | -8.49                         | 0                             | 0                             | 0                             | 0                             | 1                             | 0                             | 0                             | 0                             | 96                            | \n",
       "| 17A93590655669644DB4C06       | 951186                        | 2013-10-02 17:20:16.550000000 |                               | 60                            | Current                       |                               | 0.16662                       | 0.1435                        | 0.1335                        | ...                           | -8.49                         | 0                             | 0                             | 0                             | 0                             | 1                             | 0                             | 0                             | 0                             | 96                            | \n",
       "\n",
       "\n"
      ],
      "text/plain": [
       "  ListingKey              ListingNumber ListingCreationDate          \n",
       "1 17A93590655669644DB4C06 951186        2013-10-02 17:20:16.550000000\n",
       "2 17A93590655669644DB4C06 951186        2013-10-02 17:20:16.550000000\n",
       "3 17A93590655669644DB4C06 951186        2013-10-02 17:20:16.550000000\n",
       "4 17A93590655669644DB4C06 951186        2013-10-02 17:20:16.550000000\n",
       "5 17A93590655669644DB4C06 951186        2013-10-02 17:20:16.550000000\n",
       "6 17A93590655669644DB4C06 951186        2013-10-02 17:20:16.550000000\n",
       "  CreditGrade Term LoanStatus ClosedDate BorrowerAPR BorrowerRate LenderYield\n",
       "1             60   Current               0.16662     0.1435       0.1335     \n",
       "2             60   Current               0.16662     0.1435       0.1335     \n",
       "3             60   Current               0.16662     0.1435       0.1335     \n",
       "4             60   Current               0.16662     0.1435       0.1335     \n",
       "5             60   Current               0.16662     0.1435       0.1335     \n",
       "6             60   Current               0.16662     0.1435       0.1335     \n",
       "  ... LP_ServiceFees LP_CollectionFees LP_GrossPrincipalLoss\n",
       "1 ... -8.49          0                 0                    \n",
       "2 ... -8.49          0                 0                    \n",
       "3 ... -8.49          0                 0                    \n",
       "4 ... -8.49          0                 0                    \n",
       "5 ... -8.49          0                 0                    \n",
       "6 ... -8.49          0                 0                    \n",
       "  LP_NetPrincipalLoss LP_NonPrincipalRecoverypayments PercentFunded\n",
       "1 0                   0                               1            \n",
       "2 0                   0                               1            \n",
       "3 0                   0                               1            \n",
       "4 0                   0                               1            \n",
       "5 0                   0                               1            \n",
       "6 0                   0                               1            \n",
       "  Recommendations InvestmentFromFriendsCount InvestmentFromFriendsAmount\n",
       "1 0               0                          0                          \n",
       "2 0               0                          0                          \n",
       "3 0               0                          0                          \n",
       "4 0               0                          0                          \n",
       "5 0               0                          0                          \n",
       "6 0               0                          0                          \n",
       "  Investors\n",
       "1 96       \n",
       "2 96       \n",
       "3 96       \n",
       "4 96       \n",
       "5 96       \n",
       "6 96       "
      ]
     },
     "metadata": {},
     "output_type": "display_data"
    }
   ],
   "source": [
    "loans %>%\n",
    "filter(ListingKey == '17A93590655669644DB4C06')"
   ]
  },
  {
   "cell_type": "markdown",
   "metadata": {
    "deletable": true,
    "editable": true
   },
   "source": [
    "It seems this loan is just repeated in the dataset 6 times. Let's make sure I'm not missing anything that's even slightly different."
   ]
  },
  {
   "cell_type": "code",
   "execution_count": 6,
   "metadata": {
    "collapsed": false,
    "deletable": true,
    "editable": true
   },
   "outputs": [
    {
     "data": {
      "text/html": [
       "'ProsperScore'"
      ],
      "text/latex": [
       "'ProsperScore'"
      ],
      "text/markdown": [
       "'ProsperScore'"
      ],
      "text/plain": [
       "[1] \"ProsperScore\""
      ]
     },
     "metadata": {},
     "output_type": "display_data"
    }
   ],
   "source": [
    "multiple_values <- loans %>%\n",
    "filter(ListingKey == '17A93590655669644DB4C06') %>%\n",
    "apply(2, unique) %>%\n",
    "lengths\n",
    "\n",
    "#This gets the column name where there are multiple values in a grouped column.\n",
    "names(multiple_values[multiple_values > 1])"
   ]
  },
  {
   "cell_type": "markdown",
   "metadata": {
    "deletable": true,
    "editable": true
   },
   "source": [
    "There it is, this loan somehow as 6 different ProsperScores. Let's see if this holds true for the other duplicate loans."
   ]
  },
  {
   "cell_type": "code",
   "execution_count": 4,
   "metadata": {
    "collapsed": false
   },
   "outputs": [],
   "source": [
    "#Create vector of the duplicate keys.\n",
    "duplicate_keys <- loans %>% \n",
    "group_by(ListingKey) %>%\n",
    "summarise(count = n()) %>%\n",
    "filter(count > 1) %>%\n",
    "select(ListingKey)"
   ]
  },
  {
   "cell_type": "code",
   "execution_count": 5,
   "metadata": {
    "collapsed": false
   },
   "outputs": [],
   "source": [
    "duplicate_loans <- loans %>% filter(ListingKey %in% duplicate_keys[[1]])\n",
    "#Count distinct values in each column by key. \n",
    "value_count <- aggregate(duplicate_loans, list(duplicate_loans$ListingKey), n_distinct)\n",
    "#Note: loans could repeat same value, but that is fine to me."
   ]
  },
  {
   "cell_type": "code",
   "execution_count": 6,
   "metadata": {
    "collapsed": false
   },
   "outputs": [
    {
     "data": {
      "text/html": [
       "<table>\n",
       "<thead><tr><th scope=col>ind</th></tr></thead>\n",
       "<tbody>\n",
       "\t<tr><td>ProsperScore</td></tr>\n",
       "</tbody>\n",
       "</table>\n"
      ],
      "text/latex": [
       "\\begin{tabular}{r|l}\n",
       " ind\\\\\n",
       "\\hline\n",
       "\t ProsperScore\\\\\n",
       "\\end{tabular}\n"
      ],
      "text/markdown": [
       "\n",
       "ind | \n",
       "|---|\n",
       "| ProsperScore | \n",
       "\n",
       "\n"
      ],
      "text/plain": [
       "  ind         \n",
       "1 ProsperScore"
      ]
     },
     "metadata": {},
     "output_type": "display_data"
    }
   ],
   "source": [
    "value_count_long <- stack(value_count, select=names(value_count[-1]))\n",
    "value_count_long %>% filter(values > 2) %>% select(ind) %>% unique"
   ]
  },
  {
   "cell_type": "code",
   "execution_count": 10,
   "metadata": {
    "collapsed": false
   },
   "outputs": [
    {
     "name": "stderr",
     "output_type": "stream",
     "text": [
      "Selecting by Investors\n"
     ]
    },
    {
     "data": {},
     "metadata": {},
     "output_type": "display_data"
    },
    {
     "data": {
      "image/png": "[encoded data removed]",
      "text/plain": [
       "plot without title"
      ]
     },
     "metadata": {},
     "output_type": "display_data"
    }
   ],
   "source": [
    "duplicate_loans %>%\n",
    "arrange(ListingKey) %>% top_n(20) %>%\n",
    "ggplot(aes(ListingKey, ProsperScore, group=ListingKey)) + geom_point()"
   ]
  },
  {
   "cell_type": "markdown",
   "metadata": {},
   "source": [
    "Taking a look at just a few loans we can see that the spread isn't always the same between ProsperScores with the same listing ID. Because there doesn't seem to be a pattern here I elected to eliminate all duplicate rows from my dataset "
   ]
  },
  {
   "cell_type": "code",
   "execution_count": 7,
   "metadata": {
    "collapsed": true
   },
   "outputs": [],
   "source": [
    "#Eliminate duplicate rows.\n",
    "#Necessary Clean\n",
    "loans <- loans %>% filter(!ListingKey %in% duplicate_keys[[1]])"
   ]
  },
  {
   "cell_type": "code",
   "execution_count": 13,
   "metadata": {
    "collapsed": false
   },
   "outputs": [
    {
     "data": {
      "text/html": [
       "112239"
      ],
      "text/latex": [
       "112239"
      ],
      "text/markdown": [
       "112239"
      ],
      "text/plain": [
       "[1] 112239"
      ]
     },
     "metadata": {},
     "output_type": "display_data"
    },
    {
     "data": {
      "text/html": [
       "112239"
      ],
      "text/latex": [
       "112239"
      ],
      "text/markdown": [
       "112239"
      ],
      "text/plain": [
       "[1] 112239"
      ]
     },
     "metadata": {},
     "output_type": "display_data"
    }
   ],
   "source": [
    "length(loans$ListingKey)\n",
    "length(unique(loans$ListingKey))"
   ]
  },
  {
   "cell_type": "markdown",
   "metadata": {},
   "source": [
    "Now we're cooking with gas."
   ]
  },
  {
   "cell_type": "markdown",
   "metadata": {},
   "source": [
    "## Term"
   ]
  },
  {
   "cell_type": "code",
   "execution_count": 20,
   "metadata": {
    "collapsed": false,
    "deletable": true,
    "editable": true
   },
   "outputs": [
    {
     "data": {
      "text/html": [
       "<ol class=list-inline>\n",
       "\t<li>36</li>\n",
       "\t<li>36</li>\n",
       "\t<li>36</li>\n",
       "\t<li>36</li>\n",
       "\t<li>36</li>\n",
       "\t<li>60</li>\n",
       "</ol>\n"
      ],
      "text/latex": [
       "\\begin{enumerate*}\n",
       "\\item 36\n",
       "\\item 36\n",
       "\\item 36\n",
       "\\item 36\n",
       "\\item 36\n",
       "\\item 60\n",
       "\\end{enumerate*}\n"
      ],
      "text/markdown": [
       "1. 36\n",
       "2. 36\n",
       "3. 36\n",
       "4. 36\n",
       "5. 36\n",
       "6. 60\n",
       "\n",
       "\n"
      ],
      "text/plain": [
       "[1] 36 36 36 36 36 60"
      ]
     },
     "metadata": {},
     "output_type": "display_data"
    }
   ],
   "source": [
    "head(loans$Term)"
   ]
  },
  {
   "cell_type": "code",
   "execution_count": 21,
   "metadata": {
    "collapsed": false,
    "deletable": true,
    "editable": true
   },
   "outputs": [
    {
     "data": {
      "text/plain": [
       "   Min. 1st Qu.  Median    Mean 3rd Qu.    Max. \n",
       "  12.00   36.00   36.00   40.77   36.00   60.00 "
      ]
     },
     "metadata": {},
     "output_type": "display_data"
    }
   ],
   "source": [
    "summary(loans$Term)"
   ]
  },
  {
   "cell_type": "markdown",
   "metadata": {
    "deletable": true,
    "editable": true
   },
   "source": [
    "Seems like the minimum loan term is a year, but the mean is 40.83 months, a little over 3 years."
   ]
  },
  {
   "cell_type": "code",
   "execution_count": 23,
   "metadata": {
    "collapsed": false,
    "deletable": true,
    "editable": true
   },
   "outputs": [
    {
     "data": {},
     "metadata": {},
     "output_type": "display_data"
    },
    {
     "data": {
      "image/png": "[encoded data removed]",
      "text/plain": [
       "plot without title"
      ]
     },
     "metadata": {},
     "output_type": "display_data"
    }
   ],
   "source": [
    "# Plot Term frequency in years.\n",
    "ggplot(loans, aes(Term/12)) + geom_bar() + xlab(\"Term In Years\")"
   ]
  },
  {
   "cell_type": "markdown",
   "metadata": {
    "deletable": true,
    "editable": true
   },
   "source": [
    "Here we can see that term is discrete, and that 3 year loans far outpace 5 year loans, with 1 year loans coming in a distant third."
   ]
  },
  {
   "cell_type": "code",
   "execution_count": 24,
   "metadata": {
    "collapsed": false,
    "deletable": true,
    "editable": true
   },
   "outputs": [
    {
     "data": {
      "text/html": [
       "<table>\n",
       "<thead><tr><th scope=col>Term</th><th scope=col>count_per_term</th><th scope=col>percentage</th></tr></thead>\n",
       "<tbody>\n",
       "\t<tr><td>12       </td><td> 1614    </td><td> 1.438003</td></tr>\n",
       "\t<tr><td>36       </td><td>86694    </td><td>77.240531</td></tr>\n",
       "\t<tr><td>60       </td><td>23931    </td><td>21.321466</td></tr>\n",
       "</tbody>\n",
       "</table>\n"
      ],
      "text/latex": [
       "\\begin{tabular}{r|lll}\n",
       " Term & count\\_per\\_term & percentage\\\\\n",
       "\\hline\n",
       "\t 12        &  1614     &  1.438003\\\\\n",
       "\t 36        & 86694     & 77.240531\\\\\n",
       "\t 60        & 23931     & 21.321466\\\\\n",
       "\\end{tabular}\n"
      ],
      "text/markdown": [
       "\n",
       "Term | count_per_term | percentage | \n",
       "|---|---|---|\n",
       "| 12        |  1614     |  1.438003 | \n",
       "| 36        | 86694     | 77.240531 | \n",
       "| 60        | 23931     | 21.321466 | \n",
       "\n",
       "\n"
      ],
      "text/plain": [
       "  Term count_per_term percentage\n",
       "1 12    1614           1.438003 \n",
       "2 36   86694          77.240531 \n",
       "3 60   23931          21.321466 "
      ]
     },
     "metadata": {},
     "output_type": "display_data"
    }
   ],
   "source": [
    "loans %>%\n",
    "    group_by(Term) %>%\n",
    "    summarise(count_per_term = n()) %>%\n",
    "    mutate(percentage = count_per_term / sum(count_per_term) * 100)"
   ]
  },
  {
   "cell_type": "markdown",
   "metadata": {
    "deletable": true,
    "editable": true
   },
   "source": [
    "Here is the same information in a table with percentages."
   ]
  },
  {
   "cell_type": "markdown",
   "metadata": {
    "deletable": true,
    "editable": true
   },
   "source": [
    "## Loan Status "
   ]
  },
  {
   "cell_type": "code",
   "execution_count": 28,
   "metadata": {
    "collapsed": false,
    "deletable": true,
    "editable": true,
    "scrolled": true
   },
   "outputs": [
    {
     "data": {
      "text/html": [
       "<dl class=dl-horizontal>\n",
       "\t<dt>Cancelled</dt>\n",
       "\t\t<dd>5</dd>\n",
       "\t<dt>Chargedoff</dt>\n",
       "\t\t<dd>11992</dd>\n",
       "\t<dt>Completed</dt>\n",
       "\t\t<dd>38048</dd>\n",
       "\t<dt>Current</dt>\n",
       "\t\t<dd>54928</dd>\n",
       "\t<dt>Defaulted</dt>\n",
       "\t\t<dd>5018</dd>\n",
       "\t<dt>FinalPaymentInProgress</dt>\n",
       "\t\t<dd>201</dd>\n",
       "\t<dt>Past Due (&gt;120 days)</dt>\n",
       "\t\t<dd>16</dd>\n",
       "\t<dt>Past Due (1-15 days)</dt>\n",
       "\t\t<dd>794</dd>\n",
       "\t<dt>Past Due (16-30 days)</dt>\n",
       "\t\t<dd>265</dd>\n",
       "\t<dt>Past Due (31-60 days)</dt>\n",
       "\t\t<dd>359</dd>\n",
       "\t<dt>Past Due (61-90 days)</dt>\n",
       "\t\t<dd>309</dd>\n",
       "\t<dt>Past Due (91-120 days)</dt>\n",
       "\t\t<dd>304</dd>\n",
       "</dl>\n"
      ],
      "text/latex": [
       "\\begin{description*}\n",
       "\\item[Cancelled] 5\n",
       "\\item[Chargedoff] 11992\n",
       "\\item[Completed] 38048\n",
       "\\item[Current] 54928\n",
       "\\item[Defaulted] 5018\n",
       "\\item[FinalPaymentInProgress] 201\n",
       "\\item[Past Due (>120 days)] 16\n",
       "\\item[Past Due (1-15 days)] 794\n",
       "\\item[Past Due (16-30 days)] 265\n",
       "\\item[Past Due (31-60 days)] 359\n",
       "\\item[Past Due (61-90 days)] 309\n",
       "\\item[Past Due (91-120 days)] 304\n",
       "\\end{description*}\n"
      ],
      "text/markdown": [
       "Cancelled\n",
       ":   5Chargedoff\n",
       ":   11992Completed\n",
       ":   38048Current\n",
       ":   54928Defaulted\n",
       ":   5018FinalPaymentInProgress\n",
       ":   201Past Due (&amp;gt;120 days)\n",
       ":   16Past Due (1-15 days)\n",
       ":   794Past Due (16-30 days)\n",
       ":   265Past Due (31-60 days)\n",
       ":   359Past Due (61-90 days)\n",
       ":   309Past Due (91-120 days)\n",
       ":   304\n",
       "\n"
      ],
      "text/plain": [
       "             Cancelled             Chargedoff              Completed \n",
       "                     5                  11992                  38048 \n",
       "               Current              Defaulted FinalPaymentInProgress \n",
       "                 54928                   5018                    201 \n",
       "  Past Due (>120 days)   Past Due (1-15 days)  Past Due (16-30 days) \n",
       "                    16                    794                    265 \n",
       " Past Due (31-60 days)  Past Due (61-90 days) Past Due (91-120 days) \n",
       "                   359                    309                    304 "
      ]
     },
     "metadata": {},
     "output_type": "display_data"
    }
   ],
   "source": [
    "summary(loans$LoanStatus)"
   ]
  },
  {
   "cell_type": "code",
   "execution_count": 29,
   "metadata": {
    "collapsed": false,
    "deletable": true,
    "editable": true
   },
   "outputs": [],
   "source": [
    "#clean\n",
    "loans$LoanStatus <- factor(loans$LoanStatus, levels = c('Cancelled',\n",
    "                                                          'Defaulted',\n",
    "                                                          'Chargedoff',\n",
    "                                                          'Completed',\n",
    "                                                          'Current',\n",
    "                                                          'FinalPaymentInProgress',\n",
    "                                                          'Past Due (1-15 days)',\n",
    "                                                          'Past Due (16-30 days)',\n",
    "                                                          'Past Due (31-60 days)',\n",
    "                                                          'Past Due (61-90 days)',\n",
    "                                                          'Past Due (91-120 days)',\n",
    "                                                          'Past Due (>120 days)'\n",
    "                                                         ))"
   ]
  },
  {
   "cell_type": "markdown",
   "metadata": {},
   "source": [
    "Don't like that Past Due > 120 is out of order with the other past dues, so I changed the order of the levels. "
   ]
  },
  {
   "cell_type": "markdown",
   "metadata": {
    "deletable": true,
    "editable": true
   },
   "source": [
    "A quick note on definitions:  \n",
    "Chargedoff - \n",
    "Via Investopedia.com \"A charge-off or chargeoff is the declaration by a creditor (usually a credit card account) that an amount of debt is unlikely to be collected. This occurs when a consumer becomes severely delinquent on a debt. Traditionally, creditors will make this declaration at the point of six months without payment.\"  \n",
    "  \n",
    "Default  \n",
    "\"Default is the failure to pay interest or principal on a loan or security when due. Default occurs when a debtor is unable to meet the legal obligation of debt repayment ... When an individual, a business or even a nation defaults on a debt obligation, the lender or investor has some recourse to reclaim the funds, but it varies based on the type of security involved.\n",
    "\n"
   ]
  },
  {
   "cell_type": "code",
   "execution_count": 30,
   "metadata": {
    "collapsed": false,
    "deletable": true,
    "editable": true,
    "scrolled": false
   },
   "outputs": [
    {
     "data": {},
     "metadata": {},
     "output_type": "display_data"
    },
    {
     "data": {
      "image/png": "[encoded data removed]",
      "text/plain": [
       "plot without title"
      ]
     },
     "metadata": {},
     "output_type": "display_data"
    }
   ],
   "source": [
    "ggplot(loans, aes(LoanStatus)) + geom_bar() + theme(axis.text.x = element_text(angle = 45, hjust = 1))"
   ]
  },
  {
   "cell_type": "markdown",
   "metadata": {
    "deletable": true,
    "editable": true
   },
   "source": [
    "Happily, the majority of the loans are either current or completed. If we were creating a model for this data it would likely be to predict if a new loan was going to become charged-of, defaulted, or past due. Cancelled, as we can see from our table, has just 5 loans. At this point I also reorder the factors so that the Past Due levels are in the correct order."
   ]
  },
  {
   "cell_type": "code",
   "execution_count": 31,
   "metadata": {
    "collapsed": false,
    "deletable": true,
    "editable": true,
    "scrolled": false
   },
   "outputs": [
    {
     "data": {},
     "metadata": {},
     "output_type": "display_data"
    },
    {
     "data": {
      "image/png": "[encoded data removed]",
      "text/plain": [
       "plot without title"
      ]
     },
     "metadata": {},
     "output_type": "display_data"
    }
   ],
   "source": [
    "#Plot the distribution of Past Due Loans\n",
    "on_time_loans <- c('Cancelled', 'Completed', 'Chargedoff', 'Current','Defaulted','FinalPaymentInProgress')\n",
    "\n",
    "past_due_loans <- loans %>%\n",
    "filter(!LoanStatus %in% on_time_loans)\n",
    "ggplot(past_due_loans, aes(LoanStatus)) + geom_bar() + theme(axis.text.x = element_text(angle = 45, hjust = 1))\n",
    "\n",
    "#adjusting x label source : http://tallman-world.tumblr.com/post/89964965867/rhow-to-rotate-axis-labels-in-ggplot2"
   ]
  },
  {
   "cell_type": "markdown",
   "metadata": {
    "deletable": true,
    "editable": true
   },
   "source": [
    "Here we look at the distribution of Past Due loans.  \n",
    "It seems that most loans that are past due are only 1-15 days past Due. This suggests that many of these loans are will become current again. I'm not sure if loans default or need to go through the whole 120 days. It is also worth noting that some of the bins here are larger than others, making the graph slightly misleading. (First two are 13 days, next three are 30.) "
   ]
  },
  {
   "cell_type": "code",
   "execution_count": 32,
   "metadata": {
    "collapsed": false,
    "deletable": true,
    "editable": true
   },
   "outputs": [
    {
     "data": {
      "text/html": [
       "<table>\n",
       "<thead><tr><th scope=col>ListingKey</th><th scope=col>ListingNumber</th><th scope=col>ListingCreationDate</th><th scope=col>CreditGrade</th><th scope=col>Term</th><th scope=col>LoanStatus</th><th scope=col>ClosedDate</th><th scope=col>BorrowerAPR</th><th scope=col>BorrowerRate</th><th scope=col>LenderYield</th><th scope=col>...</th><th scope=col>LP_ServiceFees</th><th scope=col>LP_CollectionFees</th><th scope=col>LP_GrossPrincipalLoss</th><th scope=col>LP_NetPrincipalLoss</th><th scope=col>LP_NonPrincipalRecoverypayments</th><th scope=col>PercentFunded</th><th scope=col>Recommendations</th><th scope=col>InvestmentFromFriendsCount</th><th scope=col>InvestmentFromFriendsAmount</th><th scope=col>Investors</th></tr></thead>\n",
       "<tbody>\n",
       "\t<tr><td>093D3365430569291709120      </td><td>  8912                       </td><td>2006-04-26 22:23:10.147000000</td><td>HR                           </td><td>36                           </td><td>Cancelled                    </td><td>2006-05-31 00:00:00          </td><td>0.25650                      </td><td>0.2375                       </td><td>0.2325                       </td><td>...                          </td><td>0                            </td><td>0                            </td><td>0                            </td><td>0                            </td><td>0                            </td><td>1                            </td><td>0                            </td><td>0                            </td><td>0                            </td><td> 6                           </td></tr>\n",
       "\t<tr><td>F77F33664545520971829DC      </td><td>  7646                       </td><td>2006-04-25 07:59:15.203000000</td><td>C                            </td><td>36                           </td><td>Cancelled                    </td><td>2006-05-31 00:00:00          </td><td>0.14659                      </td><td>0.1395                       </td><td>0.1345                       </td><td>...                          </td><td>0                            </td><td>0                            </td><td>0                            </td><td>0                            </td><td>0                            </td><td>1                            </td><td>0                            </td><td>0                            </td><td>0                            </td><td>62                           </td></tr>\n",
       "\t<tr><td>09E1336627538645259AE42      </td><td>   908                       </td><td>2006-02-28 08:18:58.527000000</td><td>HR                           </td><td>36                           </td><td>Cancelled                    </td><td>2006-03-29 00:00:00          </td><td>0.20735                      </td><td>0.2000                       </td><td>0.1950                       </td><td>...                          </td><td>0                            </td><td>0                            </td><td>0                            </td><td>0                            </td><td>0                            </td><td>1                            </td><td>0                            </td><td>0                            </td><td>0                            </td><td>23                           </td></tr>\n",
       "\t<tr><td>29453366240667435235AEE      </td><td> 11364                       </td><td>2006-05-05 03:16:59.510000000</td><td>HR                           </td><td>36                           </td><td>Cancelled                    </td><td>2006-05-31 00:00:00          </td><td>0.25650                      </td><td>0.2375                       </td><td>0.2325                       </td><td>...                          </td><td>0                            </td><td>0                            </td><td>0                            </td><td>0                            </td><td>0                            </td><td>1                            </td><td>0                            </td><td>0                            </td><td>0                            </td><td> 7                           </td></tr>\n",
       "\t<tr><td>E77E34330098056070F5C30      </td><td>410006                       </td><td>2008-10-07 17:09:34.653000000</td><td>A                            </td><td>36                           </td><td>Cancelled                    </td><td>2008-10-16 00:00:00          </td><td>0.16219                      </td><td>0.1075                       </td><td>0.0975                       </td><td>...                          </td><td>0                            </td><td>0                            </td><td>0                            </td><td>0                            </td><td>0                            </td><td>1                            </td><td>0                            </td><td>0                            </td><td>0                            </td><td>25                           </td></tr>\n",
       "</tbody>\n",
       "</table>\n"
      ],
      "text/latex": [
       "\\begin{tabular}{r|lllllllllllllllllllllllllllllllllllllllllllllllllllllllllllllllllllllllllllllllll}\n",
       " ListingKey & ListingNumber & ListingCreationDate & CreditGrade & Term & LoanStatus & ClosedDate & BorrowerAPR & BorrowerRate & LenderYield & ... & LP\\_ServiceFees & LP\\_CollectionFees & LP\\_GrossPrincipalLoss & LP\\_NetPrincipalLoss & LP\\_NonPrincipalRecoverypayments & PercentFunded & Recommendations & InvestmentFromFriendsCount & InvestmentFromFriendsAmount & Investors\\\\\n",
       "\\hline\n",
       "\t 093D3365430569291709120       &   8912                        & 2006-04-26 22:23:10.147000000 & HR                            & 36                            & Cancelled                     & 2006-05-31 00:00:00           & 0.25650                       & 0.2375                        & 0.2325                        & ...                           & 0                             & 0                             & 0                             & 0                             & 0                             & 1                             & 0                             & 0                             & 0                             &  6                           \\\\\n",
       "\t F77F33664545520971829DC       &   7646                        & 2006-04-25 07:59:15.203000000 & C                             & 36                            & Cancelled                     & 2006-05-31 00:00:00           & 0.14659                       & 0.1395                        & 0.1345                        & ...                           & 0                             & 0                             & 0                             & 0                             & 0                             & 1                             & 0                             & 0                             & 0                             & 62                           \\\\\n",
       "\t 09E1336627538645259AE42       &    908                        & 2006-02-28 08:18:58.527000000 & HR                            & 36                            & Cancelled                     & 2006-03-29 00:00:00           & 0.20735                       & 0.2000                        & 0.1950                        & ...                           & 0                             & 0                             & 0                             & 0                             & 0                             & 1                             & 0                             & 0                             & 0                             & 23                           \\\\\n",
       "\t 29453366240667435235AEE       &  11364                        & 2006-05-05 03:16:59.510000000 & HR                            & 36                            & Cancelled                     & 2006-05-31 00:00:00           & 0.25650                       & 0.2375                        & 0.2325                        & ...                           & 0                             & 0                             & 0                             & 0                             & 0                             & 1                             & 0                             & 0                             & 0                             &  7                           \\\\\n",
       "\t E77E34330098056070F5C30       & 410006                        & 2008-10-07 17:09:34.653000000 & A                             & 36                            & Cancelled                     & 2008-10-16 00:00:00           & 0.16219                       & 0.1075                        & 0.0975                        & ...                           & 0                             & 0                             & 0                             & 0                             & 0                             & 1                             & 0                             & 0                             & 0                             & 25                           \\\\\n",
       "\\end{tabular}\n"
      ],
      "text/markdown": [
       "\n",
       "ListingKey | ListingNumber | ListingCreationDate | CreditGrade | Term | LoanStatus | ClosedDate | BorrowerAPR | BorrowerRate | LenderYield | ... | LP_ServiceFees | LP_CollectionFees | LP_GrossPrincipalLoss | LP_NetPrincipalLoss | LP_NonPrincipalRecoverypayments | PercentFunded | Recommendations | InvestmentFromFriendsCount | InvestmentFromFriendsAmount | Investors | \n",
       "|---|---|---|---|---|\n",
       "| 093D3365430569291709120       |   8912                        | 2006-04-26 22:23:10.147000000 | HR                            | 36                            | Cancelled                     | 2006-05-31 00:00:00           | 0.25650                       | 0.2375                        | 0.2325                        | ...                           | 0                             | 0                             | 0                             | 0                             | 0                             | 1                             | 0                             | 0                             | 0                             |  6                            | \n",
       "| F77F33664545520971829DC       |   7646                        | 2006-04-25 07:59:15.203000000 | C                             | 36                            | Cancelled                     | 2006-05-31 00:00:00           | 0.14659                       | 0.1395                        | 0.1345                        | ...                           | 0                             | 0                             | 0                             | 0                             | 0                             | 1                             | 0                             | 0                             | 0                             | 62                            | \n",
       "| 09E1336627538645259AE42       |    908                        | 2006-02-28 08:18:58.527000000 | HR                            | 36                            | Cancelled                     | 2006-03-29 00:00:00           | 0.20735                       | 0.2000                        | 0.1950                        | ...                           | 0                             | 0                             | 0                             | 0                             | 0                             | 1                             | 0                             | 0                             | 0                             | 23                            | \n",
       "| 29453366240667435235AEE       |  11364                        | 2006-05-05 03:16:59.510000000 | HR                            | 36                            | Cancelled                     | 2006-05-31 00:00:00           | 0.25650                       | 0.2375                        | 0.2325                        | ...                           | 0                             | 0                             | 0                             | 0                             | 0                             | 1                             | 0                             | 0                             | 0                             |  7                            | \n",
       "| E77E34330098056070F5C30       | 410006                        | 2008-10-07 17:09:34.653000000 | A                             | 36                            | Cancelled                     | 2008-10-16 00:00:00           | 0.16219                       | 0.1075                        | 0.0975                        | ...                           | 0                             | 0                             | 0                             | 0                             | 0                             | 1                             | 0                             | 0                             | 0                             | 25                            | \n",
       "\n",
       "\n"
      ],
      "text/plain": [
       "  ListingKey              ListingNumber ListingCreationDate          \n",
       "1 093D3365430569291709120   8912        2006-04-26 22:23:10.147000000\n",
       "2 F77F33664545520971829DC   7646        2006-04-25 07:59:15.203000000\n",
       "3 09E1336627538645259AE42    908        2006-02-28 08:18:58.527000000\n",
       "4 29453366240667435235AEE  11364        2006-05-05 03:16:59.510000000\n",
       "5 E77E34330098056070F5C30 410006        2008-10-07 17:09:34.653000000\n",
       "  CreditGrade Term LoanStatus ClosedDate          BorrowerAPR BorrowerRate\n",
       "1 HR          36   Cancelled  2006-05-31 00:00:00 0.25650     0.2375      \n",
       "2 C           36   Cancelled  2006-05-31 00:00:00 0.14659     0.1395      \n",
       "3 HR          36   Cancelled  2006-03-29 00:00:00 0.20735     0.2000      \n",
       "4 HR          36   Cancelled  2006-05-31 00:00:00 0.25650     0.2375      \n",
       "5 A           36   Cancelled  2008-10-16 00:00:00 0.16219     0.1075      \n",
       "  LenderYield ... LP_ServiceFees LP_CollectionFees LP_GrossPrincipalLoss\n",
       "1 0.2325      ... 0              0                 0                    \n",
       "2 0.1345      ... 0              0                 0                    \n",
       "3 0.1950      ... 0              0                 0                    \n",
       "4 0.2325      ... 0              0                 0                    \n",
       "5 0.0975      ... 0              0                 0                    \n",
       "  LP_NetPrincipalLoss LP_NonPrincipalRecoverypayments PercentFunded\n",
       "1 0                   0                               1            \n",
       "2 0                   0                               1            \n",
       "3 0                   0                               1            \n",
       "4 0                   0                               1            \n",
       "5 0                   0                               1            \n",
       "  Recommendations InvestmentFromFriendsCount InvestmentFromFriendsAmount\n",
       "1 0               0                          0                          \n",
       "2 0               0                          0                          \n",
       "3 0               0                          0                          \n",
       "4 0               0                          0                          \n",
       "5 0               0                          0                          \n",
       "  Investors\n",
       "1  6       \n",
       "2 62       \n",
       "3 23       \n",
       "4  7       \n",
       "5 25       "
      ]
     },
     "metadata": {},
     "output_type": "display_data"
    }
   ],
   "source": [
    "loans %>%\n",
    "filter(LoanStatus == 'Cancelled') "
   ]
  },
  {
   "cell_type": "markdown",
   "metadata": {
    "deletable": true,
    "editable": true
   },
   "source": [
    "Seems that these are loans that started to be funded and then were cancelled. There are only 5 of them, and they all seem to have been closed less than a month after creation."
   ]
  },
  {
   "cell_type": "code",
   "execution_count": 33,
   "metadata": {
    "collapsed": false,
    "deletable": true,
    "editable": true
   },
   "outputs": [
    {
     "data": {},
     "metadata": {},
     "output_type": "display_data"
    },
    {
     "data": {
      "image/png": "[encoded data removed]",
      "text/plain": [
       "plot without title"
      ]
     },
     "metadata": {},
     "output_type": "display_data"
    }
   ],
   "source": [
    "######Add a new, simplified LoanStatus column called simple.LoanStatus\n",
    "loans %>%\n",
    "mutate(simple.LoanStatus = ifelse(str_detect(LoanStatus, \"Past\"), 'Past Due', as.character(LoanStatus)))%>%\n",
    "filter(!str_detect(simple.LoanStatus, \"Final\")) %>%\n",
    "filter(simple.LoanStatus != \"Cancelled\") %>%\n",
    "ggplot(aes(simple.LoanStatus)) + geom_bar()"
   ]
  },
  {
   "cell_type": "markdown",
   "metadata": {
    "deletable": true,
    "editable": true
   },
   "source": [
    "Our original LoanStatus bar chart had a bit too much going on, so above I have simplified it. This chart gives us a better idea of how many loans are past due.  \n",
    "\n",
    "These LoanStatus' are intersting, but a lot depends on the data. Is this a snapshot of a month, a year? If this was for all time Completed and Defaulted will eventually become a huge part of the mix as the amount of loan history outpaces loans being originated. This distribution makes me think that it is a snapshot of a certain time frame."
   ]
  },
  {
   "cell_type": "code",
   "execution_count": 15,
   "metadata": {
    "collapsed": false,
    "deletable": true,
    "editable": true
   },
   "outputs": [],
   "source": [
    "#Further Investigation\n",
    "#loans %>%\n",
    "#select(ListingCreationDate, ClosedDate) %>%\n",
    "#top_n(30) %>%\n",
    "#mutate(interval = interval(ListingCreationDate, ClosedDate)) #ListingCreationDate\n",
    "#ClosedDate"
   ]
  },
  {
   "cell_type": "markdown",
   "metadata": {
    "deletable": true,
    "editable": true
   },
   "source": [
    "## Borrower APR"
   ]
  },
  {
   "cell_type": "code",
   "execution_count": 16,
   "metadata": {
    "collapsed": false,
    "deletable": true,
    "editable": true
   },
   "outputs": [
    {
     "data": {
      "text/plain": [
       "   Min. 1st Qu.  Median    Mean 3rd Qu.    Max.    NA's \n",
       "0.00653 0.15630 0.21020 0.21910 0.28490 0.51230      25 "
      ]
     },
     "metadata": {},
     "output_type": "display_data"
    }
   ],
   "source": [
    "summary(loans$BorrowerAPR)"
   ]
  },
  {
   "cell_type": "markdown",
   "metadata": {
    "deletable": true,
    "editable": true
   },
   "source": [
    "The Borrower APR is interesting to me in several ways. First off, there are people with incredible deals and terrible deals. Our minimum is .6% - that's a pretty great rate. I don't know anyone getting a rate that rate cheap outside of the Fed. On the other end there is someone paying 51% APR. Yikes. In some ways that probably means that's where the line is for risk. Prosper, or their lending partners, thinks there is a positive return on someone so risky you need to charge them over half the principal per year to loan it. "
   ]
  },
  {
   "cell_type": "code",
   "execution_count": 17,
   "metadata": {
    "collapsed": false,
    "deletable": true,
    "editable": true
   },
   "outputs": [
    {
     "name": "stderr",
     "output_type": "stream",
     "text": [
      "Warning message:\n",
      "\"Removed 25 rows containing non-finite values (stat_bin).\""
     ]
    },
    {
     "data": {},
     "metadata": {},
     "output_type": "display_data"
    },
    {
     "data": {
      "image/png": "[encoded data removed]",
      "text/plain": [
       "plot without title"
      ]
     },
     "metadata": {},
     "output_type": "display_data"
    }
   ],
   "source": [
    "ggplot(loans, aes(BorrowerAPR)) + geom_histogram(bins=125)"
   ]
  },
  {
   "cell_type": "markdown",
   "metadata": {
    "deletable": true,
    "editable": true
   },
   "source": [
    "Several intersting things there. First off it's almost a normal distribution, but it seems to have  spikes near round APR's, as well as a spike little bit under 30%. There is also a large spike at around 35%. This histogram is a little noisy, so let's look at a density plot."
   ]
  },
  {
   "cell_type": "code",
   "execution_count": 18,
   "metadata": {
    "collapsed": false,
    "deletable": true,
    "editable": true
   },
   "outputs": [
    {
     "name": "stderr",
     "output_type": "stream",
     "text": [
      "Warning message:\n",
      "\"Removed 25 rows containing non-finite values (stat_density).\""
     ]
    },
    {
     "data": {},
     "metadata": {},
     "output_type": "display_data"
    },
    {
     "ename": "ERROR",
     "evalue": "Error in +geom_segment(x = 0.2): invalid argument to unary operator\n",
     "output_type": "error",
     "traceback": [
      "Error in +geom_segment(x = 0.2): invalid argument to unary operator\nTraceback:\n"
     ]
    },
    {
     "data": {
      "image/png": "[encoded data removed]",
      "text/plain": [
       "plot without title"
      ]
     },
     "metadata": {},
     "output_type": "display_data"
    }
   ],
   "source": [
    "ggplot(loans, aes(BorrowerAPR)) + geom_density()\n",
    "+ geom_segment(x=.2)"
   ]
  },
  {
   "cell_type": "markdown",
   "metadata": {
    "deletable": true,
    "editable": true
   },
   "source": [
    "The peaks are easier to see with a density plot. But it is easy to see that a large amount of loans hover around 20% APR."
   ]
  },
  {
   "cell_type": "markdown",
   "metadata": {
    "deletable": true,
    "editable": true
   },
   "source": [
    "## BorrowerRate "
   ]
  },
  {
   "cell_type": "code",
   "execution_count": 19,
   "metadata": {
    "collapsed": false,
    "deletable": true,
    "editable": true
   },
   "outputs": [
    {
     "data": {
      "text/plain": [
       "   Min. 1st Qu.  Median    Mean 3rd Qu.    Max. \n",
       " 0.0000  0.1342  0.1840  0.1931  0.2511  0.4975 "
      ]
     },
     "metadata": {},
     "output_type": "display_data"
    }
   ],
   "source": [
    "summary(loans$BorrowerRate)"
   ]
  },
  {
   "cell_type": "markdown",
   "metadata": {
    "deletable": true,
    "editable": true
   },
   "source": [
    "Here we notice that the rate is NOT the same thing as the APR. Looking at the definitions document we're simply told that the APR is the Annual Percentage Rate and that the Borrow's Rate is the borrower's interest rate for the loan. Some research tells us that these are calculated by:   \n",
    "\n",
    ">APR - Annual Percentage Rate. A percentage that represents the acutal yearly cost of funds over the term of the loan. Includes additional costs or fees but does not take compounding into account.  \n",
    "\n",
    ">Interest Rate - Refers only to the interst charged on the loan, doesn't take other expenses into acount. Therefore, APR tends to be higher than the loan's nominal interst rate. \n",
    "\n",
    ">APY or EAR - Annual Percentage Yield or Effective Annual Rate takes compound interest into account. Tends to be larger than APR on the same loan.\n",
    "\n",
    "As all of the above illustrates, APR can be a misleading indicator of actual costs. Some experts feel the APR is best used to compare long-term loans. Even with shorter-term debt, such as a seven-year note, the APR actually understates the cost of the loan. This is because APR calculations assume long-term repayment schedules; for loans that are repaid faster or have shorter repayment periods, the costs and fees are spread too thin with APR calculations. The average annual impact of closing costs is much smaller when those costs are assumed to have been spread over 30 years instead of seven to 10 years.\n"
   ]
  },
  {
   "cell_type": "code",
   "execution_count": 21,
   "metadata": {
    "collapsed": false,
    "deletable": true,
    "editable": true
   },
   "outputs": [
    {
     "data": {},
     "metadata": {},
     "output_type": "display_data"
    },
    {
     "data": {
      "image/png": "[encoded data removed]",
      "text/plain": [
       "plot without title"
      ]
     },
     "metadata": {},
     "output_type": "display_data"
    }
   ],
   "source": [
    "ggplot(loans, aes(BorrowerRate)) + geom_histogram(bins = 125)"
   ]
  },
  {
   "cell_type": "markdown",
   "metadata": {
    "deletable": true,
    "editable": true
   },
   "source": [
    "## Estimated Effective Yield"
   ]
  },
  {
   "cell_type": "code",
   "execution_count": 22,
   "metadata": {
    "collapsed": false,
    "deletable": true,
    "editable": true
   },
   "outputs": [
    {
     "data": {
      "text/plain": [
       "   Min. 1st Qu.  Median    Mean 3rd Qu.    Max.    NA's \n",
       " -0.183   0.117   0.162   0.169   0.225   0.320   29084 "
      ]
     },
     "metadata": {},
     "output_type": "display_data"
    }
   ],
   "source": [
    "summary(loans$EstimatedEffectiveYield)"
   ]
  },
  {
   "cell_type": "code",
   "execution_count": 23,
   "metadata": {
    "collapsed": false,
    "deletable": true,
    "editable": true
   },
   "outputs": [
    {
     "name": "stderr",
     "output_type": "stream",
     "text": [
      "Warning message:\n",
      "\"Removed 29084 rows containing non-finite values (stat_bin).\""
     ]
    },
    {
     "data": {},
     "metadata": {},
     "output_type": "display_data"
    },
    {
     "data": {
      "image/png": "[encoded data removed]",
      "text/plain": [
       "plot without title"
      ]
     },
     "metadata": {},
     "output_type": "display_data"
    }
   ],
   "source": [
    "ggplot(loans, aes(EstimatedEffectiveYield)) + geom_histogram(bins=100)\n",
    "#Why so many rows with non-finite values?"
   ]
  },
  {
   "cell_type": "markdown",
   "metadata": {
    "deletable": true,
    "editable": true
   },
   "source": [
    "You can see that this distribution mimics the distribution of APR's but moved slightly lower, with some tail to the left as well. Let's see what's causing negative estimated yield loans."
   ]
  },
  {
   "cell_type": "code",
   "execution_count": 27,
   "metadata": {
    "collapsed": false,
    "deletable": true,
    "editable": true
   },
   "outputs": [
    {
     "data": {
      "text/plain": [
       "                   ListingKey  ListingNumber   \n",
       " 009B3495741061236C0C927:  1   Min.   :416595  \n",
       " 02283482060850607BC27FE:  1   1st Qu.:433364  \n",
       " 02933496318097934A683F4:  1   Median :456488  \n",
       " 029A3499706893097DB1393:  1   Mean   :456150  \n",
       " 038535015703591930CD2E0:  1   3rd Qu.:477715  \n",
       " 03AA34675425410661C8213:  1   Max.   :487169  \n",
       " (Other)                :184                   \n",
       "                    ListingCreationDate  CreditGrade       Term   \n",
       " 2009-07-14 21:09:50.017000000:  1             :190   Min.   :36  \n",
       " 2009-07-17 13:57:20.620000000:  1      A      :  0   1st Qu.:36  \n",
       " 2009-07-23 16:16:18.167000000:  1      AA     :  0   Median :36  \n",
       " 2009-07-31 15:25:54.323000000:  1      B      :  0   Mean   :36  \n",
       " 2009-07-31 15:41:11.917000000:  1      C      :  0   3rd Qu.:36  \n",
       " 2009-08-04 12:24:33.823000000:  1      D      :  0   Max.   :36  \n",
       " (Other)                      :184      (Other):  0               \n",
       "                  LoanStatus                ClosedDate   BorrowerAPR     \n",
       " Completed             :146   2013-05-18 00:00:00:  3   Min.   :0.08999  \n",
       " Chargedoff            : 42   2010-02-03 00:00:00:  2   1st Qu.:0.21306  \n",
       " Defaulted             :  2   2010-10-15 00:00:00:  2   Median :0.29031  \n",
       " Cancelled             :  0   2011-03-01 00:00:00:  2   Mean   :0.29372  \n",
       " Current               :  0   2011-04-14 00:00:00:  2   3rd Qu.:0.37453  \n",
       " FinalPaymentInProgress:  0   2011-04-28 00:00:00:  2   Max.   :0.41355  \n",
       " (Other)               :  0   (Other)            :177                    \n",
       "  BorrowerRate     LenderYield     EstimatedEffectiveYield EstimatedLoss   \n",
       " Min.   :0.0693   Min.   :0.0593   Min.   :-0.18270        Min.   :0.0595  \n",
       " 1st Qu.:0.1833   1st Qu.:0.1733   1st Qu.:-0.06338        1st Qu.:0.1900  \n",
       " Median :0.2500   Median :0.2400   Median :-0.03420        Median :0.3450  \n",
       " Mean   :0.2607   Mean   :0.2507   Mean   :-0.04802        Mean   :0.2844  \n",
       " 3rd Qu.:0.3500   3rd Qu.:0.3400   3rd Qu.:-0.01787        3rd Qu.:0.3660  \n",
       " Max.   :0.3500   Max.   :0.3400   Max.   :-0.00060        Max.   :0.3660  \n",
       "                                                                           \n",
       " EstimatedReturn    ProsperRating..numeric. ProsperRating..Alpha.\n",
       " Min.   :-0.18270   Min.   :1.000           HR     :178          \n",
       " 1st Qu.:-0.06338   1st Qu.:1.000           E      :  6          \n",
       " Median :-0.03420   Median :1.000           C      :  3          \n",
       " Mean   :-0.04802   Mean   :1.121           D      :  2          \n",
       " 3rd Qu.:-0.01787   3rd Qu.:1.000           B      :  1          \n",
       " Max.   :-0.00060   Max.   :5.000                  :  0          \n",
       "                                            (Other):  0          \n",
       "  ProsperScore   ListingCategory..numeric. BorrowerState             Occupation\n",
       " Min.   :1.000   Min.   :1.000             CA     :33    Other            :50  \n",
       " 1st Qu.:1.000   1st Qu.:1.000             MI     :14    Professional     :23  \n",
       " Median :1.000   Median :2.000             FL     :13    Military Enlisted:14  \n",
       " Mean   :2.421   Mean   :3.237             GA     :13    Teacher          :10  \n",
       " 3rd Qu.:4.000   3rd Qu.:6.000             CO     : 9    Sales - Retail   : 7  \n",
       " Max.   :9.000   Max.   :7.000             TX     : 9    Analyst          : 6  \n",
       "                                           (Other):99    (Other)          :80  \n",
       "      EmploymentStatus EmploymentStatusDuration IsBorrowerHomeowner\n",
       " Full-time    :107     Min.   :  0.00           False: 90          \n",
       " Employed     : 33     1st Qu.: 26.25           True :100          \n",
       " Self-employed: 33     Median : 65.50                              \n",
       " Retired      :  8     Mean   : 84.34                              \n",
       " Not employed :  5     3rd Qu.:123.00                              \n",
       " Part-time    :  4     Max.   :303.00                              \n",
       " (Other)      :  0                                                 \n",
       " CurrentlyInGroup                    GroupKey              DateCreditPulled\n",
       " False:142                               :142   2009-07-14 07:40:03:  1    \n",
       " True : 48        3D4D3366260257624AB272D:  7   2009-07-17 13:41:18:  1    \n",
       "                  52EA3425051368132B80C96:  6   2009-07-19 06:49:16:  1    \n",
       "                  C48E3419578591276DB6752:  4   2009-07-30 15:01:34:  1    \n",
       "                  C95834619831959805D1458:  4   2009-07-31 15:40:14:  1    \n",
       "                  87AF336457453170468EEA4:  3   2009-08-08 13:50:22:  1    \n",
       "                  (Other)                : 24   (Other)            :184    \n",
       " CreditScoreRangeLower CreditScoreRangeUpper        FirstRecordedCreditLine\n",
       " Min.   :600.0         Min.   :619.0         1988-03-01 00:00:00:  3       \n",
       " 1st Qu.:620.0         1st Qu.:639.0         1982-06-08 00:00:00:  2       \n",
       " Median :640.0         Median :659.0         1985-04-01 00:00:00:  2       \n",
       " Mean   :657.6         Mean   :676.6         1991-11-01 00:00:00:  2       \n",
       " 3rd Qu.:680.0         3rd Qu.:699.0         1992-02-01 00:00:00:  2       \n",
       " Max.   :820.0         Max.   :839.0         1993-05-18 00:00:00:  2       \n",
       "                                             (Other)            :177       \n",
       " CurrentCreditLines OpenCreditLines  TotalCreditLinespast7years\n",
       " Min.   : 0.000     Min.   : 0.000   Min.   : 3.00             \n",
       " 1st Qu.: 5.000     1st Qu.: 4.000   1st Qu.:16.25             \n",
       " Median : 9.000     Median : 7.000   Median :27.00             \n",
       " Mean   : 9.284     Mean   : 7.932   Mean   :29.17             \n",
       " 3rd Qu.:12.000     3rd Qu.:11.000   3rd Qu.:40.75             \n",
       " Max.   :34.000     Max.   :30.000   Max.   :81.00             \n",
       "                                                               \n",
       " OpenRevolvingAccounts OpenRevolvingMonthlyPayment InquiriesLast6Months\n",
       " Min.   : 0.000        Min.   :   0.0              Min.   : 0.000      \n",
       " 1st Qu.: 2.000        1st Qu.:  40.0              1st Qu.: 1.000      \n",
       " Median : 4.000        Median : 131.5              Median : 2.000      \n",
       " Mean   : 5.132        Mean   : 248.2              Mean   : 3.068      \n",
       " 3rd Qu.: 7.000        3rd Qu.: 337.0              3rd Qu.: 4.000      \n",
       " Max.   :23.000        Max.   :2483.0              Max.   :17.000      \n",
       "                                                                       \n",
       " TotalInquiries   CurrentDelinquencies AmountDelinquent  \n",
       " Min.   : 0.000   Min.   : 0.000       Min.   :     0.0  \n",
       " 1st Qu.: 4.000   1st Qu.: 0.000       1st Qu.:     0.0  \n",
       " Median : 8.000   Median : 0.000       Median :     0.0  \n",
       " Mean   : 9.889   Mean   : 1.305       Mean   :  1888.2  \n",
       " 3rd Qu.:14.000   3rd Qu.: 1.000       3rd Qu.:   416.2  \n",
       " Max.   :46.000   Max.   :17.000       Max.   :101497.0  \n",
       "                                                         \n",
       " DelinquenciesLast7Years PublicRecordsLast10Years PublicRecordsLast12Months\n",
       " Min.   : 0.000          Min.   :0.0000           Min.   :0.00000          \n",
       " 1st Qu.: 0.000          1st Qu.:0.0000           1st Qu.:0.00000          \n",
       " Median : 0.000          Median :0.0000           Median :0.00000          \n",
       " Mean   : 5.347          Mean   :0.3632           Mean   :0.02632          \n",
       " 3rd Qu.: 6.000          3rd Qu.:1.0000           3rd Qu.:0.00000          \n",
       " Max.   :99.000          Max.   :4.0000           Max.   :1.00000          \n",
       "                                                                           \n",
       " RevolvingCreditBalance BankcardUtilization AvailableBankcardCredit\n",
       " Min.   :     0.0       Min.   :0.0000      Min.   :    0.00       \n",
       " 1st Qu.:   729.2       1st Qu.:0.0925      1st Qu.:   10.25       \n",
       " Median :  3996.0       Median :0.7750      Median :  249.00       \n",
       " Mean   :  9118.4       Mean   :0.5924      Mean   : 2413.89       \n",
       " 3rd Qu.: 10781.2       3rd Qu.:0.9475      3rd Qu.: 1682.25       \n",
       " Max.   :131711.0       Max.   :1.2500      Max.   :36522.00       \n",
       "                                                                   \n",
       "  TotalTrades    TradesNeverDelinquent..percentage. TradesOpenedLast6Months\n",
       " Min.   : 1.00   Min.   :0.2000                     Min.   : 0.000         \n",
       " 1st Qu.:13.00   1st Qu.:0.7425                     1st Qu.: 0.000         \n",
       " Median :21.50   Median :0.8600                     Median : 1.000         \n",
       " Mean   :23.81   Mean   :0.8346                     Mean   : 1.226         \n",
       " 3rd Qu.:33.00   3rd Qu.:1.0000                     3rd Qu.: 2.000         \n",
       " Max.   :73.00   Max.   :1.0000                     Max.   :10.000         \n",
       "                                                                           \n",
       " DebtToIncomeRatio         IncomeRange IncomeVerifiable StatedMonthlyIncome\n",
       " Min.   :0.0200    $25,000-49,999:67   False: 55        Min.   :    0      \n",
       " 1st Qu.:0.1850    $50,000-74,999:56   True :135        1st Qu.: 2583      \n",
       " Median :0.2700    $1-24,999     :21                    Median : 4167      \n",
       " Mean   :0.3148    $100,000+     :20                    Mean   : 4722      \n",
       " 3rd Qu.:0.3600    $75,000-99,999:20                    3rd Qu.: 5833      \n",
       " Max.   :2.2000    Not employed  : 5                    Max.   :33333      \n",
       " NA's   :55        (Other)       : 1                                       \n",
       "                    LoanKey    TotalProsperLoans TotalProsperPaymentsBilled\n",
       " 079C3578185442353B42558:  1   Min.   :1.000     Min.   : 1.00             \n",
       " 096C3600123993142C20218:  1   1st Qu.:1.000     1st Qu.:16.00             \n",
       " 0AF1360230099663244AB4D:  1   Median :1.000     Median :26.00             \n",
       " 0B8D35733283763066B9CA1:  1   Mean   :1.387     Mean   :29.16             \n",
       " 0C9B35732006798939C6189:  1   3rd Qu.:2.000     3rd Qu.:36.00             \n",
       " 0D143601765446499C3D8B3:  1   Max.   :4.000     Max.   :76.00             \n",
       " (Other)                :184   NA's   :53        NA's   :53                \n",
       " OnTimeProsperPayments ProsperPaymentsLessThanOneMonthLate\n",
       " Min.   : 1.00         Min.   :0.0000                     \n",
       " 1st Qu.:16.00         1st Qu.:0.0000                     \n",
       " Median :25.00         Median :0.0000                     \n",
       " Mean   :28.77         Mean   :0.3796                     \n",
       " 3rd Qu.:35.00         3rd Qu.:0.0000                     \n",
       " Max.   :76.00         Max.   :6.0000                     \n",
       " NA's   :53            NA's   :53                         \n",
       " ProsperPaymentsOneMonthPlusLate ProsperPrincipalBorrowed\n",
       " Min.   :0.0000                  Min.   : 1000           \n",
       " 1st Qu.:0.0000                  1st Qu.: 2000           \n",
       " Median :0.0000                  Median : 3500           \n",
       " Mean   :0.0073                  Mean   : 5931           \n",
       " 3rd Qu.:0.0000                  3rd Qu.: 7800           \n",
       " Max.   :1.0000                  Max.   :35000           \n",
       " NA's   :53                      NA's   :53              \n",
       " ProsperPrincipalOutstanding ScorexChangeAtTimeOfListing\n",
       " Min.   :   0.00             Min.   :-143.00            \n",
       " 1st Qu.:   0.01             1st Qu.:  -9.00            \n",
       " Median : 679.45             Median :  19.00            \n",
       " Mean   :1108.75             Mean   :  25.42            \n",
       " 3rd Qu.:1575.19             3rd Qu.:  61.00            \n",
       " Max.   :8198.38             Max.   : 241.00            \n",
       " NA's   :53                  NA's   :53                 \n",
       " LoanCurrentDaysDelinquent LoanFirstDefaultedCycleNumber\n",
       " Min.   :   0.0            Min.   : 1.00                \n",
       " 1st Qu.:   0.0            1st Qu.: 8.75                \n",
       " Median :   0.0            Median :16.50                \n",
       " Mean   : 207.2            Mean   :17.86                \n",
       " 3rd Qu.:   0.0            3rd Qu.:24.00                \n",
       " Max.   :1540.0            Max.   :40.00                \n",
       "                           NA's   :146                  \n",
       " LoanMonthsSinceOrigination   LoanNumber    LoanOriginalAmount\n",
       " Min.   :39.00              Min.   :38061   Min.   : 1000     \n",
       " 1st Qu.:41.00              1st Qu.:39670   1st Qu.: 1500     \n",
       " Median :46.00              Median :42539   Median : 2438     \n",
       " Mean   :46.01              Mean   :42449   Mean   : 3369     \n",
       " 3rd Qu.:52.00              3rd Qu.:44793   3rd Qu.: 4000     \n",
       " Max.   :56.00              Max.   :46098   Max.   :15000     \n",
       "                                                              \n",
       "          LoanOriginationDate LoanOriginationQuarter\n",
       " 2010-10-13 00:00:00:  5      Q4 2010:62            \n",
       " 2009-11-10 00:00:00:  4      Q4 2009:39            \n",
       " 2009-11-18 00:00:00:  3      Q3 2010:25            \n",
       " 2009-11-30 00:00:00:  3      Q2 2010:24            \n",
       " 2010-07-29 00:00:00:  3      Q1 2010:21            \n",
       " 2010-11-12 00:00:00:  3      Q3 2009:19            \n",
       " (Other)            :169      (Other): 0            \n",
       "                   MemberKey   MonthlyLoanPayment LP_CustomerPayments\n",
       " 1ACE3369930823000F335D1:  2   Min.   :  0.00     Min.   :    0      \n",
       " 233833917424416802837ED:  2   1st Qu.: 54.83     1st Qu.: 1441      \n",
       " 02193381466293394735726:  1   Median : 90.68     Median : 2579      \n",
       " 0303343173529627211CD29:  1   Mean   :135.49     Mean   : 3656      \n",
       " 0465336599513925256A8CC:  1   3rd Qu.:175.07     3rd Qu.: 4795      \n",
       " 0470339919173724675477C:  1   Max.   :678.37     Max.   :21302      \n",
       " (Other)                :182                                         \n",
       " LP_CustomerPrincipalPayments LP_InterestandFees LP_ServiceFees   \n",
       " Min.   :    0                Min.   :   0.0     Min.   :-235.52  \n",
       " 1st Qu.: 1000                1st Qu.: 308.1     1st Qu.: -44.83  \n",
       " Median : 1618                Median : 563.8     Median : -24.50  \n",
       " Mean   : 2687                Mean   : 968.3     Mean   : -34.91  \n",
       " 3rd Qu.: 3500                3rd Qu.:1278.2     3rd Qu.: -13.19  \n",
       " Max.   :13000                Max.   :8302.4     Max.   :   0.00  \n",
       "                                                                  \n",
       " LP_CollectionFees LP_GrossPrincipalLoss LP_NetPrincipalLoss\n",
       " Min.   :-793.04   Min.   :    0.0       Min.   :    0.0    \n",
       " 1st Qu.:   0.00   1st Qu.:    0.0       1st Qu.:    0.0    \n",
       " Median :   0.00   Median :    0.0       Median :    0.0    \n",
       " Mean   : -14.76   Mean   :  678.8       Mean   :  669.9    \n",
       " 3rd Qu.:   0.00   3rd Qu.:    0.0       3rd Qu.:    0.0    \n",
       " Max.   :   0.00   Max.   :14579.6       Max.   :14579.6    \n",
       "                                                            \n",
       " LP_NonPrincipalRecoverypayments PercentFunded Recommendations \n",
       " Min.   :   0.00                 Min.   :1     Min.   :0.0000  \n",
       " 1st Qu.:   0.00                 1st Qu.:1     1st Qu.:0.0000  \n",
       " Median :   0.00                 Median :1     Median :0.0000  \n",
       " Mean   :  22.84                 Mean   :1     Mean   :0.2474  \n",
       " 3rd Qu.:   0.00                 3rd Qu.:1     3rd Qu.:0.0000  \n",
       " Max.   :2443.00                 Max.   :1     Max.   :4.0000  \n",
       "                                                               \n",
       " InvestmentFromFriendsCount InvestmentFromFriendsAmount   Investors    \n",
       " Min.   :0.0                Min.   :   0.0              Min.   :  1.0  \n",
       " 1st Qu.:0.0                1st Qu.:   0.0              1st Qu.: 12.0  \n",
       " Median :0.0                Median :   0.0              Median : 32.5  \n",
       " Mean   :0.2                Mean   : 222.5              Mean   : 40.7  \n",
       " 3rd Qu.:0.0                3rd Qu.:   0.0              3rd Qu.: 61.0  \n",
       " Max.   :3.0                Max.   :7000.0              Max.   :169.0  \n",
       "                                                                       "
      ]
     },
     "metadata": {},
     "output_type": "display_data"
    }
   ],
   "source": [
    "loans %>%\n",
    "filter(EstimatedEffectiveYield < 0) %>%\n",
    "summary\n",
    "\n",
    "#190 loans\n",
    "#completed 146, chargedoff 42, defaulted, none current, this is not an estimation, nor does this variable really make \n",
    "#sense for them\n",
    "#They didn't have rediculous APR's or anything.\n",
    "#Could plot against estimated loss to see if there are different things going on here.\n",
    "#time to close?"
   ]
  },
  {
   "cell_type": "code",
   "execution_count": 29,
   "metadata": {
    "collapsed": false
   },
   "outputs": [
    {
     "data": {},
     "metadata": {},
     "output_type": "display_data"
    },
    {
     "data": {
      "image/png": "[encoded data removed]",
      "text/plain": [
       "plot without title"
      ]
     },
     "metadata": {},
     "output_type": "display_data"
    }
   ],
   "source": [
    "loans %>%\n",
    "filter(EstimatedEffectiveYield < 0) %>%\n",
    "ggplot(aes(LoanStatus, EstimatedEffectiveYield, group=LoanStatus)) + geom_boxplot()"
   ]
  },
  {
   "cell_type": "markdown",
   "metadata": {},
   "source": [
    "Looks like all of the 184 loans that have a negative EstimatedEffectiveYield are not current, but have either been completed, chargedoff, or defaulted. This probably represents either the loss incurred from the loans that where completed ahead of schedule, or had to be taken as a loss. Not really an 'estimate' for any of these statuses because the loss has been realized. "
   ]
  },
  {
   "cell_type": "markdown",
   "metadata": {
    "deletable": true,
    "editable": true
   },
   "source": [
    "## ProsperScore"
   ]
  },
  {
   "cell_type": "code",
   "execution_count": 30,
   "metadata": {
    "collapsed": false,
    "deletable": true,
    "editable": true
   },
   "outputs": [
    {
     "data": {
      "text/plain": [
       "   Min. 1st Qu.  Median    Mean 3rd Qu.    Max.    NA's \n",
       "  1.000   4.000   6.000   5.957   8.000  11.000   29084 "
      ]
     },
     "metadata": {},
     "output_type": "display_data"
    },
    {
     "name": "stderr",
     "output_type": "stream",
     "text": [
      "`stat_bin()` using `bins = 30`. Pick better value with `binwidth`.\n",
      "Warning message:\n",
      "\"Removed 29084 rows containing non-finite values (stat_bin).\""
     ]
    },
    {
     "data": {},
     "metadata": {},
     "output_type": "display_data"
    },
    {
     "data": {
      "image/png": "[encoded data removed]",
      "text/plain": [
       "plot without title"
      ]
     },
     "metadata": {},
     "output_type": "display_data"
    }
   ],
   "source": [
    "summary(loans$ProsperScore)\n",
    "ggplot(loans, aes(ProsperScore)) + geom_histogram()"
   ]
  },
  {
   "cell_type": "markdown",
   "metadata": {
    "deletable": true,
    "editable": true
   },
   "source": [
    "Here you can see that ProsperScore is discrete, and potentially bimodal? Strange clustering between 4 and 5, let's look at unique values."
   ]
  },
  {
   "cell_type": "code",
   "execution_count": 32,
   "metadata": {
    "collapsed": false,
    "deletable": true,
    "editable": true
   },
   "outputs": [
    {
     "data": {
      "text/html": [
       "<ol class=list-inline>\n",
       "\t<li>1</li>\n",
       "\t<li>2</li>\n",
       "\t<li>3</li>\n",
       "\t<li>4</li>\n",
       "\t<li>5</li>\n",
       "\t<li>6</li>\n",
       "\t<li>7</li>\n",
       "\t<li>8</li>\n",
       "\t<li>9</li>\n",
       "\t<li>10</li>\n",
       "\t<li>11</li>\n",
       "</ol>\n"
      ],
      "text/latex": [
       "\\begin{enumerate*}\n",
       "\\item 1\n",
       "\\item 2\n",
       "\\item 3\n",
       "\\item 4\n",
       "\\item 5\n",
       "\\item 6\n",
       "\\item 7\n",
       "\\item 8\n",
       "\\item 9\n",
       "\\item 10\n",
       "\\item 11\n",
       "\\end{enumerate*}\n"
      ],
      "text/markdown": [
       "1. 1\n",
       "2. 2\n",
       "3. 3\n",
       "4. 4\n",
       "5. 5\n",
       "6. 6\n",
       "7. 7\n",
       "8. 8\n",
       "9. 9\n",
       "10. 10\n",
       "11. 11\n",
       "\n",
       "\n"
      ],
      "text/plain": [
       " [1]  1  2  3  4  5  6  7  8  9 10 11"
      ]
     },
     "metadata": {},
     "output_type": "display_data"
    }
   ],
   "source": [
    "sort(unique(loans$ProsperScore))"
   ]
  },
  {
   "cell_type": "markdown",
   "metadata": {
    "deletable": true,
    "editable": true
   },
   "source": [
    "1 to 11? That's a strange scale for scoring. Maybe it's analogous to 0 to 10, but they don't want to make people feel bad by giving them 0's."
   ]
  },
  {
   "cell_type": "code",
   "execution_count": 33,
   "metadata": {
    "collapsed": false,
    "deletable": true,
    "editable": true
   },
   "outputs": [
    {
     "data": {
      "text/plain": [
       "\n",
       "    1     2     3     4     5     6     7     8     9    10    11 \n",
       "  917  5632  7456 12300  9661 12064 10392 11875  6813  4637  1408 "
      ]
     },
     "metadata": {},
     "output_type": "display_data"
    }
   ],
   "source": [
    "table(loans$ProsperScore)"
   ]
  },
  {
   "cell_type": "markdown",
   "metadata": {
    "deletable": true,
    "editable": true
   },
   "source": [
    "## Listing Category"
   ]
  },
  {
   "cell_type": "markdown",
   "metadata": {
    "deletable": true,
    "editable": true
   },
   "source": [
    "Wrote a short function to convert the numeric categories to their values."
   ]
  },
  {
   "cell_type": "code",
   "execution_count": 6,
   "metadata": {
    "collapsed": false,
    "deletable": true,
    "editable": true
   },
   "outputs": [],
   "source": [
    "listingToCharacter <- function(numeric.category){\n",
    "    listing.categories = c(\"Not Available\", \"Debt Consolidation\", \"Home Improvement\", \"Business\",\n",
    "                       \"Personal Loan\", \"Student Use\", \"Auto\", \"Other\", \"Baby&Adoption\",\"Boat\",\n",
    "                       \"Cosmetic Procedure\", \"Engagement Ring\", \"Green Loans\", \"Household Expenses\",\n",
    "                       \"Large Purchases\", \"Medical/Dental\", \"Motorcycle\", \"RV\", \"Taxes\", \"Vacation\",\n",
    "                       \"Wedding Loans\")\n",
    "    return(listing.categories[numeric.category + 1]) \n",
    "}"
   ]
  },
  {
   "cell_type": "code",
   "execution_count": 7,
   "metadata": {
    "collapsed": false,
    "deletable": true,
    "editable": true
   },
   "outputs": [],
   "source": [
    "loans$ListingCategory <- listingToCharacter(loans$ListingCategory..numeric)"
   ]
  },
  {
   "cell_type": "code",
   "execution_count": 8,
   "metadata": {
    "collapsed": false,
    "deletable": true,
    "editable": true
   },
   "outputs": [
    {
     "data": {},
     "metadata": {},
     "output_type": "display_data"
    },
    {
     "data": {
      "image/png": "[encoded data removed]",
      "text/plain": [
       "plot without title"
      ]
     },
     "metadata": {},
     "output_type": "display_data"
    }
   ],
   "source": [
    "loans %>%\n",
    "group_by(ListingCategory) %>%\n",
    "summarise(count = n()) %>%\n",
    "ggplot(aes(x=reorder(ListingCategory, desc(count)), y=count)) + \n",
    "geom_bar(stat=\"Identity\") + \n",
    "theme(axis.text.x = element_text(angle = 45, hjust = 1))"
   ]
  },
  {
   "cell_type": "markdown",
   "metadata": {
    "deletable": true,
    "editable": true
   },
   "source": [
    "It looks like Debt Consolidation is the most popular reason to apply for a loan. "
   ]
  },
  {
   "cell_type": "markdown",
   "metadata": {},
   "source": [
    "## Borrower State"
   ]
  },
  {
   "cell_type": "code",
   "execution_count": 9,
   "metadata": {
    "collapsed": false,
    "deletable": true,
    "editable": true
   },
   "outputs": [
    {
     "data": {},
     "metadata": {},
     "output_type": "display_data"
    },
    {
     "data": {
      "image/png": "[encoded data removed]",
      "text/plain": [
       "plot without title"
      ]
     },
     "metadata": {},
     "output_type": "display_data"
    }
   ],
   "source": [
    "loans %>%\n",
    "group_by(BorrowerState) %>%\n",
    "summarise(count = n()) %>%\n",
    "ggplot(aes(x=reorder(BorrowerState, desc(count)), y=count)) + \n",
    "geom_bar(stat=\"Identity\") +\n",
    "theme(text = element_text(size=8))\n",
    "#SOMEDAY:choropleth here?"
   ]
  },
  {
   "cell_type": "markdown",
   "metadata": {
    "deletable": true,
    "editable": true
   },
   "source": [
    "This bar chart doesn't actually tell us much because we would have to weight these by the population of each state to see if there are real differences between them. In fact the first four are ordered exactly as they would be ordered by population."
   ]
  },
  {
   "cell_type": "markdown",
   "metadata": {
    "deletable": true,
    "editable": true
   },
   "source": [
    "## Occupation"
   ]
  },
  {
   "cell_type": "code",
   "execution_count": 10,
   "metadata": {
    "collapsed": false,
    "deletable": true,
    "editable": true
   },
   "outputs": [
    {
     "data": {
      "text/html": [
       "<table>\n",
       "<thead><tr><th scope=col>Occupation</th><th scope=col>count</th></tr></thead>\n",
       "<tbody>\n",
       "\t<tr><td>Other                   </td><td>28617                   </td></tr>\n",
       "\t<tr><td>Professional            </td><td>13628                   </td></tr>\n",
       "\t<tr><td>Computer Programmer     </td><td> 4478                   </td></tr>\n",
       "\t<tr><td>Executive               </td><td> 4311                   </td></tr>\n",
       "\t<tr><td>Teacher                 </td><td> 3759                   </td></tr>\n",
       "\t<tr><td>Administrative Assistant</td><td> 3688                   </td></tr>\n",
       "\t<tr><td>Analyst                 </td><td> 3602                   </td></tr>\n",
       "\t<tr><td>Sales - Commission      </td><td> 3446                   </td></tr>\n",
       "\t<tr><td>Accountant/CPA          </td><td> 3233                   </td></tr>\n",
       "\t<tr><td>Clerical                </td><td> 3164                   </td></tr>\n",
       "</tbody>\n",
       "</table>\n"
      ],
      "text/latex": [
       "\\begin{tabular}{r|ll}\n",
       " Occupation & count\\\\\n",
       "\\hline\n",
       "\t Other                    & 28617                   \\\\\n",
       "\t Professional             & 13628                   \\\\\n",
       "\t Computer Programmer      &  4478                   \\\\\n",
       "\t Executive                &  4311                   \\\\\n",
       "\t Teacher                  &  3759                   \\\\\n",
       "\t Administrative Assistant &  3688                   \\\\\n",
       "\t Analyst                  &  3602                   \\\\\n",
       "\t Sales - Commission       &  3446                   \\\\\n",
       "\t Accountant/CPA           &  3233                   \\\\\n",
       "\t Clerical                 &  3164                   \\\\\n",
       "\\end{tabular}\n"
      ],
      "text/markdown": [
       "\n",
       "Occupation | count | \n",
       "|---|---|---|---|---|---|---|---|---|---|\n",
       "| Other                    | 28617                    | \n",
       "| Professional             | 13628                    | \n",
       "| Computer Programmer      |  4478                    | \n",
       "| Executive                |  4311                    | \n",
       "| Teacher                  |  3759                    | \n",
       "| Administrative Assistant |  3688                    | \n",
       "| Analyst                  |  3602                    | \n",
       "| Sales - Commission       |  3446                    | \n",
       "| Accountant/CPA           |  3233                    | \n",
       "| Clerical                 |  3164                    | \n",
       "\n",
       "\n"
      ],
      "text/plain": [
       "   Occupation               count\n",
       "1  Other                    28617\n",
       "2  Professional             13628\n",
       "3  Computer Programmer       4478\n",
       "4  Executive                 4311\n",
       "5  Teacher                   3759\n",
       "6  Administrative Assistant  3688\n",
       "7  Analyst                   3602\n",
       "8  Sales - Commission        3446\n",
       "9  Accountant/CPA            3233\n",
       "10 Clerical                  3164"
      ]
     },
     "metadata": {},
     "output_type": "display_data"
    }
   ],
   "source": [
    "loans %>% \n",
    "group_by(Occupation) %>%\n",
    "filter(Occupation != \"\") %>%\n",
    "summarise(count = n()) %>%\n",
    "arrange(desc(count)) %>%\n",
    "filter(count > 3000)"
   ]
  },
  {
   "cell_type": "markdown",
   "metadata": {
    "deletable": true,
    "editable": true
   },
   "source": [
    "Again, to see if any occupation actually had an undue number of loans we would have to get an estimate of how many people had each job in the population. Still, categorical variables like this are always interesting to look at since they put a human face on our data. "
   ]
  },
  {
   "cell_type": "markdown",
   "metadata": {
    "deletable": true,
    "editable": true
   },
   "source": [
    "## Employment Status"
   ]
  },
  {
   "cell_type": "code",
   "execution_count": 11,
   "metadata": {
    "collapsed": false,
    "deletable": true,
    "editable": true
   },
   "outputs": [
    {
     "data": {
      "text/html": [
       "<table>\n",
       "<thead><tr><th scope=col>EmploymentStatus</th><th scope=col>count</th></tr></thead>\n",
       "<tbody>\n",
       "\t<tr><td>Employed     </td><td>67322        </td></tr>\n",
       "\t<tr><td>Full-time    </td><td>26355        </td></tr>\n",
       "\t<tr><td>Self-employed</td><td> 6134        </td></tr>\n",
       "\t<tr><td>Not available</td><td> 5347        </td></tr>\n",
       "\t<tr><td>Other        </td><td> 3806        </td></tr>\n",
       "\t<tr><td>             </td><td> 2255        </td></tr>\n",
       "\t<tr><td>Part-time    </td><td> 1088        </td></tr>\n",
       "\t<tr><td>Not employed </td><td>  835        </td></tr>\n",
       "\t<tr><td>Retired      </td><td>  795        </td></tr>\n",
       "</tbody>\n",
       "</table>\n"
      ],
      "text/latex": [
       "\\begin{tabular}{r|ll}\n",
       " EmploymentStatus & count\\\\\n",
       "\\hline\n",
       "\t Employed      & 67322        \\\\\n",
       "\t Full-time     & 26355        \\\\\n",
       "\t Self-employed &  6134        \\\\\n",
       "\t Not available &  5347        \\\\\n",
       "\t Other         &  3806        \\\\\n",
       "\t               &  2255        \\\\\n",
       "\t Part-time     &  1088        \\\\\n",
       "\t Not employed  &   835        \\\\\n",
       "\t Retired       &   795        \\\\\n",
       "\\end{tabular}\n"
      ],
      "text/markdown": [
       "\n",
       "EmploymentStatus | count | \n",
       "|---|---|---|---|---|---|---|---|---|\n",
       "| Employed      | 67322         | \n",
       "| Full-time     | 26355         | \n",
       "| Self-employed |  6134         | \n",
       "| Not available |  5347         | \n",
       "| Other         |  3806         | \n",
       "|               |  2255         | \n",
       "| Part-time     |  1088         | \n",
       "| Not employed  |   835         | \n",
       "| Retired       |   795         | \n",
       "\n",
       "\n"
      ],
      "text/plain": [
       "  EmploymentStatus count\n",
       "1 Employed         67322\n",
       "2 Full-time        26355\n",
       "3 Self-employed     6134\n",
       "4 Not available     5347\n",
       "5 Other             3806\n",
       "6                   2255\n",
       "7 Part-time         1088\n",
       "8 Not employed       835\n",
       "9 Retired            795"
      ]
     },
     "metadata": {},
     "output_type": "display_data"
    }
   ],
   "source": [
    "loans %>%\n",
    "group_by(EmploymentStatus) %>%\n",
    "summarise(count=n()) %>%\n",
    "arrange(desc(count))"
   ]
  },
  {
   "cell_type": "markdown",
   "metadata": {
    "deletable": true,
    "editable": true
   },
   "source": [
    "Oh, so many questions here.  \n",
    "Are some of these categories subsets of other categories? (ie Does 'Employed = Full-time+Part-Time+Self Employed\"? Let's try to find out."
   ]
  },
  {
   "cell_type": "code",
   "execution_count": 12,
   "metadata": {
    "collapsed": false,
    "deletable": true,
    "editable": true
   },
   "outputs": [
    {
     "data": {
      "text/html": [
       "<ol class=list-inline>\n",
       "\t<li>Self-employed</li>\n",
       "\t<li>Employed</li>\n",
       "\t<li>Not available</li>\n",
       "\t<li>Full-time</li>\n",
       "\t<li>Other</li>\n",
       "\t<li></li>\n",
       "\t<li>Not employed</li>\n",
       "\t<li>Part-time</li>\n",
       "\t<li>Retired</li>\n",
       "</ol>\n"
      ],
      "text/latex": [
       "\\begin{enumerate*}\n",
       "\\item Self-employed\n",
       "\\item Employed\n",
       "\\item Not available\n",
       "\\item Full-time\n",
       "\\item Other\n",
       "\\item \n",
       "\\item Not employed\n",
       "\\item Part-time\n",
       "\\item Retired\n",
       "\\end{enumerate*}\n"
      ],
      "text/markdown": [
       "1. Self-employed\n",
       "2. Employed\n",
       "3. Not available\n",
       "4. Full-time\n",
       "5. Other\n",
       "6. \n",
       "7. Not employed\n",
       "8. Part-time\n",
       "9. Retired\n",
       "\n",
       "\n"
      ],
      "text/plain": [
       "[1] Self-employed Employed      Not available Full-time     Other        \n",
       "[6]               Not employed  Part-time     Retired      \n",
       "9 Levels:  Employed Full-time Not available Not employed Other ... Self-employed"
      ]
     },
     "metadata": {},
     "output_type": "display_data"
    }
   ],
   "source": [
    "unique(loans$EmploymentStatus)"
   ]
  },
  {
   "cell_type": "code",
   "execution_count": 17,
   "metadata": {
    "collapsed": false,
    "deletable": true,
    "editable": true
   },
   "outputs": [
    {
     "data": {
      "text/html": [
       "<table>\n",
       "<thead><tr><th scope=col>Self_Full_Or_Part_time</th></tr></thead>\n",
       "<tbody>\n",
       "\t<tr><td>33577</td></tr>\n",
       "</tbody>\n",
       "</table>\n"
      ],
      "text/latex": [
       "\\begin{tabular}{r|l}\n",
       " Self\\_Full\\_Or\\_Part\\_time\\\\\n",
       "\\hline\n",
       "\t 33577\\\\\n",
       "\\end{tabular}\n"
      ],
      "text/markdown": [
       "\n",
       "Self_Full_Or_Part_time | \n",
       "|---|\n",
       "| 33577 | \n",
       "\n",
       "\n"
      ],
      "text/plain": [
       "  Self_Full_Or_Part_time\n",
       "1 33577                 "
      ]
     },
     "metadata": {},
     "output_type": "display_data"
    },
    {
     "data": {
      "text/html": [
       "<table>\n",
       "<thead><tr><th scope=col>Employed</th></tr></thead>\n",
       "<tbody>\n",
       "\t<tr><td>67322</td></tr>\n",
       "</tbody>\n",
       "</table>\n"
      ],
      "text/latex": [
       "\\begin{tabular}{r|l}\n",
       " Employed\\\\\n",
       "\\hline\n",
       "\t 67322\\\\\n",
       "\\end{tabular}\n"
      ],
      "text/markdown": [
       "\n",
       "Employed | \n",
       "|---|\n",
       "| 67322 | \n",
       "\n",
       "\n"
      ],
      "text/plain": [
       "  Employed\n",
       "1 67322   "
      ]
     },
     "metadata": {},
     "output_type": "display_data"
    }
   ],
   "source": [
    "loans %>% \n",
    "filter(EmploymentStatus %in% c('Self-employed','Full-time','Part-time')) %>%\n",
    "summarise(Self_Full_Or_Part_time = n())\n",
    "\n",
    "loans %>%\n",
    "filter(EmploymentStatus == 'Employed') %>%\n",
    "summarise(Employed = n())"
   ]
  },
  {
   "cell_type": "markdown",
   "metadata": {
    "deletable": true,
    "editable": true
   },
   "source": [
    "Even with the addition of 'Other' and the NULLs the categories would not approach the number of employment. The way these categories are split up makes this variable less usefull."
   ]
  },
  {
   "cell_type": "markdown",
   "metadata": {
    "deletable": true,
    "editable": true
   },
   "source": [
    "## EmploymentStatusDuration"
   ]
  },
  {
   "cell_type": "code",
   "execution_count": 18,
   "metadata": {
    "collapsed": false,
    "deletable": true,
    "editable": true
   },
   "outputs": [
    {
     "data": {
      "text/plain": [
       "   Min. 1st Qu.  Median    Mean 3rd Qu.    Max.    NA's \n",
       "   0.00   26.00   67.00   96.07  137.00  755.00    7625 "
      ]
     },
     "metadata": {},
     "output_type": "display_data"
    }
   ],
   "source": [
    "summary(loans$EmploymentStatusDuration)"
   ]
  },
  {
   "cell_type": "code",
   "execution_count": 19,
   "metadata": {
    "collapsed": false,
    "deletable": true,
    "editable": true
   },
   "outputs": [
    {
     "name": "stderr",
     "output_type": "stream",
     "text": [
      "`stat_bin()` using `bins = 30`. Pick better value with `binwidth`.\n",
      "Warning message:\n",
      "\"Removed 7625 rows containing non-finite values (stat_bin).\""
     ]
    },
    {
     "data": {},
     "metadata": {},
     "output_type": "display_data"
    },
    {
     "data": {
      "image/png": "[encoded data removed]",
      "text/plain": [
       "plot without title"
      ]
     },
     "metadata": {},
     "output_type": "display_data"
    }
   ],
   "source": [
    "ggplot(loans, aes(EmploymentStatusDuration)) + geom_histogram()"
   ]
  },
  {
   "cell_type": "code",
   "execution_count": 20,
   "metadata": {
    "collapsed": false,
    "deletable": true,
    "editable": true
   },
   "outputs": [
    {
     "data": {
      "text/html": [
       "<table>\n",
       "<thead><tr><th scope=col>status.mean</th><th scope=col>status.median</th><th scope=col>status.min</th><th scope=col>status.max</th></tr></thead>\n",
       "<tbody>\n",
       "\t<tr><td>8.005965</td><td>5.583333</td><td>0       </td><td>62.91667</td></tr>\n",
       "</tbody>\n",
       "</table>\n"
      ],
      "text/latex": [
       "\\begin{tabular}{r|llll}\n",
       " status.mean & status.median & status.min & status.max\\\\\n",
       "\\hline\n",
       "\t 8.005965 & 5.583333 & 0        & 62.91667\\\\\n",
       "\\end{tabular}\n"
      ],
      "text/markdown": [
       "\n",
       "status.mean | status.median | status.min | status.max | \n",
       "|---|\n",
       "| 8.005965 | 5.583333 | 0        | 62.91667 | \n",
       "\n",
       "\n"
      ],
      "text/plain": [
       "  status.mean status.median status.min status.max\n",
       "1 8.005965    5.583333      0          62.91667  "
      ]
     },
     "metadata": {},
     "output_type": "display_data"
    }
   ],
   "source": [
    "summarise(loans, status.mean = mean(EmploymentStatusDuration, na.rm=TRUE)/12,\n",
    "         status.median = median(EmploymentStatusDuration, na.rm = TRUE)/12,\n",
    "         status.min = min(EmploymentStatusDuration, na.rm = TRUE)/12,\n",
    "         status.max = max(EmploymentStatusDuration, na.rm = TRUE)/12)\n",
    "#todo"
   ]
  },
  {
   "cell_type": "markdown",
   "metadata": {
    "deletable": true,
    "editable": true
   },
   "source": [
    "Looks like someone claims to have worked somewhere for almost 63 years! Maybe they're saying the've been employed for 63 years straight. This distribution is what we would expect to see, with the exception of the responders who sayed thier duration was 0 months."
   ]
  },
  {
   "cell_type": "markdown",
   "metadata": {
    "deletable": true,
    "editable": true
   },
   "source": [
    "## Credit Score"
   ]
  },
  {
   "cell_type": "markdown",
   "metadata": {
    "deletable": true,
    "editable": true
   },
   "source": [
    "Credit Range Upper and Lower. I would like to know the interval within score for each person."
   ]
  },
  {
   "cell_type": "code",
   "execution_count": 23,
   "metadata": {
    "collapsed": false,
    "deletable": true,
    "editable": true
   },
   "outputs": [
    {
     "data": {
      "text/html": [
       "<ol class=list-inline>\n",
       "\t<li>659</li>\n",
       "\t<li>699</li>\n",
       "\t<li>499</li>\n",
       "\t<li>819</li>\n",
       "\t<li>699</li>\n",
       "\t<li>759</li>\n",
       "</ol>\n"
      ],
      "text/latex": [
       "\\begin{enumerate*}\n",
       "\\item 659\n",
       "\\item 699\n",
       "\\item 499\n",
       "\\item 819\n",
       "\\item 699\n",
       "\\item 759\n",
       "\\end{enumerate*}\n"
      ],
      "text/markdown": [
       "1. 659\n",
       "2. 699\n",
       "3. 499\n",
       "4. 819\n",
       "5. 699\n",
       "6. 759\n",
       "\n",
       "\n"
      ],
      "text/plain": [
       "[1] 659 699 499 819 699 759"
      ]
     },
     "metadata": {},
     "output_type": "display_data"
    }
   ],
   "source": [
    "head(loans$CreditScoreRangeUpper)"
   ]
  },
  {
   "cell_type": "code",
   "execution_count": 6,
   "metadata": {
    "collapsed": false
   },
   "outputs": [
    {
     "data": {
      "text/plain": [
       "   Min. 1st Qu.  Median    Mean 3rd Qu.    Max.    NA's \n",
       "   19.0   679.0   699.0   704.6   739.0   899.0     591 "
      ]
     },
     "metadata": {},
     "output_type": "display_data"
    }
   ],
   "source": [
    "summary(loans$CreditScoreRangeUpper)"
   ]
  },
  {
   "cell_type": "markdown",
   "metadata": {},
   "source": [
    "Interesting that there are Credit Scores under 300, which I know is the lowest CreditScore you can have."
   ]
  },
  {
   "cell_type": "code",
   "execution_count": 4,
   "metadata": {
    "collapsed": false
   },
   "outputs": [
    {
     "data": {
      "text/html": [
       "<table>\n",
       "<thead><tr><th scope=col>int_mean</th><th scope=col>int_median</th><th scope=col>int_max</th><th scope=col>int_min</th></tr></thead>\n",
       "<tbody>\n",
       "\t<tr><td>19</td><td>19</td><td>19</td><td>19</td></tr>\n",
       "</tbody>\n",
       "</table>\n"
      ],
      "text/latex": [
       "\\begin{tabular}{r|llll}\n",
       " int\\_mean & int\\_median & int\\_max & int\\_min\\\\\n",
       "\\hline\n",
       "\t 19 & 19 & 19 & 19\\\\\n",
       "\\end{tabular}\n"
      ],
      "text/markdown": [
       "\n",
       "int_mean | int_median | int_max | int_min | \n",
       "|---|\n",
       "| 19 | 19 | 19 | 19 | \n",
       "\n",
       "\n"
      ],
      "text/plain": [
       "  int_mean int_median int_max int_min\n",
       "1 19       19         19      19     "
      ]
     },
     "metadata": {},
     "output_type": "display_data"
    }
   ],
   "source": [
    "loans %>%\n",
    "select(CreditScoreRangeLower, CreditScoreRangeUpper) %>%\n",
    "mutate(interval =  CreditScoreRangeUpper - CreditScoreRangeLower) %>%\n",
    "summarise(int_mean = mean(interval, na.rm=TRUE),\n",
    "         int_median = median(interval, na.rm=TRUE),\n",
    "         int_max = max(interval, na.rm=TRUE),\n",
    "         int_min = min(interval, na.rm=TRUE))"
   ]
  },
  {
   "cell_type": "markdown",
   "metadata": {},
   "source": [
    "Surprisingly it is the same for every person, which saves me the trouble of constructing a variable to represent their mean."
   ]
  },
  {
   "cell_type": "code",
   "execution_count": 5,
   "metadata": {
    "collapsed": false,
    "deletable": true,
    "editable": true
   },
   "outputs": [
    {
     "name": "stderr",
     "output_type": "stream",
     "text": [
      "Warning message:\n",
      "\"Removed 591 rows containing non-finite values (stat_bin).\""
     ]
    },
    {
     "data": {},
     "metadata": {},
     "output_type": "display_data"
    },
    {
     "data": {
      "image/png": "[encoded data removed]",
      "text/plain": [
       "plot without title"
      ]
     },
     "metadata": {},
     "output_type": "display_data"
    }
   ],
   "source": [
    "ggplot(loans, aes(CreditScoreRangeUpper)) + \n",
    "geom_histogram(binwidth=5) + \n",
    "coord_cartesian(xlim=c(450,900))\n",
    "#Zooming in to take because Credit Score of 0 ruins scale of histogram."
   ]
  },
  {
   "cell_type": "markdown",
   "metadata": {
    "deletable": true,
    "editable": true
   },
   "source": [
    "The two bumps in credit score here remind me of the bumps in APR/Rate. I'm sure there is a correlation there - more people with the same credit score more people with the same rate. I wonder how Prosper comes up with their score, is it just Fico or something more? Also it would be interesting to see what credit score distribution looks like in the general population."
   ]
  },
  {
   "cell_type": "markdown",
   "metadata": {
    "deletable": true,
    "editable": true
   },
   "source": [
    "## Lender Yield"
   ]
  },
  {
   "cell_type": "code",
   "execution_count": 7,
   "metadata": {
    "collapsed": false,
    "deletable": true,
    "editable": true
   },
   "outputs": [
    {
     "data": {
      "text/plain": [
       "   Min. 1st Qu.  Median    Mean 3rd Qu.    Max. \n",
       "-0.0100  0.1242  0.1730  0.1827  0.2400  0.4925 "
      ]
     },
     "metadata": {},
     "output_type": "display_data"
    }
   ],
   "source": [
    "#Lender Yield\n",
    "summary(loans$LenderYield)"
   ]
  },
  {
   "cell_type": "code",
   "execution_count": 8,
   "metadata": {
    "collapsed": false,
    "deletable": true,
    "editable": true
   },
   "outputs": [
    {
     "data": {},
     "metadata": {},
     "output_type": "display_data"
    },
    {
     "data": {
      "image/png": "[encoded data removed]",
      "text/plain": [
       "plot without title"
      ]
     },
     "metadata": {},
     "output_type": "display_data"
    }
   ],
   "source": [
    "ggplot(loans, aes(LenderYield)) + geom_histogram(binwidth = .01)"
   ]
  },
  {
   "cell_type": "markdown",
   "metadata": {
    "deletable": true,
    "editable": true
   },
   "source": [
    "The same spike that exists in the other Rate plots exists her at around 30%. Hard to know if this is a pricing strategy, or a rate that is popular for other reasons. It is roughly equivalent to a credit card. The max is slightly under the max borrower rate, so fees paid to Prosper must not be included in this number."
   ]
  },
  {
   "cell_type": "markdown",
   "metadata": {},
   "source": [
    "## Income Range"
   ]
  },
  {
   "cell_type": "code",
   "execution_count": 10,
   "metadata": {
    "collapsed": false,
    "deletable": true,
    "editable": true
   },
   "outputs": [],
   "source": [
    "loans$IncomeRange <- factor(loans$IncomeRange, levels = c('$0', '$1-24,999', '$25,000-49,999', \n",
    "                                                            '$50,000-74,999', '$75,000-99,999',  \n",
    "                                                            '$100,000+', 'Not displayed', 'Not employed'))"
   ]
  },
  {
   "cell_type": "code",
   "execution_count": 11,
   "metadata": {
    "collapsed": false,
    "deletable": true,
    "editable": true
   },
   "outputs": [
    {
     "data": {},
     "metadata": {},
     "output_type": "display_data"
    },
    {
     "data": {
      "image/png": "[encoded data removed]",
      "text/plain": [
       "plot without title"
      ]
     },
     "metadata": {},
     "output_type": "display_data"
    }
   ],
   "source": [
    "loans %>%\n",
    "filter(!IncomeRange %in% c('Not displayed', 'Not employed')) %>%\n",
    "ggplot(aes(IncomeRange)) + geom_bar() +\n",
    "theme(axis.text.x = element_text(angle = 45, hjust = 1))"
   ]
  },
  {
   "cell_type": "code",
   "execution_count": null,
   "metadata": {
    "collapsed": true,
    "deletable": true,
    "editable": true
   },
   "outputs": [],
   "source": [
    "#Todo: investigate loans made to people with $0 income."
   ]
  },
  {
   "cell_type": "markdown",
   "metadata": {},
   "source": [
    "## Income Verifiable"
   ]
  },
  {
   "cell_type": "code",
   "execution_count": 11,
   "metadata": {
    "collapsed": false,
    "deletable": true,
    "editable": true
   },
   "outputs": [
    {
     "data": {},
     "metadata": {},
     "output_type": "display_data"
    },
    {
     "data": {
      "image/png": "[encoded data removed]",
      "text/plain": [
       "plot without title"
      ]
     },
     "metadata": {},
     "output_type": "display_data"
    }
   ],
   "source": [
    "ggplot(loans, aes(IncomeVerifiable)) + geom_bar()"
   ]
  },
  {
   "cell_type": "markdown",
   "metadata": {},
   "source": [
    "Looks like most loans go to people with verifiable incomes. Todo:\n",
    "Wonder what the non-verified loans look like, and what the distribution of IncomeRanges changes to. "
   ]
  },
  {
   "cell_type": "code",
   "execution_count": 12,
   "metadata": {
    "collapsed": false
   },
   "outputs": [
    {
     "data": {},
     "metadata": {},
     "output_type": "display_data"
    },
    {
     "data": {
      "image/png": "[encoded data removed]",
      "text/plain": [
       "plot without title"
      ]
     },
     "metadata": {},
     "output_type": "display_data"
    }
   ],
   "source": [
    "loans %>% \n",
    "filter(IncomeVerifiable == 'False') %>% \n",
    "filter(!IncomeRange %in% c('Not displayed', 'Not employed')) %>%\n",
    "ggplot(aes(IncomeRange)) + geom_bar() + theme(axis.text.x = element_text(angle = 45, hjust = 1))"
   ]
  },
  {
   "cell_type": "markdown",
   "metadata": {},
   "source": [
    "The distribution of IncomeRanges for non-verified incomes is slightly different from the verified incomes. Seems like $100k+ gets a bump upwards in particular."
   ]
  },
  {
   "cell_type": "markdown",
   "metadata": {},
   "source": [
    "## Monthly Loan Payment"
   ]
  },
  {
   "cell_type": "code",
   "execution_count": 13,
   "metadata": {
    "collapsed": false,
    "deletable": true,
    "editable": true
   },
   "outputs": [
    {
     "data": {
      "text/plain": [
       "   Min. 1st Qu.  Median    Mean 3rd Qu.    Max. \n",
       "    0.0   131.6   217.7   272.5   371.6  2252.0 "
      ]
     },
     "metadata": {},
     "output_type": "display_data"
    }
   ],
   "source": [
    "summary(loans$MonthlyLoanPayment)"
   ]
  },
  {
   "cell_type": "code",
   "execution_count": 16,
   "metadata": {
    "collapsed": false,
    "deletable": true,
    "editable": true
   },
   "outputs": [
    {
     "data": {},
     "metadata": {},
     "output_type": "display_data"
    },
    {
     "data": {
      "image/png": "[encoded data removed]",
      "text/plain": [
       "plot without title"
      ]
     },
     "metadata": {},
     "output_type": "display_data"
    }
   ],
   "source": [
    "monthly_payment <- ggplot(loans, aes(MonthlyLoanPayment)) + geom_histogram(bins=100)\n",
    "monthly_payment"
   ]
  },
  {
   "cell_type": "markdown",
   "metadata": {},
   "source": [
    "Looks like there's a big outlier there with our max  22252. But our histogram makes it hard to see this. Let's zoom in on the bulk of the payments."
   ]
  },
  {
   "cell_type": "code",
   "execution_count": 17,
   "metadata": {
    "collapsed": false,
    "deletable": true,
    "editable": true
   },
   "outputs": [
    {
     "data": {},
     "metadata": {},
     "output_type": "display_data"
    },
    {
     "data": {
      "image/png": "[encoded data removed]",
      "text/plain": [
       "plot without title"
      ]
     },
     "metadata": {},
     "output_type": "display_data"
    }
   ],
   "source": [
    "monthly_payment + coord_cartesian(c(0,1250))"
   ]
  },
  {
   "cell_type": "markdown",
   "metadata": {
    "deletable": true,
    "editable": true
   },
   "source": [
    "After 200 there is a sharp drop off in monthly payments. Perhaps there is some sort of sales tactic there, or a correlation with a common loan amount."
   ]
  },
  {
   "cell_type": "markdown",
   "metadata": {},
   "source": [
    "## Loan Original Amount"
   ]
  },
  {
   "cell_type": "code",
   "execution_count": 18,
   "metadata": {
    "collapsed": false,
    "deletable": true,
    "editable": true
   },
   "outputs": [
    {
     "data": {
      "text/plain": [
       "   Min. 1st Qu.  Median    Mean 3rd Qu.    Max. \n",
       "   1000    4000    6500    8337   12000   35000 "
      ]
     },
     "metadata": {},
     "output_type": "display_data"
    },
    {
     "data": {},
     "metadata": {},
     "output_type": "display_data"
    },
    {
     "data": {
      "image/png": "[encoded data removed]",
      "text/plain": [
       "plot without title"
      ]
     },
     "metadata": {},
     "output_type": "display_data"
    }
   ],
   "source": [
    "summary(loans$LoanOriginalAmount)\n",
    "ggplot(loans, aes(LoanOriginalAmount)) + geom_histogram(bins=100)"
   ]
  },
  {
   "cell_type": "markdown",
   "metadata": {},
   "source": [
    "We can see that Loan Amounts tend to be in whole numbers. Let's see the most common loan amounts."
   ]
  },
  {
   "cell_type": "code",
   "execution_count": 19,
   "metadata": {
    "collapsed": false
   },
   "outputs": [
    {
     "data": {
      "text/html": [
       "<table>\n",
       "<thead><tr><th scope=col>LoanOriginalAmount</th><th scope=col>count</th></tr></thead>\n",
       "<tbody>\n",
       "\t<tr><td> 4000</td><td>14333</td></tr>\n",
       "\t<tr><td>15000</td><td>12407</td></tr>\n",
       "\t<tr><td>10000</td><td>11106</td></tr>\n",
       "\t<tr><td> 5000</td><td> 6990</td></tr>\n",
       "\t<tr><td> 2000</td><td> 6067</td></tr>\n",
       "\t<tr><td> 3000</td><td> 5749</td></tr>\n",
       "\t<tr><td>25000</td><td> 3630</td></tr>\n",
       "\t<tr><td>20000</td><td> 3291</td></tr>\n",
       "\t<tr><td> 1000</td><td> 3206</td></tr>\n",
       "</tbody>\n",
       "</table>\n"
      ],
      "text/latex": [
       "\\begin{tabular}{r|ll}\n",
       " LoanOriginalAmount & count\\\\\n",
       "\\hline\n",
       "\t  4000 & 14333\\\\\n",
       "\t 15000 & 12407\\\\\n",
       "\t 10000 & 11106\\\\\n",
       "\t  5000 &  6990\\\\\n",
       "\t  2000 &  6067\\\\\n",
       "\t  3000 &  5749\\\\\n",
       "\t 25000 &  3630\\\\\n",
       "\t 20000 &  3291\\\\\n",
       "\t  1000 &  3206\\\\\n",
       "\\end{tabular}\n"
      ],
      "text/markdown": [
       "\n",
       "LoanOriginalAmount | count | \n",
       "|---|---|---|---|---|---|---|---|---|\n",
       "|  4000 | 14333 | \n",
       "| 15000 | 12407 | \n",
       "| 10000 | 11106 | \n",
       "|  5000 |  6990 | \n",
       "|  2000 |  6067 | \n",
       "|  3000 |  5749 | \n",
       "| 25000 |  3630 | \n",
       "| 20000 |  3291 | \n",
       "|  1000 |  3206 | \n",
       "\n",
       "\n"
      ],
      "text/plain": [
       "  LoanOriginalAmount count\n",
       "1  4000              14333\n",
       "2 15000              12407\n",
       "3 10000              11106\n",
       "4  5000               6990\n",
       "5  2000               6067\n",
       "6  3000               5749\n",
       "7 25000               3630\n",
       "8 20000               3291\n",
       "9  1000               3206"
      ]
     },
     "metadata": {},
     "output_type": "display_data"
    }
   ],
   "source": [
    "loans %>%\n",
    "group_by(LoanOriginalAmount) %>%\n",
    "summarise(count = n()) %>%\n",
    "filter(count > 3000) %>%\n",
    "arrange(desc(count))"
   ]
  },
  {
   "cell_type": "code",
   "execution_count": 1,
   "metadata": {
    "collapsed": false
   },
   "outputs": [
    {
     "ename": "ERROR",
     "evalue": "Error in eval(expr, envir, enclos): could not find function \"%>%\"\n",
     "output_type": "error",
     "traceback": [
      "Error in eval(expr, envir, enclos): could not find function \"%>%\"\nTraceback:\n"
     ]
    }
   ],
   "source": [
    "loans %>%\n",
    "ggplot(aes(LoanOriginalAmount)) + geom_density()"
   ]
  },
  {
   "cell_type": "markdown",
   "metadata": {
    "deletable": true,
    "editable": true
   },
   "source": [
    "## Percent Funded"
   ]
  },
  {
   "cell_type": "code",
   "execution_count": 20,
   "metadata": {
    "collapsed": false,
    "deletable": true,
    "editable": true
   },
   "outputs": [
    {
     "data": {
      "text/plain": [
       "   Min. 1st Qu.  Median    Mean 3rd Qu.    Max. \n",
       " 0.7000  1.0000  1.0000  0.9986  1.0000  1.0120 "
      ]
     },
     "metadata": {},
     "output_type": "display_data"
    },
    {
     "name": "stderr",
     "output_type": "stream",
     "text": [
      "`stat_bin()` using `bins = 30`. Pick better value with `binwidth`.\n"
     ]
    },
    {
     "data": {},
     "metadata": {},
     "output_type": "display_data"
    },
    {
     "data": {
      "image/png": "[encoded data removed]",
      "text/plain": [
       "plot without title"
      ]
     },
     "metadata": {},
     "output_type": "display_data"
    }
   ],
   "source": [
    "summary(loans$PercentFunded)\n",
    "ggplot(loans, aes(PercentFunded)) + geom_histogram()"
   ]
  },
  {
   "cell_type": "markdown",
   "metadata": {
    "deletable": true,
    "editable": true
   },
   "source": [
    "OK, so it looks like the vast percentage were 100% funded (or they probably wouldn't be in this dataset!) Let's take a closer look at those that weren't.  \n",
    "Also, it looks like minimally 70% of the loans in the set were funded. Maybe that is Prosper's cutoff?"
   ]
  },
  {
   "cell_type": "code",
   "execution_count": 21,
   "metadata": {
    "collapsed": false,
    "deletable": true,
    "editable": true
   },
   "outputs": [
    {
     "data": {},
     "metadata": {},
     "output_type": "display_data"
    },
    {
     "data": {
      "image/png": "[encoded data removed]",
      "text/plain": [
       "plot without title"
      ]
     },
     "metadata": {},
     "output_type": "display_data"
    }
   ],
   "source": [
    "loans %>%\n",
    "filter(PercentFunded < 1) %>%\n",
    "ggplot(aes(PercentFunded)) + geom_histogram(bins=30)"
   ]
  },
  {
   "cell_type": "markdown",
   "metadata": {},
   "source": [
    "The only thing I see for sure here is that of the loans that do not get 100% funded, many are 70% funded, and the amount at each precentage from 70-99% trends downward until it hits 100%, where most of the loans reside. Tis could be interprested as the higher your funding percentage the more likely you are to be funded 100%."
   ]
  },
  {
   "cell_type": "code",
   "execution_count": 22,
   "metadata": {
    "collapsed": false
   },
   "outputs": [
    {
     "data": {},
     "metadata": {},
     "output_type": "display_data"
    },
    {
     "data": {
      "image/png": "[encoded data removed]",
      "text/plain": [
       "plot without title"
      ]
     },
     "metadata": {},
     "output_type": "display_data"
    }
   ],
   "source": [
    "loans %>%\n",
    "filter(PercentFunded < 1) %>%\n",
    "ggplot(aes(PercentFunded)) + geom_density()"
   ]
  },
  {
   "cell_type": "markdown",
   "metadata": {},
   "source": [
    "## Number of Investors"
   ]
  },
  {
   "cell_type": "code",
   "execution_count": 23,
   "metadata": {
    "collapsed": false,
    "deletable": true,
    "editable": true
   },
   "outputs": [
    {
     "data": {
      "text/plain": [
       "   Min. 1st Qu.  Median    Mean 3rd Qu.    Max. \n",
       "   1.00    2.00   44.00   80.48  115.00 1189.00 "
      ]
     },
     "metadata": {},
     "output_type": "display_data"
    }
   ],
   "source": [
    "summary(loans$Investors)"
   ]
  },
  {
   "cell_type": "markdown",
   "metadata": {
    "deletable": true,
    "editable": true
   },
   "source": [
    "Should be related to the size of the loan."
   ]
  },
  {
   "cell_type": "code",
   "execution_count": 24,
   "metadata": {
    "collapsed": false,
    "deletable": true,
    "editable": true
   },
   "outputs": [
    {
     "data": {},
     "metadata": {},
     "output_type": "display_data"
    },
    {
     "data": {
      "image/png": "[encoded data removed]",
      "text/plain": [
       "plot without title"
      ]
     },
     "metadata": {},
     "output_type": "display_data"
    }
   ],
   "source": [
    "ggplot(loans, aes(Investors)) + geom_histogram(bins=100)"
   ]
  },
  {
   "cell_type": "markdown",
   "metadata": {
    "deletable": true,
    "editable": true
   },
   "source": [
    "Wow, in a a platform that lets you pool your risk with other investors, a vast majority of loans still only have 1 investor."
   ]
  },
  {
   "cell_type": "code",
   "execution_count": 25,
   "metadata": {
    "collapsed": false,
    "deletable": true,
    "editable": true
   },
   "outputs": [
    {
     "data": {
      "text/html": [
       "<table>\n",
       "<thead><tr><th scope=col>Investors</th><th scope=col>count</th></tr></thead>\n",
       "<tbody>\n",
       "\t<tr><td>1    </td><td>27814</td></tr>\n",
       "\t<tr><td>2    </td><td> 1386</td></tr>\n",
       "\t<tr><td>3    </td><td>  991</td></tr>\n",
       "\t<tr><td>4    </td><td>  827</td></tr>\n",
       "\t<tr><td>5    </td><td>  753</td></tr>\n",
       "</tbody>\n",
       "</table>\n"
      ],
      "text/latex": [
       "\\begin{tabular}{r|ll}\n",
       " Investors & count\\\\\n",
       "\\hline\n",
       "\t 1     & 27814\\\\\n",
       "\t 2     &  1386\\\\\n",
       "\t 3     &   991\\\\\n",
       "\t 4     &   827\\\\\n",
       "\t 5     &   753\\\\\n",
       "\\end{tabular}\n"
      ],
      "text/markdown": [
       "\n",
       "Investors | count | \n",
       "|---|---|---|---|---|\n",
       "| 1     | 27814 | \n",
       "| 2     |  1386 | \n",
       "| 3     |   991 | \n",
       "| 4     |   827 | \n",
       "| 5     |   753 | \n",
       "\n",
       "\n"
      ],
      "text/plain": [
       "  Investors count\n",
       "1 1         27814\n",
       "2 2          1386\n",
       "3 3           991\n",
       "4 4           827\n",
       "5 5           753"
      ]
     },
     "metadata": {},
     "output_type": "display_data"
    }
   ],
   "source": [
    "loans %>%\n",
    "group_by(Investors) %>%\n",
    "summarise(count = n()) %>%\n",
    "filter(Investors <= 5)"
   ]
  },
  {
   "cell_type": "markdown",
   "metadata": {},
   "source": [
    "# Multivariate Exploration"
   ]
  },
  {
   "cell_type": "markdown",
   "metadata": {},
   "source": [
    "## Term and APR"
   ]
  },
  {
   "cell_type": "markdown",
   "metadata": {
    "collapsed": true,
    "deletable": true,
    "editable": true
   },
   "source": [
    "1 - Term \n",
    "#####LoanStatus = Need tto group loans efffectively first\n",
    "#####Income Range\n",
    "#####Loan Amount"
   ]
  },
  {
   "cell_type": "code",
   "execution_count": 26,
   "metadata": {
    "collapsed": false,
    "deletable": true,
    "editable": true
   },
   "outputs": [
    {
     "name": "stderr",
     "output_type": "stream",
     "text": [
      "Warning message:\n",
      "\"Removed 25 rows containing non-finite values (stat_boxplot).\""
     ]
    },
    {
     "data": {},
     "metadata": {},
     "output_type": "display_data"
    },
    {
     "data": {
      "image/png": "[encoded data removed]",
      "text/plain": [
       "plot without title"
      ]
     },
     "metadata": {},
     "output_type": "display_data"
    }
   ],
   "source": [
    "ggplot(loans, aes(group=Term, x=Term/12, y=BorrowerAPR)) + geom_boxplot()"
   ]
  },
  {
   "cell_type": "markdown",
   "metadata": {},
   "source": [
    "It seems that the median APR stays about the same over all three terms, though the longest term loans fall in a tighter, lower range."
   ]
  },
  {
   "cell_type": "code",
   "execution_count": 27,
   "metadata": {
    "collapsed": false,
    "deletable": true,
    "editable": true
   },
   "outputs": [
    {
     "data": {},
     "metadata": {},
     "output_type": "display_data"
    },
    {
     "data": {
      "image/png": "[encoded data removed]",
      "text/plain": [
       "plot without title"
      ]
     },
     "metadata": {},
     "output_type": "display_data"
    }
   ],
   "source": [
    "ggplot(loans, aes(group=Term, x=Term/12, y=LenderYield)) + geom_boxplot()"
   ]
  },
  {
   "cell_type": "markdown",
   "metadata": {
    "deletable": true,
    "editable": true
   },
   "source": [
    "Well that's interesting, but in hindsight pretty obvious. Though the median Borrower APR stays flat over the three terms, the expect yield increases. That makes sense though, seeing that given 2 loans of the same amount with the same APR the one with the longer term will have a higgher yield. (More payments, more time to collect interest, etc."
   ]
  },
  {
   "cell_type": "code",
   "execution_count": 28,
   "metadata": {
    "collapsed": false,
    "deletable": true,
    "editable": true
   },
   "outputs": [
    {
     "name": "stderr",
     "output_type": "stream",
     "text": [
      "Warning message:\n",
      "\"Removed 29084 rows containing non-finite values (stat_boxplot).\""
     ]
    },
    {
     "data": {},
     "metadata": {},
     "output_type": "display_data"
    },
    {
     "data": {
      "image/png": "[encoded data removed]",
      "text/plain": [
       "plot without title"
      ]
     },
     "metadata": {},
     "output_type": "display_data"
    }
   ],
   "source": [
    "#Let's look at the same thing for Estimated Effective Yield\n",
    "ggplot(loans, aes(group=Term, x=Term/12, y=EstimatedEffectiveYield)) + geom_boxplot()"
   ]
  },
  {
   "cell_type": "markdown",
   "metadata": {
    "deletable": true,
    "editable": true
   },
   "source": [
    "The term's relationship to one another stay static, but there are a bunch of outliers with negative Estimated Effective Yield, and only in the 3 year term. Let's take a look atht those loans."
   ]
  },
  {
   "cell_type": "code",
   "execution_count": null,
   "metadata": {
    "collapsed": false,
    "deletable": true,
    "editable": true
   },
   "outputs": [],
   "source": [
    "dim(loans)\n",
    "with_income_info <- loans %>%\n",
    "filter(!IncomeRange %in% c('Not displayed','Not employed'))\n",
    "dim(with_income_info)"
   ]
  },
  {
   "cell_type": "code",
   "execution_count": null,
   "metadata": {
    "collapsed": false,
    "deletable": true,
    "editable": true
   },
   "outputs": [],
   "source": [
    "#makes sense to use percentage here, or comparing apples to oranges.\n",
    "#So that is Count of Income Using that Term / Count of People with that Income\n",
    "income_facet <- ggplot(with_income_info, aes(Income Range)) + geom_bar()"
   ]
  },
  {
   "cell_type": "code",
   "execution_count": null,
   "metadata": {
    "collapsed": false,
    "deletable": true,
    "editable": true
   },
   "outputs": [],
   "source": [
    "ggplot(with_income_info, aes(Term, fill=IncomeRange)) + geom_bar(position=\"dodge\") "
   ]
  },
  {
   "cell_type": "code",
   "execution_count": null,
   "metadata": {
    "collapsed": true,
    "deletable": true,
    "editable": true
   },
   "outputs": [],
   "source": []
  },
  {
   "cell_type": "code",
   "execution_count": null,
   "metadata": {
    "collapsed": false,
    "deletable": true,
    "editable": true
   },
   "outputs": [],
   "source": [
    "#plotting term count grouped by incomerange, income range with term \n",
    "p <- with_income_info %>% group_by(IncomeRange) %>% count(Term) %>% arrange(IncomeRange, Term)\n",
    "ggplot(p, aes(Term))+geom_bar()\n",
    "#this deffinitely creates the right table - need to figure out how to plot it\n",
    "#might have to add 12 mo term to 0\n",
    "#OK - so doesn't like trying to plot 'objects of type grouped'. can i ungroup them or r\n",
    "#coerce them into being something else/"
   ]
  },
  {
   "cell_type": "code",
   "execution_count": null,
   "metadata": {
    "collapsed": false,
    "deletable": true,
    "editable": true,
    "scrolled": true
   },
   "outputs": [],
   "source": [
    "ggplot(with_income_info, aes(Term)) + geom_bar() + facet_wrap(~IncomeRange)"
   ]
  },
  {
   "cell_type": "markdown",
   "metadata": {
    "deletable": true,
    "editable": true
   },
   "source": [
    "#these graphs are still deficient because they're absolute, not perncentage /density"
   ]
  },
  {
   "cell_type": "code",
   "execution_count": null,
   "metadata": {
    "collapsed": false,
    "deletable": true,
    "editable": true
   },
   "outputs": [],
   "source": [
    "#for each income bucket, what percentage of loans are which term\n",
    "loans %>%\n",
    "filter(IncomeRange )\n",
    "group_by(IncomeRange, Term) %>%\n",
    "summarise(number_of_loans = n()) %>%\n",
    "mutate(freq = number_of_loans / sum(number_of_loans)) \n"
   ]
  },
  {
   "cell_type": "code",
   "execution_count": null,
   "metadata": {
    "collapsed": false,
    "deletable": true,
    "editable": true
   },
   "outputs": [],
   "source": [
    "#for each income bucket, what percentage of loans are whic term\n",
    "loans %>%\n",
    "select(ListingKey, Term, IncomeRange) %>%\n",
    "group_by(IncomeRange) %>%\n",
    "mutate(number_of_loans = n()) %>%\n",
    "group_by(Term) %>%\n",
    "summarize(percentage_term = n())"
   ]
  }
 ],
 "metadata": {
  "anaconda-cloud": {},
  "kernelspec": {
   "display_name": "R",
   "language": "R",
   "name": "ir"
  },
  "language_info": {
   "codemirror_mode": "r",
   "file_extension": ".r",
   "mimetype": "text/x-r-source",
   "name": "R",
   "pygments_lexer": "r",
   "version": "3.3.2"
  }
 },
 "nbformat": 4,
 "nbformat_minor": 2
}
