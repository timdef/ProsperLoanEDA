{
 "cells": [
  {
   "cell_type": "code",
   "execution_count": 1,
   "metadata": {
    "collapsed": false,
    "deletable": true,
    "editable": true
   },
   "outputs": [
    {
     "data": {
      "text/html": [
       "'prosperLoanData.csv'"
      ],
      "text/latex": [
       "'prosperLoanData.csv'"
      ],
      "text/markdown": [
       "'prosperLoanData.csv'"
      ],
      "text/plain": [
       "[1] \"prosperLoanData.csv\""
      ]
     },
     "metadata": {},
     "output_type": "display_data"
    }
   ],
   "source": [
    "setwd('data')\n",
    "list.files()"
   ]
  },
  {
   "cell_type": "code",
   "execution_count": 2,
   "metadata": {
    "collapsed": false,
    "deletable": true,
    "editable": true
   },
   "outputs": [],
   "source": [
    "# Read data\n",
    "datadf <- read.csv('prosperLoanData.csv')"
   ]
  },
  {
   "cell_type": "code",
   "execution_count": 3,
   "metadata": {
    "collapsed": false,
    "deletable": true,
    "editable": true
   },
   "outputs": [
    {
     "name": "stderr",
     "output_type": "stream",
     "text": [
      "\n",
      "Attaching package: 'dplyr'\n",
      "\n",
      "The following objects are masked from 'package:plyr':\n",
      "\n",
      "    arrange, count, desc, failwith, id, mutate, rename, summarise,\n",
      "    summarize\n",
      "\n",
      "The following objects are masked from 'package:stats':\n",
      "\n",
      "    filter, lag\n",
      "\n",
      "The following objects are masked from 'package:base':\n",
      "\n",
      "    intersect, setdiff, setequal, union\n",
      "\n"
     ]
    }
   ],
   "source": [
    "# Load Libraries\n",
    "library(plyr)\n",
    "library(ggplot2)\n",
    "library(dplyr)\n",
    "library(stringr)"
   ]
  },
  {
   "cell_type": "code",
   "execution_count": 4,
   "metadata": {
    "collapsed": false,
    "deletable": true,
    "editable": true
   },
   "outputs": [
    {
     "data": {
      "text/html": [
       "<ol class=list-inline>\n",
       "\t<li>113937</li>\n",
       "\t<li>81</li>\n",
       "</ol>\n"
      ],
      "text/latex": [
       "\\begin{enumerate*}\n",
       "\\item 113937\n",
       "\\item 81\n",
       "\\end{enumerate*}\n"
      ],
      "text/markdown": [
       "1. 113937\n",
       "2. 81\n",
       "\n",
       "\n"
      ],
      "text/plain": [
       "[1] 113937     81"
      ]
     },
     "metadata": {},
     "output_type": "display_data"
    },
    {
     "name": "stdout",
     "output_type": "stream",
     "text": [
      "'data.frame':\t113937 obs. of  81 variables:\n",
      " $ ListingKey                         : Factor w/ 113066 levels \"00003546482094282EF90E5\",..: 7180 7193 6647 6669 6686 6689 6699 6706 6687 6687 ...\n",
      " $ ListingNumber                      : int  193129 1209647 81716 658116 909464 1074836 750899 768193 1023355 1023355 ...\n",
      " $ ListingCreationDate                : Factor w/ 113064 levels \"2005-11-09 20:44:28.847000000\",..: 14184 111894 6429 64760 85967 100310 72556 74019 97834 97834 ...\n",
      " $ CreditGrade                        : Factor w/ 9 levels \"\",\"A\",\"AA\",\"B\",..: 5 1 8 1 1 1 1 1 1 1 ...\n",
      " $ Term                               : int  36 36 36 36 36 60 36 36 36 36 ...\n",
      " $ LoanStatus                         : Factor w/ 12 levels \"Cancelled\",\"Chargedoff\",..: 3 4 3 4 4 4 4 4 4 4 ...\n",
      " $ ClosedDate                         : Factor w/ 2803 levels \"\",\"2005-11-25 00:00:00\",..: 1138 1 1263 1 1 1 1 1 1 1 ...\n",
      " $ BorrowerAPR                        : num  0.165 0.12 0.283 0.125 0.246 ...\n",
      " $ BorrowerRate                       : num  0.158 0.092 0.275 0.0974 0.2085 ...\n",
      " $ LenderYield                        : num  0.138 0.082 0.24 0.0874 0.1985 ...\n",
      " $ EstimatedEffectiveYield            : num  NA 0.0796 NA 0.0849 0.1832 ...\n",
      " $ EstimatedLoss                      : num  NA 0.0249 NA 0.0249 0.0925 ...\n",
      " $ EstimatedReturn                    : num  NA 0.0547 NA 0.06 0.0907 ...\n",
      " $ ProsperRating..numeric.            : int  NA 6 NA 6 3 5 2 4 7 7 ...\n",
      " $ ProsperRating..Alpha.              : Factor w/ 8 levels \"\",\"A\",\"AA\",\"B\",..: 1 2 1 2 6 4 7 5 3 3 ...\n",
      " $ ProsperScore                       : num  NA 7 NA 9 4 10 2 4 9 11 ...\n",
      " $ ListingCategory..numeric.          : int  0 2 0 16 2 1 1 2 7 7 ...\n",
      " $ BorrowerState                      : Factor w/ 52 levels \"\",\"AK\",\"AL\",\"AR\",..: 7 7 12 12 25 34 18 6 16 16 ...\n",
      " $ Occupation                         : Factor w/ 68 levels \"\",\"Accountant/CPA\",..: 37 43 37 52 21 43 50 29 24 24 ...\n",
      " $ EmploymentStatus                   : Factor w/ 9 levels \"\",\"Employed\",..: 9 2 4 2 2 2 2 2 2 2 ...\n",
      " $ EmploymentStatusDuration           : int  2 44 NA 113 44 82 172 103 269 269 ...\n",
      " $ IsBorrowerHomeowner                : Factor w/ 2 levels \"False\",\"True\": 2 1 1 2 2 2 1 1 2 2 ...\n",
      " $ CurrentlyInGroup                   : Factor w/ 2 levels \"False\",\"True\": 2 1 2 1 1 1 1 1 1 1 ...\n",
      " $ GroupKey                           : Factor w/ 707 levels \"\",\"00343376901312423168731\",..: 1 1 335 1 1 1 1 1 1 1 ...\n",
      " $ DateCreditPulled                   : Factor w/ 112992 levels \"2005-11-09 00:30:04.487000000\",..: 14347 111883 6446 64724 85857 100382 72500 73937 97888 97888 ...\n",
      " $ CreditScoreRangeLower              : int  640 680 480 800 680 740 680 700 820 820 ...\n",
      " $ CreditScoreRangeUpper              : int  659 699 499 819 699 759 699 719 839 839 ...\n",
      " $ FirstRecordedCreditLine            : Factor w/ 11586 levels \"\",\"1947-08-24 00:00:00\",..: 8639 6617 8927 2247 9498 497 8265 7685 5543 5543 ...\n",
      " $ CurrentCreditLines                 : int  5 14 NA 5 19 21 10 6 17 17 ...\n",
      " $ OpenCreditLines                    : int  4 14 NA 5 19 17 7 6 16 16 ...\n",
      " $ TotalCreditLinespast7years         : int  12 29 3 29 49 49 20 10 32 32 ...\n",
      " $ OpenRevolvingAccounts              : int  1 13 0 7 6 13 6 5 12 12 ...\n",
      " $ OpenRevolvingMonthlyPayment        : num  24 389 0 115 220 1410 214 101 219 219 ...\n",
      " $ InquiriesLast6Months               : int  3 3 0 0 1 0 0 3 1 1 ...\n",
      " $ TotalInquiries                     : num  3 5 1 1 9 2 0 16 6 6 ...\n",
      " $ CurrentDelinquencies               : int  2 0 1 4 0 0 0 0 0 0 ...\n",
      " $ AmountDelinquent                   : num  472 0 NA 10056 0 ...\n",
      " $ DelinquenciesLast7Years            : int  4 0 0 14 0 0 0 0 0 0 ...\n",
      " $ PublicRecordsLast10Years           : int  0 1 0 0 0 0 0 1 0 0 ...\n",
      " $ PublicRecordsLast12Months          : int  0 0 NA 0 0 0 0 0 0 0 ...\n",
      " $ RevolvingCreditBalance             : num  0 3989 NA 1444 6193 ...\n",
      " $ BankcardUtilization                : num  0 0.21 NA 0.04 0.81 0.39 0.72 0.13 0.11 0.11 ...\n",
      " $ AvailableBankcardCredit            : num  1500 10266 NA 30754 695 ...\n",
      " $ TotalTrades                        : num  11 29 NA 26 39 47 16 10 29 29 ...\n",
      " $ TradesNeverDelinquent..percentage. : num  0.81 1 NA 0.76 0.95 1 0.68 0.8 1 1 ...\n",
      " $ TradesOpenedLast6Months            : num  0 2 NA 0 2 0 0 0 1 1 ...\n",
      " $ DebtToIncomeRatio                  : num  0.17 0.18 0.06 0.15 0.26 0.36 0.27 0.24 0.25 0.25 ...\n",
      " $ IncomeRange                        : Factor w/ 8 levels \"$0\",\"$1-24,999\",..: 4 5 7 4 3 3 4 4 4 4 ...\n",
      " $ IncomeVerifiable                   : Factor w/ 2 levels \"False\",\"True\": 2 2 2 2 2 2 2 2 2 2 ...\n",
      " $ StatedMonthlyIncome                : num  3083 6125 2083 2875 9583 ...\n",
      " $ LoanKey                            : Factor w/ 113066 levels \"00003683605746079487FF7\",..: 100337 69837 46303 70776 71387 86505 91250 5425 908 908 ...\n",
      " $ TotalProsperLoans                  : int  NA NA NA NA 1 NA NA NA NA NA ...\n",
      " $ TotalProsperPaymentsBilled         : int  NA NA NA NA 11 NA NA NA NA NA ...\n",
      " $ OnTimeProsperPayments              : int  NA NA NA NA 11 NA NA NA NA NA ...\n",
      " $ ProsperPaymentsLessThanOneMonthLate: int  NA NA NA NA 0 NA NA NA NA NA ...\n",
      " $ ProsperPaymentsOneMonthPlusLate    : int  NA NA NA NA 0 NA NA NA NA NA ...\n",
      " $ ProsperPrincipalBorrowed           : num  NA NA NA NA 11000 NA NA NA NA NA ...\n",
      " $ ProsperPrincipalOutstanding        : num  NA NA NA NA 9948 ...\n",
      " $ ScorexChangeAtTimeOfListing        : int  NA NA NA NA NA NA NA NA NA NA ...\n",
      " $ LoanCurrentDaysDelinquent          : int  0 0 0 0 0 0 0 0 0 0 ...\n",
      " $ LoanFirstDefaultedCycleNumber      : int  NA NA NA NA NA NA NA NA NA NA ...\n",
      " $ LoanMonthsSinceOrigination         : int  78 0 86 16 6 3 11 10 3 3 ...\n",
      " $ LoanNumber                         : int  19141 134815 6466 77296 102670 123257 88353 90051 121268 121268 ...\n",
      " $ LoanOriginalAmount                 : int  9425 10000 3001 10000 15000 15000 3000 10000 10000 10000 ...\n",
      " $ LoanOriginationDate                : Factor w/ 1873 levels \"2005-11-15 00:00:00\",..: 426 1866 260 1535 1757 1821 1649 1666 1813 1813 ...\n",
      " $ LoanOriginationQuarter             : Factor w/ 33 levels \"Q1 2006\",\"Q1 2007\",..: 18 8 2 32 24 33 16 16 33 33 ...\n",
      " $ MemberKey                          : Factor w/ 90831 levels \"00003397697413387CAF966\",..: 11071 10302 33781 54939 19465 48037 60448 40951 26129 26129 ...\n",
      " $ MonthlyLoanPayment                 : num  330 319 123 321 564 ...\n",
      " $ LP_CustomerPayments                : num  11396 0 4187 5143 2820 ...\n",
      " $ LP_CustomerPrincipalPayments       : num  9425 0 3001 4091 1563 ...\n",
      " $ LP_InterestandFees                 : num  1971 0 1186 1052 1257 ...\n",
      " $ LP_ServiceFees                     : num  -133.2 0 -24.2 -108 -60.3 ...\n",
      " $ LP_CollectionFees                  : num  0 0 0 0 0 0 0 0 0 0 ...\n",
      " $ LP_GrossPrincipalLoss              : num  0 0 0 0 0 0 0 0 0 0 ...\n",
      " $ LP_NetPrincipalLoss                : num  0 0 0 0 0 0 0 0 0 0 ...\n",
      " $ LP_NonPrincipalRecoverypayments    : num  0 0 0 0 0 0 0 0 0 0 ...\n",
      " $ PercentFunded                      : num  1 1 1 1 1 1 1 1 1 1 ...\n",
      " $ Recommendations                    : int  0 0 0 0 0 0 0 0 0 0 ...\n",
      " $ InvestmentFromFriendsCount         : int  0 0 0 0 0 0 0 0 0 0 ...\n",
      " $ InvestmentFromFriendsAmount        : num  0 0 0 0 0 0 0 0 0 0 ...\n",
      " $ Investors                          : int  258 1 41 158 20 1 1 1 1 1 ...\n"
     ]
    }
   ],
   "source": [
    "dim(datadf)\n",
    "str(datadf)"
   ]
  },
  {
   "cell_type": "markdown",
   "metadata": {
    "deletable": true,
    "editable": true
   },
   "source": [
    "Taking a peak at the data it's easy to see that this dataset has many (81) variables. I used this list to create a shorter set of variables of interest to explore. There are 113,937 observations (which makes it worrisome that the variable loan key is a factor with only 113066 levels). Let's explore that first."
   ]
  },
  {
   "cell_type": "code",
   "execution_count": 5,
   "metadata": {
    "collapsed": false,
    "deletable": true,
    "editable": true
   },
   "outputs": [
    {
     "data": {
      "text/html": [
       "113066"
      ],
      "text/latex": [
       "113066"
      ],
      "text/markdown": [
       "113066"
      ],
      "text/plain": [
       "[1] 113066"
      ]
     },
     "metadata": {},
     "output_type": "display_data"
    }
   ],
   "source": [
    "length(unique(datadf$ListingKey))"
   ]
  },
  {
   "cell_type": "code",
   "execution_count": 6,
   "metadata": {
    "collapsed": false,
    "deletable": true,
    "editable": true
   },
   "outputs": [
    {
     "data": {
      "text/html": [
       "<table>\n",
       "<thead><tr><th scope=col>listing_key_appears</th><th scope=col>count</th></tr></thead>\n",
       "<tbody>\n",
       "\t<tr><td>1     </td><td>112239</td></tr>\n",
       "\t<tr><td>2     </td><td>   790</td></tr>\n",
       "\t<tr><td>3     </td><td>    32</td></tr>\n",
       "\t<tr><td>4     </td><td>     4</td></tr>\n",
       "\t<tr><td>6     </td><td>     1</td></tr>\n",
       "</tbody>\n",
       "</table>\n"
      ],
      "text/latex": [
       "\\begin{tabular}{r|ll}\n",
       " listing\\_key\\_appears & count\\\\\n",
       "\\hline\n",
       "\t 1      & 112239\\\\\n",
       "\t 2      &    790\\\\\n",
       "\t 3      &     32\\\\\n",
       "\t 4      &      4\\\\\n",
       "\t 6      &      1\\\\\n",
       "\\end{tabular}\n"
      ],
      "text/markdown": [
       "\n",
       "listing_key_appears | count | \n",
       "|---|---|---|---|---|\n",
       "| 1      | 112239 | \n",
       "| 2      |    790 | \n",
       "| 3      |     32 | \n",
       "| 4      |      4 | \n",
       "| 6      |      1 | \n",
       "\n",
       "\n"
      ],
      "text/plain": [
       "  listing_key_appears count \n",
       "1 1                   112239\n",
       "2 2                      790\n",
       "3 3                       32\n",
       "4 4                        4\n",
       "5 6                        1"
      ]
     },
     "metadata": {},
     "output_type": "display_data"
    }
   ],
   "source": [
    "datadf %>%\n",
    "select(ListingKey) %>%\n",
    "group_by(ListingKey) %>%\n",
    "summarise(listing_key_appears = n()) %>%\n",
    "group_by(listing_key_appears) %>%\n",
    "summarise(count = n())"
   ]
  },
  {
   "cell_type": "markdown",
   "metadata": {
    "deletable": true,
    "editable": true
   },
   "source": [
    "So we can see that many of the keys appear multiple times, with one loan appearing a whopping six times. Let's see that loan."
   ]
  },
  {
   "cell_type": "code",
   "execution_count": 9,
   "metadata": {
    "collapsed": false,
    "deletable": true,
    "editable": true
   },
   "outputs": [
    {
     "data": {
      "text/html": [
       "<table>\n",
       "<thead><tr><th scope=col>ListingKey</th><th scope=col>count</th></tr></thead>\n",
       "<tbody>\n",
       "\t<tr><td>17A93590655669644DB4C06</td><td>6                      </td></tr>\n",
       "</tbody>\n",
       "</table>\n"
      ],
      "text/latex": [
       "\\begin{tabular}{r|ll}\n",
       " ListingKey & count\\\\\n",
       "\\hline\n",
       "\t 17A93590655669644DB4C06 & 6                      \\\\\n",
       "\\end{tabular}\n"
      ],
      "text/markdown": [
       "\n",
       "ListingKey | count | \n",
       "|---|\n",
       "| 17A93590655669644DB4C06 | 6                       | \n",
       "\n",
       "\n"
      ],
      "text/plain": [
       "  ListingKey              count\n",
       "1 17A93590655669644DB4C06 6    "
      ]
     },
     "metadata": {},
     "output_type": "display_data"
    }
   ],
   "source": [
    "datadf %>%\n",
    "select(ListingKey) %>%\n",
    "group_by(ListingKey) %>%\n",
    "summarise(count = n()) %>%\n",
    "filter(count == max(count))"
   ]
  },
  {
   "cell_type": "code",
   "execution_count": 12,
   "metadata": {
    "collapsed": false,
    "deletable": true,
    "editable": true
   },
   "outputs": [
    {
     "data": {
      "text/html": [
       "<table>\n",
       "<thead><tr><th scope=col>ListingKey</th><th scope=col>ListingNumber</th><th scope=col>ListingCreationDate</th><th scope=col>CreditGrade</th><th scope=col>Term</th><th scope=col>LoanStatus</th><th scope=col>ClosedDate</th><th scope=col>BorrowerAPR</th><th scope=col>BorrowerRate</th><th scope=col>LenderYield</th><th scope=col>...</th><th scope=col>LP_ServiceFees</th><th scope=col>LP_CollectionFees</th><th scope=col>LP_GrossPrincipalLoss</th><th scope=col>LP_NetPrincipalLoss</th><th scope=col>LP_NonPrincipalRecoverypayments</th><th scope=col>PercentFunded</th><th scope=col>Recommendations</th><th scope=col>InvestmentFromFriendsCount</th><th scope=col>InvestmentFromFriendsAmount</th><th scope=col>Investors</th></tr></thead>\n",
       "<tbody>\n",
       "\t<tr><td>17A93590655669644DB4C06      </td><td>951186                       </td><td>2013-10-02 17:20:16.550000000</td><td>                             </td><td>60                           </td><td>Current                      </td><td>                             </td><td>0.16662                      </td><td>0.1435                       </td><td>0.1335                       </td><td>...                          </td><td>-8.49                        </td><td>0                            </td><td>0                            </td><td>0                            </td><td>0                            </td><td>1                            </td><td>0                            </td><td>0                            </td><td>0                            </td><td>96                           </td></tr>\n",
       "\t<tr><td>17A93590655669644DB4C06      </td><td>951186                       </td><td>2013-10-02 17:20:16.550000000</td><td>                             </td><td>60                           </td><td>Current                      </td><td>                             </td><td>0.16662                      </td><td>0.1435                       </td><td>0.1335                       </td><td>...                          </td><td>-8.49                        </td><td>0                            </td><td>0                            </td><td>0                            </td><td>0                            </td><td>1                            </td><td>0                            </td><td>0                            </td><td>0                            </td><td>96                           </td></tr>\n",
       "\t<tr><td>17A93590655669644DB4C06      </td><td>951186                       </td><td>2013-10-02 17:20:16.550000000</td><td>                             </td><td>60                           </td><td>Current                      </td><td>                             </td><td>0.16662                      </td><td>0.1435                       </td><td>0.1335                       </td><td>...                          </td><td>-8.49                        </td><td>0                            </td><td>0                            </td><td>0                            </td><td>0                            </td><td>1                            </td><td>0                            </td><td>0                            </td><td>0                            </td><td>96                           </td></tr>\n",
       "\t<tr><td>17A93590655669644DB4C06      </td><td>951186                       </td><td>2013-10-02 17:20:16.550000000</td><td>                             </td><td>60                           </td><td>Current                      </td><td>                             </td><td>0.16662                      </td><td>0.1435                       </td><td>0.1335                       </td><td>...                          </td><td>-8.49                        </td><td>0                            </td><td>0                            </td><td>0                            </td><td>0                            </td><td>1                            </td><td>0                            </td><td>0                            </td><td>0                            </td><td>96                           </td></tr>\n",
       "\t<tr><td>17A93590655669644DB4C06      </td><td>951186                       </td><td>2013-10-02 17:20:16.550000000</td><td>                             </td><td>60                           </td><td>Current                      </td><td>                             </td><td>0.16662                      </td><td>0.1435                       </td><td>0.1335                       </td><td>...                          </td><td>-8.49                        </td><td>0                            </td><td>0                            </td><td>0                            </td><td>0                            </td><td>1                            </td><td>0                            </td><td>0                            </td><td>0                            </td><td>96                           </td></tr>\n",
       "\t<tr><td>17A93590655669644DB4C06      </td><td>951186                       </td><td>2013-10-02 17:20:16.550000000</td><td>                             </td><td>60                           </td><td>Current                      </td><td>                             </td><td>0.16662                      </td><td>0.1435                       </td><td>0.1335                       </td><td>...                          </td><td>-8.49                        </td><td>0                            </td><td>0                            </td><td>0                            </td><td>0                            </td><td>1                            </td><td>0                            </td><td>0                            </td><td>0                            </td><td>96                           </td></tr>\n",
       "</tbody>\n",
       "</table>\n"
      ],
      "text/latex": [
       "\\begin{tabular}{r|lllllllllllllllllllllllllllllllllllllllllllllllllllllllllllllllllllllllllllllllll}\n",
       " ListingKey & ListingNumber & ListingCreationDate & CreditGrade & Term & LoanStatus & ClosedDate & BorrowerAPR & BorrowerRate & LenderYield & ... & LP\\_ServiceFees & LP\\_CollectionFees & LP\\_GrossPrincipalLoss & LP\\_NetPrincipalLoss & LP\\_NonPrincipalRecoverypayments & PercentFunded & Recommendations & InvestmentFromFriendsCount & InvestmentFromFriendsAmount & Investors\\\\\n",
       "\\hline\n",
       "\t 17A93590655669644DB4C06       & 951186                        & 2013-10-02 17:20:16.550000000 &                               & 60                            & Current                       &                               & 0.16662                       & 0.1435                        & 0.1335                        & ...                           & -8.49                         & 0                             & 0                             & 0                             & 0                             & 1                             & 0                             & 0                             & 0                             & 96                           \\\\\n",
       "\t 17A93590655669644DB4C06       & 951186                        & 2013-10-02 17:20:16.550000000 &                               & 60                            & Current                       &                               & 0.16662                       & 0.1435                        & 0.1335                        & ...                           & -8.49                         & 0                             & 0                             & 0                             & 0                             & 1                             & 0                             & 0                             & 0                             & 96                           \\\\\n",
       "\t 17A93590655669644DB4C06       & 951186                        & 2013-10-02 17:20:16.550000000 &                               & 60                            & Current                       &                               & 0.16662                       & 0.1435                        & 0.1335                        & ...                           & -8.49                         & 0                             & 0                             & 0                             & 0                             & 1                             & 0                             & 0                             & 0                             & 96                           \\\\\n",
       "\t 17A93590655669644DB4C06       & 951186                        & 2013-10-02 17:20:16.550000000 &                               & 60                            & Current                       &                               & 0.16662                       & 0.1435                        & 0.1335                        & ...                           & -8.49                         & 0                             & 0                             & 0                             & 0                             & 1                             & 0                             & 0                             & 0                             & 96                           \\\\\n",
       "\t 17A93590655669644DB4C06       & 951186                        & 2013-10-02 17:20:16.550000000 &                               & 60                            & Current                       &                               & 0.16662                       & 0.1435                        & 0.1335                        & ...                           & -8.49                         & 0                             & 0                             & 0                             & 0                             & 1                             & 0                             & 0                             & 0                             & 96                           \\\\\n",
       "\t 17A93590655669644DB4C06       & 951186                        & 2013-10-02 17:20:16.550000000 &                               & 60                            & Current                       &                               & 0.16662                       & 0.1435                        & 0.1335                        & ...                           & -8.49                         & 0                             & 0                             & 0                             & 0                             & 1                             & 0                             & 0                             & 0                             & 96                           \\\\\n",
       "\\end{tabular}\n"
      ],
      "text/markdown": [
       "\n",
       "ListingKey | ListingNumber | ListingCreationDate | CreditGrade | Term | LoanStatus | ClosedDate | BorrowerAPR | BorrowerRate | LenderYield | ... | LP_ServiceFees | LP_CollectionFees | LP_GrossPrincipalLoss | LP_NetPrincipalLoss | LP_NonPrincipalRecoverypayments | PercentFunded | Recommendations | InvestmentFromFriendsCount | InvestmentFromFriendsAmount | Investors | \n",
       "|---|---|---|---|---|---|\n",
       "| 17A93590655669644DB4C06       | 951186                        | 2013-10-02 17:20:16.550000000 |                               | 60                            | Current                       |                               | 0.16662                       | 0.1435                        | 0.1335                        | ...                           | -8.49                         | 0                             | 0                             | 0                             | 0                             | 1                             | 0                             | 0                             | 0                             | 96                            | \n",
       "| 17A93590655669644DB4C06       | 951186                        | 2013-10-02 17:20:16.550000000 |                               | 60                            | Current                       |                               | 0.16662                       | 0.1435                        | 0.1335                        | ...                           | -8.49                         | 0                             | 0                             | 0                             | 0                             | 1                             | 0                             | 0                             | 0                             | 96                            | \n",
       "| 17A93590655669644DB4C06       | 951186                        | 2013-10-02 17:20:16.550000000 |                               | 60                            | Current                       |                               | 0.16662                       | 0.1435                        | 0.1335                        | ...                           | -8.49                         | 0                             | 0                             | 0                             | 0                             | 1                             | 0                             | 0                             | 0                             | 96                            | \n",
       "| 17A93590655669644DB4C06       | 951186                        | 2013-10-02 17:20:16.550000000 |                               | 60                            | Current                       |                               | 0.16662                       | 0.1435                        | 0.1335                        | ...                           | -8.49                         | 0                             | 0                             | 0                             | 0                             | 1                             | 0                             | 0                             | 0                             | 96                            | \n",
       "| 17A93590655669644DB4C06       | 951186                        | 2013-10-02 17:20:16.550000000 |                               | 60                            | Current                       |                               | 0.16662                       | 0.1435                        | 0.1335                        | ...                           | -8.49                         | 0                             | 0                             | 0                             | 0                             | 1                             | 0                             | 0                             | 0                             | 96                            | \n",
       "| 17A93590655669644DB4C06       | 951186                        | 2013-10-02 17:20:16.550000000 |                               | 60                            | Current                       |                               | 0.16662                       | 0.1435                        | 0.1335                        | ...                           | -8.49                         | 0                             | 0                             | 0                             | 0                             | 1                             | 0                             | 0                             | 0                             | 96                            | \n",
       "\n",
       "\n"
      ],
      "text/plain": [
       "  ListingKey              ListingNumber ListingCreationDate          \n",
       "1 17A93590655669644DB4C06 951186        2013-10-02 17:20:16.550000000\n",
       "2 17A93590655669644DB4C06 951186        2013-10-02 17:20:16.550000000\n",
       "3 17A93590655669644DB4C06 951186        2013-10-02 17:20:16.550000000\n",
       "4 17A93590655669644DB4C06 951186        2013-10-02 17:20:16.550000000\n",
       "5 17A93590655669644DB4C06 951186        2013-10-02 17:20:16.550000000\n",
       "6 17A93590655669644DB4C06 951186        2013-10-02 17:20:16.550000000\n",
       "  CreditGrade Term LoanStatus ClosedDate BorrowerAPR BorrowerRate LenderYield\n",
       "1             60   Current               0.16662     0.1435       0.1335     \n",
       "2             60   Current               0.16662     0.1435       0.1335     \n",
       "3             60   Current               0.16662     0.1435       0.1335     \n",
       "4             60   Current               0.16662     0.1435       0.1335     \n",
       "5             60   Current               0.16662     0.1435       0.1335     \n",
       "6             60   Current               0.16662     0.1435       0.1335     \n",
       "  ... LP_ServiceFees LP_CollectionFees LP_GrossPrincipalLoss\n",
       "1 ... -8.49          0                 0                    \n",
       "2 ... -8.49          0                 0                    \n",
       "3 ... -8.49          0                 0                    \n",
       "4 ... -8.49          0                 0                    \n",
       "5 ... -8.49          0                 0                    \n",
       "6 ... -8.49          0                 0                    \n",
       "  LP_NetPrincipalLoss LP_NonPrincipalRecoverypayments PercentFunded\n",
       "1 0                   0                               1            \n",
       "2 0                   0                               1            \n",
       "3 0                   0                               1            \n",
       "4 0                   0                               1            \n",
       "5 0                   0                               1            \n",
       "6 0                   0                               1            \n",
       "  Recommendations InvestmentFromFriendsCount InvestmentFromFriendsAmount\n",
       "1 0               0                          0                          \n",
       "2 0               0                          0                          \n",
       "3 0               0                          0                          \n",
       "4 0               0                          0                          \n",
       "5 0               0                          0                          \n",
       "6 0               0                          0                          \n",
       "  Investors\n",
       "1 96       \n",
       "2 96       \n",
       "3 96       \n",
       "4 96       \n",
       "5 96       \n",
       "6 96       "
      ]
     },
     "metadata": {},
     "output_type": "display_data"
    }
   ],
   "source": [
    "datadf %>%\n",
    "filter(ListingKey == '17A93590655669644DB4C06')"
   ]
  },
  {
   "cell_type": "markdown",
   "metadata": {
    "deletable": true,
    "editable": true
   },
   "source": [
    "It seems this loan is just repeated in the dataset 6 times. Let's make sure I'm not missing anything that's even slightly different."
   ]
  },
  {
   "cell_type": "code",
   "execution_count": 22,
   "metadata": {
    "collapsed": false,
    "deletable": true,
    "editable": true
   },
   "outputs": [
    {
     "data": {
      "text/html": [
       "<dl>\n",
       "\t<dt>$ListingKey</dt>\n",
       "\t\t<dd>'17A93590655669644DB4C06'</dd>\n",
       "\t<dt>$ListingNumber</dt>\n",
       "\t\t<dd>'951186'</dd>\n",
       "\t<dt>$ListingCreationDate</dt>\n",
       "\t\t<dd>'2013-10-02 17:20:16.550000000'</dd>\n",
       "\t<dt>$CreditGrade</dt>\n",
       "\t\t<dd>''</dd>\n",
       "\t<dt>$Term</dt>\n",
       "\t\t<dd>'60'</dd>\n",
       "\t<dt>$LoanStatus</dt>\n",
       "\t\t<dd>'Current'</dd>\n",
       "\t<dt>$ClosedDate</dt>\n",
       "\t\t<dd>''</dd>\n",
       "\t<dt>$BorrowerAPR</dt>\n",
       "\t\t<dd>'0.16662'</dd>\n",
       "\t<dt>$BorrowerRate</dt>\n",
       "\t\t<dd>'0.1435'</dd>\n",
       "\t<dt>$LenderYield</dt>\n",
       "\t\t<dd>'0.1335'</dd>\n",
       "\t<dt>$EstimatedEffectiveYield</dt>\n",
       "\t\t<dd>'0.1264'</dd>\n",
       "\t<dt>$EstimatedLoss</dt>\n",
       "\t\t<dd>'0.0524'</dd>\n",
       "\t<dt>$EstimatedReturn</dt>\n",
       "\t\t<dd>'0.074'</dd>\n",
       "\t<dt>$ProsperRating..numeric.</dt>\n",
       "\t\t<dd>'5'</dd>\n",
       "\t<dt>$ProsperRating..Alpha.</dt>\n",
       "\t\t<dd>'B'</dd>\n",
       "\t<dt>$ProsperScore</dt>\n",
       "\t\t<dd><ol class=list-inline>\n",
       "\t<li>' 4'</li>\n",
       "\t<li>' 8'</li>\n",
       "\t<li>' 7'</li>\n",
       "\t<li>'10'</li>\n",
       "\t<li>' 5'</li>\n",
       "\t<li>' 6'</li>\n",
       "</ol>\n",
       "</dd>\n",
       "\t<dt>$ListingCategory..numeric.</dt>\n",
       "\t\t<dd>'1'</dd>\n",
       "\t<dt>$BorrowerState</dt>\n",
       "\t\t<dd>'MD'</dd>\n",
       "\t<dt>$Occupation</dt>\n",
       "\t\t<dd>'Other'</dd>\n",
       "\t<dt>$EmploymentStatus</dt>\n",
       "\t\t<dd>'Employed'</dd>\n",
       "\t<dt>$EmploymentStatusDuration</dt>\n",
       "\t\t<dd>'26'</dd>\n",
       "\t<dt>$IsBorrowerHomeowner</dt>\n",
       "\t\t<dd>'False'</dd>\n",
       "\t<dt>$CurrentlyInGroup</dt>\n",
       "\t\t<dd>'False'</dd>\n",
       "\t<dt>$GroupKey</dt>\n",
       "\t\t<dd>''</dd>\n",
       "\t<dt>$DateCreditPulled</dt>\n",
       "\t\t<dd>'2013-12-23 09:38:12'</dd>\n",
       "\t<dt>$CreditScoreRangeLower</dt>\n",
       "\t\t<dd>'720'</dd>\n",
       "\t<dt>$CreditScoreRangeUpper</dt>\n",
       "\t\t<dd>'739'</dd>\n",
       "\t<dt>$FirstRecordedCreditLine</dt>\n",
       "\t\t<dd>'1986-12-26 00:00:00'</dd>\n",
       "\t<dt>$CurrentCreditLines</dt>\n",
       "\t\t<dd>'12'</dd>\n",
       "\t<dt>$OpenCreditLines</dt>\n",
       "\t\t<dd>'12'</dd>\n",
       "\t<dt>$TotalCreditLinespast7years</dt>\n",
       "\t\t<dd>'20'</dd>\n",
       "\t<dt>$OpenRevolvingAccounts</dt>\n",
       "\t\t<dd>'6'</dd>\n",
       "\t<dt>$OpenRevolvingMonthlyPayment</dt>\n",
       "\t\t<dd>'348'</dd>\n",
       "\t<dt>$InquiriesLast6Months</dt>\n",
       "\t\t<dd>'0'</dd>\n",
       "\t<dt>$TotalInquiries</dt>\n",
       "\t\t<dd>'5'</dd>\n",
       "\t<dt>$CurrentDelinquencies</dt>\n",
       "\t\t<dd>'0'</dd>\n",
       "\t<dt>$AmountDelinquent</dt>\n",
       "\t\t<dd>'0'</dd>\n",
       "\t<dt>$DelinquenciesLast7Years</dt>\n",
       "\t\t<dd>'0'</dd>\n",
       "\t<dt>$PublicRecordsLast10Years</dt>\n",
       "\t\t<dd>'0'</dd>\n",
       "\t<dt>$PublicRecordsLast12Months</dt>\n",
       "\t\t<dd>'0'</dd>\n",
       "\t<dt>$RevolvingCreditBalance</dt>\n",
       "\t\t<dd>'14635'</dd>\n",
       "\t<dt>$BankcardUtilization</dt>\n",
       "\t\t<dd>'0.57'</dd>\n",
       "\t<dt>$AvailableBankcardCredit</dt>\n",
       "\t\t<dd>'10865'</dd>\n",
       "\t<dt>$TotalTrades</dt>\n",
       "\t\t<dd>'17'</dd>\n",
       "\t<dt>$TradesNeverDelinquent..percentage.</dt>\n",
       "\t\t<dd>'1'</dd>\n",
       "\t<dt>$TradesOpenedLast6Months</dt>\n",
       "\t\t<dd>'0'</dd>\n",
       "\t<dt>$DebtToIncomeRatio</dt>\n",
       "\t\t<dd>'0.41'</dd>\n",
       "\t<dt>$IncomeRange</dt>\n",
       "\t\t<dd>'$25,000-49,999'</dd>\n",
       "\t<dt>$IncomeVerifiable</dt>\n",
       "\t\t<dd>'True'</dd>\n",
       "\t<dt>$StatedMonthlyIncome</dt>\n",
       "\t\t<dd>'3000'</dd>\n",
       "\t<dt>$LoanKey</dt>\n",
       "\t\t<dd>'CB1B37030986463208432A1'</dd>\n",
       "\t<dt>$TotalProsperLoans</dt>\n",
       "\t\t<dd>'NA'</dd>\n",
       "\t<dt>$TotalProsperPaymentsBilled</dt>\n",
       "\t\t<dd>'NA'</dd>\n",
       "\t<dt>$OnTimeProsperPayments</dt>\n",
       "\t\t<dd>'NA'</dd>\n",
       "\t<dt>$ProsperPaymentsLessThanOneMonthLate</dt>\n",
       "\t\t<dd>'NA'</dd>\n",
       "\t<dt>$ProsperPaymentsOneMonthPlusLate</dt>\n",
       "\t\t<dd>'NA'</dd>\n",
       "\t<dt>$ProsperPrincipalBorrowed</dt>\n",
       "\t\t<dd>'NA'</dd>\n",
       "\t<dt>$ProsperPrincipalOutstanding</dt>\n",
       "\t\t<dd>'NA'</dd>\n",
       "\t<dt>$ScorexChangeAtTimeOfListing</dt>\n",
       "\t\t<dd>'NA'</dd>\n",
       "\t<dt>$LoanCurrentDaysDelinquent</dt>\n",
       "\t\t<dd>'0'</dd>\n",
       "\t<dt>$LoanFirstDefaultedCycleNumber</dt>\n",
       "\t\t<dd>'NA'</dd>\n",
       "\t<dt>$LoanMonthsSinceOrigination</dt>\n",
       "\t\t<dd>'2'</dd>\n",
       "\t<dt>$LoanNumber</dt>\n",
       "\t\t<dd>'126059'</dd>\n",
       "\t<dt>$LoanOriginalAmount</dt>\n",
       "\t\t<dd>'10000'</dd>\n",
       "\t<dt>$LoanOriginationDate</dt>\n",
       "\t\t<dd>'2014-01-13 00:00:00'</dd>\n",
       "\t<dt>$LoanOriginationQuarter</dt>\n",
       "\t\t<dd>'Q1 2014'</dd>\n",
       "\t<dt>$MemberKey</dt>\n",
       "\t\t<dd>'F80D3694083622957BA09F2'</dd>\n",
       "\t<dt>$MonthlyLoanPayment</dt>\n",
       "\t\t<dd>'234.5'</dd>\n",
       "\t<dt>$LP_CustomerPayments</dt>\n",
       "\t\t<dd>'234.5'</dd>\n",
       "\t<dt>$LP_CustomerPrincipalPayments</dt>\n",
       "\t\t<dd>'112.62'</dd>\n",
       "\t<dt>$LP_InterestandFees</dt>\n",
       "\t\t<dd>'121.88'</dd>\n",
       "\t<dt>$LP_ServiceFees</dt>\n",
       "\t\t<dd>'-8.49'</dd>\n",
       "\t<dt>$LP_CollectionFees</dt>\n",
       "\t\t<dd>'0'</dd>\n",
       "\t<dt>$LP_GrossPrincipalLoss</dt>\n",
       "\t\t<dd>'0'</dd>\n",
       "\t<dt>$LP_NetPrincipalLoss</dt>\n",
       "\t\t<dd>'0'</dd>\n",
       "\t<dt>$LP_NonPrincipalRecoverypayments</dt>\n",
       "\t\t<dd>'0'</dd>\n",
       "\t<dt>$PercentFunded</dt>\n",
       "\t\t<dd>'1'</dd>\n",
       "\t<dt>$Recommendations</dt>\n",
       "\t\t<dd>'0'</dd>\n",
       "\t<dt>$InvestmentFromFriendsCount</dt>\n",
       "\t\t<dd>'0'</dd>\n",
       "\t<dt>$InvestmentFromFriendsAmount</dt>\n",
       "\t\t<dd>'0'</dd>\n",
       "\t<dt>$Investors</dt>\n",
       "\t\t<dd>'96'</dd>\n",
       "</dl>\n"
      ],
      "text/latex": [
       "\\begin{description}\n",
       "\\item[\\$ListingKey] '17A93590655669644DB4C06'\n",
       "\\item[\\$ListingNumber] '951186'\n",
       "\\item[\\$ListingCreationDate] '2013-10-02 17:20:16.550000000'\n",
       "\\item[\\$CreditGrade] ''\n",
       "\\item[\\$Term] '60'\n",
       "\\item[\\$LoanStatus] 'Current'\n",
       "\\item[\\$ClosedDate] ''\n",
       "\\item[\\$BorrowerAPR] '0.16662'\n",
       "\\item[\\$BorrowerRate] '0.1435'\n",
       "\\item[\\$LenderYield] '0.1335'\n",
       "\\item[\\$EstimatedEffectiveYield] '0.1264'\n",
       "\\item[\\$EstimatedLoss] '0.0524'\n",
       "\\item[\\$EstimatedReturn] '0.074'\n",
       "\\item[\\$ProsperRating..numeric.] '5'\n",
       "\\item[\\$ProsperRating..Alpha.] 'B'\n",
       "\\item[\\$ProsperScore] \\begin{enumerate*}\n",
       "\\item ' 4'\n",
       "\\item ' 8'\n",
       "\\item ' 7'\n",
       "\\item '10'\n",
       "\\item ' 5'\n",
       "\\item ' 6'\n",
       "\\end{enumerate*}\n",
       "\n",
       "\\item[\\$ListingCategory..numeric.] '1'\n",
       "\\item[\\$BorrowerState] 'MD'\n",
       "\\item[\\$Occupation] 'Other'\n",
       "\\item[\\$EmploymentStatus] 'Employed'\n",
       "\\item[\\$EmploymentStatusDuration] '26'\n",
       "\\item[\\$IsBorrowerHomeowner] 'False'\n",
       "\\item[\\$CurrentlyInGroup] 'False'\n",
       "\\item[\\$GroupKey] ''\n",
       "\\item[\\$DateCreditPulled] '2013-12-23 09:38:12'\n",
       "\\item[\\$CreditScoreRangeLower] '720'\n",
       "\\item[\\$CreditScoreRangeUpper] '739'\n",
       "\\item[\\$FirstRecordedCreditLine] '1986-12-26 00:00:00'\n",
       "\\item[\\$CurrentCreditLines] '12'\n",
       "\\item[\\$OpenCreditLines] '12'\n",
       "\\item[\\$TotalCreditLinespast7years] '20'\n",
       "\\item[\\$OpenRevolvingAccounts] '6'\n",
       "\\item[\\$OpenRevolvingMonthlyPayment] '348'\n",
       "\\item[\\$InquiriesLast6Months] '0'\n",
       "\\item[\\$TotalInquiries] '5'\n",
       "\\item[\\$CurrentDelinquencies] '0'\n",
       "\\item[\\$AmountDelinquent] '0'\n",
       "\\item[\\$DelinquenciesLast7Years] '0'\n",
       "\\item[\\$PublicRecordsLast10Years] '0'\n",
       "\\item[\\$PublicRecordsLast12Months] '0'\n",
       "\\item[\\$RevolvingCreditBalance] '14635'\n",
       "\\item[\\$BankcardUtilization] '0.57'\n",
       "\\item[\\$AvailableBankcardCredit] '10865'\n",
       "\\item[\\$TotalTrades] '17'\n",
       "\\item[\\$TradesNeverDelinquent..percentage.] '1'\n",
       "\\item[\\$TradesOpenedLast6Months] '0'\n",
       "\\item[\\$DebtToIncomeRatio] '0.41'\n",
       "\\item[\\$IncomeRange] '\\$25,000-49,999'\n",
       "\\item[\\$IncomeVerifiable] 'True'\n",
       "\\item[\\$StatedMonthlyIncome] '3000'\n",
       "\\item[\\$LoanKey] 'CB1B37030986463208432A1'\n",
       "\\item[\\$TotalProsperLoans] 'NA'\n",
       "\\item[\\$TotalProsperPaymentsBilled] 'NA'\n",
       "\\item[\\$OnTimeProsperPayments] 'NA'\n",
       "\\item[\\$ProsperPaymentsLessThanOneMonthLate] 'NA'\n",
       "\\item[\\$ProsperPaymentsOneMonthPlusLate] 'NA'\n",
       "\\item[\\$ProsperPrincipalBorrowed] 'NA'\n",
       "\\item[\\$ProsperPrincipalOutstanding] 'NA'\n",
       "\\item[\\$ScorexChangeAtTimeOfListing] 'NA'\n",
       "\\item[\\$LoanCurrentDaysDelinquent] '0'\n",
       "\\item[\\$LoanFirstDefaultedCycleNumber] 'NA'\n",
       "\\item[\\$LoanMonthsSinceOrigination] '2'\n",
       "\\item[\\$LoanNumber] '126059'\n",
       "\\item[\\$LoanOriginalAmount] '10000'\n",
       "\\item[\\$LoanOriginationDate] '2014-01-13 00:00:00'\n",
       "\\item[\\$LoanOriginationQuarter] 'Q1 2014'\n",
       "\\item[\\$MemberKey] 'F80D3694083622957BA09F2'\n",
       "\\item[\\$MonthlyLoanPayment] '234.5'\n",
       "\\item[\\$LP\\_CustomerPayments] '234.5'\n",
       "\\item[\\$LP\\_CustomerPrincipalPayments] '112.62'\n",
       "\\item[\\$LP\\_InterestandFees] '121.88'\n",
       "\\item[\\$LP\\_ServiceFees] '-8.49'\n",
       "\\item[\\$LP\\_CollectionFees] '0'\n",
       "\\item[\\$LP\\_GrossPrincipalLoss] '0'\n",
       "\\item[\\$LP\\_NetPrincipalLoss] '0'\n",
       "\\item[\\$LP\\_NonPrincipalRecoverypayments] '0'\n",
       "\\item[\\$PercentFunded] '1'\n",
       "\\item[\\$Recommendations] '0'\n",
       "\\item[\\$InvestmentFromFriendsCount] '0'\n",
       "\\item[\\$InvestmentFromFriendsAmount] '0'\n",
       "\\item[\\$Investors] '96'\n",
       "\\end{description}\n"
      ],
      "text/markdown": [
       "$ListingKey\n",
       ":   '17A93590655669644DB4C06'\n",
       "$ListingNumber\n",
       ":   '951186'\n",
       "$ListingCreationDate\n",
       ":   '2013-10-02 17:20:16.550000000'\n",
       "$CreditGrade\n",
       ":   ''\n",
       "$Term\n",
       ":   '60'\n",
       "$LoanStatus\n",
       ":   'Current'\n",
       "$ClosedDate\n",
       ":   ''\n",
       "$BorrowerAPR\n",
       ":   '0.16662'\n",
       "$BorrowerRate\n",
       ":   '0.1435'\n",
       "$LenderYield\n",
       ":   '0.1335'\n",
       "$EstimatedEffectiveYield\n",
       ":   '0.1264'\n",
       "$EstimatedLoss\n",
       ":   '0.0524'\n",
       "$EstimatedReturn\n",
       ":   '0.074'\n",
       "$ProsperRating..numeric.\n",
       ":   '5'\n",
       "$ProsperRating..Alpha.\n",
       ":   'B'\n",
       "$ProsperScore\n",
       ":   1. ' 4'\n",
       "2. ' 8'\n",
       "3. ' 7'\n",
       "4. '10'\n",
       "5. ' 5'\n",
       "6. ' 6'\n",
       "\n",
       "\n",
       "\n",
       "$ListingCategory..numeric.\n",
       ":   '1'\n",
       "$BorrowerState\n",
       ":   'MD'\n",
       "$Occupation\n",
       ":   'Other'\n",
       "$EmploymentStatus\n",
       ":   'Employed'\n",
       "$EmploymentStatusDuration\n",
       ":   '26'\n",
       "$IsBorrowerHomeowner\n",
       ":   'False'\n",
       "$CurrentlyInGroup\n",
       ":   'False'\n",
       "$GroupKey\n",
       ":   ''\n",
       "$DateCreditPulled\n",
       ":   '2013-12-23 09:38:12'\n",
       "$CreditScoreRangeLower\n",
       ":   '720'\n",
       "$CreditScoreRangeUpper\n",
       ":   '739'\n",
       "$FirstRecordedCreditLine\n",
       ":   '1986-12-26 00:00:00'\n",
       "$CurrentCreditLines\n",
       ":   '12'\n",
       "$OpenCreditLines\n",
       ":   '12'\n",
       "$TotalCreditLinespast7years\n",
       ":   '20'\n",
       "$OpenRevolvingAccounts\n",
       ":   '6'\n",
       "$OpenRevolvingMonthlyPayment\n",
       ":   '348'\n",
       "$InquiriesLast6Months\n",
       ":   '0'\n",
       "$TotalInquiries\n",
       ":   '5'\n",
       "$CurrentDelinquencies\n",
       ":   '0'\n",
       "$AmountDelinquent\n",
       ":   '0'\n",
       "$DelinquenciesLast7Years\n",
       ":   '0'\n",
       "$PublicRecordsLast10Years\n",
       ":   '0'\n",
       "$PublicRecordsLast12Months\n",
       ":   '0'\n",
       "$RevolvingCreditBalance\n",
       ":   '14635'\n",
       "$BankcardUtilization\n",
       ":   '0.57'\n",
       "$AvailableBankcardCredit\n",
       ":   '10865'\n",
       "$TotalTrades\n",
       ":   '17'\n",
       "$TradesNeverDelinquent..percentage.\n",
       ":   '1'\n",
       "$TradesOpenedLast6Months\n",
       ":   '0'\n",
       "$DebtToIncomeRatio\n",
       ":   '0.41'\n",
       "$IncomeRange\n",
       ":   '$25,000-49,999'\n",
       "$IncomeVerifiable\n",
       ":   'True'\n",
       "$StatedMonthlyIncome\n",
       ":   '3000'\n",
       "$LoanKey\n",
       ":   'CB1B37030986463208432A1'\n",
       "$TotalProsperLoans\n",
       ":   'NA'\n",
       "$TotalProsperPaymentsBilled\n",
       ":   'NA'\n",
       "$OnTimeProsperPayments\n",
       ":   'NA'\n",
       "$ProsperPaymentsLessThanOneMonthLate\n",
       ":   'NA'\n",
       "$ProsperPaymentsOneMonthPlusLate\n",
       ":   'NA'\n",
       "$ProsperPrincipalBorrowed\n",
       ":   'NA'\n",
       "$ProsperPrincipalOutstanding\n",
       ":   'NA'\n",
       "$ScorexChangeAtTimeOfListing\n",
       ":   'NA'\n",
       "$LoanCurrentDaysDelinquent\n",
       ":   '0'\n",
       "$LoanFirstDefaultedCycleNumber\n",
       ":   'NA'\n",
       "$LoanMonthsSinceOrigination\n",
       ":   '2'\n",
       "$LoanNumber\n",
       ":   '126059'\n",
       "$LoanOriginalAmount\n",
       ":   '10000'\n",
       "$LoanOriginationDate\n",
       ":   '2014-01-13 00:00:00'\n",
       "$LoanOriginationQuarter\n",
       ":   'Q1 2014'\n",
       "$MemberKey\n",
       ":   'F80D3694083622957BA09F2'\n",
       "$MonthlyLoanPayment\n",
       ":   '234.5'\n",
       "$LP_CustomerPayments\n",
       ":   '234.5'\n",
       "$LP_CustomerPrincipalPayments\n",
       ":   '112.62'\n",
       "$LP_InterestandFees\n",
       ":   '121.88'\n",
       "$LP_ServiceFees\n",
       ":   '-8.49'\n",
       "$LP_CollectionFees\n",
       ":   '0'\n",
       "$LP_GrossPrincipalLoss\n",
       ":   '0'\n",
       "$LP_NetPrincipalLoss\n",
       ":   '0'\n",
       "$LP_NonPrincipalRecoverypayments\n",
       ":   '0'\n",
       "$PercentFunded\n",
       ":   '1'\n",
       "$Recommendations\n",
       ":   '0'\n",
       "$InvestmentFromFriendsCount\n",
       ":   '0'\n",
       "$InvestmentFromFriendsAmount\n",
       ":   '0'\n",
       "$Investors\n",
       ":   '96'\n",
       "\n",
       "\n"
      ],
      "text/plain": [
       "$ListingKey\n",
       "[1] \"17A93590655669644DB4C06\"\n",
       "\n",
       "$ListingNumber\n",
       "[1] \"951186\"\n",
       "\n",
       "$ListingCreationDate\n",
       "[1] \"2013-10-02 17:20:16.550000000\"\n",
       "\n",
       "$CreditGrade\n",
       "[1] \"\"\n",
       "\n",
       "$Term\n",
       "[1] \"60\"\n",
       "\n",
       "$LoanStatus\n",
       "[1] \"Current\"\n",
       "\n",
       "$ClosedDate\n",
       "[1] \"\"\n",
       "\n",
       "$BorrowerAPR\n",
       "[1] \"0.16662\"\n",
       "\n",
       "$BorrowerRate\n",
       "[1] \"0.1435\"\n",
       "\n",
       "$LenderYield\n",
       "[1] \"0.1335\"\n",
       "\n",
       "$EstimatedEffectiveYield\n",
       "[1] \"0.1264\"\n",
       "\n",
       "$EstimatedLoss\n",
       "[1] \"0.0524\"\n",
       "\n",
       "$EstimatedReturn\n",
       "[1] \"0.074\"\n",
       "\n",
       "$ProsperRating..numeric.\n",
       "[1] \"5\"\n",
       "\n",
       "$ProsperRating..Alpha.\n",
       "[1] \"B\"\n",
       "\n",
       "$ProsperScore\n",
       "[1] \" 4\" \" 8\" \" 7\" \"10\" \" 5\" \" 6\"\n",
       "\n",
       "$ListingCategory..numeric.\n",
       "[1] \"1\"\n",
       "\n",
       "$BorrowerState\n",
       "[1] \"MD\"\n",
       "\n",
       "$Occupation\n",
       "[1] \"Other\"\n",
       "\n",
       "$EmploymentStatus\n",
       "[1] \"Employed\"\n",
       "\n",
       "$EmploymentStatusDuration\n",
       "[1] \"26\"\n",
       "\n",
       "$IsBorrowerHomeowner\n",
       "[1] \"False\"\n",
       "\n",
       "$CurrentlyInGroup\n",
       "[1] \"False\"\n",
       "\n",
       "$GroupKey\n",
       "[1] \"\"\n",
       "\n",
       "$DateCreditPulled\n",
       "[1] \"2013-12-23 09:38:12\"\n",
       "\n",
       "$CreditScoreRangeLower\n",
       "[1] \"720\"\n",
       "\n",
       "$CreditScoreRangeUpper\n",
       "[1] \"739\"\n",
       "\n",
       "$FirstRecordedCreditLine\n",
       "[1] \"1986-12-26 00:00:00\"\n",
       "\n",
       "$CurrentCreditLines\n",
       "[1] \"12\"\n",
       "\n",
       "$OpenCreditLines\n",
       "[1] \"12\"\n",
       "\n",
       "$TotalCreditLinespast7years\n",
       "[1] \"20\"\n",
       "\n",
       "$OpenRevolvingAccounts\n",
       "[1] \"6\"\n",
       "\n",
       "$OpenRevolvingMonthlyPayment\n",
       "[1] \"348\"\n",
       "\n",
       "$InquiriesLast6Months\n",
       "[1] \"0\"\n",
       "\n",
       "$TotalInquiries\n",
       "[1] \"5\"\n",
       "\n",
       "$CurrentDelinquencies\n",
       "[1] \"0\"\n",
       "\n",
       "$AmountDelinquent\n",
       "[1] \"0\"\n",
       "\n",
       "$DelinquenciesLast7Years\n",
       "[1] \"0\"\n",
       "\n",
       "$PublicRecordsLast10Years\n",
       "[1] \"0\"\n",
       "\n",
       "$PublicRecordsLast12Months\n",
       "[1] \"0\"\n",
       "\n",
       "$RevolvingCreditBalance\n",
       "[1] \"14635\"\n",
       "\n",
       "$BankcardUtilization\n",
       "[1] \"0.57\"\n",
       "\n",
       "$AvailableBankcardCredit\n",
       "[1] \"10865\"\n",
       "\n",
       "$TotalTrades\n",
       "[1] \"17\"\n",
       "\n",
       "$TradesNeverDelinquent..percentage.\n",
       "[1] \"1\"\n",
       "\n",
       "$TradesOpenedLast6Months\n",
       "[1] \"0\"\n",
       "\n",
       "$DebtToIncomeRatio\n",
       "[1] \"0.41\"\n",
       "\n",
       "$IncomeRange\n",
       "[1] \"$25,000-49,999\"\n",
       "\n",
       "$IncomeVerifiable\n",
       "[1] \"True\"\n",
       "\n",
       "$StatedMonthlyIncome\n",
       "[1] \"3000\"\n",
       "\n",
       "$LoanKey\n",
       "[1] \"CB1B37030986463208432A1\"\n",
       "\n",
       "$TotalProsperLoans\n",
       "[1] NA\n",
       "\n",
       "$TotalProsperPaymentsBilled\n",
       "[1] NA\n",
       "\n",
       "$OnTimeProsperPayments\n",
       "[1] NA\n",
       "\n",
       "$ProsperPaymentsLessThanOneMonthLate\n",
       "[1] NA\n",
       "\n",
       "$ProsperPaymentsOneMonthPlusLate\n",
       "[1] NA\n",
       "\n",
       "$ProsperPrincipalBorrowed\n",
       "[1] NA\n",
       "\n",
       "$ProsperPrincipalOutstanding\n",
       "[1] NA\n",
       "\n",
       "$ScorexChangeAtTimeOfListing\n",
       "[1] NA\n",
       "\n",
       "$LoanCurrentDaysDelinquent\n",
       "[1] \"0\"\n",
       "\n",
       "$LoanFirstDefaultedCycleNumber\n",
       "[1] NA\n",
       "\n",
       "$LoanMonthsSinceOrigination\n",
       "[1] \"2\"\n",
       "\n",
       "$LoanNumber\n",
       "[1] \"126059\"\n",
       "\n",
       "$LoanOriginalAmount\n",
       "[1] \"10000\"\n",
       "\n",
       "$LoanOriginationDate\n",
       "[1] \"2014-01-13 00:00:00\"\n",
       "\n",
       "$LoanOriginationQuarter\n",
       "[1] \"Q1 2014\"\n",
       "\n",
       "$MemberKey\n",
       "[1] \"F80D3694083622957BA09F2\"\n",
       "\n",
       "$MonthlyLoanPayment\n",
       "[1] \"234.5\"\n",
       "\n",
       "$LP_CustomerPayments\n",
       "[1] \"234.5\"\n",
       "\n",
       "$LP_CustomerPrincipalPayments\n",
       "[1] \"112.62\"\n",
       "\n",
       "$LP_InterestandFees\n",
       "[1] \"121.88\"\n",
       "\n",
       "$LP_ServiceFees\n",
       "[1] \"-8.49\"\n",
       "\n",
       "$LP_CollectionFees\n",
       "[1] \"0\"\n",
       "\n",
       "$LP_GrossPrincipalLoss\n",
       "[1] \"0\"\n",
       "\n",
       "$LP_NetPrincipalLoss\n",
       "[1] \"0\"\n",
       "\n",
       "$LP_NonPrincipalRecoverypayments\n",
       "[1] \"0\"\n",
       "\n",
       "$PercentFunded\n",
       "[1] \"1\"\n",
       "\n",
       "$Recommendations\n",
       "[1] \"0\"\n",
       "\n",
       "$InvestmentFromFriendsCount\n",
       "[1] \"0\"\n",
       "\n",
       "$InvestmentFromFriendsAmount\n",
       "[1] \"0\"\n",
       "\n",
       "$Investors\n",
       "[1] \"96\"\n"
      ]
     },
     "metadata": {},
     "output_type": "display_data"
    }
   ],
   "source": [
    "datadf %>%\n",
    "filter(ListingKey == '17A93590655669644DB4C06') %>%\n",
    "apply(2, unique) \n",
    "#This might be done with count."
   ]
  },
  {
   "cell_type": "markdown",
   "metadata": {
    "deletable": true,
    "editable": true
   },
   "source": [
    "There it is, this loan somehow as 6 different ProsperScores. Let's see if this holds true for the other duplicate loans."
   ]
  },
  {
   "cell_type": "code",
   "execution_count": 44,
   "metadata": {
    "collapsed": false,
    "deletable": true,
    "editable": true
   },
   "outputs": [
    {
     "data": {
      "text/html": [
       "<strong>ProsperScore:</strong> 4"
      ],
      "text/latex": [
       "\\textbf{ProsperScore:} 4"
      ],
      "text/markdown": [
       "**ProsperScore:** 4"
      ],
      "text/plain": [
       "ProsperScore \n",
       "           4 "
      ]
     },
     "metadata": {},
     "output_type": "display_data"
    }
   ],
   "source": [
    "duplicate_listing <- datadf %>%\n",
    "filter(ListingKey == '349D3587495831350F0F648') %>%\n",
    "apply(2, unique) %>%\n",
    "sapply(length) \n",
    "\n",
    "duplicate_listing[duplicate_listing > 1]"
   ]
  },
  {
   "cell_type": "markdown",
   "metadata": {
    "deletable": true,
    "editable": true
   },
   "source": [
    "Here is where I would create a function to abstract this to confirm that repeat ProsperScores is indeed the culprit in each one of these instances, and then I would remove those observations. However, this is supposed to be a quick and dirty exploration of data. We now know this data isn't perfectly clean, and we don't know what sort of snapshot this is of the dataset. Let's return to a broad look."
   ]
  },
  {
   "cell_type": "code",
   "execution_count": 4,
   "metadata": {
    "collapsed": false,
    "deletable": true,
    "editable": true
   },
   "outputs": [
    {
     "data": {
      "text/plain": [
       "                   ListingKey     ListingNumber    \n",
       " 17A93590655669644DB4C06:     6   Min.   :      4  \n",
       " 349D3587495831350F0F648:     4   1st Qu.: 400919  \n",
       " 47C1359638497431975670B:     4   Median : 600554  \n",
       " 8474358854651984137201C:     4   Mean   : 627886  \n",
       " DE8535960513435199406CE:     4   3rd Qu.: 892634  \n",
       " 04C13599434217079754AEE:     3   Max.   :1255725  \n",
       " (Other)                :113912                    \n",
       "                    ListingCreationDate  CreditGrade         Term      \n",
       " 2013-10-02 17:20:16.550000000:     6          :84984   Min.   :12.00  \n",
       " 2013-08-28 20:31:41.107000000:     4   C      : 5649   1st Qu.:36.00  \n",
       " 2013-09-08 09:27:44.853000000:     4   D      : 5153   Median :36.00  \n",
       " 2013-12-06 05:43:13.830000000:     4   B      : 4389   Mean   :40.83  \n",
       " 2013-12-06 11:44:58.283000000:     4   AA     : 3509   3rd Qu.:36.00  \n",
       " 2013-08-21 07:25:22.360000000:     3   HR     : 3508   Max.   :60.00  \n",
       " (Other)                      :113912   (Other): 6745                  \n",
       "                 LoanStatus                  ClosedDate     BorrowerAPR     \n",
       " Current              :56576                      :58848   Min.   :0.00653  \n",
       " Completed            :38074   2014-03-04 00:00:00:  105   1st Qu.:0.15629  \n",
       " Chargedoff           :11992   2014-02-19 00:00:00:  100   Median :0.20976  \n",
       " Defaulted            : 5018   2014-02-11 00:00:00:   92   Mean   :0.21883  \n",
       " Past Due (1-15 days) :  806   2012-10-30 00:00:00:   81   3rd Qu.:0.28381  \n",
       " Past Due (31-60 days):  363   2013-02-26 00:00:00:   78   Max.   :0.51229  \n",
       " (Other)              : 1108   (Other)            :54633   NA's   :25       \n",
       "  BorrowerRate     LenderYield      EstimatedEffectiveYield EstimatedLoss  \n",
       " Min.   :0.0000   Min.   :-0.0100   Min.   :-0.183          Min.   :0.005  \n",
       " 1st Qu.:0.1340   1st Qu.: 0.1242   1st Qu.: 0.116          1st Qu.:0.042  \n",
       " Median :0.1840   Median : 0.1730   Median : 0.162          Median :0.072  \n",
       " Mean   :0.1928   Mean   : 0.1827   Mean   : 0.169          Mean   :0.080  \n",
       " 3rd Qu.:0.2500   3rd Qu.: 0.2400   3rd Qu.: 0.224          3rd Qu.:0.112  \n",
       " Max.   :0.4975   Max.   : 0.4925   Max.   : 0.320          Max.   :0.366  \n",
       "                                    NA's   :29084           NA's   :29084  \n",
       " EstimatedReturn  ProsperRating..numeric. ProsperRating..Alpha.  ProsperScore  \n",
       " Min.   :-0.183   Min.   :1.000                  :29084         Min.   : 1.00  \n",
       " 1st Qu.: 0.074   1st Qu.:3.000           C      :18345         1st Qu.: 4.00  \n",
       " Median : 0.092   Median :4.000           B      :15581         Median : 6.00  \n",
       " Mean   : 0.096   Mean   :4.072           A      :14551         Mean   : 5.95  \n",
       " 3rd Qu.: 0.117   3rd Qu.:5.000           D      :14274         3rd Qu.: 8.00  \n",
       " Max.   : 0.284   Max.   :7.000           E      : 9795         Max.   :11.00  \n",
       " NA's   :29084    NA's   :29084           (Other):12307         NA's   :29084  \n",
       " ListingCategory..numeric. BorrowerState                      Occupation   \n",
       " Min.   : 0.000            CA     :14717   Other                   :28617  \n",
       " 1st Qu.: 1.000            TX     : 6842   Professional            :13628  \n",
       " Median : 1.000            NY     : 6729   Computer Programmer     : 4478  \n",
       " Mean   : 2.774            FL     : 6720   Executive               : 4311  \n",
       " 3rd Qu.: 3.000            IL     : 5921   Teacher                 : 3759  \n",
       " Max.   :20.000                   : 5515   Administrative Assistant: 3688  \n",
       "                           (Other):67493   (Other)                 :55456  \n",
       "      EmploymentStatus EmploymentStatusDuration IsBorrowerHomeowner\n",
       " Employed     :67322   Min.   :  0.00           False:56459        \n",
       " Full-time    :26355   1st Qu.: 26.00           True :57478        \n",
       " Self-employed: 6134   Median : 67.00                              \n",
       " Not available: 5347   Mean   : 96.07                              \n",
       " Other        : 3806   3rd Qu.:137.00                              \n",
       "              : 2255   Max.   :755.00                              \n",
       " (Other)      : 2718   NA's   :7625                                \n",
       " CurrentlyInGroup                    GroupKey                 DateCreditPulled \n",
       " False:101218                            :100596   2013-12-23 09:38:12:     6  \n",
       " True : 12719     783C3371218786870A73D20:  1140   2013-11-21 09:09:41:     4  \n",
       "                  3D4D3366260257624AB272D:   916   2013-12-06 05:43:16:     4  \n",
       "                  6A3B336601725506917317E:   698   2014-01-14 20:17:49:     4  \n",
       "                  FEF83377364176536637E50:   611   2014-02-09 12:14:41:     4  \n",
       "                  C9643379247860156A00EC0:   342   2013-09-27 22:04:54:     3  \n",
       "                  (Other)                :  9634   (Other)            :113912  \n",
       " CreditScoreRangeLower CreditScoreRangeUpper        FirstRecordedCreditLine\n",
       " Min.   :  0.0         Min.   : 19.0                            :   697    \n",
       " 1st Qu.:660.0         1st Qu.:679.0         1993-12-01 00:00:00:   185    \n",
       " Median :680.0         Median :699.0         1994-11-01 00:00:00:   178    \n",
       " Mean   :685.6         Mean   :704.6         1995-11-01 00:00:00:   168    \n",
       " 3rd Qu.:720.0         3rd Qu.:739.0         1990-04-01 00:00:00:   161    \n",
       " Max.   :880.0         Max.   :899.0         1995-03-01 00:00:00:   159    \n",
       " NA's   :591           NA's   :591           (Other)            :112389    \n",
       " CurrentCreditLines OpenCreditLines TotalCreditLinespast7years\n",
       " Min.   : 0.00      Min.   : 0.00   Min.   :  2.00            \n",
       " 1st Qu.: 7.00      1st Qu.: 6.00   1st Qu.: 17.00            \n",
       " Median :10.00      Median : 9.00   Median : 25.00            \n",
       " Mean   :10.32      Mean   : 9.26   Mean   : 26.75            \n",
       " 3rd Qu.:13.00      3rd Qu.:12.00   3rd Qu.: 35.00            \n",
       " Max.   :59.00      Max.   :54.00   Max.   :136.00            \n",
       " NA's   :7604       NA's   :7604    NA's   :697               \n",
       " OpenRevolvingAccounts OpenRevolvingMonthlyPayment InquiriesLast6Months\n",
       " Min.   : 0.00         Min.   :    0.0             Min.   :  0.000     \n",
       " 1st Qu.: 4.00         1st Qu.:  114.0             1st Qu.:  0.000     \n",
       " Median : 6.00         Median :  271.0             Median :  1.000     \n",
       " Mean   : 6.97         Mean   :  398.3             Mean   :  1.435     \n",
       " 3rd Qu.: 9.00         3rd Qu.:  525.0             3rd Qu.:  2.000     \n",
       " Max.   :51.00         Max.   :14985.0             Max.   :105.000     \n",
       "                                                   NA's   :697         \n",
       " TotalInquiries    CurrentDelinquencies AmountDelinquent  \n",
       " Min.   :  0.000   Min.   : 0.0000      Min.   :     0.0  \n",
       " 1st Qu.:  2.000   1st Qu.: 0.0000      1st Qu.:     0.0  \n",
       " Median :  4.000   Median : 0.0000      Median :     0.0  \n",
       " Mean   :  5.584   Mean   : 0.5921      Mean   :   984.5  \n",
       " 3rd Qu.:  7.000   3rd Qu.: 0.0000      3rd Qu.:     0.0  \n",
       " Max.   :379.000   Max.   :83.0000      Max.   :463881.0  \n",
       " NA's   :1159      NA's   :697          NA's   :7622      \n",
       " DelinquenciesLast7Years PublicRecordsLast10Years PublicRecordsLast12Months\n",
       " Min.   : 0.000          Min.   : 0.0000          Min.   : 0.000           \n",
       " 1st Qu.: 0.000          1st Qu.: 0.0000          1st Qu.: 0.000           \n",
       " Median : 0.000          Median : 0.0000          Median : 0.000           \n",
       " Mean   : 4.155          Mean   : 0.3126          Mean   : 0.015           \n",
       " 3rd Qu.: 3.000          3rd Qu.: 0.0000          3rd Qu.: 0.000           \n",
       " Max.   :99.000          Max.   :38.0000          Max.   :20.000           \n",
       " NA's   :990             NA's   :697              NA's   :7604             \n",
       " RevolvingCreditBalance BankcardUtilization AvailableBankcardCredit\n",
       " Min.   :      0        Min.   :0.000       Min.   :     0         \n",
       " 1st Qu.:   3121        1st Qu.:0.310       1st Qu.:   880         \n",
       " Median :   8549        Median :0.600       Median :  4100         \n",
       " Mean   :  17599        Mean   :0.561       Mean   : 11210         \n",
       " 3rd Qu.:  19521        3rd Qu.:0.840       3rd Qu.: 13180         \n",
       " Max.   :1435667        Max.   :5.950       Max.   :646285         \n",
       " NA's   :7604           NA's   :7604        NA's   :7544           \n",
       "  TotalTrades     TradesNeverDelinquent..percentage. TradesOpenedLast6Months\n",
       " Min.   :  0.00   Min.   :0.000                      Min.   : 0.000         \n",
       " 1st Qu.: 15.00   1st Qu.:0.820                      1st Qu.: 0.000         \n",
       " Median : 22.00   Median :0.940                      Median : 0.000         \n",
       " Mean   : 23.23   Mean   :0.886                      Mean   : 0.802         \n",
       " 3rd Qu.: 30.00   3rd Qu.:1.000                      3rd Qu.: 1.000         \n",
       " Max.   :126.00   Max.   :1.000                      Max.   :20.000         \n",
       " NA's   :7544     NA's   :7544                       NA's   :7544           \n",
       " DebtToIncomeRatio         IncomeRange    IncomeVerifiable StatedMonthlyIncome\n",
       " Min.   : 0.000    $25,000-49,999:32192   False:  8669     Min.   :      0    \n",
       " 1st Qu.: 0.140    $50,000-74,999:31050   True :105268     1st Qu.:   3200    \n",
       " Median : 0.220    $100,000+     :17337                    Median :   4667    \n",
       " Mean   : 0.276    $75,000-99,999:16916                    Mean   :   5608    \n",
       " 3rd Qu.: 0.320    Not displayed : 7741                    3rd Qu.:   6825    \n",
       " Max.   :10.010    $1-24,999     : 7274                    Max.   :1750003    \n",
       " NA's   :8554      (Other)       : 1427                                       \n",
       "                    LoanKey       TotalProsperLoans TotalProsperPaymentsBilled\n",
       " CB1B37030986463208432A1:     6   Min.   :0.00      Min.   :  0.00            \n",
       " 2DEE3698211017519D7333F:     4   1st Qu.:1.00      1st Qu.:  9.00            \n",
       " 9F4B37043517554537C364C:     4   Median :1.00      Median : 16.00            \n",
       " D895370150591392337ED6D:     4   Mean   :1.42      Mean   : 22.93            \n",
       " E6FB37073953690388BC56D:     4   3rd Qu.:2.00      3rd Qu.: 33.00            \n",
       " 0D8F37036734373301ED419:     3   Max.   :8.00      Max.   :141.00            \n",
       " (Other)                :113912   NA's   :91852     NA's   :91852             \n",
       " OnTimeProsperPayments ProsperPaymentsLessThanOneMonthLate\n",
       " Min.   :  0.00        Min.   : 0.00                      \n",
       " 1st Qu.:  9.00        1st Qu.: 0.00                      \n",
       " Median : 15.00        Median : 0.00                      \n",
       " Mean   : 22.27        Mean   : 0.61                      \n",
       " 3rd Qu.: 32.00        3rd Qu.: 0.00                      \n",
       " Max.   :141.00        Max.   :42.00                      \n",
       " NA's   :91852         NA's   :91852                      \n",
       " ProsperPaymentsOneMonthPlusLate ProsperPrincipalBorrowed\n",
       " Min.   : 0.00                   Min.   :    0           \n",
       " 1st Qu.: 0.00                   1st Qu.: 3500           \n",
       " Median : 0.00                   Median : 6000           \n",
       " Mean   : 0.05                   Mean   : 8472           \n",
       " 3rd Qu.: 0.00                   3rd Qu.:11000           \n",
       " Max.   :21.00                   Max.   :72499           \n",
       " NA's   :91852                   NA's   :91852           \n",
       " ProsperPrincipalOutstanding ScorexChangeAtTimeOfListing\n",
       " Min.   :    0               Min.   :-209.00            \n",
       " 1st Qu.:    0               1st Qu.: -35.00            \n",
       " Median : 1627               Median :  -3.00            \n",
       " Mean   : 2930               Mean   :  -3.22            \n",
       " 3rd Qu.: 4127               3rd Qu.:  25.00            \n",
       " Max.   :23451               Max.   : 286.00            \n",
       " NA's   :91852               NA's   :95009              \n",
       " LoanCurrentDaysDelinquent LoanFirstDefaultedCycleNumber\n",
       " Min.   :   0.0            Min.   : 0.00                \n",
       " 1st Qu.:   0.0            1st Qu.: 9.00                \n",
       " Median :   0.0            Median :14.00                \n",
       " Mean   : 152.8            Mean   :16.27                \n",
       " 3rd Qu.:   0.0            3rd Qu.:22.00                \n",
       " Max.   :2704.0            Max.   :44.00                \n",
       "                           NA's   :96985                \n",
       " LoanMonthsSinceOrigination   LoanNumber     LoanOriginalAmount\n",
       " Min.   :  0.0              Min.   :     1   Min.   : 1000     \n",
       " 1st Qu.:  6.0              1st Qu.: 37332   1st Qu.: 4000     \n",
       " Median : 21.0              Median : 68599   Median : 6500     \n",
       " Mean   : 31.9              Mean   : 69444   Mean   : 8337     \n",
       " 3rd Qu.: 65.0              3rd Qu.:101901   3rd Qu.:12000     \n",
       " Max.   :100.0              Max.   :136486   Max.   :35000     \n",
       "                                                               \n",
       "          LoanOriginationDate LoanOriginationQuarter\n",
       " 2014-01-22 00:00:00:   491   Q4 2013:14450         \n",
       " 2013-11-13 00:00:00:   490   Q1 2014:12172         \n",
       " 2014-02-19 00:00:00:   439   Q3 2013: 9180         \n",
       " 2013-10-16 00:00:00:   434   Q2 2013: 7099         \n",
       " 2014-01-28 00:00:00:   339   Q3 2012: 5632         \n",
       " 2013-09-24 00:00:00:   316   Q2 2012: 5061         \n",
       " (Other)            :111428   (Other):60343         \n",
       "                   MemberKey      MonthlyLoanPayment LP_CustomerPayments\n",
       " 63CA34120866140639431C9:     9   Min.   :   0.0     Min.   :   -2.35   \n",
       " 16083364744933457E57FB9:     8   1st Qu.: 131.6     1st Qu.: 1005.76   \n",
       " 3A2F3380477699707C81385:     8   Median : 217.7     Median : 2583.83   \n",
       " 4D9C3403302047712AD0CDD:     8   Mean   : 272.5     Mean   : 4183.08   \n",
       " 739C338135235294782AE75:     8   3rd Qu.: 371.6     3rd Qu.: 5548.40   \n",
       " 7E1733653050264822FAA3D:     8   Max.   :2251.5     Max.   :40702.39   \n",
       " (Other)                :113888                                         \n",
       " LP_CustomerPrincipalPayments LP_InterestandFees LP_ServiceFees   \n",
       " Min.   :    0.0              Min.   :   -2.35   Min.   :-664.87  \n",
       " 1st Qu.:  500.9              1st Qu.:  274.87   1st Qu.: -73.18  \n",
       " Median : 1587.5              Median :  700.84   Median : -34.44  \n",
       " Mean   : 3105.5              Mean   : 1077.54   Mean   : -54.73  \n",
       " 3rd Qu.: 4000.0              3rd Qu.: 1458.54   3rd Qu.: -13.92  \n",
       " Max.   :35000.0              Max.   :15617.03   Max.   :  32.06  \n",
       "                                                                  \n",
       " LP_CollectionFees  LP_GrossPrincipalLoss LP_NetPrincipalLoss\n",
       " Min.   :-9274.75   Min.   :  -94.2       Min.   : -954.5    \n",
       " 1st Qu.:    0.00   1st Qu.:    0.0       1st Qu.:    0.0    \n",
       " Median :    0.00   Median :    0.0       Median :    0.0    \n",
       " Mean   :  -14.24   Mean   :  700.4       Mean   :  681.4    \n",
       " 3rd Qu.:    0.00   3rd Qu.:    0.0       3rd Qu.:    0.0    \n",
       " Max.   :    0.00   Max.   :25000.0       Max.   :25000.0    \n",
       "                                                             \n",
       " LP_NonPrincipalRecoverypayments PercentFunded    Recommendations   \n",
       " Min.   :    0.00                Min.   :0.7000   Min.   : 0.00000  \n",
       " 1st Qu.:    0.00                1st Qu.:1.0000   1st Qu.: 0.00000  \n",
       " Median :    0.00                Median :1.0000   Median : 0.00000  \n",
       " Mean   :   25.14                Mean   :0.9986   Mean   : 0.04803  \n",
       " 3rd Qu.:    0.00                3rd Qu.:1.0000   3rd Qu.: 0.00000  \n",
       " Max.   :21117.90                Max.   :1.0125   Max.   :39.00000  \n",
       "                                                                    \n",
       " InvestmentFromFriendsCount InvestmentFromFriendsAmount   Investors      \n",
       " Min.   : 0.00000           Min.   :    0.00            Min.   :   1.00  \n",
       " 1st Qu.: 0.00000           1st Qu.:    0.00            1st Qu.:   2.00  \n",
       " Median : 0.00000           Median :    0.00            Median :  44.00  \n",
       " Mean   : 0.02346           Mean   :   16.55            Mean   :  80.48  \n",
       " 3rd Qu.: 0.00000           3rd Qu.:    0.00            3rd Qu.: 115.00  \n",
       " Max.   :33.00000           Max.   :25000.00            Max.   :1189.00  \n",
       "                                                                         "
      ]
     },
     "metadata": {},
     "output_type": "display_data"
    }
   ],
   "source": [
    "summary(datadf)"
   ]
  },
  {
   "cell_type": "markdown",
   "metadata": {
    "deletable": true,
    "editable": true
   },
   "source": [
    "All sorts of information there at a glance. Get to see ranges, maximums and counts. But it is a lot to take in at once, so let's dive into the individual variables I singled out earlier, begining with the term of the loans in the dataset."
   ]
  },
  {
   "cell_type": "code",
   "execution_count": 6,
   "metadata": {
    "collapsed": false,
    "deletable": true,
    "editable": true
   },
   "outputs": [
    {
     "data": {
      "text/html": [
       "<ol class=list-inline>\n",
       "\t<li>36</li>\n",
       "\t<li>36</li>\n",
       "\t<li>36</li>\n",
       "\t<li>36</li>\n",
       "\t<li>36</li>\n",
       "\t<li>60</li>\n",
       "</ol>\n"
      ],
      "text/latex": [
       "\\begin{enumerate*}\n",
       "\\item 36\n",
       "\\item 36\n",
       "\\item 36\n",
       "\\item 36\n",
       "\\item 36\n",
       "\\item 60\n",
       "\\end{enumerate*}\n"
      ],
      "text/markdown": [
       "1. 36\n",
       "2. 36\n",
       "3. 36\n",
       "4. 36\n",
       "5. 36\n",
       "6. 60\n",
       "\n",
       "\n"
      ],
      "text/plain": [
       "[1] 36 36 36 36 36 60"
      ]
     },
     "metadata": {},
     "output_type": "display_data"
    }
   ],
   "source": [
    "head(datadf$Term)"
   ]
  },
  {
   "cell_type": "code",
   "execution_count": 7,
   "metadata": {
    "collapsed": false,
    "deletable": true,
    "editable": true
   },
   "outputs": [
    {
     "data": {
      "text/plain": [
       "   Min. 1st Qu.  Median    Mean 3rd Qu.    Max. \n",
       "  12.00   36.00   36.00   40.83   36.00   60.00 "
      ]
     },
     "metadata": {},
     "output_type": "display_data"
    }
   ],
   "source": [
    "summary(datadf$Term)"
   ]
  },
  {
   "cell_type": "markdown",
   "metadata": {
    "deletable": true,
    "editable": true
   },
   "source": [
    "Seems like the minimum loan term is a year, but the mean is 40.83, a little over 3 years."
   ]
  },
  {
   "cell_type": "code",
   "execution_count": 7,
   "metadata": {
    "collapsed": false,
    "deletable": true,
    "editable": true
   },
   "outputs": [
    {
     "data": {},
     "metadata": {},
     "output_type": "display_data"
    },
    {
     "data": {
      "image/png": "[encoded data removed]",
      "text/plain": [
       "plot without title"
      ]
     },
     "metadata": {},
     "output_type": "display_data"
    }
   ],
   "source": [
    "# Plot Term frequency in years.\n",
    "ggplot(datadf, aes(Term/12)) + geom_bar()"
   ]
  },
  {
   "cell_type": "markdown",
   "metadata": {
    "deletable": true,
    "editable": true
   },
   "source": [
    "Here we can see that term is discrete, and that 3 year loans far outpace 5 year loans, with 1 year loans coming in a distant third."
   ]
  },
  {
   "cell_type": "code",
   "execution_count": 8,
   "metadata": {
    "collapsed": false,
    "deletable": true,
    "editable": true
   },
   "outputs": [
    {
     "data": {
      "text/html": [
       "<table>\n",
       "<thead><tr><th scope=col>Term</th><th scope=col>number_per_term</th><th scope=col>percentage</th></tr></thead>\n",
       "<tbody>\n",
       "\t<tr><td>12       </td><td> 1614    </td><td> 1.416572</td></tr>\n",
       "\t<tr><td>36       </td><td>87778    </td><td>77.040821</td></tr>\n",
       "\t<tr><td>60       </td><td>24545    </td><td>21.542607</td></tr>\n",
       "</tbody>\n",
       "</table>\n"
      ],
      "text/latex": [
       "\\begin{tabular}{r|lll}\n",
       " Term & number\\_per\\_term & percentage\\\\\n",
       "\\hline\n",
       "\t 12        &  1614     &  1.416572\\\\\n",
       "\t 36        & 87778     & 77.040821\\\\\n",
       "\t 60        & 24545     & 21.542607\\\\\n",
       "\\end{tabular}\n"
      ],
      "text/markdown": [
       "\n",
       "Term | number_per_term | percentage | \n",
       "|---|---|---|\n",
       "| 12        |  1614     |  1.416572 | \n",
       "| 36        | 87778     | 77.040821 | \n",
       "| 60        | 24545     | 21.542607 | \n",
       "\n",
       "\n"
      ],
      "text/plain": [
       "  Term number_per_term percentage\n",
       "1 12    1614            1.416572 \n",
       "2 36   87778           77.040821 \n",
       "3 60   24545           21.542607 "
      ]
     },
     "metadata": {},
     "output_type": "display_data"
    }
   ],
   "source": [
    "datadf %>%\n",
    "    group_by(Term) %>%\n",
    "    summarise(number_per_term = n()) %>%\n",
    "    mutate(percentage = number_per_term / sum(number_per_term) * 100)"
   ]
  },
  {
   "cell_type": "markdown",
   "metadata": {
    "deletable": true,
    "editable": true
   },
   "source": [
    "Here is the same information as percentages."
   ]
  },
  {
   "cell_type": "markdown",
   "metadata": {
    "deletable": true,
    "editable": true
   },
   "source": [
    "## Loan Status "
   ]
  },
  {
   "cell_type": "code",
   "execution_count": 10,
   "metadata": {
    "collapsed": false,
    "deletable": true,
    "editable": true,
    "scrolled": true
   },
   "outputs": [
    {
     "data": {
      "text/html": [
       "<dl class=dl-horizontal>\n",
       "\t<dt>Cancelled</dt>\n",
       "\t\t<dd>5</dd>\n",
       "\t<dt>Chargedoff</dt>\n",
       "\t\t<dd>11992</dd>\n",
       "\t<dt>Completed</dt>\n",
       "\t\t<dd>38074</dd>\n",
       "\t<dt>Current</dt>\n",
       "\t\t<dd>56576</dd>\n",
       "\t<dt>Defaulted</dt>\n",
       "\t\t<dd>5018</dd>\n",
       "\t<dt>FinalPaymentInProgress</dt>\n",
       "\t\t<dd>205</dd>\n",
       "\t<dt>Past Due (&gt;120 days)</dt>\n",
       "\t\t<dd>16</dd>\n",
       "\t<dt>Past Due (1-15 days)</dt>\n",
       "\t\t<dd>806</dd>\n",
       "\t<dt>Past Due (16-30 days)</dt>\n",
       "\t\t<dd>265</dd>\n",
       "\t<dt>Past Due (31-60 days)</dt>\n",
       "\t\t<dd>363</dd>\n",
       "\t<dt>Past Due (61-90 days)</dt>\n",
       "\t\t<dd>313</dd>\n",
       "\t<dt>Past Due (91-120 days)</dt>\n",
       "\t\t<dd>304</dd>\n",
       "</dl>\n"
      ],
      "text/latex": [
       "\\begin{description*}\n",
       "\\item[Cancelled] 5\n",
       "\\item[Chargedoff] 11992\n",
       "\\item[Completed] 38074\n",
       "\\item[Current] 56576\n",
       "\\item[Defaulted] 5018\n",
       "\\item[FinalPaymentInProgress] 205\n",
       "\\item[Past Due (>120 days)] 16\n",
       "\\item[Past Due (1-15 days)] 806\n",
       "\\item[Past Due (16-30 days)] 265\n",
       "\\item[Past Due (31-60 days)] 363\n",
       "\\item[Past Due (61-90 days)] 313\n",
       "\\item[Past Due (91-120 days)] 304\n",
       "\\end{description*}\n"
      ],
      "text/markdown": [
       "Cancelled\n",
       ":   5Chargedoff\n",
       ":   11992Completed\n",
       ":   38074Current\n",
       ":   56576Defaulted\n",
       ":   5018FinalPaymentInProgress\n",
       ":   205Past Due (&amp;gt;120 days)\n",
       ":   16Past Due (1-15 days)\n",
       ":   806Past Due (16-30 days)\n",
       ":   265Past Due (31-60 days)\n",
       ":   363Past Due (61-90 days)\n",
       ":   313Past Due (91-120 days)\n",
       ":   304\n",
       "\n"
      ],
      "text/plain": [
       "             Cancelled             Chargedoff              Completed \n",
       "                     5                  11992                  38074 \n",
       "               Current              Defaulted FinalPaymentInProgress \n",
       "                 56576                   5018                    205 \n",
       "  Past Due (>120 days)   Past Due (1-15 days)  Past Due (16-30 days) \n",
       "                    16                    806                    265 \n",
       " Past Due (31-60 days)  Past Due (61-90 days) Past Due (91-120 days) \n",
       "                   363                    313                    304 "
      ]
     },
     "metadata": {},
     "output_type": "display_data"
    }
   ],
   "source": [
    "summary(datadf$LoanStatus)"
   ]
  },
  {
   "cell_type": "markdown",
   "metadata": {
    "deletable": true,
    "editable": true
   },
   "source": [
    "A quick note on definitions:  \n",
    "Chargedoff - \n",
    "Via Investopedia.com \"A charge-off or chargeoff is the declaration by a creditor (usually a credit card account) that an amount of debt is unlikely to be collected. This occurs when a consumer becomes severely delinquent on a debt. Traditionally, creditors will make this declaration at the point of six months without payment.\"  \n",
    "  \n",
    "Default  \n",
    "\"Default is the failure to pay interest or principal on a loan or security when due. Default occurs when a debtor is unable to meet the legal obligation of debt repayment ... When an individual, a business or even a nation defaults on a debt obligation, the lender or investor has some recourse to reclaim the funds, but it varies based on the type of security involved.\n",
    "\n"
   ]
  },
  {
   "cell_type": "code",
   "execution_count": 15,
   "metadata": {
    "collapsed": false,
    "deletable": true,
    "editable": true,
    "scrolled": false
   },
   "outputs": [
    {
     "data": {},
     "metadata": {},
     "output_type": "display_data"
    },
    {
     "data": {
      "image/png": "[encoded data removed]",
      "text/plain": [
       "plot without title"
      ]
     },
     "metadata": {},
     "output_type": "display_data"
    }
   ],
   "source": [
    "ggplot(datadf, aes(LoanStatus)) + geom_bar() + theme(axis.text.x = element_text(angle = 45, hjust = 1))"
   ]
  },
  {
   "cell_type": "markdown",
   "metadata": {
    "deletable": true,
    "editable": true
   },
   "source": [
    "Happily, the majority of the loans are either current or completed. If we were creating a model for this data it would likely be to predict if a new loan was going to become charged-of, defaulted, or past due. Cancelled, as we can see from our table, has just 5 loans. At this point I also reorder the factors so that the Past Due levels are in the correct order."
   ]
  },
  {
   "cell_type": "code",
   "execution_count": 19,
   "metadata": {
    "collapsed": false,
    "deletable": true,
    "editable": true
   },
   "outputs": [
    {
     "data": {
      "text/html": [
       "<ol class=list-inline>\n",
       "\t<li>'Cancelled'</li>\n",
       "\t<li>'Defaulted'</li>\n",
       "\t<li>'Chargedoff'</li>\n",
       "\t<li>'Completed'</li>\n",
       "\t<li>'Current'</li>\n",
       "\t<li>'FinalPaymentInProgress'</li>\n",
       "\t<li>'Past Due (1-15 days)'</li>\n",
       "\t<li>'Past Due (16-30 days)'</li>\n",
       "\t<li>'Past Due (31-60 days)'</li>\n",
       "\t<li>'Past Due (61-90 days)'</li>\n",
       "\t<li>'Past Due (91-120 days)'</li>\n",
       "\t<li>'Past Due (&gt;120 days)'</li>\n",
       "</ol>\n"
      ],
      "text/latex": [
       "\\begin{enumerate*}\n",
       "\\item 'Cancelled'\n",
       "\\item 'Defaulted'\n",
       "\\item 'Chargedoff'\n",
       "\\item 'Completed'\n",
       "\\item 'Current'\n",
       "\\item 'FinalPaymentInProgress'\n",
       "\\item 'Past Due (1-15 days)'\n",
       "\\item 'Past Due (16-30 days)'\n",
       "\\item 'Past Due (31-60 days)'\n",
       "\\item 'Past Due (61-90 days)'\n",
       "\\item 'Past Due (91-120 days)'\n",
       "\\item 'Past Due (>120 days)'\n",
       "\\end{enumerate*}\n"
      ],
      "text/markdown": [
       "1. 'Cancelled'\n",
       "2. 'Defaulted'\n",
       "3. 'Chargedoff'\n",
       "4. 'Completed'\n",
       "5. 'Current'\n",
       "6. 'FinalPaymentInProgress'\n",
       "7. 'Past Due (1-15 days)'\n",
       "8. 'Past Due (16-30 days)'\n",
       "9. 'Past Due (31-60 days)'\n",
       "10. 'Past Due (61-90 days)'\n",
       "11. 'Past Due (91-120 days)'\n",
       "12. 'Past Due (&gt;120 days)'\n",
       "\n",
       "\n"
      ],
      "text/plain": [
       " [1] \"Cancelled\"              \"Defaulted\"              \"Chargedoff\"            \n",
       " [4] \"Completed\"              \"Current\"                \"FinalPaymentInProgress\"\n",
       " [7] \"Past Due (1-15 days)\"   \"Past Due (16-30 days)\"  \"Past Due (31-60 days)\" \n",
       "[10] \"Past Due (61-90 days)\"  \"Past Due (91-120 days)\" \"Past Due (>120 days)\"  "
      ]
     },
     "metadata": {},
     "output_type": "display_data"
    }
   ],
   "source": [
    "datadf$LoanStatus <- factor(datadf$LoanStatus, levels = c('Cancelled',\n",
    "                                                          'Defaulted',\n",
    "                                                          'Chargedoff',\n",
    "                                                          'Completed',\n",
    "                                                          'Current',\n",
    "                                                          'FinalPaymentInProgress',\n",
    "                                                          'Past Due (1-15 days)',\n",
    "                                                          'Past Due (16-30 days)',\n",
    "                                                          'Past Due (31-60 days)',\n",
    "                                                          'Past Due (61-90 days)',\n",
    "                                                          'Past Due (91-120 days)',\n",
    "                                                          'Past Due (>120 days)'\n",
    "                                                         ))\n",
    "levels(datadf$LoanStatus)"
   ]
  },
  {
   "cell_type": "code",
   "execution_count": 20,
   "metadata": {
    "collapsed": false,
    "deletable": true,
    "editable": true,
    "scrolled": false
   },
   "outputs": [
    {
     "data": {},
     "metadata": {},
     "output_type": "display_data"
    },
    {
     "data": {
      "image/png": "[encoded data removed]",
      "text/plain": [
       "plot without title"
      ]
     },
     "metadata": {},
     "output_type": "display_data"
    }
   ],
   "source": [
    "#Plot the distribution of Past Due Loans\n",
    "on_time_loans <- c('Cancelled', 'Completed', 'Chargedoff', 'Current','Defaulted','FinalPaymentInProgress')\n",
    "\n",
    "past_due_loans <- datadf %>%\n",
    "filter(!LoanStatus %in% on_time_loans)\n",
    "ggplot(past_due_loans, aes(LoanStatus)) + geom_bar() + theme(axis.text.x = element_text(angle = 45, hjust = 1))\n",
    "\n",
    "#adjusting x label source : http://tallman-world.tumblr.com/post/89964965867/rhow-to-rotate-axis-labels-in-ggplot2"
   ]
  },
  {
   "cell_type": "markdown",
   "metadata": {
    "deletable": true,
    "editable": true
   },
   "source": [
    "Here we look at the distribution of Past Due loans.  \n",
    "It seems that most loans that are past due are only 1-15 days past Due. This suggests that many of these loans are will become current again. I'm not sure if loans default or need to go through the whole 120 days. It is also worth noting that some of the bins here are larger than others, making the graph slightly misleading. (First two are 13 days, next three are 30.) "
   ]
  },
  {
   "cell_type": "code",
   "execution_count": 24,
   "metadata": {
    "collapsed": false,
    "deletable": true,
    "editable": true
   },
   "outputs": [
    {
     "data": {
      "text/html": [
       "<table>\n",
       "<thead><tr><th scope=col>ListingKey</th><th scope=col>ListingNumber</th><th scope=col>ListingCreationDate</th><th scope=col>CreditGrade</th><th scope=col>Term</th><th scope=col>LoanStatus</th><th scope=col>ClosedDate</th><th scope=col>BorrowerAPR</th><th scope=col>BorrowerRate</th><th scope=col>LenderYield</th><th scope=col>...</th><th scope=col>LP_ServiceFees</th><th scope=col>LP_CollectionFees</th><th scope=col>LP_GrossPrincipalLoss</th><th scope=col>LP_NetPrincipalLoss</th><th scope=col>LP_NonPrincipalRecoverypayments</th><th scope=col>PercentFunded</th><th scope=col>Recommendations</th><th scope=col>InvestmentFromFriendsCount</th><th scope=col>InvestmentFromFriendsAmount</th><th scope=col>Investors</th></tr></thead>\n",
       "<tbody>\n",
       "\t<tr><td>093D3365430569291709120      </td><td>  8912                       </td><td>2006-04-26 22:23:10.147000000</td><td>HR                           </td><td>36                           </td><td>Cancelled                    </td><td>2006-05-31 00:00:00          </td><td>0.25650                      </td><td>0.2375                       </td><td>0.2325                       </td><td>...                          </td><td>0                            </td><td>0                            </td><td>0                            </td><td>0                            </td><td>0                            </td><td>1                            </td><td>0                            </td><td>0                            </td><td>0                            </td><td> 6                           </td></tr>\n",
       "\t<tr><td>F77F33664545520971829DC      </td><td>  7646                       </td><td>2006-04-25 07:59:15.203000000</td><td>C                            </td><td>36                           </td><td>Cancelled                    </td><td>2006-05-31 00:00:00          </td><td>0.14659                      </td><td>0.1395                       </td><td>0.1345                       </td><td>...                          </td><td>0                            </td><td>0                            </td><td>0                            </td><td>0                            </td><td>0                            </td><td>1                            </td><td>0                            </td><td>0                            </td><td>0                            </td><td>62                           </td></tr>\n",
       "\t<tr><td>09E1336627538645259AE42      </td><td>   908                       </td><td>2006-02-28 08:18:58.527000000</td><td>HR                           </td><td>36                           </td><td>Cancelled                    </td><td>2006-03-29 00:00:00          </td><td>0.20735                      </td><td>0.2000                       </td><td>0.1950                       </td><td>...                          </td><td>0                            </td><td>0                            </td><td>0                            </td><td>0                            </td><td>0                            </td><td>1                            </td><td>0                            </td><td>0                            </td><td>0                            </td><td>23                           </td></tr>\n",
       "\t<tr><td>29453366240667435235AEE      </td><td> 11364                       </td><td>2006-05-05 03:16:59.510000000</td><td>HR                           </td><td>36                           </td><td>Cancelled                    </td><td>2006-05-31 00:00:00          </td><td>0.25650                      </td><td>0.2375                       </td><td>0.2325                       </td><td>...                          </td><td>0                            </td><td>0                            </td><td>0                            </td><td>0                            </td><td>0                            </td><td>1                            </td><td>0                            </td><td>0                            </td><td>0                            </td><td> 7                           </td></tr>\n",
       "\t<tr><td>E77E34330098056070F5C30      </td><td>410006                       </td><td>2008-10-07 17:09:34.653000000</td><td>A                            </td><td>36                           </td><td>Cancelled                    </td><td>2008-10-16 00:00:00          </td><td>0.16219                      </td><td>0.1075                       </td><td>0.0975                       </td><td>...                          </td><td>0                            </td><td>0                            </td><td>0                            </td><td>0                            </td><td>0                            </td><td>1                            </td><td>0                            </td><td>0                            </td><td>0                            </td><td>25                           </td></tr>\n",
       "</tbody>\n",
       "</table>\n"
      ],
      "text/latex": [
       "\\begin{tabular}{r|lllllllllllllllllllllllllllllllllllllllllllllllllllllllllllllllllllllllllllllllll}\n",
       " ListingKey & ListingNumber & ListingCreationDate & CreditGrade & Term & LoanStatus & ClosedDate & BorrowerAPR & BorrowerRate & LenderYield & ... & LP\\_ServiceFees & LP\\_CollectionFees & LP\\_GrossPrincipalLoss & LP\\_NetPrincipalLoss & LP\\_NonPrincipalRecoverypayments & PercentFunded & Recommendations & InvestmentFromFriendsCount & InvestmentFromFriendsAmount & Investors\\\\\n",
       "\\hline\n",
       "\t 093D3365430569291709120       &   8912                        & 2006-04-26 22:23:10.147000000 & HR                            & 36                            & Cancelled                     & 2006-05-31 00:00:00           & 0.25650                       & 0.2375                        & 0.2325                        & ...                           & 0                             & 0                             & 0                             & 0                             & 0                             & 1                             & 0                             & 0                             & 0                             &  6                           \\\\\n",
       "\t F77F33664545520971829DC       &   7646                        & 2006-04-25 07:59:15.203000000 & C                             & 36                            & Cancelled                     & 2006-05-31 00:00:00           & 0.14659                       & 0.1395                        & 0.1345                        & ...                           & 0                             & 0                             & 0                             & 0                             & 0                             & 1                             & 0                             & 0                             & 0                             & 62                           \\\\\n",
       "\t 09E1336627538645259AE42       &    908                        & 2006-02-28 08:18:58.527000000 & HR                            & 36                            & Cancelled                     & 2006-03-29 00:00:00           & 0.20735                       & 0.2000                        & 0.1950                        & ...                           & 0                             & 0                             & 0                             & 0                             & 0                             & 1                             & 0                             & 0                             & 0                             & 23                           \\\\\n",
       "\t 29453366240667435235AEE       &  11364                        & 2006-05-05 03:16:59.510000000 & HR                            & 36                            & Cancelled                     & 2006-05-31 00:00:00           & 0.25650                       & 0.2375                        & 0.2325                        & ...                           & 0                             & 0                             & 0                             & 0                             & 0                             & 1                             & 0                             & 0                             & 0                             &  7                           \\\\\n",
       "\t E77E34330098056070F5C30       & 410006                        & 2008-10-07 17:09:34.653000000 & A                             & 36                            & Cancelled                     & 2008-10-16 00:00:00           & 0.16219                       & 0.1075                        & 0.0975                        & ...                           & 0                             & 0                             & 0                             & 0                             & 0                             & 1                             & 0                             & 0                             & 0                             & 25                           \\\\\n",
       "\\end{tabular}\n"
      ],
      "text/markdown": [
       "\n",
       "ListingKey | ListingNumber | ListingCreationDate | CreditGrade | Term | LoanStatus | ClosedDate | BorrowerAPR | BorrowerRate | LenderYield | ... | LP_ServiceFees | LP_CollectionFees | LP_GrossPrincipalLoss | LP_NetPrincipalLoss | LP_NonPrincipalRecoverypayments | PercentFunded | Recommendations | InvestmentFromFriendsCount | InvestmentFromFriendsAmount | Investors | \n",
       "|---|---|---|---|---|\n",
       "| 093D3365430569291709120       |   8912                        | 2006-04-26 22:23:10.147000000 | HR                            | 36                            | Cancelled                     | 2006-05-31 00:00:00           | 0.25650                       | 0.2375                        | 0.2325                        | ...                           | 0                             | 0                             | 0                             | 0                             | 0                             | 1                             | 0                             | 0                             | 0                             |  6                            | \n",
       "| F77F33664545520971829DC       |   7646                        | 2006-04-25 07:59:15.203000000 | C                             | 36                            | Cancelled                     | 2006-05-31 00:00:00           | 0.14659                       | 0.1395                        | 0.1345                        | ...                           | 0                             | 0                             | 0                             | 0                             | 0                             | 1                             | 0                             | 0                             | 0                             | 62                            | \n",
       "| 09E1336627538645259AE42       |    908                        | 2006-02-28 08:18:58.527000000 | HR                            | 36                            | Cancelled                     | 2006-03-29 00:00:00           | 0.20735                       | 0.2000                        | 0.1950                        | ...                           | 0                             | 0                             | 0                             | 0                             | 0                             | 1                             | 0                             | 0                             | 0                             | 23                            | \n",
       "| 29453366240667435235AEE       |  11364                        | 2006-05-05 03:16:59.510000000 | HR                            | 36                            | Cancelled                     | 2006-05-31 00:00:00           | 0.25650                       | 0.2375                        | 0.2325                        | ...                           | 0                             | 0                             | 0                             | 0                             | 0                             | 1                             | 0                             | 0                             | 0                             |  7                            | \n",
       "| E77E34330098056070F5C30       | 410006                        | 2008-10-07 17:09:34.653000000 | A                             | 36                            | Cancelled                     | 2008-10-16 00:00:00           | 0.16219                       | 0.1075                        | 0.0975                        | ...                           | 0                             | 0                             | 0                             | 0                             | 0                             | 1                             | 0                             | 0                             | 0                             | 25                            | \n",
       "\n",
       "\n"
      ],
      "text/plain": [
       "  ListingKey              ListingNumber ListingCreationDate          \n",
       "1 093D3365430569291709120   8912        2006-04-26 22:23:10.147000000\n",
       "2 F77F33664545520971829DC   7646        2006-04-25 07:59:15.203000000\n",
       "3 09E1336627538645259AE42    908        2006-02-28 08:18:58.527000000\n",
       "4 29453366240667435235AEE  11364        2006-05-05 03:16:59.510000000\n",
       "5 E77E34330098056070F5C30 410006        2008-10-07 17:09:34.653000000\n",
       "  CreditGrade Term LoanStatus ClosedDate          BorrowerAPR BorrowerRate\n",
       "1 HR          36   Cancelled  2006-05-31 00:00:00 0.25650     0.2375      \n",
       "2 C           36   Cancelled  2006-05-31 00:00:00 0.14659     0.1395      \n",
       "3 HR          36   Cancelled  2006-03-29 00:00:00 0.20735     0.2000      \n",
       "4 HR          36   Cancelled  2006-05-31 00:00:00 0.25650     0.2375      \n",
       "5 A           36   Cancelled  2008-10-16 00:00:00 0.16219     0.1075      \n",
       "  LenderYield ... LP_ServiceFees LP_CollectionFees LP_GrossPrincipalLoss\n",
       "1 0.2325      ... 0              0                 0                    \n",
       "2 0.1345      ... 0              0                 0                    \n",
       "3 0.1950      ... 0              0                 0                    \n",
       "4 0.2325      ... 0              0                 0                    \n",
       "5 0.0975      ... 0              0                 0                    \n",
       "  LP_NetPrincipalLoss LP_NonPrincipalRecoverypayments PercentFunded\n",
       "1 0                   0                               1            \n",
       "2 0                   0                               1            \n",
       "3 0                   0                               1            \n",
       "4 0                   0                               1            \n",
       "5 0                   0                               1            \n",
       "  Recommendations InvestmentFromFriendsCount InvestmentFromFriendsAmount\n",
       "1 0               0                          0                          \n",
       "2 0               0                          0                          \n",
       "3 0               0                          0                          \n",
       "4 0               0                          0                          \n",
       "5 0               0                          0                          \n",
       "  Investors\n",
       "1  6       \n",
       "2 62       \n",
       "3 23       \n",
       "4  7       \n",
       "5 25       "
      ]
     },
     "metadata": {},
     "output_type": "display_data"
    }
   ],
   "source": [
    "datadf %>%\n",
    "filter(LoanStatus == 'Cancelled') "
   ]
  },
  {
   "cell_type": "markdown",
   "metadata": {
    "deletable": true,
    "editable": true
   },
   "source": [
    "Seems that these are loans that started to be funded and then were cancelled. There are only 5 of them, and they all seem to have been closed less than a month after creation."
   ]
  },
  {
   "cell_type": "code",
   "execution_count": 14,
   "metadata": {
    "collapsed": false,
    "deletable": true,
    "editable": true
   },
   "outputs": [
    {
     "data": {},
     "metadata": {},
     "output_type": "display_data"
    },
    {
     "data": {
      "image/png": "[encoded data removed]",
      "text/plain": [
       "plot without title"
      ]
     },
     "metadata": {},
     "output_type": "display_data"
    }
   ],
   "source": [
    "######Add a new, simplified LoanStatus column called simple.LoanStatus\n",
    "datadf %>%\n",
    "mutate(simple.LoanStatus = ifelse(str_detect(LoanStatus, \"Past\"), 'Past Due', as.character(LoanStatus)))%>%\n",
    "filter(!str_detect(simple.LoanStatus, \"Final\")) %>%\n",
    "filter(simple.LoanStatus != \"Cancelled\") %>%\n",
    "ggplot(aes(simple.LoanStatus)) + geom_bar()"
   ]
  },
  {
   "cell_type": "markdown",
   "metadata": {
    "deletable": true,
    "editable": true
   },
   "source": [
    "Our original LoanStatus bar chart had a bit too much going on, so above I have simplified it. This chart gives us a better idea of how many loans are past due.  \n",
    "\n",
    "These LoanStatus' are intersting, but a lot depends on the data. Is this a snapshot of a month, a year? If this was for all time Completed and Defaulted will eventually become a huge part of the mix as the amount of loan history outpaces loans being originated. This distribution makes me think that it is a snapshot of a certain time frame, perhaps 4 years. "
   ]
  },
  {
   "cell_type": "code",
   "execution_count": 21,
   "metadata": {
    "collapsed": true,
    "deletable": true,
    "editable": true
   },
   "outputs": [],
   "source": [
    "#Todo: Let's look at the origination dates to see if it gives us a clue."
   ]
  },
  {
   "cell_type": "markdown",
   "metadata": {
    "deletable": true,
    "editable": true
   },
   "source": [
    "## Borrower APR"
   ]
  },
  {
   "cell_type": "code",
   "execution_count": 15,
   "metadata": {
    "collapsed": false,
    "deletable": true,
    "editable": true
   },
   "outputs": [
    {
     "data": {
      "text/plain": [
       "   Min. 1st Qu.  Median    Mean 3rd Qu.    Max.    NA's \n",
       "0.00653 0.15630 0.20980 0.21880 0.28380 0.51230      25 "
      ]
     },
     "metadata": {},
     "output_type": "display_data"
    }
   ],
   "source": [
    "summary(datadf$BorrowerAPR)"
   ]
  },
  {
   "cell_type": "markdown",
   "metadata": {
    "deletable": true,
    "editable": true
   },
   "source": [
    "The Borrower APR is interesting to me in several ways. First off, there are people with incredible deals and terrible deals. Our minimum is .6% - that's a pretty great rate. I don't know anyone getting a rate that rate cheap outside of the Fed. On the other end there is someone paying 51% APR. Yikes. In some ways that probably means that's where the line is for risk. Prosper, or their lending partners, thinks there is a positive return on someone so risky you need to charge them over half the principal per year to loan it. "
   ]
  },
  {
   "cell_type": "code",
   "execution_count": 16,
   "metadata": {
    "collapsed": false,
    "deletable": true,
    "editable": true
   },
   "outputs": [
    {
     "name": "stderr",
     "output_type": "stream",
     "text": [
      "Warning message:\n",
      "\"Removed 25 rows containing non-finite values (stat_bin).\""
     ]
    },
    {
     "data": {},
     "metadata": {},
     "output_type": "display_data"
    },
    {
     "data": {
      "image/png": "[encoded data removed]",
      "text/plain": [
       "plot without title"
      ]
     },
     "metadata": {},
     "output_type": "display_data"
    }
   ],
   "source": [
    "ggplot(datadf, aes(BorrowerAPR)) + geom_histogram(bins=125)"
   ]
  },
  {
   "cell_type": "markdown",
   "metadata": {
    "deletable": true,
    "editable": true
   },
   "source": [
    "Several intersting things there. First off it's almost a normal distribution, but it seems to have  spikes near round APR's, as well as a spike little bit under 30%. There is also a large spike at around 35%. This histogram is a little noisy, so let's look at a density plot."
   ]
  },
  {
   "cell_type": "code",
   "execution_count": 17,
   "metadata": {
    "collapsed": false,
    "deletable": true,
    "editable": true
   },
   "outputs": [
    {
     "name": "stderr",
     "output_type": "stream",
     "text": [
      "Warning message:\n",
      "\"Removed 25 rows containing non-finite values (stat_density).\""
     ]
    },
    {
     "data": {},
     "metadata": {},
     "output_type": "display_data"
    },
    {
     "ename": "ERROR",
     "evalue": "Error in +geom_segment(x = 0.2): invalid argument to unary operator\n",
     "output_type": "error",
     "traceback": [
      "Error in +geom_segment(x = 0.2): invalid argument to unary operator\nTraceback:\n"
     ]
    },
    {
     "data": {
      "image/png": "[encoded data removed]",
      "text/plain": [
       "plot without title"
      ]
     },
     "metadata": {},
     "output_type": "display_data"
    }
   ],
   "source": [
    "ggplot(datadf, aes(BorrowerAPR)) + geom_density()\n",
    "+ geom_segment(x=.2)"
   ]
  },
  {
   "cell_type": "markdown",
   "metadata": {
    "deletable": true,
    "editable": true
   },
   "source": [
    "The peaks are easier to see with a density plot. But it is easy to see that a large amount of loans hover around 20% APR."
   ]
  },
  {
   "cell_type": "markdown",
   "metadata": {
    "deletable": true,
    "editable": true
   },
   "source": [
    "## BorrowerRate "
   ]
  },
  {
   "cell_type": "code",
   "execution_count": 18,
   "metadata": {
    "collapsed": false,
    "deletable": true,
    "editable": true
   },
   "outputs": [
    {
     "data": {
      "text/plain": [
       "   Min. 1st Qu.  Median    Mean 3rd Qu.    Max. \n",
       " 0.0000  0.1340  0.1840  0.1928  0.2500  0.4975 "
      ]
     },
     "metadata": {},
     "output_type": "display_data"
    }
   ],
   "source": [
    "summary(datadf$BorrowerRate)"
   ]
  },
  {
   "cell_type": "markdown",
   "metadata": {
    "deletable": true,
    "editable": true
   },
   "source": [
    "Here we notice that the rate is NOT the same thing as the APR. Looking at the definitions document we're simply told that the APR is the Annual Percentage Rate and that the Borrow's Rate is the borrower's interest rate for the loan. Some research tells us that these are calculated by:   \n",
    "\n",
    "APR - Annual Percentage Rate. A percentage that represents the acutal yearly cost of funds over the term of the loan. Includes additional costs or fees but does not take compounding into account.  \n",
    "\n",
    "Interest Rate - Refers only to the interst charged on the loan, doesn't take other expenses into acount. Therefore, APR tends to be higher than the loan's nominal interst rate. \n",
    "\n",
    "APY or EAR - Annual Percentage Yield or Effective Annual Rate takes compound interest into account. Tends to be larger than APR on the same loan.\n",
    "\n",
    "As all of the above illustrates, APR can be a misleading indicator of actual costs. Some experts feel the APR is best used to compare long-term loans. Even with shorter-term debt, such as a seven-year note, the APR actually understates the cost of the loan. This is because APR calculations assume long-term repayment schedules; for loans that are repaid faster or have shorter repayment periods, the costs and fees are spread too thin with APR calculations. The average annual impact of closing costs is much smaller when those costs are assumed to have been spread over 30 years instead of seven to 10 years.\n"
   ]
  },
  {
   "cell_type": "code",
   "execution_count": 19,
   "metadata": {
    "collapsed": false,
    "deletable": true,
    "editable": true
   },
   "outputs": [
    {
     "data": {
      "text/plain": [
       "   Min. 1st Qu.  Median    Mean 3rd Qu.    Max.    NA's \n",
       " -0.183   0.116   0.162   0.169   0.224   0.320   29084 "
      ]
     },
     "metadata": {},
     "output_type": "display_data"
    }
   ],
   "source": [
    "summary(datadf$EstimatedEffectiveYield)"
   ]
  },
  {
   "cell_type": "code",
   "execution_count": 20,
   "metadata": {
    "collapsed": false,
    "deletable": true,
    "editable": true
   },
   "outputs": [
    {
     "name": "stderr",
     "output_type": "stream",
     "text": [
      "Warning message:\n",
      "\"Removed 29084 rows containing non-finite values (stat_bin).\""
     ]
    },
    {
     "data": {},
     "metadata": {},
     "output_type": "display_data"
    },
    {
     "data": {
      "image/png": "[encoded data removed]",
      "text/plain": [
       "plot without title"
      ]
     },
     "metadata": {},
     "output_type": "display_data"
    }
   ],
   "source": [
    "ggplot(datadf, aes(EstimatedEffectiveYield))+geom_histogram(bins=100)\n",
    "#Why so many rows with non-finite values?"
   ]
  },
  {
   "cell_type": "markdown",
   "metadata": {
    "deletable": true,
    "editable": true
   },
   "source": [
    "You can see that this distribution mimics the distribution of APR's but moved slightly lower, with some tail to the left as well. Let's see what's causing negative estimated yield loans."
   ]
  },
  {
   "cell_type": "code",
   "execution_count": 6,
   "metadata": {
    "collapsed": false,
    "deletable": true,
    "editable": true
   },
   "outputs": [
    {
     "data": {
      "text/plain": [
       "                   ListingKey  ListingNumber   \n",
       " 009B3495741061236C0C927:  1   Min.   :416595  \n",
       " 02283482060850607BC27FE:  1   1st Qu.:433364  \n",
       " 02933496318097934A683F4:  1   Median :456488  \n",
       " 029A3499706893097DB1393:  1   Mean   :456150  \n",
       " 038535015703591930CD2E0:  1   3rd Qu.:477715  \n",
       " 03AA34675425410661C8213:  1   Max.   :487169  \n",
       " (Other)                :184                   \n",
       "                    ListingCreationDate  CreditGrade       Term   \n",
       " 2009-07-14 21:09:50.017000000:  1             :190   Min.   :36  \n",
       " 2009-07-17 13:57:20.620000000:  1      A      :  0   1st Qu.:36  \n",
       " 2009-07-23 16:16:18.167000000:  1      AA     :  0   Median :36  \n",
       " 2009-07-31 15:25:54.323000000:  1      B      :  0   Mean   :36  \n",
       " 2009-07-31 15:41:11.917000000:  1      C      :  0   3rd Qu.:36  \n",
       " 2009-08-04 12:24:33.823000000:  1      D      :  0   Max.   :36  \n",
       " (Other)                      :184      (Other):  0               \n",
       "                  LoanStatus                ClosedDate   BorrowerAPR     \n",
       " Completed             :146   2013-05-18 00:00:00:  3   Min.   :0.08999  \n",
       " Chargedoff            : 42   2010-02-03 00:00:00:  2   1st Qu.:0.21306  \n",
       " Defaulted             :  2   2010-10-15 00:00:00:  2   Median :0.29031  \n",
       " Cancelled             :  0   2011-03-01 00:00:00:  2   Mean   :0.29372  \n",
       " Current               :  0   2011-04-14 00:00:00:  2   3rd Qu.:0.37453  \n",
       " FinalPaymentInProgress:  0   2011-04-28 00:00:00:  2   Max.   :0.41355  \n",
       " (Other)               :  0   (Other)            :177                    \n",
       "  BorrowerRate     LenderYield     EstimatedEffectiveYield EstimatedLoss   \n",
       " Min.   :0.0693   Min.   :0.0593   Min.   :-0.18270        Min.   :0.0595  \n",
       " 1st Qu.:0.1833   1st Qu.:0.1733   1st Qu.:-0.06338        1st Qu.:0.1900  \n",
       " Median :0.2500   Median :0.2400   Median :-0.03420        Median :0.3450  \n",
       " Mean   :0.2607   Mean   :0.2507   Mean   :-0.04802        Mean   :0.2844  \n",
       " 3rd Qu.:0.3500   3rd Qu.:0.3400   3rd Qu.:-0.01787        3rd Qu.:0.3660  \n",
       " Max.   :0.3500   Max.   :0.3400   Max.   :-0.00060        Max.   :0.3660  \n",
       "                                                                           \n",
       " EstimatedReturn    ProsperRating..numeric. ProsperRating..Alpha.\n",
       " Min.   :-0.18270   Min.   :1.000           HR     :178          \n",
       " 1st Qu.:-0.06338   1st Qu.:1.000           E      :  6          \n",
       " Median :-0.03420   Median :1.000           C      :  3          \n",
       " Mean   :-0.04802   Mean   :1.121           D      :  2          \n",
       " 3rd Qu.:-0.01787   3rd Qu.:1.000           B      :  1          \n",
       " Max.   :-0.00060   Max.   :5.000                  :  0          \n",
       "                                            (Other):  0          \n",
       "  ProsperScore   ListingCategory..numeric. BorrowerState             Occupation\n",
       " Min.   :1.000   Min.   :1.000             CA     :33    Other            :50  \n",
       " 1st Qu.:1.000   1st Qu.:1.000             MI     :14    Professional     :23  \n",
       " Median :1.000   Median :2.000             FL     :13    Military Enlisted:14  \n",
       " Mean   :2.421   Mean   :3.237             GA     :13    Teacher          :10  \n",
       " 3rd Qu.:4.000   3rd Qu.:6.000             CO     : 9    Sales - Retail   : 7  \n",
       " Max.   :9.000   Max.   :7.000             TX     : 9    Analyst          : 6  \n",
       "                                           (Other):99    (Other)          :80  \n",
       "      EmploymentStatus EmploymentStatusDuration IsBorrowerHomeowner\n",
       " Full-time    :107     Min.   :  0.00           False: 90          \n",
       " Employed     : 33     1st Qu.: 26.25           True :100          \n",
       " Self-employed: 33     Median : 65.50                              \n",
       " Retired      :  8     Mean   : 84.34                              \n",
       " Not employed :  5     3rd Qu.:123.00                              \n",
       " Part-time    :  4     Max.   :303.00                              \n",
       " (Other)      :  0                                                 \n",
       " CurrentlyInGroup                    GroupKey              DateCreditPulled\n",
       " False:142                               :142   2009-07-14 07:40:03:  1    \n",
       " True : 48        3D4D3366260257624AB272D:  7   2009-07-17 13:41:18:  1    \n",
       "                  52EA3425051368132B80C96:  6   2009-07-19 06:49:16:  1    \n",
       "                  C48E3419578591276DB6752:  4   2009-07-30 15:01:34:  1    \n",
       "                  C95834619831959805D1458:  4   2009-07-31 15:40:14:  1    \n",
       "                  87AF336457453170468EEA4:  3   2009-08-08 13:50:22:  1    \n",
       "                  (Other)                : 24   (Other)            :184    \n",
       " CreditScoreRangeLower CreditScoreRangeUpper        FirstRecordedCreditLine\n",
       " Min.   :600.0         Min.   :619.0         1988-03-01 00:00:00:  3       \n",
       " 1st Qu.:620.0         1st Qu.:639.0         1982-06-08 00:00:00:  2       \n",
       " Median :640.0         Median :659.0         1985-04-01 00:00:00:  2       \n",
       " Mean   :657.6         Mean   :676.6         1991-11-01 00:00:00:  2       \n",
       " 3rd Qu.:680.0         3rd Qu.:699.0         1992-02-01 00:00:00:  2       \n",
       " Max.   :820.0         Max.   :839.0         1993-05-18 00:00:00:  2       \n",
       "                                             (Other)            :177       \n",
       " CurrentCreditLines OpenCreditLines  TotalCreditLinespast7years\n",
       " Min.   : 0.000     Min.   : 0.000   Min.   : 3.00             \n",
       " 1st Qu.: 5.000     1st Qu.: 4.000   1st Qu.:16.25             \n",
       " Median : 9.000     Median : 7.000   Median :27.00             \n",
       " Mean   : 9.284     Mean   : 7.932   Mean   :29.17             \n",
       " 3rd Qu.:12.000     3rd Qu.:11.000   3rd Qu.:40.75             \n",
       " Max.   :34.000     Max.   :30.000   Max.   :81.00             \n",
       "                                                               \n",
       " OpenRevolvingAccounts OpenRevolvingMonthlyPayment InquiriesLast6Months\n",
       " Min.   : 0.000        Min.   :   0.0              Min.   : 0.000      \n",
       " 1st Qu.: 2.000        1st Qu.:  40.0              1st Qu.: 1.000      \n",
       " Median : 4.000        Median : 131.5              Median : 2.000      \n",
       " Mean   : 5.132        Mean   : 248.2              Mean   : 3.068      \n",
       " 3rd Qu.: 7.000        3rd Qu.: 337.0              3rd Qu.: 4.000      \n",
       " Max.   :23.000        Max.   :2483.0              Max.   :17.000      \n",
       "                                                                       \n",
       " TotalInquiries   CurrentDelinquencies AmountDelinquent  \n",
       " Min.   : 0.000   Min.   : 0.000       Min.   :     0.0  \n",
       " 1st Qu.: 4.000   1st Qu.: 0.000       1st Qu.:     0.0  \n",
       " Median : 8.000   Median : 0.000       Median :     0.0  \n",
       " Mean   : 9.889   Mean   : 1.305       Mean   :  1888.2  \n",
       " 3rd Qu.:14.000   3rd Qu.: 1.000       3rd Qu.:   416.2  \n",
       " Max.   :46.000   Max.   :17.000       Max.   :101497.0  \n",
       "                                                         \n",
       " DelinquenciesLast7Years PublicRecordsLast10Years PublicRecordsLast12Months\n",
       " Min.   : 0.000          Min.   :0.0000           Min.   :0.00000          \n",
       " 1st Qu.: 0.000          1st Qu.:0.0000           1st Qu.:0.00000          \n",
       " Median : 0.000          Median :0.0000           Median :0.00000          \n",
       " Mean   : 5.347          Mean   :0.3632           Mean   :0.02632          \n",
       " 3rd Qu.: 6.000          3rd Qu.:1.0000           3rd Qu.:0.00000          \n",
       " Max.   :99.000          Max.   :4.0000           Max.   :1.00000          \n",
       "                                                                           \n",
       " RevolvingCreditBalance BankcardUtilization AvailableBankcardCredit\n",
       " Min.   :     0.0       Min.   :0.0000      Min.   :    0.00       \n",
       " 1st Qu.:   729.2       1st Qu.:0.0925      1st Qu.:   10.25       \n",
       " Median :  3996.0       Median :0.7750      Median :  249.00       \n",
       " Mean   :  9118.4       Mean   :0.5924      Mean   : 2413.89       \n",
       " 3rd Qu.: 10781.2       3rd Qu.:0.9475      3rd Qu.: 1682.25       \n",
       " Max.   :131711.0       Max.   :1.2500      Max.   :36522.00       \n",
       "                                                                   \n",
       "  TotalTrades    TradesNeverDelinquent..percentage. TradesOpenedLast6Months\n",
       " Min.   : 1.00   Min.   :0.2000                     Min.   : 0.000         \n",
       " 1st Qu.:13.00   1st Qu.:0.7425                     1st Qu.: 0.000         \n",
       " Median :21.50   Median :0.8600                     Median : 1.000         \n",
       " Mean   :23.81   Mean   :0.8346                     Mean   : 1.226         \n",
       " 3rd Qu.:33.00   3rd Qu.:1.0000                     3rd Qu.: 2.000         \n",
       " Max.   :73.00   Max.   :1.0000                     Max.   :10.000         \n",
       "                                                                           \n",
       " DebtToIncomeRatio         IncomeRange IncomeVerifiable StatedMonthlyIncome\n",
       " Min.   :0.0200    $25,000-49,999:67   False: 55        Min.   :    0      \n",
       " 1st Qu.:0.1850    $50,000-74,999:56   True :135        1st Qu.: 2583      \n",
       " Median :0.2700    $1-24,999     :21                    Median : 4167      \n",
       " Mean   :0.3148    $100,000+     :20                    Mean   : 4722      \n",
       " 3rd Qu.:0.3600    $75,000-99,999:20                    3rd Qu.: 5833      \n",
       " Max.   :2.2000    Not employed  : 5                    Max.   :33333      \n",
       " NA's   :55        (Other)       : 1                                       \n",
       "                    LoanKey    TotalProsperLoans TotalProsperPaymentsBilled\n",
       " 079C3578185442353B42558:  1   Min.   :1.000     Min.   : 1.00             \n",
       " 096C3600123993142C20218:  1   1st Qu.:1.000     1st Qu.:16.00             \n",
       " 0AF1360230099663244AB4D:  1   Median :1.000     Median :26.00             \n",
       " 0B8D35733283763066B9CA1:  1   Mean   :1.387     Mean   :29.16             \n",
       " 0C9B35732006798939C6189:  1   3rd Qu.:2.000     3rd Qu.:36.00             \n",
       " 0D143601765446499C3D8B3:  1   Max.   :4.000     Max.   :76.00             \n",
       " (Other)                :184   NA's   :53        NA's   :53                \n",
       " OnTimeProsperPayments ProsperPaymentsLessThanOneMonthLate\n",
       " Min.   : 1.00         Min.   :0.0000                     \n",
       " 1st Qu.:16.00         1st Qu.:0.0000                     \n",
       " Median :25.00         Median :0.0000                     \n",
       " Mean   :28.77         Mean   :0.3796                     \n",
       " 3rd Qu.:35.00         3rd Qu.:0.0000                     \n",
       " Max.   :76.00         Max.   :6.0000                     \n",
       " NA's   :53            NA's   :53                         \n",
       " ProsperPaymentsOneMonthPlusLate ProsperPrincipalBorrowed\n",
       " Min.   :0.0000                  Min.   : 1000           \n",
       " 1st Qu.:0.0000                  1st Qu.: 2000           \n",
       " Median :0.0000                  Median : 3500           \n",
       " Mean   :0.0073                  Mean   : 5931           \n",
       " 3rd Qu.:0.0000                  3rd Qu.: 7800           \n",
       " Max.   :1.0000                  Max.   :35000           \n",
       " NA's   :53                      NA's   :53              \n",
       " ProsperPrincipalOutstanding ScorexChangeAtTimeOfListing\n",
       " Min.   :   0.00             Min.   :-143.00            \n",
       " 1st Qu.:   0.01             1st Qu.:  -9.00            \n",
       " Median : 679.45             Median :  19.00            \n",
       " Mean   :1108.75             Mean   :  25.42            \n",
       " 3rd Qu.:1575.19             3rd Qu.:  61.00            \n",
       " Max.   :8198.38             Max.   : 241.00            \n",
       " NA's   :53                  NA's   :53                 \n",
       " LoanCurrentDaysDelinquent LoanFirstDefaultedCycleNumber\n",
       " Min.   :   0.0            Min.   : 1.00                \n",
       " 1st Qu.:   0.0            1st Qu.: 8.75                \n",
       " Median :   0.0            Median :16.50                \n",
       " Mean   : 207.2            Mean   :17.86                \n",
       " 3rd Qu.:   0.0            3rd Qu.:24.00                \n",
       " Max.   :1540.0            Max.   :40.00                \n",
       "                           NA's   :146                  \n",
       " LoanMonthsSinceOrigination   LoanNumber    LoanOriginalAmount\n",
       " Min.   :39.00              Min.   :38061   Min.   : 1000     \n",
       " 1st Qu.:41.00              1st Qu.:39670   1st Qu.: 1500     \n",
       " Median :46.00              Median :42539   Median : 2438     \n",
       " Mean   :46.01              Mean   :42449   Mean   : 3369     \n",
       " 3rd Qu.:52.00              3rd Qu.:44793   3rd Qu.: 4000     \n",
       " Max.   :56.00              Max.   :46098   Max.   :15000     \n",
       "                                                              \n",
       "          LoanOriginationDate LoanOriginationQuarter\n",
       " 2010-10-13 00:00:00:  5      Q4 2010:62            \n",
       " 2009-11-10 00:00:00:  4      Q4 2009:39            \n",
       " 2009-11-18 00:00:00:  3      Q3 2010:25            \n",
       " 2009-11-30 00:00:00:  3      Q2 2010:24            \n",
       " 2010-07-29 00:00:00:  3      Q1 2010:21            \n",
       " 2010-11-12 00:00:00:  3      Q3 2009:19            \n",
       " (Other)            :169      (Other): 0            \n",
       "                   MemberKey   MonthlyLoanPayment LP_CustomerPayments\n",
       " 1ACE3369930823000F335D1:  2   Min.   :  0.00     Min.   :    0      \n",
       " 233833917424416802837ED:  2   1st Qu.: 54.83     1st Qu.: 1441      \n",
       " 02193381466293394735726:  1   Median : 90.68     Median : 2579      \n",
       " 0303343173529627211CD29:  1   Mean   :135.49     Mean   : 3656      \n",
       " 0465336599513925256A8CC:  1   3rd Qu.:175.07     3rd Qu.: 4795      \n",
       " 0470339919173724675477C:  1   Max.   :678.37     Max.   :21302      \n",
       " (Other)                :182                                         \n",
       " LP_CustomerPrincipalPayments LP_InterestandFees LP_ServiceFees   \n",
       " Min.   :    0                Min.   :   0.0     Min.   :-235.52  \n",
       " 1st Qu.: 1000                1st Qu.: 308.1     1st Qu.: -44.83  \n",
       " Median : 1618                Median : 563.8     Median : -24.50  \n",
       " Mean   : 2687                Mean   : 968.3     Mean   : -34.91  \n",
       " 3rd Qu.: 3500                3rd Qu.:1278.2     3rd Qu.: -13.19  \n",
       " Max.   :13000                Max.   :8302.4     Max.   :   0.00  \n",
       "                                                                  \n",
       " LP_CollectionFees LP_GrossPrincipalLoss LP_NetPrincipalLoss\n",
       " Min.   :-793.04   Min.   :    0.0       Min.   :    0.0    \n",
       " 1st Qu.:   0.00   1st Qu.:    0.0       1st Qu.:    0.0    \n",
       " Median :   0.00   Median :    0.0       Median :    0.0    \n",
       " Mean   : -14.76   Mean   :  678.8       Mean   :  669.9    \n",
       " 3rd Qu.:   0.00   3rd Qu.:    0.0       3rd Qu.:    0.0    \n",
       " Max.   :   0.00   Max.   :14579.6       Max.   :14579.6    \n",
       "                                                            \n",
       " LP_NonPrincipalRecoverypayments PercentFunded Recommendations \n",
       " Min.   :   0.00                 Min.   :1     Min.   :0.0000  \n",
       " 1st Qu.:   0.00                 1st Qu.:1     1st Qu.:0.0000  \n",
       " Median :   0.00                 Median :1     Median :0.0000  \n",
       " Mean   :  22.84                 Mean   :1     Mean   :0.2474  \n",
       " 3rd Qu.:   0.00                 3rd Qu.:1     3rd Qu.:0.0000  \n",
       " Max.   :2443.00                 Max.   :1     Max.   :4.0000  \n",
       "                                                               \n",
       " InvestmentFromFriendsCount InvestmentFromFriendsAmount   Investors    \n",
       " Min.   :0.0                Min.   :   0.0              Min.   :  1.0  \n",
       " 1st Qu.:0.0                1st Qu.:   0.0              1st Qu.: 12.0  \n",
       " Median :0.0                Median :   0.0              Median : 32.5  \n",
       " Mean   :0.2                Mean   : 222.5              Mean   : 40.7  \n",
       " 3rd Qu.:0.0                3rd Qu.:   0.0              3rd Qu.: 61.0  \n",
       " Max.   :3.0                Max.   :7000.0              Max.   :169.0  \n",
       "                                                                       "
      ]
     },
     "metadata": {},
     "output_type": "display_data"
    }
   ],
   "source": [
    "datadf %>%\n",
    "filter(EstimatedEffectiveYield < 0) %>%\n",
    "summary()\n",
    "\n",
    "#190 loans\n",
    "#completed 146, chargedoff 42, defaulted, none current, this is not an estimation, nor does this variable really make \n",
    "#sense for them\n",
    "#They didn't have rediculous APR's or anything.\n",
    "#Could plot against estimated loss to see if there are different things going on here.\n",
    "#time to close?"
   ]
  },
  {
   "cell_type": "code",
   "execution_count": 8,
   "metadata": {
    "collapsed": false,
    "deletable": true,
    "editable": true
   },
   "outputs": [
    {
     "data": {
      "text/html": [
       "<table>\n",
       "<thead><tr><th scope=col>ListingKey</th><th scope=col>ListingNumber</th><th scope=col>ListingCreationDate</th><th scope=col>CreditGrade</th><th scope=col>Term</th><th scope=col>LoanStatus</th><th scope=col>ClosedDate</th><th scope=col>BorrowerAPR</th><th scope=col>BorrowerRate</th><th scope=col>LenderYield</th><th scope=col>...</th><th scope=col>LP_ServiceFees</th><th scope=col>LP_CollectionFees</th><th scope=col>LP_GrossPrincipalLoss</th><th scope=col>LP_NetPrincipalLoss</th><th scope=col>LP_NonPrincipalRecoverypayments</th><th scope=col>PercentFunded</th><th scope=col>Recommendations</th><th scope=col>InvestmentFromFriendsCount</th><th scope=col>InvestmentFromFriendsAmount</th><th scope=col>Investors</th></tr></thead>\n",
       "<tbody>\n",
       "\t<tr><td>32543499181220496DBB555      </td><td>483095                       </td><td>2010-11-05 14:46:00.163000000</td><td>                             </td><td>36                           </td><td>Completed                    </td><td>2011-04-21 00:00:00          </td><td>0.36783                      </td><td>0.3269                       </td><td>0.3169                       </td><td>...                          </td><td>  -5.91                      </td><td>0                            </td><td>0                            </td><td>0                            </td><td>0                            </td><td>1                            </td><td>0                            </td><td>1                            </td><td>1058.77                      </td><td> 27                          </td></tr>\n",
       "\t<tr><td>4685347195009875809A70E      </td><td>440607                       </td><td>2010-01-01 14:46:53.843000000</td><td>                             </td><td>36                           </td><td>Completed                    </td><td>2011-02-28 00:00:00          </td><td>0.22491                      </td><td>0.2000                       </td><td>0.1900                       </td><td>...                          </td><td> -14.35                      </td><td>0                            </td><td>0                            </td><td>0                            </td><td>0                            </td><td>1                            </td><td>0                            </td><td>0                            </td><td>   0.00                      </td><td> 75                          </td></tr>\n",
       "\t<tr><td>6DD034810270651087DFB9F      </td><td>452658                       </td><td>2010-04-05 09:10:40.280000000</td><td>                             </td><td>36                           </td><td>Completed                    </td><td>2011-04-29 00:00:00          </td><td>0.36336                      </td><td>0.3390                       </td><td>0.3290                       </td><td>...                          </td><td> -13.30                      </td><td>0                            </td><td>0                            </td><td>0                            </td><td>0                            </td><td>1                            </td><td>0                            </td><td>1                            </td><td> 100.00                      </td><td> 60                          </td></tr>\n",
       "\t<tr><td>9E5E3498204991686FFFDC9      </td><td>481925                       </td><td>2010-10-28 10:18:14.733000000</td><td>                             </td><td>36                           </td><td>Completed                    </td><td>2011-05-13 00:00:00          </td><td>0.34631                      </td><td>0.3100                       </td><td>0.3000                       </td><td>...                          </td><td> -31.49                      </td><td>0                            </td><td>0                            </td><td>0                            </td><td>0                            </td><td>1                            </td><td>0                            </td><td>0                            </td><td>   0.00                      </td><td> 75                          </td></tr>\n",
       "\t<tr><td>0F393487035940130A9724B      </td><td>463090                       </td><td>2010-06-18 09:24:37.347000000</td><td>                             </td><td>36                           </td><td>Completed                    </td><td>2011-02-18 00:00:00          </td><td>0.33281                      </td><td>0.3089                       </td><td>0.2989                       </td><td>...                          </td><td> -35.39                      </td><td>0                            </td><td>0                            </td><td>0                            </td><td>0                            </td><td>1                            </td><td>1                            </td><td>1                            </td><td>  25.00                      </td><td>169                          </td></tr>\n",
       "\t<tr><td>3AA83459022108282F14863      </td><td>416980                       </td><td>2009-07-17 13:57:20.620000000</td><td>                             </td><td>36                           </td><td>Completed                    </td><td>2012-05-23 00:00:00          </td><td>0.37453                      </td><td>0.3500                       </td><td>0.3400                       </td><td>...                          </td><td> -24.61                      </td><td>0                            </td><td>0                            </td><td>0                            </td><td>0                            </td><td>1                            </td><td>0                            </td><td>0                            </td><td>   0.00                      </td><td>  1                          </td></tr>\n",
       "\t<tr><td>951734715607690434676F3      </td><td>439186                       </td><td>2009-12-19 16:52:50.200000000</td><td>                             </td><td>36                           </td><td>Completed                    </td><td>2012-12-31 00:00:00          </td><td>0.36438                      </td><td>0.3400                       </td><td>0.3300                       </td><td>...                          </td><td> -50.40                      </td><td>0                            </td><td>0                            </td><td>0                            </td><td>0                            </td><td>1                            </td><td>0                            </td><td>0                            </td><td>   0.00                      </td><td> 68                          </td></tr>\n",
       "\t<tr><td>30E73477967521420B48181      </td><td>450235                       </td><td>2010-03-12 11:18:17.957000000</td><td>                             </td><td>36                           </td><td>Completed                    </td><td>2013-02-27 00:00:00          </td><td>0.20260                      </td><td>0.1805                       </td><td>0.1705                       </td><td>...                          </td><td>-117.21                      </td><td>0                            </td><td>0                            </td><td>0                            </td><td>0                            </td><td>1                            </td><td>0                            </td><td>0                            </td><td>   0.00                      </td><td>  3                          </td></tr>\n",
       "\t<tr><td>009B3495741061236C0C927      </td><td>477848                       </td><td>2010-09-30 16:29:48.017000000</td><td>                             </td><td>36                           </td><td>Completed                    </td><td>2013-10-14 00:00:00          </td><td>0.38723                      </td><td>0.3500                       </td><td>0.3400                       </td><td>...                          </td><td>-106.13                      </td><td>0                            </td><td>0                            </td><td>0                            </td><td>0                            </td><td>1                            </td><td>0                            </td><td>0                            </td><td>   0.00                      </td><td> 80                          </td></tr>\n",
       "\t<tr><td>2F973490896224270661A5B      </td><td>468917                       </td><td>2010-07-28 11:38:29.650000000</td><td>                             </td><td>36                           </td><td>Completed                    </td><td>2012-04-07 00:00:00          </td><td>0.38109                      </td><td>0.3440                       </td><td>0.3340                       </td><td>...                          </td><td> -31.10                      </td><td>0                            </td><td>0                            </td><td>0                            </td><td>0                            </td><td>1                            </td><td>0                            </td><td>0                            </td><td>   0.00                      </td><td> 51                          </td></tr>\n",
       "\t<tr><td>ED6334997080608798C4AAC      </td><td>483031                       </td><td>2010-11-05 11:34:27.367000000</td><td>                             </td><td>36                           </td><td>Completed                    </td><td>2011-03-29 00:00:00          </td><td>0.26822                      </td><td>0.2100                       </td><td>0.2000                       </td><td>...                          </td><td>  -2.90                      </td><td>0                            </td><td>0                            </td><td>0                            </td><td>0                            </td><td>1                            </td><td>0                            </td><td>0                            </td><td>   0.00                      </td><td> 61                          </td></tr>\n",
       "\t<tr><td>0A493500724918931BC92AD      </td><td>485927                       </td><td>2010-11-28 10:26:41.450000000</td><td>                             </td><td>36                           </td><td>Completed                    </td><td>2013-12-07 00:00:00          </td><td>0.34631                      </td><td>0.3100                       </td><td>0.3000                       </td><td>...                          </td><td> -53.09                      </td><td>0                            </td><td>0                            </td><td>0                            </td><td>0                            </td><td>1                            </td><td>1                            </td><td>0                            </td><td>   0.00                      </td><td> 77                          </td></tr>\n",
       "\t<tr><td>2DD734790047377761A273F      </td><td>448926                       </td><td>2010-03-05 12:00:35.537000000</td><td>                             </td><td>36                           </td><td>Completed                    </td><td>2012-07-13 00:00:00          </td><td>0.33393                      </td><td>0.3100                       </td><td>0.3000                       </td><td>...                          </td><td> -65.89                      </td><td>0                            </td><td>0                            </td><td>0                            </td><td>0                            </td><td>1                            </td><td>0                            </td><td>0                            </td><td>   0.00                      </td><td> 90                          </td></tr>\n",
       "\t<tr><td>5B283501148182785E410F3      </td><td>484999                       </td><td>2010-11-18 12:03:18.170000000</td><td>                             </td><td>36                           </td><td>Completed                    </td><td>2013-11-30 00:00:00          </td><td>0.36646                      </td><td>0.3297                       </td><td>0.3197                       </td><td>...                          </td><td> -32.02                      </td><td>0                            </td><td>0                            </td><td>0                            </td><td>0                            </td><td>1                            </td><td>0                            </td><td>0                            </td><td>   0.00                      </td><td> 51                          </td></tr>\n",
       "\t<tr><td>A84234919972024700E788D      </td><td>469907                       </td><td>2010-08-03 18:26:38.910000000</td><td>                             </td><td>36                           </td><td>Completed                    </td><td>2011-12-20 00:00:00          </td><td>0.21291                      </td><td>0.1794                       </td><td>0.1694                       </td><td>...                          </td><td> -28.18                      </td><td>0                            </td><td>0                            </td><td>0                            </td><td>0                            </td><td>1                            </td><td>1                            </td><td>2                            </td><td>1774.42                      </td><td> 53                          </td></tr>\n",
       "\t<tr><td>16ED3472868394333E87B22      </td><td>442499                       </td><td>2010-01-14 09:37:49.377000000</td><td>                             </td><td>36                           </td><td>Completed                    </td><td>2013-01-19 00:00:00          </td><td>0.11155                      </td><td>0.0906                       </td><td>0.0806                       </td><td>...                          </td><td>-162.60                      </td><td>0                            </td><td>0                            </td><td>0                            </td><td>0                            </td><td>1                            </td><td>0                            </td><td>0                            </td><td>   0.00                      </td><td>  1                          </td></tr>\n",
       "\t<tr><td>16B23499408173940883262      </td><td>485266                       </td><td>2010-11-21 05:38:54.950000000</td><td>                             </td><td>36                           </td><td>Completed                    </td><td>2013-11-30 00:00:00          </td><td>0.38723                      </td><td>0.3500                       </td><td>0.3400                       </td><td>...                          </td><td> -46.76                      </td><td>0                            </td><td>0                            </td><td>0                            </td><td>0                            </td><td>1                            </td><td>1                            </td><td>1                            </td><td>  25.00                      </td><td> 38                          </td></tr>\n",
       "\t<tr><td>B1E63500679848022856766      </td><td>486405                       </td><td>2010-12-01 19:11:37.317000000</td><td>                             </td><td>36                           </td><td>Completed                    </td><td>2013-04-11 00:00:00          </td><td>0.38723                      </td><td>0.3500                       </td><td>0.3400                       </td><td>...                          </td><td> -61.97                      </td><td>0                            </td><td>0                            </td><td>0                            </td><td>0                            </td><td>1                            </td><td>0                            </td><td>0                            </td><td>   0.00                      </td><td> 33                          </td></tr>\n",
       "\t<tr><td>9A4E3492821389543047631      </td><td>473029                       </td><td>2010-08-24 19:07:26.757000000</td><td>                             </td><td>36                           </td><td>Completed                    </td><td>2011-03-22 00:00:00          </td><td>0.41355                      </td><td>0.3500                       </td><td>0.3400                       </td><td>...                          </td><td>  -5.15                      </td><td>0                            </td><td>0                            </td><td>0                            </td><td>0                            </td><td>1                            </td><td>0                            </td><td>0                            </td><td>   0.00                      </td><td> 22                          </td></tr>\n",
       "\t<tr><td>A97F34930346098313445C1      </td><td>474439                       </td><td>2010-09-04 08:15:17.333000000</td><td>                             </td><td>36                           </td><td>Completed                    </td><td>2012-01-30 00:00:00          </td><td>0.14360                      </td><td>0.0895                       </td><td>0.0795                       </td><td>...                          </td><td>  -4.89                      </td><td>0                            </td><td>0                            </td><td>0                            </td><td>0                            </td><td>1                            </td><td>0                            </td><td>0                            </td><td>   0.00                      </td><td> 73                          </td></tr>\n",
       "\t<tr><td>9E7A3492907493044A627C2      </td><td>471571                       </td><td>2010-08-15 13:52:55.137000000</td><td>                             </td><td>36                           </td><td>Completed                    </td><td>2013-08-24 00:00:00          </td><td>0.26302                      </td><td>0.2285                       </td><td>0.2185                       </td><td>...                          </td><td> -34.24                      </td><td>0                            </td><td>0                            </td><td>0                            </td><td>0                            </td><td>1                            </td><td>0                            </td><td>0                            </td><td>   0.00                      </td><td>144                          </td></tr>\n",
       "\t<tr><td>BAC4350200668046339B539      </td><td>486562                       </td><td>2010-12-02 12:56:27.757000000</td><td>                             </td><td>36                           </td><td>Completed                    </td><td>2013-02-05 00:00:00          </td><td>0.41355                      </td><td>0.3500                       </td><td>0.3400                       </td><td>...                          </td><td> -16.14                      </td><td>0                            </td><td>0                            </td><td>0                            </td><td>0                            </td><td>1                            </td><td>0                            </td><td>0                            </td><td>   0.00                      </td><td> 20                          </td></tr>\n",
       "\t<tr><td>029A3499706893097DB1393      </td><td>482554                       </td><td>2010-11-02 11:04:47.190000000</td><td>                             </td><td>36                           </td><td>Completed                    </td><td>2013-11-17 00:00:00          </td><td>0.38723                      </td><td>0.3500                       </td><td>0.3400                       </td><td>...                          </td><td> -36.28                      </td><td>0                            </td><td>0                            </td><td>0                            </td><td>0                            </td><td>1                            </td><td>0                            </td><td>0                            </td><td>   0.00                      </td><td> 36                          </td></tr>\n",
       "\t<tr><td>43183492371043609C0DBA0      </td><td>472018                       </td><td>2010-08-17 21:02:19.750000000</td><td>                             </td><td>36                           </td><td>Completed                    </td><td>2013-01-26 00:00:00          </td><td>0.41355                      </td><td>0.3500                       </td><td>0.3400                       </td><td>...                          </td><td> -11.22                      </td><td>0                            </td><td>0                            </td><td>0                            </td><td>0                            </td><td>1                            </td><td>0                            </td><td>0                            </td><td>   0.00                      </td><td>  4                          </td></tr>\n",
       "\t<tr><td>5AA83501298480208AD3EC1      </td><td>486320                       </td><td>2010-11-30 22:23:27.610000000</td><td>                             </td><td>36                           </td><td>Completed                    </td><td>2013-12-11 00:00:00          </td><td>0.27477                      </td><td>0.2400                       </td><td>0.2300                       </td><td>...                          </td><td> -60.20                      </td><td>0                            </td><td>0                            </td><td>0                            </td><td>0                            </td><td>1                            </td><td>1                            </td><td>1                            </td><td>1500.08                      </td><td> 90                          </td></tr>\n",
       "\t<tr><td>173F346874551774587E3B1      </td><td>433838                       </td><td>2009-11-17 12:04:07.463000000</td><td>                             </td><td>36                           </td><td>Completed                    </td><td>2010-02-03 00:00:00          </td><td>0.20504                      </td><td>0.1829                       </td><td>0.1729                       </td><td>...                          </td><td> -10.54                      </td><td>0                            </td><td>0                            </td><td>0                            </td><td>0                            </td><td>1                            </td><td>0                            </td><td>0                            </td><td>   0.00                      </td><td>  1                          </td></tr>\n",
       "\t<tr><td>7C553493407571270274222      </td><td>473928                       </td><td>2010-09-01 11:55:34.210000000</td><td>                             </td><td>36                           </td><td>Completed                    </td><td>2013-07-30 00:00:00          </td><td>0.21523                      </td><td>0.1779                       </td><td>0.1679                       </td><td>...                          </td><td> -24.53                      </td><td>0                            </td><td>0                            </td><td>0                            </td><td>0                            </td><td>1                            </td><td>0                            </td><td>0                            </td><td>   0.00                      </td><td> 33                          </td></tr>\n",
       "\t<tr><td>16F83481335468577BB79E9      </td><td>456011                       </td><td>2010-04-26 11:42:38.437000000</td><td>                             </td><td>36                           </td><td>Completed                    </td><td>2012-05-25 00:00:00          </td><td>0.37733                      </td><td>0.3500                       </td><td>0.3400                       </td><td>...                          </td><td> -23.56                      </td><td>0                            </td><td>0                            </td><td>0                            </td><td>0                            </td><td>1                            </td><td>0                            </td><td>0                            </td><td>   0.00                      </td><td> 20                          </td></tr>\n",
       "\t<tr><td>038535015703591930CD2E0      </td><td>487140                       </td><td>2010-12-08 15:23:57.793000000</td><td>                             </td><td>36                           </td><td>Completed                    </td><td>2012-10-31 00:00:00          </td><td>0.25435                      </td><td>0.2200                       </td><td>0.2100                       </td><td>...                          </td><td> -26.73                      </td><td>0                            </td><td>0                            </td><td>0                            </td><td>0                            </td><td>1                            </td><td>0                            </td><td>0                            </td><td>   0.00                      </td><td>135                          </td></tr>\n",
       "\t<tr><td>ADE43494680664033EE3E04      </td><td>475065                       </td><td>2010-09-10 08:50:15.670000000</td><td>                             </td><td>36                           </td><td>Completed                    </td><td>2012-10-30 00:00:00          </td><td>0.36912                      </td><td>0.3323                       </td><td>0.3223                       </td><td>...                          </td><td> -28.11                      </td><td>0                            </td><td>0                            </td><td>0                            </td><td>0                            </td><td>1                            </td><td>0                            </td><td>0                            </td><td>   0.00                      </td><td> 64                          </td></tr>\n",
       "\t<tr><td>...</td><td>...</td><td>...</td><td>...</td><td>...</td><td>...</td><td>...</td><td>...</td><td>...</td><td>...</td><td>   </td><td>...</td><td>...</td><td>...</td><td>...</td><td>...</td><td>...</td><td>...</td><td>...</td><td>...</td><td>...</td></tr>\n",
       "\t<tr><td>2A003495747066236259178      </td><td>476394                       </td><td>2010-09-21 14:41:04.340000000</td><td>                             </td><td>36                           </td><td>Completed                    </td><td>2013-09-28 00:00:00          </td><td>0.21137                      </td><td>0.1779                       </td><td>0.1679                       </td><td>...                          </td><td> -83.85                      </td><td>  0.00                       </td><td>0                            </td><td>0                            </td><td>0                            </td><td>1                            </td><td>0                            </td><td>0                            </td><td>   0.00                      </td><td> 22                          </td></tr>\n",
       "\t<tr><td>26E434645397643487E8FAA      </td><td>426473                       </td><td>2009-09-30 15:36:54.397000000</td><td>                             </td><td>36                           </td><td>Completed                    </td><td>2011-02-09 00:00:00          </td><td>0.38723                      </td><td>0.3500                       </td><td>0.3400                       </td><td>...                          </td><td>  -2.50                      </td><td>  0.00                       </td><td>0                            </td><td>0                            </td><td>0                            </td><td>1                            </td><td>0                            </td><td>0                            </td><td>   0.00                      </td><td> 40                          </td></tr>\n",
       "\t<tr><td>F8763495676565704F716BE      </td><td>478607                       </td><td>2010-10-07 08:09:33.493000000</td><td>                             </td><td>36                           </td><td>Completed                    </td><td>2013-09-15 00:00:00          </td><td>0.21728                      </td><td>0.1799                       </td><td>0.1699                       </td><td>...                          </td><td> -24.10                      </td><td>  0.00                       </td><td>0                            </td><td>0                            </td><td>0                            </td><td>1                            </td><td>0                            </td><td>0                            </td><td>   0.00                      </td><td> 54                          </td></tr>\n",
       "\t<tr><td>7869348911205801211336D      </td><td>466965                       </td><td>2010-07-15 17:28:45.877000000</td><td>                             </td><td>36                           </td><td>Completed                    </td><td>2013-05-29 00:00:00          </td><td>0.37453                      </td><td>0.3500                       </td><td>0.3400                       </td><td>...                          </td><td> -53.05                      </td><td>  0.00                       </td><td>0                            </td><td>0                            </td><td>0                            </td><td>1                            </td><td>0                            </td><td>0                            </td><td>   0.00                      </td><td> 32                          </td></tr>\n",
       "\t<tr><td>87793468051018224ED5E2C      </td><td>432323                       </td><td>2009-11-07 17:05:14.507000000</td><td>                             </td><td>36                           </td><td>Completed                    </td><td>2012-04-06 00:00:00          </td><td>0.20504                      </td><td>0.1829                       </td><td>0.1729                       </td><td>...                          </td><td> -39.61                      </td><td>  0.00                       </td><td>0                            </td><td>0                            </td><td>0                            </td><td>1                            </td><td>0                            </td><td>0                            </td><td>   0.00                      </td><td>  4                          </td></tr>\n",
       "\t<tr><td>4937346216847197452FB8A      </td><td>423755                       </td><td>2009-09-09 15:58:48.523000000</td><td>                             </td><td>36                           </td><td>Completed                    </td><td>2012-06-05 00:00:00          </td><td>0.21223                      </td><td>0.1900                       </td><td>0.1800                       </td><td>...                          </td><td> -39.49                      </td><td>  0.00                       </td><td>0                            </td><td>0                            </td><td>0                            </td><td>1                            </td><td>0                            </td><td>0                            </td><td>   0.00                      </td><td>  1                          </td></tr>\n",
       "\t<tr><td>C15F348278626944169A872      </td><td>458169                       </td><td>2010-05-13 06:49:09.163000000</td><td>                             </td><td>36                           </td><td>Completed                    </td><td>2013-05-18 00:00:00          </td><td>0.21476                      </td><td>0.1900                       </td><td>0.1800                       </td><td>...                          </td><td> -25.31                      </td><td>  0.00                       </td><td>0                            </td><td>0                            </td><td>0                            </td><td>1                            </td><td>0                            </td><td>0                            </td><td>   0.00                      </td><td> 12                          </td></tr>\n",
       "\t<tr><td>789F350210398763651BA91      </td><td>485962                       </td><td>2010-11-28 19:45:12.420000000</td><td>                             </td><td>36                           </td><td>Completed                    </td><td>2013-12-13 00:00:00          </td><td>0.32005                      </td><td>0.2600                       </td><td>0.2500                       </td><td>...                          </td><td> -17.37                      </td><td>  0.00                       </td><td>0                            </td><td>0                            </td><td>0                            </td><td>1                            </td><td>1                            </td><td>2                            </td><td>  55.00                      </td><td> 31                          </td></tr>\n",
       "\t<tr><td>DF90346174340002351C1F4      </td><td>422477                       </td><td>2009-08-30 07:49:07.147000000</td><td>                             </td><td>36                           </td><td>Completed                    </td><td>2012-09-09 00:00:00          </td><td>0.20695                      </td><td>0.1823                       </td><td>0.1723                       </td><td>...                          </td><td> -25.13                      </td><td>  0.00                       </td><td>0                            </td><td>0                            </td><td>0                            </td><td>1                            </td><td>0                            </td><td>0                            </td><td>   0.00                      </td><td>  3                          </td></tr>\n",
       "\t<tr><td>269235009277038600A8F41      </td><td>486901                       </td><td>2010-12-06 09:50:28.423000000</td><td>                             </td><td>36                           </td><td>Completed                    </td><td>2013-01-07 00:00:00          </td><td>0.39821                      </td><td>0.3500                       </td><td>0.3400                       </td><td>...                          </td><td> -16.10                      </td><td>  0.00                       </td><td>0                            </td><td>0                            </td><td>0                            </td><td>1                            </td><td>0                            </td><td>0                            </td><td>   0.00                      </td><td> 28                          </td></tr>\n",
       "\t<tr><td>4B5A34808530538374A1D66      </td><td>454760                       </td><td>2010-04-17 07:44:16.297000000</td><td>                             </td><td>36                           </td><td>Completed                    </td><td>2012-02-27 00:00:00          </td><td>0.22522                      </td><td>0.2003                       </td><td>0.1903                       </td><td>...                          </td><td> -20.43                      </td><td>  0.00                       </td><td>0                            </td><td>0                            </td><td>0                            </td><td>1                            </td><td>0                            </td><td>0                            </td><td>   0.00                      </td><td> 48                          </td></tr>\n",
       "\t<tr><td>DB453501219046087835C54      </td><td>486316                       </td><td>2010-11-30 18:19:18.730000000</td><td>                             </td><td>36                           </td><td>Completed                    </td><td>2011-04-22 00:00:00          </td><td>0.39153                      </td><td>0.3500                       </td><td>0.3400                       </td><td>...                          </td><td>  -5.41                      </td><td>  0.00                       </td><td>0                            </td><td>0                            </td><td>0                            </td><td>1                            </td><td>0                            </td><td>0                            </td><td>   0.00                      </td><td> 29                          </td></tr>\n",
       "\t<tr><td>A91D34785676125336640F0      </td><td>450451                       </td><td>2010-03-14 20:03:02.273000000</td><td>                             </td><td>36                           </td><td>Completed                    </td><td>2011-03-25 00:00:00          </td><td>0.37443                      </td><td>0.3499                       </td><td>0.3399                       </td><td>...                          </td><td> -58.20                      </td><td>  0.00                       </td><td>0                            </td><td>0                            </td><td>0                            </td><td>1                            </td><td>0                            </td><td>0                            </td><td>   0.00                      </td><td> 81                          </td></tr>\n",
       "\t<tr><td>F5D73489855329001299FF4      </td><td>469312                       </td><td>2010-07-30 08:47:21.447000000</td><td>                             </td><td>36                           </td><td>Completed                    </td><td>2013-08-11 00:00:00          </td><td>0.08999                      </td><td>0.0693                       </td><td>0.0593                       </td><td>...                          </td><td>-127.58                      </td><td>  0.00                       </td><td>0                            </td><td>0                            </td><td>0                            </td><td>1                            </td><td>0                            </td><td>1                            </td><td>4000.00                      </td><td>  2                          </td></tr>\n",
       "\t<tr><td>E7A63484022509283D51CD4      </td><td>460192                       </td><td>2010-05-27 02:12:13.103000000</td><td>                             </td><td>36                           </td><td>Completed                    </td><td>2011-03-03 00:00:00          </td><td>0.37453                      </td><td>0.3500                       </td><td>0.3400                       </td><td>...                          </td><td> -44.99                      </td><td>  0.00                       </td><td>0                            </td><td>0                            </td><td>0                            </td><td>1                            </td><td>0                            </td><td>0                            </td><td>   0.00                      </td><td> 43                          </td></tr>\n",
       "\t<tr><td>EA623467677786916EBA487      </td><td>430588                       </td><td>2009-10-27 13:34:06.360000000</td><td>                             </td><td>36                           </td><td>Completed                    </td><td>2012-08-31 00:00:00          </td><td>0.18133                      </td><td>0.1595                       </td><td>0.1495                       </td><td>...                          </td><td> -32.95                      </td><td>  0.00                       </td><td>0                            </td><td>0                            </td><td>0                            </td><td>1                            </td><td>0                            </td><td>0                            </td><td>   0.00                      </td><td> 14                          </td></tr>\n",
       "\t<tr><td>B61D3495731427761944829      </td><td>477092                       </td><td>2010-09-25 12:48:31.330000000</td><td>                             </td><td>36                           </td><td>Completed                    </td><td>2013-11-19 00:00:00          </td><td>0.30031                      </td><td>0.2650                       </td><td>0.2550                       </td><td>...                          </td><td>-106.26                      </td><td>-80.31                       </td><td>0                            </td><td>0                            </td><td>0                            </td><td>1                            </td><td>1                            </td><td>0                            </td><td>   0.00                      </td><td> 82                          </td></tr>\n",
       "\t<tr><td>121E34965887476537FE189      </td><td>480718                       </td><td>2010-10-20 06:31:26.270000000</td><td>                             </td><td>36                           </td><td>Completed                    </td><td>2013-07-09 00:00:00          </td><td>0.21352                      </td><td>0.1800                       </td><td>0.1700                       </td><td>...                          </td><td> -52.12                      </td><td>  0.00                       </td><td>0                            </td><td>0                            </td><td>0                            </td><td>1                            </td><td>0                            </td><td>0                            </td><td>   0.00                      </td><td> 63                          </td></tr>\n",
       "\t<tr><td>B3EE3502272243880283B16      </td><td>487169                       </td><td>2010-12-08 09:07:06.530000000</td><td>                             </td><td>36                           </td><td>Completed                    </td><td>2013-02-08 00:00:00          </td><td>0.38127                      </td><td>0.3400                       </td><td>0.3300                       </td><td>...                          </td><td> -23.67                      </td><td>  0.00                       </td><td>0                            </td><td>0                            </td><td>0                            </td><td>1                            </td><td>0                            </td><td>0                            </td><td>   0.00                      </td><td> 20                          </td></tr>\n",
       "\t<tr><td>73AA346937387942113D189      </td><td>433566                       </td><td>2009-11-16 08:17:56.767000000</td><td>                             </td><td>36                           </td><td>Completed                    </td><td>2010-01-11 00:00:00          </td><td>0.22237                      </td><td>0.2000                       </td><td>0.1900                       </td><td>...                          </td><td> -14.66                      </td><td>  0.00                       </td><td>0                            </td><td>0                            </td><td>0                            </td><td>1                            </td><td>0                            </td><td>0                            </td><td>   0.00                      </td><td>  1                          </td></tr>\n",
       "\t<tr><td>F6E13478114370526251C1C      </td><td>450345                       </td><td>2010-03-15 06:43:55.170000000</td><td>                             </td><td>36                           </td><td>Completed                    </td><td>2010-10-15 00:00:00          </td><td>0.37453                      </td><td>0.3500                       </td><td>0.3400                       </td><td>...                          </td><td> -26.51                      </td><td>  0.00                       </td><td>0                            </td><td>0                            </td><td>0                            </td><td>1                            </td><td>0                            </td><td>0                            </td><td>   0.00                      </td><td> 48                          </td></tr>\n",
       "\t<tr><td>24263477605508875B1445A      </td><td>448509                       </td><td>2010-03-02 11:44:36.243000000</td><td>                             </td><td>36                           </td><td>Completed                    </td><td>2013-01-08 00:00:00          </td><td>0.23784                      </td><td>0.2000                       </td><td>0.1900                       </td><td>...                          </td><td> -16.76                      </td><td>  0.00                       </td><td>0                            </td><td>0                            </td><td>0                            </td><td>1                            </td><td>0                            </td><td>0                            </td><td>   0.00                      </td><td> 71                          </td></tr>\n",
       "\t<tr><td>E83C3488674044403859127      </td><td>467035                       </td><td>2010-07-17 05:21:48.957000000</td><td>                             </td><td>36                           </td><td>Completed                    </td><td>2013-02-14 00:00:00          </td><td>0.37453                      </td><td>0.3500                       </td><td>0.3400                       </td><td>...                          </td><td>-143.57                      </td><td>  0.00                       </td><td>0                            </td><td>0                            </td><td>0                            </td><td>1                            </td><td>1                            </td><td>1                            </td><td> 200.08                      </td><td> 32                          </td></tr>\n",
       "\t<tr><td>297D347700685376134183D      </td><td>447504                       </td><td>2010-02-22 10:50:18.203000000</td><td>                             </td><td>36                           </td><td>Completed                    </td><td>2013-02-19 00:00:00          </td><td>0.20918                      </td><td>0.1845                       </td><td>0.1745                       </td><td>...                          </td><td> -25.16                      </td><td>  0.00                       </td><td>0                            </td><td>0                            </td><td>0                            </td><td>1                            </td><td>0                            </td><td>0                            </td><td>   0.00                      </td><td> 21                          </td></tr>\n",
       "\t<tr><td>D99F34974391116263A9EB0      </td><td>480631                       </td><td>2010-10-19 15:51:36.043000000</td><td>                             </td><td>36                           </td><td>Completed                    </td><td>2013-11-08 00:00:00          </td><td>0.35701                      </td><td>0.3100                       </td><td>0.3000                       </td><td>...                          </td><td> -22.98                      </td><td>  0.00                       </td><td>0                            </td><td>0                            </td><td>0                            </td><td>1                            </td><td>0                            </td><td>0                            </td><td>   0.00                      </td><td> 33                          </td></tr>\n",
       "\t<tr><td>CABD3496593465083DED371      </td><td>480503                       </td><td>2010-10-19 13:38:35.113000000</td><td>                             </td><td>36                           </td><td>Completed                    </td><td>2011-02-24 00:00:00          </td><td>0.17066                      </td><td>0.1157                       </td><td>0.1057                       </td><td>...                          </td><td>  -0.78                      </td><td>  0.00                       </td><td>0                            </td><td>0                            </td><td>0                            </td><td>1                            </td><td>0                            </td><td>0                            </td><td>   0.00                      </td><td> 12                          </td></tr>\n",
       "\t<tr><td>F09F34610643095230CB3CC      </td><td>422675                       </td><td>2009-09-01 09:19:16.690000000</td><td>                             </td><td>36                           </td><td>Completed                    </td><td>2009-12-08 00:00:00          </td><td>0.20392                      </td><td>0.1818                       </td><td>0.1718                       </td><td>...                          </td><td>  -6.43                      </td><td>  0.00                       </td><td>0                            </td><td>0                            </td><td>0                            </td><td>1                            </td><td>0                            </td><td>0                            </td><td>   0.00                      </td><td>  8                          </td></tr>\n",
       "\t<tr><td>C2493464219717831D1AE7D      </td><td>426289                       </td><td>2009-09-29 12:46:07.890000000</td><td>                             </td><td>36                           </td><td>Completed                    </td><td>2010-02-02 00:00:00          </td><td>0.37453                      </td><td>0.3500                       </td><td>0.3400                       </td><td>...                          </td><td> -17.38                      </td><td>  0.00                       </td><td>0                            </td><td>0                            </td><td>0                            </td><td>1                            </td><td>0                            </td><td>0                            </td><td>   0.00                      </td><td>  1                          </td></tr>\n",
       "\t<tr><td>FFDA34977230634045B6DD9      </td><td>479483                       </td><td>2010-10-12 18:21:43.497000000</td><td>                             </td><td>36                           </td><td>Completed                    </td><td>2013-01-29 00:00:00          </td><td>0.28498                      </td><td>0.2500                       </td><td>0.2400                       </td><td>...                          </td><td> -45.52                      </td><td>  0.00                       </td><td>0                            </td><td>0                            </td><td>0                            </td><td>1                            </td><td>2                            </td><td>0                            </td><td>   0.00                      </td><td>121                          </td></tr>\n",
       "\t<tr><td>C9563467992330262C23724      </td><td>433774                       </td><td>2009-11-16 19:11:53.663000000</td><td>                             </td><td>36                           </td><td>Completed                    </td><td>2010-01-12 00:00:00          </td><td>0.20504                      </td><td>0.1829                       </td><td>0.1729                       </td><td>...                          </td><td>  -4.66                      </td><td>  0.00                       </td><td>0                            </td><td>0                            </td><td>0                            </td><td>1                            </td><td>0                            </td><td>0                            </td><td>   0.00                      </td><td>  1                          </td></tr>\n",
       "</tbody>\n",
       "</table>\n"
      ],
      "text/latex": [
       "\\begin{tabular}{r|lllllllllllllllllllllllllllllllllllllllllllllllllllllllllllllllllllllllllllllllll}\n",
       " ListingKey & ListingNumber & ListingCreationDate & CreditGrade & Term & LoanStatus & ClosedDate & BorrowerAPR & BorrowerRate & LenderYield & ... & LP\\_ServiceFees & LP\\_CollectionFees & LP\\_GrossPrincipalLoss & LP\\_NetPrincipalLoss & LP\\_NonPrincipalRecoverypayments & PercentFunded & Recommendations & InvestmentFromFriendsCount & InvestmentFromFriendsAmount & Investors\\\\\n",
       "\\hline\n",
       "\t 32543499181220496DBB555       & 483095                        & 2010-11-05 14:46:00.163000000 &                               & 36                            & Completed                     & 2011-04-21 00:00:00           & 0.36783                       & 0.3269                        & 0.3169                        & ...                           &   -5.91                       & 0                             & 0                             & 0                             & 0                             & 1                             & 0                             & 1                             & 1058.77                       &  27                          \\\\\n",
       "\t 4685347195009875809A70E       & 440607                        & 2010-01-01 14:46:53.843000000 &                               & 36                            & Completed                     & 2011-02-28 00:00:00           & 0.22491                       & 0.2000                        & 0.1900                        & ...                           &  -14.35                       & 0                             & 0                             & 0                             & 0                             & 1                             & 0                             & 0                             &    0.00                       &  75                          \\\\\n",
       "\t 6DD034810270651087DFB9F       & 452658                        & 2010-04-05 09:10:40.280000000 &                               & 36                            & Completed                     & 2011-04-29 00:00:00           & 0.36336                       & 0.3390                        & 0.3290                        & ...                           &  -13.30                       & 0                             & 0                             & 0                             & 0                             & 1                             & 0                             & 1                             &  100.00                       &  60                          \\\\\n",
       "\t 9E5E3498204991686FFFDC9       & 481925                        & 2010-10-28 10:18:14.733000000 &                               & 36                            & Completed                     & 2011-05-13 00:00:00           & 0.34631                       & 0.3100                        & 0.3000                        & ...                           &  -31.49                       & 0                             & 0                             & 0                             & 0                             & 1                             & 0                             & 0                             &    0.00                       &  75                          \\\\\n",
       "\t 0F393487035940130A9724B       & 463090                        & 2010-06-18 09:24:37.347000000 &                               & 36                            & Completed                     & 2011-02-18 00:00:00           & 0.33281                       & 0.3089                        & 0.2989                        & ...                           &  -35.39                       & 0                             & 0                             & 0                             & 0                             & 1                             & 1                             & 1                             &   25.00                       & 169                          \\\\\n",
       "\t 3AA83459022108282F14863       & 416980                        & 2009-07-17 13:57:20.620000000 &                               & 36                            & Completed                     & 2012-05-23 00:00:00           & 0.37453                       & 0.3500                        & 0.3400                        & ...                           &  -24.61                       & 0                             & 0                             & 0                             & 0                             & 1                             & 0                             & 0                             &    0.00                       &   1                          \\\\\n",
       "\t 951734715607690434676F3       & 439186                        & 2009-12-19 16:52:50.200000000 &                               & 36                            & Completed                     & 2012-12-31 00:00:00           & 0.36438                       & 0.3400                        & 0.3300                        & ...                           &  -50.40                       & 0                             & 0                             & 0                             & 0                             & 1                             & 0                             & 0                             &    0.00                       &  68                          \\\\\n",
       "\t 30E73477967521420B48181       & 450235                        & 2010-03-12 11:18:17.957000000 &                               & 36                            & Completed                     & 2013-02-27 00:00:00           & 0.20260                       & 0.1805                        & 0.1705                        & ...                           & -117.21                       & 0                             & 0                             & 0                             & 0                             & 1                             & 0                             & 0                             &    0.00                       &   3                          \\\\\n",
       "\t 009B3495741061236C0C927       & 477848                        & 2010-09-30 16:29:48.017000000 &                               & 36                            & Completed                     & 2013-10-14 00:00:00           & 0.38723                       & 0.3500                        & 0.3400                        & ...                           & -106.13                       & 0                             & 0                             & 0                             & 0                             & 1                             & 0                             & 0                             &    0.00                       &  80                          \\\\\n",
       "\t 2F973490896224270661A5B       & 468917                        & 2010-07-28 11:38:29.650000000 &                               & 36                            & Completed                     & 2012-04-07 00:00:00           & 0.38109                       & 0.3440                        & 0.3340                        & ...                           &  -31.10                       & 0                             & 0                             & 0                             & 0                             & 1                             & 0                             & 0                             &    0.00                       &  51                          \\\\\n",
       "\t ED6334997080608798C4AAC       & 483031                        & 2010-11-05 11:34:27.367000000 &                               & 36                            & Completed                     & 2011-03-29 00:00:00           & 0.26822                       & 0.2100                        & 0.2000                        & ...                           &   -2.90                       & 0                             & 0                             & 0                             & 0                             & 1                             & 0                             & 0                             &    0.00                       &  61                          \\\\\n",
       "\t 0A493500724918931BC92AD       & 485927                        & 2010-11-28 10:26:41.450000000 &                               & 36                            & Completed                     & 2013-12-07 00:00:00           & 0.34631                       & 0.3100                        & 0.3000                        & ...                           &  -53.09                       & 0                             & 0                             & 0                             & 0                             & 1                             & 1                             & 0                             &    0.00                       &  77                          \\\\\n",
       "\t 2DD734790047377761A273F       & 448926                        & 2010-03-05 12:00:35.537000000 &                               & 36                            & Completed                     & 2012-07-13 00:00:00           & 0.33393                       & 0.3100                        & 0.3000                        & ...                           &  -65.89                       & 0                             & 0                             & 0                             & 0                             & 1                             & 0                             & 0                             &    0.00                       &  90                          \\\\\n",
       "\t 5B283501148182785E410F3       & 484999                        & 2010-11-18 12:03:18.170000000 &                               & 36                            & Completed                     & 2013-11-30 00:00:00           & 0.36646                       & 0.3297                        & 0.3197                        & ...                           &  -32.02                       & 0                             & 0                             & 0                             & 0                             & 1                             & 0                             & 0                             &    0.00                       &  51                          \\\\\n",
       "\t A84234919972024700E788D       & 469907                        & 2010-08-03 18:26:38.910000000 &                               & 36                            & Completed                     & 2011-12-20 00:00:00           & 0.21291                       & 0.1794                        & 0.1694                        & ...                           &  -28.18                       & 0                             & 0                             & 0                             & 0                             & 1                             & 1                             & 2                             & 1774.42                       &  53                          \\\\\n",
       "\t 16ED3472868394333E87B22       & 442499                        & 2010-01-14 09:37:49.377000000 &                               & 36                            & Completed                     & 2013-01-19 00:00:00           & 0.11155                       & 0.0906                        & 0.0806                        & ...                           & -162.60                       & 0                             & 0                             & 0                             & 0                             & 1                             & 0                             & 0                             &    0.00                       &   1                          \\\\\n",
       "\t 16B23499408173940883262       & 485266                        & 2010-11-21 05:38:54.950000000 &                               & 36                            & Completed                     & 2013-11-30 00:00:00           & 0.38723                       & 0.3500                        & 0.3400                        & ...                           &  -46.76                       & 0                             & 0                             & 0                             & 0                             & 1                             & 1                             & 1                             &   25.00                       &  38                          \\\\\n",
       "\t B1E63500679848022856766       & 486405                        & 2010-12-01 19:11:37.317000000 &                               & 36                            & Completed                     & 2013-04-11 00:00:00           & 0.38723                       & 0.3500                        & 0.3400                        & ...                           &  -61.97                       & 0                             & 0                             & 0                             & 0                             & 1                             & 0                             & 0                             &    0.00                       &  33                          \\\\\n",
       "\t 9A4E3492821389543047631       & 473029                        & 2010-08-24 19:07:26.757000000 &                               & 36                            & Completed                     & 2011-03-22 00:00:00           & 0.41355                       & 0.3500                        & 0.3400                        & ...                           &   -5.15                       & 0                             & 0                             & 0                             & 0                             & 1                             & 0                             & 0                             &    0.00                       &  22                          \\\\\n",
       "\t A97F34930346098313445C1       & 474439                        & 2010-09-04 08:15:17.333000000 &                               & 36                            & Completed                     & 2012-01-30 00:00:00           & 0.14360                       & 0.0895                        & 0.0795                        & ...                           &   -4.89                       & 0                             & 0                             & 0                             & 0                             & 1                             & 0                             & 0                             &    0.00                       &  73                          \\\\\n",
       "\t 9E7A3492907493044A627C2       & 471571                        & 2010-08-15 13:52:55.137000000 &                               & 36                            & Completed                     & 2013-08-24 00:00:00           & 0.26302                       & 0.2285                        & 0.2185                        & ...                           &  -34.24                       & 0                             & 0                             & 0                             & 0                             & 1                             & 0                             & 0                             &    0.00                       & 144                          \\\\\n",
       "\t BAC4350200668046339B539       & 486562                        & 2010-12-02 12:56:27.757000000 &                               & 36                            & Completed                     & 2013-02-05 00:00:00           & 0.41355                       & 0.3500                        & 0.3400                        & ...                           &  -16.14                       & 0                             & 0                             & 0                             & 0                             & 1                             & 0                             & 0                             &    0.00                       &  20                          \\\\\n",
       "\t 029A3499706893097DB1393       & 482554                        & 2010-11-02 11:04:47.190000000 &                               & 36                            & Completed                     & 2013-11-17 00:00:00           & 0.38723                       & 0.3500                        & 0.3400                        & ...                           &  -36.28                       & 0                             & 0                             & 0                             & 0                             & 1                             & 0                             & 0                             &    0.00                       &  36                          \\\\\n",
       "\t 43183492371043609C0DBA0       & 472018                        & 2010-08-17 21:02:19.750000000 &                               & 36                            & Completed                     & 2013-01-26 00:00:00           & 0.41355                       & 0.3500                        & 0.3400                        & ...                           &  -11.22                       & 0                             & 0                             & 0                             & 0                             & 1                             & 0                             & 0                             &    0.00                       &   4                          \\\\\n",
       "\t 5AA83501298480208AD3EC1       & 486320                        & 2010-11-30 22:23:27.610000000 &                               & 36                            & Completed                     & 2013-12-11 00:00:00           & 0.27477                       & 0.2400                        & 0.2300                        & ...                           &  -60.20                       & 0                             & 0                             & 0                             & 0                             & 1                             & 1                             & 1                             & 1500.08                       &  90                          \\\\\n",
       "\t 173F346874551774587E3B1       & 433838                        & 2009-11-17 12:04:07.463000000 &                               & 36                            & Completed                     & 2010-02-03 00:00:00           & 0.20504                       & 0.1829                        & 0.1729                        & ...                           &  -10.54                       & 0                             & 0                             & 0                             & 0                             & 1                             & 0                             & 0                             &    0.00                       &   1                          \\\\\n",
       "\t 7C553493407571270274222       & 473928                        & 2010-09-01 11:55:34.210000000 &                               & 36                            & Completed                     & 2013-07-30 00:00:00           & 0.21523                       & 0.1779                        & 0.1679                        & ...                           &  -24.53                       & 0                             & 0                             & 0                             & 0                             & 1                             & 0                             & 0                             &    0.00                       &  33                          \\\\\n",
       "\t 16F83481335468577BB79E9       & 456011                        & 2010-04-26 11:42:38.437000000 &                               & 36                            & Completed                     & 2012-05-25 00:00:00           & 0.37733                       & 0.3500                        & 0.3400                        & ...                           &  -23.56                       & 0                             & 0                             & 0                             & 0                             & 1                             & 0                             & 0                             &    0.00                       &  20                          \\\\\n",
       "\t 038535015703591930CD2E0       & 487140                        & 2010-12-08 15:23:57.793000000 &                               & 36                            & Completed                     & 2012-10-31 00:00:00           & 0.25435                       & 0.2200                        & 0.2100                        & ...                           &  -26.73                       & 0                             & 0                             & 0                             & 0                             & 1                             & 0                             & 0                             &    0.00                       & 135                          \\\\\n",
       "\t ADE43494680664033EE3E04       & 475065                        & 2010-09-10 08:50:15.670000000 &                               & 36                            & Completed                     & 2012-10-30 00:00:00           & 0.36912                       & 0.3323                        & 0.3223                        & ...                           &  -28.11                       & 0                             & 0                             & 0                             & 0                             & 1                             & 0                             & 0                             &    0.00                       &  64                          \\\\\n",
       "\t ... & ... & ... & ... & ... & ... & ... & ... & ... & ... &     & ... & ... & ... & ... & ... & ... & ... & ... & ... & ...\\\\\n",
       "\t 2A003495747066236259178       & 476394                        & 2010-09-21 14:41:04.340000000 &                               & 36                            & Completed                     & 2013-09-28 00:00:00           & 0.21137                       & 0.1779                        & 0.1679                        & ...                           &  -83.85                       &   0.00                        & 0                             & 0                             & 0                             & 1                             & 0                             & 0                             &    0.00                       &  22                          \\\\\n",
       "\t 26E434645397643487E8FAA       & 426473                        & 2009-09-30 15:36:54.397000000 &                               & 36                            & Completed                     & 2011-02-09 00:00:00           & 0.38723                       & 0.3500                        & 0.3400                        & ...                           &   -2.50                       &   0.00                        & 0                             & 0                             & 0                             & 1                             & 0                             & 0                             &    0.00                       &  40                          \\\\\n",
       "\t F8763495676565704F716BE       & 478607                        & 2010-10-07 08:09:33.493000000 &                               & 36                            & Completed                     & 2013-09-15 00:00:00           & 0.21728                       & 0.1799                        & 0.1699                        & ...                           &  -24.10                       &   0.00                        & 0                             & 0                             & 0                             & 1                             & 0                             & 0                             &    0.00                       &  54                          \\\\\n",
       "\t 7869348911205801211336D       & 466965                        & 2010-07-15 17:28:45.877000000 &                               & 36                            & Completed                     & 2013-05-29 00:00:00           & 0.37453                       & 0.3500                        & 0.3400                        & ...                           &  -53.05                       &   0.00                        & 0                             & 0                             & 0                             & 1                             & 0                             & 0                             &    0.00                       &  32                          \\\\\n",
       "\t 87793468051018224ED5E2C       & 432323                        & 2009-11-07 17:05:14.507000000 &                               & 36                            & Completed                     & 2012-04-06 00:00:00           & 0.20504                       & 0.1829                        & 0.1729                        & ...                           &  -39.61                       &   0.00                        & 0                             & 0                             & 0                             & 1                             & 0                             & 0                             &    0.00                       &   4                          \\\\\n",
       "\t 4937346216847197452FB8A       & 423755                        & 2009-09-09 15:58:48.523000000 &                               & 36                            & Completed                     & 2012-06-05 00:00:00           & 0.21223                       & 0.1900                        & 0.1800                        & ...                           &  -39.49                       &   0.00                        & 0                             & 0                             & 0                             & 1                             & 0                             & 0                             &    0.00                       &   1                          \\\\\n",
       "\t C15F348278626944169A872       & 458169                        & 2010-05-13 06:49:09.163000000 &                               & 36                            & Completed                     & 2013-05-18 00:00:00           & 0.21476                       & 0.1900                        & 0.1800                        & ...                           &  -25.31                       &   0.00                        & 0                             & 0                             & 0                             & 1                             & 0                             & 0                             &    0.00                       &  12                          \\\\\n",
       "\t 789F350210398763651BA91       & 485962                        & 2010-11-28 19:45:12.420000000 &                               & 36                            & Completed                     & 2013-12-13 00:00:00           & 0.32005                       & 0.2600                        & 0.2500                        & ...                           &  -17.37                       &   0.00                        & 0                             & 0                             & 0                             & 1                             & 1                             & 2                             &   55.00                       &  31                          \\\\\n",
       "\t DF90346174340002351C1F4       & 422477                        & 2009-08-30 07:49:07.147000000 &                               & 36                            & Completed                     & 2012-09-09 00:00:00           & 0.20695                       & 0.1823                        & 0.1723                        & ...                           &  -25.13                       &   0.00                        & 0                             & 0                             & 0                             & 1                             & 0                             & 0                             &    0.00                       &   3                          \\\\\n",
       "\t 269235009277038600A8F41       & 486901                        & 2010-12-06 09:50:28.423000000 &                               & 36                            & Completed                     & 2013-01-07 00:00:00           & 0.39821                       & 0.3500                        & 0.3400                        & ...                           &  -16.10                       &   0.00                        & 0                             & 0                             & 0                             & 1                             & 0                             & 0                             &    0.00                       &  28                          \\\\\n",
       "\t 4B5A34808530538374A1D66       & 454760                        & 2010-04-17 07:44:16.297000000 &                               & 36                            & Completed                     & 2012-02-27 00:00:00           & 0.22522                       & 0.2003                        & 0.1903                        & ...                           &  -20.43                       &   0.00                        & 0                             & 0                             & 0                             & 1                             & 0                             & 0                             &    0.00                       &  48                          \\\\\n",
       "\t DB453501219046087835C54       & 486316                        & 2010-11-30 18:19:18.730000000 &                               & 36                            & Completed                     & 2011-04-22 00:00:00           & 0.39153                       & 0.3500                        & 0.3400                        & ...                           &   -5.41                       &   0.00                        & 0                             & 0                             & 0                             & 1                             & 0                             & 0                             &    0.00                       &  29                          \\\\\n",
       "\t A91D34785676125336640F0       & 450451                        & 2010-03-14 20:03:02.273000000 &                               & 36                            & Completed                     & 2011-03-25 00:00:00           & 0.37443                       & 0.3499                        & 0.3399                        & ...                           &  -58.20                       &   0.00                        & 0                             & 0                             & 0                             & 1                             & 0                             & 0                             &    0.00                       &  81                          \\\\\n",
       "\t F5D73489855329001299FF4       & 469312                        & 2010-07-30 08:47:21.447000000 &                               & 36                            & Completed                     & 2013-08-11 00:00:00           & 0.08999                       & 0.0693                        & 0.0593                        & ...                           & -127.58                       &   0.00                        & 0                             & 0                             & 0                             & 1                             & 0                             & 1                             & 4000.00                       &   2                          \\\\\n",
       "\t E7A63484022509283D51CD4       & 460192                        & 2010-05-27 02:12:13.103000000 &                               & 36                            & Completed                     & 2011-03-03 00:00:00           & 0.37453                       & 0.3500                        & 0.3400                        & ...                           &  -44.99                       &   0.00                        & 0                             & 0                             & 0                             & 1                             & 0                             & 0                             &    0.00                       &  43                          \\\\\n",
       "\t EA623467677786916EBA487       & 430588                        & 2009-10-27 13:34:06.360000000 &                               & 36                            & Completed                     & 2012-08-31 00:00:00           & 0.18133                       & 0.1595                        & 0.1495                        & ...                           &  -32.95                       &   0.00                        & 0                             & 0                             & 0                             & 1                             & 0                             & 0                             &    0.00                       &  14                          \\\\\n",
       "\t B61D3495731427761944829       & 477092                        & 2010-09-25 12:48:31.330000000 &                               & 36                            & Completed                     & 2013-11-19 00:00:00           & 0.30031                       & 0.2650                        & 0.2550                        & ...                           & -106.26                       & -80.31                        & 0                             & 0                             & 0                             & 1                             & 1                             & 0                             &    0.00                       &  82                          \\\\\n",
       "\t 121E34965887476537FE189       & 480718                        & 2010-10-20 06:31:26.270000000 &                               & 36                            & Completed                     & 2013-07-09 00:00:00           & 0.21352                       & 0.1800                        & 0.1700                        & ...                           &  -52.12                       &   0.00                        & 0                             & 0                             & 0                             & 1                             & 0                             & 0                             &    0.00                       &  63                          \\\\\n",
       "\t B3EE3502272243880283B16       & 487169                        & 2010-12-08 09:07:06.530000000 &                               & 36                            & Completed                     & 2013-02-08 00:00:00           & 0.38127                       & 0.3400                        & 0.3300                        & ...                           &  -23.67                       &   0.00                        & 0                             & 0                             & 0                             & 1                             & 0                             & 0                             &    0.00                       &  20                          \\\\\n",
       "\t 73AA346937387942113D189       & 433566                        & 2009-11-16 08:17:56.767000000 &                               & 36                            & Completed                     & 2010-01-11 00:00:00           & 0.22237                       & 0.2000                        & 0.1900                        & ...                           &  -14.66                       &   0.00                        & 0                             & 0                             & 0                             & 1                             & 0                             & 0                             &    0.00                       &   1                          \\\\\n",
       "\t F6E13478114370526251C1C       & 450345                        & 2010-03-15 06:43:55.170000000 &                               & 36                            & Completed                     & 2010-10-15 00:00:00           & 0.37453                       & 0.3500                        & 0.3400                        & ...                           &  -26.51                       &   0.00                        & 0                             & 0                             & 0                             & 1                             & 0                             & 0                             &    0.00                       &  48                          \\\\\n",
       "\t 24263477605508875B1445A       & 448509                        & 2010-03-02 11:44:36.243000000 &                               & 36                            & Completed                     & 2013-01-08 00:00:00           & 0.23784                       & 0.2000                        & 0.1900                        & ...                           &  -16.76                       &   0.00                        & 0                             & 0                             & 0                             & 1                             & 0                             & 0                             &    0.00                       &  71                          \\\\\n",
       "\t E83C3488674044403859127       & 467035                        & 2010-07-17 05:21:48.957000000 &                               & 36                            & Completed                     & 2013-02-14 00:00:00           & 0.37453                       & 0.3500                        & 0.3400                        & ...                           & -143.57                       &   0.00                        & 0                             & 0                             & 0                             & 1                             & 1                             & 1                             &  200.08                       &  32                          \\\\\n",
       "\t 297D347700685376134183D       & 447504                        & 2010-02-22 10:50:18.203000000 &                               & 36                            & Completed                     & 2013-02-19 00:00:00           & 0.20918                       & 0.1845                        & 0.1745                        & ...                           &  -25.16                       &   0.00                        & 0                             & 0                             & 0                             & 1                             & 0                             & 0                             &    0.00                       &  21                          \\\\\n",
       "\t D99F34974391116263A9EB0       & 480631                        & 2010-10-19 15:51:36.043000000 &                               & 36                            & Completed                     & 2013-11-08 00:00:00           & 0.35701                       & 0.3100                        & 0.3000                        & ...                           &  -22.98                       &   0.00                        & 0                             & 0                             & 0                             & 1                             & 0                             & 0                             &    0.00                       &  33                          \\\\\n",
       "\t CABD3496593465083DED371       & 480503                        & 2010-10-19 13:38:35.113000000 &                               & 36                            & Completed                     & 2011-02-24 00:00:00           & 0.17066                       & 0.1157                        & 0.1057                        & ...                           &   -0.78                       &   0.00                        & 0                             & 0                             & 0                             & 1                             & 0                             & 0                             &    0.00                       &  12                          \\\\\n",
       "\t F09F34610643095230CB3CC       & 422675                        & 2009-09-01 09:19:16.690000000 &                               & 36                            & Completed                     & 2009-12-08 00:00:00           & 0.20392                       & 0.1818                        & 0.1718                        & ...                           &   -6.43                       &   0.00                        & 0                             & 0                             & 0                             & 1                             & 0                             & 0                             &    0.00                       &   8                          \\\\\n",
       "\t C2493464219717831D1AE7D       & 426289                        & 2009-09-29 12:46:07.890000000 &                               & 36                            & Completed                     & 2010-02-02 00:00:00           & 0.37453                       & 0.3500                        & 0.3400                        & ...                           &  -17.38                       &   0.00                        & 0                             & 0                             & 0                             & 1                             & 0                             & 0                             &    0.00                       &   1                          \\\\\n",
       "\t FFDA34977230634045B6DD9       & 479483                        & 2010-10-12 18:21:43.497000000 &                               & 36                            & Completed                     & 2013-01-29 00:00:00           & 0.28498                       & 0.2500                        & 0.2400                        & ...                           &  -45.52                       &   0.00                        & 0                             & 0                             & 0                             & 1                             & 2                             & 0                             &    0.00                       & 121                          \\\\\n",
       "\t C9563467992330262C23724       & 433774                        & 2009-11-16 19:11:53.663000000 &                               & 36                            & Completed                     & 2010-01-12 00:00:00           & 0.20504                       & 0.1829                        & 0.1729                        & ...                           &   -4.66                       &   0.00                        & 0                             & 0                             & 0                             & 1                             & 0                             & 0                             &    0.00                       &   1                          \\\\\n",
       "\\end{tabular}\n"
      ],
      "text/markdown": [
       "\n",
       "ListingKey | ListingNumber | ListingCreationDate | CreditGrade | Term | LoanStatus | ClosedDate | BorrowerAPR | BorrowerRate | LenderYield | ... | LP_ServiceFees | LP_CollectionFees | LP_GrossPrincipalLoss | LP_NetPrincipalLoss | LP_NonPrincipalRecoverypayments | PercentFunded | Recommendations | InvestmentFromFriendsCount | InvestmentFromFriendsAmount | Investors | \n",
       "|---|---|---|---|---|---|---|---|---|---|---|---|---|---|---|---|---|---|---|---|---|---|---|---|---|---|---|---|---|---|---|---|---|---|---|---|---|---|---|---|---|---|---|---|---|---|---|---|---|---|---|---|---|---|---|---|---|---|---|---|---|\n",
       "| 32543499181220496DBB555       | 483095                        | 2010-11-05 14:46:00.163000000 |                               | 36                            | Completed                     | 2011-04-21 00:00:00           | 0.36783                       | 0.3269                        | 0.3169                        | ...                           |   -5.91                       | 0                             | 0                             | 0                             | 0                             | 1                             | 0                             | 1                             | 1058.77                       |  27                           | \n",
       "| 4685347195009875809A70E       | 440607                        | 2010-01-01 14:46:53.843000000 |                               | 36                            | Completed                     | 2011-02-28 00:00:00           | 0.22491                       | 0.2000                        | 0.1900                        | ...                           |  -14.35                       | 0                             | 0                             | 0                             | 0                             | 1                             | 0                             | 0                             |    0.00                       |  75                           | \n",
       "| 6DD034810270651087DFB9F       | 452658                        | 2010-04-05 09:10:40.280000000 |                               | 36                            | Completed                     | 2011-04-29 00:00:00           | 0.36336                       | 0.3390                        | 0.3290                        | ...                           |  -13.30                       | 0                             | 0                             | 0                             | 0                             | 1                             | 0                             | 1                             |  100.00                       |  60                           | \n",
       "| 9E5E3498204991686FFFDC9       | 481925                        | 2010-10-28 10:18:14.733000000 |                               | 36                            | Completed                     | 2011-05-13 00:00:00           | 0.34631                       | 0.3100                        | 0.3000                        | ...                           |  -31.49                       | 0                             | 0                             | 0                             | 0                             | 1                             | 0                             | 0                             |    0.00                       |  75                           | \n",
       "| 0F393487035940130A9724B       | 463090                        | 2010-06-18 09:24:37.347000000 |                               | 36                            | Completed                     | 2011-02-18 00:00:00           | 0.33281                       | 0.3089                        | 0.2989                        | ...                           |  -35.39                       | 0                             | 0                             | 0                             | 0                             | 1                             | 1                             | 1                             |   25.00                       | 169                           | \n",
       "| 3AA83459022108282F14863       | 416980                        | 2009-07-17 13:57:20.620000000 |                               | 36                            | Completed                     | 2012-05-23 00:00:00           | 0.37453                       | 0.3500                        | 0.3400                        | ...                           |  -24.61                       | 0                             | 0                             | 0                             | 0                             | 1                             | 0                             | 0                             |    0.00                       |   1                           | \n",
       "| 951734715607690434676F3       | 439186                        | 2009-12-19 16:52:50.200000000 |                               | 36                            | Completed                     | 2012-12-31 00:00:00           | 0.36438                       | 0.3400                        | 0.3300                        | ...                           |  -50.40                       | 0                             | 0                             | 0                             | 0                             | 1                             | 0                             | 0                             |    0.00                       |  68                           | \n",
       "| 30E73477967521420B48181       | 450235                        | 2010-03-12 11:18:17.957000000 |                               | 36                            | Completed                     | 2013-02-27 00:00:00           | 0.20260                       | 0.1805                        | 0.1705                        | ...                           | -117.21                       | 0                             | 0                             | 0                             | 0                             | 1                             | 0                             | 0                             |    0.00                       |   3                           | \n",
       "| 009B3495741061236C0C927       | 477848                        | 2010-09-30 16:29:48.017000000 |                               | 36                            | Completed                     | 2013-10-14 00:00:00           | 0.38723                       | 0.3500                        | 0.3400                        | ...                           | -106.13                       | 0                             | 0                             | 0                             | 0                             | 1                             | 0                             | 0                             |    0.00                       |  80                           | \n",
       "| 2F973490896224270661A5B       | 468917                        | 2010-07-28 11:38:29.650000000 |                               | 36                            | Completed                     | 2012-04-07 00:00:00           | 0.38109                       | 0.3440                        | 0.3340                        | ...                           |  -31.10                       | 0                             | 0                             | 0                             | 0                             | 1                             | 0                             | 0                             |    0.00                       |  51                           | \n",
       "| ED6334997080608798C4AAC       | 483031                        | 2010-11-05 11:34:27.367000000 |                               | 36                            | Completed                     | 2011-03-29 00:00:00           | 0.26822                       | 0.2100                        | 0.2000                        | ...                           |   -2.90                       | 0                             | 0                             | 0                             | 0                             | 1                             | 0                             | 0                             |    0.00                       |  61                           | \n",
       "| 0A493500724918931BC92AD       | 485927                        | 2010-11-28 10:26:41.450000000 |                               | 36                            | Completed                     | 2013-12-07 00:00:00           | 0.34631                       | 0.3100                        | 0.3000                        | ...                           |  -53.09                       | 0                             | 0                             | 0                             | 0                             | 1                             | 1                             | 0                             |    0.00                       |  77                           | \n",
       "| 2DD734790047377761A273F       | 448926                        | 2010-03-05 12:00:35.537000000 |                               | 36                            | Completed                     | 2012-07-13 00:00:00           | 0.33393                       | 0.3100                        | 0.3000                        | ...                           |  -65.89                       | 0                             | 0                             | 0                             | 0                             | 1                             | 0                             | 0                             |    0.00                       |  90                           | \n",
       "| 5B283501148182785E410F3       | 484999                        | 2010-11-18 12:03:18.170000000 |                               | 36                            | Completed                     | 2013-11-30 00:00:00           | 0.36646                       | 0.3297                        | 0.3197                        | ...                           |  -32.02                       | 0                             | 0                             | 0                             | 0                             | 1                             | 0                             | 0                             |    0.00                       |  51                           | \n",
       "| A84234919972024700E788D       | 469907                        | 2010-08-03 18:26:38.910000000 |                               | 36                            | Completed                     | 2011-12-20 00:00:00           | 0.21291                       | 0.1794                        | 0.1694                        | ...                           |  -28.18                       | 0                             | 0                             | 0                             | 0                             | 1                             | 1                             | 2                             | 1774.42                       |  53                           | \n",
       "| 16ED3472868394333E87B22       | 442499                        | 2010-01-14 09:37:49.377000000 |                               | 36                            | Completed                     | 2013-01-19 00:00:00           | 0.11155                       | 0.0906                        | 0.0806                        | ...                           | -162.60                       | 0                             | 0                             | 0                             | 0                             | 1                             | 0                             | 0                             |    0.00                       |   1                           | \n",
       "| 16B23499408173940883262       | 485266                        | 2010-11-21 05:38:54.950000000 |                               | 36                            | Completed                     | 2013-11-30 00:00:00           | 0.38723                       | 0.3500                        | 0.3400                        | ...                           |  -46.76                       | 0                             | 0                             | 0                             | 0                             | 1                             | 1                             | 1                             |   25.00                       |  38                           | \n",
       "| B1E63500679848022856766       | 486405                        | 2010-12-01 19:11:37.317000000 |                               | 36                            | Completed                     | 2013-04-11 00:00:00           | 0.38723                       | 0.3500                        | 0.3400                        | ...                           |  -61.97                       | 0                             | 0                             | 0                             | 0                             | 1                             | 0                             | 0                             |    0.00                       |  33                           | \n",
       "| 9A4E3492821389543047631       | 473029                        | 2010-08-24 19:07:26.757000000 |                               | 36                            | Completed                     | 2011-03-22 00:00:00           | 0.41355                       | 0.3500                        | 0.3400                        | ...                           |   -5.15                       | 0                             | 0                             | 0                             | 0                             | 1                             | 0                             | 0                             |    0.00                       |  22                           | \n",
       "| A97F34930346098313445C1       | 474439                        | 2010-09-04 08:15:17.333000000 |                               | 36                            | Completed                     | 2012-01-30 00:00:00           | 0.14360                       | 0.0895                        | 0.0795                        | ...                           |   -4.89                       | 0                             | 0                             | 0                             | 0                             | 1                             | 0                             | 0                             |    0.00                       |  73                           | \n",
       "| 9E7A3492907493044A627C2       | 471571                        | 2010-08-15 13:52:55.137000000 |                               | 36                            | Completed                     | 2013-08-24 00:00:00           | 0.26302                       | 0.2285                        | 0.2185                        | ...                           |  -34.24                       | 0                             | 0                             | 0                             | 0                             | 1                             | 0                             | 0                             |    0.00                       | 144                           | \n",
       "| BAC4350200668046339B539       | 486562                        | 2010-12-02 12:56:27.757000000 |                               | 36                            | Completed                     | 2013-02-05 00:00:00           | 0.41355                       | 0.3500                        | 0.3400                        | ...                           |  -16.14                       | 0                             | 0                             | 0                             | 0                             | 1                             | 0                             | 0                             |    0.00                       |  20                           | \n",
       "| 029A3499706893097DB1393       | 482554                        | 2010-11-02 11:04:47.190000000 |                               | 36                            | Completed                     | 2013-11-17 00:00:00           | 0.38723                       | 0.3500                        | 0.3400                        | ...                           |  -36.28                       | 0                             | 0                             | 0                             | 0                             | 1                             | 0                             | 0                             |    0.00                       |  36                           | \n",
       "| 43183492371043609C0DBA0       | 472018                        | 2010-08-17 21:02:19.750000000 |                               | 36                            | Completed                     | 2013-01-26 00:00:00           | 0.41355                       | 0.3500                        | 0.3400                        | ...                           |  -11.22                       | 0                             | 0                             | 0                             | 0                             | 1                             | 0                             | 0                             |    0.00                       |   4                           | \n",
       "| 5AA83501298480208AD3EC1       | 486320                        | 2010-11-30 22:23:27.610000000 |                               | 36                            | Completed                     | 2013-12-11 00:00:00           | 0.27477                       | 0.2400                        | 0.2300                        | ...                           |  -60.20                       | 0                             | 0                             | 0                             | 0                             | 1                             | 1                             | 1                             | 1500.08                       |  90                           | \n",
       "| 173F346874551774587E3B1       | 433838                        | 2009-11-17 12:04:07.463000000 |                               | 36                            | Completed                     | 2010-02-03 00:00:00           | 0.20504                       | 0.1829                        | 0.1729                        | ...                           |  -10.54                       | 0                             | 0                             | 0                             | 0                             | 1                             | 0                             | 0                             |    0.00                       |   1                           | \n",
       "| 7C553493407571270274222       | 473928                        | 2010-09-01 11:55:34.210000000 |                               | 36                            | Completed                     | 2013-07-30 00:00:00           | 0.21523                       | 0.1779                        | 0.1679                        | ...                           |  -24.53                       | 0                             | 0                             | 0                             | 0                             | 1                             | 0                             | 0                             |    0.00                       |  33                           | \n",
       "| 16F83481335468577BB79E9       | 456011                        | 2010-04-26 11:42:38.437000000 |                               | 36                            | Completed                     | 2012-05-25 00:00:00           | 0.37733                       | 0.3500                        | 0.3400                        | ...                           |  -23.56                       | 0                             | 0                             | 0                             | 0                             | 1                             | 0                             | 0                             |    0.00                       |  20                           | \n",
       "| 038535015703591930CD2E0       | 487140                        | 2010-12-08 15:23:57.793000000 |                               | 36                            | Completed                     | 2012-10-31 00:00:00           | 0.25435                       | 0.2200                        | 0.2100                        | ...                           |  -26.73                       | 0                             | 0                             | 0                             | 0                             | 1                             | 0                             | 0                             |    0.00                       | 135                           | \n",
       "| ADE43494680664033EE3E04       | 475065                        | 2010-09-10 08:50:15.670000000 |                               | 36                            | Completed                     | 2012-10-30 00:00:00           | 0.36912                       | 0.3323                        | 0.3223                        | ...                           |  -28.11                       | 0                             | 0                             | 0                             | 0                             | 1                             | 0                             | 0                             |    0.00                       |  64                           | \n",
       "| ... | ... | ... | ... | ... | ... | ... | ... | ... | ... |     | ... | ... | ... | ... | ... | ... | ... | ... | ... | ... | \n",
       "| 2A003495747066236259178       | 476394                        | 2010-09-21 14:41:04.340000000 |                               | 36                            | Completed                     | 2013-09-28 00:00:00           | 0.21137                       | 0.1779                        | 0.1679                        | ...                           |  -83.85                       |   0.00                        | 0                             | 0                             | 0                             | 1                             | 0                             | 0                             |    0.00                       |  22                           | \n",
       "| 26E434645397643487E8FAA       | 426473                        | 2009-09-30 15:36:54.397000000 |                               | 36                            | Completed                     | 2011-02-09 00:00:00           | 0.38723                       | 0.3500                        | 0.3400                        | ...                           |   -2.50                       |   0.00                        | 0                             | 0                             | 0                             | 1                             | 0                             | 0                             |    0.00                       |  40                           | \n",
       "| F8763495676565704F716BE       | 478607                        | 2010-10-07 08:09:33.493000000 |                               | 36                            | Completed                     | 2013-09-15 00:00:00           | 0.21728                       | 0.1799                        | 0.1699                        | ...                           |  -24.10                       |   0.00                        | 0                             | 0                             | 0                             | 1                             | 0                             | 0                             |    0.00                       |  54                           | \n",
       "| 7869348911205801211336D       | 466965                        | 2010-07-15 17:28:45.877000000 |                               | 36                            | Completed                     | 2013-05-29 00:00:00           | 0.37453                       | 0.3500                        | 0.3400                        | ...                           |  -53.05                       |   0.00                        | 0                             | 0                             | 0                             | 1                             | 0                             | 0                             |    0.00                       |  32                           | \n",
       "| 87793468051018224ED5E2C       | 432323                        | 2009-11-07 17:05:14.507000000 |                               | 36                            | Completed                     | 2012-04-06 00:00:00           | 0.20504                       | 0.1829                        | 0.1729                        | ...                           |  -39.61                       |   0.00                        | 0                             | 0                             | 0                             | 1                             | 0                             | 0                             |    0.00                       |   4                           | \n",
       "| 4937346216847197452FB8A       | 423755                        | 2009-09-09 15:58:48.523000000 |                               | 36                            | Completed                     | 2012-06-05 00:00:00           | 0.21223                       | 0.1900                        | 0.1800                        | ...                           |  -39.49                       |   0.00                        | 0                             | 0                             | 0                             | 1                             | 0                             | 0                             |    0.00                       |   1                           | \n",
       "| C15F348278626944169A872       | 458169                        | 2010-05-13 06:49:09.163000000 |                               | 36                            | Completed                     | 2013-05-18 00:00:00           | 0.21476                       | 0.1900                        | 0.1800                        | ...                           |  -25.31                       |   0.00                        | 0                             | 0                             | 0                             | 1                             | 0                             | 0                             |    0.00                       |  12                           | \n",
       "| 789F350210398763651BA91       | 485962                        | 2010-11-28 19:45:12.420000000 |                               | 36                            | Completed                     | 2013-12-13 00:00:00           | 0.32005                       | 0.2600                        | 0.2500                        | ...                           |  -17.37                       |   0.00                        | 0                             | 0                             | 0                             | 1                             | 1                             | 2                             |   55.00                       |  31                           | \n",
       "| DF90346174340002351C1F4       | 422477                        | 2009-08-30 07:49:07.147000000 |                               | 36                            | Completed                     | 2012-09-09 00:00:00           | 0.20695                       | 0.1823                        | 0.1723                        | ...                           |  -25.13                       |   0.00                        | 0                             | 0                             | 0                             | 1                             | 0                             | 0                             |    0.00                       |   3                           | \n",
       "| 269235009277038600A8F41       | 486901                        | 2010-12-06 09:50:28.423000000 |                               | 36                            | Completed                     | 2013-01-07 00:00:00           | 0.39821                       | 0.3500                        | 0.3400                        | ...                           |  -16.10                       |   0.00                        | 0                             | 0                             | 0                             | 1                             | 0                             | 0                             |    0.00                       |  28                           | \n",
       "| 4B5A34808530538374A1D66       | 454760                        | 2010-04-17 07:44:16.297000000 |                               | 36                            | Completed                     | 2012-02-27 00:00:00           | 0.22522                       | 0.2003                        | 0.1903                        | ...                           |  -20.43                       |   0.00                        | 0                             | 0                             | 0                             | 1                             | 0                             | 0                             |    0.00                       |  48                           | \n",
       "| DB453501219046087835C54       | 486316                        | 2010-11-30 18:19:18.730000000 |                               | 36                            | Completed                     | 2011-04-22 00:00:00           | 0.39153                       | 0.3500                        | 0.3400                        | ...                           |   -5.41                       |   0.00                        | 0                             | 0                             | 0                             | 1                             | 0                             | 0                             |    0.00                       |  29                           | \n",
       "| A91D34785676125336640F0       | 450451                        | 2010-03-14 20:03:02.273000000 |                               | 36                            | Completed                     | 2011-03-25 00:00:00           | 0.37443                       | 0.3499                        | 0.3399                        | ...                           |  -58.20                       |   0.00                        | 0                             | 0                             | 0                             | 1                             | 0                             | 0                             |    0.00                       |  81                           | \n",
       "| F5D73489855329001299FF4       | 469312                        | 2010-07-30 08:47:21.447000000 |                               | 36                            | Completed                     | 2013-08-11 00:00:00           | 0.08999                       | 0.0693                        | 0.0593                        | ...                           | -127.58                       |   0.00                        | 0                             | 0                             | 0                             | 1                             | 0                             | 1                             | 4000.00                       |   2                           | \n",
       "| E7A63484022509283D51CD4       | 460192                        | 2010-05-27 02:12:13.103000000 |                               | 36                            | Completed                     | 2011-03-03 00:00:00           | 0.37453                       | 0.3500                        | 0.3400                        | ...                           |  -44.99                       |   0.00                        | 0                             | 0                             | 0                             | 1                             | 0                             | 0                             |    0.00                       |  43                           | \n",
       "| EA623467677786916EBA487       | 430588                        | 2009-10-27 13:34:06.360000000 |                               | 36                            | Completed                     | 2012-08-31 00:00:00           | 0.18133                       | 0.1595                        | 0.1495                        | ...                           |  -32.95                       |   0.00                        | 0                             | 0                             | 0                             | 1                             | 0                             | 0                             |    0.00                       |  14                           | \n",
       "| B61D3495731427761944829       | 477092                        | 2010-09-25 12:48:31.330000000 |                               | 36                            | Completed                     | 2013-11-19 00:00:00           | 0.30031                       | 0.2650                        | 0.2550                        | ...                           | -106.26                       | -80.31                        | 0                             | 0                             | 0                             | 1                             | 1                             | 0                             |    0.00                       |  82                           | \n",
       "| 121E34965887476537FE189       | 480718                        | 2010-10-20 06:31:26.270000000 |                               | 36                            | Completed                     | 2013-07-09 00:00:00           | 0.21352                       | 0.1800                        | 0.1700                        | ...                           |  -52.12                       |   0.00                        | 0                             | 0                             | 0                             | 1                             | 0                             | 0                             |    0.00                       |  63                           | \n",
       "| B3EE3502272243880283B16       | 487169                        | 2010-12-08 09:07:06.530000000 |                               | 36                            | Completed                     | 2013-02-08 00:00:00           | 0.38127                       | 0.3400                        | 0.3300                        | ...                           |  -23.67                       |   0.00                        | 0                             | 0                             | 0                             | 1                             | 0                             | 0                             |    0.00                       |  20                           | \n",
       "| 73AA346937387942113D189       | 433566                        | 2009-11-16 08:17:56.767000000 |                               | 36                            | Completed                     | 2010-01-11 00:00:00           | 0.22237                       | 0.2000                        | 0.1900                        | ...                           |  -14.66                       |   0.00                        | 0                             | 0                             | 0                             | 1                             | 0                             | 0                             |    0.00                       |   1                           | \n",
       "| F6E13478114370526251C1C       | 450345                        | 2010-03-15 06:43:55.170000000 |                               | 36                            | Completed                     | 2010-10-15 00:00:00           | 0.37453                       | 0.3500                        | 0.3400                        | ...                           |  -26.51                       |   0.00                        | 0                             | 0                             | 0                             | 1                             | 0                             | 0                             |    0.00                       |  48                           | \n",
       "| 24263477605508875B1445A       | 448509                        | 2010-03-02 11:44:36.243000000 |                               | 36                            | Completed                     | 2013-01-08 00:00:00           | 0.23784                       | 0.2000                        | 0.1900                        | ...                           |  -16.76                       |   0.00                        | 0                             | 0                             | 0                             | 1                             | 0                             | 0                             |    0.00                       |  71                           | \n",
       "| E83C3488674044403859127       | 467035                        | 2010-07-17 05:21:48.957000000 |                               | 36                            | Completed                     | 2013-02-14 00:00:00           | 0.37453                       | 0.3500                        | 0.3400                        | ...                           | -143.57                       |   0.00                        | 0                             | 0                             | 0                             | 1                             | 1                             | 1                             |  200.08                       |  32                           | \n",
       "| 297D347700685376134183D       | 447504                        | 2010-02-22 10:50:18.203000000 |                               | 36                            | Completed                     | 2013-02-19 00:00:00           | 0.20918                       | 0.1845                        | 0.1745                        | ...                           |  -25.16                       |   0.00                        | 0                             | 0                             | 0                             | 1                             | 0                             | 0                             |    0.00                       |  21                           | \n",
       "| D99F34974391116263A9EB0       | 480631                        | 2010-10-19 15:51:36.043000000 |                               | 36                            | Completed                     | 2013-11-08 00:00:00           | 0.35701                       | 0.3100                        | 0.3000                        | ...                           |  -22.98                       |   0.00                        | 0                             | 0                             | 0                             | 1                             | 0                             | 0                             |    0.00                       |  33                           | \n",
       "| CABD3496593465083DED371       | 480503                        | 2010-10-19 13:38:35.113000000 |                               | 36                            | Completed                     | 2011-02-24 00:00:00           | 0.17066                       | 0.1157                        | 0.1057                        | ...                           |   -0.78                       |   0.00                        | 0                             | 0                             | 0                             | 1                             | 0                             | 0                             |    0.00                       |  12                           | \n",
       "| F09F34610643095230CB3CC       | 422675                        | 2009-09-01 09:19:16.690000000 |                               | 36                            | Completed                     | 2009-12-08 00:00:00           | 0.20392                       | 0.1818                        | 0.1718                        | ...                           |   -6.43                       |   0.00                        | 0                             | 0                             | 0                             | 1                             | 0                             | 0                             |    0.00                       |   8                           | \n",
       "| C2493464219717831D1AE7D       | 426289                        | 2009-09-29 12:46:07.890000000 |                               | 36                            | Completed                     | 2010-02-02 00:00:00           | 0.37453                       | 0.3500                        | 0.3400                        | ...                           |  -17.38                       |   0.00                        | 0                             | 0                             | 0                             | 1                             | 0                             | 0                             |    0.00                       |   1                           | \n",
       "| FFDA34977230634045B6DD9       | 479483                        | 2010-10-12 18:21:43.497000000 |                               | 36                            | Completed                     | 2013-01-29 00:00:00           | 0.28498                       | 0.2500                        | 0.2400                        | ...                           |  -45.52                       |   0.00                        | 0                             | 0                             | 0                             | 1                             | 2                             | 0                             |    0.00                       | 121                           | \n",
       "| C9563467992330262C23724       | 433774                        | 2009-11-16 19:11:53.663000000 |                               | 36                            | Completed                     | 2010-01-12 00:00:00           | 0.20504                       | 0.1829                        | 0.1729                        | ...                           |   -4.66                       |   0.00                        | 0                             | 0                             | 0                             | 1                             | 0                             | 0                             |    0.00                       |   1                           | \n",
       "\n",
       "\n"
      ],
      "text/plain": [
       "    ListingKey              ListingNumber ListingCreationDate          \n",
       "1   32543499181220496DBB555 483095        2010-11-05 14:46:00.163000000\n",
       "2   4685347195009875809A70E 440607        2010-01-01 14:46:53.843000000\n",
       "3   6DD034810270651087DFB9F 452658        2010-04-05 09:10:40.280000000\n",
       "4   9E5E3498204991686FFFDC9 481925        2010-10-28 10:18:14.733000000\n",
       "5   0F393487035940130A9724B 463090        2010-06-18 09:24:37.347000000\n",
       "6   3AA83459022108282F14863 416980        2009-07-17 13:57:20.620000000\n",
       "7   951734715607690434676F3 439186        2009-12-19 16:52:50.200000000\n",
       "8   30E73477967521420B48181 450235        2010-03-12 11:18:17.957000000\n",
       "9   009B3495741061236C0C927 477848        2010-09-30 16:29:48.017000000\n",
       "10  2F973490896224270661A5B 468917        2010-07-28 11:38:29.650000000\n",
       "11  ED6334997080608798C4AAC 483031        2010-11-05 11:34:27.367000000\n",
       "12  0A493500724918931BC92AD 485927        2010-11-28 10:26:41.450000000\n",
       "13  2DD734790047377761A273F 448926        2010-03-05 12:00:35.537000000\n",
       "14  5B283501148182785E410F3 484999        2010-11-18 12:03:18.170000000\n",
       "15  A84234919972024700E788D 469907        2010-08-03 18:26:38.910000000\n",
       "16  16ED3472868394333E87B22 442499        2010-01-14 09:37:49.377000000\n",
       "17  16B23499408173940883262 485266        2010-11-21 05:38:54.950000000\n",
       "18  B1E63500679848022856766 486405        2010-12-01 19:11:37.317000000\n",
       "19  9A4E3492821389543047631 473029        2010-08-24 19:07:26.757000000\n",
       "20  A97F34930346098313445C1 474439        2010-09-04 08:15:17.333000000\n",
       "21  9E7A3492907493044A627C2 471571        2010-08-15 13:52:55.137000000\n",
       "22  BAC4350200668046339B539 486562        2010-12-02 12:56:27.757000000\n",
       "23  029A3499706893097DB1393 482554        2010-11-02 11:04:47.190000000\n",
       "24  43183492371043609C0DBA0 472018        2010-08-17 21:02:19.750000000\n",
       "25  5AA83501298480208AD3EC1 486320        2010-11-30 22:23:27.610000000\n",
       "26  173F346874551774587E3B1 433838        2009-11-17 12:04:07.463000000\n",
       "27  7C553493407571270274222 473928        2010-09-01 11:55:34.210000000\n",
       "28  16F83481335468577BB79E9 456011        2010-04-26 11:42:38.437000000\n",
       "29  038535015703591930CD2E0 487140        2010-12-08 15:23:57.793000000\n",
       "30  ADE43494680664033EE3E04 475065        2010-09-10 08:50:15.670000000\n",
       "... ...                     ...           ...                          \n",
       "117 2A003495747066236259178 476394        2010-09-21 14:41:04.340000000\n",
       "118 26E434645397643487E8FAA 426473        2009-09-30 15:36:54.397000000\n",
       "119 F8763495676565704F716BE 478607        2010-10-07 08:09:33.493000000\n",
       "120 7869348911205801211336D 466965        2010-07-15 17:28:45.877000000\n",
       "121 87793468051018224ED5E2C 432323        2009-11-07 17:05:14.507000000\n",
       "122 4937346216847197452FB8A 423755        2009-09-09 15:58:48.523000000\n",
       "123 C15F348278626944169A872 458169        2010-05-13 06:49:09.163000000\n",
       "124 789F350210398763651BA91 485962        2010-11-28 19:45:12.420000000\n",
       "125 DF90346174340002351C1F4 422477        2009-08-30 07:49:07.147000000\n",
       "126 269235009277038600A8F41 486901        2010-12-06 09:50:28.423000000\n",
       "127 4B5A34808530538374A1D66 454760        2010-04-17 07:44:16.297000000\n",
       "128 DB453501219046087835C54 486316        2010-11-30 18:19:18.730000000\n",
       "129 A91D34785676125336640F0 450451        2010-03-14 20:03:02.273000000\n",
       "130 F5D73489855329001299FF4 469312        2010-07-30 08:47:21.447000000\n",
       "131 E7A63484022509283D51CD4 460192        2010-05-27 02:12:13.103000000\n",
       "132 EA623467677786916EBA487 430588        2009-10-27 13:34:06.360000000\n",
       "133 B61D3495731427761944829 477092        2010-09-25 12:48:31.330000000\n",
       "134 121E34965887476537FE189 480718        2010-10-20 06:31:26.270000000\n",
       "135 B3EE3502272243880283B16 487169        2010-12-08 09:07:06.530000000\n",
       "136 73AA346937387942113D189 433566        2009-11-16 08:17:56.767000000\n",
       "137 F6E13478114370526251C1C 450345        2010-03-15 06:43:55.170000000\n",
       "138 24263477605508875B1445A 448509        2010-03-02 11:44:36.243000000\n",
       "139 E83C3488674044403859127 467035        2010-07-17 05:21:48.957000000\n",
       "140 297D347700685376134183D 447504        2010-02-22 10:50:18.203000000\n",
       "141 D99F34974391116263A9EB0 480631        2010-10-19 15:51:36.043000000\n",
       "142 CABD3496593465083DED371 480503        2010-10-19 13:38:35.113000000\n",
       "143 F09F34610643095230CB3CC 422675        2009-09-01 09:19:16.690000000\n",
       "144 C2493464219717831D1AE7D 426289        2009-09-29 12:46:07.890000000\n",
       "145 FFDA34977230634045B6DD9 479483        2010-10-12 18:21:43.497000000\n",
       "146 C9563467992330262C23724 433774        2009-11-16 19:11:53.663000000\n",
       "    CreditGrade Term LoanStatus ClosedDate          BorrowerAPR BorrowerRate\n",
       "1               36   Completed  2011-04-21 00:00:00 0.36783     0.3269      \n",
       "2               36   Completed  2011-02-28 00:00:00 0.22491     0.2000      \n",
       "3               36   Completed  2011-04-29 00:00:00 0.36336     0.3390      \n",
       "4               36   Completed  2011-05-13 00:00:00 0.34631     0.3100      \n",
       "5               36   Completed  2011-02-18 00:00:00 0.33281     0.3089      \n",
       "6               36   Completed  2012-05-23 00:00:00 0.37453     0.3500      \n",
       "7               36   Completed  2012-12-31 00:00:00 0.36438     0.3400      \n",
       "8               36   Completed  2013-02-27 00:00:00 0.20260     0.1805      \n",
       "9               36   Completed  2013-10-14 00:00:00 0.38723     0.3500      \n",
       "10              36   Completed  2012-04-07 00:00:00 0.38109     0.3440      \n",
       "11              36   Completed  2011-03-29 00:00:00 0.26822     0.2100      \n",
       "12              36   Completed  2013-12-07 00:00:00 0.34631     0.3100      \n",
       "13              36   Completed  2012-07-13 00:00:00 0.33393     0.3100      \n",
       "14              36   Completed  2013-11-30 00:00:00 0.36646     0.3297      \n",
       "15              36   Completed  2011-12-20 00:00:00 0.21291     0.1794      \n",
       "16              36   Completed  2013-01-19 00:00:00 0.11155     0.0906      \n",
       "17              36   Completed  2013-11-30 00:00:00 0.38723     0.3500      \n",
       "18              36   Completed  2013-04-11 00:00:00 0.38723     0.3500      \n",
       "19              36   Completed  2011-03-22 00:00:00 0.41355     0.3500      \n",
       "20              36   Completed  2012-01-30 00:00:00 0.14360     0.0895      \n",
       "21              36   Completed  2013-08-24 00:00:00 0.26302     0.2285      \n",
       "22              36   Completed  2013-02-05 00:00:00 0.41355     0.3500      \n",
       "23              36   Completed  2013-11-17 00:00:00 0.38723     0.3500      \n",
       "24              36   Completed  2013-01-26 00:00:00 0.41355     0.3500      \n",
       "25              36   Completed  2013-12-11 00:00:00 0.27477     0.2400      \n",
       "26              36   Completed  2010-02-03 00:00:00 0.20504     0.1829      \n",
       "27              36   Completed  2013-07-30 00:00:00 0.21523     0.1779      \n",
       "28              36   Completed  2012-05-25 00:00:00 0.37733     0.3500      \n",
       "29              36   Completed  2012-10-31 00:00:00 0.25435     0.2200      \n",
       "30              36   Completed  2012-10-30 00:00:00 0.36912     0.3323      \n",
       "... ...         ...  ...        ...                 ...         ...         \n",
       "117             36   Completed  2013-09-28 00:00:00 0.21137     0.1779      \n",
       "118             36   Completed  2011-02-09 00:00:00 0.38723     0.3500      \n",
       "119             36   Completed  2013-09-15 00:00:00 0.21728     0.1799      \n",
       "120             36   Completed  2013-05-29 00:00:00 0.37453     0.3500      \n",
       "121             36   Completed  2012-04-06 00:00:00 0.20504     0.1829      \n",
       "122             36   Completed  2012-06-05 00:00:00 0.21223     0.1900      \n",
       "123             36   Completed  2013-05-18 00:00:00 0.21476     0.1900      \n",
       "124             36   Completed  2013-12-13 00:00:00 0.32005     0.2600      \n",
       "125             36   Completed  2012-09-09 00:00:00 0.20695     0.1823      \n",
       "126             36   Completed  2013-01-07 00:00:00 0.39821     0.3500      \n",
       "127             36   Completed  2012-02-27 00:00:00 0.22522     0.2003      \n",
       "128             36   Completed  2011-04-22 00:00:00 0.39153     0.3500      \n",
       "129             36   Completed  2011-03-25 00:00:00 0.37443     0.3499      \n",
       "130             36   Completed  2013-08-11 00:00:00 0.08999     0.0693      \n",
       "131             36   Completed  2011-03-03 00:00:00 0.37453     0.3500      \n",
       "132             36   Completed  2012-08-31 00:00:00 0.18133     0.1595      \n",
       "133             36   Completed  2013-11-19 00:00:00 0.30031     0.2650      \n",
       "134             36   Completed  2013-07-09 00:00:00 0.21352     0.1800      \n",
       "135             36   Completed  2013-02-08 00:00:00 0.38127     0.3400      \n",
       "136             36   Completed  2010-01-11 00:00:00 0.22237     0.2000      \n",
       "137             36   Completed  2010-10-15 00:00:00 0.37453     0.3500      \n",
       "138             36   Completed  2013-01-08 00:00:00 0.23784     0.2000      \n",
       "139             36   Completed  2013-02-14 00:00:00 0.37453     0.3500      \n",
       "140             36   Completed  2013-02-19 00:00:00 0.20918     0.1845      \n",
       "141             36   Completed  2013-11-08 00:00:00 0.35701     0.3100      \n",
       "142             36   Completed  2011-02-24 00:00:00 0.17066     0.1157      \n",
       "143             36   Completed  2009-12-08 00:00:00 0.20392     0.1818      \n",
       "144             36   Completed  2010-02-02 00:00:00 0.37453     0.3500      \n",
       "145             36   Completed  2013-01-29 00:00:00 0.28498     0.2500      \n",
       "146             36   Completed  2010-01-12 00:00:00 0.20504     0.1829      \n",
       "    LenderYield ... LP_ServiceFees LP_CollectionFees LP_GrossPrincipalLoss\n",
       "1   0.3169      ...   -5.91        0                 0                    \n",
       "2   0.1900      ...  -14.35        0                 0                    \n",
       "3   0.3290      ...  -13.30        0                 0                    \n",
       "4   0.3000      ...  -31.49        0                 0                    \n",
       "5   0.2989      ...  -35.39        0                 0                    \n",
       "6   0.3400      ...  -24.61        0                 0                    \n",
       "7   0.3300      ...  -50.40        0                 0                    \n",
       "8   0.1705      ... -117.21        0                 0                    \n",
       "9   0.3400      ... -106.13        0                 0                    \n",
       "10  0.3340      ...  -31.10        0                 0                    \n",
       "11  0.2000      ...   -2.90        0                 0                    \n",
       "12  0.3000      ...  -53.09        0                 0                    \n",
       "13  0.3000      ...  -65.89        0                 0                    \n",
       "14  0.3197      ...  -32.02        0                 0                    \n",
       "15  0.1694      ...  -28.18        0                 0                    \n",
       "16  0.0806      ... -162.60        0                 0                    \n",
       "17  0.3400      ...  -46.76        0                 0                    \n",
       "18  0.3400      ...  -61.97        0                 0                    \n",
       "19  0.3400      ...   -5.15        0                 0                    \n",
       "20  0.0795      ...   -4.89        0                 0                    \n",
       "21  0.2185      ...  -34.24        0                 0                    \n",
       "22  0.3400      ...  -16.14        0                 0                    \n",
       "23  0.3400      ...  -36.28        0                 0                    \n",
       "24  0.3400      ...  -11.22        0                 0                    \n",
       "25  0.2300      ...  -60.20        0                 0                    \n",
       "26  0.1729      ...  -10.54        0                 0                    \n",
       "27  0.1679      ...  -24.53        0                 0                    \n",
       "28  0.3400      ...  -23.56        0                 0                    \n",
       "29  0.2100      ...  -26.73        0                 0                    \n",
       "30  0.3223      ...  -28.11        0                 0                    \n",
       "... ...             ...            ...               ...                  \n",
       "117 0.1679      ...  -83.85          0.00            0                    \n",
       "118 0.3400      ...   -2.50          0.00            0                    \n",
       "119 0.1699      ...  -24.10          0.00            0                    \n",
       "120 0.3400      ...  -53.05          0.00            0                    \n",
       "121 0.1729      ...  -39.61          0.00            0                    \n",
       "122 0.1800      ...  -39.49          0.00            0                    \n",
       "123 0.1800      ...  -25.31          0.00            0                    \n",
       "124 0.2500      ...  -17.37          0.00            0                    \n",
       "125 0.1723      ...  -25.13          0.00            0                    \n",
       "126 0.3400      ...  -16.10          0.00            0                    \n",
       "127 0.1903      ...  -20.43          0.00            0                    \n",
       "128 0.3400      ...   -5.41          0.00            0                    \n",
       "129 0.3399      ...  -58.20          0.00            0                    \n",
       "130 0.0593      ... -127.58          0.00            0                    \n",
       "131 0.3400      ...  -44.99          0.00            0                    \n",
       "132 0.1495      ...  -32.95          0.00            0                    \n",
       "133 0.2550      ... -106.26        -80.31            0                    \n",
       "134 0.1700      ...  -52.12          0.00            0                    \n",
       "135 0.3300      ...  -23.67          0.00            0                    \n",
       "136 0.1900      ...  -14.66          0.00            0                    \n",
       "137 0.3400      ...  -26.51          0.00            0                    \n",
       "138 0.1900      ...  -16.76          0.00            0                    \n",
       "139 0.3400      ... -143.57          0.00            0                    \n",
       "140 0.1745      ...  -25.16          0.00            0                    \n",
       "141 0.3000      ...  -22.98          0.00            0                    \n",
       "142 0.1057      ...   -0.78          0.00            0                    \n",
       "143 0.1718      ...   -6.43          0.00            0                    \n",
       "144 0.3400      ...  -17.38          0.00            0                    \n",
       "145 0.2400      ...  -45.52          0.00            0                    \n",
       "146 0.1729      ...   -4.66          0.00            0                    \n",
       "    LP_NetPrincipalLoss LP_NonPrincipalRecoverypayments PercentFunded\n",
       "1   0                   0                               1            \n",
       "2   0                   0                               1            \n",
       "3   0                   0                               1            \n",
       "4   0                   0                               1            \n",
       "5   0                   0                               1            \n",
       "6   0                   0                               1            \n",
       "7   0                   0                               1            \n",
       "8   0                   0                               1            \n",
       "9   0                   0                               1            \n",
       "10  0                   0                               1            \n",
       "11  0                   0                               1            \n",
       "12  0                   0                               1            \n",
       "13  0                   0                               1            \n",
       "14  0                   0                               1            \n",
       "15  0                   0                               1            \n",
       "16  0                   0                               1            \n",
       "17  0                   0                               1            \n",
       "18  0                   0                               1            \n",
       "19  0                   0                               1            \n",
       "20  0                   0                               1            \n",
       "21  0                   0                               1            \n",
       "22  0                   0                               1            \n",
       "23  0                   0                               1            \n",
       "24  0                   0                               1            \n",
       "25  0                   0                               1            \n",
       "26  0                   0                               1            \n",
       "27  0                   0                               1            \n",
       "28  0                   0                               1            \n",
       "29  0                   0                               1            \n",
       "30  0                   0                               1            \n",
       "... ...                 ...                             ...          \n",
       "117 0                   0                               1            \n",
       "118 0                   0                               1            \n",
       "119 0                   0                               1            \n",
       "120 0                   0                               1            \n",
       "121 0                   0                               1            \n",
       "122 0                   0                               1            \n",
       "123 0                   0                               1            \n",
       "124 0                   0                               1            \n",
       "125 0                   0                               1            \n",
       "126 0                   0                               1            \n",
       "127 0                   0                               1            \n",
       "128 0                   0                               1            \n",
       "129 0                   0                               1            \n",
       "130 0                   0                               1            \n",
       "131 0                   0                               1            \n",
       "132 0                   0                               1            \n",
       "133 0                   0                               1            \n",
       "134 0                   0                               1            \n",
       "135 0                   0                               1            \n",
       "136 0                   0                               1            \n",
       "137 0                   0                               1            \n",
       "138 0                   0                               1            \n",
       "139 0                   0                               1            \n",
       "140 0                   0                               1            \n",
       "141 0                   0                               1            \n",
       "142 0                   0                               1            \n",
       "143 0                   0                               1            \n",
       "144 0                   0                               1            \n",
       "145 0                   0                               1            \n",
       "146 0                   0                               1            \n",
       "    Recommendations InvestmentFromFriendsCount InvestmentFromFriendsAmount\n",
       "1   0               1                          1058.77                    \n",
       "2   0               0                             0.00                    \n",
       "3   0               1                           100.00                    \n",
       "4   0               0                             0.00                    \n",
       "5   1               1                            25.00                    \n",
       "6   0               0                             0.00                    \n",
       "7   0               0                             0.00                    \n",
       "8   0               0                             0.00                    \n",
       "9   0               0                             0.00                    \n",
       "10  0               0                             0.00                    \n",
       "11  0               0                             0.00                    \n",
       "12  1               0                             0.00                    \n",
       "13  0               0                             0.00                    \n",
       "14  0               0                             0.00                    \n",
       "15  1               2                          1774.42                    \n",
       "16  0               0                             0.00                    \n",
       "17  1               1                            25.00                    \n",
       "18  0               0                             0.00                    \n",
       "19  0               0                             0.00                    \n",
       "20  0               0                             0.00                    \n",
       "21  0               0                             0.00                    \n",
       "22  0               0                             0.00                    \n",
       "23  0               0                             0.00                    \n",
       "24  0               0                             0.00                    \n",
       "25  1               1                          1500.08                    \n",
       "26  0               0                             0.00                    \n",
       "27  0               0                             0.00                    \n",
       "28  0               0                             0.00                    \n",
       "29  0               0                             0.00                    \n",
       "30  0               0                             0.00                    \n",
       "... ...             ...                        ...                        \n",
       "117 0               0                             0.00                    \n",
       "118 0               0                             0.00                    \n",
       "119 0               0                             0.00                    \n",
       "120 0               0                             0.00                    \n",
       "121 0               0                             0.00                    \n",
       "122 0               0                             0.00                    \n",
       "123 0               0                             0.00                    \n",
       "124 1               2                            55.00                    \n",
       "125 0               0                             0.00                    \n",
       "126 0               0                             0.00                    \n",
       "127 0               0                             0.00                    \n",
       "128 0               0                             0.00                    \n",
       "129 0               0                             0.00                    \n",
       "130 0               1                          4000.00                    \n",
       "131 0               0                             0.00                    \n",
       "132 0               0                             0.00                    \n",
       "133 1               0                             0.00                    \n",
       "134 0               0                             0.00                    \n",
       "135 0               0                             0.00                    \n",
       "136 0               0                             0.00                    \n",
       "137 0               0                             0.00                    \n",
       "138 0               0                             0.00                    \n",
       "139 1               1                           200.08                    \n",
       "140 0               0                             0.00                    \n",
       "141 0               0                             0.00                    \n",
       "142 0               0                             0.00                    \n",
       "143 0               0                             0.00                    \n",
       "144 0               0                             0.00                    \n",
       "145 2               0                             0.00                    \n",
       "146 0               0                             0.00                    \n",
       "    Investors\n",
       "1    27      \n",
       "2    75      \n",
       "3    60      \n",
       "4    75      \n",
       "5   169      \n",
       "6     1      \n",
       "7    68      \n",
       "8     3      \n",
       "9    80      \n",
       "10   51      \n",
       "11   61      \n",
       "12   77      \n",
       "13   90      \n",
       "14   51      \n",
       "15   53      \n",
       "16    1      \n",
       "17   38      \n",
       "18   33      \n",
       "19   22      \n",
       "20   73      \n",
       "21  144      \n",
       "22   20      \n",
       "23   36      \n",
       "24    4      \n",
       "25   90      \n",
       "26    1      \n",
       "27   33      \n",
       "28   20      \n",
       "29  135      \n",
       "30   64      \n",
       "... ...      \n",
       "117  22      \n",
       "118  40      \n",
       "119  54      \n",
       "120  32      \n",
       "121   4      \n",
       "122   1      \n",
       "123  12      \n",
       "124  31      \n",
       "125   3      \n",
       "126  28      \n",
       "127  48      \n",
       "128  29      \n",
       "129  81      \n",
       "130   2      \n",
       "131  43      \n",
       "132  14      \n",
       "133  82      \n",
       "134  63      \n",
       "135  20      \n",
       "136   1      \n",
       "137  48      \n",
       "138  71      \n",
       "139  32      \n",
       "140  21      \n",
       "141  33      \n",
       "142  12      \n",
       "143   8      \n",
       "144   1      \n",
       "145 121      \n",
       "146   1      "
      ]
     },
     "metadata": {},
     "output_type": "display_data"
    }
   ],
   "source": [
    "datadf %>%\n",
    "filter(EstimatedEffectiveYield <0) %>%\n",
    "filter (LoanStatus == 'Completed')\n",
    "#Need to learn how to deal with dates in R."
   ]
  },
  {
   "cell_type": "markdown",
   "metadata": {
    "deletable": true,
    "editable": true
   },
   "source": [
    "## ProsperScore"
   ]
  },
  {
   "cell_type": "code",
   "execution_count": 21,
   "metadata": {
    "collapsed": false,
    "deletable": true,
    "editable": true
   },
   "outputs": [
    {
     "data": {
      "text/plain": [
       "   Min. 1st Qu.  Median    Mean 3rd Qu.    Max.    NA's \n",
       "   1.00    4.00    6.00    5.95    8.00   11.00   29084 "
      ]
     },
     "metadata": {},
     "output_type": "display_data"
    },
    {
     "name": "stderr",
     "output_type": "stream",
     "text": [
      "`stat_bin()` using `bins = 30`. Pick better value with `binwidth`.\n",
      "Warning message:\n",
      "\"Removed 29084 rows containing non-finite values (stat_bin).\""
     ]
    },
    {
     "data": {},
     "metadata": {},
     "output_type": "display_data"
    },
    {
     "data": {
      "image/png": "[encoded data removed]",
      "text/plain": [
       "plot without title"
      ]
     },
     "metadata": {},
     "output_type": "display_data"
    }
   ],
   "source": [
    "summary(datadf$ProsperScore)\n",
    "ggplot(datadf, aes(ProsperScore)) + geom_histogram()"
   ]
  },
  {
   "cell_type": "markdown",
   "metadata": {
    "deletable": true,
    "editable": true
   },
   "source": [
    "Here you can see that ProsperScore is discrete, and potentially bimodal? Strange clustering between 4 and 5, let's look at unique values."
   ]
  },
  {
   "cell_type": "code",
   "execution_count": 22,
   "metadata": {
    "collapsed": false,
    "deletable": true,
    "editable": true
   },
   "outputs": [
    {
     "data": {
      "text/html": [
       "<ol class=list-inline>\n",
       "\t<li>1</li>\n",
       "\t<li>2</li>\n",
       "\t<li>3</li>\n",
       "\t<li>4</li>\n",
       "\t<li>5</li>\n",
       "\t<li>6</li>\n",
       "\t<li>7</li>\n",
       "\t<li>8</li>\n",
       "\t<li>9</li>\n",
       "\t<li>10</li>\n",
       "\t<li>11</li>\n",
       "</ol>\n"
      ],
      "text/latex": [
       "\\begin{enumerate*}\n",
       "\\item 1\n",
       "\\item 2\n",
       "\\item 3\n",
       "\\item 4\n",
       "\\item 5\n",
       "\\item 6\n",
       "\\item 7\n",
       "\\item 8\n",
       "\\item 9\n",
       "\\item 10\n",
       "\\item 11\n",
       "\\end{enumerate*}\n"
      ],
      "text/markdown": [
       "1. 1\n",
       "2. 2\n",
       "3. 3\n",
       "4. 4\n",
       "5. 5\n",
       "6. 6\n",
       "7. 7\n",
       "8. 8\n",
       "9. 9\n",
       "10. 10\n",
       "11. 11\n",
       "\n",
       "\n"
      ],
      "text/plain": [
       " [1]  1  2  3  4  5  6  7  8  9 10 11"
      ]
     },
     "metadata": {},
     "output_type": "display_data"
    }
   ],
   "source": [
    "sort(unique(datadf$ProsperScore))"
   ]
  },
  {
   "cell_type": "markdown",
   "metadata": {
    "deletable": true,
    "editable": true
   },
   "source": [
    "1 to 11? That's a strange scale for scoring. Maybe it's analogous to 0 to 10, but they don't want to make people feel bad by giving them 0's."
   ]
  },
  {
   "cell_type": "code",
   "execution_count": 23,
   "metadata": {
    "collapsed": false,
    "deletable": true,
    "editable": true
   },
   "outputs": [
    {
     "data": {
      "text/plain": [
       "\n",
       "    1     2     3     4     5     6     7     8     9    10    11 \n",
       "  992  5766  7642 12595  9813 12278 10597 12053  6911  4750  1456 "
      ]
     },
     "metadata": {},
     "output_type": "display_data"
    }
   ],
   "source": [
    "table(datadf$ProsperScore)"
   ]
  },
  {
   "cell_type": "markdown",
   "metadata": {
    "deletable": true,
    "editable": true
   },
   "source": [
    "## Listing Category"
   ]
  },
  {
   "cell_type": "markdown",
   "metadata": {
    "deletable": true,
    "editable": true
   },
   "source": [
    "Wrote a short function to convert the numeric categories to their values."
   ]
  },
  {
   "cell_type": "code",
   "execution_count": 10,
   "metadata": {
    "collapsed": false,
    "deletable": true,
    "editable": true
   },
   "outputs": [],
   "source": [
    "listingToCharacter <- function(numeric.category){\n",
    "    listing.categories = c(\"Not Available\", \"Debt Consolidation\", \"Home Improvement\", \"Business\",\n",
    "                       \"Personal Loan\", \"Student Use\", \"Auto\", \"Other\", \"Baby&Adoption\",\"Boat\",\n",
    "                       \"Cosmetic Procedure\", \"Engagement Ring\", \"Green Loans\", \"Household Expenses\",\n",
    "                       \"Large Purchases\", \"Medical/Dental\", \"Motorcycle\", \"RV\", \"Taxes\", \"Vacation\",\n",
    "                       \"Wedding Loans\")\n",
    "    return(listing.categories[numeric.category + 1]) \n",
    "}"
   ]
  },
  {
   "cell_type": "code",
   "execution_count": 14,
   "metadata": {
    "collapsed": false,
    "deletable": true,
    "editable": true
   },
   "outputs": [
    {
     "data": {
      "text/html": [
       "<ol class=list-inline>\n",
       "\t<li>'Not Available'</li>\n",
       "\t<li>'Home Improvement'</li>\n",
       "\t<li>'Not Available'</li>\n",
       "\t<li>'Motorcycle'</li>\n",
       "\t<li>'Home Improvement'</li>\n",
       "\t<li>'Debt Consolidation'</li>\n",
       "</ol>\n"
      ],
      "text/latex": [
       "\\begin{enumerate*}\n",
       "\\item 'Not Available'\n",
       "\\item 'Home Improvement'\n",
       "\\item 'Not Available'\n",
       "\\item 'Motorcycle'\n",
       "\\item 'Home Improvement'\n",
       "\\item 'Debt Consolidation'\n",
       "\\end{enumerate*}\n"
      ],
      "text/markdown": [
       "1. 'Not Available'\n",
       "2. 'Home Improvement'\n",
       "3. 'Not Available'\n",
       "4. 'Motorcycle'\n",
       "5. 'Home Improvement'\n",
       "6. 'Debt Consolidation'\n",
       "\n",
       "\n"
      ],
      "text/plain": [
       "[1] \"Not Available\"      \"Home Improvement\"   \"Not Available\"     \n",
       "[4] \"Motorcycle\"         \"Home Improvement\"   \"Debt Consolidation\""
      ]
     },
     "metadata": {},
     "output_type": "display_data"
    }
   ],
   "source": [
    "datadf$ListingCategory <- listingToCharacter(datadf$ListingCategory..numeric)"
   ]
  },
  {
   "cell_type": "code",
   "execution_count": 16,
   "metadata": {
    "collapsed": false,
    "deletable": true,
    "editable": true
   },
   "outputs": [
    {
     "data": {},
     "metadata": {},
     "output_type": "display_data"
    },
    {
     "data": {
      "image/png": "[encoded data removed]",
      "text/plain": [
       "plot without title"
      ]
     },
     "metadata": {},
     "output_type": "display_data"
    }
   ],
   "source": [
    "datadf %>%\n",
    "group_by(ListingCategory) %>%\n",
    "summarise(count = n()) %>%\n",
    "ggplot(aes(x=reorder(ListingCategory, desc(count)), y=count)) + \n",
    "geom_bar(stat=\"Identity\") + \n",
    "theme(axis.text.x = element_text(angle = 45, hjust = 1))"
   ]
  },
  {
   "cell_type": "markdown",
   "metadata": {
    "deletable": true,
    "editable": true
   },
   "source": [
    "It looks like Debt Consolidation is the most popular reason to apply for a loan. "
   ]
  },
  {
   "cell_type": "code",
   "execution_count": 10,
   "metadata": {
    "collapsed": false,
    "deletable": true,
    "editable": true
   },
   "outputs": [
    {
     "data": {},
     "metadata": {},
     "output_type": "display_data"
    },
    {
     "data": {
      "image/png": "[encoded data removed]",
      "text/plain": [
       "plot without title"
      ]
     },
     "metadata": {},
     "output_type": "display_data"
    }
   ],
   "source": [
    "datadf %>%\n",
    "group_by(BorrowerState) %>%\n",
    "summarise(count = n()) %>%\n",
    "ggplot(aes(x=reorder(BorrowerState, desc(count)), y=count)) + \n",
    "geom_bar(stat=\"Identity\") +\n",
    "theme(text = element_text(size=8))\n",
    "#SOMEDAY:choropleth here?"
   ]
  },
  {
   "cell_type": "markdown",
   "metadata": {
    "deletable": true,
    "editable": true
   },
   "source": [
    "This bar chart doesn't actually tell us much because we would have to weight these by the population of each state to see if there are real differences between them."
   ]
  },
  {
   "cell_type": "markdown",
   "metadata": {
    "deletable": true,
    "editable": true
   },
   "source": [
    "## Occupation"
   ]
  },
  {
   "cell_type": "code",
   "execution_count": 11,
   "metadata": {
    "collapsed": false,
    "deletable": true,
    "editable": true
   },
   "outputs": [
    {
     "data": {
      "text/html": [
       "<table>\n",
       "<thead><tr><th scope=col>Occupation</th><th scope=col>count</th></tr></thead>\n",
       "<tbody>\n",
       "\t<tr><td>Other                   </td><td>28617                   </td></tr>\n",
       "\t<tr><td>Professional            </td><td>13628                   </td></tr>\n",
       "\t<tr><td>Computer Programmer     </td><td> 4478                   </td></tr>\n",
       "\t<tr><td>Executive               </td><td> 4311                   </td></tr>\n",
       "\t<tr><td>Teacher                 </td><td> 3759                   </td></tr>\n",
       "\t<tr><td>Administrative Assistant</td><td> 3688                   </td></tr>\n",
       "\t<tr><td>Analyst                 </td><td> 3602                   </td></tr>\n",
       "\t<tr><td>Sales - Commission      </td><td> 3446                   </td></tr>\n",
       "\t<tr><td>Accountant/CPA          </td><td> 3233                   </td></tr>\n",
       "\t<tr><td>Clerical                </td><td> 3164                   </td></tr>\n",
       "</tbody>\n",
       "</table>\n"
      ],
      "text/latex": [
       "\\begin{tabular}{r|ll}\n",
       " Occupation & count\\\\\n",
       "\\hline\n",
       "\t Other                    & 28617                   \\\\\n",
       "\t Professional             & 13628                   \\\\\n",
       "\t Computer Programmer      &  4478                   \\\\\n",
       "\t Executive                &  4311                   \\\\\n",
       "\t Teacher                  &  3759                   \\\\\n",
       "\t Administrative Assistant &  3688                   \\\\\n",
       "\t Analyst                  &  3602                   \\\\\n",
       "\t Sales - Commission       &  3446                   \\\\\n",
       "\t Accountant/CPA           &  3233                   \\\\\n",
       "\t Clerical                 &  3164                   \\\\\n",
       "\\end{tabular}\n"
      ],
      "text/markdown": [
       "\n",
       "Occupation | count | \n",
       "|---|---|---|---|---|---|---|---|---|---|\n",
       "| Other                    | 28617                    | \n",
       "| Professional             | 13628                    | \n",
       "| Computer Programmer      |  4478                    | \n",
       "| Executive                |  4311                    | \n",
       "| Teacher                  |  3759                    | \n",
       "| Administrative Assistant |  3688                    | \n",
       "| Analyst                  |  3602                    | \n",
       "| Sales - Commission       |  3446                    | \n",
       "| Accountant/CPA           |  3233                    | \n",
       "| Clerical                 |  3164                    | \n",
       "\n",
       "\n"
      ],
      "text/plain": [
       "   Occupation               count\n",
       "1  Other                    28617\n",
       "2  Professional             13628\n",
       "3  Computer Programmer       4478\n",
       "4  Executive                 4311\n",
       "5  Teacher                   3759\n",
       "6  Administrative Assistant  3688\n",
       "7  Analyst                   3602\n",
       "8  Sales - Commission        3446\n",
       "9  Accountant/CPA            3233\n",
       "10 Clerical                  3164"
      ]
     },
     "metadata": {},
     "output_type": "display_data"
    }
   ],
   "source": [
    "datadf %>% \n",
    "group_by(Occupation) %>%\n",
    "filter(Occupation != \"\") %>%\n",
    "summarise(count = n()) %>%\n",
    "arrange(desc(count)) %>%\n",
    "filter(count > 3000)"
   ]
  },
  {
   "cell_type": "markdown",
   "metadata": {
    "deletable": true,
    "editable": true
   },
   "source": [
    "Again, to see if any occupation actually had an undue number of loans we would have to get an estimate of how many people had each job in the population. Still, categorical variables like this are always interesting to look at since they put a human face on our data. "
   ]
  },
  {
   "cell_type": "markdown",
   "metadata": {
    "deletable": true,
    "editable": true
   },
   "source": [
    "## Employment Status"
   ]
  },
  {
   "cell_type": "code",
   "execution_count": 12,
   "metadata": {
    "collapsed": false,
    "deletable": true,
    "editable": true
   },
   "outputs": [
    {
     "data": {
      "text/html": [
       "<table>\n",
       "<thead><tr><th scope=col>EmploymentStatus</th><th scope=col>count</th></tr></thead>\n",
       "<tbody>\n",
       "\t<tr><td>Employed     </td><td>67322        </td></tr>\n",
       "\t<tr><td>Full-time    </td><td>26355        </td></tr>\n",
       "\t<tr><td>Self-employed</td><td> 6134        </td></tr>\n",
       "\t<tr><td>Not available</td><td> 5347        </td></tr>\n",
       "\t<tr><td>Other        </td><td> 3806        </td></tr>\n",
       "\t<tr><td>             </td><td> 2255        </td></tr>\n",
       "\t<tr><td>Part-time    </td><td> 1088        </td></tr>\n",
       "\t<tr><td>Not employed </td><td>  835        </td></tr>\n",
       "\t<tr><td>Retired      </td><td>  795        </td></tr>\n",
       "</tbody>\n",
       "</table>\n"
      ],
      "text/latex": [
       "\\begin{tabular}{r|ll}\n",
       " EmploymentStatus & count\\\\\n",
       "\\hline\n",
       "\t Employed      & 67322        \\\\\n",
       "\t Full-time     & 26355        \\\\\n",
       "\t Self-employed &  6134        \\\\\n",
       "\t Not available &  5347        \\\\\n",
       "\t Other         &  3806        \\\\\n",
       "\t               &  2255        \\\\\n",
       "\t Part-time     &  1088        \\\\\n",
       "\t Not employed  &   835        \\\\\n",
       "\t Retired       &   795        \\\\\n",
       "\\end{tabular}\n"
      ],
      "text/markdown": [
       "\n",
       "EmploymentStatus | count | \n",
       "|---|---|---|---|---|---|---|---|---|\n",
       "| Employed      | 67322         | \n",
       "| Full-time     | 26355         | \n",
       "| Self-employed |  6134         | \n",
       "| Not available |  5347         | \n",
       "| Other         |  3806         | \n",
       "|               |  2255         | \n",
       "| Part-time     |  1088         | \n",
       "| Not employed  |   835         | \n",
       "| Retired       |   795         | \n",
       "\n",
       "\n"
      ],
      "text/plain": [
       "  EmploymentStatus count\n",
       "1 Employed         67322\n",
       "2 Full-time        26355\n",
       "3 Self-employed     6134\n",
       "4 Not available     5347\n",
       "5 Other             3806\n",
       "6                   2255\n",
       "7 Part-time         1088\n",
       "8 Not employed       835\n",
       "9 Retired            795"
      ]
     },
     "metadata": {},
     "output_type": "display_data"
    }
   ],
   "source": [
    "datadf %>%\n",
    "group_by(EmploymentStatus) %>%\n",
    "summarise(count=n()) %>%\n",
    "arrange(desc(count))"
   ]
  },
  {
   "cell_type": "markdown",
   "metadata": {
    "deletable": true,
    "editable": true
   },
   "source": [
    "Oh, so many questions here.  \n",
    "Are some of these categories subsets of other categories? (ie Does 'Employed = Full-time+Part-Time+Self Employed\"? Let's try to find out."
   ]
  },
  {
   "cell_type": "code",
   "execution_count": 6,
   "metadata": {
    "collapsed": false,
    "deletable": true,
    "editable": true
   },
   "outputs": [
    {
     "data": {
      "text/html": [
       "<ol class=list-inline>\n",
       "\t<li>Self-employed</li>\n",
       "\t<li>Employed</li>\n",
       "\t<li>Not available</li>\n",
       "\t<li>Full-time</li>\n",
       "\t<li>Other</li>\n",
       "\t<li></li>\n",
       "\t<li>Not employed</li>\n",
       "\t<li>Part-time</li>\n",
       "\t<li>Retired</li>\n",
       "</ol>\n"
      ],
      "text/latex": [
       "\\begin{enumerate*}\n",
       "\\item Self-employed\n",
       "\\item Employed\n",
       "\\item Not available\n",
       "\\item Full-time\n",
       "\\item Other\n",
       "\\item \n",
       "\\item Not employed\n",
       "\\item Part-time\n",
       "\\item Retired\n",
       "\\end{enumerate*}\n"
      ],
      "text/markdown": [
       "1. Self-employed\n",
       "2. Employed\n",
       "3. Not available\n",
       "4. Full-time\n",
       "5. Other\n",
       "6. \n",
       "7. Not employed\n",
       "8. Part-time\n",
       "9. Retired\n",
       "\n",
       "\n"
      ],
      "text/plain": [
       "[1] Self-employed Employed      Not available Full-time     Other        \n",
       "[6]               Not employed  Part-time     Retired      \n",
       "9 Levels:  Employed Full-time Not available Not employed Other ... Self-employed"
      ]
     },
     "metadata": {},
     "output_type": "display_data"
    }
   ],
   "source": [
    "unique(datadf$EmploymentStatus)"
   ]
  },
  {
   "cell_type": "code",
   "execution_count": 4,
   "metadata": {
    "collapsed": false,
    "deletable": true,
    "editable": true
   },
   "outputs": [
    {
     "data": {
      "text/html": [
       "<table>\n",
       "<thead><tr><th scope=col>n</th></tr></thead>\n",
       "<tbody>\n",
       "\t<tr><td>33577</td></tr>\n",
       "</tbody>\n",
       "</table>\n"
      ],
      "text/latex": [
       "\\begin{tabular}{r|l}\n",
       " n\\\\\n",
       "\\hline\n",
       "\t 33577\\\\\n",
       "\\end{tabular}\n"
      ],
      "text/markdown": [
       "\n",
       "n | \n",
       "|---|\n",
       "| 33577 | \n",
       "\n",
       "\n"
      ],
      "text/plain": [
       "  n    \n",
       "1 33577"
      ]
     },
     "metadata": {},
     "output_type": "display_data"
    },
    {
     "data": {
      "text/html": [
       "<table>\n",
       "<thead><tr><th scope=col>n</th></tr></thead>\n",
       "<tbody>\n",
       "\t<tr><td>67322</td></tr>\n",
       "</tbody>\n",
       "</table>\n"
      ],
      "text/latex": [
       "\\begin{tabular}{r|l}\n",
       " n\\\\\n",
       "\\hline\n",
       "\t 67322\\\\\n",
       "\\end{tabular}\n"
      ],
      "text/markdown": [
       "\n",
       "n | \n",
       "|---|\n",
       "| 67322 | \n",
       "\n",
       "\n"
      ],
      "text/plain": [
       "  n    \n",
       "1 67322"
      ]
     },
     "metadata": {},
     "output_type": "display_data"
    }
   ],
   "source": [
    "datadf %>% \n",
    "filter(EmploymentStatus %in% c('Self-employed','Full-time','Part-time')) %>%\n",
    "count()\n",
    "\n",
    "datadf %>%\n",
    "filter(EmploymentStatus == 'Employed') %>%\n",
    "count()"
   ]
  },
  {
   "cell_type": "markdown",
   "metadata": {
    "deletable": true,
    "editable": true
   },
   "source": [
    "Even with the addition of 'Other' and the NULLs the categories would not approach the number of employment. Not really into this categorical variable."
   ]
  },
  {
   "cell_type": "markdown",
   "metadata": {
    "deletable": true,
    "editable": true
   },
   "source": [
    "## EmploymentStatusDuration"
   ]
  },
  {
   "cell_type": "code",
   "execution_count": 36,
   "metadata": {
    "collapsed": false,
    "deletable": true,
    "editable": true
   },
   "outputs": [
    {
     "data": {
      "text/plain": [
       "   Min. 1st Qu.  Median    Mean 3rd Qu.    Max.    NA's \n",
       "   0.00   26.00   67.00   96.07  137.00  755.00    7625 "
      ]
     },
     "metadata": {},
     "output_type": "display_data"
    }
   ],
   "source": [
    "summary(datadf$EmploymentStatusDuration)"
   ]
  },
  {
   "cell_type": "code",
   "execution_count": 37,
   "metadata": {
    "collapsed": false,
    "deletable": true,
    "editable": true
   },
   "outputs": [
    {
     "name": "stderr",
     "output_type": "stream",
     "text": [
      "`stat_bin()` using `bins = 30`. Pick better value with `binwidth`.\n",
      "Warning message:\n",
      "\"Removed 7625 rows containing non-finite values (stat_bin).\""
     ]
    },
    {
     "data": {},
     "metadata": {},
     "output_type": "display_data"
    },
    {
     "data": {
      "image/png": "[encoded data removed]",
      "text/plain": [
       "plot without title"
      ]
     },
     "metadata": {},
     "output_type": "display_data"
    }
   ],
   "source": [
    "ggplot(datadf, aes(EmploymentStatusDuration)) + geom_histogram()"
   ]
  },
  {
   "cell_type": "code",
   "execution_count": 5,
   "metadata": {
    "collapsed": false,
    "deletable": true,
    "editable": true
   },
   "outputs": [
    {
     "data": {
      "text/html": [
       "<table>\n",
       "<thead><tr><th scope=col>status.mean</th><th scope=col>status.median</th><th scope=col>status.min</th><th scope=col>status.max</th></tr></thead>\n",
       "<tbody>\n",
       "\t<tr><td>8.005965</td><td>5.583333</td><td>0       </td><td>62.91667</td></tr>\n",
       "</tbody>\n",
       "</table>\n"
      ],
      "text/latex": [
       "\\begin{tabular}{r|llll}\n",
       " status.mean & status.median & status.min & status.max\\\\\n",
       "\\hline\n",
       "\t 8.005965 & 5.583333 & 0        & 62.91667\\\\\n",
       "\\end{tabular}\n"
      ],
      "text/markdown": [
       "\n",
       "status.mean | status.median | status.min | status.max | \n",
       "|---|\n",
       "| 8.005965 | 5.583333 | 0        | 62.91667 | \n",
       "\n",
       "\n"
      ],
      "text/plain": [
       "  status.mean status.median status.min status.max\n",
       "1 8.005965    5.583333      0          62.91667  "
      ]
     },
     "metadata": {},
     "output_type": "display_data"
    }
   ],
   "source": [
    "summarise(datadf, status.mean = mean(EmploymentStatusDuration, na.rm=TRUE)/12,\n",
    "         status.median = median(EmploymentStatusDuration, na.rm = TRUE)/12,\n",
    "         status.min = min(EmploymentStatusDuration, na.rm = TRUE)/12,\n",
    "         status.max = max(EmploymentStatusDuration, na.rm = TRUE)/12)\n",
    "#todo"
   ]
  },
  {
   "cell_type": "markdown",
   "metadata": {
    "deletable": true,
    "editable": true
   },
   "source": [
    "Looks like someone claims to have worked somewhere for almost 63 years! Maybe they're saying the've been employed for 63 years straight."
   ]
  },
  {
   "cell_type": "markdown",
   "metadata": {
    "deletable": true,
    "editable": true
   },
   "source": [
    "## Credit Score"
   ]
  },
  {
   "cell_type": "markdown",
   "metadata": {
    "deletable": true,
    "editable": true
   },
   "source": [
    "Credit Range Upper and Lower. I would like to know the spread within each person, and the variance of that spread. Is this the same as Mean Upper - Mean Lower?"
   ]
  },
  {
   "cell_type": "code",
   "execution_count": 42,
   "metadata": {
    "collapsed": false,
    "deletable": true,
    "editable": true
   },
   "outputs": [],
   "source": [
    "creditScoreUpper <- datadf$CreditScoreRangeUpper\n",
    "creditScoreLower <- datadf$CreditScoreRangeLower"
   ]
  },
  {
   "cell_type": "code",
   "execution_count": 43,
   "metadata": {
    "collapsed": false,
    "deletable": true,
    "editable": true
   },
   "outputs": [
    {
     "data": {
      "text/html": [
       "<ol class=list-inline>\n",
       "\t<li>659</li>\n",
       "\t<li>699</li>\n",
       "\t<li>499</li>\n",
       "\t<li>819</li>\n",
       "\t<li>699</li>\n",
       "\t<li>759</li>\n",
       "</ol>\n"
      ],
      "text/latex": [
       "\\begin{enumerate*}\n",
       "\\item 659\n",
       "\\item 699\n",
       "\\item 499\n",
       "\\item 819\n",
       "\\item 699\n",
       "\\item 759\n",
       "\\end{enumerate*}\n"
      ],
      "text/markdown": [
       "1. 659\n",
       "2. 699\n",
       "3. 499\n",
       "4. 819\n",
       "5. 699\n",
       "6. 759\n",
       "\n",
       "\n"
      ],
      "text/plain": [
       "[1] 659 699 499 819 699 759"
      ]
     },
     "metadata": {},
     "output_type": "display_data"
    }
   ],
   "source": [
    "head(creditScoreUpper)"
   ]
  },
  {
   "cell_type": "code",
   "execution_count": 6,
   "metadata": {
    "collapsed": false,
    "deletable": true,
    "editable": true
   },
   "outputs": [
    {
     "name": "stderr",
     "output_type": "stream",
     "text": [
      "Warning message:\n",
      "\"Removed 591 rows containing non-finite values (stat_bin).\""
     ]
    },
    {
     "data": {},
     "metadata": {},
     "output_type": "display_data"
    },
    {
     "data": {
      "image/png": "[encoded data removed]",
      "text/plain": [
       "plot without title"
      ]
     },
     "metadata": {},
     "output_type": "display_data"
    }
   ],
   "source": [
    "ggplot(datadf, aes(CreditScoreRangeUpper)) + \n",
    "geom_histogram(binwidth=5) + \n",
    "coord_cartesian(xlim=c(450,900))\n",
    "#Zooming in to take because Credit Score of 0 ruins scale of histogram."
   ]
  },
  {
   "cell_type": "markdown",
   "metadata": {
    "deletable": true,
    "editable": true
   },
   "source": [
    "The two bumps in credit score here remind me of the bumps in APR/Rate. I'm sure there is a correlation there - more people with the same credit score more people with the same rate. I wonder how Prosper comes up with their score, is it just Fico or something more? Also it would be interesting to see what credit score distribution looks like in the general population."
   ]
  },
  {
   "cell_type": "code",
   "execution_count": 7,
   "metadata": {
    "collapsed": false,
    "deletable": true,
    "editable": true
   },
   "outputs": [
    {
     "name": "stderr",
     "output_type": "stream",
     "text": [
      "Warning message:\n",
      "\"Removed 591 rows containing non-finite values (stat_bin).\""
     ]
    },
    {
     "data": {},
     "metadata": {},
     "output_type": "display_data"
    },
    {
     "data": {
      "image/png": "[encoded data removed]",
      "text/plain": [
       "plot without title"
      ]
     },
     "metadata": {},
     "output_type": "display_data"
    }
   ],
   "source": [
    "ggplot(datadf, aes(CreditScoreRangeLower)) + \n",
    "geom_histogram(binwidth=5) + \n",
    "coord_cartesian(xlim=c(450,900))\n",
    "#Zooming in to take because Credit Score of 0 ruins scale of histogram."
   ]
  },
  {
   "cell_type": "code",
   "execution_count": null,
   "metadata": {
    "collapsed": true,
    "deletable": true,
    "editable": true
   },
   "outputs": [],
   "source": [
    "#Todo: Would like to plot these one over another."
   ]
  },
  {
   "cell_type": "markdown",
   "metadata": {
    "deletable": true,
    "editable": true
   },
   "source": [
    "It's easy to see that the Upper Range and Lower range of the credit score have the same distribution shifted on the X axis."
   ]
  },
  {
   "cell_type": "markdown",
   "metadata": {
    "deletable": true,
    "editable": true
   },
   "source": [
    "## Lender Yield"
   ]
  },
  {
   "cell_type": "code",
   "execution_count": 46,
   "metadata": {
    "collapsed": false,
    "deletable": true,
    "editable": true
   },
   "outputs": [
    {
     "data": {
      "text/plain": [
       "   Min. 1st Qu.  Median    Mean 3rd Qu.    Max. \n",
       "-0.0100  0.1242  0.1730  0.1827  0.2400  0.4925 "
      ]
     },
     "metadata": {},
     "output_type": "display_data"
    }
   ],
   "source": [
    "#Lender Yield\n",
    "summary(datadf$LenderYield)"
   ]
  },
  {
   "cell_type": "code",
   "execution_count": 8,
   "metadata": {
    "collapsed": false,
    "deletable": true,
    "editable": true
   },
   "outputs": [
    {
     "data": {},
     "metadata": {},
     "output_type": "display_data"
    },
    {
     "data": {
      "image/png": "[encoded data removed]",
      "text/plain": [
       "plot without title"
      ]
     },
     "metadata": {},
     "output_type": "display_data"
    }
   ],
   "source": [
    "ggplot(datadf, aes(LenderYield)) + geom_histogram(binwidth = .01)"
   ]
  },
  {
   "cell_type": "markdown",
   "metadata": {
    "deletable": true,
    "editable": true
   },
   "source": [
    "The same spike that exists in the other Rate plots exists her at around 30%. Hard to know if this is a pricing strategy, or a rate that is popular for other reasons. It is roughly equivalent to a credit card. The max is slightly under the max borrower rate, so fees paid to Prosper must not be included in this number."
   ]
  },
  {
   "cell_type": "markdown",
   "metadata": {},
   "source": [
    "## Estimated Effective Yield"
   ]
  },
  {
   "cell_type": "code",
   "execution_count": 48,
   "metadata": {
    "collapsed": false,
    "deletable": true,
    "editable": true
   },
   "outputs": [
    {
     "data": {
      "text/html": [
       "<ol class=list-inline>\n",
       "\t<li>NA</li>\n",
       "\t<li>0.0796</li>\n",
       "\t<li>NA</li>\n",
       "\t<li>0.0849</li>\n",
       "\t<li>0.18316</li>\n",
       "\t<li>0.11567</li>\n",
       "</ol>\n"
      ],
      "text/latex": [
       "\\begin{enumerate*}\n",
       "\\item NA\n",
       "\\item 0.0796\n",
       "\\item NA\n",
       "\\item 0.0849\n",
       "\\item 0.18316\n",
       "\\item 0.11567\n",
       "\\end{enumerate*}\n"
      ],
      "text/markdown": [
       "1. NA\n",
       "2. 0.0796\n",
       "3. NA\n",
       "4. 0.0849\n",
       "5. 0.18316\n",
       "6. 0.11567\n",
       "\n",
       "\n"
      ],
      "text/plain": [
       "[1]      NA 0.07960      NA 0.08490 0.18316 0.11567"
      ]
     },
     "metadata": {},
     "output_type": "display_data"
    },
    {
     "data": {
      "text/plain": [
       "   Min. 1st Qu.  Median    Mean 3rd Qu.    Max.    NA's \n",
       " -0.183   0.116   0.162   0.169   0.224   0.320   29084 "
      ]
     },
     "metadata": {},
     "output_type": "display_data"
    }
   ],
   "source": [
    "head(datadf$EstimatedEffectiveYield)\n",
    "summary(datadf$EstimatedEffectiveYield)"
   ]
  },
  {
   "cell_type": "code",
   "execution_count": 49,
   "metadata": {
    "collapsed": false,
    "deletable": true,
    "editable": true
   },
   "outputs": [
    {
     "name": "stderr",
     "output_type": "stream",
     "text": [
      "Warning message:\n",
      "\"Removed 29084 rows containing non-finite values (stat_bin).\""
     ]
    },
    {
     "data": {},
     "metadata": {},
     "output_type": "display_data"
    },
    {
     "data": {
      "image/png": "[encoded data removed]",
      "text/plain": [
       "plot without title"
      ]
     },
     "metadata": {},
     "output_type": "display_data"
    }
   ],
   "source": [
    "ggplot(datadf, aes(EstimatedEffectiveYield)) + geom_histogram(bins=50)"
   ]
  },
  {
   "cell_type": "markdown",
   "metadata": {
    "deletable": true,
    "editable": true
   },
   "source": [
    "Todo: Write about how this relates to the other yields. Perhaps group the Rates and the yields together. This could be one of the final visualizations - several density plots?"
   ]
  },
  {
   "cell_type": "markdown",
   "metadata": {},
   "source": [
    "## Income Range"
   ]
  },
  {
   "cell_type": "code",
   "execution_count": 10,
   "metadata": {
    "collapsed": false,
    "deletable": true,
    "editable": true
   },
   "outputs": [],
   "source": [
    "datadf$IncomeRange <- factor(datadf$IncomeRange, levels = c('$0', '$1-24,999', '$25,000-49,999', \n",
    "                                                            '$50,000-74,999', '$75,000-99,999',  \n",
    "                                                            '$100,000+', 'Not displayed', 'Not employed'))"
   ]
  },
  {
   "cell_type": "code",
   "execution_count": 14,
   "metadata": {
    "collapsed": false,
    "deletable": true,
    "editable": true
   },
   "outputs": [
    {
     "data": {},
     "metadata": {},
     "output_type": "display_data"
    },
    {
     "data": {
      "image/png": "[encoded data removed]",
      "text/plain": [
       "plot without title"
      ]
     },
     "metadata": {},
     "output_type": "display_data"
    }
   ],
   "source": [
    "datadf %>%\n",
    "filter(!IncomeRange %in% c('Not displayed', 'Not employed')) %>%\n",
    "ggplot(aes(IncomeRange)) + geom_bar() +\n",
    "theme(axis.text.x = element_text(angle = 45, hjust = 1))"
   ]
  },
  {
   "cell_type": "code",
   "execution_count": 15,
   "metadata": {
    "collapsed": true,
    "deletable": true,
    "editable": true
   },
   "outputs": [],
   "source": [
    "#Todo: investigate loans made to people with $0 income."
   ]
  },
  {
   "cell_type": "markdown",
   "metadata": {},
   "source": [
    "## Income Verifiable"
   ]
  },
  {
   "cell_type": "code",
   "execution_count": 55,
   "metadata": {
    "collapsed": false,
    "deletable": true,
    "editable": true
   },
   "outputs": [
    {
     "data": {},
     "metadata": {},
     "output_type": "display_data"
    },
    {
     "data": {
      "image/png": "[encoded data removed]",
      "text/plain": [
       "plot without title"
      ]
     },
     "metadata": {},
     "output_type": "display_data"
    }
   ],
   "source": [
    "ggplot(datadf, aes(IncomeVerifiable)) + geom_bar()"
   ]
  },
  {
   "cell_type": "markdown",
   "metadata": {},
   "source": [
    "Looks like most loans go to people with verifiable incomes. Todo:\n",
    "Wonder what the non-verified loans look like, and what the distribution of IncomeRanges changes to. "
   ]
  },
  {
   "cell_type": "markdown",
   "metadata": {},
   "source": [
    "## Monthly Loan Payment"
   ]
  },
  {
   "cell_type": "code",
   "execution_count": 16,
   "metadata": {
    "collapsed": false,
    "deletable": true,
    "editable": true
   },
   "outputs": [
    {
     "data": {
      "text/plain": [
       "   Min. 1st Qu.  Median    Mean 3rd Qu.    Max. \n",
       "    0.0   131.6   217.7   272.5   371.6  2252.0 "
      ]
     },
     "metadata": {},
     "output_type": "display_data"
    }
   ],
   "source": [
    "summary(datadf$MonthlyLoanPayment)"
   ]
  },
  {
   "cell_type": "code",
   "execution_count": 19,
   "metadata": {
    "collapsed": false,
    "deletable": true,
    "editable": true
   },
   "outputs": [
    {
     "data": {},
     "metadata": {},
     "output_type": "display_data"
    },
    {
     "data": {
      "image/png": "[encoded data removed]",
      "text/plain": [
       "plot without title"
      ]
     },
     "metadata": {},
     "output_type": "display_data"
    }
   ],
   "source": [
    "monthly_payment <- ggplot(datadf, aes(MonthlyLoanPayment)) + geom_histogram(bins=50)\n",
    "monthly_payment"
   ]
  },
  {
   "cell_type": "markdown",
   "metadata": {},
   "source": [
    "Looks like there's a big outlier there with our max  22252. But our histogram makes it hard to see this. Let's zoom in."
   ]
  },
  {
   "cell_type": "code",
   "execution_count": 21,
   "metadata": {
    "collapsed": false,
    "deletable": true,
    "editable": true
   },
   "outputs": [
    {
     "data": {},
     "metadata": {},
     "output_type": "display_data"
    },
    {
     "data": {
      "image/png": "[encoded data removed]",
      "text/plain": [
       "plot without title"
      ]
     },
     "metadata": {},
     "output_type": "display_data"
    }
   ],
   "source": [
    "monthly_payment + coord_cartesian(c(0,1250))"
   ]
  },
  {
   "cell_type": "markdown",
   "metadata": {
    "deletable": true,
    "editable": true
   },
   "source": [
    "After 200 there is a sharp drop off in monthly payments. This may be related to my binwidth. We might be able to calculate this payment from other variables. Principal + Interest / Term."
   ]
  },
  {
   "cell_type": "markdown",
   "metadata": {},
   "source": [
    "## Loan Original Amount"
   ]
  },
  {
   "cell_type": "code",
   "execution_count": 59,
   "metadata": {
    "collapsed": false,
    "deletable": true,
    "editable": true
   },
   "outputs": [
    {
     "data": {
      "text/html": [
       "<ol class=list-inline>\n",
       "\t<li>9425</li>\n",
       "\t<li>10000</li>\n",
       "\t<li>3001</li>\n",
       "\t<li>10000</li>\n",
       "\t<li>15000</li>\n",
       "\t<li>15000</li>\n",
       "</ol>\n"
      ],
      "text/latex": [
       "\\begin{enumerate*}\n",
       "\\item 9425\n",
       "\\item 10000\n",
       "\\item 3001\n",
       "\\item 10000\n",
       "\\item 15000\n",
       "\\item 15000\n",
       "\\end{enumerate*}\n"
      ],
      "text/markdown": [
       "1. 9425\n",
       "2. 10000\n",
       "3. 3001\n",
       "4. 10000\n",
       "5. 15000\n",
       "6. 15000\n",
       "\n",
       "\n"
      ],
      "text/plain": [
       "[1]  9425 10000  3001 10000 15000 15000"
      ]
     },
     "metadata": {},
     "output_type": "display_data"
    },
    {
     "data": {
      "text/plain": [
       "   Min. 1st Qu.  Median    Mean 3rd Qu.    Max. \n",
       "   1000    4000    6500    8337   12000   35000 "
      ]
     },
     "metadata": {},
     "output_type": "display_data"
    },
    {
     "data": {},
     "metadata": {},
     "output_type": "display_data"
    },
    {
     "data": {
      "image/png": "[encoded data removed]",
      "text/plain": [
       "plot without title"
      ]
     },
     "metadata": {},
     "output_type": "display_data"
    }
   ],
   "source": [
    "summary(datadf$LoanOriginalAmount)\n",
    "ggplot(datadf, aes(LoanOriginalAmount)) + geom_histogram(bins=100)\n",
    "#how could I mike the bins seperate by 500's or 100's?"
   ]
  },
  {
   "cell_type": "markdown",
   "metadata": {},
   "source": [
    "We can see that Loan Amounts tend to be in whole numbers. Let's see the most common loan amounts."
   ]
  },
  {
   "cell_type": "code",
   "execution_count": 32,
   "metadata": {
    "collapsed": false
   },
   "outputs": [
    {
     "data": {
      "text/html": [
       "<table>\n",
       "<thead><tr><th scope=col>LoanOriginalAmount</th><th scope=col>count</th></tr></thead>\n",
       "<tbody>\n",
       "\t<tr><td> 4000</td><td>14333</td></tr>\n",
       "\t<tr><td>15000</td><td>12407</td></tr>\n",
       "\t<tr><td>10000</td><td>11106</td></tr>\n",
       "\t<tr><td> 5000</td><td> 6990</td></tr>\n",
       "\t<tr><td> 2000</td><td> 6067</td></tr>\n",
       "\t<tr><td> 3000</td><td> 5749</td></tr>\n",
       "\t<tr><td>25000</td><td> 3630</td></tr>\n",
       "\t<tr><td>20000</td><td> 3291</td></tr>\n",
       "\t<tr><td> 1000</td><td> 3206</td></tr>\n",
       "</tbody>\n",
       "</table>\n"
      ],
      "text/latex": [
       "\\begin{tabular}{r|ll}\n",
       " LoanOriginalAmount & count\\\\\n",
       "\\hline\n",
       "\t  4000 & 14333\\\\\n",
       "\t 15000 & 12407\\\\\n",
       "\t 10000 & 11106\\\\\n",
       "\t  5000 &  6990\\\\\n",
       "\t  2000 &  6067\\\\\n",
       "\t  3000 &  5749\\\\\n",
       "\t 25000 &  3630\\\\\n",
       "\t 20000 &  3291\\\\\n",
       "\t  1000 &  3206\\\\\n",
       "\\end{tabular}\n"
      ],
      "text/markdown": [
       "\n",
       "LoanOriginalAmount | count | \n",
       "|---|---|---|---|---|---|---|---|---|\n",
       "|  4000 | 14333 | \n",
       "| 15000 | 12407 | \n",
       "| 10000 | 11106 | \n",
       "|  5000 |  6990 | \n",
       "|  2000 |  6067 | \n",
       "|  3000 |  5749 | \n",
       "| 25000 |  3630 | \n",
       "| 20000 |  3291 | \n",
       "|  1000 |  3206 | \n",
       "\n",
       "\n"
      ],
      "text/plain": [
       "  LoanOriginalAmount count\n",
       "1  4000              14333\n",
       "2 15000              12407\n",
       "3 10000              11106\n",
       "4  5000               6990\n",
       "5  2000               6067\n",
       "6  3000               5749\n",
       "7 25000               3630\n",
       "8 20000               3291\n",
       "9  1000               3206"
      ]
     },
     "metadata": {},
     "output_type": "display_data"
    }
   ],
   "source": [
    "datadf %>%\n",
    "group_by(LoanOriginalAmount) %>%\n",
    "summarise(count = n()) %>%\n",
    "filter(count > 3000) %>%\n",
    "arrange(desc(count))"
   ]
  },
  {
   "cell_type": "code",
   "execution_count": 60,
   "metadata": {
    "collapsed": false,
    "deletable": true,
    "editable": true
   },
   "outputs": [
    {
     "data": {
      "text/html": [
       "<ol class=list-inline>\n",
       "\t<li>1</li>\n",
       "\t<li>1</li>\n",
       "\t<li>1</li>\n",
       "\t<li>1</li>\n",
       "\t<li>1</li>\n",
       "\t<li>1</li>\n",
       "</ol>\n"
      ],
      "text/latex": [
       "\\begin{enumerate*}\n",
       "\\item 1\n",
       "\\item 1\n",
       "\\item 1\n",
       "\\item 1\n",
       "\\item 1\n",
       "\\item 1\n",
       "\\end{enumerate*}\n"
      ],
      "text/markdown": [
       "1. 1\n",
       "2. 1\n",
       "3. 1\n",
       "4. 1\n",
       "5. 1\n",
       "6. 1\n",
       "\n",
       "\n"
      ],
      "text/plain": [
       "[1] 1 1 1 1 1 1"
      ]
     },
     "metadata": {},
     "output_type": "display_data"
    },
    {
     "data": {
      "text/plain": [
       "   Min. 1st Qu.  Median    Mean 3rd Qu.    Max. \n",
       " 0.7000  1.0000  1.0000  0.9986  1.0000  1.0120 "
      ]
     },
     "metadata": {},
     "output_type": "display_data"
    },
    {
     "name": "stderr",
     "output_type": "stream",
     "text": [
      "`stat_bin()` using `bins = 30`. Pick better value with `binwidth`.\n"
     ]
    },
    {
     "data": {},
     "metadata": {},
     "output_type": "display_data"
    },
    {
     "data": {
      "image/png": "[encoded data removed]",
      "text/plain": [
       "plot without title"
      ]
     },
     "metadata": {},
     "output_type": "display_data"
    }
   ],
   "source": [
    "head(datadf$PercentFunded)\n",
    "summary(datadf$PercentFunded)\n",
    "ggplot(datadf, aes(PercentFunded)) + geom_histogram()"
   ]
  },
  {
   "cell_type": "markdown",
   "metadata": {
    "deletable": true,
    "editable": true
   },
   "source": [
    "OK, so it looks like the vast percentage were 100% funded. Let's take a closer look at those that weren't.\n",
    "todo: get number of total that were funded entirely"
   ]
  },
  {
   "cell_type": "code",
   "execution_count": 61,
   "metadata": {
    "collapsed": false,
    "deletable": true,
    "editable": true
   },
   "outputs": [
    {
     "ename": "ERROR",
     "evalue": "Error in parse(text = x, srcfile = src): <text>:1:14: unexpected symbol\n1: Todo: Delete or\n                 ^\n",
     "output_type": "error",
     "traceback": [
      "Error in parse(text = x, srcfile = src): <text>:1:14: unexpected symbol\n1: Todo: Delete or\n                 ^\nTraceback:\n"
     ]
    }
   ],
   "source": [
    "Todo: Delete or fix\n",
    "ggplot(datadf, aes(PercentFunded)) + geom_histogram() + coord_cartesian(\n",
    "#I think filter works here"
   ]
  },
  {
   "cell_type": "code",
   "execution_count": 62,
   "metadata": {
    "collapsed": false,
    "deletable": true,
    "editable": true
   },
   "outputs": [
    {
     "data": {
      "text/plain": [
       "   Min. 1st Qu.  Median    Mean 3rd Qu.    Max. \n",
       "   1.00    2.00   44.00   80.48  115.00 1189.00 "
      ]
     },
     "metadata": {},
     "output_type": "display_data"
    }
   ],
   "source": [
    "summary(datadf$Investors)"
   ]
  },
  {
   "cell_type": "markdown",
   "metadata": {
    "deletable": true,
    "editable": true
   },
   "source": [
    "Should be related to the size of the loan."
   ]
  },
  {
   "cell_type": "code",
   "execution_count": 63,
   "metadata": {
    "collapsed": false,
    "deletable": true,
    "editable": true
   },
   "outputs": [
    {
     "data": {},
     "metadata": {},
     "output_type": "display_data"
    },
    {
     "data": {
      "image/png": "[encoded data removed]",
      "text/plain": [
       "plot without title"
      ]
     },
     "metadata": {},
     "output_type": "display_data"
    }
   ],
   "source": [
    "ggplot(datadf, aes(Investors)) + geom_histogram(bins=100)"
   ]
  },
  {
   "cell_type": "markdown",
   "metadata": {
    "deletable": true,
    "editable": true
   },
   "source": [
    "Wow, in a a platform that lets you pool your risk, a lot of loansstill only have 1... Or is that 0?"
   ]
  },
  {
   "cell_type": "code",
   "execution_count": 64,
   "metadata": {
    "collapsed": false,
    "deletable": true,
    "editable": true
   },
   "outputs": [
    {
     "data": {
      "text/plain": [
       "\n",
       "    1     2     3     4     5     6     7     8     9    10 \n",
       "27814  1386   991   827   753   721   701   753   721   728 "
      ]
     },
     "metadata": {},
     "output_type": "display_data"
    }
   ],
   "source": [
    "table(datadf$Investors)[1:10]"
   ]
  },
  {
   "cell_type": "markdown",
   "metadata": {
    "deletable": true,
    "editable": true
   },
   "source": [
    "Deffinitely 1! Yikes. Can't wait to see what causes that."
   ]
  },
  {
   "cell_type": "markdown",
   "metadata": {
    "collapsed": true,
    "deletable": true,
    "editable": true
   },
   "source": [
    "1 - Term \n",
    "#####LoanStatus = Need tto group loans efffectively first\n",
    "BorrowerAPR\n",
    "Estimated Effective Yield / Yield would have had\n",
    "#####Income Range\n",
    "#####Loan Amount"
   ]
  },
  {
   "cell_type": "code",
   "execution_count": 65,
   "metadata": {
    "collapsed": false,
    "deletable": true,
    "editable": true
   },
   "outputs": [
    {
     "name": "stderr",
     "output_type": "stream",
     "text": [
      "Warning message:\n",
      "\"Removed 25 rows containing non-finite values (stat_boxplot).\""
     ]
    },
    {
     "data": {},
     "metadata": {},
     "output_type": "display_data"
    },
    {
     "data": {
      "image/png": "[encoded data removed]",
      "text/plain": [
       "plot without title"
      ]
     },
     "metadata": {},
     "output_type": "display_data"
    }
   ],
   "source": [
    "ggplot(datadf, aes(group=Term, x=Term/12, y=BorrowerAPR)) + geom_boxplot()"
   ]
  },
  {
   "cell_type": "code",
   "execution_count": 66,
   "metadata": {
    "collapsed": false,
    "deletable": true,
    "editable": true
   },
   "outputs": [
    {
     "data": {},
     "metadata": {},
     "output_type": "display_data"
    },
    {
     "data": {
      "image/png": "[encoded data removed]",
      "text/plain": [
       "plot without title"
      ]
     },
     "metadata": {},
     "output_type": "display_data"
    }
   ],
   "source": [
    "ggplot(datadf, aes(group=Term, x=Term/12, y=LenderYield)) + geom_boxplot()"
   ]
  },
  {
   "cell_type": "markdown",
   "metadata": {
    "deletable": true,
    "editable": true
   },
   "source": [
    "Well that's interesting, but in hindsight pretty obvious. Though the median(?) Borrower APR stays flat over the three terms, the expect yield increases. That makes sense though, seeing that given 2 loans of the same amount with the same APR the one with the longer term will have a higgher yield. (More payments, more time to collect interest, etc."
   ]
  },
  {
   "cell_type": "code",
   "execution_count": 67,
   "metadata": {
    "collapsed": false,
    "deletable": true,
    "editable": true
   },
   "outputs": [
    {
     "name": "stderr",
     "output_type": "stream",
     "text": [
      "Warning message:\n",
      "\"Removed 29084 rows containing non-finite values (stat_boxplot).\""
     ]
    },
    {
     "data": {},
     "metadata": {},
     "output_type": "display_data"
    },
    {
     "data": {
      "image/png": "[encoded data removed]",
      "text/plain": [
       "plot without title"
      ]
     },
     "metadata": {},
     "output_type": "display_data"
    }
   ],
   "source": [
    "#Let's look at the same thing for Estimated Effective Yield\n",
    "ggplot(datadf, aes(group=Term, x=Term/12, y=EstimatedEffectiveYield)) + geom_boxplot()"
   ]
  },
  {
   "cell_type": "markdown",
   "metadata": {
    "deletable": true,
    "editable": true
   },
   "source": [
    "The term's relationship to one another stay static, but there are a bunch of outliers with negative Estimated Effective Yield, and only in the 3 year term. Let's take a look atht those loans."
   ]
  },
  {
   "cell_type": "code",
   "execution_count": 68,
   "metadata": {
    "collapsed": true,
    "deletable": true,
    "editable": true
   },
   "outputs": [],
   "source": [
    "negativeExpectedYield <- datadf %>%\n",
    "filter(EstimatedEffectiveYield <= 0)"
   ]
  },
  {
   "cell_type": "code",
   "execution_count": 69,
   "metadata": {
    "collapsed": false,
    "deletable": true,
    "editable": true
   },
   "outputs": [
    {
     "data": {
      "text/html": [
       "<table>\n",
       "<thead><tr><th scope=col>ListingKey</th><th scope=col>ListingNumber</th><th scope=col>ListingCreationDate</th><th scope=col>CreditGrade</th><th scope=col>Term</th><th scope=col>LoanStatus</th><th scope=col>ClosedDate</th><th scope=col>BorrowerAPR</th><th scope=col>BorrowerRate</th><th scope=col>LenderYield</th><th scope=col>...</th><th scope=col>LP_ServiceFees</th><th scope=col>LP_CollectionFees</th><th scope=col>LP_GrossPrincipalLoss</th><th scope=col>LP_NetPrincipalLoss</th><th scope=col>LP_NonPrincipalRecoverypayments</th><th scope=col>PercentFunded</th><th scope=col>Recommendations</th><th scope=col>InvestmentFromFriendsCount</th><th scope=col>InvestmentFromFriendsAmount</th><th scope=col>Investors</th></tr></thead>\n",
       "<tbody>\n",
       "\t<tr><td>089C348555489823736377D      </td><td>460749                       </td><td>2010-05-30 18:37:24.953000000</td><td>                             </td><td>36                           </td><td>Chargedoff                   </td><td>2013-01-11 00:00:00          </td><td>0.24807                      </td><td>0.2100                       </td><td>0.2000                       </td><td>...                          </td><td> -15.46                      </td><td> 0.00                        </td><td> 383.08                      </td><td> 383.08                      </td><td>0                            </td><td>1                            </td><td>0                            </td><td>0                            </td><td>   0.00                      </td><td> 31                          </td></tr>\n",
       "\t<tr><td>32543499181220496DBB555      </td><td>483095                       </td><td>2010-11-05 14:46:00.163000000</td><td>                             </td><td>36                           </td><td>Completed                    </td><td>2011-04-21 00:00:00          </td><td>0.36783                      </td><td>0.3269                       </td><td>0.3169                       </td><td>...                          </td><td>  -5.91                      </td><td> 0.00                        </td><td>   0.00                      </td><td>   0.00                      </td><td>0                            </td><td>1                            </td><td>0                            </td><td>1                            </td><td>1058.77                      </td><td> 27                          </td></tr>\n",
       "\t<tr><td>4685347195009875809A70E      </td><td>440607                       </td><td>2010-01-01 14:46:53.843000000</td><td>                             </td><td>36                           </td><td>Completed                    </td><td>2011-02-28 00:00:00          </td><td>0.22491                      </td><td>0.2000                       </td><td>0.1900                       </td><td>...                          </td><td> -14.35                      </td><td> 0.00                        </td><td>   0.00                      </td><td>   0.00                      </td><td>0                            </td><td>1                            </td><td>0                            </td><td>0                            </td><td>   0.00                      </td><td> 75                          </td></tr>\n",
       "\t<tr><td>6DD034810270651087DFB9F      </td><td>452658                       </td><td>2010-04-05 09:10:40.280000000</td><td>                             </td><td>36                           </td><td>Completed                    </td><td>2011-04-29 00:00:00          </td><td>0.36336                      </td><td>0.3390                       </td><td>0.3290                       </td><td>...                          </td><td> -13.30                      </td><td> 0.00                        </td><td>   0.00                      </td><td>   0.00                      </td><td>0                            </td><td>1                            </td><td>0                            </td><td>1                            </td><td> 100.00                      </td><td> 60                          </td></tr>\n",
       "\t<tr><td>0B5C34738042854656430E6      </td><td>441714                       </td><td>2010-01-08 13:39:38.123000000</td><td>                             </td><td>36                           </td><td>Chargedoff                   </td><td>2012-01-22 00:00:00          </td><td>0.37453                      </td><td>0.3500                       </td><td>0.3400                       </td><td>...                          </td><td> -24.48                      </td><td>-5.95                        </td><td>1170.57                      </td><td>1170.57                      </td><td>0                            </td><td>1                            </td><td>0                            </td><td>0                            </td><td>   0.00                      </td><td> 24                          </td></tr>\n",
       "\t<tr><td>421F3494976253733186DF9      </td><td>477067                       </td><td>2010-09-25 12:10:55.217000000</td><td>                             </td><td>36                           </td><td>Chargedoff                   </td><td>2011-05-10 00:00:00          </td><td>0.38620                      </td><td>0.3490                       </td><td>0.3390                       </td><td>...                          </td><td> -12.44                      </td><td> 0.00                        </td><td>7256.40                      </td><td>7256.40                      </td><td>0                            </td><td>1                            </td><td>0                            </td><td>0                            </td><td>   0.00                      </td><td> 61                          </td></tr>\n",
       "\t<tr><td>9E5E3498204991686FFFDC9      </td><td>481925                       </td><td>2010-10-28 10:18:14.733000000</td><td>                             </td><td>36                           </td><td>Completed                    </td><td>2011-05-13 00:00:00          </td><td>0.34631                      </td><td>0.3100                       </td><td>0.3000                       </td><td>...                          </td><td> -31.49                      </td><td> 0.00                        </td><td>   0.00                      </td><td>   0.00                      </td><td>0                            </td><td>1                            </td><td>0                            </td><td>0                            </td><td>   0.00                      </td><td> 75                          </td></tr>\n",
       "\t<tr><td>06C634936764915582779CD      </td><td>474698                       </td><td>2010-09-07 07:57:07.080000000</td><td>                             </td><td>36                           </td><td>Chargedoff                   </td><td>2013-05-18 00:00:00          </td><td>0.37699                      </td><td>0.3400                       </td><td>0.3300                       </td><td>...                          </td><td>-123.99                      </td><td> 0.00                        </td><td>2684.45                      </td><td>2684.45                      </td><td>0                            </td><td>1                            </td><td>0                            </td><td>0                            </td><td>   0.00                      </td><td> 37                          </td></tr>\n",
       "\t<tr><td>0F393487035940130A9724B      </td><td>463090                       </td><td>2010-06-18 09:24:37.347000000</td><td>                             </td><td>36                           </td><td>Completed                    </td><td>2011-02-18 00:00:00          </td><td>0.33281                      </td><td>0.3089                       </td><td>0.2989                       </td><td>...                          </td><td> -35.39                      </td><td> 0.00                        </td><td>   0.00                      </td><td>   0.00                      </td><td>0                            </td><td>1                            </td><td>1                            </td><td>1                            </td><td>  25.00                      </td><td>169                          </td></tr>\n",
       "\t<tr><td>3AA83459022108282F14863      </td><td>416980                       </td><td>2009-07-17 13:57:20.620000000</td><td>                             </td><td>36                           </td><td>Completed                    </td><td>2012-05-23 00:00:00          </td><td>0.37453                      </td><td>0.3500                       </td><td>0.3400                       </td><td>...                          </td><td> -24.61                      </td><td> 0.00                        </td><td>   0.00                      </td><td>   0.00                      </td><td>0                            </td><td>1                            </td><td>0                            </td><td>0                            </td><td>   0.00                      </td><td>  1                          </td></tr>\n",
       "\t<tr><td>951734715607690434676F3      </td><td>439186                       </td><td>2009-12-19 16:52:50.200000000</td><td>                             </td><td>36                           </td><td>Completed                    </td><td>2012-12-31 00:00:00          </td><td>0.36438                      </td><td>0.3400                       </td><td>0.3300                       </td><td>...                          </td><td> -50.40                      </td><td> 0.00                        </td><td>   0.00                      </td><td>   0.00                      </td><td>0                            </td><td>1                            </td><td>0                            </td><td>0                            </td><td>   0.00                      </td><td> 68                          </td></tr>\n",
       "\t<tr><td>30E73477967521420B48181      </td><td>450235                       </td><td>2010-03-12 11:18:17.957000000</td><td>                             </td><td>36                           </td><td>Completed                    </td><td>2013-02-27 00:00:00          </td><td>0.20260                      </td><td>0.1805                       </td><td>0.1705                       </td><td>...                          </td><td>-117.21                      </td><td> 0.00                        </td><td>   0.00                      </td><td>   0.00                      </td><td>0                            </td><td>1                            </td><td>0                            </td><td>0                            </td><td>   0.00                      </td><td>  3                          </td></tr>\n",
       "\t<tr><td>9D9C34645778963111B6064      </td><td>427428                       </td><td>2009-10-08 10:53:36.003000000</td><td>                             </td><td>36                           </td><td>Chargedoff                   </td><td>2010-11-18 00:00:00          </td><td>0.20735                      </td><td>0.1827                       </td><td>0.1727                       </td><td>...                          </td><td>  -9.61                      </td><td> 0.00                        </td><td>1329.99                      </td><td>1312.56                      </td><td>0                            </td><td>1                            </td><td>0                            </td><td>0                            </td><td>   0.00                      </td><td>  1                          </td></tr>\n",
       "\t<tr><td>009B3495741061236C0C927      </td><td>477848                       </td><td>2010-09-30 16:29:48.017000000</td><td>                             </td><td>36                           </td><td>Completed                    </td><td>2013-10-14 00:00:00          </td><td>0.38723                      </td><td>0.3500                       </td><td>0.3400                       </td><td>...                          </td><td>-106.13                      </td><td> 0.00                        </td><td>   0.00                      </td><td>   0.00                      </td><td>0                            </td><td>1                            </td><td>0                            </td><td>0                            </td><td>   0.00                      </td><td> 80                          </td></tr>\n",
       "\t<tr><td>2F973490896224270661A5B      </td><td>468917                       </td><td>2010-07-28 11:38:29.650000000</td><td>                             </td><td>36                           </td><td>Completed                    </td><td>2012-04-07 00:00:00          </td><td>0.38109                      </td><td>0.3440                       </td><td>0.3340                       </td><td>...                          </td><td> -31.10                      </td><td> 0.00                        </td><td>   0.00                      </td><td>   0.00                      </td><td>0                            </td><td>1                            </td><td>0                            </td><td>0                            </td><td>   0.00                      </td><td> 51                          </td></tr>\n",
       "\t<tr><td>ED6334997080608798C4AAC      </td><td>483031                       </td><td>2010-11-05 11:34:27.367000000</td><td>                             </td><td>36                           </td><td>Completed                    </td><td>2011-03-29 00:00:00          </td><td>0.26822                      </td><td>0.2100                       </td><td>0.2000                       </td><td>...                          </td><td>  -2.90                      </td><td> 0.00                        </td><td>   0.00                      </td><td>   0.00                      </td><td>0                            </td><td>1                            </td><td>0                            </td><td>0                            </td><td>   0.00                      </td><td> 61                          </td></tr>\n",
       "\t<tr><td>0A493500724918931BC92AD      </td><td>485927                       </td><td>2010-11-28 10:26:41.450000000</td><td>                             </td><td>36                           </td><td>Completed                    </td><td>2013-12-07 00:00:00          </td><td>0.34631                      </td><td>0.3100                       </td><td>0.3000                       </td><td>...                          </td><td> -53.09                      </td><td> 0.00                        </td><td>   0.00                      </td><td>   0.00                      </td><td>0                            </td><td>1                            </td><td>1                            </td><td>0                            </td><td>   0.00                      </td><td> 77                          </td></tr>\n",
       "\t<tr><td>2DD734790047377761A273F      </td><td>448926                       </td><td>2010-03-05 12:00:35.537000000</td><td>                             </td><td>36                           </td><td>Completed                    </td><td>2012-07-13 00:00:00          </td><td>0.33393                      </td><td>0.3100                       </td><td>0.3000                       </td><td>...                          </td><td> -65.89                      </td><td> 0.00                        </td><td>   0.00                      </td><td>   0.00                      </td><td>0                            </td><td>1                            </td><td>0                            </td><td>0                            </td><td>   0.00                      </td><td> 90                          </td></tr>\n",
       "\t<tr><td>2D9B34605941550368990B6      </td><td>421817                       </td><td>2009-08-24 09:34:05.760000000</td><td>                             </td><td>36                           </td><td>Chargedoff                   </td><td>2013-01-02 00:00:00          </td><td>0.37453                      </td><td>0.3500                       </td><td>0.3400                       </td><td>...                          </td><td> -30.67                      </td><td> 0.00                        </td><td> 126.98                      </td><td> 126.98                      </td><td>0                            </td><td>1                            </td><td>0                            </td><td>0                            </td><td>   0.00                      </td><td> 30                          </td></tr>\n",
       "\t<tr><td>5B283501148182785E410F3      </td><td>484999                       </td><td>2010-11-18 12:03:18.170000000</td><td>                             </td><td>36                           </td><td>Completed                    </td><td>2013-11-30 00:00:00          </td><td>0.36646                      </td><td>0.3297                       </td><td>0.3197                       </td><td>...                          </td><td> -32.02                      </td><td> 0.00                        </td><td>   0.00                      </td><td>   0.00                      </td><td>0                            </td><td>1                            </td><td>0                            </td><td>0                            </td><td>   0.00                      </td><td> 51                          </td></tr>\n",
       "\t<tr><td>E66E3466420453669FA5E20      </td><td>431508                       </td><td>2009-11-02 18:51:50.857000000</td><td>                             </td><td>36                           </td><td>Chargedoff                   </td><td>2010-10-10 00:00:00          </td><td>0.37453                      </td><td>0.3500                       </td><td>0.3400                       </td><td>...                          </td><td> -13.15                      </td><td> 0.00                        </td><td>3287.79                      </td><td>3272.80                      </td><td>0                            </td><td>1                            </td><td>0                            </td><td>0                            </td><td>   0.00                      </td><td>  1                          </td></tr>\n",
       "\t<tr><td>A84234919972024700E788D      </td><td>469907                       </td><td>2010-08-03 18:26:38.910000000</td><td>                             </td><td>36                           </td><td>Completed                    </td><td>2011-12-20 00:00:00          </td><td>0.21291                      </td><td>0.1794                       </td><td>0.1694                       </td><td>...                          </td><td> -28.18                      </td><td> 0.00                        </td><td>   0.00                      </td><td>   0.00                      </td><td>0                            </td><td>1                            </td><td>1                            </td><td>2                            </td><td>1774.42                      </td><td> 53                          </td></tr>\n",
       "\t<tr><td>16ED3472868394333E87B22      </td><td>442499                       </td><td>2010-01-14 09:37:49.377000000</td><td>                             </td><td>36                           </td><td>Completed                    </td><td>2013-01-19 00:00:00          </td><td>0.11155                      </td><td>0.0906                       </td><td>0.0806                       </td><td>...                          </td><td>-162.60                      </td><td> 0.00                        </td><td>   0.00                      </td><td>   0.00                      </td><td>0                            </td><td>1                            </td><td>0                            </td><td>0                            </td><td>   0.00                      </td><td>  1                          </td></tr>\n",
       "\t<tr><td>16B23499408173940883262      </td><td>485266                       </td><td>2010-11-21 05:38:54.950000000</td><td>                             </td><td>36                           </td><td>Completed                    </td><td>2013-11-30 00:00:00          </td><td>0.38723                      </td><td>0.3500                       </td><td>0.3400                       </td><td>...                          </td><td> -46.76                      </td><td> 0.00                        </td><td>   0.00                      </td><td>   0.00                      </td><td>0                            </td><td>1                            </td><td>1                            </td><td>1                            </td><td>  25.00                      </td><td> 38                          </td></tr>\n",
       "\t<tr><td>B1E63500679848022856766      </td><td>486405                       </td><td>2010-12-01 19:11:37.317000000</td><td>                             </td><td>36                           </td><td>Completed                    </td><td>2013-04-11 00:00:00          </td><td>0.38723                      </td><td>0.3500                       </td><td>0.3400                       </td><td>...                          </td><td> -61.97                      </td><td> 0.00                        </td><td>   0.00                      </td><td>   0.00                      </td><td>0                            </td><td>1                            </td><td>0                            </td><td>0                            </td><td>   0.00                      </td><td> 33                          </td></tr>\n",
       "\t<tr><td>9A4E3492821389543047631      </td><td>473029                       </td><td>2010-08-24 19:07:26.757000000</td><td>                             </td><td>36                           </td><td>Completed                    </td><td>2011-03-22 00:00:00          </td><td>0.41355                      </td><td>0.3500                       </td><td>0.3400                       </td><td>...                          </td><td>  -5.15                      </td><td> 0.00                        </td><td>   0.00                      </td><td>   0.00                      </td><td>0                            </td><td>1                            </td><td>0                            </td><td>0                            </td><td>   0.00                      </td><td> 22                          </td></tr>\n",
       "\t<tr><td>A97F34930346098313445C1      </td><td>474439                       </td><td>2010-09-04 08:15:17.333000000</td><td>                             </td><td>36                           </td><td>Completed                    </td><td>2012-01-30 00:00:00          </td><td>0.14360                      </td><td>0.0895                       </td><td>0.0795                       </td><td>...                          </td><td>  -4.89                      </td><td> 0.00                        </td><td>   0.00                      </td><td>   0.00                      </td><td>0                            </td><td>1                            </td><td>0                            </td><td>0                            </td><td>   0.00                      </td><td> 73                          </td></tr>\n",
       "\t<tr><td>9E7A3492907493044A627C2      </td><td>471571                       </td><td>2010-08-15 13:52:55.137000000</td><td>                             </td><td>36                           </td><td>Completed                    </td><td>2013-08-24 00:00:00          </td><td>0.26302                      </td><td>0.2285                       </td><td>0.2185                       </td><td>...                          </td><td> -34.24                      </td><td> 0.00                        </td><td>   0.00                      </td><td>   0.00                      </td><td>0                            </td><td>1                            </td><td>0                            </td><td>0                            </td><td>   0.00                      </td><td>144                          </td></tr>\n",
       "\t<tr><td>BAC4350200668046339B539      </td><td>486562                       </td><td>2010-12-02 12:56:27.757000000</td><td>                             </td><td>36                           </td><td>Completed                    </td><td>2013-02-05 00:00:00          </td><td>0.41355                      </td><td>0.3500                       </td><td>0.3400                       </td><td>...                          </td><td> -16.14                      </td><td> 0.00                        </td><td>   0.00                      </td><td>   0.00                      </td><td>0                            </td><td>1                            </td><td>0                            </td><td>0                            </td><td>   0.00                      </td><td> 20                          </td></tr>\n",
       "\t<tr><td>029A3499706893097DB1393      </td><td>482554                       </td><td>2010-11-02 11:04:47.190000000</td><td>                             </td><td>36                           </td><td>Completed                    </td><td>2013-11-17 00:00:00          </td><td>0.38723                      </td><td>0.3500                       </td><td>0.3400                       </td><td>...                          </td><td> -36.28                      </td><td> 0.00                        </td><td>   0.00                      </td><td>   0.00                      </td><td>0                            </td><td>1                            </td><td>0                            </td><td>0                            </td><td>   0.00                      </td><td> 36                          </td></tr>\n",
       "\t<tr><td>...</td><td>...</td><td>...</td><td>...</td><td>...</td><td>...</td><td>...</td><td>...</td><td>...</td><td>...</td><td>   </td><td>...</td><td>...</td><td>...</td><td>...</td><td>...</td><td>...</td><td>...</td><td>...</td><td>...</td><td>...</td></tr>\n",
       "\t<tr><td>EA203466661740046532855      </td><td>432093                       </td><td>2009-11-06 14:49:19.267000000</td><td>                             </td><td>36                           </td><td>Chargedoff                   </td><td>2010-06-13 00:00:00          </td><td>0.22237                      </td><td>0.2000                       </td><td>0.1900                       </td><td>...                          </td><td>  -9.00                      </td><td>  0.00                       </td><td>4576.98                      </td><td>4576.97                      </td><td>  0                          </td><td>1                            </td><td>0                            </td><td>0                            </td><td>   0.00                      </td><td>  1                          </td></tr>\n",
       "\t<tr><td>87793468051018224ED5E2C      </td><td>432323                       </td><td>2009-11-07 17:05:14.507000000</td><td>                             </td><td>36                           </td><td>Completed                    </td><td>2012-04-06 00:00:00          </td><td>0.20504                      </td><td>0.1829                       </td><td>0.1729                       </td><td>...                          </td><td> -39.61                      </td><td>  0.00                       </td><td>   0.00                      </td><td>   0.00                      </td><td>  0                          </td><td>1                            </td><td>0                            </td><td>0                            </td><td>   0.00                      </td><td>  4                          </td></tr>\n",
       "\t<tr><td>6FC834823486444499C7547      </td><td>456105                       </td><td>2010-04-28 08:36:36.637000000</td><td>                             </td><td>36                           </td><td>Chargedoff                   </td><td>2012-05-12 00:00:00          </td><td>0.37453                      </td><td>0.3500                       </td><td>0.3400                       </td><td>...                          </td><td> -50.58                      </td><td>-77.01                       </td><td>2513.24                      </td><td>2513.24                      </td><td>136                          </td><td>1                            </td><td>0                            </td><td>0                            </td><td>   0.00                      </td><td> 38                          </td></tr>\n",
       "\t<tr><td>4937346216847197452FB8A      </td><td>423755                       </td><td>2009-09-09 15:58:48.523000000</td><td>                             </td><td>36                           </td><td>Completed                    </td><td>2012-06-05 00:00:00          </td><td>0.21223                      </td><td>0.1900                       </td><td>0.1800                       </td><td>...                          </td><td> -39.49                      </td><td>  0.00                       </td><td>   0.00                      </td><td>   0.00                      </td><td>  0                          </td><td>1                            </td><td>0                            </td><td>0                            </td><td>   0.00                      </td><td>  1                          </td></tr>\n",
       "\t<tr><td>C15F348278626944169A872      </td><td>458169                       </td><td>2010-05-13 06:49:09.163000000</td><td>                             </td><td>36                           </td><td>Completed                    </td><td>2013-05-18 00:00:00          </td><td>0.21476                      </td><td>0.1900                       </td><td>0.1800                       </td><td>...                          </td><td> -25.31                      </td><td>  0.00                       </td><td>   0.00                      </td><td>   0.00                      </td><td>  0                          </td><td>1                            </td><td>0                            </td><td>0                            </td><td>   0.00                      </td><td> 12                          </td></tr>\n",
       "\t<tr><td>789F350210398763651BA91      </td><td>485962                       </td><td>2010-11-28 19:45:12.420000000</td><td>                             </td><td>36                           </td><td>Completed                    </td><td>2013-12-13 00:00:00          </td><td>0.32005                      </td><td>0.2600                       </td><td>0.2500                       </td><td>...                          </td><td> -17.37                      </td><td>  0.00                       </td><td>   0.00                      </td><td>   0.00                      </td><td>  0                          </td><td>1                            </td><td>1                            </td><td>2                            </td><td>  55.00                      </td><td> 31                          </td></tr>\n",
       "\t<tr><td>DF90346174340002351C1F4      </td><td>422477                       </td><td>2009-08-30 07:49:07.147000000</td><td>                             </td><td>36                           </td><td>Completed                    </td><td>2012-09-09 00:00:00          </td><td>0.20695                      </td><td>0.1823                       </td><td>0.1723                       </td><td>...                          </td><td> -25.13                      </td><td>  0.00                       </td><td>   0.00                      </td><td>   0.00                      </td><td>  0                          </td><td>1                            </td><td>0                            </td><td>0                            </td><td>   0.00                      </td><td>  3                          </td></tr>\n",
       "\t<tr><td>269235009277038600A8F41      </td><td>486901                       </td><td>2010-12-06 09:50:28.423000000</td><td>                             </td><td>36                           </td><td>Completed                    </td><td>2013-01-07 00:00:00          </td><td>0.39821                      </td><td>0.3500                       </td><td>0.3400                       </td><td>...                          </td><td> -16.10                      </td><td>  0.00                       </td><td>   0.00                      </td><td>   0.00                      </td><td>  0                          </td><td>1                            </td><td>0                            </td><td>0                            </td><td>   0.00                      </td><td> 28                          </td></tr>\n",
       "\t<tr><td>A57234935967547991ACEA8      </td><td>474384                       </td><td>2010-09-03 15:50:11.600000000</td><td>                             </td><td>36                           </td><td>Chargedoff                   </td><td>2013-06-24 00:00:00          </td><td>0.38723                      </td><td>0.3500                       </td><td>0.3400                       </td><td>...                          </td><td> -39.46                      </td><td>  0.00                       </td><td> 829.70                      </td><td> 829.70                      </td><td>  0                          </td><td>1                            </td><td>0                            </td><td>0                            </td><td>   0.00                      </td><td> 42                          </td></tr>\n",
       "\t<tr><td>4B5A34808530538374A1D66      </td><td>454760                       </td><td>2010-04-17 07:44:16.297000000</td><td>                             </td><td>36                           </td><td>Completed                    </td><td>2012-02-27 00:00:00          </td><td>0.22522                      </td><td>0.2003                       </td><td>0.1903                       </td><td>...                          </td><td> -20.43                      </td><td>  0.00                       </td><td>   0.00                      </td><td>   0.00                      </td><td>  0                          </td><td>1                            </td><td>0                            </td><td>0                            </td><td>   0.00                      </td><td> 48                          </td></tr>\n",
       "\t<tr><td>DB453501219046087835C54      </td><td>486316                       </td><td>2010-11-30 18:19:18.730000000</td><td>                             </td><td>36                           </td><td>Completed                    </td><td>2011-04-22 00:00:00          </td><td>0.39153                      </td><td>0.3500                       </td><td>0.3400                       </td><td>...                          </td><td>  -5.41                      </td><td>  0.00                       </td><td>   0.00                      </td><td>   0.00                      </td><td>  0                          </td><td>1                            </td><td>0                            </td><td>0                            </td><td>   0.00                      </td><td> 29                          </td></tr>\n",
       "\t<tr><td>A91D34785676125336640F0      </td><td>450451                       </td><td>2010-03-14 20:03:02.273000000</td><td>                             </td><td>36                           </td><td>Completed                    </td><td>2011-03-25 00:00:00          </td><td>0.37443                      </td><td>0.3499                       </td><td>0.3399                       </td><td>...                          </td><td> -58.20                      </td><td>  0.00                       </td><td>   0.00                      </td><td>   0.00                      </td><td>  0                          </td><td>1                            </td><td>0                            </td><td>0                            </td><td>   0.00                      </td><td> 81                          </td></tr>\n",
       "\t<tr><td>F5D73489855329001299FF4      </td><td>469312                       </td><td>2010-07-30 08:47:21.447000000</td><td>                             </td><td>36                           </td><td>Completed                    </td><td>2013-08-11 00:00:00          </td><td>0.08999                      </td><td>0.0693                       </td><td>0.0593                       </td><td>...                          </td><td>-127.58                      </td><td>  0.00                       </td><td>   0.00                      </td><td>   0.00                      </td><td>  0                          </td><td>1                            </td><td>0                            </td><td>1                            </td><td>4000.00                      </td><td>  2                          </td></tr>\n",
       "\t<tr><td>E7A63484022509283D51CD4      </td><td>460192                       </td><td>2010-05-27 02:12:13.103000000</td><td>                             </td><td>36                           </td><td>Completed                    </td><td>2011-03-03 00:00:00          </td><td>0.37453                      </td><td>0.3500                       </td><td>0.3400                       </td><td>...                          </td><td> -44.99                      </td><td>  0.00                       </td><td>   0.00                      </td><td>   0.00                      </td><td>  0                          </td><td>1                            </td><td>0                            </td><td>0                            </td><td>   0.00                      </td><td> 43                          </td></tr>\n",
       "\t<tr><td>EA623467677786916EBA487      </td><td>430588                       </td><td>2009-10-27 13:34:06.360000000</td><td>                             </td><td>36                           </td><td>Completed                    </td><td>2012-08-31 00:00:00          </td><td>0.18133                      </td><td>0.1595                       </td><td>0.1495                       </td><td>...                          </td><td> -32.95                      </td><td>  0.00                       </td><td>   0.00                      </td><td>   0.00                      </td><td>  0                          </td><td>1                            </td><td>0                            </td><td>0                            </td><td>   0.00                      </td><td> 14                          </td></tr>\n",
       "\t<tr><td>CC393491765818171671DB7      </td><td>469869                       </td><td>2010-08-03 19:12:11.047000000</td><td>                             </td><td>36                           </td><td>Chargedoff                   </td><td>2011-11-15 00:00:00          </td><td>0.38723                      </td><td>0.3500                       </td><td>0.3400                       </td><td>...                          </td><td> -57.59                      </td><td>  0.00                       </td><td>6123.56                      </td><td>6123.56                      </td><td>  0                          </td><td>1                            </td><td>1                            </td><td>1                            </td><td>1748.66                      </td><td> 20                          </td></tr>\n",
       "\t<tr><td>B61D3495731427761944829      </td><td>477092                       </td><td>2010-09-25 12:48:31.330000000</td><td>                             </td><td>36                           </td><td>Completed                    </td><td>2013-11-19 00:00:00          </td><td>0.30031                      </td><td>0.2650                       </td><td>0.2550                       </td><td>...                          </td><td>-106.26                      </td><td>-80.31                       </td><td>   0.00                      </td><td>   0.00                      </td><td>  0                          </td><td>1                            </td><td>1                            </td><td>0                            </td><td>   0.00                      </td><td> 82                          </td></tr>\n",
       "\t<tr><td>121E34965887476537FE189      </td><td>480718                       </td><td>2010-10-20 06:31:26.270000000</td><td>                             </td><td>36                           </td><td>Completed                    </td><td>2013-07-09 00:00:00          </td><td>0.21352                      </td><td>0.1800                       </td><td>0.1700                       </td><td>...                          </td><td> -52.12                      </td><td>  0.00                       </td><td>   0.00                      </td><td>   0.00                      </td><td>  0                          </td><td>1                            </td><td>0                            </td><td>0                            </td><td>   0.00                      </td><td> 63                          </td></tr>\n",
       "\t<tr><td>B3EE3502272243880283B16      </td><td>487169                       </td><td>2010-12-08 09:07:06.530000000</td><td>                             </td><td>36                           </td><td>Completed                    </td><td>2013-02-08 00:00:00          </td><td>0.38127                      </td><td>0.3400                       </td><td>0.3300                       </td><td>...                          </td><td> -23.67                      </td><td>  0.00                       </td><td>   0.00                      </td><td>   0.00                      </td><td>  0                          </td><td>1                            </td><td>0                            </td><td>0                            </td><td>   0.00                      </td><td> 20                          </td></tr>\n",
       "\t<tr><td>73AA346937387942113D189      </td><td>433566                       </td><td>2009-11-16 08:17:56.767000000</td><td>                             </td><td>36                           </td><td>Completed                    </td><td>2010-01-11 00:00:00          </td><td>0.22237                      </td><td>0.2000                       </td><td>0.1900                       </td><td>...                          </td><td> -14.66                      </td><td>  0.00                       </td><td>   0.00                      </td><td>   0.00                      </td><td>  0                          </td><td>1                            </td><td>0                            </td><td>0                            </td><td>   0.00                      </td><td>  1                          </td></tr>\n",
       "\t<tr><td>F6E13478114370526251C1C      </td><td>450345                       </td><td>2010-03-15 06:43:55.170000000</td><td>                             </td><td>36                           </td><td>Completed                    </td><td>2010-10-15 00:00:00          </td><td>0.37453                      </td><td>0.3500                       </td><td>0.3400                       </td><td>...                          </td><td> -26.51                      </td><td>  0.00                       </td><td>   0.00                      </td><td>   0.00                      </td><td>  0                          </td><td>1                            </td><td>0                            </td><td>0                            </td><td>   0.00                      </td><td> 48                          </td></tr>\n",
       "\t<tr><td>24263477605508875B1445A      </td><td>448509                       </td><td>2010-03-02 11:44:36.243000000</td><td>                             </td><td>36                           </td><td>Completed                    </td><td>2013-01-08 00:00:00          </td><td>0.23784                      </td><td>0.2000                       </td><td>0.1900                       </td><td>...                          </td><td> -16.76                      </td><td>  0.00                       </td><td>   0.00                      </td><td>   0.00                      </td><td>  0                          </td><td>1                            </td><td>0                            </td><td>0                            </td><td>   0.00                      </td><td> 71                          </td></tr>\n",
       "\t<tr><td>E83C3488674044403859127      </td><td>467035                       </td><td>2010-07-17 05:21:48.957000000</td><td>                             </td><td>36                           </td><td>Completed                    </td><td>2013-02-14 00:00:00          </td><td>0.37453                      </td><td>0.3500                       </td><td>0.3400                       </td><td>...                          </td><td>-143.57                      </td><td>  0.00                       </td><td>   0.00                      </td><td>   0.00                      </td><td>  0                          </td><td>1                            </td><td>1                            </td><td>1                            </td><td> 200.08                      </td><td> 32                          </td></tr>\n",
       "\t<tr><td>297D347700685376134183D      </td><td>447504                       </td><td>2010-02-22 10:50:18.203000000</td><td>                             </td><td>36                           </td><td>Completed                    </td><td>2013-02-19 00:00:00          </td><td>0.20918                      </td><td>0.1845                       </td><td>0.1745                       </td><td>...                          </td><td> -25.16                      </td><td>  0.00                       </td><td>   0.00                      </td><td>   0.00                      </td><td>  0                          </td><td>1                            </td><td>0                            </td><td>0                            </td><td>   0.00                      </td><td> 21                          </td></tr>\n",
       "\t<tr><td>D99F34974391116263A9EB0      </td><td>480631                       </td><td>2010-10-19 15:51:36.043000000</td><td>                             </td><td>36                           </td><td>Completed                    </td><td>2013-11-08 00:00:00          </td><td>0.35701                      </td><td>0.3100                       </td><td>0.3000                       </td><td>...                          </td><td> -22.98                      </td><td>  0.00                       </td><td>   0.00                      </td><td>   0.00                      </td><td>  0                          </td><td>1                            </td><td>0                            </td><td>0                            </td><td>   0.00                      </td><td> 33                          </td></tr>\n",
       "\t<tr><td>CABD3496593465083DED371      </td><td>480503                       </td><td>2010-10-19 13:38:35.113000000</td><td>                             </td><td>36                           </td><td>Completed                    </td><td>2011-02-24 00:00:00          </td><td>0.17066                      </td><td>0.1157                       </td><td>0.1057                       </td><td>...                          </td><td>  -0.78                      </td><td>  0.00                       </td><td>   0.00                      </td><td>   0.00                      </td><td>  0                          </td><td>1                            </td><td>0                            </td><td>0                            </td><td>   0.00                      </td><td> 12                          </td></tr>\n",
       "\t<tr><td>F09F34610643095230CB3CC      </td><td>422675                       </td><td>2009-09-01 09:19:16.690000000</td><td>                             </td><td>36                           </td><td>Completed                    </td><td>2009-12-08 00:00:00          </td><td>0.20392                      </td><td>0.1818                       </td><td>0.1718                       </td><td>...                          </td><td>  -6.43                      </td><td>  0.00                       </td><td>   0.00                      </td><td>   0.00                      </td><td>  0                          </td><td>1                            </td><td>0                            </td><td>0                            </td><td>   0.00                      </td><td>  8                          </td></tr>\n",
       "\t<tr><td>C2493464219717831D1AE7D      </td><td>426289                       </td><td>2009-09-29 12:46:07.890000000</td><td>                             </td><td>36                           </td><td>Completed                    </td><td>2010-02-02 00:00:00          </td><td>0.37453                      </td><td>0.3500                       </td><td>0.3400                       </td><td>...                          </td><td> -17.38                      </td><td>  0.00                       </td><td>   0.00                      </td><td>   0.00                      </td><td>  0                          </td><td>1                            </td><td>0                            </td><td>0                            </td><td>   0.00                      </td><td>  1                          </td></tr>\n",
       "\t<tr><td>FFDA34977230634045B6DD9      </td><td>479483                       </td><td>2010-10-12 18:21:43.497000000</td><td>                             </td><td>36                           </td><td>Completed                    </td><td>2013-01-29 00:00:00          </td><td>0.28498                      </td><td>0.2500                       </td><td>0.2400                       </td><td>...                          </td><td> -45.52                      </td><td>  0.00                       </td><td>   0.00                      </td><td>   0.00                      </td><td>  0                          </td><td>1                            </td><td>2                            </td><td>0                            </td><td>   0.00                      </td><td>121                          </td></tr>\n",
       "\t<tr><td>C9563467992330262C23724      </td><td>433774                       </td><td>2009-11-16 19:11:53.663000000</td><td>                             </td><td>36                           </td><td>Completed                    </td><td>2010-01-12 00:00:00          </td><td>0.20504                      </td><td>0.1829                       </td><td>0.1729                       </td><td>...                          </td><td>  -4.66                      </td><td>  0.00                       </td><td>   0.00                      </td><td>   0.00                      </td><td>  0                          </td><td>1                            </td><td>0                            </td><td>0                            </td><td>   0.00                      </td><td>  1                          </td></tr>\n",
       "</tbody>\n",
       "</table>\n"
      ],
      "text/latex": [
       "\\begin{tabular}{r|lllllllllllllllllllllllllllllllllllllllllllllllllllllllllllllllllllllllllllllllll}\n",
       " ListingKey & ListingNumber & ListingCreationDate & CreditGrade & Term & LoanStatus & ClosedDate & BorrowerAPR & BorrowerRate & LenderYield & ... & LP\\_ServiceFees & LP\\_CollectionFees & LP\\_GrossPrincipalLoss & LP\\_NetPrincipalLoss & LP\\_NonPrincipalRecoverypayments & PercentFunded & Recommendations & InvestmentFromFriendsCount & InvestmentFromFriendsAmount & Investors\\\\\n",
       "\\hline\n",
       "\t 089C348555489823736377D       & 460749                        & 2010-05-30 18:37:24.953000000 &                               & 36                            & Chargedoff                    & 2013-01-11 00:00:00           & 0.24807                       & 0.2100                        & 0.2000                        & ...                           &  -15.46                       &  0.00                         &  383.08                       &  383.08                       & 0                             & 1                             & 0                             & 0                             &    0.00                       &  31                          \\\\\n",
       "\t 32543499181220496DBB555       & 483095                        & 2010-11-05 14:46:00.163000000 &                               & 36                            & Completed                     & 2011-04-21 00:00:00           & 0.36783                       & 0.3269                        & 0.3169                        & ...                           &   -5.91                       &  0.00                         &    0.00                       &    0.00                       & 0                             & 1                             & 0                             & 1                             & 1058.77                       &  27                          \\\\\n",
       "\t 4685347195009875809A70E       & 440607                        & 2010-01-01 14:46:53.843000000 &                               & 36                            & Completed                     & 2011-02-28 00:00:00           & 0.22491                       & 0.2000                        & 0.1900                        & ...                           &  -14.35                       &  0.00                         &    0.00                       &    0.00                       & 0                             & 1                             & 0                             & 0                             &    0.00                       &  75                          \\\\\n",
       "\t 6DD034810270651087DFB9F       & 452658                        & 2010-04-05 09:10:40.280000000 &                               & 36                            & Completed                     & 2011-04-29 00:00:00           & 0.36336                       & 0.3390                        & 0.3290                        & ...                           &  -13.30                       &  0.00                         &    0.00                       &    0.00                       & 0                             & 1                             & 0                             & 1                             &  100.00                       &  60                          \\\\\n",
       "\t 0B5C34738042854656430E6       & 441714                        & 2010-01-08 13:39:38.123000000 &                               & 36                            & Chargedoff                    & 2012-01-22 00:00:00           & 0.37453                       & 0.3500                        & 0.3400                        & ...                           &  -24.48                       & -5.95                         & 1170.57                       & 1170.57                       & 0                             & 1                             & 0                             & 0                             &    0.00                       &  24                          \\\\\n",
       "\t 421F3494976253733186DF9       & 477067                        & 2010-09-25 12:10:55.217000000 &                               & 36                            & Chargedoff                    & 2011-05-10 00:00:00           & 0.38620                       & 0.3490                        & 0.3390                        & ...                           &  -12.44                       &  0.00                         & 7256.40                       & 7256.40                       & 0                             & 1                             & 0                             & 0                             &    0.00                       &  61                          \\\\\n",
       "\t 9E5E3498204991686FFFDC9       & 481925                        & 2010-10-28 10:18:14.733000000 &                               & 36                            & Completed                     & 2011-05-13 00:00:00           & 0.34631                       & 0.3100                        & 0.3000                        & ...                           &  -31.49                       &  0.00                         &    0.00                       &    0.00                       & 0                             & 1                             & 0                             & 0                             &    0.00                       &  75                          \\\\\n",
       "\t 06C634936764915582779CD       & 474698                        & 2010-09-07 07:57:07.080000000 &                               & 36                            & Chargedoff                    & 2013-05-18 00:00:00           & 0.37699                       & 0.3400                        & 0.3300                        & ...                           & -123.99                       &  0.00                         & 2684.45                       & 2684.45                       & 0                             & 1                             & 0                             & 0                             &    0.00                       &  37                          \\\\\n",
       "\t 0F393487035940130A9724B       & 463090                        & 2010-06-18 09:24:37.347000000 &                               & 36                            & Completed                     & 2011-02-18 00:00:00           & 0.33281                       & 0.3089                        & 0.2989                        & ...                           &  -35.39                       &  0.00                         &    0.00                       &    0.00                       & 0                             & 1                             & 1                             & 1                             &   25.00                       & 169                          \\\\\n",
       "\t 3AA83459022108282F14863       & 416980                        & 2009-07-17 13:57:20.620000000 &                               & 36                            & Completed                     & 2012-05-23 00:00:00           & 0.37453                       & 0.3500                        & 0.3400                        & ...                           &  -24.61                       &  0.00                         &    0.00                       &    0.00                       & 0                             & 1                             & 0                             & 0                             &    0.00                       &   1                          \\\\\n",
       "\t 951734715607690434676F3       & 439186                        & 2009-12-19 16:52:50.200000000 &                               & 36                            & Completed                     & 2012-12-31 00:00:00           & 0.36438                       & 0.3400                        & 0.3300                        & ...                           &  -50.40                       &  0.00                         &    0.00                       &    0.00                       & 0                             & 1                             & 0                             & 0                             &    0.00                       &  68                          \\\\\n",
       "\t 30E73477967521420B48181       & 450235                        & 2010-03-12 11:18:17.957000000 &                               & 36                            & Completed                     & 2013-02-27 00:00:00           & 0.20260                       & 0.1805                        & 0.1705                        & ...                           & -117.21                       &  0.00                         &    0.00                       &    0.00                       & 0                             & 1                             & 0                             & 0                             &    0.00                       &   3                          \\\\\n",
       "\t 9D9C34645778963111B6064       & 427428                        & 2009-10-08 10:53:36.003000000 &                               & 36                            & Chargedoff                    & 2010-11-18 00:00:00           & 0.20735                       & 0.1827                        & 0.1727                        & ...                           &   -9.61                       &  0.00                         & 1329.99                       & 1312.56                       & 0                             & 1                             & 0                             & 0                             &    0.00                       &   1                          \\\\\n",
       "\t 009B3495741061236C0C927       & 477848                        & 2010-09-30 16:29:48.017000000 &                               & 36                            & Completed                     & 2013-10-14 00:00:00           & 0.38723                       & 0.3500                        & 0.3400                        & ...                           & -106.13                       &  0.00                         &    0.00                       &    0.00                       & 0                             & 1                             & 0                             & 0                             &    0.00                       &  80                          \\\\\n",
       "\t 2F973490896224270661A5B       & 468917                        & 2010-07-28 11:38:29.650000000 &                               & 36                            & Completed                     & 2012-04-07 00:00:00           & 0.38109                       & 0.3440                        & 0.3340                        & ...                           &  -31.10                       &  0.00                         &    0.00                       &    0.00                       & 0                             & 1                             & 0                             & 0                             &    0.00                       &  51                          \\\\\n",
       "\t ED6334997080608798C4AAC       & 483031                        & 2010-11-05 11:34:27.367000000 &                               & 36                            & Completed                     & 2011-03-29 00:00:00           & 0.26822                       & 0.2100                        & 0.2000                        & ...                           &   -2.90                       &  0.00                         &    0.00                       &    0.00                       & 0                             & 1                             & 0                             & 0                             &    0.00                       &  61                          \\\\\n",
       "\t 0A493500724918931BC92AD       & 485927                        & 2010-11-28 10:26:41.450000000 &                               & 36                            & Completed                     & 2013-12-07 00:00:00           & 0.34631                       & 0.3100                        & 0.3000                        & ...                           &  -53.09                       &  0.00                         &    0.00                       &    0.00                       & 0                             & 1                             & 1                             & 0                             &    0.00                       &  77                          \\\\\n",
       "\t 2DD734790047377761A273F       & 448926                        & 2010-03-05 12:00:35.537000000 &                               & 36                            & Completed                     & 2012-07-13 00:00:00           & 0.33393                       & 0.3100                        & 0.3000                        & ...                           &  -65.89                       &  0.00                         &    0.00                       &    0.00                       & 0                             & 1                             & 0                             & 0                             &    0.00                       &  90                          \\\\\n",
       "\t 2D9B34605941550368990B6       & 421817                        & 2009-08-24 09:34:05.760000000 &                               & 36                            & Chargedoff                    & 2013-01-02 00:00:00           & 0.37453                       & 0.3500                        & 0.3400                        & ...                           &  -30.67                       &  0.00                         &  126.98                       &  126.98                       & 0                             & 1                             & 0                             & 0                             &    0.00                       &  30                          \\\\\n",
       "\t 5B283501148182785E410F3       & 484999                        & 2010-11-18 12:03:18.170000000 &                               & 36                            & Completed                     & 2013-11-30 00:00:00           & 0.36646                       & 0.3297                        & 0.3197                        & ...                           &  -32.02                       &  0.00                         &    0.00                       &    0.00                       & 0                             & 1                             & 0                             & 0                             &    0.00                       &  51                          \\\\\n",
       "\t E66E3466420453669FA5E20       & 431508                        & 2009-11-02 18:51:50.857000000 &                               & 36                            & Chargedoff                    & 2010-10-10 00:00:00           & 0.37453                       & 0.3500                        & 0.3400                        & ...                           &  -13.15                       &  0.00                         & 3287.79                       & 3272.80                       & 0                             & 1                             & 0                             & 0                             &    0.00                       &   1                          \\\\\n",
       "\t A84234919972024700E788D       & 469907                        & 2010-08-03 18:26:38.910000000 &                               & 36                            & Completed                     & 2011-12-20 00:00:00           & 0.21291                       & 0.1794                        & 0.1694                        & ...                           &  -28.18                       &  0.00                         &    0.00                       &    0.00                       & 0                             & 1                             & 1                             & 2                             & 1774.42                       &  53                          \\\\\n",
       "\t 16ED3472868394333E87B22       & 442499                        & 2010-01-14 09:37:49.377000000 &                               & 36                            & Completed                     & 2013-01-19 00:00:00           & 0.11155                       & 0.0906                        & 0.0806                        & ...                           & -162.60                       &  0.00                         &    0.00                       &    0.00                       & 0                             & 1                             & 0                             & 0                             &    0.00                       &   1                          \\\\\n",
       "\t 16B23499408173940883262       & 485266                        & 2010-11-21 05:38:54.950000000 &                               & 36                            & Completed                     & 2013-11-30 00:00:00           & 0.38723                       & 0.3500                        & 0.3400                        & ...                           &  -46.76                       &  0.00                         &    0.00                       &    0.00                       & 0                             & 1                             & 1                             & 1                             &   25.00                       &  38                          \\\\\n",
       "\t B1E63500679848022856766       & 486405                        & 2010-12-01 19:11:37.317000000 &                               & 36                            & Completed                     & 2013-04-11 00:00:00           & 0.38723                       & 0.3500                        & 0.3400                        & ...                           &  -61.97                       &  0.00                         &    0.00                       &    0.00                       & 0                             & 1                             & 0                             & 0                             &    0.00                       &  33                          \\\\\n",
       "\t 9A4E3492821389543047631       & 473029                        & 2010-08-24 19:07:26.757000000 &                               & 36                            & Completed                     & 2011-03-22 00:00:00           & 0.41355                       & 0.3500                        & 0.3400                        & ...                           &   -5.15                       &  0.00                         &    0.00                       &    0.00                       & 0                             & 1                             & 0                             & 0                             &    0.00                       &  22                          \\\\\n",
       "\t A97F34930346098313445C1       & 474439                        & 2010-09-04 08:15:17.333000000 &                               & 36                            & Completed                     & 2012-01-30 00:00:00           & 0.14360                       & 0.0895                        & 0.0795                        & ...                           &   -4.89                       &  0.00                         &    0.00                       &    0.00                       & 0                             & 1                             & 0                             & 0                             &    0.00                       &  73                          \\\\\n",
       "\t 9E7A3492907493044A627C2       & 471571                        & 2010-08-15 13:52:55.137000000 &                               & 36                            & Completed                     & 2013-08-24 00:00:00           & 0.26302                       & 0.2285                        & 0.2185                        & ...                           &  -34.24                       &  0.00                         &    0.00                       &    0.00                       & 0                             & 1                             & 0                             & 0                             &    0.00                       & 144                          \\\\\n",
       "\t BAC4350200668046339B539       & 486562                        & 2010-12-02 12:56:27.757000000 &                               & 36                            & Completed                     & 2013-02-05 00:00:00           & 0.41355                       & 0.3500                        & 0.3400                        & ...                           &  -16.14                       &  0.00                         &    0.00                       &    0.00                       & 0                             & 1                             & 0                             & 0                             &    0.00                       &  20                          \\\\\n",
       "\t 029A3499706893097DB1393       & 482554                        & 2010-11-02 11:04:47.190000000 &                               & 36                            & Completed                     & 2013-11-17 00:00:00           & 0.38723                       & 0.3500                        & 0.3400                        & ...                           &  -36.28                       &  0.00                         &    0.00                       &    0.00                       & 0                             & 1                             & 0                             & 0                             &    0.00                       &  36                          \\\\\n",
       "\t ... & ... & ... & ... & ... & ... & ... & ... & ... & ... &     & ... & ... & ... & ... & ... & ... & ... & ... & ... & ...\\\\\n",
       "\t EA203466661740046532855       & 432093                        & 2009-11-06 14:49:19.267000000 &                               & 36                            & Chargedoff                    & 2010-06-13 00:00:00           & 0.22237                       & 0.2000                        & 0.1900                        & ...                           &   -9.00                       &   0.00                        & 4576.98                       & 4576.97                       &   0                           & 1                             & 0                             & 0                             &    0.00                       &   1                          \\\\\n",
       "\t 87793468051018224ED5E2C       & 432323                        & 2009-11-07 17:05:14.507000000 &                               & 36                            & Completed                     & 2012-04-06 00:00:00           & 0.20504                       & 0.1829                        & 0.1729                        & ...                           &  -39.61                       &   0.00                        &    0.00                       &    0.00                       &   0                           & 1                             & 0                             & 0                             &    0.00                       &   4                          \\\\\n",
       "\t 6FC834823486444499C7547       & 456105                        & 2010-04-28 08:36:36.637000000 &                               & 36                            & Chargedoff                    & 2012-05-12 00:00:00           & 0.37453                       & 0.3500                        & 0.3400                        & ...                           &  -50.58                       & -77.01                        & 2513.24                       & 2513.24                       & 136                           & 1                             & 0                             & 0                             &    0.00                       &  38                          \\\\\n",
       "\t 4937346216847197452FB8A       & 423755                        & 2009-09-09 15:58:48.523000000 &                               & 36                            & Completed                     & 2012-06-05 00:00:00           & 0.21223                       & 0.1900                        & 0.1800                        & ...                           &  -39.49                       &   0.00                        &    0.00                       &    0.00                       &   0                           & 1                             & 0                             & 0                             &    0.00                       &   1                          \\\\\n",
       "\t C15F348278626944169A872       & 458169                        & 2010-05-13 06:49:09.163000000 &                               & 36                            & Completed                     & 2013-05-18 00:00:00           & 0.21476                       & 0.1900                        & 0.1800                        & ...                           &  -25.31                       &   0.00                        &    0.00                       &    0.00                       &   0                           & 1                             & 0                             & 0                             &    0.00                       &  12                          \\\\\n",
       "\t 789F350210398763651BA91       & 485962                        & 2010-11-28 19:45:12.420000000 &                               & 36                            & Completed                     & 2013-12-13 00:00:00           & 0.32005                       & 0.2600                        & 0.2500                        & ...                           &  -17.37                       &   0.00                        &    0.00                       &    0.00                       &   0                           & 1                             & 1                             & 2                             &   55.00                       &  31                          \\\\\n",
       "\t DF90346174340002351C1F4       & 422477                        & 2009-08-30 07:49:07.147000000 &                               & 36                            & Completed                     & 2012-09-09 00:00:00           & 0.20695                       & 0.1823                        & 0.1723                        & ...                           &  -25.13                       &   0.00                        &    0.00                       &    0.00                       &   0                           & 1                             & 0                             & 0                             &    0.00                       &   3                          \\\\\n",
       "\t 269235009277038600A8F41       & 486901                        & 2010-12-06 09:50:28.423000000 &                               & 36                            & Completed                     & 2013-01-07 00:00:00           & 0.39821                       & 0.3500                        & 0.3400                        & ...                           &  -16.10                       &   0.00                        &    0.00                       &    0.00                       &   0                           & 1                             & 0                             & 0                             &    0.00                       &  28                          \\\\\n",
       "\t A57234935967547991ACEA8       & 474384                        & 2010-09-03 15:50:11.600000000 &                               & 36                            & Chargedoff                    & 2013-06-24 00:00:00           & 0.38723                       & 0.3500                        & 0.3400                        & ...                           &  -39.46                       &   0.00                        &  829.70                       &  829.70                       &   0                           & 1                             & 0                             & 0                             &    0.00                       &  42                          \\\\\n",
       "\t 4B5A34808530538374A1D66       & 454760                        & 2010-04-17 07:44:16.297000000 &                               & 36                            & Completed                     & 2012-02-27 00:00:00           & 0.22522                       & 0.2003                        & 0.1903                        & ...                           &  -20.43                       &   0.00                        &    0.00                       &    0.00                       &   0                           & 1                             & 0                             & 0                             &    0.00                       &  48                          \\\\\n",
       "\t DB453501219046087835C54       & 486316                        & 2010-11-30 18:19:18.730000000 &                               & 36                            & Completed                     & 2011-04-22 00:00:00           & 0.39153                       & 0.3500                        & 0.3400                        & ...                           &   -5.41                       &   0.00                        &    0.00                       &    0.00                       &   0                           & 1                             & 0                             & 0                             &    0.00                       &  29                          \\\\\n",
       "\t A91D34785676125336640F0       & 450451                        & 2010-03-14 20:03:02.273000000 &                               & 36                            & Completed                     & 2011-03-25 00:00:00           & 0.37443                       & 0.3499                        & 0.3399                        & ...                           &  -58.20                       &   0.00                        &    0.00                       &    0.00                       &   0                           & 1                             & 0                             & 0                             &    0.00                       &  81                          \\\\\n",
       "\t F5D73489855329001299FF4       & 469312                        & 2010-07-30 08:47:21.447000000 &                               & 36                            & Completed                     & 2013-08-11 00:00:00           & 0.08999                       & 0.0693                        & 0.0593                        & ...                           & -127.58                       &   0.00                        &    0.00                       &    0.00                       &   0                           & 1                             & 0                             & 1                             & 4000.00                       &   2                          \\\\\n",
       "\t E7A63484022509283D51CD4       & 460192                        & 2010-05-27 02:12:13.103000000 &                               & 36                            & Completed                     & 2011-03-03 00:00:00           & 0.37453                       & 0.3500                        & 0.3400                        & ...                           &  -44.99                       &   0.00                        &    0.00                       &    0.00                       &   0                           & 1                             & 0                             & 0                             &    0.00                       &  43                          \\\\\n",
       "\t EA623467677786916EBA487       & 430588                        & 2009-10-27 13:34:06.360000000 &                               & 36                            & Completed                     & 2012-08-31 00:00:00           & 0.18133                       & 0.1595                        & 0.1495                        & ...                           &  -32.95                       &   0.00                        &    0.00                       &    0.00                       &   0                           & 1                             & 0                             & 0                             &    0.00                       &  14                          \\\\\n",
       "\t CC393491765818171671DB7       & 469869                        & 2010-08-03 19:12:11.047000000 &                               & 36                            & Chargedoff                    & 2011-11-15 00:00:00           & 0.38723                       & 0.3500                        & 0.3400                        & ...                           &  -57.59                       &   0.00                        & 6123.56                       & 6123.56                       &   0                           & 1                             & 1                             & 1                             & 1748.66                       &  20                          \\\\\n",
       "\t B61D3495731427761944829       & 477092                        & 2010-09-25 12:48:31.330000000 &                               & 36                            & Completed                     & 2013-11-19 00:00:00           & 0.30031                       & 0.2650                        & 0.2550                        & ...                           & -106.26                       & -80.31                        &    0.00                       &    0.00                       &   0                           & 1                             & 1                             & 0                             &    0.00                       &  82                          \\\\\n",
       "\t 121E34965887476537FE189       & 480718                        & 2010-10-20 06:31:26.270000000 &                               & 36                            & Completed                     & 2013-07-09 00:00:00           & 0.21352                       & 0.1800                        & 0.1700                        & ...                           &  -52.12                       &   0.00                        &    0.00                       &    0.00                       &   0                           & 1                             & 0                             & 0                             &    0.00                       &  63                          \\\\\n",
       "\t B3EE3502272243880283B16       & 487169                        & 2010-12-08 09:07:06.530000000 &                               & 36                            & Completed                     & 2013-02-08 00:00:00           & 0.38127                       & 0.3400                        & 0.3300                        & ...                           &  -23.67                       &   0.00                        &    0.00                       &    0.00                       &   0                           & 1                             & 0                             & 0                             &    0.00                       &  20                          \\\\\n",
       "\t 73AA346937387942113D189       & 433566                        & 2009-11-16 08:17:56.767000000 &                               & 36                            & Completed                     & 2010-01-11 00:00:00           & 0.22237                       & 0.2000                        & 0.1900                        & ...                           &  -14.66                       &   0.00                        &    0.00                       &    0.00                       &   0                           & 1                             & 0                             & 0                             &    0.00                       &   1                          \\\\\n",
       "\t F6E13478114370526251C1C       & 450345                        & 2010-03-15 06:43:55.170000000 &                               & 36                            & Completed                     & 2010-10-15 00:00:00           & 0.37453                       & 0.3500                        & 0.3400                        & ...                           &  -26.51                       &   0.00                        &    0.00                       &    0.00                       &   0                           & 1                             & 0                             & 0                             &    0.00                       &  48                          \\\\\n",
       "\t 24263477605508875B1445A       & 448509                        & 2010-03-02 11:44:36.243000000 &                               & 36                            & Completed                     & 2013-01-08 00:00:00           & 0.23784                       & 0.2000                        & 0.1900                        & ...                           &  -16.76                       &   0.00                        &    0.00                       &    0.00                       &   0                           & 1                             & 0                             & 0                             &    0.00                       &  71                          \\\\\n",
       "\t E83C3488674044403859127       & 467035                        & 2010-07-17 05:21:48.957000000 &                               & 36                            & Completed                     & 2013-02-14 00:00:00           & 0.37453                       & 0.3500                        & 0.3400                        & ...                           & -143.57                       &   0.00                        &    0.00                       &    0.00                       &   0                           & 1                             & 1                             & 1                             &  200.08                       &  32                          \\\\\n",
       "\t 297D347700685376134183D       & 447504                        & 2010-02-22 10:50:18.203000000 &                               & 36                            & Completed                     & 2013-02-19 00:00:00           & 0.20918                       & 0.1845                        & 0.1745                        & ...                           &  -25.16                       &   0.00                        &    0.00                       &    0.00                       &   0                           & 1                             & 0                             & 0                             &    0.00                       &  21                          \\\\\n",
       "\t D99F34974391116263A9EB0       & 480631                        & 2010-10-19 15:51:36.043000000 &                               & 36                            & Completed                     & 2013-11-08 00:00:00           & 0.35701                       & 0.3100                        & 0.3000                        & ...                           &  -22.98                       &   0.00                        &    0.00                       &    0.00                       &   0                           & 1                             & 0                             & 0                             &    0.00                       &  33                          \\\\\n",
       "\t CABD3496593465083DED371       & 480503                        & 2010-10-19 13:38:35.113000000 &                               & 36                            & Completed                     & 2011-02-24 00:00:00           & 0.17066                       & 0.1157                        & 0.1057                        & ...                           &   -0.78                       &   0.00                        &    0.00                       &    0.00                       &   0                           & 1                             & 0                             & 0                             &    0.00                       &  12                          \\\\\n",
       "\t F09F34610643095230CB3CC       & 422675                        & 2009-09-01 09:19:16.690000000 &                               & 36                            & Completed                     & 2009-12-08 00:00:00           & 0.20392                       & 0.1818                        & 0.1718                        & ...                           &   -6.43                       &   0.00                        &    0.00                       &    0.00                       &   0                           & 1                             & 0                             & 0                             &    0.00                       &   8                          \\\\\n",
       "\t C2493464219717831D1AE7D       & 426289                        & 2009-09-29 12:46:07.890000000 &                               & 36                            & Completed                     & 2010-02-02 00:00:00           & 0.37453                       & 0.3500                        & 0.3400                        & ...                           &  -17.38                       &   0.00                        &    0.00                       &    0.00                       &   0                           & 1                             & 0                             & 0                             &    0.00                       &   1                          \\\\\n",
       "\t FFDA34977230634045B6DD9       & 479483                        & 2010-10-12 18:21:43.497000000 &                               & 36                            & Completed                     & 2013-01-29 00:00:00           & 0.28498                       & 0.2500                        & 0.2400                        & ...                           &  -45.52                       &   0.00                        &    0.00                       &    0.00                       &   0                           & 1                             & 2                             & 0                             &    0.00                       & 121                          \\\\\n",
       "\t C9563467992330262C23724       & 433774                        & 2009-11-16 19:11:53.663000000 &                               & 36                            & Completed                     & 2010-01-12 00:00:00           & 0.20504                       & 0.1829                        & 0.1729                        & ...                           &   -4.66                       &   0.00                        &    0.00                       &    0.00                       &   0                           & 1                             & 0                             & 0                             &    0.00                       &   1                          \\\\\n",
       "\\end{tabular}\n"
      ],
      "text/markdown": [
       "\n",
       "ListingKey | ListingNumber | ListingCreationDate | CreditGrade | Term | LoanStatus | ClosedDate | BorrowerAPR | BorrowerRate | LenderYield | ... | LP_ServiceFees | LP_CollectionFees | LP_GrossPrincipalLoss | LP_NetPrincipalLoss | LP_NonPrincipalRecoverypayments | PercentFunded | Recommendations | InvestmentFromFriendsCount | InvestmentFromFriendsAmount | Investors | \n",
       "|---|---|---|---|---|---|---|---|---|---|---|---|---|---|---|---|---|---|---|---|---|---|---|---|---|---|---|---|---|---|---|---|---|---|---|---|---|---|---|---|---|---|---|---|---|---|---|---|---|---|---|---|---|---|---|---|---|---|---|---|---|\n",
       "| 089C348555489823736377D       | 460749                        | 2010-05-30 18:37:24.953000000 |                               | 36                            | Chargedoff                    | 2013-01-11 00:00:00           | 0.24807                       | 0.2100                        | 0.2000                        | ...                           |  -15.46                       |  0.00                         |  383.08                       |  383.08                       | 0                             | 1                             | 0                             | 0                             |    0.00                       |  31                           | \n",
       "| 32543499181220496DBB555       | 483095                        | 2010-11-05 14:46:00.163000000 |                               | 36                            | Completed                     | 2011-04-21 00:00:00           | 0.36783                       | 0.3269                        | 0.3169                        | ...                           |   -5.91                       |  0.00                         |    0.00                       |    0.00                       | 0                             | 1                             | 0                             | 1                             | 1058.77                       |  27                           | \n",
       "| 4685347195009875809A70E       | 440607                        | 2010-01-01 14:46:53.843000000 |                               | 36                            | Completed                     | 2011-02-28 00:00:00           | 0.22491                       | 0.2000                        | 0.1900                        | ...                           |  -14.35                       |  0.00                         |    0.00                       |    0.00                       | 0                             | 1                             | 0                             | 0                             |    0.00                       |  75                           | \n",
       "| 6DD034810270651087DFB9F       | 452658                        | 2010-04-05 09:10:40.280000000 |                               | 36                            | Completed                     | 2011-04-29 00:00:00           | 0.36336                       | 0.3390                        | 0.3290                        | ...                           |  -13.30                       |  0.00                         |    0.00                       |    0.00                       | 0                             | 1                             | 0                             | 1                             |  100.00                       |  60                           | \n",
       "| 0B5C34738042854656430E6       | 441714                        | 2010-01-08 13:39:38.123000000 |                               | 36                            | Chargedoff                    | 2012-01-22 00:00:00           | 0.37453                       | 0.3500                        | 0.3400                        | ...                           |  -24.48                       | -5.95                         | 1170.57                       | 1170.57                       | 0                             | 1                             | 0                             | 0                             |    0.00                       |  24                           | \n",
       "| 421F3494976253733186DF9       | 477067                        | 2010-09-25 12:10:55.217000000 |                               | 36                            | Chargedoff                    | 2011-05-10 00:00:00           | 0.38620                       | 0.3490                        | 0.3390                        | ...                           |  -12.44                       |  0.00                         | 7256.40                       | 7256.40                       | 0                             | 1                             | 0                             | 0                             |    0.00                       |  61                           | \n",
       "| 9E5E3498204991686FFFDC9       | 481925                        | 2010-10-28 10:18:14.733000000 |                               | 36                            | Completed                     | 2011-05-13 00:00:00           | 0.34631                       | 0.3100                        | 0.3000                        | ...                           |  -31.49                       |  0.00                         |    0.00                       |    0.00                       | 0                             | 1                             | 0                             | 0                             |    0.00                       |  75                           | \n",
       "| 06C634936764915582779CD       | 474698                        | 2010-09-07 07:57:07.080000000 |                               | 36                            | Chargedoff                    | 2013-05-18 00:00:00           | 0.37699                       | 0.3400                        | 0.3300                        | ...                           | -123.99                       |  0.00                         | 2684.45                       | 2684.45                       | 0                             | 1                             | 0                             | 0                             |    0.00                       |  37                           | \n",
       "| 0F393487035940130A9724B       | 463090                        | 2010-06-18 09:24:37.347000000 |                               | 36                            | Completed                     | 2011-02-18 00:00:00           | 0.33281                       | 0.3089                        | 0.2989                        | ...                           |  -35.39                       |  0.00                         |    0.00                       |    0.00                       | 0                             | 1                             | 1                             | 1                             |   25.00                       | 169                           | \n",
       "| 3AA83459022108282F14863       | 416980                        | 2009-07-17 13:57:20.620000000 |                               | 36                            | Completed                     | 2012-05-23 00:00:00           | 0.37453                       | 0.3500                        | 0.3400                        | ...                           |  -24.61                       |  0.00                         |    0.00                       |    0.00                       | 0                             | 1                             | 0                             | 0                             |    0.00                       |   1                           | \n",
       "| 951734715607690434676F3       | 439186                        | 2009-12-19 16:52:50.200000000 |                               | 36                            | Completed                     | 2012-12-31 00:00:00           | 0.36438                       | 0.3400                        | 0.3300                        | ...                           |  -50.40                       |  0.00                         |    0.00                       |    0.00                       | 0                             | 1                             | 0                             | 0                             |    0.00                       |  68                           | \n",
       "| 30E73477967521420B48181       | 450235                        | 2010-03-12 11:18:17.957000000 |                               | 36                            | Completed                     | 2013-02-27 00:00:00           | 0.20260                       | 0.1805                        | 0.1705                        | ...                           | -117.21                       |  0.00                         |    0.00                       |    0.00                       | 0                             | 1                             | 0                             | 0                             |    0.00                       |   3                           | \n",
       "| 9D9C34645778963111B6064       | 427428                        | 2009-10-08 10:53:36.003000000 |                               | 36                            | Chargedoff                    | 2010-11-18 00:00:00           | 0.20735                       | 0.1827                        | 0.1727                        | ...                           |   -9.61                       |  0.00                         | 1329.99                       | 1312.56                       | 0                             | 1                             | 0                             | 0                             |    0.00                       |   1                           | \n",
       "| 009B3495741061236C0C927       | 477848                        | 2010-09-30 16:29:48.017000000 |                               | 36                            | Completed                     | 2013-10-14 00:00:00           | 0.38723                       | 0.3500                        | 0.3400                        | ...                           | -106.13                       |  0.00                         |    0.00                       |    0.00                       | 0                             | 1                             | 0                             | 0                             |    0.00                       |  80                           | \n",
       "| 2F973490896224270661A5B       | 468917                        | 2010-07-28 11:38:29.650000000 |                               | 36                            | Completed                     | 2012-04-07 00:00:00           | 0.38109                       | 0.3440                        | 0.3340                        | ...                           |  -31.10                       |  0.00                         |    0.00                       |    0.00                       | 0                             | 1                             | 0                             | 0                             |    0.00                       |  51                           | \n",
       "| ED6334997080608798C4AAC       | 483031                        | 2010-11-05 11:34:27.367000000 |                               | 36                            | Completed                     | 2011-03-29 00:00:00           | 0.26822                       | 0.2100                        | 0.2000                        | ...                           |   -2.90                       |  0.00                         |    0.00                       |    0.00                       | 0                             | 1                             | 0                             | 0                             |    0.00                       |  61                           | \n",
       "| 0A493500724918931BC92AD       | 485927                        | 2010-11-28 10:26:41.450000000 |                               | 36                            | Completed                     | 2013-12-07 00:00:00           | 0.34631                       | 0.3100                        | 0.3000                        | ...                           |  -53.09                       |  0.00                         |    0.00                       |    0.00                       | 0                             | 1                             | 1                             | 0                             |    0.00                       |  77                           | \n",
       "| 2DD734790047377761A273F       | 448926                        | 2010-03-05 12:00:35.537000000 |                               | 36                            | Completed                     | 2012-07-13 00:00:00           | 0.33393                       | 0.3100                        | 0.3000                        | ...                           |  -65.89                       |  0.00                         |    0.00                       |    0.00                       | 0                             | 1                             | 0                             | 0                             |    0.00                       |  90                           | \n",
       "| 2D9B34605941550368990B6       | 421817                        | 2009-08-24 09:34:05.760000000 |                               | 36                            | Chargedoff                    | 2013-01-02 00:00:00           | 0.37453                       | 0.3500                        | 0.3400                        | ...                           |  -30.67                       |  0.00                         |  126.98                       |  126.98                       | 0                             | 1                             | 0                             | 0                             |    0.00                       |  30                           | \n",
       "| 5B283501148182785E410F3       | 484999                        | 2010-11-18 12:03:18.170000000 |                               | 36                            | Completed                     | 2013-11-30 00:00:00           | 0.36646                       | 0.3297                        | 0.3197                        | ...                           |  -32.02                       |  0.00                         |    0.00                       |    0.00                       | 0                             | 1                             | 0                             | 0                             |    0.00                       |  51                           | \n",
       "| E66E3466420453669FA5E20       | 431508                        | 2009-11-02 18:51:50.857000000 |                               | 36                            | Chargedoff                    | 2010-10-10 00:00:00           | 0.37453                       | 0.3500                        | 0.3400                        | ...                           |  -13.15                       |  0.00                         | 3287.79                       | 3272.80                       | 0                             | 1                             | 0                             | 0                             |    0.00                       |   1                           | \n",
       "| A84234919972024700E788D       | 469907                        | 2010-08-03 18:26:38.910000000 |                               | 36                            | Completed                     | 2011-12-20 00:00:00           | 0.21291                       | 0.1794                        | 0.1694                        | ...                           |  -28.18                       |  0.00                         |    0.00                       |    0.00                       | 0                             | 1                             | 1                             | 2                             | 1774.42                       |  53                           | \n",
       "| 16ED3472868394333E87B22       | 442499                        | 2010-01-14 09:37:49.377000000 |                               | 36                            | Completed                     | 2013-01-19 00:00:00           | 0.11155                       | 0.0906                        | 0.0806                        | ...                           | -162.60                       |  0.00                         |    0.00                       |    0.00                       | 0                             | 1                             | 0                             | 0                             |    0.00                       |   1                           | \n",
       "| 16B23499408173940883262       | 485266                        | 2010-11-21 05:38:54.950000000 |                               | 36                            | Completed                     | 2013-11-30 00:00:00           | 0.38723                       | 0.3500                        | 0.3400                        | ...                           |  -46.76                       |  0.00                         |    0.00                       |    0.00                       | 0                             | 1                             | 1                             | 1                             |   25.00                       |  38                           | \n",
       "| B1E63500679848022856766       | 486405                        | 2010-12-01 19:11:37.317000000 |                               | 36                            | Completed                     | 2013-04-11 00:00:00           | 0.38723                       | 0.3500                        | 0.3400                        | ...                           |  -61.97                       |  0.00                         |    0.00                       |    0.00                       | 0                             | 1                             | 0                             | 0                             |    0.00                       |  33                           | \n",
       "| 9A4E3492821389543047631       | 473029                        | 2010-08-24 19:07:26.757000000 |                               | 36                            | Completed                     | 2011-03-22 00:00:00           | 0.41355                       | 0.3500                        | 0.3400                        | ...                           |   -5.15                       |  0.00                         |    0.00                       |    0.00                       | 0                             | 1                             | 0                             | 0                             |    0.00                       |  22                           | \n",
       "| A97F34930346098313445C1       | 474439                        | 2010-09-04 08:15:17.333000000 |                               | 36                            | Completed                     | 2012-01-30 00:00:00           | 0.14360                       | 0.0895                        | 0.0795                        | ...                           |   -4.89                       |  0.00                         |    0.00                       |    0.00                       | 0                             | 1                             | 0                             | 0                             |    0.00                       |  73                           | \n",
       "| 9E7A3492907493044A627C2       | 471571                        | 2010-08-15 13:52:55.137000000 |                               | 36                            | Completed                     | 2013-08-24 00:00:00           | 0.26302                       | 0.2285                        | 0.2185                        | ...                           |  -34.24                       |  0.00                         |    0.00                       |    0.00                       | 0                             | 1                             | 0                             | 0                             |    0.00                       | 144                           | \n",
       "| BAC4350200668046339B539       | 486562                        | 2010-12-02 12:56:27.757000000 |                               | 36                            | Completed                     | 2013-02-05 00:00:00           | 0.41355                       | 0.3500                        | 0.3400                        | ...                           |  -16.14                       |  0.00                         |    0.00                       |    0.00                       | 0                             | 1                             | 0                             | 0                             |    0.00                       |  20                           | \n",
       "| 029A3499706893097DB1393       | 482554                        | 2010-11-02 11:04:47.190000000 |                               | 36                            | Completed                     | 2013-11-17 00:00:00           | 0.38723                       | 0.3500                        | 0.3400                        | ...                           |  -36.28                       |  0.00                         |    0.00                       |    0.00                       | 0                             | 1                             | 0                             | 0                             |    0.00                       |  36                           | \n",
       "| ... | ... | ... | ... | ... | ... | ... | ... | ... | ... |     | ... | ... | ... | ... | ... | ... | ... | ... | ... | ... | \n",
       "| EA203466661740046532855       | 432093                        | 2009-11-06 14:49:19.267000000 |                               | 36                            | Chargedoff                    | 2010-06-13 00:00:00           | 0.22237                       | 0.2000                        | 0.1900                        | ...                           |   -9.00                       |   0.00                        | 4576.98                       | 4576.97                       |   0                           | 1                             | 0                             | 0                             |    0.00                       |   1                           | \n",
       "| 87793468051018224ED5E2C       | 432323                        | 2009-11-07 17:05:14.507000000 |                               | 36                            | Completed                     | 2012-04-06 00:00:00           | 0.20504                       | 0.1829                        | 0.1729                        | ...                           |  -39.61                       |   0.00                        |    0.00                       |    0.00                       |   0                           | 1                             | 0                             | 0                             |    0.00                       |   4                           | \n",
       "| 6FC834823486444499C7547       | 456105                        | 2010-04-28 08:36:36.637000000 |                               | 36                            | Chargedoff                    | 2012-05-12 00:00:00           | 0.37453                       | 0.3500                        | 0.3400                        | ...                           |  -50.58                       | -77.01                        | 2513.24                       | 2513.24                       | 136                           | 1                             | 0                             | 0                             |    0.00                       |  38                           | \n",
       "| 4937346216847197452FB8A       | 423755                        | 2009-09-09 15:58:48.523000000 |                               | 36                            | Completed                     | 2012-06-05 00:00:00           | 0.21223                       | 0.1900                        | 0.1800                        | ...                           |  -39.49                       |   0.00                        |    0.00                       |    0.00                       |   0                           | 1                             | 0                             | 0                             |    0.00                       |   1                           | \n",
       "| C15F348278626944169A872       | 458169                        | 2010-05-13 06:49:09.163000000 |                               | 36                            | Completed                     | 2013-05-18 00:00:00           | 0.21476                       | 0.1900                        | 0.1800                        | ...                           |  -25.31                       |   0.00                        |    0.00                       |    0.00                       |   0                           | 1                             | 0                             | 0                             |    0.00                       |  12                           | \n",
       "| 789F350210398763651BA91       | 485962                        | 2010-11-28 19:45:12.420000000 |                               | 36                            | Completed                     | 2013-12-13 00:00:00           | 0.32005                       | 0.2600                        | 0.2500                        | ...                           |  -17.37                       |   0.00                        |    0.00                       |    0.00                       |   0                           | 1                             | 1                             | 2                             |   55.00                       |  31                           | \n",
       "| DF90346174340002351C1F4       | 422477                        | 2009-08-30 07:49:07.147000000 |                               | 36                            | Completed                     | 2012-09-09 00:00:00           | 0.20695                       | 0.1823                        | 0.1723                        | ...                           |  -25.13                       |   0.00                        |    0.00                       |    0.00                       |   0                           | 1                             | 0                             | 0                             |    0.00                       |   3                           | \n",
       "| 269235009277038600A8F41       | 486901                        | 2010-12-06 09:50:28.423000000 |                               | 36                            | Completed                     | 2013-01-07 00:00:00           | 0.39821                       | 0.3500                        | 0.3400                        | ...                           |  -16.10                       |   0.00                        |    0.00                       |    0.00                       |   0                           | 1                             | 0                             | 0                             |    0.00                       |  28                           | \n",
       "| A57234935967547991ACEA8       | 474384                        | 2010-09-03 15:50:11.600000000 |                               | 36                            | Chargedoff                    | 2013-06-24 00:00:00           | 0.38723                       | 0.3500                        | 0.3400                        | ...                           |  -39.46                       |   0.00                        |  829.70                       |  829.70                       |   0                           | 1                             | 0                             | 0                             |    0.00                       |  42                           | \n",
       "| 4B5A34808530538374A1D66       | 454760                        | 2010-04-17 07:44:16.297000000 |                               | 36                            | Completed                     | 2012-02-27 00:00:00           | 0.22522                       | 0.2003                        | 0.1903                        | ...                           |  -20.43                       |   0.00                        |    0.00                       |    0.00                       |   0                           | 1                             | 0                             | 0                             |    0.00                       |  48                           | \n",
       "| DB453501219046087835C54       | 486316                        | 2010-11-30 18:19:18.730000000 |                               | 36                            | Completed                     | 2011-04-22 00:00:00           | 0.39153                       | 0.3500                        | 0.3400                        | ...                           |   -5.41                       |   0.00                        |    0.00                       |    0.00                       |   0                           | 1                             | 0                             | 0                             |    0.00                       |  29                           | \n",
       "| A91D34785676125336640F0       | 450451                        | 2010-03-14 20:03:02.273000000 |                               | 36                            | Completed                     | 2011-03-25 00:00:00           | 0.37443                       | 0.3499                        | 0.3399                        | ...                           |  -58.20                       |   0.00                        |    0.00                       |    0.00                       |   0                           | 1                             | 0                             | 0                             |    0.00                       |  81                           | \n",
       "| F5D73489855329001299FF4       | 469312                        | 2010-07-30 08:47:21.447000000 |                               | 36                            | Completed                     | 2013-08-11 00:00:00           | 0.08999                       | 0.0693                        | 0.0593                        | ...                           | -127.58                       |   0.00                        |    0.00                       |    0.00                       |   0                           | 1                             | 0                             | 1                             | 4000.00                       |   2                           | \n",
       "| E7A63484022509283D51CD4       | 460192                        | 2010-05-27 02:12:13.103000000 |                               | 36                            | Completed                     | 2011-03-03 00:00:00           | 0.37453                       | 0.3500                        | 0.3400                        | ...                           |  -44.99                       |   0.00                        |    0.00                       |    0.00                       |   0                           | 1                             | 0                             | 0                             |    0.00                       |  43                           | \n",
       "| EA623467677786916EBA487       | 430588                        | 2009-10-27 13:34:06.360000000 |                               | 36                            | Completed                     | 2012-08-31 00:00:00           | 0.18133                       | 0.1595                        | 0.1495                        | ...                           |  -32.95                       |   0.00                        |    0.00                       |    0.00                       |   0                           | 1                             | 0                             | 0                             |    0.00                       |  14                           | \n",
       "| CC393491765818171671DB7       | 469869                        | 2010-08-03 19:12:11.047000000 |                               | 36                            | Chargedoff                    | 2011-11-15 00:00:00           | 0.38723                       | 0.3500                        | 0.3400                        | ...                           |  -57.59                       |   0.00                        | 6123.56                       | 6123.56                       |   0                           | 1                             | 1                             | 1                             | 1748.66                       |  20                           | \n",
       "| B61D3495731427761944829       | 477092                        | 2010-09-25 12:48:31.330000000 |                               | 36                            | Completed                     | 2013-11-19 00:00:00           | 0.30031                       | 0.2650                        | 0.2550                        | ...                           | -106.26                       | -80.31                        |    0.00                       |    0.00                       |   0                           | 1                             | 1                             | 0                             |    0.00                       |  82                           | \n",
       "| 121E34965887476537FE189       | 480718                        | 2010-10-20 06:31:26.270000000 |                               | 36                            | Completed                     | 2013-07-09 00:00:00           | 0.21352                       | 0.1800                        | 0.1700                        | ...                           |  -52.12                       |   0.00                        |    0.00                       |    0.00                       |   0                           | 1                             | 0                             | 0                             |    0.00                       |  63                           | \n",
       "| B3EE3502272243880283B16       | 487169                        | 2010-12-08 09:07:06.530000000 |                               | 36                            | Completed                     | 2013-02-08 00:00:00           | 0.38127                       | 0.3400                        | 0.3300                        | ...                           |  -23.67                       |   0.00                        |    0.00                       |    0.00                       |   0                           | 1                             | 0                             | 0                             |    0.00                       |  20                           | \n",
       "| 73AA346937387942113D189       | 433566                        | 2009-11-16 08:17:56.767000000 |                               | 36                            | Completed                     | 2010-01-11 00:00:00           | 0.22237                       | 0.2000                        | 0.1900                        | ...                           |  -14.66                       |   0.00                        |    0.00                       |    0.00                       |   0                           | 1                             | 0                             | 0                             |    0.00                       |   1                           | \n",
       "| F6E13478114370526251C1C       | 450345                        | 2010-03-15 06:43:55.170000000 |                               | 36                            | Completed                     | 2010-10-15 00:00:00           | 0.37453                       | 0.3500                        | 0.3400                        | ...                           |  -26.51                       |   0.00                        |    0.00                       |    0.00                       |   0                           | 1                             | 0                             | 0                             |    0.00                       |  48                           | \n",
       "| 24263477605508875B1445A       | 448509                        | 2010-03-02 11:44:36.243000000 |                               | 36                            | Completed                     | 2013-01-08 00:00:00           | 0.23784                       | 0.2000                        | 0.1900                        | ...                           |  -16.76                       |   0.00                        |    0.00                       |    0.00                       |   0                           | 1                             | 0                             | 0                             |    0.00                       |  71                           | \n",
       "| E83C3488674044403859127       | 467035                        | 2010-07-17 05:21:48.957000000 |                               | 36                            | Completed                     | 2013-02-14 00:00:00           | 0.37453                       | 0.3500                        | 0.3400                        | ...                           | -143.57                       |   0.00                        |    0.00                       |    0.00                       |   0                           | 1                             | 1                             | 1                             |  200.08                       |  32                           | \n",
       "| 297D347700685376134183D       | 447504                        | 2010-02-22 10:50:18.203000000 |                               | 36                            | Completed                     | 2013-02-19 00:00:00           | 0.20918                       | 0.1845                        | 0.1745                        | ...                           |  -25.16                       |   0.00                        |    0.00                       |    0.00                       |   0                           | 1                             | 0                             | 0                             |    0.00                       |  21                           | \n",
       "| D99F34974391116263A9EB0       | 480631                        | 2010-10-19 15:51:36.043000000 |                               | 36                            | Completed                     | 2013-11-08 00:00:00           | 0.35701                       | 0.3100                        | 0.3000                        | ...                           |  -22.98                       |   0.00                        |    0.00                       |    0.00                       |   0                           | 1                             | 0                             | 0                             |    0.00                       |  33                           | \n",
       "| CABD3496593465083DED371       | 480503                        | 2010-10-19 13:38:35.113000000 |                               | 36                            | Completed                     | 2011-02-24 00:00:00           | 0.17066                       | 0.1157                        | 0.1057                        | ...                           |   -0.78                       |   0.00                        |    0.00                       |    0.00                       |   0                           | 1                             | 0                             | 0                             |    0.00                       |  12                           | \n",
       "| F09F34610643095230CB3CC       | 422675                        | 2009-09-01 09:19:16.690000000 |                               | 36                            | Completed                     | 2009-12-08 00:00:00           | 0.20392                       | 0.1818                        | 0.1718                        | ...                           |   -6.43                       |   0.00                        |    0.00                       |    0.00                       |   0                           | 1                             | 0                             | 0                             |    0.00                       |   8                           | \n",
       "| C2493464219717831D1AE7D       | 426289                        | 2009-09-29 12:46:07.890000000 |                               | 36                            | Completed                     | 2010-02-02 00:00:00           | 0.37453                       | 0.3500                        | 0.3400                        | ...                           |  -17.38                       |   0.00                        |    0.00                       |    0.00                       |   0                           | 1                             | 0                             | 0                             |    0.00                       |   1                           | \n",
       "| FFDA34977230634045B6DD9       | 479483                        | 2010-10-12 18:21:43.497000000 |                               | 36                            | Completed                     | 2013-01-29 00:00:00           | 0.28498                       | 0.2500                        | 0.2400                        | ...                           |  -45.52                       |   0.00                        |    0.00                       |    0.00                       |   0                           | 1                             | 2                             | 0                             |    0.00                       | 121                           | \n",
       "| C9563467992330262C23724       | 433774                        | 2009-11-16 19:11:53.663000000 |                               | 36                            | Completed                     | 2010-01-12 00:00:00           | 0.20504                       | 0.1829                        | 0.1729                        | ...                           |   -4.66                       |   0.00                        |    0.00                       |    0.00                       |   0                           | 1                             | 0                             | 0                             |    0.00                       |   1                           | \n",
       "\n",
       "\n"
      ],
      "text/plain": [
       "    ListingKey              ListingNumber ListingCreationDate          \n",
       "1   089C348555489823736377D 460749        2010-05-30 18:37:24.953000000\n",
       "2   32543499181220496DBB555 483095        2010-11-05 14:46:00.163000000\n",
       "3   4685347195009875809A70E 440607        2010-01-01 14:46:53.843000000\n",
       "4   6DD034810270651087DFB9F 452658        2010-04-05 09:10:40.280000000\n",
       "5   0B5C34738042854656430E6 441714        2010-01-08 13:39:38.123000000\n",
       "6   421F3494976253733186DF9 477067        2010-09-25 12:10:55.217000000\n",
       "7   9E5E3498204991686FFFDC9 481925        2010-10-28 10:18:14.733000000\n",
       "8   06C634936764915582779CD 474698        2010-09-07 07:57:07.080000000\n",
       "9   0F393487035940130A9724B 463090        2010-06-18 09:24:37.347000000\n",
       "10  3AA83459022108282F14863 416980        2009-07-17 13:57:20.620000000\n",
       "11  951734715607690434676F3 439186        2009-12-19 16:52:50.200000000\n",
       "12  30E73477967521420B48181 450235        2010-03-12 11:18:17.957000000\n",
       "13  9D9C34645778963111B6064 427428        2009-10-08 10:53:36.003000000\n",
       "14  009B3495741061236C0C927 477848        2010-09-30 16:29:48.017000000\n",
       "15  2F973490896224270661A5B 468917        2010-07-28 11:38:29.650000000\n",
       "16  ED6334997080608798C4AAC 483031        2010-11-05 11:34:27.367000000\n",
       "17  0A493500724918931BC92AD 485927        2010-11-28 10:26:41.450000000\n",
       "18  2DD734790047377761A273F 448926        2010-03-05 12:00:35.537000000\n",
       "19  2D9B34605941550368990B6 421817        2009-08-24 09:34:05.760000000\n",
       "20  5B283501148182785E410F3 484999        2010-11-18 12:03:18.170000000\n",
       "21  E66E3466420453669FA5E20 431508        2009-11-02 18:51:50.857000000\n",
       "22  A84234919972024700E788D 469907        2010-08-03 18:26:38.910000000\n",
       "23  16ED3472868394333E87B22 442499        2010-01-14 09:37:49.377000000\n",
       "24  16B23499408173940883262 485266        2010-11-21 05:38:54.950000000\n",
       "25  B1E63500679848022856766 486405        2010-12-01 19:11:37.317000000\n",
       "26  9A4E3492821389543047631 473029        2010-08-24 19:07:26.757000000\n",
       "27  A97F34930346098313445C1 474439        2010-09-04 08:15:17.333000000\n",
       "28  9E7A3492907493044A627C2 471571        2010-08-15 13:52:55.137000000\n",
       "29  BAC4350200668046339B539 486562        2010-12-02 12:56:27.757000000\n",
       "30  029A3499706893097DB1393 482554        2010-11-02 11:04:47.190000000\n",
       "... ...                     ...           ...                          \n",
       "162 EA203466661740046532855 432093        2009-11-06 14:49:19.267000000\n",
       "163 87793468051018224ED5E2C 432323        2009-11-07 17:05:14.507000000\n",
       "164 6FC834823486444499C7547 456105        2010-04-28 08:36:36.637000000\n",
       "165 4937346216847197452FB8A 423755        2009-09-09 15:58:48.523000000\n",
       "166 C15F348278626944169A872 458169        2010-05-13 06:49:09.163000000\n",
       "167 789F350210398763651BA91 485962        2010-11-28 19:45:12.420000000\n",
       "168 DF90346174340002351C1F4 422477        2009-08-30 07:49:07.147000000\n",
       "169 269235009277038600A8F41 486901        2010-12-06 09:50:28.423000000\n",
       "170 A57234935967547991ACEA8 474384        2010-09-03 15:50:11.600000000\n",
       "171 4B5A34808530538374A1D66 454760        2010-04-17 07:44:16.297000000\n",
       "172 DB453501219046087835C54 486316        2010-11-30 18:19:18.730000000\n",
       "173 A91D34785676125336640F0 450451        2010-03-14 20:03:02.273000000\n",
       "174 F5D73489855329001299FF4 469312        2010-07-30 08:47:21.447000000\n",
       "175 E7A63484022509283D51CD4 460192        2010-05-27 02:12:13.103000000\n",
       "176 EA623467677786916EBA487 430588        2009-10-27 13:34:06.360000000\n",
       "177 CC393491765818171671DB7 469869        2010-08-03 19:12:11.047000000\n",
       "178 B61D3495731427761944829 477092        2010-09-25 12:48:31.330000000\n",
       "179 121E34965887476537FE189 480718        2010-10-20 06:31:26.270000000\n",
       "180 B3EE3502272243880283B16 487169        2010-12-08 09:07:06.530000000\n",
       "181 73AA346937387942113D189 433566        2009-11-16 08:17:56.767000000\n",
       "182 F6E13478114370526251C1C 450345        2010-03-15 06:43:55.170000000\n",
       "183 24263477605508875B1445A 448509        2010-03-02 11:44:36.243000000\n",
       "184 E83C3488674044403859127 467035        2010-07-17 05:21:48.957000000\n",
       "185 297D347700685376134183D 447504        2010-02-22 10:50:18.203000000\n",
       "186 D99F34974391116263A9EB0 480631        2010-10-19 15:51:36.043000000\n",
       "187 CABD3496593465083DED371 480503        2010-10-19 13:38:35.113000000\n",
       "188 F09F34610643095230CB3CC 422675        2009-09-01 09:19:16.690000000\n",
       "189 C2493464219717831D1AE7D 426289        2009-09-29 12:46:07.890000000\n",
       "190 FFDA34977230634045B6DD9 479483        2010-10-12 18:21:43.497000000\n",
       "191 C9563467992330262C23724 433774        2009-11-16 19:11:53.663000000\n",
       "    CreditGrade Term LoanStatus ClosedDate          BorrowerAPR BorrowerRate\n",
       "1               36   Chargedoff 2013-01-11 00:00:00 0.24807     0.2100      \n",
       "2               36   Completed  2011-04-21 00:00:00 0.36783     0.3269      \n",
       "3               36   Completed  2011-02-28 00:00:00 0.22491     0.2000      \n",
       "4               36   Completed  2011-04-29 00:00:00 0.36336     0.3390      \n",
       "5               36   Chargedoff 2012-01-22 00:00:00 0.37453     0.3500      \n",
       "6               36   Chargedoff 2011-05-10 00:00:00 0.38620     0.3490      \n",
       "7               36   Completed  2011-05-13 00:00:00 0.34631     0.3100      \n",
       "8               36   Chargedoff 2013-05-18 00:00:00 0.37699     0.3400      \n",
       "9               36   Completed  2011-02-18 00:00:00 0.33281     0.3089      \n",
       "10              36   Completed  2012-05-23 00:00:00 0.37453     0.3500      \n",
       "11              36   Completed  2012-12-31 00:00:00 0.36438     0.3400      \n",
       "12              36   Completed  2013-02-27 00:00:00 0.20260     0.1805      \n",
       "13              36   Chargedoff 2010-11-18 00:00:00 0.20735     0.1827      \n",
       "14              36   Completed  2013-10-14 00:00:00 0.38723     0.3500      \n",
       "15              36   Completed  2012-04-07 00:00:00 0.38109     0.3440      \n",
       "16              36   Completed  2011-03-29 00:00:00 0.26822     0.2100      \n",
       "17              36   Completed  2013-12-07 00:00:00 0.34631     0.3100      \n",
       "18              36   Completed  2012-07-13 00:00:00 0.33393     0.3100      \n",
       "19              36   Chargedoff 2013-01-02 00:00:00 0.37453     0.3500      \n",
       "20              36   Completed  2013-11-30 00:00:00 0.36646     0.3297      \n",
       "21              36   Chargedoff 2010-10-10 00:00:00 0.37453     0.3500      \n",
       "22              36   Completed  2011-12-20 00:00:00 0.21291     0.1794      \n",
       "23              36   Completed  2013-01-19 00:00:00 0.11155     0.0906      \n",
       "24              36   Completed  2013-11-30 00:00:00 0.38723     0.3500      \n",
       "25              36   Completed  2013-04-11 00:00:00 0.38723     0.3500      \n",
       "26              36   Completed  2011-03-22 00:00:00 0.41355     0.3500      \n",
       "27              36   Completed  2012-01-30 00:00:00 0.14360     0.0895      \n",
       "28              36   Completed  2013-08-24 00:00:00 0.26302     0.2285      \n",
       "29              36   Completed  2013-02-05 00:00:00 0.41355     0.3500      \n",
       "30              36   Completed  2013-11-17 00:00:00 0.38723     0.3500      \n",
       "... ...         ...  ...        ...                 ...         ...         \n",
       "162             36   Chargedoff 2010-06-13 00:00:00 0.22237     0.2000      \n",
       "163             36   Completed  2012-04-06 00:00:00 0.20504     0.1829      \n",
       "164             36   Chargedoff 2012-05-12 00:00:00 0.37453     0.3500      \n",
       "165             36   Completed  2012-06-05 00:00:00 0.21223     0.1900      \n",
       "166             36   Completed  2013-05-18 00:00:00 0.21476     0.1900      \n",
       "167             36   Completed  2013-12-13 00:00:00 0.32005     0.2600      \n",
       "168             36   Completed  2012-09-09 00:00:00 0.20695     0.1823      \n",
       "169             36   Completed  2013-01-07 00:00:00 0.39821     0.3500      \n",
       "170             36   Chargedoff 2013-06-24 00:00:00 0.38723     0.3500      \n",
       "171             36   Completed  2012-02-27 00:00:00 0.22522     0.2003      \n",
       "172             36   Completed  2011-04-22 00:00:00 0.39153     0.3500      \n",
       "173             36   Completed  2011-03-25 00:00:00 0.37443     0.3499      \n",
       "174             36   Completed  2013-08-11 00:00:00 0.08999     0.0693      \n",
       "175             36   Completed  2011-03-03 00:00:00 0.37453     0.3500      \n",
       "176             36   Completed  2012-08-31 00:00:00 0.18133     0.1595      \n",
       "177             36   Chargedoff 2011-11-15 00:00:00 0.38723     0.3500      \n",
       "178             36   Completed  2013-11-19 00:00:00 0.30031     0.2650      \n",
       "179             36   Completed  2013-07-09 00:00:00 0.21352     0.1800      \n",
       "180             36   Completed  2013-02-08 00:00:00 0.38127     0.3400      \n",
       "181             36   Completed  2010-01-11 00:00:00 0.22237     0.2000      \n",
       "182             36   Completed  2010-10-15 00:00:00 0.37453     0.3500      \n",
       "183             36   Completed  2013-01-08 00:00:00 0.23784     0.2000      \n",
       "184             36   Completed  2013-02-14 00:00:00 0.37453     0.3500      \n",
       "185             36   Completed  2013-02-19 00:00:00 0.20918     0.1845      \n",
       "186             36   Completed  2013-11-08 00:00:00 0.35701     0.3100      \n",
       "187             36   Completed  2011-02-24 00:00:00 0.17066     0.1157      \n",
       "188             36   Completed  2009-12-08 00:00:00 0.20392     0.1818      \n",
       "189             36   Completed  2010-02-02 00:00:00 0.37453     0.3500      \n",
       "190             36   Completed  2013-01-29 00:00:00 0.28498     0.2500      \n",
       "191             36   Completed  2010-01-12 00:00:00 0.20504     0.1829      \n",
       "    LenderYield ... LP_ServiceFees LP_CollectionFees LP_GrossPrincipalLoss\n",
       "1   0.2000      ...  -15.46         0.00              383.08              \n",
       "2   0.3169      ...   -5.91         0.00                0.00              \n",
       "3   0.1900      ...  -14.35         0.00                0.00              \n",
       "4   0.3290      ...  -13.30         0.00                0.00              \n",
       "5   0.3400      ...  -24.48        -5.95             1170.57              \n",
       "6   0.3390      ...  -12.44         0.00             7256.40              \n",
       "7   0.3000      ...  -31.49         0.00                0.00              \n",
       "8   0.3300      ... -123.99         0.00             2684.45              \n",
       "9   0.2989      ...  -35.39         0.00                0.00              \n",
       "10  0.3400      ...  -24.61         0.00                0.00              \n",
       "11  0.3300      ...  -50.40         0.00                0.00              \n",
       "12  0.1705      ... -117.21         0.00                0.00              \n",
       "13  0.1727      ...   -9.61         0.00             1329.99              \n",
       "14  0.3400      ... -106.13         0.00                0.00              \n",
       "15  0.3340      ...  -31.10         0.00                0.00              \n",
       "16  0.2000      ...   -2.90         0.00                0.00              \n",
       "17  0.3000      ...  -53.09         0.00                0.00              \n",
       "18  0.3000      ...  -65.89         0.00                0.00              \n",
       "19  0.3400      ...  -30.67         0.00              126.98              \n",
       "20  0.3197      ...  -32.02         0.00                0.00              \n",
       "21  0.3400      ...  -13.15         0.00             3287.79              \n",
       "22  0.1694      ...  -28.18         0.00                0.00              \n",
       "23  0.0806      ... -162.60         0.00                0.00              \n",
       "24  0.3400      ...  -46.76         0.00                0.00              \n",
       "25  0.3400      ...  -61.97         0.00                0.00              \n",
       "26  0.3400      ...   -5.15         0.00                0.00              \n",
       "27  0.0795      ...   -4.89         0.00                0.00              \n",
       "28  0.2185      ...  -34.24         0.00                0.00              \n",
       "29  0.3400      ...  -16.14         0.00                0.00              \n",
       "30  0.3400      ...  -36.28         0.00                0.00              \n",
       "... ...             ...            ...               ...                  \n",
       "162 0.1900      ...   -9.00          0.00            4576.98              \n",
       "163 0.1729      ...  -39.61          0.00               0.00              \n",
       "164 0.3400      ...  -50.58        -77.01            2513.24              \n",
       "165 0.1800      ...  -39.49          0.00               0.00              \n",
       "166 0.1800      ...  -25.31          0.00               0.00              \n",
       "167 0.2500      ...  -17.37          0.00               0.00              \n",
       "168 0.1723      ...  -25.13          0.00               0.00              \n",
       "169 0.3400      ...  -16.10          0.00               0.00              \n",
       "170 0.3400      ...  -39.46          0.00             829.70              \n",
       "171 0.1903      ...  -20.43          0.00               0.00              \n",
       "172 0.3400      ...   -5.41          0.00               0.00              \n",
       "173 0.3399      ...  -58.20          0.00               0.00              \n",
       "174 0.0593      ... -127.58          0.00               0.00              \n",
       "175 0.3400      ...  -44.99          0.00               0.00              \n",
       "176 0.1495      ...  -32.95          0.00               0.00              \n",
       "177 0.3400      ...  -57.59          0.00            6123.56              \n",
       "178 0.2550      ... -106.26        -80.31               0.00              \n",
       "179 0.1700      ...  -52.12          0.00               0.00              \n",
       "180 0.3300      ...  -23.67          0.00               0.00              \n",
       "181 0.1900      ...  -14.66          0.00               0.00              \n",
       "182 0.3400      ...  -26.51          0.00               0.00              \n",
       "183 0.1900      ...  -16.76          0.00               0.00              \n",
       "184 0.3400      ... -143.57          0.00               0.00              \n",
       "185 0.1745      ...  -25.16          0.00               0.00              \n",
       "186 0.3000      ...  -22.98          0.00               0.00              \n",
       "187 0.1057      ...   -0.78          0.00               0.00              \n",
       "188 0.1718      ...   -6.43          0.00               0.00              \n",
       "189 0.3400      ...  -17.38          0.00               0.00              \n",
       "190 0.2400      ...  -45.52          0.00               0.00              \n",
       "191 0.1729      ...   -4.66          0.00               0.00              \n",
       "    LP_NetPrincipalLoss LP_NonPrincipalRecoverypayments PercentFunded\n",
       "1    383.08             0                               1            \n",
       "2      0.00             0                               1            \n",
       "3      0.00             0                               1            \n",
       "4      0.00             0                               1            \n",
       "5   1170.57             0                               1            \n",
       "6   7256.40             0                               1            \n",
       "7      0.00             0                               1            \n",
       "8   2684.45             0                               1            \n",
       "9      0.00             0                               1            \n",
       "10     0.00             0                               1            \n",
       "11     0.00             0                               1            \n",
       "12     0.00             0                               1            \n",
       "13  1312.56             0                               1            \n",
       "14     0.00             0                               1            \n",
       "15     0.00             0                               1            \n",
       "16     0.00             0                               1            \n",
       "17     0.00             0                               1            \n",
       "18     0.00             0                               1            \n",
       "19   126.98             0                               1            \n",
       "20     0.00             0                               1            \n",
       "21  3272.80             0                               1            \n",
       "22     0.00             0                               1            \n",
       "23     0.00             0                               1            \n",
       "24     0.00             0                               1            \n",
       "25     0.00             0                               1            \n",
       "26     0.00             0                               1            \n",
       "27     0.00             0                               1            \n",
       "28     0.00             0                               1            \n",
       "29     0.00             0                               1            \n",
       "30     0.00             0                               1            \n",
       "... ...                 ...                             ...          \n",
       "162 4576.97               0                             1            \n",
       "163    0.00               0                             1            \n",
       "164 2513.24             136                             1            \n",
       "165    0.00               0                             1            \n",
       "166    0.00               0                             1            \n",
       "167    0.00               0                             1            \n",
       "168    0.00               0                             1            \n",
       "169    0.00               0                             1            \n",
       "170  829.70               0                             1            \n",
       "171    0.00               0                             1            \n",
       "172    0.00               0                             1            \n",
       "173    0.00               0                             1            \n",
       "174    0.00               0                             1            \n",
       "175    0.00               0                             1            \n",
       "176    0.00               0                             1            \n",
       "177 6123.56               0                             1            \n",
       "178    0.00               0                             1            \n",
       "179    0.00               0                             1            \n",
       "180    0.00               0                             1            \n",
       "181    0.00               0                             1            \n",
       "182    0.00               0                             1            \n",
       "183    0.00               0                             1            \n",
       "184    0.00               0                             1            \n",
       "185    0.00               0                             1            \n",
       "186    0.00               0                             1            \n",
       "187    0.00               0                             1            \n",
       "188    0.00               0                             1            \n",
       "189    0.00               0                             1            \n",
       "190    0.00               0                             1            \n",
       "191    0.00               0                             1            \n",
       "    Recommendations InvestmentFromFriendsCount InvestmentFromFriendsAmount\n",
       "1   0               0                             0.00                    \n",
       "2   0               1                          1058.77                    \n",
       "3   0               0                             0.00                    \n",
       "4   0               1                           100.00                    \n",
       "5   0               0                             0.00                    \n",
       "6   0               0                             0.00                    \n",
       "7   0               0                             0.00                    \n",
       "8   0               0                             0.00                    \n",
       "9   1               1                            25.00                    \n",
       "10  0               0                             0.00                    \n",
       "11  0               0                             0.00                    \n",
       "12  0               0                             0.00                    \n",
       "13  0               0                             0.00                    \n",
       "14  0               0                             0.00                    \n",
       "15  0               0                             0.00                    \n",
       "16  0               0                             0.00                    \n",
       "17  1               0                             0.00                    \n",
       "18  0               0                             0.00                    \n",
       "19  0               0                             0.00                    \n",
       "20  0               0                             0.00                    \n",
       "21  0               0                             0.00                    \n",
       "22  1               2                          1774.42                    \n",
       "23  0               0                             0.00                    \n",
       "24  1               1                            25.00                    \n",
       "25  0               0                             0.00                    \n",
       "26  0               0                             0.00                    \n",
       "27  0               0                             0.00                    \n",
       "28  0               0                             0.00                    \n",
       "29  0               0                             0.00                    \n",
       "30  0               0                             0.00                    \n",
       "... ...             ...                        ...                        \n",
       "162 0               0                             0.00                    \n",
       "163 0               0                             0.00                    \n",
       "164 0               0                             0.00                    \n",
       "165 0               0                             0.00                    \n",
       "166 0               0                             0.00                    \n",
       "167 1               2                            55.00                    \n",
       "168 0               0                             0.00                    \n",
       "169 0               0                             0.00                    \n",
       "170 0               0                             0.00                    \n",
       "171 0               0                             0.00                    \n",
       "172 0               0                             0.00                    \n",
       "173 0               0                             0.00                    \n",
       "174 0               1                          4000.00                    \n",
       "175 0               0                             0.00                    \n",
       "176 0               0                             0.00                    \n",
       "177 1               1                          1748.66                    \n",
       "178 1               0                             0.00                    \n",
       "179 0               0                             0.00                    \n",
       "180 0               0                             0.00                    \n",
       "181 0               0                             0.00                    \n",
       "182 0               0                             0.00                    \n",
       "183 0               0                             0.00                    \n",
       "184 1               1                           200.08                    \n",
       "185 0               0                             0.00                    \n",
       "186 0               0                             0.00                    \n",
       "187 0               0                             0.00                    \n",
       "188 0               0                             0.00                    \n",
       "189 0               0                             0.00                    \n",
       "190 2               0                             0.00                    \n",
       "191 0               0                             0.00                    \n",
       "    Investors\n",
       "1    31      \n",
       "2    27      \n",
       "3    75      \n",
       "4    60      \n",
       "5    24      \n",
       "6    61      \n",
       "7    75      \n",
       "8    37      \n",
       "9   169      \n",
       "10    1      \n",
       "11   68      \n",
       "12    3      \n",
       "13    1      \n",
       "14   80      \n",
       "15   51      \n",
       "16   61      \n",
       "17   77      \n",
       "18   90      \n",
       "19   30      \n",
       "20   51      \n",
       "21    1      \n",
       "22   53      \n",
       "23    1      \n",
       "24   38      \n",
       "25   33      \n",
       "26   22      \n",
       "27   73      \n",
       "28  144      \n",
       "29   20      \n",
       "30   36      \n",
       "... ...      \n",
       "162   1      \n",
       "163   4      \n",
       "164  38      \n",
       "165   1      \n",
       "166  12      \n",
       "167  31      \n",
       "168   3      \n",
       "169  28      \n",
       "170  42      \n",
       "171  48      \n",
       "172  29      \n",
       "173  81      \n",
       "174   2      \n",
       "175  43      \n",
       "176  14      \n",
       "177  20      \n",
       "178  82      \n",
       "179  63      \n",
       "180  20      \n",
       "181   1      \n",
       "182  48      \n",
       "183  71      \n",
       "184  32      \n",
       "185  21      \n",
       "186  33      \n",
       "187  12      \n",
       "188   8      \n",
       "189   1      \n",
       "190 121      \n",
       "191   1      "
      ]
     },
     "metadata": {},
     "output_type": "display_data"
    }
   ],
   "source": [
    "negativeExpectedYield"
   ]
  },
  {
   "cell_type": "markdown",
   "metadata": {
    "deletable": true,
    "editable": true
   },
   "source": [
    "The first thing that jumps out is that they are all either completed or Charged off. Perhaps the completed ones were paid early, and with fees their yield bacome negative? Chargedoff Loans the lender is losting out on , period - by why do they seem so prevalent in the middle term?"
   ]
  },
  {
   "cell_type": "code",
   "execution_count": 70,
   "metadata": {
    "collapsed": false,
    "deletable": true,
    "editable": true
   },
   "outputs": [
    {
     "data": {
      "text/plain": [
       "                   ListingKey  ListingNumber   \n",
       " 009B3495741061236C0C927:  1   Min.   :416595  \n",
       " 02283482060850607BC27FE:  1   1st Qu.:433135  \n",
       " 02933496318097934A683F4:  1   Median :456357  \n",
       " 029A3499706893097DB1393:  1   Mean   :455962  \n",
       " 038535015703591930CD2E0:  1   3rd Qu.:477670  \n",
       " 03AA34675425410661C8213:  1   Max.   :487169  \n",
       " (Other)                :185                   \n",
       "                    ListingCreationDate  CreditGrade       Term   \n",
       " 2009-07-14 21:09:50.017000000:  1             :191   Min.   :36  \n",
       " 2009-07-17 13:57:20.620000000:  1      A      :  0   1st Qu.:36  \n",
       " 2009-07-23 16:16:18.167000000:  1      AA     :  0   Median :36  \n",
       " 2009-07-31 15:25:54.323000000:  1      B      :  0   Mean   :36  \n",
       " 2009-07-31 15:41:11.917000000:  1      C      :  0   3rd Qu.:36  \n",
       " 2009-08-04 12:24:33.823000000:  1      D      :  0   Max.   :36  \n",
       " (Other)                      :185      (Other):  0               \n",
       "                  LoanStatus                ClosedDate   BorrowerAPR     \n",
       " Completed             :147   2013-05-18 00:00:00:  3   Min.   :0.08999  \n",
       " Chargedoff            : 42   2010-02-03 00:00:00:  2   1st Qu.:0.21266  \n",
       " Defaulted             :  2   2010-10-15 00:00:00:  2   Median :0.28902  \n",
       " Cancelled             :  0   2011-03-01 00:00:00:  2   Mean   :0.29316  \n",
       " Current               :  0   2011-04-14 00:00:00:  2   3rd Qu.:0.37453  \n",
       " FinalPaymentInProgress:  0   2011-04-28 00:00:00:  2   Max.   :0.41355  \n",
       " (Other)               :  0   (Other)            :178                    \n",
       "  BorrowerRate     LenderYield     EstimatedEffectiveYield EstimatedLoss   \n",
       " Min.   :0.0693   Min.   :0.0593   Min.   :-0.18270        Min.   :0.0595  \n",
       " 1st Qu.:0.1829   1st Qu.:0.1729   1st Qu.:-0.06315        1st Qu.:0.1900  \n",
       " Median :0.2500   Median :0.2400   Median :-0.03390        Median :0.3450  \n",
       " Mean   :0.2602   Mean   :0.2502   Mean   :-0.04777        Mean   :0.2836  \n",
       " 3rd Qu.:0.3500   3rd Qu.:0.3400   3rd Qu.:-0.01770        3rd Qu.:0.3660  \n",
       " Max.   :0.3500   Max.   :0.3400   Max.   : 0.00000        Max.   :0.3660  \n",
       "                                                                           \n",
       " EstimatedReturn    ProsperRating..numeric. ProsperRating..Alpha.\n",
       " Min.   :-0.18270   Min.   :1.000           HR     :178          \n",
       " 1st Qu.:-0.06315   1st Qu.:1.000           E      :  7          \n",
       " Median :-0.03390   Median :1.000           C      :  3          \n",
       " Mean   :-0.04777   Mean   :1.126           D      :  2          \n",
       " 3rd Qu.:-0.01770   3rd Qu.:1.000           B      :  1          \n",
       " Max.   : 0.00000   Max.   :5.000                  :  0          \n",
       "                                            (Other):  0          \n",
       "  ProsperScore   ListingCategory..numeric. BorrowerState\n",
       " Min.   :1.000   Min.   :1.000             CA     :33   \n",
       " 1st Qu.:1.000   1st Qu.:1.000             MI     :15   \n",
       " Median :1.000   Median :2.000             FL     :13   \n",
       " Mean   :2.455   Mean   :3.246             GA     :13   \n",
       " 3rd Qu.:4.000   3rd Qu.:6.000             CO     : 9   \n",
       " Max.   :9.000   Max.   :7.000             TX     : 9   \n",
       "                                           (Other):99   \n",
       "                    Occupation      EmploymentStatus EmploymentStatusDuration\n",
       " Other                   :50   Full-time    :108     Min.   :  0.00          \n",
       " Professional            :23   Employed     : 33     1st Qu.: 26.50          \n",
       " Military Enlisted       :14   Self-employed: 33     Median : 68.00          \n",
       " Teacher                 :10   Retired      :  8     Mean   : 84.57          \n",
       " Sales - Retail          : 7   Not employed :  5     3rd Qu.:123.50          \n",
       " Administrative Assistant: 6   Part-time    :  4     Max.   :303.00          \n",
       " (Other)                 :81   (Other)      :  0                             \n",
       " IsBorrowerHomeowner CurrentlyInGroup                    GroupKey  \n",
       " False: 91           False:143                               :143  \n",
       " True :100           True : 48        3D4D3366260257624AB272D:  7  \n",
       "                                      52EA3425051368132B80C96:  6  \n",
       "                                      C48E3419578591276DB6752:  4  \n",
       "                                      C95834619831959805D1458:  4  \n",
       "                                      87AF336457453170468EEA4:  3  \n",
       "                                      (Other)                : 24  \n",
       "            DateCreditPulled CreditScoreRangeLower CreditScoreRangeUpper\n",
       " 2009-07-14 07:40:03:  1     Min.   :600.0         Min.   :619.0        \n",
       " 2009-07-17 13:41:18:  1     1st Qu.:620.0         1st Qu.:639.0        \n",
       " 2009-07-19 06:49:16:  1     Median :640.0         Median :659.0        \n",
       " 2009-07-25 07:32:17:  1     Mean   :657.3         Mean   :676.3        \n",
       " 2009-07-30 15:01:34:  1     3rd Qu.:680.0         3rd Qu.:699.0        \n",
       " 2009-07-31 15:40:14:  1     Max.   :820.0         Max.   :839.0        \n",
       " (Other)            :185                                                \n",
       "        FirstRecordedCreditLine CurrentCreditLines OpenCreditLines \n",
       " 1988-03-01 00:00:00:  3        Min.   : 0.000     Min.   : 0.000  \n",
       " 1982-06-08 00:00:00:  2        1st Qu.: 5.000     1st Qu.: 4.000  \n",
       " 1985-04-01 00:00:00:  2        Median : 9.000     Median : 7.000  \n",
       " 1991-11-01 00:00:00:  2        Mean   : 9.335     Mean   : 7.958  \n",
       " 1992-02-01 00:00:00:  2        3rd Qu.:12.500     3rd Qu.:11.000  \n",
       " 1993-05-18 00:00:00:  2        Max.   :34.000     Max.   :30.000  \n",
       " (Other)            :178                                           \n",
       " TotalCreditLinespast7years OpenRevolvingAccounts OpenRevolvingMonthlyPayment\n",
       " Min.   : 3.00              Min.   : 0.000        Min.   :   0               \n",
       " 1st Qu.:16.50              1st Qu.: 2.000        1st Qu.:  40               \n",
       " Median :27.00              Median : 4.000        Median : 132               \n",
       " Mean   :29.17              Mean   : 5.147        Mean   : 248               \n",
       " 3rd Qu.:40.50              3rd Qu.: 7.000        3rd Qu.: 337               \n",
       " Max.   :81.00              Max.   :23.000        Max.   :2483               \n",
       "                                                                             \n",
       " InquiriesLast6Months TotalInquiries   CurrentDelinquencies AmountDelinquent  \n",
       " Min.   : 0.000       Min.   : 0.000   Min.   : 0.000       Min.   :     0.0  \n",
       " 1st Qu.: 1.000       1st Qu.: 4.000   1st Qu.: 0.000       1st Qu.:     0.0  \n",
       " Median : 2.000       Median : 8.000   Median : 0.000       Median :     0.0  \n",
       " Mean   : 3.052       Mean   : 9.895   Mean   : 1.298       Mean   :  1878.3  \n",
       " 3rd Qu.: 4.000       3rd Qu.:14.000   3rd Qu.: 1.000       3rd Qu.:   409.5  \n",
       " Max.   :17.000       Max.   :46.000   Max.   :17.000       Max.   :101497.0  \n",
       "                                                                              \n",
       " DelinquenciesLast7Years PublicRecordsLast10Years PublicRecordsLast12Months\n",
       " Min.   : 0.000          Min.   :0.0000           Min.   :0.00000          \n",
       " 1st Qu.: 0.000          1st Qu.:0.0000           1st Qu.:0.00000          \n",
       " Median : 0.000          Median :0.0000           Median :0.00000          \n",
       " Mean   : 5.319          Mean   :0.3613           Mean   :0.02618          \n",
       " 3rd Qu.: 6.000          3rd Qu.:1.0000           3rd Qu.:0.00000          \n",
       " Max.   :99.000          Max.   :4.0000           Max.   :1.00000          \n",
       "                                                                           \n",
       " RevolvingCreditBalance BankcardUtilization AvailableBankcardCredit\n",
       " Min.   :     0.0       Min.   :0.0000      Min.   :    0.0        \n",
       " 1st Qu.:   743.5       1st Qu.:0.0950      1st Qu.:   11.5        \n",
       " Median :  4021.0       Median :0.7800      Median :  251.0        \n",
       " Mean   :  9098.4       Mean   :0.5939      Mean   : 2403.0        \n",
       " 3rd Qu.: 10771.5       3rd Qu.:0.9450      3rd Qu.: 1664.5        \n",
       " Max.   :131711.0       Max.   :1.2500      Max.   :36522.0        \n",
       "                                                                   \n",
       "  TotalTrades    TradesNeverDelinquent..percentage. TradesOpenedLast6Months\n",
       " Min.   : 1.00   Min.   :0.2000                     Min.   : 0.00          \n",
       " 1st Qu.:13.00   1st Qu.:0.7350                     1st Qu.: 0.00          \n",
       " Median :22.00   Median :0.8600                     Median : 1.00          \n",
       " Mean   :23.83   Mean   :0.8338                     Mean   : 1.22          \n",
       " 3rd Qu.:33.00   3rd Qu.:1.0000                     3rd Qu.: 2.00          \n",
       " Max.   :73.00   Max.   :1.0000                     Max.   :10.00          \n",
       "                                                                           \n",
       " DebtToIncomeRatio         IncomeRange IncomeVerifiable StatedMonthlyIncome\n",
       " Min.   :0.0200    $25,000-49,999:68   False: 55        Min.   :    0      \n",
       " 1st Qu.:0.1875    $50,000-74,999:56   True :136        1st Qu.: 2583      \n",
       " Median :0.2700    $1-24,999     :21                    Median : 4167      \n",
       " Mean   :0.3147    $100,000+     :20                    Mean   : 4719      \n",
       " 3rd Qu.:0.3600    $75,000-99,999:20                    3rd Qu.: 5833      \n",
       " Max.   :2.2000    Not employed  : 5                    Max.   :33333      \n",
       " NA's   :55        (Other)       : 1                                       \n",
       "                    LoanKey    TotalProsperLoans TotalProsperPaymentsBilled\n",
       " 079C3578185442353B42558:  1   Min.   :1.000     Min.   : 1.00             \n",
       " 096C3600123993142C20218:  1   1st Qu.:1.000     1st Qu.:16.00             \n",
       " 0AF1360230099663244AB4D:  1   Median :1.000     Median :25.50             \n",
       " 0B8D35733283763066B9CA1:  1   Mean   :1.384     Mean   :29.09             \n",
       " 0C9B35732006798939C6189:  1   3rd Qu.:2.000     3rd Qu.:36.00             \n",
       " 0D143601765446499C3D8B3:  1   Max.   :4.000     Max.   :76.00             \n",
       " (Other)                :185   NA's   :53        NA's   :53                \n",
       " OnTimeProsperPayments ProsperPaymentsLessThanOneMonthLate\n",
       " Min.   : 1.0          Min.   :0.0000                     \n",
       " 1st Qu.:16.0          1st Qu.:0.0000                     \n",
       " Median :24.5          Median :0.0000                     \n",
       " Mean   :28.7          Mean   :0.3768                     \n",
       " 3rd Qu.:35.0          3rd Qu.:0.0000                     \n",
       " Max.   :76.0          Max.   :6.0000                     \n",
       " NA's   :53            NA's   :53                         \n",
       " ProsperPaymentsOneMonthPlusLate ProsperPrincipalBorrowed\n",
       " Min.   :0.00000                 Min.   : 1000           \n",
       " 1st Qu.:0.00000                 1st Qu.: 2000           \n",
       " Median :0.00000                 Median : 3500           \n",
       " Mean   :0.00725                 Mean   : 5895           \n",
       " 3rd Qu.:0.00000                 3rd Qu.: 7750           \n",
       " Max.   :1.00000                 Max.   :35000           \n",
       " NA's   :53                      NA's   :53              \n",
       " ProsperPrincipalOutstanding ScorexChangeAtTimeOfListing\n",
       " Min.   :   0.00             Min.   :-143.00            \n",
       " 1st Qu.:   0.01             1st Qu.:  -9.00            \n",
       " Median : 676.78             Median :  19.00            \n",
       " Mean   :1104.62             Mean   :  25.49            \n",
       " 3rd Qu.:1570.40             3rd Qu.:  60.50            \n",
       " Max.   :8198.38             Max.   : 241.00            \n",
       " NA's   :53                  NA's   :53                 \n",
       " LoanCurrentDaysDelinquent LoanFirstDefaultedCycleNumber\n",
       " Min.   :   0.0            Min.   : 1.00                \n",
       " 1st Qu.:   0.0            1st Qu.: 8.75                \n",
       " Median :   0.0            Median :16.50                \n",
       " Mean   : 206.1            Mean   :17.86                \n",
       " 3rd Qu.:   0.0            3rd Qu.:24.00                \n",
       " Max.   :1540.0            Max.   :40.00                \n",
       "                           NA's   :147                  \n",
       " LoanMonthsSinceOrigination   LoanNumber    LoanOriginalAmount\n",
       " Min.   :39.00              Min.   :38061   Min.   : 1000     \n",
       " 1st Qu.:41.00              1st Qu.:39653   1st Qu.: 1500     \n",
       " Median :46.00              Median :42534   Median : 2375     \n",
       " Mean   :46.06              Mean   :42427   Mean   : 3359     \n",
       " 3rd Qu.:52.00              3rd Qu.:44793   3rd Qu.: 4000     \n",
       " Max.   :56.00              Max.   :46098   Max.   :15000     \n",
       "                                                              \n",
       "          LoanOriginationDate LoanOriginationQuarter\n",
       " 2010-10-13 00:00:00:  5      Q4 2010:62            \n",
       " 2009-11-10 00:00:00:  4      Q4 2009:39            \n",
       " 2009-11-18 00:00:00:  3      Q3 2010:25            \n",
       " 2009-11-30 00:00:00:  3      Q2 2010:24            \n",
       " 2010-07-29 00:00:00:  3      Q1 2010:21            \n",
       " 2010-11-12 00:00:00:  3      Q3 2009:20            \n",
       " (Other)            :170      (Other): 0            \n",
       "                   MemberKey   MonthlyLoanPayment LP_CustomerPayments\n",
       " 1ACE3369930823000F335D1:  2   Min.   :  0.00     Min.   :    0      \n",
       " 233833917424416802837ED:  2   1st Qu.: 54.68     1st Qu.: 1445      \n",
       " 02193381466293394735726:  1   Median : 90.61     Median : 2527      \n",
       " 0303343173529627211CD29:  1   Mean   :135.06     Mean   : 3647      \n",
       " 0465336599513925256A8CC:  1   3rd Qu.:174.04     3rd Qu.: 4766      \n",
       " 0470339919173724675477C:  1   Max.   :678.37     Max.   :21302      \n",
       " (Other)                :183                                         \n",
       " LP_CustomerPrincipalPayments LP_InterestandFees LP_ServiceFees   \n",
       " Min.   :    0                Min.   :   0.0     Min.   :-235.52  \n",
       " 1st Qu.: 1000                1st Qu.: 311.8     1st Qu.: -44.66  \n",
       " Median : 1600                Median : 563.7     Median : -24.48  \n",
       " Mean   : 2681                Mean   : 965.4     Mean   : -34.86  \n",
       " 3rd Qu.: 3500                3rd Qu.:1275.6     3rd Qu.: -13.22  \n",
       " Max.   :13000                Max.   :8302.4     Max.   :   0.00  \n",
       "                                                                  \n",
       " LP_CollectionFees LP_GrossPrincipalLoss LP_NetPrincipalLoss\n",
       " Min.   :-793.04   Min.   :    0.0       Min.   :    0.0    \n",
       " 1st Qu.:   0.00   1st Qu.:    0.0       1st Qu.:    0.0    \n",
       " Median :   0.00   Median :    0.0       Median :    0.0    \n",
       " Mean   : -14.68   Mean   :  675.2       Mean   :  666.4    \n",
       " 3rd Qu.:   0.00   3rd Qu.:    0.0       3rd Qu.:    0.0    \n",
       " Max.   :   0.00   Max.   :14579.6       Max.   :14579.6    \n",
       "                                                            \n",
       " LP_NonPrincipalRecoverypayments PercentFunded Recommendations \n",
       " Min.   :   0.00                 Min.   :1     Min.   :0.0000  \n",
       " 1st Qu.:   0.00                 1st Qu.:1     1st Qu.:0.0000  \n",
       " Median :   0.00                 Median :1     Median :0.0000  \n",
       " Mean   :  22.72                 Mean   :1     Mean   :0.2461  \n",
       " 3rd Qu.:   0.00                 3rd Qu.:1     3rd Qu.:0.0000  \n",
       " Max.   :2443.00                 Max.   :1     Max.   :4.0000  \n",
       "                                                               \n",
       " InvestmentFromFriendsCount InvestmentFromFriendsAmount   Investors     \n",
       " Min.   :0.000              Min.   :   0.0              Min.   :  1.00  \n",
       " 1st Qu.:0.000              1st Qu.:   0.0              1st Qu.: 12.00  \n",
       " Median :0.000              Median :   0.0              Median : 33.00  \n",
       " Mean   :0.199              Mean   : 221.3              Mean   : 40.92  \n",
       " 3rd Qu.:0.000              3rd Qu.:   0.0              3rd Qu.: 61.00  \n",
       " Max.   :3.000              Max.   :7000.0              Max.   :169.00  \n",
       "                                                                        "
      ]
     },
     "metadata": {},
     "output_type": "display_data"
    }
   ],
   "source": [
    "summary(negativeExpectedYield)"
   ]
  },
  {
   "cell_type": "markdown",
   "metadata": {
    "deletable": true,
    "editable": true
   },
   "source": [
    "147 Completed, 42 Charged off in this subset. Definitely want to take a closer look at the completed.\n",
    "Median borrower APR: .28902\n",
    "Todo: Difference between Rate and APR\n",
    "EstimatedLoss : would also be good to look at. Median .345\n",
    "Can look at their prosperScores. \n",
    "Occpation: 'Other' is way out in front. Is this due to a high portion of the pop nbnot having one of the listed jobs?\n",
    "Credit is confusing here because this group also contains complete, likely paid off early loans.\n",
    "WOnder if I could find 'the most ridiculous loan issued?\n",
    "Income Range of Charged off Loans. \n",
    "Income Verified?\n",
    "Propser Principal Borrowed - didnt even know about this variable.\n",
    "ProsperPrincipal Outstanding\n",
    "LoanFirstDefaultedCycleNumber\n",
    "LoanMonthsSinceOrigination\n",
    "Loan Original Amount - how is this different from ProsperPrincipalBorrowed?\n",
    "LPCustomerPrincipalPayments"
   ]
  },
  {
   "cell_type": "code",
   "execution_count": 71,
   "metadata": {
    "collapsed": false,
    "deletable": true,
    "editable": true
   },
   "outputs": [
    {
     "data": {
      "text/html": [
       "<dl class=dl-horizontal>\n",
       "\t<dt>$0</dt>\n",
       "\t\t<dd>621</dd>\n",
       "\t<dt>$1-24,999</dt>\n",
       "\t\t<dd>7274</dd>\n",
       "\t<dt>$100,000+</dt>\n",
       "\t\t<dd>17337</dd>\n",
       "\t<dt>$25,000-49,999</dt>\n",
       "\t\t<dd>32192</dd>\n",
       "\t<dt>$50,000-74,999</dt>\n",
       "\t\t<dd>31050</dd>\n",
       "\t<dt>$75,000-99,999</dt>\n",
       "\t\t<dd>16916</dd>\n",
       "\t<dt>Not displayed</dt>\n",
       "\t\t<dd>7741</dd>\n",
       "\t<dt>Not employed</dt>\n",
       "\t\t<dd>806</dd>\n",
       "</dl>\n"
      ],
      "text/latex": [
       "\\begin{description*}\n",
       "\\item[\\textbackslash{}\\$0] 621\n",
       "\\item[\\textbackslash{}\\$1-24,999] 7274\n",
       "\\item[\\textbackslash{}\\$100,000+] 17337\n",
       "\\item[\\textbackslash{}\\$25,000-49,999] 32192\n",
       "\\item[\\textbackslash{}\\$50,000-74,999] 31050\n",
       "\\item[\\textbackslash{}\\$75,000-99,999] 16916\n",
       "\\item[Not displayed] 7741\n",
       "\\item[Not employed] 806\n",
       "\\end{description*}\n"
      ],
      "text/markdown": [
       "$0\n",
       ":   621$1-24,999\n",
       ":   7274$100,000+\n",
       ":   17337$25,000-49,999\n",
       ":   32192$50,000-74,999\n",
       ":   31050$75,000-99,999\n",
       ":   16916Not displayed\n",
       ":   7741Not employed\n",
       ":   806\n",
       "\n"
      ],
      "text/plain": [
       "            $0      $1-24,999      $100,000+ $25,000-49,999 $50,000-74,999 \n",
       "           621           7274          17337          32192          31050 \n",
       "$75,000-99,999  Not displayed   Not employed \n",
       "         16916           7741            806 "
      ]
     },
     "metadata": {},
     "output_type": "display_data"
    }
   ],
   "source": [
    "#The question is: does a person's income affect the term of the loan they take out.\n",
    "#put all the names of the income groups in a vector\n",
    "summary(datadf$IncomeRange) #to check names"
   ]
  },
  {
   "cell_type": "code",
   "execution_count": 72,
   "metadata": {
    "collapsed": false,
    "deletable": true,
    "editable": true
   },
   "outputs": [
    {
     "data": {
      "text/html": [
       "<ol class=list-inline>\n",
       "\t<li>'$0'</li>\n",
       "\t<li>'$1-24,999'</li>\n",
       "\t<li>'$100,000+'</li>\n",
       "\t<li>'$25,000-49,999'</li>\n",
       "\t<li>'$50,000-74,999'</li>\n",
       "\t<li>'$75,000-99,999'</li>\n",
       "\t<li>'Not displayed'</li>\n",
       "\t<li>'Not employed'</li>\n",
       "</ol>\n"
      ],
      "text/latex": [
       "\\begin{enumerate*}\n",
       "\\item '\\$0'\n",
       "\\item '\\$1-24,999'\n",
       "\\item '\\$100,000+'\n",
       "\\item '\\$25,000-49,999'\n",
       "\\item '\\$50,000-74,999'\n",
       "\\item '\\$75,000-99,999'\n",
       "\\item 'Not displayed'\n",
       "\\item 'Not employed'\n",
       "\\end{enumerate*}\n"
      ],
      "text/markdown": [
       "1. '$0'\n",
       "2. '$1-24,999'\n",
       "3. '$100,000+'\n",
       "4. '$25,000-49,999'\n",
       "5. '$50,000-74,999'\n",
       "6. '$75,000-99,999'\n",
       "7. 'Not displayed'\n",
       "8. 'Not employed'\n",
       "\n",
       "\n"
      ],
      "text/plain": [
       "[1] \"$0\"             \"$1-24,999\"      \"$100,000+\"      \"$25,000-49,999\"\n",
       "[5] \"$50,000-74,999\" \"$75,000-99,999\" \"Not displayed\"  \"Not employed\"  "
      ]
     },
     "metadata": {},
     "output_type": "display_data"
    }
   ],
   "source": [
    "levels(datadf$IncomeRange)"
   ]
  },
  {
   "cell_type": "code",
   "execution_count": 73,
   "metadata": {
    "collapsed": true,
    "deletable": true,
    "editable": true
   },
   "outputs": [],
   "source": [
    "datadf$IncomeRange <- factor(datadf$IncomeRange, levels = c(\"$0\", \"$1-24,999\", \"$25,000-49,999\", \"$50,000-74,999\", \n",
    "                                                            \"$100,000+\", \"Not displayed\", \"Not employed\"))"
   ]
  },
  {
   "cell_type": "code",
   "execution_count": 74,
   "metadata": {
    "collapsed": false,
    "deletable": true,
    "editable": true
   },
   "outputs": [
    {
     "data": {
      "text/html": [
       "<ol class=list-inline>\n",
       "\t<li>113937</li>\n",
       "\t<li>81</li>\n",
       "</ol>\n"
      ],
      "text/latex": [
       "\\begin{enumerate*}\n",
       "\\item 113937\n",
       "\\item 81\n",
       "\\end{enumerate*}\n"
      ],
      "text/markdown": [
       "1. 113937\n",
       "2. 81\n",
       "\n",
       "\n"
      ],
      "text/plain": [
       "[1] 113937     81"
      ]
     },
     "metadata": {},
     "output_type": "display_data"
    },
    {
     "data": {
      "text/html": [
       "<ol class=list-inline>\n",
       "\t<li>105390</li>\n",
       "\t<li>81</li>\n",
       "</ol>\n"
      ],
      "text/latex": [
       "\\begin{enumerate*}\n",
       "\\item 105390\n",
       "\\item 81\n",
       "\\end{enumerate*}\n"
      ],
      "text/markdown": [
       "1. 105390\n",
       "2. 81\n",
       "\n",
       "\n"
      ],
      "text/plain": [
       "[1] 105390     81"
      ]
     },
     "metadata": {},
     "output_type": "display_data"
    }
   ],
   "source": [
    "dim(datadf)\n",
    "with_income_info <- datadf %>%\n",
    "filter(!IncomeRange %in% c('Not displayed','Not employed'))\n",
    "dim(with_income_info)"
   ]
  },
  {
   "cell_type": "code",
   "execution_count": 75,
   "metadata": {
    "collapsed": false,
    "deletable": true,
    "editable": true
   },
   "outputs": [
    {
     "ename": "ERROR",
     "evalue": "Error in parse(text = x, srcfile = src): <text>:3:53: unexpected symbol\n2: #So that is Count of Income Using that Term / Count of People with that Income\n3: income_facet <- ggplot(with_income_info, aes(Income Range\n                                                       ^\n",
     "output_type": "error",
     "traceback": [
      "Error in parse(text = x, srcfile = src): <text>:3:53: unexpected symbol\n2: #So that is Count of Income Using that Term / Count of People with that Income\n3: income_facet <- ggplot(with_income_info, aes(Income Range\n                                                       ^\nTraceback:\n"
     ]
    }
   ],
   "source": [
    "#makes sense to use percentage here, or comparing apples to oranges.\n",
    "#So that is Count of Income Using that Term / Count of People with that Income\n",
    "income_facet <- ggplot(with_income_info, aes(Income Range)) + geom_bar()"
   ]
  },
  {
   "cell_type": "code",
   "execution_count": 76,
   "metadata": {
    "collapsed": false,
    "deletable": true,
    "editable": true
   },
   "outputs": [
    {
     "name": "stderr",
     "output_type": "stream",
     "text": [
      "Warning message:\n",
      "\"position_dodge requires non-overlapping x intervals\""
     ]
    },
    {
     "data": {},
     "metadata": {},
     "output_type": "display_data"
    },
    {
     "data": {
      "image/png": "[encoded data removed]",
      "text/plain": [
       "plot without title"
      ]
     },
     "metadata": {},
     "output_type": "display_data"
    }
   ],
   "source": [
    "ggplot(with_income_info, aes(Term, fill=IncomeRange)) + geom_bar(position=\"dodge\") "
   ]
  },
  {
   "cell_type": "code",
   "execution_count": null,
   "metadata": {
    "collapsed": true,
    "deletable": true,
    "editable": true
   },
   "outputs": [],
   "source": []
  },
  {
   "cell_type": "code",
   "execution_count": 77,
   "metadata": {
    "collapsed": false,
    "deletable": true,
    "editable": true
   },
   "outputs": [
    {
     "data": {},
     "metadata": {},
     "output_type": "display_data"
    },
    {
     "data": {
      "image/png": "[encoded data removed]",
      "text/plain": [
       "plot without title"
      ]
     },
     "metadata": {},
     "output_type": "display_data"
    }
   ],
   "source": [
    "#plotting term count grouped by incomerange, income range with term \n",
    "p <- with_income_info %>% group_by(IncomeRange) %>% count(Term) %>% arrange(IncomeRange, Term)\n",
    "ggplot(p, aes(Term))+geom_bar()\n",
    "#this deffinitely creates the right table - need to figure out how to plot it\n",
    "#might have to add 12 mo term to 0\n",
    "#OK - so doesn't like trying to plot 'objects of type grouped'. can i ungroup them or r\n",
    "#coerce them into being something else/"
   ]
  },
  {
   "cell_type": "code",
   "execution_count": 78,
   "metadata": {
    "collapsed": false,
    "deletable": true,
    "editable": true,
    "scrolled": true
   },
   "outputs": [
    {
     "data": {},
     "metadata": {},
     "output_type": "display_data"
    },
    {
     "data": {
      "image/png": "[encoded data removed]",
      "text/plain": [
       "plot without title"
      ]
     },
     "metadata": {},
     "output_type": "display_data"
    }
   ],
   "source": [
    "ggplot(with_income_info, aes(Term)) + geom_bar() + facet_wrap(~IncomeRange)"
   ]
  },
  {
   "cell_type": "markdown",
   "metadata": {
    "deletable": true,
    "editable": true
   },
   "source": [
    "#these graphs are still deficient because they're absolute, not perncentage /density"
   ]
  },
  {
   "cell_type": "code",
   "execution_count": null,
   "metadata": {
    "collapsed": false,
    "deletable": true,
    "editable": true
   },
   "outputs": [],
   "source": [
    "#for each income bucket, what percentage of loans are which term\n",
    "datadf %>%\n",
    "filter(IncomeRange )\n",
    "group_by(IncomeRange, Term) %>%\n",
    "summarise(number_of_loans = n()) %>%\n",
    "mutate(freq = number_of_loans / sum(number_of_loans)) \n"
   ]
  },
  {
   "cell_type": "code",
   "execution_count": 12,
   "metadata": {
    "collapsed": false,
    "deletable": true,
    "editable": true
   },
   "outputs": [
    {
     "data": {
      "text/html": [
       "<table>\n",
       "<thead><tr><th scope=col>Term</th><th scope=col>percentage_term</th></tr></thead>\n",
       "<tbody>\n",
       "\t<tr><td>12   </td><td> 1614</td></tr>\n",
       "\t<tr><td>36   </td><td>87778</td></tr>\n",
       "\t<tr><td>60   </td><td>24545</td></tr>\n",
       "</tbody>\n",
       "</table>\n"
      ],
      "text/latex": [
       "\\begin{tabular}{r|ll}\n",
       " Term & percentage\\_term\\\\\n",
       "\\hline\n",
       "\t 12    &  1614\\\\\n",
       "\t 36    & 87778\\\\\n",
       "\t 60    & 24545\\\\\n",
       "\\end{tabular}\n"
      ],
      "text/markdown": [
       "\n",
       "Term | percentage_term | \n",
       "|---|---|---|\n",
       "| 12    |  1614 | \n",
       "| 36    | 87778 | \n",
       "| 60    | 24545 | \n",
       "\n",
       "\n"
      ],
      "text/plain": [
       "  Term percentage_term\n",
       "1 12    1614          \n",
       "2 36   87778          \n",
       "3 60   24545          "
      ]
     },
     "metadata": {},
     "output_type": "display_data"
    }
   ],
   "source": [
    "#for each income bucket, what percentage of loans are whic term\n",
    "datadf %>%\n",
    "select(ListingKey, Term, IncomeRange) %>%\n",
    "group_by(IncomeRange) %>%\n",
    "mutate(number_of_loans = n()) %>%\n",
    "group_by(Term) %>%\n",
    "summarize(percentage_term = n())"
   ]
  }
 ],
 "metadata": {
  "anaconda-cloud": {},
  "kernelspec": {
   "display_name": "R",
   "language": "R",
   "name": "ir"
  },
  "language_info": {
   "codemirror_mode": "r",
   "file_extension": ".r",
   "mimetype": "text/x-r-source",
   "name": "R",
   "pygments_lexer": "r",
   "version": "3.3.2"
  }
 },
 "nbformat": 4,
 "nbformat_minor": 2
}
